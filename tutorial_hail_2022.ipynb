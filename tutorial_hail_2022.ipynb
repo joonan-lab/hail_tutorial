{
 "cells": [
  {
   "cell_type": "markdown",
   "id": "bc632822-976b-4c2c-9502-ae6d93b5216b",
   "metadata": {
    "tags": []
   },
   "source": [
    "# Hail을 이용한 전장유전체 분석 기초 실습\n",
    "\n",
    "고려대학교 인간유전체 연구실 (안준용, 이혜지)\n",
    "\n",
    "Update: 2022/01/23\n",
    "\n",
    "Hail을 이용한 전장유전체 데이터 분석 튜토리얼에 오신 여러분을 환영합니다. \n",
    "\n",
    "본 튜토리얼을 구동하기 위해선, 최소 쿼드코어 CPU와 8Gb 메모리 이상의 컴퓨터가 필요합니다. 튜토리얼에 사용하는 데이터는 맨 아래 섹션인 Appendix에서 찾을수 있습니다. \n",
    "\n",
    "튜토리얼의 데이터는 [1000 Genome Project의 high coverage depth WGS](https://www.internationalgenome.org/data/) VCF 중 염색체 22번 일부를 임의로 추출하였습니다. \n",
    "\n"
   ]
  },
  {
   "cell_type": "markdown",
   "id": "8975e763",
   "metadata": {
    "toc": true
   },
   "source": [
    "<h1>Table of Contents<span class=\"tocSkip\"></span></h1>\n",
    "<div class=\"toc\"><ul class=\"toc-item\"><li><span><a href=\"#Hail-설정-및-데이터-불러들이기\" data-toc-modified-id=\"Hail-설정-및-데이터-불러들이기-1\"><span class=\"toc-item-num\">1&nbsp;&nbsp;</span>Hail 설정 및 데이터 불러들이기</a></span><ul class=\"toc-item\"><li><span><a href=\"#VCF-데이터-불러들이기\" data-toc-modified-id=\"VCF-데이터-불러들이기-1.1\"><span class=\"toc-item-num\">1.1&nbsp;&nbsp;</span>VCF 데이터 불러들이기</a></span><ul class=\"toc-item\"><li><span><a href=\"#Matrix-Table의-구조\" data-toc-modified-id=\"Matrix-Table의-구조-1.1.1\"><span class=\"toc-item-num\">1.1.1&nbsp;&nbsp;</span>Matrix Table의 구조</a></span><ul class=\"toc-item\"><li><span><a href=\"#Row-필드\" data-toc-modified-id=\"Row-필드-1.1.1.1\"><span class=\"toc-item-num\">1.1.1.1&nbsp;&nbsp;</span>Row 필드</a></span></li><li><span><a href=\"#Column-필드\" data-toc-modified-id=\"Column-필드-1.1.1.2\"><span class=\"toc-item-num\">1.1.1.2&nbsp;&nbsp;</span>Column 필드</a></span></li><li><span><a href=\"#Entry-필드\" data-toc-modified-id=\"Entry-필드-1.1.1.3\"><span class=\"toc-item-num\">1.1.1.3&nbsp;&nbsp;</span>Entry 필드</a></span></li></ul></li></ul></li><li><span><a href=\"#샘플-정보-불러들이기\" data-toc-modified-id=\"샘플-정보-불러들이기-1.2\"><span class=\"toc-item-num\">1.2&nbsp;&nbsp;</span>샘플 정보 불러들이기</a></span></li><li><span><a href=\"#Function-annotation-을-추가하기\" data-toc-modified-id=\"Function-annotation-을-추가하기-1.3\"><span class=\"toc-item-num\">1.3&nbsp;&nbsp;</span>Function annotation 을 추가하기</a></span></li></ul></li><li><span><a href=\"#Hail-기본-문법을-이용한-데이터-둘러보기\" data-toc-modified-id=\"Hail-기본-문법을-이용한-데이터-둘러보기-2\"><span class=\"toc-item-num\">2&nbsp;&nbsp;</span>Hail 기본 문법을 이용한 데이터 둘러보기</a></span><ul class=\"toc-item\"><li><span><a href=\"#유전변이-정보-확인하기\" data-toc-modified-id=\"유전변이-정보-확인하기-2.1\"><span class=\"toc-item-num\">2.1&nbsp;&nbsp;</span>유전변이 정보 확인하기</a></span></li><li><span><a href=\"#유전형-정보-확인하기\" data-toc-modified-id=\"유전형-정보-확인하기-2.2\"><span class=\"toc-item-num\">2.2&nbsp;&nbsp;</span>유전형 정보 확인하기</a></span></li><li><span><a href=\"#샘플-정보-확인하기\" data-toc-modified-id=\"샘플-정보-확인하기-2.3\"><span class=\"toc-item-num\">2.3&nbsp;&nbsp;</span>샘플 정보 확인하기</a></span></li></ul></li><li><span><a href=\"#품질지표-확인-및-정도관리\" data-toc-modified-id=\"품질지표-확인-및-정도관리-3\"><span class=\"toc-item-num\">3&nbsp;&nbsp;</span>품질지표 확인 및 정도관리</a></span><ul class=\"toc-item\"><li><span><a href=\"#샘플\" data-toc-modified-id=\"샘플-3.1\"><span class=\"toc-item-num\">3.1&nbsp;&nbsp;</span>샘플</a></span></li><li><span><a href=\"#유전변이\" data-toc-modified-id=\"유전변이-3.2\"><span class=\"toc-item-num\">3.2&nbsp;&nbsp;</span>유전변이</a></span></li><li><span><a href=\"#유전형\" data-toc-modified-id=\"유전형-3.3\"><span class=\"toc-item-num\">3.3&nbsp;&nbsp;</span>유전형</a></span></li></ul></li><li><span><a href=\"#Variant-Annotation-와-Classification-하기\" data-toc-modified-id=\"Variant-Annotation-와-Classification-하기-4\"><span class=\"toc-item-num\">4&nbsp;&nbsp;</span>Variant Annotation 와 Classification 하기</a></span><ul class=\"toc-item\"><li><span><a href=\"#VEP와-variant-annotation\" data-toc-modified-id=\"VEP와-variant-annotation-4.1\"><span class=\"toc-item-num\">4.1&nbsp;&nbsp;</span>VEP와 variant annotation</a></span></li><li><span><a href=\"#커스텀-데이터-사용\" data-toc-modified-id=\"커스텀-데이터-사용-4.2\"><span class=\"toc-item-num\">4.2&nbsp;&nbsp;</span>커스텀 데이터 사용</a></span></li></ul></li><li><span><a href=\"#Qualifying-variant-추출하기\" data-toc-modified-id=\"Qualifying-variant-추출하기-5\"><span class=\"toc-item-num\">5&nbsp;&nbsp;</span>Qualifying variant 추출하기</a></span><ul class=\"toc-item\"><li><span><a href=\"#신규변이-(de-novo-variant)\" data-toc-modified-id=\"신규변이-(de-novo-variant)-5.1\"><span class=\"toc-item-num\">5.1&nbsp;&nbsp;</span>신규변이 (de novo variant)</a></span></li><li><span><a href=\"#희귀변이-(Rare-Variants)\" data-toc-modified-id=\"희귀변이-(Rare-Variants)-5.2\"><span class=\"toc-item-num\">5.2&nbsp;&nbsp;</span>희귀변이 (Rare Variants)</a></span><ul class=\"toc-item\"><li><span><a href=\"#Rare-heterozygous-variant\" data-toc-modified-id=\"Rare-heterozygous-variant-5.2.1\"><span class=\"toc-item-num\">5.2.1&nbsp;&nbsp;</span>Rare heterozygous variant</a></span></li><li><span><a href=\"#Rare-Homozygous-variant\" data-toc-modified-id=\"Rare-Homozygous-variant-5.2.2\"><span class=\"toc-item-num\">5.2.2&nbsp;&nbsp;</span>Rare Homozygous variant</a></span></li></ul></li></ul></li><li><span><a href=\"#Association-testing\" data-toc-modified-id=\"Association-testing-6\"><span class=\"toc-item-num\">6&nbsp;&nbsp;</span>Association testing</a></span><ul class=\"toc-item\"><li><span><a href=\"#Linear-regression\" data-toc-modified-id=\"Linear-regression-6.1\"><span class=\"toc-item-num\">6.1&nbsp;&nbsp;</span>Linear regression</a></span></li></ul></li><li><span><a href=\"#Appendix\" data-toc-modified-id=\"Appendix-7\"><span class=\"toc-item-num\">7&nbsp;&nbsp;</span>Appendix</a></span></li></ul></div>"
   ]
  },
  {
   "cell_type": "markdown",
   "id": "4800049d",
   "metadata": {},
   "source": [
    "## Hail 설정 및 데이터 불러들이기"
   ]
  },
  {
   "cell_type": "code",
   "execution_count": 1,
   "id": "f078199b-b52d-4720-9f18-97b9ec603396",
   "metadata": {
    "ExecuteTime": {
     "end_time": "2022-01-17T10:50:31.570971Z",
     "start_time": "2022-01-17T10:50:29.868649Z"
    }
   },
   "outputs": [
    {
     "data": {
      "text/html": [
       "\n",
       "    <div class=\"bk-root\">\n",
       "        <a href=\"https://bokeh.org\" target=\"_blank\" class=\"bk-logo bk-logo-small bk-logo-notebook\"></a>\n",
       "        <span id=\"1001\">Loading BokehJS ...</span>\n",
       "    </div>"
      ]
     },
     "metadata": {},
     "output_type": "display_data"
    },
    {
     "data": {
      "application/javascript": [
       "\n",
       "(function(root) {\n",
       "  function now() {\n",
       "    return new Date();\n",
       "  }\n",
       "\n",
       "  var force = true;\n",
       "\n",
       "  if (typeof root._bokeh_onload_callbacks === \"undefined\" || force === true) {\n",
       "    root._bokeh_onload_callbacks = [];\n",
       "    root._bokeh_is_loading = undefined;\n",
       "  }\n",
       "\n",
       "  var JS_MIME_TYPE = 'application/javascript';\n",
       "  var HTML_MIME_TYPE = 'text/html';\n",
       "  var EXEC_MIME_TYPE = 'application/vnd.bokehjs_exec.v0+json';\n",
       "  var CLASS_NAME = 'output_bokeh rendered_html';\n",
       "\n",
       "  /**\n",
       "   * Render data to the DOM node\n",
       "   */\n",
       "  function render(props, node) {\n",
       "    var script = document.createElement(\"script\");\n",
       "    node.appendChild(script);\n",
       "  }\n",
       "\n",
       "  /**\n",
       "   * Handle when an output is cleared or removed\n",
       "   */\n",
       "  function handleClearOutput(event, handle) {\n",
       "    var cell = handle.cell;\n",
       "\n",
       "    var id = cell.output_area._bokeh_element_id;\n",
       "    var server_id = cell.output_area._bokeh_server_id;\n",
       "    // Clean up Bokeh references\n",
       "    if (id != null && id in Bokeh.index) {\n",
       "      Bokeh.index[id].model.document.clear();\n",
       "      delete Bokeh.index[id];\n",
       "    }\n",
       "\n",
       "    if (server_id !== undefined) {\n",
       "      // Clean up Bokeh references\n",
       "      var cmd = \"from bokeh.io.state import curstate; print(curstate().uuid_to_server['\" + server_id + \"'].get_sessions()[0].document.roots[0]._id)\";\n",
       "      cell.notebook.kernel.execute(cmd, {\n",
       "        iopub: {\n",
       "          output: function(msg) {\n",
       "            var id = msg.content.text.trim();\n",
       "            if (id in Bokeh.index) {\n",
       "              Bokeh.index[id].model.document.clear();\n",
       "              delete Bokeh.index[id];\n",
       "            }\n",
       "          }\n",
       "        }\n",
       "      });\n",
       "      // Destroy server and session\n",
       "      var cmd = \"import bokeh.io.notebook as ion; ion.destroy_server('\" + server_id + \"')\";\n",
       "      cell.notebook.kernel.execute(cmd);\n",
       "    }\n",
       "  }\n",
       "\n",
       "  /**\n",
       "   * Handle when a new output is added\n",
       "   */\n",
       "  function handleAddOutput(event, handle) {\n",
       "    var output_area = handle.output_area;\n",
       "    var output = handle.output;\n",
       "\n",
       "    // limit handleAddOutput to display_data with EXEC_MIME_TYPE content only\n",
       "    if ((output.output_type != \"display_data\") || (!output.data.hasOwnProperty(EXEC_MIME_TYPE))) {\n",
       "      return\n",
       "    }\n",
       "\n",
       "    var toinsert = output_area.element.find(\".\" + CLASS_NAME.split(' ')[0]);\n",
       "\n",
       "    if (output.metadata[EXEC_MIME_TYPE][\"id\"] !== undefined) {\n",
       "      toinsert[toinsert.length - 1].firstChild.textContent = output.data[JS_MIME_TYPE];\n",
       "      // store reference to embed id on output_area\n",
       "      output_area._bokeh_element_id = output.metadata[EXEC_MIME_TYPE][\"id\"];\n",
       "    }\n",
       "    if (output.metadata[EXEC_MIME_TYPE][\"server_id\"] !== undefined) {\n",
       "      var bk_div = document.createElement(\"div\");\n",
       "      bk_div.innerHTML = output.data[HTML_MIME_TYPE];\n",
       "      var script_attrs = bk_div.children[0].attributes;\n",
       "      for (var i = 0; i < script_attrs.length; i++) {\n",
       "        toinsert[toinsert.length - 1].firstChild.setAttribute(script_attrs[i].name, script_attrs[i].value);\n",
       "      }\n",
       "      // store reference to server id on output_area\n",
       "      output_area._bokeh_server_id = output.metadata[EXEC_MIME_TYPE][\"server_id\"];\n",
       "    }\n",
       "  }\n",
       "\n",
       "  function register_renderer(events, OutputArea) {\n",
       "\n",
       "    function append_mime(data, metadata, element) {\n",
       "      // create a DOM node to render to\n",
       "      var toinsert = this.create_output_subarea(\n",
       "        metadata,\n",
       "        CLASS_NAME,\n",
       "        EXEC_MIME_TYPE\n",
       "      );\n",
       "      this.keyboard_manager.register_events(toinsert);\n",
       "      // Render to node\n",
       "      var props = {data: data, metadata: metadata[EXEC_MIME_TYPE]};\n",
       "      render(props, toinsert[toinsert.length - 1]);\n",
       "      element.append(toinsert);\n",
       "      return toinsert\n",
       "    }\n",
       "\n",
       "    /* Handle when an output is cleared or removed */\n",
       "    events.on('clear_output.CodeCell', handleClearOutput);\n",
       "    events.on('delete.Cell', handleClearOutput);\n",
       "\n",
       "    /* Handle when a new output is added */\n",
       "    events.on('output_added.OutputArea', handleAddOutput);\n",
       "\n",
       "    /**\n",
       "     * Register the mime type and append_mime function with output_area\n",
       "     */\n",
       "    OutputArea.prototype.register_mime_type(EXEC_MIME_TYPE, append_mime, {\n",
       "      /* Is output safe? */\n",
       "      safe: true,\n",
       "      /* Index of renderer in `output_area.display_order` */\n",
       "      index: 0\n",
       "    });\n",
       "  }\n",
       "\n",
       "  // register the mime type if in Jupyter Notebook environment and previously unregistered\n",
       "  if (root.Jupyter !== undefined) {\n",
       "    var events = require('base/js/events');\n",
       "    var OutputArea = require('notebook/js/outputarea').OutputArea;\n",
       "\n",
       "    if (OutputArea.prototype.mime_types().indexOf(EXEC_MIME_TYPE) == -1) {\n",
       "      register_renderer(events, OutputArea);\n",
       "    }\n",
       "  }\n",
       "\n",
       "  \n",
       "  if (typeof (root._bokeh_timeout) === \"undefined\" || force === true) {\n",
       "    root._bokeh_timeout = Date.now() + 5000;\n",
       "    root._bokeh_failed_load = false;\n",
       "  }\n",
       "\n",
       "  var NB_LOAD_WARNING = {'data': {'text/html':\n",
       "     \"<div style='background-color: #fdd'>\\n\"+\n",
       "     \"<p>\\n\"+\n",
       "     \"BokehJS does not appear to have successfully loaded. If loading BokehJS from CDN, this \\n\"+\n",
       "     \"may be due to a slow or bad network connection. Possible fixes:\\n\"+\n",
       "     \"</p>\\n\"+\n",
       "     \"<ul>\\n\"+\n",
       "     \"<li>re-rerun `output_notebook()` to attempt to load from CDN again, or</li>\\n\"+\n",
       "     \"<li>use INLINE resources instead, as so:</li>\\n\"+\n",
       "     \"</ul>\\n\"+\n",
       "     \"<code>\\n\"+\n",
       "     \"from bokeh.resources import INLINE\\n\"+\n",
       "     \"output_notebook(resources=INLINE)\\n\"+\n",
       "     \"</code>\\n\"+\n",
       "     \"</div>\"}};\n",
       "\n",
       "  function display_loaded() {\n",
       "    var el = document.getElementById(\"1001\");\n",
       "    if (el != null) {\n",
       "      el.textContent = \"BokehJS is loading...\";\n",
       "    }\n",
       "    if (root.Bokeh !== undefined) {\n",
       "      if (el != null) {\n",
       "        el.textContent = \"BokehJS \" + root.Bokeh.version + \" successfully loaded.\";\n",
       "      }\n",
       "    } else if (Date.now() < root._bokeh_timeout) {\n",
       "      setTimeout(display_loaded, 100)\n",
       "    }\n",
       "  }\n",
       "\n",
       "\n",
       "  function run_callbacks() {\n",
       "    try {\n",
       "      root._bokeh_onload_callbacks.forEach(function(callback) {\n",
       "        if (callback != null)\n",
       "          callback();\n",
       "      });\n",
       "    } finally {\n",
       "      delete root._bokeh_onload_callbacks\n",
       "    }\n",
       "    console.debug(\"Bokeh: all callbacks have finished\");\n",
       "  }\n",
       "\n",
       "  function load_libs(css_urls, js_urls, callback) {\n",
       "    if (css_urls == null) css_urls = [];\n",
       "    if (js_urls == null) js_urls = [];\n",
       "\n",
       "    root._bokeh_onload_callbacks.push(callback);\n",
       "    if (root._bokeh_is_loading > 0) {\n",
       "      console.debug(\"Bokeh: BokehJS is being loaded, scheduling callback at\", now());\n",
       "      return null;\n",
       "    }\n",
       "    if (js_urls == null || js_urls.length === 0) {\n",
       "      run_callbacks();\n",
       "      return null;\n",
       "    }\n",
       "    console.debug(\"Bokeh: BokehJS not loaded, scheduling load and callback at\", now());\n",
       "    root._bokeh_is_loading = css_urls.length + js_urls.length;\n",
       "\n",
       "    function on_load() {\n",
       "      root._bokeh_is_loading--;\n",
       "      if (root._bokeh_is_loading === 0) {\n",
       "        console.debug(\"Bokeh: all BokehJS libraries/stylesheets loaded\");\n",
       "        run_callbacks()\n",
       "      }\n",
       "    }\n",
       "\n",
       "    function on_error() {\n",
       "      console.error(\"failed to load \" + url);\n",
       "    }\n",
       "\n",
       "    for (var i = 0; i < css_urls.length; i++) {\n",
       "      var url = css_urls[i];\n",
       "      const element = document.createElement(\"link\");\n",
       "      element.onload = on_load;\n",
       "      element.onerror = on_error;\n",
       "      element.rel = \"stylesheet\";\n",
       "      element.type = \"text/css\";\n",
       "      element.href = url;\n",
       "      console.debug(\"Bokeh: injecting link tag for BokehJS stylesheet: \", url);\n",
       "      document.body.appendChild(element);\n",
       "    }\n",
       "\n",
       "    for (var i = 0; i < js_urls.length; i++) {\n",
       "      var url = js_urls[i];\n",
       "      var element = document.createElement('script');\n",
       "      element.onload = on_load;\n",
       "      element.onerror = on_error;\n",
       "      element.async = false;\n",
       "      element.src = url;\n",
       "      console.debug(\"Bokeh: injecting script tag for BokehJS library: \", url);\n",
       "      document.head.appendChild(element);\n",
       "    }\n",
       "  };var element = document.getElementById(\"1001\");\n",
       "  if (element == null) {\n",
       "    console.error(\"Bokeh: ERROR: autoload.js configured with elementid '1001' but no matching script tag was found. \")\n",
       "    return false;\n",
       "  }\n",
       "\n",
       "  function inject_raw_css(css) {\n",
       "    const element = document.createElement(\"style\");\n",
       "    element.appendChild(document.createTextNode(css));\n",
       "    document.body.appendChild(element);\n",
       "  }\n",
       "\n",
       "  \n",
       "  var js_urls = [\"https://cdn.pydata.org/bokeh/release/bokeh-1.4.0.min.js\", \"https://cdn.pydata.org/bokeh/release/bokeh-widgets-1.4.0.min.js\", \"https://cdn.pydata.org/bokeh/release/bokeh-tables-1.4.0.min.js\", \"https://cdn.pydata.org/bokeh/release/bokeh-gl-1.4.0.min.js\"];\n",
       "  var css_urls = [];\n",
       "  \n",
       "\n",
       "  var inline_js = [\n",
       "    function(Bokeh) {\n",
       "      Bokeh.set_log_level(\"info\");\n",
       "    },\n",
       "    function(Bokeh) {\n",
       "    \n",
       "    \n",
       "    }\n",
       "  ];\n",
       "\n",
       "  function run_inline_js() {\n",
       "    \n",
       "    if (root.Bokeh !== undefined || force === true) {\n",
       "      \n",
       "    for (var i = 0; i < inline_js.length; i++) {\n",
       "      inline_js[i].call(root, root.Bokeh);\n",
       "    }\n",
       "    if (force === true) {\n",
       "        display_loaded();\n",
       "      }} else if (Date.now() < root._bokeh_timeout) {\n",
       "      setTimeout(run_inline_js, 100);\n",
       "    } else if (!root._bokeh_failed_load) {\n",
       "      console.log(\"Bokeh: BokehJS failed to load within specified timeout.\");\n",
       "      root._bokeh_failed_load = true;\n",
       "    } else if (force !== true) {\n",
       "      var cell = $(document.getElementById(\"1001\")).parents('.cell').data().cell;\n",
       "      cell.output_area.append_execute_result(NB_LOAD_WARNING)\n",
       "    }\n",
       "\n",
       "  }\n",
       "\n",
       "  if (root._bokeh_is_loading === 0) {\n",
       "    console.debug(\"Bokeh: BokehJS loaded, going straight to plotting\");\n",
       "    run_inline_js();\n",
       "  } else {\n",
       "    load_libs(css_urls, js_urls, function() {\n",
       "      console.debug(\"Bokeh: BokehJS plotting callback run at\", now());\n",
       "      run_inline_js();\n",
       "    });\n",
       "  }\n",
       "}(window));"
      ],
      "application/vnd.bokehjs_load.v0+json": "\n(function(root) {\n  function now() {\n    return new Date();\n  }\n\n  var force = true;\n\n  if (typeof root._bokeh_onload_callbacks === \"undefined\" || force === true) {\n    root._bokeh_onload_callbacks = [];\n    root._bokeh_is_loading = undefined;\n  }\n\n  \n\n  \n  if (typeof (root._bokeh_timeout) === \"undefined\" || force === true) {\n    root._bokeh_timeout = Date.now() + 5000;\n    root._bokeh_failed_load = false;\n  }\n\n  var NB_LOAD_WARNING = {'data': {'text/html':\n     \"<div style='background-color: #fdd'>\\n\"+\n     \"<p>\\n\"+\n     \"BokehJS does not appear to have successfully loaded. If loading BokehJS from CDN, this \\n\"+\n     \"may be due to a slow or bad network connection. Possible fixes:\\n\"+\n     \"</p>\\n\"+\n     \"<ul>\\n\"+\n     \"<li>re-rerun `output_notebook()` to attempt to load from CDN again, or</li>\\n\"+\n     \"<li>use INLINE resources instead, as so:</li>\\n\"+\n     \"</ul>\\n\"+\n     \"<code>\\n\"+\n     \"from bokeh.resources import INLINE\\n\"+\n     \"output_notebook(resources=INLINE)\\n\"+\n     \"</code>\\n\"+\n     \"</div>\"}};\n\n  function display_loaded() {\n    var el = document.getElementById(\"1001\");\n    if (el != null) {\n      el.textContent = \"BokehJS is loading...\";\n    }\n    if (root.Bokeh !== undefined) {\n      if (el != null) {\n        el.textContent = \"BokehJS \" + root.Bokeh.version + \" successfully loaded.\";\n      }\n    } else if (Date.now() < root._bokeh_timeout) {\n      setTimeout(display_loaded, 100)\n    }\n  }\n\n\n  function run_callbacks() {\n    try {\n      root._bokeh_onload_callbacks.forEach(function(callback) {\n        if (callback != null)\n          callback();\n      });\n    } finally {\n      delete root._bokeh_onload_callbacks\n    }\n    console.debug(\"Bokeh: all callbacks have finished\");\n  }\n\n  function load_libs(css_urls, js_urls, callback) {\n    if (css_urls == null) css_urls = [];\n    if (js_urls == null) js_urls = [];\n\n    root._bokeh_onload_callbacks.push(callback);\n    if (root._bokeh_is_loading > 0) {\n      console.debug(\"Bokeh: BokehJS is being loaded, scheduling callback at\", now());\n      return null;\n    }\n    if (js_urls == null || js_urls.length === 0) {\n      run_callbacks();\n      return null;\n    }\n    console.debug(\"Bokeh: BokehJS not loaded, scheduling load and callback at\", now());\n    root._bokeh_is_loading = css_urls.length + js_urls.length;\n\n    function on_load() {\n      root._bokeh_is_loading--;\n      if (root._bokeh_is_loading === 0) {\n        console.debug(\"Bokeh: all BokehJS libraries/stylesheets loaded\");\n        run_callbacks()\n      }\n    }\n\n    function on_error() {\n      console.error(\"failed to load \" + url);\n    }\n\n    for (var i = 0; i < css_urls.length; i++) {\n      var url = css_urls[i];\n      const element = document.createElement(\"link\");\n      element.onload = on_load;\n      element.onerror = on_error;\n      element.rel = \"stylesheet\";\n      element.type = \"text/css\";\n      element.href = url;\n      console.debug(\"Bokeh: injecting link tag for BokehJS stylesheet: \", url);\n      document.body.appendChild(element);\n    }\n\n    for (var i = 0; i < js_urls.length; i++) {\n      var url = js_urls[i];\n      var element = document.createElement('script');\n      element.onload = on_load;\n      element.onerror = on_error;\n      element.async = false;\n      element.src = url;\n      console.debug(\"Bokeh: injecting script tag for BokehJS library: \", url);\n      document.head.appendChild(element);\n    }\n  };var element = document.getElementById(\"1001\");\n  if (element == null) {\n    console.error(\"Bokeh: ERROR: autoload.js configured with elementid '1001' but no matching script tag was found. \")\n    return false;\n  }\n\n  function inject_raw_css(css) {\n    const element = document.createElement(\"style\");\n    element.appendChild(document.createTextNode(css));\n    document.body.appendChild(element);\n  }\n\n  \n  var js_urls = [\"https://cdn.pydata.org/bokeh/release/bokeh-1.4.0.min.js\", \"https://cdn.pydata.org/bokeh/release/bokeh-widgets-1.4.0.min.js\", \"https://cdn.pydata.org/bokeh/release/bokeh-tables-1.4.0.min.js\", \"https://cdn.pydata.org/bokeh/release/bokeh-gl-1.4.0.min.js\"];\n  var css_urls = [];\n  \n\n  var inline_js = [\n    function(Bokeh) {\n      Bokeh.set_log_level(\"info\");\n    },\n    function(Bokeh) {\n    \n    \n    }\n  ];\n\n  function run_inline_js() {\n    \n    if (root.Bokeh !== undefined || force === true) {\n      \n    for (var i = 0; i < inline_js.length; i++) {\n      inline_js[i].call(root, root.Bokeh);\n    }\n    if (force === true) {\n        display_loaded();\n      }} else if (Date.now() < root._bokeh_timeout) {\n      setTimeout(run_inline_js, 100);\n    } else if (!root._bokeh_failed_load) {\n      console.log(\"Bokeh: BokehJS failed to load within specified timeout.\");\n      root._bokeh_failed_load = true;\n    } else if (force !== true) {\n      var cell = $(document.getElementById(\"1001\")).parents('.cell').data().cell;\n      cell.output_area.append_execute_result(NB_LOAD_WARNING)\n    }\n\n  }\n\n  if (root._bokeh_is_loading === 0) {\n    console.debug(\"Bokeh: BokehJS loaded, going straight to plotting\");\n    run_inline_js();\n  } else {\n    load_libs(css_urls, js_urls, function() {\n      console.debug(\"Bokeh: BokehJS plotting callback run at\", now());\n      run_inline_js();\n    });\n  }\n}(window));"
     },
     "metadata": {},
     "output_type": "display_data"
    }
   ],
   "source": [
    "from bokeh.io import show, output_notebook\n",
    "from bokeh.layouts import gridplot\n",
    "import pandas as pd\n",
    "output_notebook()"
   ]
  },
  {
   "cell_type": "markdown",
   "id": "3338b07e",
   "metadata": {},
   "source": [
    "Hail은 Apache Spark에서 구동되므로, java JRE8이 요구됩니다. 설치 방법은 Hail.is에 나온대로 다운로드 받으면 됩니다. \n",
    "여러분 컴퓨터에 여러 버젼의 java가 설치되어 있을수 있으므로, bash나 zsh 환경에 java를 설정해두어야 합니다. \n",
    "\n",
    "```\n",
    "# 설치된 java path들을 확인하기\n",
    "/usr/libexec/java_home -V\n",
    "\n",
    "Matching Java Virtual Machines (2):\n",
    "    16.0.2 (x86_64) \"Eclipse Temurin\" - \"Eclipse Temurin 16\" /Library/Java/JavaVirtualMachines/temurin-16.jdk/Contents/Home\n",
    "    1.8.0_302 (arm64) \"Azul Systems, Inc.\" - \"Zulu 8.56.0.23\" /Library/Java/JavaVirtualMachines/zulu-8.jdk/Contents/Home\n",
    "/Library/Java/JavaVirtualMachines/temurin-16.jdk/Contents/Home\n",
    "```\n",
    "\n",
    "위와 같이 입력하면, JRE8 버젼이 인스톨 된 path를 확인 할 수 있습니다. 저는 [AZUL에서 JRE8](https://www.azul.com/downloads/)를 설치했습니다. 제 터미널을 보면 Azul의 java가 설치되어있습니다. 이 path를 아래와 같이 쉘 환경에 설정해주세요. 저는 zsh를 쓰니까, zshrc 파일에 아래와 같이 입력을 해주었습니다.\n",
    "\n",
    "```\n",
    "export JAVA_HOME=/Library/Java/JavaVirtualMachines/zulu-8.jdk/Contents/Home\n",
    "```"
   ]
  },
  {
   "cell_type": "code",
   "execution_count": 2,
   "id": "bf6e7364-d270-4fa2-bb0a-1a326dba4732",
   "metadata": {
    "ExecuteTime": {
     "end_time": "2022-01-17T10:50:35.952322Z",
     "start_time": "2022-01-17T10:50:31.572071Z"
    }
   },
   "outputs": [
    {
     "name": "stdout",
     "output_type": "stream",
     "text": [
      "2022-01-23 18:49:36 WARN  Utils:69 - Your hostname, Joons-iMac.local resolves to a loopback address: 127.0.0.1; using 172.30.1.36 instead (on interface en1)\n",
      "2022-01-23 18:49:36 WARN  Utils:69 - Set SPARK_LOCAL_IP if you need to bind to another address\n",
      "2022-01-23 18:49:36 WARN  NativeCodeLoader:60 - Unable to load native-hadoop library for your platform... using builtin-java classes where applicable\n"
     ]
    },
    {
     "name": "stderr",
     "output_type": "stream",
     "text": [
      "Setting default log level to \"WARN\".\n",
      "To adjust logging level use sc.setLogLevel(newLevel). For SparkR, use setLogLevel(newLevel).\n",
      "Running on Apache Spark version 3.1.2\n",
      "SparkUI available at http://172.30.1.36:4040\n",
      "Welcome to\n",
      "     __  __     <>__\n",
      "    / /_/ /__  __/ /\n",
      "   / __  / _ `/ / /\n",
      "  /_/ /_/\\_,_/_/_/   version 0.2.81-edeb70bc789c\n",
      "LOGGING: writing to /Users/joonan/Dropbox/Meetings/20220222_KSBI/hail_tutorial/hail-20220123-1849-0.2.81-edeb70bc789c.log\n"
     ]
    }
   ],
   "source": [
    "import hail as hl # Hail 라이브러리 로드\n",
    "hl.init() # Hail 설정이 잘 되었는지 확인합니다"
   ]
  },
  {
   "cell_type": "markdown",
   "id": "4d12f147-5600-47e3-bcb7-13d5bb7b3ea9",
   "metadata": {
    "tags": []
   },
   "source": [
    "### VCF 데이터 불러들이기\n",
    "\n",
    "VCF 파일을 로드하기 위해 사용되는 함수는 `hl.import_vcf()` 입니다. 이 함수는 VCF 포맷의 데이터를 matrix table 형태로 읽어들이게 됩니다. 우리가 사용하는 데이터는 hg38 버전에서 mapping 되어 있으므로, reference genome 옵션에는 `GRCh38`을 입력해봅시다.\n",
    "이 외에도 txt, bed, bgen 등의 포맷을 불러들일 수 있는 다양한 함수가 존재합니다. 다음 링크의 hail document를 참고해보세요."
   ]
  },
  {
   "cell_type": "code",
   "execution_count": 3,
   "id": "ace29e4f-a8c2-4d5a-92bc-8125c39c4312",
   "metadata": {
    "ExecuteTime": {
     "end_time": "2022-01-17T10:50:36.652191Z",
     "start_time": "2022-01-17T10:50:35.954766Z"
    },
    "tags": []
   },
   "outputs": [],
   "source": [
    "mt = hl.import_vcf('inputs/out.test.chr22.vcf.bgz', \n",
    "                   reference_genome = 'GRCh38', \n",
    "                   array_elements_required=False)"
   ]
  },
  {
   "cell_type": "markdown",
   "id": "1e0f8264-9b3b-407d-82bc-2b59879686f1",
   "metadata": {},
   "source": [
    "분석에 들어가기에 앞서, 데이터가 실제로 어떻게 구성되어 있는지 살펴보아야 합니다. 데이터의 전체적인 구조를 살펴보고 싶을 때는 `describe()`를 사용해보세요."
   ]
  },
  {
   "cell_type": "code",
   "execution_count": 4,
   "id": "d69518ce-7d08-4cb6-8ebe-1923bc882673",
   "metadata": {
    "ExecuteTime": {
     "end_time": "2022-01-17T10:50:36.656190Z",
     "start_time": "2022-01-17T10:50:36.653557Z"
    },
    "tags": []
   },
   "outputs": [
    {
     "name": "stdout",
     "output_type": "stream",
     "text": [
      "----------------------------------------\n",
      "Global fields:\n",
      "    None\n",
      "----------------------------------------\n",
      "Column fields:\n",
      "    's': str\n",
      "----------------------------------------\n",
      "Row fields:\n",
      "    'locus': locus<GRCh38>\n",
      "    'alleles': array<str>\n",
      "    'rsid': str\n",
      "    'qual': float64\n",
      "    'filters': set<str>\n",
      "    'info': struct {\n",
      "        AC: array<int32>, \n",
      "        AF: array<float64>, \n",
      "        AN: int32, \n",
      "        BaseQRankSum: float64, \n",
      "        ClippingRankSum: float64, \n",
      "        DP: int32, \n",
      "        DS: bool, \n",
      "        END: int32, \n",
      "        FS: float64, \n",
      "        HaplotypeScore: float64, \n",
      "        InbreedingCoeff: float64, \n",
      "        MLEAC: array<int32>, \n",
      "        MLEAF: array<float64>, \n",
      "        MQ: float64, \n",
      "        MQ0: int32, \n",
      "        MQRankSum: float64, \n",
      "        NEGATIVE_TRAIN_SITE: bool, \n",
      "        POSITIVE_TRAIN_SITE: bool, \n",
      "        QD: float64, \n",
      "        RAW_MQ: float64, \n",
      "        ReadPosRankSum: float64, \n",
      "        SOR: float64, \n",
      "        VQSLOD: float64, \n",
      "        VariantType: str, \n",
      "        culprit: str, \n",
      "        AN_EUR: int32, \n",
      "        AN_EAS: int32, \n",
      "        AN_AMR: int32, \n",
      "        AN_SAS: int32, \n",
      "        AN_AFR: int32, \n",
      "        AC_EUR: array<int32>, \n",
      "        AC_EAS: array<int32>, \n",
      "        AC_AMR: array<int32>, \n",
      "        AC_SAS: array<int32>, \n",
      "        AC_AFR: array<int32>, \n",
      "        AC_Hom_EUR: array<int32>, \n",
      "        AC_Hom_EAS: array<int32>, \n",
      "        AC_Hom_AMR: array<int32>, \n",
      "        AC_Hom_SAS: array<int32>, \n",
      "        AC_Hom_AFR: array<int32>, \n",
      "        AC_Hom: array<int32>, \n",
      "        AC_Het_EUR: array<int32>, \n",
      "        AC_Het_EAS: array<int32>, \n",
      "        AC_Het_AMR: array<int32>, \n",
      "        AC_Het_SAS: array<int32>, \n",
      "        AC_Het_AFR: array<int32>, \n",
      "        AC_Het: array<int32>, \n",
      "        AF_EUR: array<float64>, \n",
      "        AF_EAS: array<float64>, \n",
      "        AF_AMR: array<float64>, \n",
      "        AF_SAS: array<float64>, \n",
      "        AF_AFR: array<float64>, \n",
      "        HWE_EUR: array<float64>, \n",
      "        HWE_EAS: array<float64>, \n",
      "        HWE_AMR: array<float64>, \n",
      "        HWE_SAS: array<float64>, \n",
      "        HWE_AFR: array<float64>, \n",
      "        HWE: array<float64>, \n",
      "        ExcHet_EUR: array<float64>, \n",
      "        ExcHet_EAS: array<float64>, \n",
      "        ExcHet_AMR: array<float64>, \n",
      "        ExcHet_SAS: array<float64>, \n",
      "        ExcHet_AFR: array<float64>, \n",
      "        ExcHet: array<float64>, \n",
      "        ME: array<float64>, \n",
      "        AN_EUR_unrel: int32, \n",
      "        AN_EAS_unrel: int32, \n",
      "        AN_AMR_unrel: int32, \n",
      "        AN_SAS_unrel: int32, \n",
      "        AN_AFR_unrel: int32, \n",
      "        AC_EUR_unrel: array<int32>, \n",
      "        AC_EAS_unrel: array<int32>, \n",
      "        AC_AMR_unrel: array<int32>, \n",
      "        AC_SAS_unrel: array<int32>, \n",
      "        AC_AFR_unrel: array<int32>, \n",
      "        AC_Hom_EUR_unrel: array<int32>, \n",
      "        AC_Hom_EAS_unrel: array<int32>, \n",
      "        AC_Hom_AMR_unrel: array<int32>, \n",
      "        AC_Hom_SAS_unrel: array<int32>, \n",
      "        AC_Hom_AFR_unrel: array<int32>, \n",
      "        AC_Het_EUR_unrel: array<int32>, \n",
      "        AC_Het_EAS_unrel: array<int32>, \n",
      "        AC_Het_AMR_unrel: array<int32>, \n",
      "        AC_Het_SAS_unrel: array<int32>, \n",
      "        AC_Het_AFR_unrel: array<int32>, \n",
      "        AF_EUR_unrel: array<float64>, \n",
      "        AF_EAS_unrel: array<float64>, \n",
      "        AF_AMR_unrel: array<float64>, \n",
      "        AF_SAS_unrel: array<float64>, \n",
      "        AF_AFR_unrel: array<float64>, \n",
      "        HWE_EUR_unrel: array<float64>, \n",
      "        HWE_EAS_unrel: array<float64>, \n",
      "        HWE_AMR_unrel: array<float64>, \n",
      "        HWE_SAS_unrel: array<float64>, \n",
      "        HWE_AFR_unrel: array<float64>, \n",
      "        CSQ: array<str>\n",
      "    }\n",
      "----------------------------------------\n",
      "Entry fields:\n",
      "    'AB': float64\n",
      "    'AD': array<int32>\n",
      "    'DP': int32\n",
      "    'GQ': int32\n",
      "    'GT': call\n",
      "    'MIN_DP': int32\n",
      "    'MQ0': int32\n",
      "    'PGT': call\n",
      "    'PID': str\n",
      "    'PL': array<int32>\n",
      "    'RGQ': int32\n",
      "    'SB': array<int32>\n",
      "----------------------------------------\n",
      "Column key: ['s']\n",
      "Row key: ['locus', 'alleles']\n",
      "----------------------------------------\n"
     ]
    }
   ],
   "source": [
    "mt.describe()"
   ]
  },
  {
   "cell_type": "markdown",
   "id": "9909cb8a",
   "metadata": {},
   "source": [
    "\n",
    "#### Matrix Table의 구조\n",
    "\n",
    "Matrix table은 총 네 가지 필드로 구분됩니다. 우리의 데이터는 각 필드에 어떤 정보를 담고 있을까요? 이것을 이해하기 위해서는 VCF format에 대해 생각해봐야 합니다.\n",
    "\n",
    "VCF format은 총 8가지의 variant information (CHROM, POS, ID, REF, ALT, QUAL, FILTER, INFO), 그리고 genotype information (FORMAT, n*sample) 으로 이루어져 있습니다.\n",
    "\n",
    "![VCF와 Hail matrix table 개요](images/vcf_to_hail.png)\n",
    "\n",
    "##### Row 필드\n",
    "\n",
    "Row 필드 8개의 variant information이 matrix table에 들어가게 됩니다. CHROM, POS 는 'locus'라는 변수로, REF, ALT는 'alleles'라는 변수로 치환되죠. 그리고 이 두 변수는 Row 필드의 key로 지정됩니다. \n",
    "\n",
    "##### Column 필드\n",
    "\n",
    "Column 필드는 각 샘플의 메타 정보를 담고 있습니다. VCF Header 중 sample name이 Column 필드로 들어가게 됩니다. 이것은 마찬가지로 Column 필드의 key로 지정됩니다. \n",
    "\n",
    "##### Entry 필드\n",
    "\n",
    "Entry 필드는 샘플별 genotype information를 의미합니다. VCF 파일에서의 FORMAT 데이터가 Entry 필드로 들어가는 것이죠.\n",
    "\n",
    "간단하게 말하면 Column 필드는 sample level information, Row 필드는 variant level information, Entry 필드는 genotype level information 라고 할 수 있습니다.\n",
    "\n",
    "이번엔 데이터가 어떻게 기록되어 있는지 눈으로 확인할 차례입니다. show() 를 사용하여 데이터의 각 필드를 도표 형태로 출력해보세요."
   ]
  },
  {
   "cell_type": "code",
   "execution_count": 5,
   "id": "10e05274",
   "metadata": {
    "ExecuteTime": {
     "end_time": "2022-01-17T10:50:42.312324Z",
     "start_time": "2022-01-17T10:50:36.657081Z"
    }
   },
   "outputs": [
    {
     "name": "stderr",
     "output_type": "stream",
     "text": [
      "2022-01-23 18:49:38 Hail: WARN: cols(): Resulting column table is sorted by 'col_key'.\n",
      "    To preserve matrix table column order, first unkey columns with 'key_cols_by()'\n"
     ]
    },
    {
     "data": {
      "text/html": [
       "<table><thead><tr><td style=\"white-space: nowrap; max-width: 500px; overflow: hidden; text-overflow: ellipsis; \" colspan=\"1\"><div style=\"text-align: left;\"></div></td></tr><tr><td style=\"white-space: nowrap; max-width: 500px; overflow: hidden; text-overflow: ellipsis; \" colspan=\"1\"><div style=\"text-align: left;border-bottom: solid 2px #000; padding-bottom: 5px\">s</div></td></tr><tr><td style=\"white-space: nowrap; max-width: 500px; overflow: hidden; text-overflow: ellipsis; text-align: left;\">str</td></tr>\n",
       "</thead><tbody><tr><td style=\"white-space: nowrap; max-width: 500px; overflow: hidden; text-overflow: ellipsis; \">&quot;HG00096&quot;</td></tr>\n",
       "<tr><td style=\"white-space: nowrap; max-width: 500px; overflow: hidden; text-overflow: ellipsis; \">&quot;HG00097&quot;</td></tr>\n",
       "<tr><td style=\"white-space: nowrap; max-width: 500px; overflow: hidden; text-overflow: ellipsis; \">&quot;HG00099&quot;</td></tr>\n",
       "<tr><td style=\"white-space: nowrap; max-width: 500px; overflow: hidden; text-overflow: ellipsis; \">&quot;HG00100&quot;</td></tr>\n",
       "<tr><td style=\"white-space: nowrap; max-width: 500px; overflow: hidden; text-overflow: ellipsis; \">&quot;HG00101&quot;</td></tr>\n",
       "<tr><td style=\"white-space: nowrap; max-width: 500px; overflow: hidden; text-overflow: ellipsis; \">&quot;HG00102&quot;</td></tr>\n",
       "<tr><td style=\"white-space: nowrap; max-width: 500px; overflow: hidden; text-overflow: ellipsis; \">&quot;HG00103&quot;</td></tr>\n",
       "<tr><td style=\"white-space: nowrap; max-width: 500px; overflow: hidden; text-overflow: ellipsis; \">&quot;HG00105&quot;</td></tr>\n",
       "<tr><td style=\"white-space: nowrap; max-width: 500px; overflow: hidden; text-overflow: ellipsis; \">&quot;HG00106&quot;</td></tr>\n",
       "<tr><td style=\"white-space: nowrap; max-width: 500px; overflow: hidden; text-overflow: ellipsis; \">&quot;HG00107&quot;</td></tr>\n",
       "</tbody></table><p style=\"background: #fdd; padding: 0.4em;\">showing top 10 rows</p>\n"
      ],
      "text/plain": [
       "+-----------+\n",
       "| s         |\n",
       "+-----------+\n",
       "| str       |\n",
       "+-----------+\n",
       "| \"HG00096\" |\n",
       "| \"HG00097\" |\n",
       "| \"HG00099\" |\n",
       "| \"HG00100\" |\n",
       "| \"HG00101\" |\n",
       "| \"HG00102\" |\n",
       "| \"HG00103\" |\n",
       "| \"HG00105\" |\n",
       "| \"HG00106\" |\n",
       "| \"HG00107\" |\n",
       "+-----------+\n",
       "showing top 10 rows"
      ]
     },
     "metadata": {},
     "output_type": "display_data"
    }
   ],
   "source": [
    "mt.cols().show()"
   ]
  },
  {
   "cell_type": "code",
   "execution_count": 6,
   "id": "56385ad8",
   "metadata": {
    "ExecuteTime": {
     "end_time": "2022-01-17T10:50:47.604957Z",
     "start_time": "2022-01-17T10:50:42.314060Z"
    }
   },
   "outputs": [
    {
     "name": "stderr",
     "output_type": "stream",
     "text": [
      "2022-01-23 18:49:46 Hail: INFO: Coerced sorted dataset              (0 + 4) / 4]\n"
     ]
    },
    {
     "data": {
      "text/html": [
       "<table><thead><tr><td style=\"white-space: nowrap; max-width: 500px; overflow: hidden; text-overflow: ellipsis; \" colspan=\"1\"><div style=\"text-align: left;\"></div></td><td style=\"white-space: nowrap; max-width: 500px; overflow: hidden; text-overflow: ellipsis; \" colspan=\"1\"><div style=\"text-align: left;\"></div></td><td style=\"white-space: nowrap; max-width: 500px; overflow: hidden; text-overflow: ellipsis; \" colspan=\"1\"><div style=\"text-align: left;\"></div></td><td style=\"white-space: nowrap; max-width: 500px; overflow: hidden; text-overflow: ellipsis; \" colspan=\"1\"><div style=\"text-align: left;\"></div></td><td style=\"white-space: nowrap; max-width: 500px; overflow: hidden; text-overflow: ellipsis; \" colspan=\"1\"><div style=\"text-align: left;\"></div></td><td style=\"white-space: nowrap; max-width: 500px; overflow: hidden; text-overflow: ellipsis; \" colspan=\"96\"><div style=\"text-align: left;\"></div></td></tr><tr><td style=\"white-space: nowrap; max-width: 500px; overflow: hidden; text-overflow: ellipsis; \" colspan=\"1\"><div style=\"text-align: left;\"></div></td><td style=\"white-space: nowrap; max-width: 500px; overflow: hidden; text-overflow: ellipsis; \" colspan=\"1\"><div style=\"text-align: left;\"></div></td><td style=\"white-space: nowrap; max-width: 500px; overflow: hidden; text-overflow: ellipsis; \" colspan=\"1\"><div style=\"text-align: left;\"></div></td><td style=\"white-space: nowrap; max-width: 500px; overflow: hidden; text-overflow: ellipsis; \" colspan=\"1\"><div style=\"text-align: left;\"></div></td><td style=\"white-space: nowrap; max-width: 500px; overflow: hidden; text-overflow: ellipsis; \" colspan=\"1\"><div style=\"text-align: left;\"></div></td><td style=\"white-space: nowrap; max-width: 500px; overflow: hidden; text-overflow: ellipsis; \" colspan=\"96\"><div style=\"text-align: left;border-bottom: solid 2px #000; padding-bottom: 5px\">info</div></td></tr><tr><td style=\"white-space: nowrap; max-width: 500px; overflow: hidden; text-overflow: ellipsis; \" colspan=\"1\"><div style=\"text-align: left;border-bottom: solid 2px #000; padding-bottom: 5px\">locus</div></td><td style=\"white-space: nowrap; max-width: 500px; overflow: hidden; text-overflow: ellipsis; \" colspan=\"1\"><div style=\"text-align: left;border-bottom: solid 2px #000; padding-bottom: 5px\">alleles</div></td><td style=\"white-space: nowrap; max-width: 500px; overflow: hidden; text-overflow: ellipsis; \" colspan=\"1\"><div style=\"text-align: left;border-bottom: solid 2px #000; padding-bottom: 5px\">rsid</div></td><td style=\"white-space: nowrap; max-width: 500px; overflow: hidden; text-overflow: ellipsis; \" colspan=\"1\"><div style=\"text-align: left;border-bottom: solid 2px #000; padding-bottom: 5px\">qual</div></td><td style=\"white-space: nowrap; max-width: 500px; overflow: hidden; text-overflow: ellipsis; \" colspan=\"1\"><div style=\"text-align: left;border-bottom: solid 2px #000; padding-bottom: 5px\">filters</div></td><td style=\"white-space: nowrap; max-width: 500px; overflow: hidden; text-overflow: ellipsis; \" colspan=\"1\"><div style=\"text-align: left;border-bottom: solid 2px #000; padding-bottom: 5px\">AC</div></td><td style=\"white-space: nowrap; max-width: 500px; overflow: hidden; text-overflow: ellipsis; \" colspan=\"1\"><div style=\"text-align: left;border-bottom: solid 2px #000; padding-bottom: 5px\">AF</div></td><td style=\"white-space: nowrap; max-width: 500px; overflow: hidden; text-overflow: ellipsis; \" colspan=\"1\"><div style=\"text-align: left;border-bottom: solid 2px #000; padding-bottom: 5px\">AN</div></td><td style=\"white-space: nowrap; max-width: 500px; overflow: hidden; text-overflow: ellipsis; \" colspan=\"1\"><div style=\"text-align: left;border-bottom: solid 2px #000; padding-bottom: 5px\">BaseQRankSum</div></td><td style=\"white-space: nowrap; max-width: 500px; overflow: hidden; text-overflow: ellipsis; \" colspan=\"1\"><div style=\"text-align: left;border-bottom: solid 2px #000; padding-bottom: 5px\">ClippingRankSum</div></td><td style=\"white-space: nowrap; max-width: 500px; overflow: hidden; text-overflow: ellipsis; \" colspan=\"1\"><div style=\"text-align: left;border-bottom: solid 2px #000; padding-bottom: 5px\">DP</div></td><td style=\"white-space: nowrap; max-width: 500px; overflow: hidden; text-overflow: ellipsis; \" colspan=\"1\"><div style=\"text-align: left;border-bottom: solid 2px #000; padding-bottom: 5px\">DS</div></td><td style=\"white-space: nowrap; max-width: 500px; overflow: hidden; text-overflow: ellipsis; \" colspan=\"1\"><div style=\"text-align: left;border-bottom: solid 2px #000; padding-bottom: 5px\">END</div></td><td style=\"white-space: nowrap; max-width: 500px; overflow: hidden; text-overflow: ellipsis; \" colspan=\"1\"><div style=\"text-align: left;border-bottom: solid 2px #000; padding-bottom: 5px\">FS</div></td><td style=\"white-space: nowrap; max-width: 500px; overflow: hidden; text-overflow: ellipsis; \" colspan=\"1\"><div style=\"text-align: left;border-bottom: solid 2px #000; padding-bottom: 5px\">HaplotypeScore</div></td><td style=\"white-space: nowrap; max-width: 500px; overflow: hidden; text-overflow: ellipsis; \" colspan=\"1\"><div style=\"text-align: left;border-bottom: solid 2px #000; padding-bottom: 5px\">InbreedingCoeff</div></td><td style=\"white-space: nowrap; max-width: 500px; overflow: hidden; text-overflow: ellipsis; \" colspan=\"1\"><div style=\"text-align: left;border-bottom: solid 2px #000; padding-bottom: 5px\">MLEAC</div></td><td style=\"white-space: nowrap; max-width: 500px; overflow: hidden; text-overflow: ellipsis; \" colspan=\"1\"><div style=\"text-align: left;border-bottom: solid 2px #000; padding-bottom: 5px\">MLEAF</div></td><td style=\"white-space: nowrap; max-width: 500px; overflow: hidden; text-overflow: ellipsis; \" colspan=\"1\"><div style=\"text-align: left;border-bottom: solid 2px #000; padding-bottom: 5px\">MQ</div></td><td style=\"white-space: nowrap; max-width: 500px; overflow: hidden; text-overflow: ellipsis; \" colspan=\"1\"><div style=\"text-align: left;border-bottom: solid 2px #000; padding-bottom: 5px\">MQ0</div></td><td style=\"white-space: nowrap; max-width: 500px; overflow: hidden; text-overflow: ellipsis; \" colspan=\"1\"><div style=\"text-align: left;border-bottom: solid 2px #000; padding-bottom: 5px\">MQRankSum</div></td><td style=\"white-space: nowrap; max-width: 500px; overflow: hidden; text-overflow: ellipsis; \" colspan=\"1\"><div style=\"text-align: left;border-bottom: solid 2px #000; padding-bottom: 5px\">NEGATIVE_TRAIN_SITE</div></td><td style=\"white-space: nowrap; max-width: 500px; overflow: hidden; text-overflow: ellipsis; \" colspan=\"1\"><div style=\"text-align: left;border-bottom: solid 2px #000; padding-bottom: 5px\">POSITIVE_TRAIN_SITE</div></td><td style=\"white-space: nowrap; max-width: 500px; overflow: hidden; text-overflow: ellipsis; \" colspan=\"1\"><div style=\"text-align: left;border-bottom: solid 2px #000; padding-bottom: 5px\">QD</div></td><td style=\"white-space: nowrap; max-width: 500px; overflow: hidden; text-overflow: ellipsis; \" colspan=\"1\"><div style=\"text-align: left;border-bottom: solid 2px #000; padding-bottom: 5px\">RAW_MQ</div></td><td style=\"white-space: nowrap; max-width: 500px; overflow: hidden; text-overflow: ellipsis; \" colspan=\"1\"><div style=\"text-align: left;border-bottom: solid 2px #000; padding-bottom: 5px\">ReadPosRankSum</div></td><td style=\"white-space: nowrap; max-width: 500px; overflow: hidden; text-overflow: ellipsis; \" colspan=\"1\"><div style=\"text-align: left;border-bottom: solid 2px #000; padding-bottom: 5px\">SOR</div></td><td style=\"white-space: nowrap; max-width: 500px; overflow: hidden; text-overflow: ellipsis; \" colspan=\"1\"><div style=\"text-align: left;border-bottom: solid 2px #000; padding-bottom: 5px\">VQSLOD</div></td><td style=\"white-space: nowrap; max-width: 500px; overflow: hidden; text-overflow: ellipsis; \" colspan=\"1\"><div style=\"text-align: left;border-bottom: solid 2px #000; padding-bottom: 5px\">VariantType</div></td><td style=\"white-space: nowrap; max-width: 500px; overflow: hidden; text-overflow: ellipsis; \" colspan=\"1\"><div style=\"text-align: left;border-bottom: solid 2px #000; padding-bottom: 5px\">culprit</div></td><td style=\"white-space: nowrap; max-width: 500px; overflow: hidden; text-overflow: ellipsis; \" colspan=\"1\"><div style=\"text-align: left;border-bottom: solid 2px #000; padding-bottom: 5px\">AN_EUR</div></td><td style=\"white-space: nowrap; max-width: 500px; overflow: hidden; text-overflow: ellipsis; \" colspan=\"1\"><div style=\"text-align: left;border-bottom: solid 2px #000; padding-bottom: 5px\">AN_EAS</div></td><td style=\"white-space: nowrap; max-width: 500px; overflow: hidden; text-overflow: ellipsis; \" colspan=\"1\"><div style=\"text-align: left;border-bottom: solid 2px #000; padding-bottom: 5px\">AN_AMR</div></td><td style=\"white-space: nowrap; max-width: 500px; overflow: hidden; text-overflow: ellipsis; \" colspan=\"1\"><div style=\"text-align: left;border-bottom: solid 2px #000; padding-bottom: 5px\">AN_SAS</div></td><td style=\"white-space: nowrap; max-width: 500px; overflow: hidden; text-overflow: ellipsis; \" colspan=\"1\"><div style=\"text-align: left;border-bottom: solid 2px #000; padding-bottom: 5px\">AN_AFR</div></td><td style=\"white-space: nowrap; max-width: 500px; overflow: hidden; text-overflow: ellipsis; \" colspan=\"1\"><div style=\"text-align: left;border-bottom: solid 2px #000; padding-bottom: 5px\">AC_EUR</div></td><td style=\"white-space: nowrap; max-width: 500px; overflow: hidden; text-overflow: ellipsis; \" colspan=\"1\"><div style=\"text-align: left;border-bottom: solid 2px #000; padding-bottom: 5px\">AC_EAS</div></td><td style=\"white-space: nowrap; max-width: 500px; overflow: hidden; text-overflow: ellipsis; \" colspan=\"1\"><div style=\"text-align: left;border-bottom: solid 2px #000; padding-bottom: 5px\">AC_AMR</div></td><td style=\"white-space: nowrap; max-width: 500px; overflow: hidden; text-overflow: ellipsis; \" colspan=\"1\"><div style=\"text-align: left;border-bottom: solid 2px #000; padding-bottom: 5px\">AC_SAS</div></td><td style=\"white-space: nowrap; max-width: 500px; overflow: hidden; text-overflow: ellipsis; \" colspan=\"1\"><div style=\"text-align: left;border-bottom: solid 2px #000; padding-bottom: 5px\">AC_AFR</div></td><td style=\"white-space: nowrap; max-width: 500px; overflow: hidden; text-overflow: ellipsis; \" colspan=\"1\"><div style=\"text-align: left;border-bottom: solid 2px #000; padding-bottom: 5px\">AC_Hom_EUR</div></td><td style=\"white-space: nowrap; max-width: 500px; overflow: hidden; text-overflow: ellipsis; \" colspan=\"1\"><div style=\"text-align: left;border-bottom: solid 2px #000; padding-bottom: 5px\">AC_Hom_EAS</div></td><td style=\"white-space: nowrap; max-width: 500px; overflow: hidden; text-overflow: ellipsis; \" colspan=\"1\"><div style=\"text-align: left;border-bottom: solid 2px #000; padding-bottom: 5px\">AC_Hom_AMR</div></td><td style=\"white-space: nowrap; max-width: 500px; overflow: hidden; text-overflow: ellipsis; \" colspan=\"1\"><div style=\"text-align: left;border-bottom: solid 2px #000; padding-bottom: 5px\">AC_Hom_SAS</div></td><td style=\"white-space: nowrap; max-width: 500px; overflow: hidden; text-overflow: ellipsis; \" colspan=\"1\"><div style=\"text-align: left;border-bottom: solid 2px #000; padding-bottom: 5px\">AC_Hom_AFR</div></td><td style=\"white-space: nowrap; max-width: 500px; overflow: hidden; text-overflow: ellipsis; \" colspan=\"1\"><div style=\"text-align: left;border-bottom: solid 2px #000; padding-bottom: 5px\">AC_Hom</div></td><td style=\"white-space: nowrap; max-width: 500px; overflow: hidden; text-overflow: ellipsis; \" colspan=\"1\"><div style=\"text-align: left;border-bottom: solid 2px #000; padding-bottom: 5px\">AC_Het_EUR</div></td><td style=\"white-space: nowrap; max-width: 500px; overflow: hidden; text-overflow: ellipsis; \" colspan=\"1\"><div style=\"text-align: left;border-bottom: solid 2px #000; padding-bottom: 5px\">AC_Het_EAS</div></td><td style=\"white-space: nowrap; max-width: 500px; overflow: hidden; text-overflow: ellipsis; \" colspan=\"1\"><div style=\"text-align: left;border-bottom: solid 2px #000; padding-bottom: 5px\">AC_Het_AMR</div></td><td style=\"white-space: nowrap; max-width: 500px; overflow: hidden; text-overflow: ellipsis; \" colspan=\"1\"><div style=\"text-align: left;border-bottom: solid 2px #000; padding-bottom: 5px\">AC_Het_SAS</div></td><td style=\"white-space: nowrap; max-width: 500px; overflow: hidden; text-overflow: ellipsis; \" colspan=\"1\"><div style=\"text-align: left;border-bottom: solid 2px #000; padding-bottom: 5px\">AC_Het_AFR</div></td><td style=\"white-space: nowrap; max-width: 500px; overflow: hidden; text-overflow: ellipsis; \" colspan=\"1\"><div style=\"text-align: left;border-bottom: solid 2px #000; padding-bottom: 5px\">AC_Het</div></td><td style=\"white-space: nowrap; max-width: 500px; overflow: hidden; text-overflow: ellipsis; \" colspan=\"1\"><div style=\"text-align: left;border-bottom: solid 2px #000; padding-bottom: 5px\">AF_EUR</div></td><td style=\"white-space: nowrap; max-width: 500px; overflow: hidden; text-overflow: ellipsis; \" colspan=\"1\"><div style=\"text-align: left;border-bottom: solid 2px #000; padding-bottom: 5px\">AF_EAS</div></td><td style=\"white-space: nowrap; max-width: 500px; overflow: hidden; text-overflow: ellipsis; \" colspan=\"1\"><div style=\"text-align: left;border-bottom: solid 2px #000; padding-bottom: 5px\">AF_AMR</div></td><td style=\"white-space: nowrap; max-width: 500px; overflow: hidden; text-overflow: ellipsis; \" colspan=\"1\"><div style=\"text-align: left;border-bottom: solid 2px #000; padding-bottom: 5px\">AF_SAS</div></td><td style=\"white-space: nowrap; max-width: 500px; overflow: hidden; text-overflow: ellipsis; \" colspan=\"1\"><div style=\"text-align: left;border-bottom: solid 2px #000; padding-bottom: 5px\">AF_AFR</div></td><td style=\"white-space: nowrap; max-width: 500px; overflow: hidden; text-overflow: ellipsis; \" colspan=\"1\"><div style=\"text-align: left;border-bottom: solid 2px #000; padding-bottom: 5px\">HWE_EUR</div></td><td style=\"white-space: nowrap; max-width: 500px; overflow: hidden; text-overflow: ellipsis; \" colspan=\"1\"><div style=\"text-align: left;border-bottom: solid 2px #000; padding-bottom: 5px\">HWE_EAS</div></td><td style=\"white-space: nowrap; max-width: 500px; overflow: hidden; text-overflow: ellipsis; \" colspan=\"1\"><div style=\"text-align: left;border-bottom: solid 2px #000; padding-bottom: 5px\">HWE_AMR</div></td><td style=\"white-space: nowrap; max-width: 500px; overflow: hidden; text-overflow: ellipsis; \" colspan=\"1\"><div style=\"text-align: left;border-bottom: solid 2px #000; padding-bottom: 5px\">HWE_SAS</div></td><td style=\"white-space: nowrap; max-width: 500px; overflow: hidden; text-overflow: ellipsis; \" colspan=\"1\"><div style=\"text-align: left;border-bottom: solid 2px #000; padding-bottom: 5px\">HWE_AFR</div></td><td style=\"white-space: nowrap; max-width: 500px; overflow: hidden; text-overflow: ellipsis; \" colspan=\"1\"><div style=\"text-align: left;border-bottom: solid 2px #000; padding-bottom: 5px\">HWE</div></td><td style=\"white-space: nowrap; max-width: 500px; overflow: hidden; text-overflow: ellipsis; \" colspan=\"1\"><div style=\"text-align: left;border-bottom: solid 2px #000; padding-bottom: 5px\">ExcHet_EUR</div></td><td style=\"white-space: nowrap; max-width: 500px; overflow: hidden; text-overflow: ellipsis; \" colspan=\"1\"><div style=\"text-align: left;border-bottom: solid 2px #000; padding-bottom: 5px\">ExcHet_EAS</div></td><td style=\"white-space: nowrap; max-width: 500px; overflow: hidden; text-overflow: ellipsis; \" colspan=\"1\"><div style=\"text-align: left;border-bottom: solid 2px #000; padding-bottom: 5px\">ExcHet_AMR</div></td><td style=\"white-space: nowrap; max-width: 500px; overflow: hidden; text-overflow: ellipsis; \" colspan=\"1\"><div style=\"text-align: left;border-bottom: solid 2px #000; padding-bottom: 5px\">ExcHet_SAS</div></td><td style=\"white-space: nowrap; max-width: 500px; overflow: hidden; text-overflow: ellipsis; \" colspan=\"1\"><div style=\"text-align: left;border-bottom: solid 2px #000; padding-bottom: 5px\">ExcHet_AFR</div></td><td style=\"white-space: nowrap; max-width: 500px; overflow: hidden; text-overflow: ellipsis; \" colspan=\"1\"><div style=\"text-align: left;border-bottom: solid 2px #000; padding-bottom: 5px\">ExcHet</div></td><td style=\"white-space: nowrap; max-width: 500px; overflow: hidden; text-overflow: ellipsis; \" colspan=\"1\"><div style=\"text-align: left;border-bottom: solid 2px #000; padding-bottom: 5px\">ME</div></td><td style=\"white-space: nowrap; max-width: 500px; overflow: hidden; text-overflow: ellipsis; \" colspan=\"1\"><div style=\"text-align: left;border-bottom: solid 2px #000; padding-bottom: 5px\">AN_EUR_unrel</div></td><td style=\"white-space: nowrap; max-width: 500px; overflow: hidden; text-overflow: ellipsis; \" colspan=\"1\"><div style=\"text-align: left;border-bottom: solid 2px #000; padding-bottom: 5px\">AN_EAS_unrel</div></td><td style=\"white-space: nowrap; max-width: 500px; overflow: hidden; text-overflow: ellipsis; \" colspan=\"1\"><div style=\"text-align: left;border-bottom: solid 2px #000; padding-bottom: 5px\">AN_AMR_unrel</div></td><td style=\"white-space: nowrap; max-width: 500px; overflow: hidden; text-overflow: ellipsis; \" colspan=\"1\"><div style=\"text-align: left;border-bottom: solid 2px #000; padding-bottom: 5px\">AN_SAS_unrel</div></td><td style=\"white-space: nowrap; max-width: 500px; overflow: hidden; text-overflow: ellipsis; \" colspan=\"1\"><div style=\"text-align: left;border-bottom: solid 2px #000; padding-bottom: 5px\">AN_AFR_unrel</div></td><td style=\"white-space: nowrap; max-width: 500px; overflow: hidden; text-overflow: ellipsis; \" colspan=\"1\"><div style=\"text-align: left;border-bottom: solid 2px #000; padding-bottom: 5px\">AC_EUR_unrel</div></td><td style=\"white-space: nowrap; max-width: 500px; overflow: hidden; text-overflow: ellipsis; \" colspan=\"1\"><div style=\"text-align: left;border-bottom: solid 2px #000; padding-bottom: 5px\">AC_EAS_unrel</div></td><td style=\"white-space: nowrap; max-width: 500px; overflow: hidden; text-overflow: ellipsis; \" colspan=\"1\"><div style=\"text-align: left;border-bottom: solid 2px #000; padding-bottom: 5px\">AC_AMR_unrel</div></td><td style=\"white-space: nowrap; max-width: 500px; overflow: hidden; text-overflow: ellipsis; \" colspan=\"1\"><div style=\"text-align: left;border-bottom: solid 2px #000; padding-bottom: 5px\">AC_SAS_unrel</div></td><td style=\"white-space: nowrap; max-width: 500px; overflow: hidden; text-overflow: ellipsis; \" colspan=\"1\"><div style=\"text-align: left;border-bottom: solid 2px #000; padding-bottom: 5px\">AC_AFR_unrel</div></td><td style=\"white-space: nowrap; max-width: 500px; overflow: hidden; text-overflow: ellipsis; \" colspan=\"1\"><div style=\"text-align: left;border-bottom: solid 2px #000; padding-bottom: 5px\">AC_Hom_EUR_unrel</div></td><td style=\"white-space: nowrap; max-width: 500px; overflow: hidden; text-overflow: ellipsis; \" colspan=\"1\"><div style=\"text-align: left;border-bottom: solid 2px #000; padding-bottom: 5px\">AC_Hom_EAS_unrel</div></td><td style=\"white-space: nowrap; max-width: 500px; overflow: hidden; text-overflow: ellipsis; \" colspan=\"1\"><div style=\"text-align: left;border-bottom: solid 2px #000; padding-bottom: 5px\">AC_Hom_AMR_unrel</div></td><td style=\"white-space: nowrap; max-width: 500px; overflow: hidden; text-overflow: ellipsis; \" colspan=\"1\"><div style=\"text-align: left;border-bottom: solid 2px #000; padding-bottom: 5px\">AC_Hom_SAS_unrel</div></td><td style=\"white-space: nowrap; max-width: 500px; overflow: hidden; text-overflow: ellipsis; \" colspan=\"1\"><div style=\"text-align: left;border-bottom: solid 2px #000; padding-bottom: 5px\">AC_Hom_AFR_unrel</div></td><td style=\"white-space: nowrap; max-width: 500px; overflow: hidden; text-overflow: ellipsis; \" colspan=\"1\"><div style=\"text-align: left;border-bottom: solid 2px #000; padding-bottom: 5px\">AC_Het_EUR_unrel</div></td><td style=\"white-space: nowrap; max-width: 500px; overflow: hidden; text-overflow: ellipsis; \" colspan=\"1\"><div style=\"text-align: left;border-bottom: solid 2px #000; padding-bottom: 5px\">AC_Het_EAS_unrel</div></td><td style=\"white-space: nowrap; max-width: 500px; overflow: hidden; text-overflow: ellipsis; \" colspan=\"1\"><div style=\"text-align: left;border-bottom: solid 2px #000; padding-bottom: 5px\">AC_Het_AMR_unrel</div></td><td style=\"white-space: nowrap; max-width: 500px; overflow: hidden; text-overflow: ellipsis; \" colspan=\"1\"><div style=\"text-align: left;border-bottom: solid 2px #000; padding-bottom: 5px\">AC_Het_SAS_unrel</div></td><td style=\"white-space: nowrap; max-width: 500px; overflow: hidden; text-overflow: ellipsis; \" colspan=\"1\"><div style=\"text-align: left;border-bottom: solid 2px #000; padding-bottom: 5px\">AC_Het_AFR_unrel</div></td><td style=\"white-space: nowrap; max-width: 500px; overflow: hidden; text-overflow: ellipsis; \" colspan=\"1\"><div style=\"text-align: left;border-bottom: solid 2px #000; padding-bottom: 5px\">AF_EUR_unrel</div></td><td style=\"white-space: nowrap; max-width: 500px; overflow: hidden; text-overflow: ellipsis; \" colspan=\"1\"><div style=\"text-align: left;border-bottom: solid 2px #000; padding-bottom: 5px\">AF_EAS_unrel</div></td><td style=\"white-space: nowrap; max-width: 500px; overflow: hidden; text-overflow: ellipsis; \" colspan=\"1\"><div style=\"text-align: left;border-bottom: solid 2px #000; padding-bottom: 5px\">AF_AMR_unrel</div></td><td style=\"white-space: nowrap; max-width: 500px; overflow: hidden; text-overflow: ellipsis; \" colspan=\"1\"><div style=\"text-align: left;border-bottom: solid 2px #000; padding-bottom: 5px\">AF_SAS_unrel</div></td><td style=\"white-space: nowrap; max-width: 500px; overflow: hidden; text-overflow: ellipsis; \" colspan=\"1\"><div style=\"text-align: left;border-bottom: solid 2px #000; padding-bottom: 5px\">AF_AFR_unrel</div></td><td style=\"white-space: nowrap; max-width: 500px; overflow: hidden; text-overflow: ellipsis; \" colspan=\"1\"><div style=\"text-align: left;border-bottom: solid 2px #000; padding-bottom: 5px\">HWE_EUR_unrel</div></td><td style=\"white-space: nowrap; max-width: 500px; overflow: hidden; text-overflow: ellipsis; \" colspan=\"1\"><div style=\"text-align: left;border-bottom: solid 2px #000; padding-bottom: 5px\">HWE_EAS_unrel</div></td><td style=\"white-space: nowrap; max-width: 500px; overflow: hidden; text-overflow: ellipsis; \" colspan=\"1\"><div style=\"text-align: left;border-bottom: solid 2px #000; padding-bottom: 5px\">HWE_AMR_unrel</div></td><td style=\"white-space: nowrap; max-width: 500px; overflow: hidden; text-overflow: ellipsis; \" colspan=\"1\"><div style=\"text-align: left;border-bottom: solid 2px #000; padding-bottom: 5px\">HWE_SAS_unrel</div></td><td style=\"white-space: nowrap; max-width: 500px; overflow: hidden; text-overflow: ellipsis; \" colspan=\"1\"><div style=\"text-align: left;border-bottom: solid 2px #000; padding-bottom: 5px\">HWE_AFR_unrel</div></td><td style=\"white-space: nowrap; max-width: 500px; overflow: hidden; text-overflow: ellipsis; \" colspan=\"1\"><div style=\"text-align: left;border-bottom: solid 2px #000; padding-bottom: 5px\">CSQ</div></td></tr><tr><td style=\"white-space: nowrap; max-width: 500px; overflow: hidden; text-overflow: ellipsis; text-align: left;\">locus&lt;GRCh38&gt;</td><td style=\"white-space: nowrap; max-width: 500px; overflow: hidden; text-overflow: ellipsis; text-align: left;\">array&lt;str&gt;</td><td style=\"white-space: nowrap; max-width: 500px; overflow: hidden; text-overflow: ellipsis; text-align: left;\">str</td><td style=\"white-space: nowrap; max-width: 500px; overflow: hidden; text-overflow: ellipsis; text-align: left;\">float64</td><td style=\"white-space: nowrap; max-width: 500px; overflow: hidden; text-overflow: ellipsis; text-align: left;\">set&lt;str&gt;</td><td style=\"white-space: nowrap; max-width: 500px; overflow: hidden; text-overflow: ellipsis; text-align: left;\">array&lt;int32&gt;</td><td style=\"white-space: nowrap; max-width: 500px; overflow: hidden; text-overflow: ellipsis; text-align: left;\">array&lt;float64&gt;</td><td style=\"white-space: nowrap; max-width: 500px; overflow: hidden; text-overflow: ellipsis; text-align: left;\">int32</td><td style=\"white-space: nowrap; max-width: 500px; overflow: hidden; text-overflow: ellipsis; text-align: left;\">float64</td><td style=\"white-space: nowrap; max-width: 500px; overflow: hidden; text-overflow: ellipsis; text-align: left;\">float64</td><td style=\"white-space: nowrap; max-width: 500px; overflow: hidden; text-overflow: ellipsis; text-align: left;\">int32</td><td style=\"white-space: nowrap; max-width: 500px; overflow: hidden; text-overflow: ellipsis; text-align: left;\">bool</td><td style=\"white-space: nowrap; max-width: 500px; overflow: hidden; text-overflow: ellipsis; text-align: left;\">int32</td><td style=\"white-space: nowrap; max-width: 500px; overflow: hidden; text-overflow: ellipsis; text-align: left;\">float64</td><td style=\"white-space: nowrap; max-width: 500px; overflow: hidden; text-overflow: ellipsis; text-align: left;\">float64</td><td style=\"white-space: nowrap; max-width: 500px; overflow: hidden; text-overflow: ellipsis; text-align: left;\">float64</td><td style=\"white-space: nowrap; max-width: 500px; overflow: hidden; text-overflow: ellipsis; text-align: left;\">array&lt;int32&gt;</td><td style=\"white-space: nowrap; max-width: 500px; overflow: hidden; text-overflow: ellipsis; text-align: left;\">array&lt;float64&gt;</td><td style=\"white-space: nowrap; max-width: 500px; overflow: hidden; text-overflow: ellipsis; text-align: left;\">float64</td><td style=\"white-space: nowrap; max-width: 500px; overflow: hidden; text-overflow: ellipsis; text-align: left;\">int32</td><td style=\"white-space: nowrap; max-width: 500px; overflow: hidden; text-overflow: ellipsis; text-align: left;\">float64</td><td style=\"white-space: nowrap; max-width: 500px; overflow: hidden; text-overflow: ellipsis; text-align: left;\">bool</td><td style=\"white-space: nowrap; max-width: 500px; overflow: hidden; text-overflow: ellipsis; text-align: left;\">bool</td><td style=\"white-space: nowrap; max-width: 500px; overflow: hidden; text-overflow: ellipsis; text-align: left;\">float64</td><td style=\"white-space: nowrap; max-width: 500px; overflow: hidden; text-overflow: ellipsis; text-align: left;\">float64</td><td style=\"white-space: nowrap; max-width: 500px; overflow: hidden; text-overflow: ellipsis; text-align: left;\">float64</td><td style=\"white-space: nowrap; max-width: 500px; overflow: hidden; text-overflow: ellipsis; text-align: left;\">float64</td><td style=\"white-space: nowrap; max-width: 500px; overflow: hidden; text-overflow: ellipsis; text-align: left;\">float64</td><td style=\"white-space: nowrap; max-width: 500px; overflow: hidden; text-overflow: ellipsis; text-align: left;\">str</td><td style=\"white-space: nowrap; max-width: 500px; overflow: hidden; text-overflow: ellipsis; text-align: left;\">str</td><td style=\"white-space: nowrap; max-width: 500px; overflow: hidden; text-overflow: ellipsis; text-align: left;\">int32</td><td style=\"white-space: nowrap; max-width: 500px; overflow: hidden; text-overflow: ellipsis; text-align: left;\">int32</td><td style=\"white-space: nowrap; max-width: 500px; overflow: hidden; text-overflow: ellipsis; text-align: left;\">int32</td><td style=\"white-space: nowrap; max-width: 500px; overflow: hidden; text-overflow: ellipsis; text-align: left;\">int32</td><td style=\"white-space: nowrap; max-width: 500px; overflow: hidden; text-overflow: ellipsis; text-align: left;\">int32</td><td style=\"white-space: nowrap; max-width: 500px; overflow: hidden; text-overflow: ellipsis; text-align: left;\">array&lt;int32&gt;</td><td style=\"white-space: nowrap; max-width: 500px; overflow: hidden; text-overflow: ellipsis; text-align: left;\">array&lt;int32&gt;</td><td style=\"white-space: nowrap; max-width: 500px; overflow: hidden; text-overflow: ellipsis; text-align: left;\">array&lt;int32&gt;</td><td style=\"white-space: nowrap; max-width: 500px; overflow: hidden; text-overflow: ellipsis; text-align: left;\">array&lt;int32&gt;</td><td style=\"white-space: nowrap; max-width: 500px; overflow: hidden; text-overflow: ellipsis; text-align: left;\">array&lt;int32&gt;</td><td style=\"white-space: nowrap; max-width: 500px; overflow: hidden; text-overflow: ellipsis; text-align: left;\">array&lt;int32&gt;</td><td style=\"white-space: nowrap; max-width: 500px; overflow: hidden; text-overflow: ellipsis; text-align: left;\">array&lt;int32&gt;</td><td style=\"white-space: nowrap; max-width: 500px; overflow: hidden; text-overflow: ellipsis; text-align: left;\">array&lt;int32&gt;</td><td style=\"white-space: nowrap; max-width: 500px; overflow: hidden; text-overflow: ellipsis; text-align: left;\">array&lt;int32&gt;</td><td style=\"white-space: nowrap; max-width: 500px; overflow: hidden; text-overflow: ellipsis; text-align: left;\">array&lt;int32&gt;</td><td style=\"white-space: nowrap; max-width: 500px; overflow: hidden; text-overflow: ellipsis; text-align: left;\">array&lt;int32&gt;</td><td style=\"white-space: nowrap; max-width: 500px; overflow: hidden; text-overflow: ellipsis; text-align: left;\">array&lt;int32&gt;</td><td style=\"white-space: nowrap; max-width: 500px; overflow: hidden; text-overflow: ellipsis; text-align: left;\">array&lt;int32&gt;</td><td style=\"white-space: nowrap; max-width: 500px; overflow: hidden; text-overflow: ellipsis; text-align: left;\">array&lt;int32&gt;</td><td style=\"white-space: nowrap; max-width: 500px; overflow: hidden; text-overflow: ellipsis; text-align: left;\">array&lt;int32&gt;</td><td style=\"white-space: nowrap; max-width: 500px; overflow: hidden; text-overflow: ellipsis; text-align: left;\">array&lt;int32&gt;</td><td style=\"white-space: nowrap; max-width: 500px; overflow: hidden; text-overflow: ellipsis; text-align: left;\">array&lt;int32&gt;</td><td style=\"white-space: nowrap; max-width: 500px; overflow: hidden; text-overflow: ellipsis; text-align: left;\">array&lt;float64&gt;</td><td style=\"white-space: nowrap; max-width: 500px; overflow: hidden; text-overflow: ellipsis; text-align: left;\">array&lt;float64&gt;</td><td style=\"white-space: nowrap; max-width: 500px; overflow: hidden; text-overflow: ellipsis; text-align: left;\">array&lt;float64&gt;</td><td style=\"white-space: nowrap; max-width: 500px; overflow: hidden; text-overflow: ellipsis; text-align: left;\">array&lt;float64&gt;</td><td style=\"white-space: nowrap; max-width: 500px; overflow: hidden; text-overflow: ellipsis; text-align: left;\">array&lt;float64&gt;</td><td style=\"white-space: nowrap; max-width: 500px; overflow: hidden; text-overflow: ellipsis; text-align: left;\">array&lt;float64&gt;</td><td style=\"white-space: nowrap; max-width: 500px; overflow: hidden; text-overflow: ellipsis; text-align: left;\">array&lt;float64&gt;</td><td style=\"white-space: nowrap; max-width: 500px; overflow: hidden; text-overflow: ellipsis; text-align: left;\">array&lt;float64&gt;</td><td style=\"white-space: nowrap; max-width: 500px; overflow: hidden; text-overflow: ellipsis; text-align: left;\">array&lt;float64&gt;</td><td style=\"white-space: nowrap; max-width: 500px; overflow: hidden; text-overflow: ellipsis; text-align: left;\">array&lt;float64&gt;</td><td style=\"white-space: nowrap; max-width: 500px; overflow: hidden; text-overflow: ellipsis; text-align: left;\">array&lt;float64&gt;</td><td style=\"white-space: nowrap; max-width: 500px; overflow: hidden; text-overflow: ellipsis; text-align: left;\">array&lt;float64&gt;</td><td style=\"white-space: nowrap; max-width: 500px; overflow: hidden; text-overflow: ellipsis; text-align: left;\">array&lt;float64&gt;</td><td style=\"white-space: nowrap; max-width: 500px; overflow: hidden; text-overflow: ellipsis; text-align: left;\">array&lt;float64&gt;</td><td style=\"white-space: nowrap; max-width: 500px; overflow: hidden; text-overflow: ellipsis; text-align: left;\">array&lt;float64&gt;</td><td style=\"white-space: nowrap; max-width: 500px; overflow: hidden; text-overflow: ellipsis; text-align: left;\">array&lt;float64&gt;</td><td style=\"white-space: nowrap; max-width: 500px; overflow: hidden; text-overflow: ellipsis; text-align: left;\">array&lt;float64&gt;</td><td style=\"white-space: nowrap; max-width: 500px; overflow: hidden; text-overflow: ellipsis; text-align: left;\">array&lt;float64&gt;</td><td style=\"white-space: nowrap; max-width: 500px; overflow: hidden; text-overflow: ellipsis; text-align: left;\">int32</td><td style=\"white-space: nowrap; max-width: 500px; overflow: hidden; text-overflow: ellipsis; text-align: left;\">int32</td><td style=\"white-space: nowrap; max-width: 500px; overflow: hidden; text-overflow: ellipsis; text-align: left;\">int32</td><td style=\"white-space: nowrap; max-width: 500px; overflow: hidden; text-overflow: ellipsis; text-align: left;\">int32</td><td style=\"white-space: nowrap; max-width: 500px; overflow: hidden; text-overflow: ellipsis; text-align: left;\">int32</td><td style=\"white-space: nowrap; max-width: 500px; overflow: hidden; text-overflow: ellipsis; text-align: left;\">array&lt;int32&gt;</td><td style=\"white-space: nowrap; max-width: 500px; overflow: hidden; text-overflow: ellipsis; text-align: left;\">array&lt;int32&gt;</td><td style=\"white-space: nowrap; max-width: 500px; overflow: hidden; text-overflow: ellipsis; text-align: left;\">array&lt;int32&gt;</td><td style=\"white-space: nowrap; max-width: 500px; overflow: hidden; text-overflow: ellipsis; text-align: left;\">array&lt;int32&gt;</td><td style=\"white-space: nowrap; max-width: 500px; overflow: hidden; text-overflow: ellipsis; text-align: left;\">array&lt;int32&gt;</td><td style=\"white-space: nowrap; max-width: 500px; overflow: hidden; text-overflow: ellipsis; text-align: left;\">array&lt;int32&gt;</td><td style=\"white-space: nowrap; max-width: 500px; overflow: hidden; text-overflow: ellipsis; text-align: left;\">array&lt;int32&gt;</td><td style=\"white-space: nowrap; max-width: 500px; overflow: hidden; text-overflow: ellipsis; text-align: left;\">array&lt;int32&gt;</td><td style=\"white-space: nowrap; max-width: 500px; overflow: hidden; text-overflow: ellipsis; text-align: left;\">array&lt;int32&gt;</td><td style=\"white-space: nowrap; max-width: 500px; overflow: hidden; text-overflow: ellipsis; text-align: left;\">array&lt;int32&gt;</td><td style=\"white-space: nowrap; max-width: 500px; overflow: hidden; text-overflow: ellipsis; text-align: left;\">array&lt;int32&gt;</td><td style=\"white-space: nowrap; max-width: 500px; overflow: hidden; text-overflow: ellipsis; text-align: left;\">array&lt;int32&gt;</td><td style=\"white-space: nowrap; max-width: 500px; overflow: hidden; text-overflow: ellipsis; text-align: left;\">array&lt;int32&gt;</td><td style=\"white-space: nowrap; max-width: 500px; overflow: hidden; text-overflow: ellipsis; text-align: left;\">array&lt;int32&gt;</td><td style=\"white-space: nowrap; max-width: 500px; overflow: hidden; text-overflow: ellipsis; text-align: left;\">array&lt;int32&gt;</td><td style=\"white-space: nowrap; max-width: 500px; overflow: hidden; text-overflow: ellipsis; text-align: left;\">array&lt;float64&gt;</td><td style=\"white-space: nowrap; max-width: 500px; overflow: hidden; text-overflow: ellipsis; text-align: left;\">array&lt;float64&gt;</td><td style=\"white-space: nowrap; max-width: 500px; overflow: hidden; text-overflow: ellipsis; text-align: left;\">array&lt;float64&gt;</td><td style=\"white-space: nowrap; max-width: 500px; overflow: hidden; text-overflow: ellipsis; text-align: left;\">array&lt;float64&gt;</td><td style=\"white-space: nowrap; max-width: 500px; overflow: hidden; text-overflow: ellipsis; text-align: left;\">array&lt;float64&gt;</td><td style=\"white-space: nowrap; max-width: 500px; overflow: hidden; text-overflow: ellipsis; text-align: left;\">array&lt;float64&gt;</td><td style=\"white-space: nowrap; max-width: 500px; overflow: hidden; text-overflow: ellipsis; text-align: left;\">array&lt;float64&gt;</td><td style=\"white-space: nowrap; max-width: 500px; overflow: hidden; text-overflow: ellipsis; text-align: left;\">array&lt;float64&gt;</td><td style=\"white-space: nowrap; max-width: 500px; overflow: hidden; text-overflow: ellipsis; text-align: left;\">array&lt;float64&gt;</td><td style=\"white-space: nowrap; max-width: 500px; overflow: hidden; text-overflow: ellipsis; text-align: left;\">array&lt;float64&gt;</td><td style=\"white-space: nowrap; max-width: 500px; overflow: hidden; text-overflow: ellipsis; text-align: left;\">array&lt;str&gt;</td></tr>\n",
       "</thead><tbody><tr><td style=\"white-space: nowrap; max-width: 500px; overflow: hidden; text-overflow: ellipsis; \">chr22:50197100</td><td style=\"white-space: nowrap; max-width: 500px; overflow: hidden; text-overflow: ellipsis; \">[&quot;T&quot;,&quot;C&quot;]</td><td style=\"white-space: nowrap; max-width: 500px; overflow: hidden; text-overflow: ellipsis; \">NA</td><td style=\"white-space: nowrap; max-width: 500px; overflow: hidden; text-overflow: ellipsis; \">1.40e+04</td><td style=\"white-space: nowrap; max-width: 500px; overflow: hidden; text-overflow: ellipsis; \">{}</td><td style=\"white-space: nowrap; max-width: 500px; overflow: hidden; text-overflow: ellipsis; \">[24]</td><td style=\"white-space: nowrap; max-width: 500px; overflow: hidden; text-overflow: ellipsis; \">[3.75e-03]</td><td style=\"white-space: nowrap; max-width: 500px; overflow: hidden; text-overflow: ellipsis; \">6404</td><td style=\"white-space: nowrap; max-width: 500px; overflow: hidden; text-overflow: ellipsis; \">3.64e-01</td><td style=\"white-space: nowrap; max-width: 500px; overflow: hidden; text-overflow: ellipsis; \">7.92e-01</td><td style=\"white-space: nowrap; max-width: 500px; overflow: hidden; text-overflow: ellipsis; \">121389</td><td style=\"white-space: nowrap; max-width: 500px; overflow: hidden; text-overflow: ellipsis; \">False</td><td style=\"white-space: nowrap; max-width: 500px; overflow: hidden; text-overflow: ellipsis; \">NA</td><td style=\"white-space: nowrap; max-width: 500px; overflow: hidden; text-overflow: ellipsis; \">2.44e+00</td><td style=\"white-space: nowrap; max-width: 500px; overflow: hidden; text-overflow: ellipsis; \">NA</td><td style=\"white-space: nowrap; max-width: 500px; overflow: hidden; text-overflow: ellipsis; \">NA</td><td style=\"white-space: nowrap; max-width: 500px; overflow: hidden; text-overflow: ellipsis; \">[24]</td><td style=\"white-space: nowrap; max-width: 500px; overflow: hidden; text-overflow: ellipsis; \">[3.75e-03]</td><td style=\"white-space: nowrap; max-width: 500px; overflow: hidden; text-overflow: ellipsis; \">6.00e+01</td><td style=\"white-space: nowrap; max-width: 500px; overflow: hidden; text-overflow: ellipsis; \">0</td><td style=\"white-space: nowrap; max-width: 500px; overflow: hidden; text-overflow: ellipsis; \">2.17e-01</td><td style=\"white-space: nowrap; max-width: 500px; overflow: hidden; text-overflow: ellipsis; \">False</td><td style=\"white-space: nowrap; max-width: 500px; overflow: hidden; text-overflow: ellipsis; \">False</td><td style=\"white-space: nowrap; max-width: 500px; overflow: hidden; text-overflow: ellipsis; \">1.32e+01</td><td style=\"white-space: nowrap; max-width: 500px; overflow: hidden; text-overflow: ellipsis; \">NA</td><td style=\"white-space: nowrap; max-width: 500px; overflow: hidden; text-overflow: ellipsis; \">8.92e-01</td><td style=\"white-space: nowrap; max-width: 500px; overflow: hidden; text-overflow: ellipsis; \">8.62e-01</td><td style=\"white-space: nowrap; max-width: 500px; overflow: hidden; text-overflow: ellipsis; \">1.16e+01</td><td style=\"white-space: nowrap; max-width: 500px; overflow: hidden; text-overflow: ellipsis; \">NA</td><td style=\"white-space: nowrap; max-width: 500px; overflow: hidden; text-overflow: ellipsis; \">&quot;MQ&quot;</td><td style=\"white-space: nowrap; max-width: 500px; overflow: hidden; text-overflow: ellipsis; \">1266</td><td style=\"white-space: nowrap; max-width: 500px; overflow: hidden; text-overflow: ellipsis; \">1170</td><td style=\"white-space: nowrap; max-width: 500px; overflow: hidden; text-overflow: ellipsis; \">980</td><td style=\"white-space: nowrap; max-width: 500px; overflow: hidden; text-overflow: ellipsis; \">1202</td><td style=\"white-space: nowrap; max-width: 500px; overflow: hidden; text-overflow: ellipsis; \">1786</td><td style=\"white-space: nowrap; max-width: 500px; overflow: hidden; text-overflow: ellipsis; \">[0]</td><td style=\"white-space: nowrap; max-width: 500px; overflow: hidden; text-overflow: ellipsis; \">[0]</td><td style=\"white-space: nowrap; max-width: 500px; overflow: hidden; text-overflow: ellipsis; \">[4]</td><td style=\"white-space: nowrap; max-width: 500px; overflow: hidden; text-overflow: ellipsis; \">[0]</td><td style=\"white-space: nowrap; max-width: 500px; overflow: hidden; text-overflow: ellipsis; \">[20]</td><td style=\"white-space: nowrap; max-width: 500px; overflow: hidden; text-overflow: ellipsis; \">[0]</td><td style=\"white-space: nowrap; max-width: 500px; overflow: hidden; text-overflow: ellipsis; \">[0]</td><td style=\"white-space: nowrap; max-width: 500px; overflow: hidden; text-overflow: ellipsis; \">[0]</td><td style=\"white-space: nowrap; max-width: 500px; overflow: hidden; text-overflow: ellipsis; \">[0]</td><td style=\"white-space: nowrap; max-width: 500px; overflow: hidden; text-overflow: ellipsis; \">[0]</td><td style=\"white-space: nowrap; max-width: 500px; overflow: hidden; text-overflow: ellipsis; \">[0]</td><td style=\"white-space: nowrap; max-width: 500px; overflow: hidden; text-overflow: ellipsis; \">[0]</td><td style=\"white-space: nowrap; max-width: 500px; overflow: hidden; text-overflow: ellipsis; \">[0]</td><td style=\"white-space: nowrap; max-width: 500px; overflow: hidden; text-overflow: ellipsis; \">[4]</td><td style=\"white-space: nowrap; max-width: 500px; overflow: hidden; text-overflow: ellipsis; \">[0]</td><td style=\"white-space: nowrap; max-width: 500px; overflow: hidden; text-overflow: ellipsis; \">[20]</td><td style=\"white-space: nowrap; max-width: 500px; overflow: hidden; text-overflow: ellipsis; \">[24]</td><td style=\"white-space: nowrap; max-width: 500px; overflow: hidden; text-overflow: ellipsis; \">[0.00e+00]</td><td style=\"white-space: nowrap; max-width: 500px; overflow: hidden; text-overflow: ellipsis; \">[0.00e+00]</td><td style=\"white-space: nowrap; max-width: 500px; overflow: hidden; text-overflow: ellipsis; \">[4.08e-03]</td><td style=\"white-space: nowrap; max-width: 500px; overflow: hidden; text-overflow: ellipsis; \">[0.00e+00]</td><td style=\"white-space: nowrap; max-width: 500px; overflow: hidden; text-overflow: ellipsis; \">[1.12e-02]</td><td style=\"white-space: nowrap; max-width: 500px; overflow: hidden; text-overflow: ellipsis; \">[1.00e+00]</td><td style=\"white-space: nowrap; max-width: 500px; overflow: hidden; text-overflow: ellipsis; \">[1.00e+00]</td><td style=\"white-space: nowrap; max-width: 500px; overflow: hidden; text-overflow: ellipsis; \">[1.00e+00]</td><td style=\"white-space: nowrap; max-width: 500px; overflow: hidden; text-overflow: ellipsis; \">[1.00e+00]</td><td style=\"white-space: nowrap; max-width: 500px; overflow: hidden; text-overflow: ellipsis; \">[1.00e+00]</td><td style=\"white-space: nowrap; max-width: 500px; overflow: hidden; text-overflow: ellipsis; \">[1.00e+00]</td><td style=\"white-space: nowrap; max-width: 500px; overflow: hidden; text-overflow: ellipsis; \">[1.00e+00]</td><td style=\"white-space: nowrap; max-width: 500px; overflow: hidden; text-overflow: ellipsis; \">[1.00e+00]</td><td style=\"white-space: nowrap; max-width: 500px; overflow: hidden; text-overflow: ellipsis; \">[9.94e-01]</td><td style=\"white-space: nowrap; max-width: 500px; overflow: hidden; text-overflow: ellipsis; \">[1.00e+00]</td><td style=\"white-space: nowrap; max-width: 500px; overflow: hidden; text-overflow: ellipsis; \">[8.98e-01]</td><td style=\"white-space: nowrap; max-width: 500px; overflow: hidden; text-overflow: ellipsis; \">[9.58e-01]</td><td style=\"white-space: nowrap; max-width: 500px; overflow: hidden; text-overflow: ellipsis; \">[0.00e+00]</td><td style=\"white-space: nowrap; max-width: 500px; overflow: hidden; text-overflow: ellipsis; \">1006</td><td style=\"white-space: nowrap; max-width: 500px; overflow: hidden; text-overflow: ellipsis; \">1008</td><td style=\"white-space: nowrap; max-width: 500px; overflow: hidden; text-overflow: ellipsis; \">694</td><td style=\"white-space: nowrap; max-width: 500px; overflow: hidden; text-overflow: ellipsis; \">978</td><td style=\"white-space: nowrap; max-width: 500px; overflow: hidden; text-overflow: ellipsis; \">1322</td><td style=\"white-space: nowrap; max-width: 500px; overflow: hidden; text-overflow: ellipsis; \">[0]</td><td style=\"white-space: nowrap; max-width: 500px; overflow: hidden; text-overflow: ellipsis; \">[0]</td><td style=\"white-space: nowrap; max-width: 500px; overflow: hidden; text-overflow: ellipsis; \">[2]</td><td style=\"white-space: nowrap; max-width: 500px; overflow: hidden; text-overflow: ellipsis; \">[0]</td><td style=\"white-space: nowrap; max-width: 500px; overflow: hidden; text-overflow: ellipsis; \">[16]</td><td style=\"white-space: nowrap; max-width: 500px; overflow: hidden; text-overflow: ellipsis; \">[0]</td><td style=\"white-space: nowrap; max-width: 500px; overflow: hidden; text-overflow: ellipsis; \">[0]</td><td style=\"white-space: nowrap; max-width: 500px; overflow: hidden; text-overflow: ellipsis; \">[0]</td><td style=\"white-space: nowrap; max-width: 500px; overflow: hidden; text-overflow: ellipsis; \">[0]</td><td style=\"white-space: nowrap; max-width: 500px; overflow: hidden; text-overflow: ellipsis; \">[0]</td><td style=\"white-space: nowrap; max-width: 500px; overflow: hidden; text-overflow: ellipsis; \">[0]</td><td style=\"white-space: nowrap; max-width: 500px; overflow: hidden; text-overflow: ellipsis; \">[0]</td><td style=\"white-space: nowrap; max-width: 500px; overflow: hidden; text-overflow: ellipsis; \">[2]</td><td style=\"white-space: nowrap; max-width: 500px; overflow: hidden; text-overflow: ellipsis; \">[0]</td><td style=\"white-space: nowrap; max-width: 500px; overflow: hidden; text-overflow: ellipsis; \">[16]</td><td style=\"white-space: nowrap; max-width: 500px; overflow: hidden; text-overflow: ellipsis; \">[0.00e+00]</td><td style=\"white-space: nowrap; max-width: 500px; overflow: hidden; text-overflow: ellipsis; \">[0.00e+00]</td><td style=\"white-space: nowrap; max-width: 500px; overflow: hidden; text-overflow: ellipsis; \">[2.88e-03]</td><td style=\"white-space: nowrap; max-width: 500px; overflow: hidden; text-overflow: ellipsis; \">[0.00e+00]</td><td style=\"white-space: nowrap; max-width: 500px; overflow: hidden; text-overflow: ellipsis; \">[1.21e-02]</td><td style=\"white-space: nowrap; max-width: 500px; overflow: hidden; text-overflow: ellipsis; \">NA</td><td style=\"white-space: nowrap; max-width: 500px; overflow: hidden; text-overflow: ellipsis; \">NA</td><td style=\"white-space: nowrap; max-width: 500px; overflow: hidden; text-overflow: ellipsis; \">NA</td><td style=\"white-space: nowrap; max-width: 500px; overflow: hidden; text-overflow: ellipsis; \">NA</td><td style=\"white-space: nowrap; max-width: 500px; overflow: hidden; text-overflow: ellipsis; \">NA</td><td style=\"white-space: nowrap; max-width: 500px; overflow: hidden; text-overflow: ellipsis; \">[&quot;C|upstream_gene_variant|MODIFIER|SELENOO|ENSG00000073169|Transcript|ENST00000380903|protein_coding|||||||||||3911|1||HGNC|HGNC:30395&quot;]</td></tr>\n",
       "<tr><td style=\"white-space: nowrap; max-width: 500px; overflow: hidden; text-overflow: ellipsis; \">chr22:50197103</td><td style=\"white-space: nowrap; max-width: 500px; overflow: hidden; text-overflow: ellipsis; \">[&quot;C&quot;,&quot;T&quot;]</td><td style=\"white-space: nowrap; max-width: 500px; overflow: hidden; text-overflow: ellipsis; \">NA</td><td style=\"white-space: nowrap; max-width: 500px; overflow: hidden; text-overflow: ellipsis; \">5.58e+02</td><td style=\"white-space: nowrap; max-width: 500px; overflow: hidden; text-overflow: ellipsis; \">{}</td><td style=\"white-space: nowrap; max-width: 500px; overflow: hidden; text-overflow: ellipsis; \">[1]</td><td style=\"white-space: nowrap; max-width: 500px; overflow: hidden; text-overflow: ellipsis; \">[1.56e-04]</td><td style=\"white-space: nowrap; max-width: 500px; overflow: hidden; text-overflow: ellipsis; \">6404</td><td style=\"white-space: nowrap; max-width: 500px; overflow: hidden; text-overflow: ellipsis; \">-1.91e+00</td><td style=\"white-space: nowrap; max-width: 500px; overflow: hidden; text-overflow: ellipsis; \">-9.06e-01</td><td style=\"white-space: nowrap; max-width: 500px; overflow: hidden; text-overflow: ellipsis; \">121310</td><td style=\"white-space: nowrap; max-width: 500px; overflow: hidden; text-overflow: ellipsis; \">False</td><td style=\"white-space: nowrap; max-width: 500px; overflow: hidden; text-overflow: ellipsis; \">NA</td><td style=\"white-space: nowrap; max-width: 500px; overflow: hidden; text-overflow: ellipsis; \">1.12e+00</td><td style=\"white-space: nowrap; max-width: 500px; overflow: hidden; text-overflow: ellipsis; \">NA</td><td style=\"white-space: nowrap; max-width: 500px; overflow: hidden; text-overflow: ellipsis; \">-2.00e-04</td><td style=\"white-space: nowrap; max-width: 500px; overflow: hidden; text-overflow: ellipsis; \">[1]</td><td style=\"white-space: nowrap; max-width: 500px; overflow: hidden; text-overflow: ellipsis; \">[1.56e-04]</td><td style=\"white-space: nowrap; max-width: 500px; overflow: hidden; text-overflow: ellipsis; \">6.00e+01</td><td style=\"white-space: nowrap; max-width: 500px; overflow: hidden; text-overflow: ellipsis; \">0</td><td style=\"white-space: nowrap; max-width: 500px; overflow: hidden; text-overflow: ellipsis; \">2.02e+00</td><td style=\"white-space: nowrap; max-width: 500px; overflow: hidden; text-overflow: ellipsis; \">False</td><td style=\"white-space: nowrap; max-width: 500px; overflow: hidden; text-overflow: ellipsis; \">False</td><td style=\"white-space: nowrap; max-width: 500px; overflow: hidden; text-overflow: ellipsis; \">1.19e+01</td><td style=\"white-space: nowrap; max-width: 500px; overflow: hidden; text-overflow: ellipsis; \">NA</td><td style=\"white-space: nowrap; max-width: 500px; overflow: hidden; text-overflow: ellipsis; \">5.30e-02</td><td style=\"white-space: nowrap; max-width: 500px; overflow: hidden; text-overflow: ellipsis; \">5.07e-01</td><td style=\"white-space: nowrap; max-width: 500px; overflow: hidden; text-overflow: ellipsis; \">1.44e+01</td><td style=\"white-space: nowrap; max-width: 500px; overflow: hidden; text-overflow: ellipsis; \">NA</td><td style=\"white-space: nowrap; max-width: 500px; overflow: hidden; text-overflow: ellipsis; \">&quot;MQ&quot;</td><td style=\"white-space: nowrap; max-width: 500px; overflow: hidden; text-overflow: ellipsis; \">1266</td><td style=\"white-space: nowrap; max-width: 500px; overflow: hidden; text-overflow: ellipsis; \">1170</td><td style=\"white-space: nowrap; max-width: 500px; overflow: hidden; text-overflow: ellipsis; \">980</td><td style=\"white-space: nowrap; max-width: 500px; overflow: hidden; text-overflow: ellipsis; \">1202</td><td style=\"white-space: nowrap; max-width: 500px; overflow: hidden; text-overflow: ellipsis; \">1786</td><td style=\"white-space: nowrap; max-width: 500px; overflow: hidden; text-overflow: ellipsis; \">[0]</td><td style=\"white-space: nowrap; max-width: 500px; overflow: hidden; text-overflow: ellipsis; \">[0]</td><td style=\"white-space: nowrap; max-width: 500px; overflow: hidden; text-overflow: ellipsis; \">[0]</td><td style=\"white-space: nowrap; max-width: 500px; overflow: hidden; text-overflow: ellipsis; \">[0]</td><td style=\"white-space: nowrap; max-width: 500px; overflow: hidden; text-overflow: ellipsis; \">[1]</td><td style=\"white-space: nowrap; max-width: 500px; overflow: hidden; text-overflow: ellipsis; \">[0]</td><td style=\"white-space: nowrap; max-width: 500px; overflow: hidden; text-overflow: ellipsis; \">[0]</td><td style=\"white-space: nowrap; max-width: 500px; overflow: hidden; text-overflow: ellipsis; \">[0]</td><td style=\"white-space: nowrap; max-width: 500px; overflow: hidden; text-overflow: ellipsis; \">[0]</td><td style=\"white-space: nowrap; max-width: 500px; overflow: hidden; text-overflow: ellipsis; \">[0]</td><td style=\"white-space: nowrap; max-width: 500px; overflow: hidden; text-overflow: ellipsis; \">[0]</td><td style=\"white-space: nowrap; max-width: 500px; overflow: hidden; text-overflow: ellipsis; \">[0]</td><td style=\"white-space: nowrap; max-width: 500px; overflow: hidden; text-overflow: ellipsis; \">[0]</td><td style=\"white-space: nowrap; max-width: 500px; overflow: hidden; text-overflow: ellipsis; \">[0]</td><td style=\"white-space: nowrap; max-width: 500px; overflow: hidden; text-overflow: ellipsis; \">[0]</td><td style=\"white-space: nowrap; max-width: 500px; overflow: hidden; text-overflow: ellipsis; \">[1]</td><td style=\"white-space: nowrap; max-width: 500px; overflow: hidden; text-overflow: ellipsis; \">[1]</td><td style=\"white-space: nowrap; max-width: 500px; overflow: hidden; text-overflow: ellipsis; \">[0.00e+00]</td><td style=\"white-space: nowrap; max-width: 500px; overflow: hidden; text-overflow: ellipsis; \">[0.00e+00]</td><td style=\"white-space: nowrap; max-width: 500px; overflow: hidden; text-overflow: ellipsis; \">[0.00e+00]</td><td style=\"white-space: nowrap; max-width: 500px; overflow: hidden; text-overflow: ellipsis; \">[0.00e+00]</td><td style=\"white-space: nowrap; max-width: 500px; overflow: hidden; text-overflow: ellipsis; \">[5.60e-04]</td><td style=\"white-space: nowrap; max-width: 500px; overflow: hidden; text-overflow: ellipsis; \">[1.00e+00]</td><td style=\"white-space: nowrap; max-width: 500px; overflow: hidden; text-overflow: ellipsis; \">[1.00e+00]</td><td style=\"white-space: nowrap; max-width: 500px; overflow: hidden; text-overflow: ellipsis; \">[1.00e+00]</td><td style=\"white-space: nowrap; max-width: 500px; overflow: hidden; text-overflow: ellipsis; \">[1.00e+00]</td><td style=\"white-space: nowrap; max-width: 500px; overflow: hidden; text-overflow: ellipsis; \">[1.00e+00]</td><td style=\"white-space: nowrap; max-width: 500px; overflow: hidden; text-overflow: ellipsis; \">[1.00e+00]</td><td style=\"white-space: nowrap; max-width: 500px; overflow: hidden; text-overflow: ellipsis; \">[1.00e+00]</td><td style=\"white-space: nowrap; max-width: 500px; overflow: hidden; text-overflow: ellipsis; \">[1.00e+00]</td><td style=\"white-space: nowrap; max-width: 500px; overflow: hidden; text-overflow: ellipsis; \">[1.00e+00]</td><td style=\"white-space: nowrap; max-width: 500px; overflow: hidden; text-overflow: ellipsis; \">[1.00e+00]</td><td style=\"white-space: nowrap; max-width: 500px; overflow: hidden; text-overflow: ellipsis; \">[1.00e+00]</td><td style=\"white-space: nowrap; max-width: 500px; overflow: hidden; text-overflow: ellipsis; \">[1.00e+00]</td><td style=\"white-space: nowrap; max-width: 500px; overflow: hidden; text-overflow: ellipsis; \">[0.00e+00]</td><td style=\"white-space: nowrap; max-width: 500px; overflow: hidden; text-overflow: ellipsis; \">1006</td><td style=\"white-space: nowrap; max-width: 500px; overflow: hidden; text-overflow: ellipsis; \">1008</td><td style=\"white-space: nowrap; max-width: 500px; overflow: hidden; text-overflow: ellipsis; \">694</td><td style=\"white-space: nowrap; max-width: 500px; overflow: hidden; text-overflow: ellipsis; \">978</td><td style=\"white-space: nowrap; max-width: 500px; overflow: hidden; text-overflow: ellipsis; \">1322</td><td style=\"white-space: nowrap; max-width: 500px; overflow: hidden; text-overflow: ellipsis; \">[0]</td><td style=\"white-space: nowrap; max-width: 500px; overflow: hidden; text-overflow: ellipsis; \">[0]</td><td style=\"white-space: nowrap; max-width: 500px; overflow: hidden; text-overflow: ellipsis; \">[0]</td><td style=\"white-space: nowrap; max-width: 500px; overflow: hidden; text-overflow: ellipsis; \">[0]</td><td style=\"white-space: nowrap; max-width: 500px; overflow: hidden; text-overflow: ellipsis; \">[1]</td><td style=\"white-space: nowrap; max-width: 500px; overflow: hidden; text-overflow: ellipsis; \">[0]</td><td style=\"white-space: nowrap; max-width: 500px; overflow: hidden; text-overflow: ellipsis; \">[0]</td><td style=\"white-space: nowrap; max-width: 500px; overflow: hidden; text-overflow: ellipsis; \">[0]</td><td style=\"white-space: nowrap; max-width: 500px; overflow: hidden; text-overflow: ellipsis; \">[0]</td><td style=\"white-space: nowrap; max-width: 500px; overflow: hidden; text-overflow: ellipsis; \">[0]</td><td style=\"white-space: nowrap; max-width: 500px; overflow: hidden; text-overflow: ellipsis; \">[0]</td><td style=\"white-space: nowrap; max-width: 500px; overflow: hidden; text-overflow: ellipsis; \">[0]</td><td style=\"white-space: nowrap; max-width: 500px; overflow: hidden; text-overflow: ellipsis; \">[0]</td><td style=\"white-space: nowrap; max-width: 500px; overflow: hidden; text-overflow: ellipsis; \">[0]</td><td style=\"white-space: nowrap; max-width: 500px; overflow: hidden; text-overflow: ellipsis; \">[1]</td><td style=\"white-space: nowrap; max-width: 500px; overflow: hidden; text-overflow: ellipsis; \">[0.00e+00]</td><td style=\"white-space: nowrap; max-width: 500px; overflow: hidden; text-overflow: ellipsis; \">[0.00e+00]</td><td style=\"white-space: nowrap; max-width: 500px; overflow: hidden; text-overflow: ellipsis; \">[0.00e+00]</td><td style=\"white-space: nowrap; max-width: 500px; overflow: hidden; text-overflow: ellipsis; \">[0.00e+00]</td><td style=\"white-space: nowrap; max-width: 500px; overflow: hidden; text-overflow: ellipsis; \">[7.56e-04]</td><td style=\"white-space: nowrap; max-width: 500px; overflow: hidden; text-overflow: ellipsis; \">NA</td><td style=\"white-space: nowrap; max-width: 500px; overflow: hidden; text-overflow: ellipsis; \">NA</td><td style=\"white-space: nowrap; max-width: 500px; overflow: hidden; text-overflow: ellipsis; \">NA</td><td style=\"white-space: nowrap; max-width: 500px; overflow: hidden; text-overflow: ellipsis; \">NA</td><td style=\"white-space: nowrap; max-width: 500px; overflow: hidden; text-overflow: ellipsis; \">NA</td><td style=\"white-space: nowrap; max-width: 500px; overflow: hidden; text-overflow: ellipsis; \">[&quot;T|upstream_gene_variant|MODIFIER|SELENOO|ENSG00000073169|Transcript|ENST00000380903|protein_coding|||||||||||3908|1||HGNC|HGNC:30395&quot;]</td></tr>\n",
       "<tr><td style=\"white-space: nowrap; max-width: 500px; overflow: hidden; text-overflow: ellipsis; \">chr22:50197193</td><td style=\"white-space: nowrap; max-width: 500px; overflow: hidden; text-overflow: ellipsis; \">[&quot;A&quot;,&quot;C&quot;]</td><td style=\"white-space: nowrap; max-width: 500px; overflow: hidden; text-overflow: ellipsis; \">NA</td><td style=\"white-space: nowrap; max-width: 500px; overflow: hidden; text-overflow: ellipsis; \">4.70e+02</td><td style=\"white-space: nowrap; max-width: 500px; overflow: hidden; text-overflow: ellipsis; \">{&quot;VQSRTrancheSNP99.80to100.00&quot;}</td><td style=\"white-space: nowrap; max-width: 500px; overflow: hidden; text-overflow: ellipsis; \">[15]</td><td style=\"white-space: nowrap; max-width: 500px; overflow: hidden; text-overflow: ellipsis; \">[2.34e-03]</td><td style=\"white-space: nowrap; max-width: 500px; overflow: hidden; text-overflow: ellipsis; \">6402</td><td style=\"white-space: nowrap; max-width: 500px; overflow: hidden; text-overflow: ellipsis; \">-1.09e+00</td><td style=\"white-space: nowrap; max-width: 500px; overflow: hidden; text-overflow: ellipsis; \">-2.01e-01</td><td style=\"white-space: nowrap; max-width: 500px; overflow: hidden; text-overflow: ellipsis; \">123891</td><td style=\"white-space: nowrap; max-width: 500px; overflow: hidden; text-overflow: ellipsis; \">False</td><td style=\"white-space: nowrap; max-width: 500px; overflow: hidden; text-overflow: ellipsis; \">NA</td><td style=\"white-space: nowrap; max-width: 500px; overflow: hidden; text-overflow: ellipsis; \">2.61e+01</td><td style=\"white-space: nowrap; max-width: 500px; overflow: hidden; text-overflow: ellipsis; \">NA</td><td style=\"white-space: nowrap; max-width: 500px; overflow: hidden; text-overflow: ellipsis; \">-9.40e-03</td><td style=\"white-space: nowrap; max-width: 500px; overflow: hidden; text-overflow: ellipsis; \">[11]</td><td style=\"white-space: nowrap; max-width: 500px; overflow: hidden; text-overflow: ellipsis; \">[1.72e-03]</td><td style=\"white-space: nowrap; max-width: 500px; overflow: hidden; text-overflow: ellipsis; \">5.97e+01</td><td style=\"white-space: nowrap; max-width: 500px; overflow: hidden; text-overflow: ellipsis; \">0</td><td style=\"white-space: nowrap; max-width: 500px; overflow: hidden; text-overflow: ellipsis; \">-1.15e-01</td><td style=\"white-space: nowrap; max-width: 500px; overflow: hidden; text-overflow: ellipsis; \">False</td><td style=\"white-space: nowrap; max-width: 500px; overflow: hidden; text-overflow: ellipsis; \">False</td><td style=\"white-space: nowrap; max-width: 500px; overflow: hidden; text-overflow: ellipsis; \">1.20e+00</td><td style=\"white-space: nowrap; max-width: 500px; overflow: hidden; text-overflow: ellipsis; \">NA</td><td style=\"white-space: nowrap; max-width: 500px; overflow: hidden; text-overflow: ellipsis; \">-1.60e+00</td><td style=\"white-space: nowrap; max-width: 500px; overflow: hidden; text-overflow: ellipsis; \">7.45e+00</td><td style=\"white-space: nowrap; max-width: 500px; overflow: hidden; text-overflow: ellipsis; \">-9.20e+01</td><td style=\"white-space: nowrap; max-width: 500px; overflow: hidden; text-overflow: ellipsis; \">NA</td><td style=\"white-space: nowrap; max-width: 500px; overflow: hidden; text-overflow: ellipsis; \">&quot;SOR&quot;</td><td style=\"white-space: nowrap; max-width: 500px; overflow: hidden; text-overflow: ellipsis; \">1266</td><td style=\"white-space: nowrap; max-width: 500px; overflow: hidden; text-overflow: ellipsis; \">1170</td><td style=\"white-space: nowrap; max-width: 500px; overflow: hidden; text-overflow: ellipsis; \">980</td><td style=\"white-space: nowrap; max-width: 500px; overflow: hidden; text-overflow: ellipsis; \">1202</td><td style=\"white-space: nowrap; max-width: 500px; overflow: hidden; text-overflow: ellipsis; \">1784</td><td style=\"white-space: nowrap; max-width: 500px; overflow: hidden; text-overflow: ellipsis; \">[0]</td><td style=\"white-space: nowrap; max-width: 500px; overflow: hidden; text-overflow: ellipsis; \">[0]</td><td style=\"white-space: nowrap; max-width: 500px; overflow: hidden; text-overflow: ellipsis; \">[0]</td><td style=\"white-space: nowrap; max-width: 500px; overflow: hidden; text-overflow: ellipsis; \">[0]</td><td style=\"white-space: nowrap; max-width: 500px; overflow: hidden; text-overflow: ellipsis; \">[15]</td><td style=\"white-space: nowrap; max-width: 500px; overflow: hidden; text-overflow: ellipsis; \">[0]</td><td style=\"white-space: nowrap; max-width: 500px; overflow: hidden; text-overflow: ellipsis; \">[0]</td><td style=\"white-space: nowrap; max-width: 500px; overflow: hidden; text-overflow: ellipsis; \">[0]</td><td style=\"white-space: nowrap; max-width: 500px; overflow: hidden; text-overflow: ellipsis; \">[0]</td><td style=\"white-space: nowrap; max-width: 500px; overflow: hidden; text-overflow: ellipsis; \">[0]</td><td style=\"white-space: nowrap; max-width: 500px; overflow: hidden; text-overflow: ellipsis; \">[0]</td><td style=\"white-space: nowrap; max-width: 500px; overflow: hidden; text-overflow: ellipsis; \">[0]</td><td style=\"white-space: nowrap; max-width: 500px; overflow: hidden; text-overflow: ellipsis; \">[0]</td><td style=\"white-space: nowrap; max-width: 500px; overflow: hidden; text-overflow: ellipsis; \">[0]</td><td style=\"white-space: nowrap; max-width: 500px; overflow: hidden; text-overflow: ellipsis; \">[0]</td><td style=\"white-space: nowrap; max-width: 500px; overflow: hidden; text-overflow: ellipsis; \">[15]</td><td style=\"white-space: nowrap; max-width: 500px; overflow: hidden; text-overflow: ellipsis; \">[15]</td><td style=\"white-space: nowrap; max-width: 500px; overflow: hidden; text-overflow: ellipsis; \">[0.00e+00]</td><td style=\"white-space: nowrap; max-width: 500px; overflow: hidden; text-overflow: ellipsis; \">[0.00e+00]</td><td style=\"white-space: nowrap; max-width: 500px; overflow: hidden; text-overflow: ellipsis; \">[0.00e+00]</td><td style=\"white-space: nowrap; max-width: 500px; overflow: hidden; text-overflow: ellipsis; \">[0.00e+00]</td><td style=\"white-space: nowrap; max-width: 500px; overflow: hidden; text-overflow: ellipsis; \">[8.41e-03]</td><td style=\"white-space: nowrap; max-width: 500px; overflow: hidden; text-overflow: ellipsis; \">[1.00e+00]</td><td style=\"white-space: nowrap; max-width: 500px; overflow: hidden; text-overflow: ellipsis; \">[1.00e+00]</td><td style=\"white-space: nowrap; max-width: 500px; overflow: hidden; text-overflow: ellipsis; \">[1.00e+00]</td><td style=\"white-space: nowrap; max-width: 500px; overflow: hidden; text-overflow: ellipsis; \">[1.00e+00]</td><td style=\"white-space: nowrap; max-width: 500px; overflow: hidden; text-overflow: ellipsis; \">[1.00e+00]</td><td style=\"white-space: nowrap; max-width: 500px; overflow: hidden; text-overflow: ellipsis; \">[1.00e+00]</td><td style=\"white-space: nowrap; max-width: 500px; overflow: hidden; text-overflow: ellipsis; \">[1.00e+00]</td><td style=\"white-space: nowrap; max-width: 500px; overflow: hidden; text-overflow: ellipsis; \">[1.00e+00]</td><td style=\"white-space: nowrap; max-width: 500px; overflow: hidden; text-overflow: ellipsis; \">[1.00e+00]</td><td style=\"white-space: nowrap; max-width: 500px; overflow: hidden; text-overflow: ellipsis; \">[1.00e+00]</td><td style=\"white-space: nowrap; max-width: 500px; overflow: hidden; text-overflow: ellipsis; \">[9.42e-01]</td><td style=\"white-space: nowrap; max-width: 500px; overflow: hidden; text-overflow: ellipsis; \">[9.84e-01]</td><td style=\"white-space: nowrap; max-width: 500px; overflow: hidden; text-overflow: ellipsis; \">[1.17e-02]</td><td style=\"white-space: nowrap; max-width: 500px; overflow: hidden; text-overflow: ellipsis; \">1006</td><td style=\"white-space: nowrap; max-width: 500px; overflow: hidden; text-overflow: ellipsis; \">1008</td><td style=\"white-space: nowrap; max-width: 500px; overflow: hidden; text-overflow: ellipsis; \">694</td><td style=\"white-space: nowrap; max-width: 500px; overflow: hidden; text-overflow: ellipsis; \">978</td><td style=\"white-space: nowrap; max-width: 500px; overflow: hidden; text-overflow: ellipsis; \">1322</td><td style=\"white-space: nowrap; max-width: 500px; overflow: hidden; text-overflow: ellipsis; \">[0]</td><td style=\"white-space: nowrap; max-width: 500px; overflow: hidden; text-overflow: ellipsis; \">[0]</td><td style=\"white-space: nowrap; max-width: 500px; overflow: hidden; text-overflow: ellipsis; \">[0]</td><td style=\"white-space: nowrap; max-width: 500px; overflow: hidden; text-overflow: ellipsis; \">[0]</td><td style=\"white-space: nowrap; max-width: 500px; overflow: hidden; text-overflow: ellipsis; \">[7]</td><td style=\"white-space: nowrap; max-width: 500px; overflow: hidden; text-overflow: ellipsis; \">[0]</td><td style=\"white-space: nowrap; max-width: 500px; overflow: hidden; text-overflow: ellipsis; \">[0]</td><td style=\"white-space: nowrap; max-width: 500px; overflow: hidden; text-overflow: ellipsis; \">[0]</td><td style=\"white-space: nowrap; max-width: 500px; overflow: hidden; text-overflow: ellipsis; \">[0]</td><td style=\"white-space: nowrap; max-width: 500px; overflow: hidden; text-overflow: ellipsis; \">[0]</td><td style=\"white-space: nowrap; max-width: 500px; overflow: hidden; text-overflow: ellipsis; \">[0]</td><td style=\"white-space: nowrap; max-width: 500px; overflow: hidden; text-overflow: ellipsis; \">[0]</td><td style=\"white-space: nowrap; max-width: 500px; overflow: hidden; text-overflow: ellipsis; \">[0]</td><td style=\"white-space: nowrap; max-width: 500px; overflow: hidden; text-overflow: ellipsis; \">[0]</td><td style=\"white-space: nowrap; max-width: 500px; overflow: hidden; text-overflow: ellipsis; \">[7]</td><td style=\"white-space: nowrap; max-width: 500px; overflow: hidden; text-overflow: ellipsis; \">[0.00e+00]</td><td style=\"white-space: nowrap; max-width: 500px; overflow: hidden; text-overflow: ellipsis; \">[0.00e+00]</td><td style=\"white-space: nowrap; max-width: 500px; overflow: hidden; text-overflow: ellipsis; \">[0.00e+00]</td><td style=\"white-space: nowrap; max-width: 500px; overflow: hidden; text-overflow: ellipsis; \">[0.00e+00]</td><td style=\"white-space: nowrap; max-width: 500px; overflow: hidden; text-overflow: ellipsis; \">[5.30e-03]</td><td style=\"white-space: nowrap; max-width: 500px; overflow: hidden; text-overflow: ellipsis; \">NA</td><td style=\"white-space: nowrap; max-width: 500px; overflow: hidden; text-overflow: ellipsis; \">NA</td><td style=\"white-space: nowrap; max-width: 500px; overflow: hidden; text-overflow: ellipsis; \">NA</td><td style=\"white-space: nowrap; max-width: 500px; overflow: hidden; text-overflow: ellipsis; \">NA</td><td style=\"white-space: nowrap; max-width: 500px; overflow: hidden; text-overflow: ellipsis; \">NA</td><td style=\"white-space: nowrap; max-width: 500px; overflow: hidden; text-overflow: ellipsis; \">[&quot;C|upstream_gene_variant|MODIFIER|SELENOO|ENSG00000073169|Transcript|ENST00000380903|protein_coding|||||||||||3818|1||HGNC|HGNC:30395&quot;]</td></tr>\n",
       "<tr><td style=\"white-space: nowrap; max-width: 500px; overflow: hidden; text-overflow: ellipsis; \">chr22:50197198</td><td style=\"white-space: nowrap; max-width: 500px; overflow: hidden; text-overflow: ellipsis; \">[&quot;C&quot;,&quot;T&quot;]</td><td style=\"white-space: nowrap; max-width: 500px; overflow: hidden; text-overflow: ellipsis; \">NA</td><td style=\"white-space: nowrap; max-width: 500px; overflow: hidden; text-overflow: ellipsis; \">1.69e+06</td><td style=\"white-space: nowrap; max-width: 500px; overflow: hidden; text-overflow: ellipsis; \">{}</td><td style=\"white-space: nowrap; max-width: 500px; overflow: hidden; text-overflow: ellipsis; \">[2439]</td><td style=\"white-space: nowrap; max-width: 500px; overflow: hidden; text-overflow: ellipsis; \">[3.81e-01]</td><td style=\"white-space: nowrap; max-width: 500px; overflow: hidden; text-overflow: ellipsis; \">6402</td><td style=\"white-space: nowrap; max-width: 500px; overflow: hidden; text-overflow: ellipsis; \">1.42e-01</td><td style=\"white-space: nowrap; max-width: 500px; overflow: hidden; text-overflow: ellipsis; \">-2.40e-02</td><td style=\"white-space: nowrap; max-width: 500px; overflow: hidden; text-overflow: ellipsis; \">135837</td><td style=\"white-space: nowrap; max-width: 500px; overflow: hidden; text-overflow: ellipsis; \">False</td><td style=\"white-space: nowrap; max-width: 500px; overflow: hidden; text-overflow: ellipsis; \">NA</td><td style=\"white-space: nowrap; max-width: 500px; overflow: hidden; text-overflow: ellipsis; \">1.13e+00</td><td style=\"white-space: nowrap; max-width: 500px; overflow: hidden; text-overflow: ellipsis; \">NA</td><td style=\"white-space: nowrap; max-width: 500px; overflow: hidden; text-overflow: ellipsis; \">3.30e-03</td><td style=\"white-space: nowrap; max-width: 500px; overflow: hidden; text-overflow: ellipsis; \">[2459]</td><td style=\"white-space: nowrap; max-width: 500px; overflow: hidden; text-overflow: ellipsis; \">[3.84e-01]</td><td style=\"white-space: nowrap; max-width: 500px; overflow: hidden; text-overflow: ellipsis; \">6.00e+01</td><td style=\"white-space: nowrap; max-width: 500px; overflow: hidden; text-overflow: ellipsis; \">0</td><td style=\"white-space: nowrap; max-width: 500px; overflow: hidden; text-overflow: ellipsis; \">0.00e+00</td><td style=\"white-space: nowrap; max-width: 500px; overflow: hidden; text-overflow: ellipsis; \">False</td><td style=\"white-space: nowrap; max-width: 500px; overflow: hidden; text-overflow: ellipsis; \">False</td><td style=\"white-space: nowrap; max-width: 500px; overflow: hidden; text-overflow: ellipsis; \">1.91e+01</td><td style=\"white-space: nowrap; max-width: 500px; overflow: hidden; text-overflow: ellipsis; \">NA</td><td style=\"white-space: nowrap; max-width: 500px; overflow: hidden; text-overflow: ellipsis; \">5.93e-01</td><td style=\"white-space: nowrap; max-width: 500px; overflow: hidden; text-overflow: ellipsis; \">6.09e-01</td><td style=\"white-space: nowrap; max-width: 500px; overflow: hidden; text-overflow: ellipsis; \">3.08e+00</td><td style=\"white-space: nowrap; max-width: 500px; overflow: hidden; text-overflow: ellipsis; \">NA</td><td style=\"white-space: nowrap; max-width: 500px; overflow: hidden; text-overflow: ellipsis; \">&quot;MQ&quot;</td><td style=\"white-space: nowrap; max-width: 500px; overflow: hidden; text-overflow: ellipsis; \">1266</td><td style=\"white-space: nowrap; max-width: 500px; overflow: hidden; text-overflow: ellipsis; \">1170</td><td style=\"white-space: nowrap; max-width: 500px; overflow: hidden; text-overflow: ellipsis; \">980</td><td style=\"white-space: nowrap; max-width: 500px; overflow: hidden; text-overflow: ellipsis; \">1202</td><td style=\"white-space: nowrap; max-width: 500px; overflow: hidden; text-overflow: ellipsis; \">1784</td><td style=\"white-space: nowrap; max-width: 500px; overflow: hidden; text-overflow: ellipsis; \">[456]</td><td style=\"white-space: nowrap; max-width: 500px; overflow: hidden; text-overflow: ellipsis; \">[452]</td><td style=\"white-space: nowrap; max-width: 500px; overflow: hidden; text-overflow: ellipsis; \">[365]</td><td style=\"white-space: nowrap; max-width: 500px; overflow: hidden; text-overflow: ellipsis; \">[429]</td><td style=\"white-space: nowrap; max-width: 500px; overflow: hidden; text-overflow: ellipsis; \">[737]</td><td style=\"white-space: nowrap; max-width: 500px; overflow: hidden; text-overflow: ellipsis; \">[166]</td><td style=\"white-space: nowrap; max-width: 500px; overflow: hidden; text-overflow: ellipsis; \">[168]</td><td style=\"white-space: nowrap; max-width: 500px; overflow: hidden; text-overflow: ellipsis; \">[154]</td><td style=\"white-space: nowrap; max-width: 500px; overflow: hidden; text-overflow: ellipsis; \">[168]</td><td style=\"white-space: nowrap; max-width: 500px; overflow: hidden; text-overflow: ellipsis; \">[298]</td><td style=\"white-space: nowrap; max-width: 500px; overflow: hidden; text-overflow: ellipsis; \">[954]</td><td style=\"white-space: nowrap; max-width: 500px; overflow: hidden; text-overflow: ellipsis; \">[290]</td><td style=\"white-space: nowrap; max-width: 500px; overflow: hidden; text-overflow: ellipsis; \">[284]</td><td style=\"white-space: nowrap; max-width: 500px; overflow: hidden; text-overflow: ellipsis; \">[211]</td><td style=\"white-space: nowrap; max-width: 500px; overflow: hidden; text-overflow: ellipsis; \">[261]</td><td style=\"white-space: nowrap; max-width: 500px; overflow: hidden; text-overflow: ellipsis; \">[439]</td><td style=\"white-space: nowrap; max-width: 500px; overflow: hidden; text-overflow: ellipsis; \">[1485]</td><td style=\"white-space: nowrap; max-width: 500px; overflow: hidden; text-overflow: ellipsis; \">[3.60e-01]</td><td style=\"white-space: nowrap; max-width: 500px; overflow: hidden; text-overflow: ellipsis; \">[3.86e-01]</td><td style=\"white-space: nowrap; max-width: 500px; overflow: hidden; text-overflow: ellipsis; \">[3.72e-01]</td><td style=\"white-space: nowrap; max-width: 500px; overflow: hidden; text-overflow: ellipsis; \">[3.57e-01]</td><td style=\"white-space: nowrap; max-width: 500px; overflow: hidden; text-overflow: ellipsis; \">[4.13e-01]</td><td style=\"white-space: nowrap; max-width: 500px; overflow: hidden; text-overflow: ellipsis; \">[8.63e-01]</td><td style=\"white-space: nowrap; max-width: 500px; overflow: hidden; text-overflow: ellipsis; \">[6.01e-01]</td><td style=\"white-space: nowrap; max-width: 500px; overflow: hidden; text-overflow: ellipsis; \">[8.23e-02]</td><td style=\"white-space: nowrap; max-width: 500px; overflow: hidden; text-overflow: ellipsis; \">[1.83e-01]</td><td style=\"white-space: nowrap; max-width: 500px; overflow: hidden; text-overflow: ellipsis; \">[6.79e-01]</td><td style=\"white-space: nowrap; max-width: 500px; overflow: hidden; text-overflow: ellipsis; \">[3.49e-01]</td><td style=\"white-space: nowrap; max-width: 500px; overflow: hidden; text-overflow: ellipsis; \">[6.02e-01]</td><td style=\"white-space: nowrap; max-width: 500px; overflow: hidden; text-overflow: ellipsis; \">[3.20e-01]</td><td style=\"white-space: nowrap; max-width: 500px; overflow: hidden; text-overflow: ellipsis; \">[9.69e-01]</td><td style=\"white-space: nowrap; max-width: 500px; overflow: hidden; text-overflow: ellipsis; \">[9.24e-01]</td><td style=\"white-space: nowrap; max-width: 500px; overflow: hidden; text-overflow: ellipsis; \">[3.59e-01]</td><td style=\"white-space: nowrap; max-width: 500px; overflow: hidden; text-overflow: ellipsis; \">[8.35e-01]</td><td style=\"white-space: nowrap; max-width: 500px; overflow: hidden; text-overflow: ellipsis; \">[0.00e+00]</td><td style=\"white-space: nowrap; max-width: 500px; overflow: hidden; text-overflow: ellipsis; \">1006</td><td style=\"white-space: nowrap; max-width: 500px; overflow: hidden; text-overflow: ellipsis; \">1008</td><td style=\"white-space: nowrap; max-width: 500px; overflow: hidden; text-overflow: ellipsis; \">694</td><td style=\"white-space: nowrap; max-width: 500px; overflow: hidden; text-overflow: ellipsis; \">978</td><td style=\"white-space: nowrap; max-width: 500px; overflow: hidden; text-overflow: ellipsis; \">1322</td><td style=\"white-space: nowrap; max-width: 500px; overflow: hidden; text-overflow: ellipsis; \">[360]</td><td style=\"white-space: nowrap; max-width: 500px; overflow: hidden; text-overflow: ellipsis; \">[390]</td><td style=\"white-space: nowrap; max-width: 500px; overflow: hidden; text-overflow: ellipsis; \">[262]</td><td style=\"white-space: nowrap; max-width: 500px; overflow: hidden; text-overflow: ellipsis; \">[358]</td><td style=\"white-space: nowrap; max-width: 500px; overflow: hidden; text-overflow: ellipsis; \">[542]</td><td style=\"white-space: nowrap; max-width: 500px; overflow: hidden; text-overflow: ellipsis; \">[128]</td><td style=\"white-space: nowrap; max-width: 500px; overflow: hidden; text-overflow: ellipsis; \">[148]</td><td style=\"white-space: nowrap; max-width: 500px; overflow: hidden; text-overflow: ellipsis; \">[112]</td><td style=\"white-space: nowrap; max-width: 500px; overflow: hidden; text-overflow: ellipsis; \">[138]</td><td style=\"white-space: nowrap; max-width: 500px; overflow: hidden; text-overflow: ellipsis; \">[216]</td><td style=\"white-space: nowrap; max-width: 500px; overflow: hidden; text-overflow: ellipsis; \">[232]</td><td style=\"white-space: nowrap; max-width: 500px; overflow: hidden; text-overflow: ellipsis; \">[242]</td><td style=\"white-space: nowrap; max-width: 500px; overflow: hidden; text-overflow: ellipsis; \">[150]</td><td style=\"white-space: nowrap; max-width: 500px; overflow: hidden; text-overflow: ellipsis; \">[220]</td><td style=\"white-space: nowrap; max-width: 500px; overflow: hidden; text-overflow: ellipsis; \">[326]</td><td style=\"white-space: nowrap; max-width: 500px; overflow: hidden; text-overflow: ellipsis; \">[3.58e-01]</td><td style=\"white-space: nowrap; max-width: 500px; overflow: hidden; text-overflow: ellipsis; \">[3.87e-01]</td><td style=\"white-space: nowrap; max-width: 500px; overflow: hidden; text-overflow: ellipsis; \">[3.78e-01]</td><td style=\"white-space: nowrap; max-width: 500px; overflow: hidden; text-overflow: ellipsis; \">[3.66e-01]</td><td style=\"white-space: nowrap; max-width: 500px; overflow: hidden; text-overflow: ellipsis; \">[4.10e-01]</td><td style=\"white-space: nowrap; max-width: 500px; overflow: hidden; text-overflow: ellipsis; \">NA</td><td style=\"white-space: nowrap; max-width: 500px; overflow: hidden; text-overflow: ellipsis; \">NA</td><td style=\"white-space: nowrap; max-width: 500px; overflow: hidden; text-overflow: ellipsis; \">NA</td><td style=\"white-space: nowrap; max-width: 500px; overflow: hidden; text-overflow: ellipsis; \">NA</td><td style=\"white-space: nowrap; max-width: 500px; overflow: hidden; text-overflow: ellipsis; \">NA</td><td style=\"white-space: nowrap; max-width: 500px; overflow: hidden; text-overflow: ellipsis; \">[&quot;T|upstream_gene_variant|MODIFIER|SELENOO|ENSG00000073169|Transcript|ENST00000380903|protein_coding|||||||||||3813|1||HGNC|HGNC:30395&quot;]</td></tr>\n",
       "<tr><td style=\"white-space: nowrap; max-width: 500px; overflow: hidden; text-overflow: ellipsis; \">chr22:50197199</td><td style=\"white-space: nowrap; max-width: 500px; overflow: hidden; text-overflow: ellipsis; \">[&quot;G&quot;,&quot;C&quot;,&quot;A&quot;]</td><td style=\"white-space: nowrap; max-width: 500px; overflow: hidden; text-overflow: ellipsis; \">NA</td><td style=\"white-space: nowrap; max-width: 500px; overflow: hidden; text-overflow: ellipsis; \">3.49e+05</td><td style=\"white-space: nowrap; max-width: 500px; overflow: hidden; text-overflow: ellipsis; \">{}</td><td style=\"white-space: nowrap; max-width: 500px; overflow: hidden; text-overflow: ellipsis; \">[534,9]</td><td style=\"white-space: nowrap; max-width: 500px; overflow: hidden; text-overflow: ellipsis; \">[8.34e-02,1.41e-03]</td><td style=\"white-space: nowrap; max-width: 500px; overflow: hidden; text-overflow: ellipsis; \">6404</td><td style=\"white-space: nowrap; max-width: 500px; overflow: hidden; text-overflow: ellipsis; \">1.56e-01</td><td style=\"white-space: nowrap; max-width: 500px; overflow: hidden; text-overflow: ellipsis; \">5.50e-02</td><td style=\"white-space: nowrap; max-width: 500px; overflow: hidden; text-overflow: ellipsis; \">123182</td><td style=\"white-space: nowrap; max-width: 500px; overflow: hidden; text-overflow: ellipsis; \">False</td><td style=\"white-space: nowrap; max-width: 500px; overflow: hidden; text-overflow: ellipsis; \">NA</td><td style=\"white-space: nowrap; max-width: 500px; overflow: hidden; text-overflow: ellipsis; \">1.23e+01</td><td style=\"white-space: nowrap; max-width: 500px; overflow: hidden; text-overflow: ellipsis; \">NA</td><td style=\"white-space: nowrap; max-width: 500px; overflow: hidden; text-overflow: ellipsis; \">1.41e-01</td><td style=\"white-space: nowrap; max-width: 500px; overflow: hidden; text-overflow: ellipsis; \">[534,9]</td><td style=\"white-space: nowrap; max-width: 500px; overflow: hidden; text-overflow: ellipsis; \">[8.30e-02,1.41e-03]</td><td style=\"white-space: nowrap; max-width: 500px; overflow: hidden; text-overflow: ellipsis; \">6.00e+01</td><td style=\"white-space: nowrap; max-width: 500px; overflow: hidden; text-overflow: ellipsis; \">0</td><td style=\"white-space: nowrap; max-width: 500px; overflow: hidden; text-overflow: ellipsis; \">-6.00e-02</td><td style=\"white-space: nowrap; max-width: 500px; overflow: hidden; text-overflow: ellipsis; \">False</td><td style=\"white-space: nowrap; max-width: 500px; overflow: hidden; text-overflow: ellipsis; \">False</td><td style=\"white-space: nowrap; max-width: 500px; overflow: hidden; text-overflow: ellipsis; \">1.77e+01</td><td style=\"white-space: nowrap; max-width: 500px; overflow: hidden; text-overflow: ellipsis; \">NA</td><td style=\"white-space: nowrap; max-width: 500px; overflow: hidden; text-overflow: ellipsis; \">4.76e-01</td><td style=\"white-space: nowrap; max-width: 500px; overflow: hidden; text-overflow: ellipsis; \">1.42e+00</td><td style=\"white-space: nowrap; max-width: 500px; overflow: hidden; text-overflow: ellipsis; \">9.95e+00</td><td style=\"white-space: nowrap; max-width: 500px; overflow: hidden; text-overflow: ellipsis; \">NA</td><td style=\"white-space: nowrap; max-width: 500px; overflow: hidden; text-overflow: ellipsis; \">&quot;MQ&quot;</td><td style=\"white-space: nowrap; max-width: 500px; overflow: hidden; text-overflow: ellipsis; \">1266</td><td style=\"white-space: nowrap; max-width: 500px; overflow: hidden; text-overflow: ellipsis; \">1170</td><td style=\"white-space: nowrap; max-width: 500px; overflow: hidden; text-overflow: ellipsis; \">980</td><td style=\"white-space: nowrap; max-width: 500px; overflow: hidden; text-overflow: ellipsis; \">1202</td><td style=\"white-space: nowrap; max-width: 500px; overflow: hidden; text-overflow: ellipsis; \">1786</td><td style=\"white-space: nowrap; max-width: 500px; overflow: hidden; text-overflow: ellipsis; \">[0,0]</td><td style=\"white-space: nowrap; max-width: 500px; overflow: hidden; text-overflow: ellipsis; \">[0,0]</td><td style=\"white-space: nowrap; max-width: 500px; overflow: hidden; text-overflow: ellipsis; \">[22,0]</td><td style=\"white-space: nowrap; max-width: 500px; overflow: hidden; text-overflow: ellipsis; \">[0,9]</td><td style=\"white-space: nowrap; max-width: 500px; overflow: hidden; text-overflow: ellipsis; \">[512,0]</td><td style=\"white-space: nowrap; max-width: 500px; overflow: hidden; text-overflow: ellipsis; \">[0,0]</td><td style=\"white-space: nowrap; max-width: 500px; overflow: hidden; text-overflow: ellipsis; \">[0,0]</td><td style=\"white-space: nowrap; max-width: 500px; overflow: hidden; text-overflow: ellipsis; \">[0,0]</td><td style=\"white-space: nowrap; max-width: 500px; overflow: hidden; text-overflow: ellipsis; \">[0,0]</td><td style=\"white-space: nowrap; max-width: 500px; overflow: hidden; text-overflow: ellipsis; \">[116,0]</td><td style=\"white-space: nowrap; max-width: 500px; overflow: hidden; text-overflow: ellipsis; \">[116,0]</td><td style=\"white-space: nowrap; max-width: 500px; overflow: hidden; text-overflow: ellipsis; \">[0,0]</td><td style=\"white-space: nowrap; max-width: 500px; overflow: hidden; text-overflow: ellipsis; \">[0,0]</td><td style=\"white-space: nowrap; max-width: 500px; overflow: hidden; text-overflow: ellipsis; \">[22,0]</td><td style=\"white-space: nowrap; max-width: 500px; overflow: hidden; text-overflow: ellipsis; \">[0,9]</td><td style=\"white-space: nowrap; max-width: 500px; overflow: hidden; text-overflow: ellipsis; \">[396,0]</td><td style=\"white-space: nowrap; max-width: 500px; overflow: hidden; text-overflow: ellipsis; \">[418,9]</td><td style=\"white-space: nowrap; max-width: 500px; overflow: hidden; text-overflow: ellipsis; \">[0.00e+00,0.00e+00]</td><td style=\"white-space: nowrap; max-width: 500px; overflow: hidden; text-overflow: ellipsis; \">[0.00e+00,0.00e+00]</td><td style=\"white-space: nowrap; max-width: 500px; overflow: hidden; text-overflow: ellipsis; \">[2.24e-02,0.00e+00]</td><td style=\"white-space: nowrap; max-width: 500px; overflow: hidden; text-overflow: ellipsis; \">[0.00e+00,7.49e-03]</td><td style=\"white-space: nowrap; max-width: 500px; overflow: hidden; text-overflow: ellipsis; \">[2.87e-01,0.00e+00]</td><td style=\"white-space: nowrap; max-width: 500px; overflow: hidden; text-overflow: ellipsis; \">[1.00e+00,1.00e+00]</td><td style=\"white-space: nowrap; max-width: 500px; overflow: hidden; text-overflow: ellipsis; \">[1.00e+00,1.00e+00]</td><td style=\"white-space: nowrap; max-width: 500px; overflow: hidden; text-overflow: ellipsis; \">[1.00e+00,1.00e+00]</td><td style=\"white-space: nowrap; max-width: 500px; overflow: hidden; text-overflow: ellipsis; \">[1.00e+00,1.00e+00]</td><td style=\"white-space: nowrap; max-width: 500px; overflow: hidden; text-overflow: ellipsis; \">[1.39e-02,1.00e+00]</td><td style=\"white-space: nowrap; max-width: 500px; overflow: hidden; text-overflow: ellipsis; \">[6.88e-13,1.00e+00]</td><td style=\"white-space: nowrap; max-width: 500px; overflow: hidden; text-overflow: ellipsis; \">[1.00e+00,1.00e+00]</td><td style=\"white-space: nowrap; max-width: 500px; overflow: hidden; text-overflow: ellipsis; \">[1.00e+00,1.00e+00]</td><td style=\"white-space: nowrap; max-width: 500px; overflow: hidden; text-overflow: ellipsis; \">[7.86e-01,1.00e+00]</td><td style=\"white-space: nowrap; max-width: 500px; overflow: hidden; text-overflow: ellipsis; \">[1.00e+00,9.70e-01]</td><td style=\"white-space: nowrap; max-width: 500px; overflow: hidden; text-overflow: ellipsis; \">[7.15e-03,1.00e+00]</td><td style=\"white-space: nowrap; max-width: 500px; overflow: hidden; text-overflow: ellipsis; \">[1.00e+00,9.94e-01]</td><td style=\"white-space: nowrap; max-width: 500px; overflow: hidden; text-overflow: ellipsis; \">[0.00e+00,0.00e+00]</td><td style=\"white-space: nowrap; max-width: 500px; overflow: hidden; text-overflow: ellipsis; \">1006</td><td style=\"white-space: nowrap; max-width: 500px; overflow: hidden; text-overflow: ellipsis; \">1008</td><td style=\"white-space: nowrap; max-width: 500px; overflow: hidden; text-overflow: ellipsis; \">694</td><td style=\"white-space: nowrap; max-width: 500px; overflow: hidden; text-overflow: ellipsis; \">978</td><td style=\"white-space: nowrap; max-width: 500px; overflow: hidden; text-overflow: ellipsis; \">1322</td><td style=\"white-space: nowrap; max-width: 500px; overflow: hidden; text-overflow: ellipsis; \">[0,0]</td><td style=\"white-space: nowrap; max-width: 500px; overflow: hidden; text-overflow: ellipsis; \">[0,0]</td><td style=\"white-space: nowrap; max-width: 500px; overflow: hidden; text-overflow: ellipsis; \">[18,0]</td><td style=\"white-space: nowrap; max-width: 500px; overflow: hidden; text-overflow: ellipsis; \">[0,7]</td><td style=\"white-space: nowrap; max-width: 500px; overflow: hidden; text-overflow: ellipsis; \">[380,0]</td><td style=\"white-space: nowrap; max-width: 500px; overflow: hidden; text-overflow: ellipsis; \">[0,0]</td><td style=\"white-space: nowrap; max-width: 500px; overflow: hidden; text-overflow: ellipsis; \">[0,0]</td><td style=\"white-space: nowrap; max-width: 500px; overflow: hidden; text-overflow: ellipsis; \">[0,0]</td><td style=\"white-space: nowrap; max-width: 500px; overflow: hidden; text-overflow: ellipsis; \">[0,0]</td><td style=\"white-space: nowrap; max-width: 500px; overflow: hidden; text-overflow: ellipsis; \">[86,0]</td><td style=\"white-space: nowrap; max-width: 500px; overflow: hidden; text-overflow: ellipsis; \">[0,0]</td><td style=\"white-space: nowrap; max-width: 500px; overflow: hidden; text-overflow: ellipsis; \">[0,0]</td><td style=\"white-space: nowrap; max-width: 500px; overflow: hidden; text-overflow: ellipsis; \">[18,0]</td><td style=\"white-space: nowrap; max-width: 500px; overflow: hidden; text-overflow: ellipsis; \">[0,7]</td><td style=\"white-space: nowrap; max-width: 500px; overflow: hidden; text-overflow: ellipsis; \">[294,0]</td><td style=\"white-space: nowrap; max-width: 500px; overflow: hidden; text-overflow: ellipsis; \">[0.00e+00,0.00e+00]</td><td style=\"white-space: nowrap; max-width: 500px; overflow: hidden; text-overflow: ellipsis; \">[0.00e+00,0.00e+00]</td><td style=\"white-space: nowrap; max-width: 500px; overflow: hidden; text-overflow: ellipsis; \">[2.59e-02,0.00e+00]</td><td style=\"white-space: nowrap; max-width: 500px; overflow: hidden; text-overflow: ellipsis; \">[0.00e+00,7.16e-03]</td><td style=\"white-space: nowrap; max-width: 500px; overflow: hidden; text-overflow: ellipsis; \">[2.87e-01,0.00e+00]</td><td style=\"white-space: nowrap; max-width: 500px; overflow: hidden; text-overflow: ellipsis; \">NA</td><td style=\"white-space: nowrap; max-width: 500px; overflow: hidden; text-overflow: ellipsis; \">NA</td><td style=\"white-space: nowrap; max-width: 500px; overflow: hidden; text-overflow: ellipsis; \">NA</td><td style=\"white-space: nowrap; max-width: 500px; overflow: hidden; text-overflow: ellipsis; \">NA</td><td style=\"white-space: nowrap; max-width: 500px; overflow: hidden; text-overflow: ellipsis; \">NA</td><td style=\"white-space: nowrap; max-width: 500px; overflow: hidden; text-overflow: ellipsis; \">[&quot;C|upstream_gene_variant|MODIFIER|SELENOO|ENSG00000073169|Transcript|ENST00000380903|protein_coding|||||||||||3812|1||HGNC|HGNC:30395&quot;]</td></tr>\n",
       "<tr><td style=\"white-space: nowrap; max-width: 500px; overflow: hidden; text-overflow: ellipsis; \">chr22:50197200</td><td style=\"white-space: nowrap; max-width: 500px; overflow: hidden; text-overflow: ellipsis; \">[&quot;C&quot;,&quot;G&quot;]</td><td style=\"white-space: nowrap; max-width: 500px; overflow: hidden; text-overflow: ellipsis; \">NA</td><td style=\"white-space: nowrap; max-width: 500px; overflow: hidden; text-overflow: ellipsis; \">2.48e+05</td><td style=\"white-space: nowrap; max-width: 500px; overflow: hidden; text-overflow: ellipsis; \">{}</td><td style=\"white-space: nowrap; max-width: 500px; overflow: hidden; text-overflow: ellipsis; \">[287]</td><td style=\"white-space: nowrap; max-width: 500px; overflow: hidden; text-overflow: ellipsis; \">[4.48e-02]</td><td style=\"white-space: nowrap; max-width: 500px; overflow: hidden; text-overflow: ellipsis; \">6404</td><td style=\"white-space: nowrap; max-width: 500px; overflow: hidden; text-overflow: ellipsis; \">-7.60e-02</td><td style=\"white-space: nowrap; max-width: 500px; overflow: hidden; text-overflow: ellipsis; \">4.70e-02</td><td style=\"white-space: nowrap; max-width: 500px; overflow: hidden; text-overflow: ellipsis; \">124771</td><td style=\"white-space: nowrap; max-width: 500px; overflow: hidden; text-overflow: ellipsis; \">False</td><td style=\"white-space: nowrap; max-width: 500px; overflow: hidden; text-overflow: ellipsis; \">NA</td><td style=\"white-space: nowrap; max-width: 500px; overflow: hidden; text-overflow: ellipsis; \">1.11e+00</td><td style=\"white-space: nowrap; max-width: 500px; overflow: hidden; text-overflow: ellipsis; \">NA</td><td style=\"white-space: nowrap; max-width: 500px; overflow: hidden; text-overflow: ellipsis; \">1.25e-01</td><td style=\"white-space: nowrap; max-width: 500px; overflow: hidden; text-overflow: ellipsis; \">[287]</td><td style=\"white-space: nowrap; max-width: 500px; overflow: hidden; text-overflow: ellipsis; \">[4.50e-02]</td><td style=\"white-space: nowrap; max-width: 500px; overflow: hidden; text-overflow: ellipsis; \">6.00e+01</td><td style=\"white-space: nowrap; max-width: 500px; overflow: hidden; text-overflow: ellipsis; \">0</td><td style=\"white-space: nowrap; max-width: 500px; overflow: hidden; text-overflow: ellipsis; \">9.40e-02</td><td style=\"white-space: nowrap; max-width: 500px; overflow: hidden; text-overflow: ellipsis; \">False</td><td style=\"white-space: nowrap; max-width: 500px; overflow: hidden; text-overflow: ellipsis; \">False</td><td style=\"white-space: nowrap; max-width: 500px; overflow: hidden; text-overflow: ellipsis; \">2.11e+01</td><td style=\"white-space: nowrap; max-width: 500px; overflow: hidden; text-overflow: ellipsis; \">NA</td><td style=\"white-space: nowrap; max-width: 500px; overflow: hidden; text-overflow: ellipsis; \">6.26e-01</td><td style=\"white-space: nowrap; max-width: 500px; overflow: hidden; text-overflow: ellipsis; \">5.72e-01</td><td style=\"white-space: nowrap; max-width: 500px; overflow: hidden; text-overflow: ellipsis; \">1.06e+01</td><td style=\"white-space: nowrap; max-width: 500px; overflow: hidden; text-overflow: ellipsis; \">NA</td><td style=\"white-space: nowrap; max-width: 500px; overflow: hidden; text-overflow: ellipsis; \">&quot;MQ&quot;</td><td style=\"white-space: nowrap; max-width: 500px; overflow: hidden; text-overflow: ellipsis; \">1266</td><td style=\"white-space: nowrap; max-width: 500px; overflow: hidden; text-overflow: ellipsis; \">1170</td><td style=\"white-space: nowrap; max-width: 500px; overflow: hidden; text-overflow: ellipsis; \">980</td><td style=\"white-space: nowrap; max-width: 500px; overflow: hidden; text-overflow: ellipsis; \">1202</td><td style=\"white-space: nowrap; max-width: 500px; overflow: hidden; text-overflow: ellipsis; \">1786</td><td style=\"white-space: nowrap; max-width: 500px; overflow: hidden; text-overflow: ellipsis; \">[0]</td><td style=\"white-space: nowrap; max-width: 500px; overflow: hidden; text-overflow: ellipsis; \">[0]</td><td style=\"white-space: nowrap; max-width: 500px; overflow: hidden; text-overflow: ellipsis; \">[9]</td><td style=\"white-space: nowrap; max-width: 500px; overflow: hidden; text-overflow: ellipsis; \">[0]</td><td style=\"white-space: nowrap; max-width: 500px; overflow: hidden; text-overflow: ellipsis; \">[278]</td><td style=\"white-space: nowrap; max-width: 500px; overflow: hidden; text-overflow: ellipsis; \">[0]</td><td style=\"white-space: nowrap; max-width: 500px; overflow: hidden; text-overflow: ellipsis; \">[0]</td><td style=\"white-space: nowrap; max-width: 500px; overflow: hidden; text-overflow: ellipsis; \">[0]</td><td style=\"white-space: nowrap; max-width: 500px; overflow: hidden; text-overflow: ellipsis; \">[0]</td><td style=\"white-space: nowrap; max-width: 500px; overflow: hidden; text-overflow: ellipsis; \">[48]</td><td style=\"white-space: nowrap; max-width: 500px; overflow: hidden; text-overflow: ellipsis; \">[48]</td><td style=\"white-space: nowrap; max-width: 500px; overflow: hidden; text-overflow: ellipsis; \">[0]</td><td style=\"white-space: nowrap; max-width: 500px; overflow: hidden; text-overflow: ellipsis; \">[0]</td><td style=\"white-space: nowrap; max-width: 500px; overflow: hidden; text-overflow: ellipsis; \">[9]</td><td style=\"white-space: nowrap; max-width: 500px; overflow: hidden; text-overflow: ellipsis; \">[0]</td><td style=\"white-space: nowrap; max-width: 500px; overflow: hidden; text-overflow: ellipsis; \">[230]</td><td style=\"white-space: nowrap; max-width: 500px; overflow: hidden; text-overflow: ellipsis; \">[239]</td><td style=\"white-space: nowrap; max-width: 500px; overflow: hidden; text-overflow: ellipsis; \">[0.00e+00]</td><td style=\"white-space: nowrap; max-width: 500px; overflow: hidden; text-overflow: ellipsis; \">[0.00e+00]</td><td style=\"white-space: nowrap; max-width: 500px; overflow: hidden; text-overflow: ellipsis; \">[9.18e-03]</td><td style=\"white-space: nowrap; max-width: 500px; overflow: hidden; text-overflow: ellipsis; \">[0.00e+00]</td><td style=\"white-space: nowrap; max-width: 500px; overflow: hidden; text-overflow: ellipsis; \">[1.56e-01]</td><td style=\"white-space: nowrap; max-width: 500px; overflow: hidden; text-overflow: ellipsis; \">[1.00e+00]</td><td style=\"white-space: nowrap; max-width: 500px; overflow: hidden; text-overflow: ellipsis; \">[1.00e+00]</td><td style=\"white-space: nowrap; max-width: 500px; overflow: hidden; text-overflow: ellipsis; \">[1.00e+00]</td><td style=\"white-space: nowrap; max-width: 500px; overflow: hidden; text-overflow: ellipsis; \">[1.00e+00]</td><td style=\"white-space: nowrap; max-width: 500px; overflow: hidden; text-overflow: ellipsis; \">[5.25e-01]</td><td style=\"white-space: nowrap; max-width: 500px; overflow: hidden; text-overflow: ellipsis; \">[8.09e-09]</td><td style=\"white-space: nowrap; max-width: 500px; overflow: hidden; text-overflow: ellipsis; \">[1.00e+00]</td><td style=\"white-space: nowrap; max-width: 500px; overflow: hidden; text-overflow: ellipsis; \">[1.00e+00]</td><td style=\"white-space: nowrap; max-width: 500px; overflow: hidden; text-overflow: ellipsis; \">[9.64e-01]</td><td style=\"white-space: nowrap; max-width: 500px; overflow: hidden; text-overflow: ellipsis; \">[1.00e+00]</td><td style=\"white-space: nowrap; max-width: 500px; overflow: hidden; text-overflow: ellipsis; \">[7.75e-01]</td><td style=\"white-space: nowrap; max-width: 500px; overflow: hidden; text-overflow: ellipsis; \">[1.00e+00]</td><td style=\"white-space: nowrap; max-width: 500px; overflow: hidden; text-overflow: ellipsis; \">[0.00e+00]</td><td style=\"white-space: nowrap; max-width: 500px; overflow: hidden; text-overflow: ellipsis; \">1006</td><td style=\"white-space: nowrap; max-width: 500px; overflow: hidden; text-overflow: ellipsis; \">1008</td><td style=\"white-space: nowrap; max-width: 500px; overflow: hidden; text-overflow: ellipsis; \">694</td><td style=\"white-space: nowrap; max-width: 500px; overflow: hidden; text-overflow: ellipsis; \">978</td><td style=\"white-space: nowrap; max-width: 500px; overflow: hidden; text-overflow: ellipsis; \">1322</td><td style=\"white-space: nowrap; max-width: 500px; overflow: hidden; text-overflow: ellipsis; \">[0]</td><td style=\"white-space: nowrap; max-width: 500px; overflow: hidden; text-overflow: ellipsis; \">[0]</td><td style=\"white-space: nowrap; max-width: 500px; overflow: hidden; text-overflow: ellipsis; \">[7]</td><td style=\"white-space: nowrap; max-width: 500px; overflow: hidden; text-overflow: ellipsis; \">[0]</td><td style=\"white-space: nowrap; max-width: 500px; overflow: hidden; text-overflow: ellipsis; \">[211]</td><td style=\"white-space: nowrap; max-width: 500px; overflow: hidden; text-overflow: ellipsis; \">[0]</td><td style=\"white-space: nowrap; max-width: 500px; overflow: hidden; text-overflow: ellipsis; \">[0]</td><td style=\"white-space: nowrap; max-width: 500px; overflow: hidden; text-overflow: ellipsis; \">[0]</td><td style=\"white-space: nowrap; max-width: 500px; overflow: hidden; text-overflow: ellipsis; \">[0]</td><td style=\"white-space: nowrap; max-width: 500px; overflow: hidden; text-overflow: ellipsis; \">[40]</td><td style=\"white-space: nowrap; max-width: 500px; overflow: hidden; text-overflow: ellipsis; \">[0]</td><td style=\"white-space: nowrap; max-width: 500px; overflow: hidden; text-overflow: ellipsis; \">[0]</td><td style=\"white-space: nowrap; max-width: 500px; overflow: hidden; text-overflow: ellipsis; \">[7]</td><td style=\"white-space: nowrap; max-width: 500px; overflow: hidden; text-overflow: ellipsis; \">[0]</td><td style=\"white-space: nowrap; max-width: 500px; overflow: hidden; text-overflow: ellipsis; \">[171]</td><td style=\"white-space: nowrap; max-width: 500px; overflow: hidden; text-overflow: ellipsis; \">[0.00e+00]</td><td style=\"white-space: nowrap; max-width: 500px; overflow: hidden; text-overflow: ellipsis; \">[0.00e+00]</td><td style=\"white-space: nowrap; max-width: 500px; overflow: hidden; text-overflow: ellipsis; \">[1.01e-02]</td><td style=\"white-space: nowrap; max-width: 500px; overflow: hidden; text-overflow: ellipsis; \">[0.00e+00]</td><td style=\"white-space: nowrap; max-width: 500px; overflow: hidden; text-overflow: ellipsis; \">[1.60e-01]</td><td style=\"white-space: nowrap; max-width: 500px; overflow: hidden; text-overflow: ellipsis; \">NA</td><td style=\"white-space: nowrap; max-width: 500px; overflow: hidden; text-overflow: ellipsis; \">NA</td><td style=\"white-space: nowrap; max-width: 500px; overflow: hidden; text-overflow: ellipsis; \">NA</td><td style=\"white-space: nowrap; max-width: 500px; overflow: hidden; text-overflow: ellipsis; \">NA</td><td style=\"white-space: nowrap; max-width: 500px; overflow: hidden; text-overflow: ellipsis; \">NA</td><td style=\"white-space: nowrap; max-width: 500px; overflow: hidden; text-overflow: ellipsis; \">[&quot;G|upstream_gene_variant|MODIFIER|SELENOO|ENSG00000073169|Transcript|ENST00000380903|protein_coding|||||||||||3811|1||HGNC|HGNC:30395&quot;]</td></tr>\n",
       "<tr><td style=\"white-space: nowrap; max-width: 500px; overflow: hidden; text-overflow: ellipsis; \">chr22:50197205</td><td style=\"white-space: nowrap; max-width: 500px; overflow: hidden; text-overflow: ellipsis; \">[&quot;G&quot;,&quot;A&quot;]</td><td style=\"white-space: nowrap; max-width: 500px; overflow: hidden; text-overflow: ellipsis; \">NA</td><td style=\"white-space: nowrap; max-width: 500px; overflow: hidden; text-overflow: ellipsis; \">3.53e+04</td><td style=\"white-space: nowrap; max-width: 500px; overflow: hidden; text-overflow: ellipsis; \">{}</td><td style=\"white-space: nowrap; max-width: 500px; overflow: hidden; text-overflow: ellipsis; \">[49]</td><td style=\"white-space: nowrap; max-width: 500px; overflow: hidden; text-overflow: ellipsis; \">[7.65e-03]</td><td style=\"white-space: nowrap; max-width: 500px; overflow: hidden; text-overflow: ellipsis; \">6404</td><td style=\"white-space: nowrap; max-width: 500px; overflow: hidden; text-overflow: ellipsis; \">0.00e+00</td><td style=\"white-space: nowrap; max-width: 500px; overflow: hidden; text-overflow: ellipsis; \">-2.17e-01</td><td style=\"white-space: nowrap; max-width: 500px; overflow: hidden; text-overflow: ellipsis; \">122821</td><td style=\"white-space: nowrap; max-width: 500px; overflow: hidden; text-overflow: ellipsis; \">False</td><td style=\"white-space: nowrap; max-width: 500px; overflow: hidden; text-overflow: ellipsis; \">NA</td><td style=\"white-space: nowrap; max-width: 500px; overflow: hidden; text-overflow: ellipsis; \">6.88e+00</td><td style=\"white-space: nowrap; max-width: 500px; overflow: hidden; text-overflow: ellipsis; \">NA</td><td style=\"white-space: nowrap; max-width: 500px; overflow: hidden; text-overflow: ellipsis; \">-5.30e-03</td><td style=\"white-space: nowrap; max-width: 500px; overflow: hidden; text-overflow: ellipsis; \">[50]</td><td style=\"white-space: nowrap; max-width: 500px; overflow: hidden; text-overflow: ellipsis; \">[7.81e-03]</td><td style=\"white-space: nowrap; max-width: 500px; overflow: hidden; text-overflow: ellipsis; \">6.00e+01</td><td style=\"white-space: nowrap; max-width: 500px; overflow: hidden; text-overflow: ellipsis; \">0</td><td style=\"white-space: nowrap; max-width: 500px; overflow: hidden; text-overflow: ellipsis; \">-8.60e-02</td><td style=\"white-space: nowrap; max-width: 500px; overflow: hidden; text-overflow: ellipsis; \">False</td><td style=\"white-space: nowrap; max-width: 500px; overflow: hidden; text-overflow: ellipsis; \">False</td><td style=\"white-space: nowrap; max-width: 500px; overflow: hidden; text-overflow: ellipsis; \">1.70e+01</td><td style=\"white-space: nowrap; max-width: 500px; overflow: hidden; text-overflow: ellipsis; \">NA</td><td style=\"white-space: nowrap; max-width: 500px; overflow: hidden; text-overflow: ellipsis; \">2.98e-01</td><td style=\"white-space: nowrap; max-width: 500px; overflow: hidden; text-overflow: ellipsis; \">3.47e-01</td><td style=\"white-space: nowrap; max-width: 500px; overflow: hidden; text-overflow: ellipsis; \">1.34e+01</td><td style=\"white-space: nowrap; max-width: 500px; overflow: hidden; text-overflow: ellipsis; \">NA</td><td style=\"white-space: nowrap; max-width: 500px; overflow: hidden; text-overflow: ellipsis; \">&quot;MQ&quot;</td><td style=\"white-space: nowrap; max-width: 500px; overflow: hidden; text-overflow: ellipsis; \">1266</td><td style=\"white-space: nowrap; max-width: 500px; overflow: hidden; text-overflow: ellipsis; \">1170</td><td style=\"white-space: nowrap; max-width: 500px; overflow: hidden; text-overflow: ellipsis; \">980</td><td style=\"white-space: nowrap; max-width: 500px; overflow: hidden; text-overflow: ellipsis; \">1202</td><td style=\"white-space: nowrap; max-width: 500px; overflow: hidden; text-overflow: ellipsis; \">1786</td><td style=\"white-space: nowrap; max-width: 500px; overflow: hidden; text-overflow: ellipsis; \">[0]</td><td style=\"white-space: nowrap; max-width: 500px; overflow: hidden; text-overflow: ellipsis; \">[1]</td><td style=\"white-space: nowrap; max-width: 500px; overflow: hidden; text-overflow: ellipsis; \">[2]</td><td style=\"white-space: nowrap; max-width: 500px; overflow: hidden; text-overflow: ellipsis; \">[0]</td><td style=\"white-space: nowrap; max-width: 500px; overflow: hidden; text-overflow: ellipsis; \">[46]</td><td style=\"white-space: nowrap; max-width: 500px; overflow: hidden; text-overflow: ellipsis; \">[0]</td><td style=\"white-space: nowrap; max-width: 500px; overflow: hidden; text-overflow: ellipsis; \">[0]</td><td style=\"white-space: nowrap; max-width: 500px; overflow: hidden; text-overflow: ellipsis; \">[0]</td><td style=\"white-space: nowrap; max-width: 500px; overflow: hidden; text-overflow: ellipsis; \">[0]</td><td style=\"white-space: nowrap; max-width: 500px; overflow: hidden; text-overflow: ellipsis; \">[2]</td><td style=\"white-space: nowrap; max-width: 500px; overflow: hidden; text-overflow: ellipsis; \">[2]</td><td style=\"white-space: nowrap; max-width: 500px; overflow: hidden; text-overflow: ellipsis; \">[0]</td><td style=\"white-space: nowrap; max-width: 500px; overflow: hidden; text-overflow: ellipsis; \">[1]</td><td style=\"white-space: nowrap; max-width: 500px; overflow: hidden; text-overflow: ellipsis; \">[2]</td><td style=\"white-space: nowrap; max-width: 500px; overflow: hidden; text-overflow: ellipsis; \">[0]</td><td style=\"white-space: nowrap; max-width: 500px; overflow: hidden; text-overflow: ellipsis; \">[44]</td><td style=\"white-space: nowrap; max-width: 500px; overflow: hidden; text-overflow: ellipsis; \">[47]</td><td style=\"white-space: nowrap; max-width: 500px; overflow: hidden; text-overflow: ellipsis; \">[0.00e+00]</td><td style=\"white-space: nowrap; max-width: 500px; overflow: hidden; text-overflow: ellipsis; \">[8.55e-04]</td><td style=\"white-space: nowrap; max-width: 500px; overflow: hidden; text-overflow: ellipsis; \">[2.04e-03]</td><td style=\"white-space: nowrap; max-width: 500px; overflow: hidden; text-overflow: ellipsis; \">[0.00e+00]</td><td style=\"white-space: nowrap; max-width: 500px; overflow: hidden; text-overflow: ellipsis; \">[2.58e-02]</td><td style=\"white-space: nowrap; max-width: 500px; overflow: hidden; text-overflow: ellipsis; \">[1.00e+00]</td><td style=\"white-space: nowrap; max-width: 500px; overflow: hidden; text-overflow: ellipsis; \">[1.00e+00]</td><td style=\"white-space: nowrap; max-width: 500px; overflow: hidden; text-overflow: ellipsis; \">[1.00e+00]</td><td style=\"white-space: nowrap; max-width: 500px; overflow: hidden; text-overflow: ellipsis; \">[1.00e+00]</td><td style=\"white-space: nowrap; max-width: 500px; overflow: hidden; text-overflow: ellipsis; \">[4.48e-01]</td><td style=\"white-space: nowrap; max-width: 500px; overflow: hidden; text-overflow: ellipsis; \">[1.69e-01]</td><td style=\"white-space: nowrap; max-width: 500px; overflow: hidden; text-overflow: ellipsis; \">[1.00e+00]</td><td style=\"white-space: nowrap; max-width: 500px; overflow: hidden; text-overflow: ellipsis; \">[1.00e+00]</td><td style=\"white-space: nowrap; max-width: 500px; overflow: hidden; text-overflow: ellipsis; \">[9.99e-01]</td><td style=\"white-space: nowrap; max-width: 500px; overflow: hidden; text-overflow: ellipsis; \">[1.00e+00]</td><td style=\"white-space: nowrap; max-width: 500px; overflow: hidden; text-overflow: ellipsis; \">[8.88e-01]</td><td style=\"white-space: nowrap; max-width: 500px; overflow: hidden; text-overflow: ellipsis; \">[9.86e-01]</td><td style=\"white-space: nowrap; max-width: 500px; overflow: hidden; text-overflow: ellipsis; \">[0.00e+00]</td><td style=\"white-space: nowrap; max-width: 500px; overflow: hidden; text-overflow: ellipsis; \">1006</td><td style=\"white-space: nowrap; max-width: 500px; overflow: hidden; text-overflow: ellipsis; \">1008</td><td style=\"white-space: nowrap; max-width: 500px; overflow: hidden; text-overflow: ellipsis; \">694</td><td style=\"white-space: nowrap; max-width: 500px; overflow: hidden; text-overflow: ellipsis; \">978</td><td style=\"white-space: nowrap; max-width: 500px; overflow: hidden; text-overflow: ellipsis; \">1322</td><td style=\"white-space: nowrap; max-width: 500px; overflow: hidden; text-overflow: ellipsis; \">[0]</td><td style=\"white-space: nowrap; max-width: 500px; overflow: hidden; text-overflow: ellipsis; \">[1]</td><td style=\"white-space: nowrap; max-width: 500px; overflow: hidden; text-overflow: ellipsis; \">[1]</td><td style=\"white-space: nowrap; max-width: 500px; overflow: hidden; text-overflow: ellipsis; \">[0]</td><td style=\"white-space: nowrap; max-width: 500px; overflow: hidden; text-overflow: ellipsis; \">[32]</td><td style=\"white-space: nowrap; max-width: 500px; overflow: hidden; text-overflow: ellipsis; \">[0]</td><td style=\"white-space: nowrap; max-width: 500px; overflow: hidden; text-overflow: ellipsis; \">[0]</td><td style=\"white-space: nowrap; max-width: 500px; overflow: hidden; text-overflow: ellipsis; \">[0]</td><td style=\"white-space: nowrap; max-width: 500px; overflow: hidden; text-overflow: ellipsis; \">[0]</td><td style=\"white-space: nowrap; max-width: 500px; overflow: hidden; text-overflow: ellipsis; \">[2]</td><td style=\"white-space: nowrap; max-width: 500px; overflow: hidden; text-overflow: ellipsis; \">[0]</td><td style=\"white-space: nowrap; max-width: 500px; overflow: hidden; text-overflow: ellipsis; \">[1]</td><td style=\"white-space: nowrap; max-width: 500px; overflow: hidden; text-overflow: ellipsis; \">[1]</td><td style=\"white-space: nowrap; max-width: 500px; overflow: hidden; text-overflow: ellipsis; \">[0]</td><td style=\"white-space: nowrap; max-width: 500px; overflow: hidden; text-overflow: ellipsis; \">[30]</td><td style=\"white-space: nowrap; max-width: 500px; overflow: hidden; text-overflow: ellipsis; \">[0.00e+00]</td><td style=\"white-space: nowrap; max-width: 500px; overflow: hidden; text-overflow: ellipsis; \">[9.92e-04]</td><td style=\"white-space: nowrap; max-width: 500px; overflow: hidden; text-overflow: ellipsis; \">[1.44e-03]</td><td style=\"white-space: nowrap; max-width: 500px; overflow: hidden; text-overflow: ellipsis; \">[0.00e+00]</td><td style=\"white-space: nowrap; max-width: 500px; overflow: hidden; text-overflow: ellipsis; \">[2.42e-02]</td><td style=\"white-space: nowrap; max-width: 500px; overflow: hidden; text-overflow: ellipsis; \">NA</td><td style=\"white-space: nowrap; max-width: 500px; overflow: hidden; text-overflow: ellipsis; \">NA</td><td style=\"white-space: nowrap; max-width: 500px; overflow: hidden; text-overflow: ellipsis; \">NA</td><td style=\"white-space: nowrap; max-width: 500px; overflow: hidden; text-overflow: ellipsis; \">NA</td><td style=\"white-space: nowrap; max-width: 500px; overflow: hidden; text-overflow: ellipsis; \">NA</td><td style=\"white-space: nowrap; max-width: 500px; overflow: hidden; text-overflow: ellipsis; \">[&quot;A|upstream_gene_variant|MODIFIER|SELENOO|ENSG00000073169|Transcript|ENST00000380903|protein_coding|||||||||||3806|1||HGNC|HGNC:30395&quot;]</td></tr>\n",
       "<tr><td style=\"white-space: nowrap; max-width: 500px; overflow: hidden; text-overflow: ellipsis; \">chr22:50197285</td><td style=\"white-space: nowrap; max-width: 500px; overflow: hidden; text-overflow: ellipsis; \">[&quot;G&quot;,&quot;C&quot;]</td><td style=\"white-space: nowrap; max-width: 500px; overflow: hidden; text-overflow: ellipsis; \">NA</td><td style=\"white-space: nowrap; max-width: 500px; overflow: hidden; text-overflow: ellipsis; \">9.06e+02</td><td style=\"white-space: nowrap; max-width: 500px; overflow: hidden; text-overflow: ellipsis; \">{}</td><td style=\"white-space: nowrap; max-width: 500px; overflow: hidden; text-overflow: ellipsis; \">[2]</td><td style=\"white-space: nowrap; max-width: 500px; overflow: hidden; text-overflow: ellipsis; \">[3.12e-04]</td><td style=\"white-space: nowrap; max-width: 500px; overflow: hidden; text-overflow: ellipsis; \">6404</td><td style=\"white-space: nowrap; max-width: 500px; overflow: hidden; text-overflow: ellipsis; \">1.66e+00</td><td style=\"white-space: nowrap; max-width: 500px; overflow: hidden; text-overflow: ellipsis; \">5.90e-02</td><td style=\"white-space: nowrap; max-width: 500px; overflow: hidden; text-overflow: ellipsis; \">121052</td><td style=\"white-space: nowrap; max-width: 500px; overflow: hidden; text-overflow: ellipsis; \">False</td><td style=\"white-space: nowrap; max-width: 500px; overflow: hidden; text-overflow: ellipsis; \">NA</td><td style=\"white-space: nowrap; max-width: 500px; overflow: hidden; text-overflow: ellipsis; \">8.56e-01</td><td style=\"white-space: nowrap; max-width: 500px; overflow: hidden; text-overflow: ellipsis; \">NA</td><td style=\"white-space: nowrap; max-width: 500px; overflow: hidden; text-overflow: ellipsis; \">-3.00e-04</td><td style=\"white-space: nowrap; max-width: 500px; overflow: hidden; text-overflow: ellipsis; \">[2]</td><td style=\"white-space: nowrap; max-width: 500px; overflow: hidden; text-overflow: ellipsis; \">[3.12e-04]</td><td style=\"white-space: nowrap; max-width: 500px; overflow: hidden; text-overflow: ellipsis; \">6.00e+01</td><td style=\"white-space: nowrap; max-width: 500px; overflow: hidden; text-overflow: ellipsis; \">0</td><td style=\"white-space: nowrap; max-width: 500px; overflow: hidden; text-overflow: ellipsis; \">2.35e-01</td><td style=\"white-space: nowrap; max-width: 500px; overflow: hidden; text-overflow: ellipsis; \">False</td><td style=\"white-space: nowrap; max-width: 500px; overflow: hidden; text-overflow: ellipsis; \">False</td><td style=\"white-space: nowrap; max-width: 500px; overflow: hidden; text-overflow: ellipsis; \">1.18e+01</td><td style=\"white-space: nowrap; max-width: 500px; overflow: hidden; text-overflow: ellipsis; \">NA</td><td style=\"white-space: nowrap; max-width: 500px; overflow: hidden; text-overflow: ellipsis; \">1.40e+00</td><td style=\"white-space: nowrap; max-width: 500px; overflow: hidden; text-overflow: ellipsis; \">5.63e-01</td><td style=\"white-space: nowrap; max-width: 500px; overflow: hidden; text-overflow: ellipsis; \">1.46e+01</td><td style=\"white-space: nowrap; max-width: 500px; overflow: hidden; text-overflow: ellipsis; \">NA</td><td style=\"white-space: nowrap; max-width: 500px; overflow: hidden; text-overflow: ellipsis; \">&quot;MQ&quot;</td><td style=\"white-space: nowrap; max-width: 500px; overflow: hidden; text-overflow: ellipsis; \">1266</td><td style=\"white-space: nowrap; max-width: 500px; overflow: hidden; text-overflow: ellipsis; \">1170</td><td style=\"white-space: nowrap; max-width: 500px; overflow: hidden; text-overflow: ellipsis; \">980</td><td style=\"white-space: nowrap; max-width: 500px; overflow: hidden; text-overflow: ellipsis; \">1202</td><td style=\"white-space: nowrap; max-width: 500px; overflow: hidden; text-overflow: ellipsis; \">1786</td><td style=\"white-space: nowrap; max-width: 500px; overflow: hidden; text-overflow: ellipsis; \">[0]</td><td style=\"white-space: nowrap; max-width: 500px; overflow: hidden; text-overflow: ellipsis; \">[2]</td><td style=\"white-space: nowrap; max-width: 500px; overflow: hidden; text-overflow: ellipsis; \">[0]</td><td style=\"white-space: nowrap; max-width: 500px; overflow: hidden; text-overflow: ellipsis; \">[0]</td><td style=\"white-space: nowrap; max-width: 500px; overflow: hidden; text-overflow: ellipsis; \">[0]</td><td style=\"white-space: nowrap; max-width: 500px; overflow: hidden; text-overflow: ellipsis; \">[0]</td><td style=\"white-space: nowrap; max-width: 500px; overflow: hidden; text-overflow: ellipsis; \">[0]</td><td style=\"white-space: nowrap; max-width: 500px; overflow: hidden; text-overflow: ellipsis; \">[0]</td><td style=\"white-space: nowrap; max-width: 500px; overflow: hidden; text-overflow: ellipsis; \">[0]</td><td style=\"white-space: nowrap; max-width: 500px; overflow: hidden; text-overflow: ellipsis; \">[0]</td><td style=\"white-space: nowrap; max-width: 500px; overflow: hidden; text-overflow: ellipsis; \">[0]</td><td style=\"white-space: nowrap; max-width: 500px; overflow: hidden; text-overflow: ellipsis; \">[0]</td><td style=\"white-space: nowrap; max-width: 500px; overflow: hidden; text-overflow: ellipsis; \">[2]</td><td style=\"white-space: nowrap; max-width: 500px; overflow: hidden; text-overflow: ellipsis; \">[0]</td><td style=\"white-space: nowrap; max-width: 500px; overflow: hidden; text-overflow: ellipsis; \">[0]</td><td style=\"white-space: nowrap; max-width: 500px; overflow: hidden; text-overflow: ellipsis; \">[0]</td><td style=\"white-space: nowrap; max-width: 500px; overflow: hidden; text-overflow: ellipsis; \">[2]</td><td style=\"white-space: nowrap; max-width: 500px; overflow: hidden; text-overflow: ellipsis; \">[0.00e+00]</td><td style=\"white-space: nowrap; max-width: 500px; overflow: hidden; text-overflow: ellipsis; \">[1.71e-03]</td><td style=\"white-space: nowrap; max-width: 500px; overflow: hidden; text-overflow: ellipsis; \">[0.00e+00]</td><td style=\"white-space: nowrap; max-width: 500px; overflow: hidden; text-overflow: ellipsis; \">[0.00e+00]</td><td style=\"white-space: nowrap; max-width: 500px; overflow: hidden; text-overflow: ellipsis; \">[0.00e+00]</td><td style=\"white-space: nowrap; max-width: 500px; overflow: hidden; text-overflow: ellipsis; \">[1.00e+00]</td><td style=\"white-space: nowrap; max-width: 500px; overflow: hidden; text-overflow: ellipsis; \">[1.00e+00]</td><td style=\"white-space: nowrap; max-width: 500px; overflow: hidden; text-overflow: ellipsis; \">[1.00e+00]</td><td style=\"white-space: nowrap; max-width: 500px; overflow: hidden; text-overflow: ellipsis; \">[1.00e+00]</td><td style=\"white-space: nowrap; max-width: 500px; overflow: hidden; text-overflow: ellipsis; \">[1.00e+00]</td><td style=\"white-space: nowrap; max-width: 500px; overflow: hidden; text-overflow: ellipsis; \">[1.00e+00]</td><td style=\"white-space: nowrap; max-width: 500px; overflow: hidden; text-overflow: ellipsis; \">[1.00e+00]</td><td style=\"white-space: nowrap; max-width: 500px; overflow: hidden; text-overflow: ellipsis; \">[9.99e-01]</td><td style=\"white-space: nowrap; max-width: 500px; overflow: hidden; text-overflow: ellipsis; \">[1.00e+00]</td><td style=\"white-space: nowrap; max-width: 500px; overflow: hidden; text-overflow: ellipsis; \">[1.00e+00]</td><td style=\"white-space: nowrap; max-width: 500px; overflow: hidden; text-overflow: ellipsis; \">[1.00e+00]</td><td style=\"white-space: nowrap; max-width: 500px; overflow: hidden; text-overflow: ellipsis; \">[1.00e+00]</td><td style=\"white-space: nowrap; max-width: 500px; overflow: hidden; text-overflow: ellipsis; \">[0.00e+00]</td><td style=\"white-space: nowrap; max-width: 500px; overflow: hidden; text-overflow: ellipsis; \">1006</td><td style=\"white-space: nowrap; max-width: 500px; overflow: hidden; text-overflow: ellipsis; \">1008</td><td style=\"white-space: nowrap; max-width: 500px; overflow: hidden; text-overflow: ellipsis; \">694</td><td style=\"white-space: nowrap; max-width: 500px; overflow: hidden; text-overflow: ellipsis; \">978</td><td style=\"white-space: nowrap; max-width: 500px; overflow: hidden; text-overflow: ellipsis; \">1322</td><td style=\"white-space: nowrap; max-width: 500px; overflow: hidden; text-overflow: ellipsis; \">[0]</td><td style=\"white-space: nowrap; max-width: 500px; overflow: hidden; text-overflow: ellipsis; \">[1]</td><td style=\"white-space: nowrap; max-width: 500px; overflow: hidden; text-overflow: ellipsis; \">[0]</td><td style=\"white-space: nowrap; max-width: 500px; overflow: hidden; text-overflow: ellipsis; \">[0]</td><td style=\"white-space: nowrap; max-width: 500px; overflow: hidden; text-overflow: ellipsis; \">[0]</td><td style=\"white-space: nowrap; max-width: 500px; overflow: hidden; text-overflow: ellipsis; \">[0]</td><td style=\"white-space: nowrap; max-width: 500px; overflow: hidden; text-overflow: ellipsis; \">[0]</td><td style=\"white-space: nowrap; max-width: 500px; overflow: hidden; text-overflow: ellipsis; \">[0]</td><td style=\"white-space: nowrap; max-width: 500px; overflow: hidden; text-overflow: ellipsis; \">[0]</td><td style=\"white-space: nowrap; max-width: 500px; overflow: hidden; text-overflow: ellipsis; \">[0]</td><td style=\"white-space: nowrap; max-width: 500px; overflow: hidden; text-overflow: ellipsis; \">[0]</td><td style=\"white-space: nowrap; max-width: 500px; overflow: hidden; text-overflow: ellipsis; \">[1]</td><td style=\"white-space: nowrap; max-width: 500px; overflow: hidden; text-overflow: ellipsis; \">[0]</td><td style=\"white-space: nowrap; max-width: 500px; overflow: hidden; text-overflow: ellipsis; \">[0]</td><td style=\"white-space: nowrap; max-width: 500px; overflow: hidden; text-overflow: ellipsis; \">[0]</td><td style=\"white-space: nowrap; max-width: 500px; overflow: hidden; text-overflow: ellipsis; \">[0.00e+00]</td><td style=\"white-space: nowrap; max-width: 500px; overflow: hidden; text-overflow: ellipsis; \">[9.92e-04]</td><td style=\"white-space: nowrap; max-width: 500px; overflow: hidden; text-overflow: ellipsis; \">[0.00e+00]</td><td style=\"white-space: nowrap; max-width: 500px; overflow: hidden; text-overflow: ellipsis; \">[0.00e+00]</td><td style=\"white-space: nowrap; max-width: 500px; overflow: hidden; text-overflow: ellipsis; \">[0.00e+00]</td><td style=\"white-space: nowrap; max-width: 500px; overflow: hidden; text-overflow: ellipsis; \">NA</td><td style=\"white-space: nowrap; max-width: 500px; overflow: hidden; text-overflow: ellipsis; \">NA</td><td style=\"white-space: nowrap; max-width: 500px; overflow: hidden; text-overflow: ellipsis; \">NA</td><td style=\"white-space: nowrap; max-width: 500px; overflow: hidden; text-overflow: ellipsis; \">NA</td><td style=\"white-space: nowrap; max-width: 500px; overflow: hidden; text-overflow: ellipsis; \">NA</td><td style=\"white-space: nowrap; max-width: 500px; overflow: hidden; text-overflow: ellipsis; \">[&quot;C|upstream_gene_variant|MODIFIER|SELENOO|ENSG00000073169|Transcript|ENST00000380903|protein_coding|||||||||||3726|1||HGNC|HGNC:30395&quot;]</td></tr>\n",
       "<tr><td style=\"white-space: nowrap; max-width: 500px; overflow: hidden; text-overflow: ellipsis; \">chr22:50197300</td><td style=\"white-space: nowrap; max-width: 500px; overflow: hidden; text-overflow: ellipsis; \">[&quot;C&quot;,&quot;T&quot;]</td><td style=\"white-space: nowrap; max-width: 500px; overflow: hidden; text-overflow: ellipsis; \">NA</td><td style=\"white-space: nowrap; max-width: 500px; overflow: hidden; text-overflow: ellipsis; \">6.12e+03</td><td style=\"white-space: nowrap; max-width: 500px; overflow: hidden; text-overflow: ellipsis; \">{}</td><td style=\"white-space: nowrap; max-width: 500px; overflow: hidden; text-overflow: ellipsis; \">[10]</td><td style=\"white-space: nowrap; max-width: 500px; overflow: hidden; text-overflow: ellipsis; \">[1.56e-03]</td><td style=\"white-space: nowrap; max-width: 500px; overflow: hidden; text-overflow: ellipsis; \">6404</td><td style=\"white-space: nowrap; max-width: 500px; overflow: hidden; text-overflow: ellipsis; \">4.70e-01</td><td style=\"white-space: nowrap; max-width: 500px; overflow: hidden; text-overflow: ellipsis; \">3.28e-01</td><td style=\"white-space: nowrap; max-width: 500px; overflow: hidden; text-overflow: ellipsis; \">120524</td><td style=\"white-space: nowrap; max-width: 500px; overflow: hidden; text-overflow: ellipsis; \">False</td><td style=\"white-space: nowrap; max-width: 500px; overflow: hidden; text-overflow: ellipsis; \">NA</td><td style=\"white-space: nowrap; max-width: 500px; overflow: hidden; text-overflow: ellipsis; \">1.75e+00</td><td style=\"white-space: nowrap; max-width: 500px; overflow: hidden; text-overflow: ellipsis; \">NA</td><td style=\"white-space: nowrap; max-width: 500px; overflow: hidden; text-overflow: ellipsis; \">-1.60e-03</td><td style=\"white-space: nowrap; max-width: 500px; overflow: hidden; text-overflow: ellipsis; \">[10]</td><td style=\"white-space: nowrap; max-width: 500px; overflow: hidden; text-overflow: ellipsis; \">[1.56e-03]</td><td style=\"white-space: nowrap; max-width: 500px; overflow: hidden; text-overflow: ellipsis; \">6.00e+01</td><td style=\"white-space: nowrap; max-width: 500px; overflow: hidden; text-overflow: ellipsis; \">0</td><td style=\"white-space: nowrap; max-width: 500px; overflow: hidden; text-overflow: ellipsis; \">7.70e-01</td><td style=\"white-space: nowrap; max-width: 500px; overflow: hidden; text-overflow: ellipsis; \">False</td><td style=\"white-space: nowrap; max-width: 500px; overflow: hidden; text-overflow: ellipsis; \">True</td><td style=\"white-space: nowrap; max-width: 500px; overflow: hidden; text-overflow: ellipsis; \">1.44e+01</td><td style=\"white-space: nowrap; max-width: 500px; overflow: hidden; text-overflow: ellipsis; \">NA</td><td style=\"white-space: nowrap; max-width: 500px; overflow: hidden; text-overflow: ellipsis; \">1.08e-01</td><td style=\"white-space: nowrap; max-width: 500px; overflow: hidden; text-overflow: ellipsis; \">8.56e-01</td><td style=\"white-space: nowrap; max-width: 500px; overflow: hidden; text-overflow: ellipsis; \">1.57e+01</td><td style=\"white-space: nowrap; max-width: 500px; overflow: hidden; text-overflow: ellipsis; \">NA</td><td style=\"white-space: nowrap; max-width: 500px; overflow: hidden; text-overflow: ellipsis; \">&quot;MQ&quot;</td><td style=\"white-space: nowrap; max-width: 500px; overflow: hidden; text-overflow: ellipsis; \">1266</td><td style=\"white-space: nowrap; max-width: 500px; overflow: hidden; text-overflow: ellipsis; \">1170</td><td style=\"white-space: nowrap; max-width: 500px; overflow: hidden; text-overflow: ellipsis; \">980</td><td style=\"white-space: nowrap; max-width: 500px; overflow: hidden; text-overflow: ellipsis; \">1202</td><td style=\"white-space: nowrap; max-width: 500px; overflow: hidden; text-overflow: ellipsis; \">1786</td><td style=\"white-space: nowrap; max-width: 500px; overflow: hidden; text-overflow: ellipsis; \">[10]</td><td style=\"white-space: nowrap; max-width: 500px; overflow: hidden; text-overflow: ellipsis; \">[0]</td><td style=\"white-space: nowrap; max-width: 500px; overflow: hidden; text-overflow: ellipsis; \">[0]</td><td style=\"white-space: nowrap; max-width: 500px; overflow: hidden; text-overflow: ellipsis; \">[0]</td><td style=\"white-space: nowrap; max-width: 500px; overflow: hidden; text-overflow: ellipsis; \">[0]</td><td style=\"white-space: nowrap; max-width: 500px; overflow: hidden; text-overflow: ellipsis; \">[0]</td><td style=\"white-space: nowrap; max-width: 500px; overflow: hidden; text-overflow: ellipsis; \">[0]</td><td style=\"white-space: nowrap; max-width: 500px; overflow: hidden; text-overflow: ellipsis; \">[0]</td><td style=\"white-space: nowrap; max-width: 500px; overflow: hidden; text-overflow: ellipsis; \">[0]</td><td style=\"white-space: nowrap; max-width: 500px; overflow: hidden; text-overflow: ellipsis; \">[0]</td><td style=\"white-space: nowrap; max-width: 500px; overflow: hidden; text-overflow: ellipsis; \">[0]</td><td style=\"white-space: nowrap; max-width: 500px; overflow: hidden; text-overflow: ellipsis; \">[10]</td><td style=\"white-space: nowrap; max-width: 500px; overflow: hidden; text-overflow: ellipsis; \">[0]</td><td style=\"white-space: nowrap; max-width: 500px; overflow: hidden; text-overflow: ellipsis; \">[0]</td><td style=\"white-space: nowrap; max-width: 500px; overflow: hidden; text-overflow: ellipsis; \">[0]</td><td style=\"white-space: nowrap; max-width: 500px; overflow: hidden; text-overflow: ellipsis; \">[0]</td><td style=\"white-space: nowrap; max-width: 500px; overflow: hidden; text-overflow: ellipsis; \">[10]</td><td style=\"white-space: nowrap; max-width: 500px; overflow: hidden; text-overflow: ellipsis; \">[7.90e-03]</td><td style=\"white-space: nowrap; max-width: 500px; overflow: hidden; text-overflow: ellipsis; \">[0.00e+00]</td><td style=\"white-space: nowrap; max-width: 500px; overflow: hidden; text-overflow: ellipsis; \">[0.00e+00]</td><td style=\"white-space: nowrap; max-width: 500px; overflow: hidden; text-overflow: ellipsis; \">[0.00e+00]</td><td style=\"white-space: nowrap; max-width: 500px; overflow: hidden; text-overflow: ellipsis; \">[0.00e+00]</td><td style=\"white-space: nowrap; max-width: 500px; overflow: hidden; text-overflow: ellipsis; \">[1.00e+00]</td><td style=\"white-space: nowrap; max-width: 500px; overflow: hidden; text-overflow: ellipsis; \">[1.00e+00]</td><td style=\"white-space: nowrap; max-width: 500px; overflow: hidden; text-overflow: ellipsis; \">[1.00e+00]</td><td style=\"white-space: nowrap; max-width: 500px; overflow: hidden; text-overflow: ellipsis; \">[1.00e+00]</td><td style=\"white-space: nowrap; max-width: 500px; overflow: hidden; text-overflow: ellipsis; \">[1.00e+00]</td><td style=\"white-space: nowrap; max-width: 500px; overflow: hidden; text-overflow: ellipsis; \">[1.00e+00]</td><td style=\"white-space: nowrap; max-width: 500px; overflow: hidden; text-overflow: ellipsis; \">[9.65e-01]</td><td style=\"white-space: nowrap; max-width: 500px; overflow: hidden; text-overflow: ellipsis; \">[1.00e+00]</td><td style=\"white-space: nowrap; max-width: 500px; overflow: hidden; text-overflow: ellipsis; \">[1.00e+00]</td><td style=\"white-space: nowrap; max-width: 500px; overflow: hidden; text-overflow: ellipsis; \">[1.00e+00]</td><td style=\"white-space: nowrap; max-width: 500px; overflow: hidden; text-overflow: ellipsis; \">[1.00e+00]</td><td style=\"white-space: nowrap; max-width: 500px; overflow: hidden; text-overflow: ellipsis; \">[9.93e-01]</td><td style=\"white-space: nowrap; max-width: 500px; overflow: hidden; text-overflow: ellipsis; \">[0.00e+00]</td><td style=\"white-space: nowrap; max-width: 500px; overflow: hidden; text-overflow: ellipsis; \">1006</td><td style=\"white-space: nowrap; max-width: 500px; overflow: hidden; text-overflow: ellipsis; \">1008</td><td style=\"white-space: nowrap; max-width: 500px; overflow: hidden; text-overflow: ellipsis; \">694</td><td style=\"white-space: nowrap; max-width: 500px; overflow: hidden; text-overflow: ellipsis; \">978</td><td style=\"white-space: nowrap; max-width: 500px; overflow: hidden; text-overflow: ellipsis; \">1322</td><td style=\"white-space: nowrap; max-width: 500px; overflow: hidden; text-overflow: ellipsis; \">[6]</td><td style=\"white-space: nowrap; max-width: 500px; overflow: hidden; text-overflow: ellipsis; \">[0]</td><td style=\"white-space: nowrap; max-width: 500px; overflow: hidden; text-overflow: ellipsis; \">[0]</td><td style=\"white-space: nowrap; max-width: 500px; overflow: hidden; text-overflow: ellipsis; \">[0]</td><td style=\"white-space: nowrap; max-width: 500px; overflow: hidden; text-overflow: ellipsis; \">[0]</td><td style=\"white-space: nowrap; max-width: 500px; overflow: hidden; text-overflow: ellipsis; \">[0]</td><td style=\"white-space: nowrap; max-width: 500px; overflow: hidden; text-overflow: ellipsis; \">[0]</td><td style=\"white-space: nowrap; max-width: 500px; overflow: hidden; text-overflow: ellipsis; \">[0]</td><td style=\"white-space: nowrap; max-width: 500px; overflow: hidden; text-overflow: ellipsis; \">[0]</td><td style=\"white-space: nowrap; max-width: 500px; overflow: hidden; text-overflow: ellipsis; \">[0]</td><td style=\"white-space: nowrap; max-width: 500px; overflow: hidden; text-overflow: ellipsis; \">[6]</td><td style=\"white-space: nowrap; max-width: 500px; overflow: hidden; text-overflow: ellipsis; \">[0]</td><td style=\"white-space: nowrap; max-width: 500px; overflow: hidden; text-overflow: ellipsis; \">[0]</td><td style=\"white-space: nowrap; max-width: 500px; overflow: hidden; text-overflow: ellipsis; \">[0]</td><td style=\"white-space: nowrap; max-width: 500px; overflow: hidden; text-overflow: ellipsis; \">[0]</td><td style=\"white-space: nowrap; max-width: 500px; overflow: hidden; text-overflow: ellipsis; \">[5.96e-03]</td><td style=\"white-space: nowrap; max-width: 500px; overflow: hidden; text-overflow: ellipsis; \">[0.00e+00]</td><td style=\"white-space: nowrap; max-width: 500px; overflow: hidden; text-overflow: ellipsis; \">[0.00e+00]</td><td style=\"white-space: nowrap; max-width: 500px; overflow: hidden; text-overflow: ellipsis; \">[0.00e+00]</td><td style=\"white-space: nowrap; max-width: 500px; overflow: hidden; text-overflow: ellipsis; \">[0.00e+00]</td><td style=\"white-space: nowrap; max-width: 500px; overflow: hidden; text-overflow: ellipsis; \">NA</td><td style=\"white-space: nowrap; max-width: 500px; overflow: hidden; text-overflow: ellipsis; \">NA</td><td style=\"white-space: nowrap; max-width: 500px; overflow: hidden; text-overflow: ellipsis; \">NA</td><td style=\"white-space: nowrap; max-width: 500px; overflow: hidden; text-overflow: ellipsis; \">NA</td><td style=\"white-space: nowrap; max-width: 500px; overflow: hidden; text-overflow: ellipsis; \">NA</td><td style=\"white-space: nowrap; max-width: 500px; overflow: hidden; text-overflow: ellipsis; \">[&quot;T|upstream_gene_variant|MODIFIER|SELENOO|ENSG00000073169|Transcript|ENST00000380903|protein_coding|||||||||||3711|1||HGNC|HGNC:30395&quot;]</td></tr>\n",
       "<tr><td style=\"white-space: nowrap; max-width: 500px; overflow: hidden; text-overflow: ellipsis; \">chr22:50197309</td><td style=\"white-space: nowrap; max-width: 500px; overflow: hidden; text-overflow: ellipsis; \">[&quot;G&quot;,&quot;C&quot;]</td><td style=\"white-space: nowrap; max-width: 500px; overflow: hidden; text-overflow: ellipsis; \">NA</td><td style=\"white-space: nowrap; max-width: 500px; overflow: hidden; text-overflow: ellipsis; \">1.09e+03</td><td style=\"white-space: nowrap; max-width: 500px; overflow: hidden; text-overflow: ellipsis; \">{}</td><td style=\"white-space: nowrap; max-width: 500px; overflow: hidden; text-overflow: ellipsis; \">[2]</td><td style=\"white-space: nowrap; max-width: 500px; overflow: hidden; text-overflow: ellipsis; \">[3.12e-04]</td><td style=\"white-space: nowrap; max-width: 500px; overflow: hidden; text-overflow: ellipsis; \">6404</td><td style=\"white-space: nowrap; max-width: 500px; overflow: hidden; text-overflow: ellipsis; \">8.75e-01</td><td style=\"white-space: nowrap; max-width: 500px; overflow: hidden; text-overflow: ellipsis; \">1.04e+00</td><td style=\"white-space: nowrap; max-width: 500px; overflow: hidden; text-overflow: ellipsis; \">120153</td><td style=\"white-space: nowrap; max-width: 500px; overflow: hidden; text-overflow: ellipsis; \">False</td><td style=\"white-space: nowrap; max-width: 500px; overflow: hidden; text-overflow: ellipsis; \">NA</td><td style=\"white-space: nowrap; max-width: 500px; overflow: hidden; text-overflow: ellipsis; \">1.82e+00</td><td style=\"white-space: nowrap; max-width: 500px; overflow: hidden; text-overflow: ellipsis; \">NA</td><td style=\"white-space: nowrap; max-width: 500px; overflow: hidden; text-overflow: ellipsis; \">-3.00e-04</td><td style=\"white-space: nowrap; max-width: 500px; overflow: hidden; text-overflow: ellipsis; \">[2]</td><td style=\"white-space: nowrap; max-width: 500px; overflow: hidden; text-overflow: ellipsis; \">[3.12e-04]</td><td style=\"white-space: nowrap; max-width: 500px; overflow: hidden; text-overflow: ellipsis; \">6.00e+01</td><td style=\"white-space: nowrap; max-width: 500px; overflow: hidden; text-overflow: ellipsis; \">0</td><td style=\"white-space: nowrap; max-width: 500px; overflow: hidden; text-overflow: ellipsis; \">-8.80e-02</td><td style=\"white-space: nowrap; max-width: 500px; overflow: hidden; text-overflow: ellipsis; \">False</td><td style=\"white-space: nowrap; max-width: 500px; overflow: hidden; text-overflow: ellipsis; \">False</td><td style=\"white-space: nowrap; max-width: 500px; overflow: hidden; text-overflow: ellipsis; \">1.35e+01</td><td style=\"white-space: nowrap; max-width: 500px; overflow: hidden; text-overflow: ellipsis; \">NA</td><td style=\"white-space: nowrap; max-width: 500px; overflow: hidden; text-overflow: ellipsis; \">2.20e-01</td><td style=\"white-space: nowrap; max-width: 500px; overflow: hidden; text-overflow: ellipsis; \">4.81e-01</td><td style=\"white-space: nowrap; max-width: 500px; overflow: hidden; text-overflow: ellipsis; \">1.49e+01</td><td style=\"white-space: nowrap; max-width: 500px; overflow: hidden; text-overflow: ellipsis; \">NA</td><td style=\"white-space: nowrap; max-width: 500px; overflow: hidden; text-overflow: ellipsis; \">&quot;MQ&quot;</td><td style=\"white-space: nowrap; max-width: 500px; overflow: hidden; text-overflow: ellipsis; \">1266</td><td style=\"white-space: nowrap; max-width: 500px; overflow: hidden; text-overflow: ellipsis; \">1170</td><td style=\"white-space: nowrap; max-width: 500px; overflow: hidden; text-overflow: ellipsis; \">980</td><td style=\"white-space: nowrap; max-width: 500px; overflow: hidden; text-overflow: ellipsis; \">1202</td><td style=\"white-space: nowrap; max-width: 500px; overflow: hidden; text-overflow: ellipsis; \">1786</td><td style=\"white-space: nowrap; max-width: 500px; overflow: hidden; text-overflow: ellipsis; \">[0]</td><td style=\"white-space: nowrap; max-width: 500px; overflow: hidden; text-overflow: ellipsis; \">[0]</td><td style=\"white-space: nowrap; max-width: 500px; overflow: hidden; text-overflow: ellipsis; \">[0]</td><td style=\"white-space: nowrap; max-width: 500px; overflow: hidden; text-overflow: ellipsis; \">[2]</td><td style=\"white-space: nowrap; max-width: 500px; overflow: hidden; text-overflow: ellipsis; \">[0]</td><td style=\"white-space: nowrap; max-width: 500px; overflow: hidden; text-overflow: ellipsis; \">[0]</td><td style=\"white-space: nowrap; max-width: 500px; overflow: hidden; text-overflow: ellipsis; \">[0]</td><td style=\"white-space: nowrap; max-width: 500px; overflow: hidden; text-overflow: ellipsis; \">[0]</td><td style=\"white-space: nowrap; max-width: 500px; overflow: hidden; text-overflow: ellipsis; \">[0]</td><td style=\"white-space: nowrap; max-width: 500px; overflow: hidden; text-overflow: ellipsis; \">[0]</td><td style=\"white-space: nowrap; max-width: 500px; overflow: hidden; text-overflow: ellipsis; \">[0]</td><td style=\"white-space: nowrap; max-width: 500px; overflow: hidden; text-overflow: ellipsis; \">[0]</td><td style=\"white-space: nowrap; max-width: 500px; overflow: hidden; text-overflow: ellipsis; \">[0]</td><td style=\"white-space: nowrap; max-width: 500px; overflow: hidden; text-overflow: ellipsis; \">[0]</td><td style=\"white-space: nowrap; max-width: 500px; overflow: hidden; text-overflow: ellipsis; \">[2]</td><td style=\"white-space: nowrap; max-width: 500px; overflow: hidden; text-overflow: ellipsis; \">[0]</td><td style=\"white-space: nowrap; max-width: 500px; overflow: hidden; text-overflow: ellipsis; \">[2]</td><td style=\"white-space: nowrap; max-width: 500px; overflow: hidden; text-overflow: ellipsis; \">[0.00e+00]</td><td style=\"white-space: nowrap; max-width: 500px; overflow: hidden; text-overflow: ellipsis; \">[0.00e+00]</td><td style=\"white-space: nowrap; max-width: 500px; overflow: hidden; text-overflow: ellipsis; \">[0.00e+00]</td><td style=\"white-space: nowrap; max-width: 500px; overflow: hidden; text-overflow: ellipsis; \">[1.66e-03]</td><td style=\"white-space: nowrap; max-width: 500px; overflow: hidden; text-overflow: ellipsis; \">[0.00e+00]</td><td style=\"white-space: nowrap; max-width: 500px; overflow: hidden; text-overflow: ellipsis; \">[1.00e+00]</td><td style=\"white-space: nowrap; max-width: 500px; overflow: hidden; text-overflow: ellipsis; \">[1.00e+00]</td><td style=\"white-space: nowrap; max-width: 500px; overflow: hidden; text-overflow: ellipsis; \">[1.00e+00]</td><td style=\"white-space: nowrap; max-width: 500px; overflow: hidden; text-overflow: ellipsis; \">[1.00e+00]</td><td style=\"white-space: nowrap; max-width: 500px; overflow: hidden; text-overflow: ellipsis; \">[1.00e+00]</td><td style=\"white-space: nowrap; max-width: 500px; overflow: hidden; text-overflow: ellipsis; \">[1.00e+00]</td><td style=\"white-space: nowrap; max-width: 500px; overflow: hidden; text-overflow: ellipsis; \">[1.00e+00]</td><td style=\"white-space: nowrap; max-width: 500px; overflow: hidden; text-overflow: ellipsis; \">[1.00e+00]</td><td style=\"white-space: nowrap; max-width: 500px; overflow: hidden; text-overflow: ellipsis; \">[1.00e+00]</td><td style=\"white-space: nowrap; max-width: 500px; overflow: hidden; text-overflow: ellipsis; \">[9.99e-01]</td><td style=\"white-space: nowrap; max-width: 500px; overflow: hidden; text-overflow: ellipsis; \">[1.00e+00]</td><td style=\"white-space: nowrap; max-width: 500px; overflow: hidden; text-overflow: ellipsis; \">[1.00e+00]</td><td style=\"white-space: nowrap; max-width: 500px; overflow: hidden; text-overflow: ellipsis; \">[0.00e+00]</td><td style=\"white-space: nowrap; max-width: 500px; overflow: hidden; text-overflow: ellipsis; \">1006</td><td style=\"white-space: nowrap; max-width: 500px; overflow: hidden; text-overflow: ellipsis; \">1008</td><td style=\"white-space: nowrap; max-width: 500px; overflow: hidden; text-overflow: ellipsis; \">694</td><td style=\"white-space: nowrap; max-width: 500px; overflow: hidden; text-overflow: ellipsis; \">978</td><td style=\"white-space: nowrap; max-width: 500px; overflow: hidden; text-overflow: ellipsis; \">1322</td><td style=\"white-space: nowrap; max-width: 500px; overflow: hidden; text-overflow: ellipsis; \">[0]</td><td style=\"white-space: nowrap; max-width: 500px; overflow: hidden; text-overflow: ellipsis; \">[0]</td><td style=\"white-space: nowrap; max-width: 500px; overflow: hidden; text-overflow: ellipsis; \">[0]</td><td style=\"white-space: nowrap; max-width: 500px; overflow: hidden; text-overflow: ellipsis; \">[1]</td><td style=\"white-space: nowrap; max-width: 500px; overflow: hidden; text-overflow: ellipsis; \">[0]</td><td style=\"white-space: nowrap; max-width: 500px; overflow: hidden; text-overflow: ellipsis; \">[0]</td><td style=\"white-space: nowrap; max-width: 500px; overflow: hidden; text-overflow: ellipsis; \">[0]</td><td style=\"white-space: nowrap; max-width: 500px; overflow: hidden; text-overflow: ellipsis; \">[0]</td><td style=\"white-space: nowrap; max-width: 500px; overflow: hidden; text-overflow: ellipsis; \">[0]</td><td style=\"white-space: nowrap; max-width: 500px; overflow: hidden; text-overflow: ellipsis; \">[0]</td><td style=\"white-space: nowrap; max-width: 500px; overflow: hidden; text-overflow: ellipsis; \">[0]</td><td style=\"white-space: nowrap; max-width: 500px; overflow: hidden; text-overflow: ellipsis; \">[0]</td><td style=\"white-space: nowrap; max-width: 500px; overflow: hidden; text-overflow: ellipsis; \">[0]</td><td style=\"white-space: nowrap; max-width: 500px; overflow: hidden; text-overflow: ellipsis; \">[1]</td><td style=\"white-space: nowrap; max-width: 500px; overflow: hidden; text-overflow: ellipsis; \">[0]</td><td style=\"white-space: nowrap; max-width: 500px; overflow: hidden; text-overflow: ellipsis; \">[0.00e+00]</td><td style=\"white-space: nowrap; max-width: 500px; overflow: hidden; text-overflow: ellipsis; \">[0.00e+00]</td><td style=\"white-space: nowrap; max-width: 500px; overflow: hidden; text-overflow: ellipsis; \">[0.00e+00]</td><td style=\"white-space: nowrap; max-width: 500px; overflow: hidden; text-overflow: ellipsis; \">[1.02e-03]</td><td style=\"white-space: nowrap; max-width: 500px; overflow: hidden; text-overflow: ellipsis; \">[0.00e+00]</td><td style=\"white-space: nowrap; max-width: 500px; overflow: hidden; text-overflow: ellipsis; \">NA</td><td style=\"white-space: nowrap; max-width: 500px; overflow: hidden; text-overflow: ellipsis; \">NA</td><td style=\"white-space: nowrap; max-width: 500px; overflow: hidden; text-overflow: ellipsis; \">NA</td><td style=\"white-space: nowrap; max-width: 500px; overflow: hidden; text-overflow: ellipsis; \">NA</td><td style=\"white-space: nowrap; max-width: 500px; overflow: hidden; text-overflow: ellipsis; \">NA</td><td style=\"white-space: nowrap; max-width: 500px; overflow: hidden; text-overflow: ellipsis; \">[&quot;C|upstream_gene_variant|MODIFIER|SELENOO|ENSG00000073169|Transcript|ENST00000380903|protein_coding|||||||||||3702|1||HGNC|HGNC:30395&quot;]</td></tr>\n",
       "</tbody></table><p style=\"background: #fdd; padding: 0.4em;\">showing top 10 rows</p>\n"
      ],
      "text/plain": [
       "+----------------+---------------+------+----------+\n",
       "| locus          | alleles       | rsid |     qual |\n",
       "+----------------+---------------+------+----------+\n",
       "| locus<GRCh38>  | array<str>    | str  |  float64 |\n",
       "+----------------+---------------+------+----------+\n",
       "| chr22:50197100 | [\"T\",\"C\"]     | NA   | 1.40e+04 |\n",
       "| chr22:50197103 | [\"C\",\"T\"]     | NA   | 5.58e+02 |\n",
       "| chr22:50197193 | [\"A\",\"C\"]     | NA   | 4.70e+02 |\n",
       "| chr22:50197198 | [\"C\",\"T\"]     | NA   | 1.69e+06 |\n",
       "| chr22:50197199 | [\"G\",\"C\",\"A\"] | NA   | 3.49e+05 |\n",
       "| chr22:50197200 | [\"C\",\"G\"]     | NA   | 2.48e+05 |\n",
       "| chr22:50197205 | [\"G\",\"A\"]     | NA   | 3.53e+04 |\n",
       "| chr22:50197285 | [\"G\",\"C\"]     | NA   | 9.06e+02 |\n",
       "| chr22:50197300 | [\"C\",\"T\"]     | NA   | 6.12e+03 |\n",
       "| chr22:50197309 | [\"G\",\"C\"]     | NA   | 1.09e+03 |\n",
       "+----------------+---------------+------+----------+\n",
       "\n",
       "+---------------------------------+--------------+---------------------+\n",
       "| filters                         | info.AC      | info.AF             |\n",
       "+---------------------------------+--------------+---------------------+\n",
       "| set<str>                        | array<int32> | array<float64>      |\n",
       "+---------------------------------+--------------+---------------------+\n",
       "| {}                              | [24]         | [3.75e-03]          |\n",
       "| {}                              | [1]          | [1.56e-04]          |\n",
       "| {\"VQSRTrancheSNP99.80to100.00\"} | [15]         | [2.34e-03]          |\n",
       "| {}                              | [2439]       | [3.81e-01]          |\n",
       "| {}                              | [534,9]      | [8.34e-02,1.41e-03] |\n",
       "| {}                              | [287]        | [4.48e-02]          |\n",
       "| {}                              | [49]         | [7.65e-03]          |\n",
       "| {}                              | [2]          | [3.12e-04]          |\n",
       "| {}                              | [10]         | [1.56e-03]          |\n",
       "| {}                              | [2]          | [3.12e-04]          |\n",
       "+---------------------------------+--------------+---------------------+\n",
       "\n",
       "+---------+-------------------+----------------------+---------+---------+\n",
       "| info.AN | info.BaseQRankSum | info.ClippingRankSum | info.DP | info.DS |\n",
       "+---------+-------------------+----------------------+---------+---------+\n",
       "|   int32 |           float64 |              float64 |   int32 |    bool |\n",
       "+---------+-------------------+----------------------+---------+---------+\n",
       "|    6404 |          3.64e-01 |             7.92e-01 |  121389 |   False |\n",
       "|    6404 |         -1.91e+00 |            -9.06e-01 |  121310 |   False |\n",
       "|    6402 |         -1.09e+00 |            -2.01e-01 |  123891 |   False |\n",
       "|    6402 |          1.42e-01 |            -2.40e-02 |  135837 |   False |\n",
       "|    6404 |          1.56e-01 |             5.50e-02 |  123182 |   False |\n",
       "|    6404 |         -7.60e-02 |             4.70e-02 |  124771 |   False |\n",
       "|    6404 |          0.00e+00 |            -2.17e-01 |  122821 |   False |\n",
       "|    6404 |          1.66e+00 |             5.90e-02 |  121052 |   False |\n",
       "|    6404 |          4.70e-01 |             3.28e-01 |  120524 |   False |\n",
       "|    6404 |          8.75e-01 |             1.04e+00 |  120153 |   False |\n",
       "+---------+-------------------+----------------------+---------+---------+\n",
       "\n",
       "+----------+----------+---------------------+----------------------+\n",
       "| info.END |  info.FS | info.HaplotypeScore | info.InbreedingCoeff |\n",
       "+----------+----------+---------------------+----------------------+\n",
       "|    int32 |  float64 |             float64 |              float64 |\n",
       "+----------+----------+---------------------+----------------------+\n",
       "|       NA | 2.44e+00 |                  NA |                   NA |\n",
       "|       NA | 1.12e+00 |                  NA |            -2.00e-04 |\n",
       "|       NA | 2.61e+01 |                  NA |            -9.40e-03 |\n",
       "|       NA | 1.13e+00 |                  NA |             3.30e-03 |\n",
       "|       NA | 1.23e+01 |                  NA |             1.41e-01 |\n",
       "|       NA | 1.11e+00 |                  NA |             1.25e-01 |\n",
       "|       NA | 6.88e+00 |                  NA |            -5.30e-03 |\n",
       "|       NA | 8.56e-01 |                  NA |            -3.00e-04 |\n",
       "|       NA | 1.75e+00 |                  NA |            -1.60e-03 |\n",
       "|       NA | 1.82e+00 |                  NA |            -3.00e-04 |\n",
       "+----------+----------+---------------------+----------------------+\n",
       "\n",
       "+--------------+---------------------+----------+----------+----------------+\n",
       "| info.MLEAC   | info.MLEAF          |  info.MQ | info.MQ0 | info.MQRankSum |\n",
       "+--------------+---------------------+----------+----------+----------------+\n",
       "| array<int32> | array<float64>      |  float64 |    int32 |        float64 |\n",
       "+--------------+---------------------+----------+----------+----------------+\n",
       "| [24]         | [3.75e-03]          | 6.00e+01 |        0 |       2.17e-01 |\n",
       "| [1]          | [1.56e-04]          | 6.00e+01 |        0 |       2.02e+00 |\n",
       "| [11]         | [1.72e-03]          | 5.97e+01 |        0 |      -1.15e-01 |\n",
       "| [2459]       | [3.84e-01]          | 6.00e+01 |        0 |       0.00e+00 |\n",
       "| [534,9]      | [8.30e-02,1.41e-03] | 6.00e+01 |        0 |      -6.00e-02 |\n",
       "| [287]        | [4.50e-02]          | 6.00e+01 |        0 |       9.40e-02 |\n",
       "| [50]         | [7.81e-03]          | 6.00e+01 |        0 |      -8.60e-02 |\n",
       "| [2]          | [3.12e-04]          | 6.00e+01 |        0 |       2.35e-01 |\n",
       "| [10]         | [1.56e-03]          | 6.00e+01 |        0 |       7.70e-01 |\n",
       "| [2]          | [3.12e-04]          | 6.00e+01 |        0 |      -8.80e-02 |\n",
       "+--------------+---------------------+----------+----------+----------------+\n",
       "\n",
       "+--------------------------+--------------------------+----------+-------------+\n",
       "| info.NEGATIVE_TRAIN_SITE | info.POSITIVE_TRAIN_SITE |  info.QD | info.RAW_MQ |\n",
       "+--------------------------+--------------------------+----------+-------------+\n",
       "|                     bool |                     bool |  float64 |     float64 |\n",
       "+--------------------------+--------------------------+----------+-------------+\n",
       "|                    False |                    False | 1.32e+01 |          NA |\n",
       "|                    False |                    False | 1.19e+01 |          NA |\n",
       "|                    False |                    False | 1.20e+00 |          NA |\n",
       "|                    False |                    False | 1.91e+01 |          NA |\n",
       "|                    False |                    False | 1.77e+01 |          NA |\n",
       "|                    False |                    False | 2.11e+01 |          NA |\n",
       "|                    False |                    False | 1.70e+01 |          NA |\n",
       "|                    False |                    False | 1.18e+01 |          NA |\n",
       "|                    False |                     True | 1.44e+01 |          NA |\n",
       "|                    False |                    False | 1.35e+01 |          NA |\n",
       "+--------------------------+--------------------------+----------+-------------+\n",
       "\n",
       "+---------------------+----------+-------------+------------------+\n",
       "| info.ReadPosRankSum | info.SOR | info.VQSLOD | info.VariantType |\n",
       "+---------------------+----------+-------------+------------------+\n",
       "|             float64 |  float64 |     float64 | str              |\n",
       "+---------------------+----------+-------------+------------------+\n",
       "|            8.92e-01 | 8.62e-01 |    1.16e+01 | NA               |\n",
       "|            5.30e-02 | 5.07e-01 |    1.44e+01 | NA               |\n",
       "|           -1.60e+00 | 7.45e+00 |   -9.20e+01 | NA               |\n",
       "|            5.93e-01 | 6.09e-01 |    3.08e+00 | NA               |\n",
       "|            4.76e-01 | 1.42e+00 |    9.95e+00 | NA               |\n",
       "|            6.26e-01 | 5.72e-01 |    1.06e+01 | NA               |\n",
       "|            2.98e-01 | 3.47e-01 |    1.34e+01 | NA               |\n",
       "|            1.40e+00 | 5.63e-01 |    1.46e+01 | NA               |\n",
       "|            1.08e-01 | 8.56e-01 |    1.57e+01 | NA               |\n",
       "|            2.20e-01 | 4.81e-01 |    1.49e+01 | NA               |\n",
       "+---------------------+----------+-------------+------------------+\n",
       "\n",
       "+--------------+-------------+-------------+-------------+-------------+\n",
       "| info.culprit | info.AN_EUR | info.AN_EAS | info.AN_AMR | info.AN_SAS |\n",
       "+--------------+-------------+-------------+-------------+-------------+\n",
       "| str          |       int32 |       int32 |       int32 |       int32 |\n",
       "+--------------+-------------+-------------+-------------+-------------+\n",
       "| \"MQ\"         |        1266 |        1170 |         980 |        1202 |\n",
       "| \"MQ\"         |        1266 |        1170 |         980 |        1202 |\n",
       "| \"SOR\"        |        1266 |        1170 |         980 |        1202 |\n",
       "| \"MQ\"         |        1266 |        1170 |         980 |        1202 |\n",
       "| \"MQ\"         |        1266 |        1170 |         980 |        1202 |\n",
       "| \"MQ\"         |        1266 |        1170 |         980 |        1202 |\n",
       "| \"MQ\"         |        1266 |        1170 |         980 |        1202 |\n",
       "| \"MQ\"         |        1266 |        1170 |         980 |        1202 |\n",
       "| \"MQ\"         |        1266 |        1170 |         980 |        1202 |\n",
       "| \"MQ\"         |        1266 |        1170 |         980 |        1202 |\n",
       "+--------------+-------------+-------------+-------------+-------------+\n",
       "\n",
       "+-------------+--------------+--------------+--------------+--------------+\n",
       "| info.AN_AFR | info.AC_EUR  | info.AC_EAS  | info.AC_AMR  | info.AC_SAS  |\n",
       "+-------------+--------------+--------------+--------------+--------------+\n",
       "|       int32 | array<int32> | array<int32> | array<int32> | array<int32> |\n",
       "+-------------+--------------+--------------+--------------+--------------+\n",
       "|        1786 | [0]          | [0]          | [4]          | [0]          |\n",
       "|        1786 | [0]          | [0]          | [0]          | [0]          |\n",
       "|        1784 | [0]          | [0]          | [0]          | [0]          |\n",
       "|        1784 | [456]        | [452]        | [365]        | [429]        |\n",
       "|        1786 | [0,0]        | [0,0]        | [22,0]       | [0,9]        |\n",
       "|        1786 | [0]          | [0]          | [9]          | [0]          |\n",
       "|        1786 | [0]          | [1]          | [2]          | [0]          |\n",
       "|        1786 | [0]          | [2]          | [0]          | [0]          |\n",
       "|        1786 | [10]         | [0]          | [0]          | [0]          |\n",
       "|        1786 | [0]          | [0]          | [0]          | [2]          |\n",
       "+-------------+--------------+--------------+--------------+--------------+\n",
       "\n",
       "+--------------+-----------------+-----------------+-----------------+\n",
       "| info.AC_AFR  | info.AC_Hom_EUR | info.AC_Hom_EAS | info.AC_Hom_AMR |\n",
       "+--------------+-----------------+-----------------+-----------------+\n",
       "| array<int32> | array<int32>    | array<int32>    | array<int32>    |\n",
       "+--------------+-----------------+-----------------+-----------------+\n",
       "| [20]         | [0]             | [0]             | [0]             |\n",
       "| [1]          | [0]             | [0]             | [0]             |\n",
       "| [15]         | [0]             | [0]             | [0]             |\n",
       "| [737]        | [166]           | [168]           | [154]           |\n",
       "| [512,0]      | [0,0]           | [0,0]           | [0,0]           |\n",
       "| [278]        | [0]             | [0]             | [0]             |\n",
       "| [46]         | [0]             | [0]             | [0]             |\n",
       "| [0]          | [0]             | [0]             | [0]             |\n",
       "| [0]          | [0]             | [0]             | [0]             |\n",
       "| [0]          | [0]             | [0]             | [0]             |\n",
       "+--------------+-----------------+-----------------+-----------------+\n",
       "\n",
       "+-----------------+-----------------+--------------+-----------------+\n",
       "| info.AC_Hom_SAS | info.AC_Hom_AFR | info.AC_Hom  | info.AC_Het_EUR |\n",
       "+-----------------+-----------------+--------------+-----------------+\n",
       "| array<int32>    | array<int32>    | array<int32> | array<int32>    |\n",
       "+-----------------+-----------------+--------------+-----------------+\n",
       "| [0]             | [0]             | [0]          | [0]             |\n",
       "| [0]             | [0]             | [0]          | [0]             |\n",
       "| [0]             | [0]             | [0]          | [0]             |\n",
       "| [168]           | [298]           | [954]        | [290]           |\n",
       "| [0,0]           | [116,0]         | [116,0]      | [0,0]           |\n",
       "| [0]             | [48]            | [48]         | [0]             |\n",
       "| [0]             | [2]             | [2]          | [0]             |\n",
       "| [0]             | [0]             | [0]          | [0]             |\n",
       "| [0]             | [0]             | [0]          | [10]            |\n",
       "| [0]             | [0]             | [0]          | [0]             |\n",
       "+-----------------+-----------------+--------------+-----------------+\n",
       "\n",
       "+-----------------+-----------------+-----------------+-----------------+\n",
       "| info.AC_Het_EAS | info.AC_Het_AMR | info.AC_Het_SAS | info.AC_Het_AFR |\n",
       "+-----------------+-----------------+-----------------+-----------------+\n",
       "| array<int32>    | array<int32>    | array<int32>    | array<int32>    |\n",
       "+-----------------+-----------------+-----------------+-----------------+\n",
       "| [0]             | [4]             | [0]             | [20]            |\n",
       "| [0]             | [0]             | [0]             | [1]             |\n",
       "| [0]             | [0]             | [0]             | [15]            |\n",
       "| [284]           | [211]           | [261]           | [439]           |\n",
       "| [0,0]           | [22,0]          | [0,9]           | [396,0]         |\n",
       "| [0]             | [9]             | [0]             | [230]           |\n",
       "| [1]             | [2]             | [0]             | [44]            |\n",
       "| [2]             | [0]             | [0]             | [0]             |\n",
       "| [0]             | [0]             | [0]             | [0]             |\n",
       "| [0]             | [0]             | [2]             | [0]             |\n",
       "+-----------------+-----------------+-----------------+-----------------+\n",
       "\n",
       "+--------------+---------------------+---------------------+\n",
       "| info.AC_Het  | info.AF_EUR         | info.AF_EAS         |\n",
       "+--------------+---------------------+---------------------+\n",
       "| array<int32> | array<float64>      | array<float64>      |\n",
       "+--------------+---------------------+---------------------+\n",
       "| [24]         | [0.00e+00]          | [0.00e+00]          |\n",
       "| [1]          | [0.00e+00]          | [0.00e+00]          |\n",
       "| [15]         | [0.00e+00]          | [0.00e+00]          |\n",
       "| [1485]       | [3.60e-01]          | [3.86e-01]          |\n",
       "| [418,9]      | [0.00e+00,0.00e+00] | [0.00e+00,0.00e+00] |\n",
       "| [239]        | [0.00e+00]          | [0.00e+00]          |\n",
       "| [47]         | [0.00e+00]          | [8.55e-04]          |\n",
       "| [2]          | [0.00e+00]          | [1.71e-03]          |\n",
       "| [10]         | [7.90e-03]          | [0.00e+00]          |\n",
       "| [2]          | [0.00e+00]          | [0.00e+00]          |\n",
       "+--------------+---------------------+---------------------+\n",
       "\n",
       "+---------------------+---------------------+---------------------+\n",
       "| info.AF_AMR         | info.AF_SAS         | info.AF_AFR         |\n",
       "+---------------------+---------------------+---------------------+\n",
       "| array<float64>      | array<float64>      | array<float64>      |\n",
       "+---------------------+---------------------+---------------------+\n",
       "| [4.08e-03]          | [0.00e+00]          | [1.12e-02]          |\n",
       "| [0.00e+00]          | [0.00e+00]          | [5.60e-04]          |\n",
       "| [0.00e+00]          | [0.00e+00]          | [8.41e-03]          |\n",
       "| [3.72e-01]          | [3.57e-01]          | [4.13e-01]          |\n",
       "| [2.24e-02,0.00e+00] | [0.00e+00,7.49e-03] | [2.87e-01,0.00e+00] |\n",
       "| [9.18e-03]          | [0.00e+00]          | [1.56e-01]          |\n",
       "| [2.04e-03]          | [0.00e+00]          | [2.58e-02]          |\n",
       "| [0.00e+00]          | [0.00e+00]          | [0.00e+00]          |\n",
       "| [0.00e+00]          | [0.00e+00]          | [0.00e+00]          |\n",
       "| [0.00e+00]          | [1.66e-03]          | [0.00e+00]          |\n",
       "+---------------------+---------------------+---------------------+\n",
       "\n",
       "+---------------------+---------------------+---------------------+\n",
       "| info.HWE_EUR        | info.HWE_EAS        | info.HWE_AMR        |\n",
       "+---------------------+---------------------+---------------------+\n",
       "| array<float64>      | array<float64>      | array<float64>      |\n",
       "+---------------------+---------------------+---------------------+\n",
       "| [1.00e+00]          | [1.00e+00]          | [1.00e+00]          |\n",
       "| [1.00e+00]          | [1.00e+00]          | [1.00e+00]          |\n",
       "| [1.00e+00]          | [1.00e+00]          | [1.00e+00]          |\n",
       "| [8.63e-01]          | [6.01e-01]          | [8.23e-02]          |\n",
       "| [1.00e+00,1.00e+00] | [1.00e+00,1.00e+00] | [1.00e+00,1.00e+00] |\n",
       "| [1.00e+00]          | [1.00e+00]          | [1.00e+00]          |\n",
       "| [1.00e+00]          | [1.00e+00]          | [1.00e+00]          |\n",
       "| [1.00e+00]          | [1.00e+00]          | [1.00e+00]          |\n",
       "| [1.00e+00]          | [1.00e+00]          | [1.00e+00]          |\n",
       "| [1.00e+00]          | [1.00e+00]          | [1.00e+00]          |\n",
       "+---------------------+---------------------+---------------------+\n",
       "\n",
       "+---------------------+---------------------+---------------------+\n",
       "| info.HWE_SAS        | info.HWE_AFR        | info.HWE            |\n",
       "+---------------------+---------------------+---------------------+\n",
       "| array<float64>      | array<float64>      | array<float64>      |\n",
       "+---------------------+---------------------+---------------------+\n",
       "| [1.00e+00]          | [1.00e+00]          | [1.00e+00]          |\n",
       "| [1.00e+00]          | [1.00e+00]          | [1.00e+00]          |\n",
       "| [1.00e+00]          | [1.00e+00]          | [1.00e+00]          |\n",
       "| [1.83e-01]          | [6.79e-01]          | [3.49e-01]          |\n",
       "| [1.00e+00,1.00e+00] | [1.39e-02,1.00e+00] | [6.88e-13,1.00e+00] |\n",
       "| [1.00e+00]          | [5.25e-01]          | [8.09e-09]          |\n",
       "| [1.00e+00]          | [4.48e-01]          | [1.69e-01]          |\n",
       "| [1.00e+00]          | [1.00e+00]          | [1.00e+00]          |\n",
       "| [1.00e+00]          | [1.00e+00]          | [1.00e+00]          |\n",
       "| [1.00e+00]          | [1.00e+00]          | [1.00e+00]          |\n",
       "+---------------------+---------------------+---------------------+\n",
       "\n",
       "+---------------------+---------------------+---------------------+\n",
       "| info.ExcHet_EUR     | info.ExcHet_EAS     | info.ExcHet_AMR     |\n",
       "+---------------------+---------------------+---------------------+\n",
       "| array<float64>      | array<float64>      | array<float64>      |\n",
       "+---------------------+---------------------+---------------------+\n",
       "| [1.00e+00]          | [1.00e+00]          | [9.94e-01]          |\n",
       "| [1.00e+00]          | [1.00e+00]          | [1.00e+00]          |\n",
       "| [1.00e+00]          | [1.00e+00]          | [1.00e+00]          |\n",
       "| [6.02e-01]          | [3.20e-01]          | [9.69e-01]          |\n",
       "| [1.00e+00,1.00e+00] | [1.00e+00,1.00e+00] | [7.86e-01,1.00e+00] |\n",
       "| [1.00e+00]          | [1.00e+00]          | [9.64e-01]          |\n",
       "| [1.00e+00]          | [1.00e+00]          | [9.99e-01]          |\n",
       "| [1.00e+00]          | [9.99e-01]          | [1.00e+00]          |\n",
       "| [9.65e-01]          | [1.00e+00]          | [1.00e+00]          |\n",
       "| [1.00e+00]          | [1.00e+00]          | [1.00e+00]          |\n",
       "+---------------------+---------------------+---------------------+\n",
       "\n",
       "+---------------------+---------------------+---------------------+\n",
       "| info.ExcHet_SAS     | info.ExcHet_AFR     | info.ExcHet         |\n",
       "+---------------------+---------------------+---------------------+\n",
       "| array<float64>      | array<float64>      | array<float64>      |\n",
       "+---------------------+---------------------+---------------------+\n",
       "| [1.00e+00]          | [8.98e-01]          | [9.58e-01]          |\n",
       "| [1.00e+00]          | [1.00e+00]          | [1.00e+00]          |\n",
       "| [1.00e+00]          | [9.42e-01]          | [9.84e-01]          |\n",
       "| [9.24e-01]          | [3.59e-01]          | [8.35e-01]          |\n",
       "| [1.00e+00,9.70e-01] | [7.15e-03,1.00e+00] | [1.00e+00,9.94e-01] |\n",
       "| [1.00e+00]          | [7.75e-01]          | [1.00e+00]          |\n",
       "| [1.00e+00]          | [8.88e-01]          | [9.86e-01]          |\n",
       "| [1.00e+00]          | [1.00e+00]          | [1.00e+00]          |\n",
       "| [1.00e+00]          | [1.00e+00]          | [9.93e-01]          |\n",
       "| [9.99e-01]          | [1.00e+00]          | [1.00e+00]          |\n",
       "+---------------------+---------------------+---------------------+\n",
       "\n",
       "+---------------------+-------------------+-------------------+\n",
       "| info.ME             | info.AN_EUR_unrel | info.AN_EAS_unrel |\n",
       "+---------------------+-------------------+-------------------+\n",
       "| array<float64>      |             int32 |             int32 |\n",
       "+---------------------+-------------------+-------------------+\n",
       "| [0.00e+00]          |              1006 |              1008 |\n",
       "| [0.00e+00]          |              1006 |              1008 |\n",
       "| [1.17e-02]          |              1006 |              1008 |\n",
       "| [0.00e+00]          |              1006 |              1008 |\n",
       "| [0.00e+00,0.00e+00] |              1006 |              1008 |\n",
       "| [0.00e+00]          |              1006 |              1008 |\n",
       "| [0.00e+00]          |              1006 |              1008 |\n",
       "| [0.00e+00]          |              1006 |              1008 |\n",
       "| [0.00e+00]          |              1006 |              1008 |\n",
       "| [0.00e+00]          |              1006 |              1008 |\n",
       "+---------------------+-------------------+-------------------+\n",
       "\n",
       "+-------------------+-------------------+-------------------+\n",
       "| info.AN_AMR_unrel | info.AN_SAS_unrel | info.AN_AFR_unrel |\n",
       "+-------------------+-------------------+-------------------+\n",
       "|             int32 |             int32 |             int32 |\n",
       "+-------------------+-------------------+-------------------+\n",
       "|               694 |               978 |              1322 |\n",
       "|               694 |               978 |              1322 |\n",
       "|               694 |               978 |              1322 |\n",
       "|               694 |               978 |              1322 |\n",
       "|               694 |               978 |              1322 |\n",
       "|               694 |               978 |              1322 |\n",
       "|               694 |               978 |              1322 |\n",
       "|               694 |               978 |              1322 |\n",
       "|               694 |               978 |              1322 |\n",
       "|               694 |               978 |              1322 |\n",
       "+-------------------+-------------------+-------------------+\n",
       "\n",
       "+-------------------+-------------------+-------------------+\n",
       "| info.AC_EUR_unrel | info.AC_EAS_unrel | info.AC_AMR_unrel |\n",
       "+-------------------+-------------------+-------------------+\n",
       "| array<int32>      | array<int32>      | array<int32>      |\n",
       "+-------------------+-------------------+-------------------+\n",
       "| [0]               | [0]               | [2]               |\n",
       "| [0]               | [0]               | [0]               |\n",
       "| [0]               | [0]               | [0]               |\n",
       "| [360]             | [390]             | [262]             |\n",
       "| [0,0]             | [0,0]             | [18,0]            |\n",
       "| [0]               | [0]               | [7]               |\n",
       "| [0]               | [1]               | [1]               |\n",
       "| [0]               | [1]               | [0]               |\n",
       "| [6]               | [0]               | [0]               |\n",
       "| [0]               | [0]               | [0]               |\n",
       "+-------------------+-------------------+-------------------+\n",
       "\n",
       "+-------------------+-------------------+-----------------------+\n",
       "| info.AC_SAS_unrel | info.AC_AFR_unrel | info.AC_Hom_EUR_unrel |\n",
       "+-------------------+-------------------+-----------------------+\n",
       "| array<int32>      | array<int32>      | array<int32>          |\n",
       "+-------------------+-------------------+-----------------------+\n",
       "| [0]               | [16]              | [0]                   |\n",
       "| [0]               | [1]               | [0]                   |\n",
       "| [0]               | [7]               | [0]                   |\n",
       "| [358]             | [542]             | [128]                 |\n",
       "| [0,7]             | [380,0]           | [0,0]                 |\n",
       "| [0]               | [211]             | [0]                   |\n",
       "| [0]               | [32]              | [0]                   |\n",
       "| [0]               | [0]               | [0]                   |\n",
       "| [0]               | [0]               | [0]                   |\n",
       "| [1]               | [0]               | [0]                   |\n",
       "+-------------------+-------------------+-----------------------+\n",
       "\n",
       "+-----------------------+-----------------------+-----------------------+\n",
       "| info.AC_Hom_EAS_unrel | info.AC_Hom_AMR_unrel | info.AC_Hom_SAS_unrel |\n",
       "+-----------------------+-----------------------+-----------------------+\n",
       "| array<int32>          | array<int32>          | array<int32>          |\n",
       "+-----------------------+-----------------------+-----------------------+\n",
       "| [0]                   | [0]                   | [0]                   |\n",
       "| [0]                   | [0]                   | [0]                   |\n",
       "| [0]                   | [0]                   | [0]                   |\n",
       "| [148]                 | [112]                 | [138]                 |\n",
       "| [0,0]                 | [0,0]                 | [0,0]                 |\n",
       "| [0]                   | [0]                   | [0]                   |\n",
       "| [0]                   | [0]                   | [0]                   |\n",
       "| [0]                   | [0]                   | [0]                   |\n",
       "| [0]                   | [0]                   | [0]                   |\n",
       "| [0]                   | [0]                   | [0]                   |\n",
       "+-----------------------+-----------------------+-----------------------+\n",
       "\n",
       "+-----------------------+-----------------------+-----------------------+\n",
       "| info.AC_Hom_AFR_unrel | info.AC_Het_EUR_unrel | info.AC_Het_EAS_unrel |\n",
       "+-----------------------+-----------------------+-----------------------+\n",
       "| array<int32>          | array<int32>          | array<int32>          |\n",
       "+-----------------------+-----------------------+-----------------------+\n",
       "| [0]                   | [0]                   | [0]                   |\n",
       "| [0]                   | [0]                   | [0]                   |\n",
       "| [0]                   | [0]                   | [0]                   |\n",
       "| [216]                 | [232]                 | [242]                 |\n",
       "| [86,0]                | [0,0]                 | [0,0]                 |\n",
       "| [40]                  | [0]                   | [0]                   |\n",
       "| [2]                   | [0]                   | [1]                   |\n",
       "| [0]                   | [0]                   | [1]                   |\n",
       "| [0]                   | [6]                   | [0]                   |\n",
       "| [0]                   | [0]                   | [0]                   |\n",
       "+-----------------------+-----------------------+-----------------------+\n",
       "\n",
       "+-----------------------+-----------------------+-----------------------+\n",
       "| info.AC_Het_AMR_unrel | info.AC_Het_SAS_unrel | info.AC_Het_AFR_unrel |\n",
       "+-----------------------+-----------------------+-----------------------+\n",
       "| array<int32>          | array<int32>          | array<int32>          |\n",
       "+-----------------------+-----------------------+-----------------------+\n",
       "| [2]                   | [0]                   | [16]                  |\n",
       "| [0]                   | [0]                   | [1]                   |\n",
       "| [0]                   | [0]                   | [7]                   |\n",
       "| [150]                 | [220]                 | [326]                 |\n",
       "| [18,0]                | [0,7]                 | [294,0]               |\n",
       "| [7]                   | [0]                   | [171]                 |\n",
       "| [1]                   | [0]                   | [30]                  |\n",
       "| [0]                   | [0]                   | [0]                   |\n",
       "| [0]                   | [0]                   | [0]                   |\n",
       "| [0]                   | [1]                   | [0]                   |\n",
       "+-----------------------+-----------------------+-----------------------+\n",
       "\n",
       "+---------------------+---------------------+---------------------+\n",
       "| info.AF_EUR_unrel   | info.AF_EAS_unrel   | info.AF_AMR_unrel   |\n",
       "+---------------------+---------------------+---------------------+\n",
       "| array<float64>      | array<float64>      | array<float64>      |\n",
       "+---------------------+---------------------+---------------------+\n",
       "| [0.00e+00]          | [0.00e+00]          | [2.88e-03]          |\n",
       "| [0.00e+00]          | [0.00e+00]          | [0.00e+00]          |\n",
       "| [0.00e+00]          | [0.00e+00]          | [0.00e+00]          |\n",
       "| [3.58e-01]          | [3.87e-01]          | [3.78e-01]          |\n",
       "| [0.00e+00,0.00e+00] | [0.00e+00,0.00e+00] | [2.59e-02,0.00e+00] |\n",
       "| [0.00e+00]          | [0.00e+00]          | [1.01e-02]          |\n",
       "| [0.00e+00]          | [9.92e-04]          | [1.44e-03]          |\n",
       "| [0.00e+00]          | [9.92e-04]          | [0.00e+00]          |\n",
       "| [5.96e-03]          | [0.00e+00]          | [0.00e+00]          |\n",
       "| [0.00e+00]          | [0.00e+00]          | [0.00e+00]          |\n",
       "+---------------------+---------------------+---------------------+\n",
       "\n",
       "+---------------------+---------------------+--------------------+\n",
       "| info.AF_SAS_unrel   | info.AF_AFR_unrel   | info.HWE_EUR_unrel |\n",
       "+---------------------+---------------------+--------------------+\n",
       "| array<float64>      | array<float64>      | array<float64>     |\n",
       "+---------------------+---------------------+--------------------+\n",
       "| [0.00e+00]          | [1.21e-02]          | NA                 |\n",
       "| [0.00e+00]          | [7.56e-04]          | NA                 |\n",
       "| [0.00e+00]          | [5.30e-03]          | NA                 |\n",
       "| [3.66e-01]          | [4.10e-01]          | NA                 |\n",
       "| [0.00e+00,7.16e-03] | [2.87e-01,0.00e+00] | NA                 |\n",
       "| [0.00e+00]          | [1.60e-01]          | NA                 |\n",
       "| [0.00e+00]          | [2.42e-02]          | NA                 |\n",
       "| [0.00e+00]          | [0.00e+00]          | NA                 |\n",
       "| [0.00e+00]          | [0.00e+00]          | NA                 |\n",
       "| [1.02e-03]          | [0.00e+00]          | NA                 |\n",
       "+---------------------+---------------------+--------------------+\n",
       "\n",
       "+--------------------+--------------------+--------------------+\n",
       "| info.HWE_EAS_unrel | info.HWE_AMR_unrel | info.HWE_SAS_unrel |\n",
       "+--------------------+--------------------+--------------------+\n",
       "| array<float64>     | array<float64>     | array<float64>     |\n",
       "+--------------------+--------------------+--------------------+\n",
       "| NA                 | NA                 | NA                 |\n",
       "| NA                 | NA                 | NA                 |\n",
       "| NA                 | NA                 | NA                 |\n",
       "| NA                 | NA                 | NA                 |\n",
       "| NA                 | NA                 | NA                 |\n",
       "| NA                 | NA                 | NA                 |\n",
       "| NA                 | NA                 | NA                 |\n",
       "| NA                 | NA                 | NA                 |\n",
       "| NA                 | NA                 | NA                 |\n",
       "| NA                 | NA                 | NA                 |\n",
       "+--------------------+--------------------+--------------------+\n",
       "\n",
       "+--------------------+\n",
       "| info.HWE_AFR_unrel |\n",
       "+--------------------+\n",
       "| array<float64>     |\n",
       "+--------------------+\n",
       "| NA                 |\n",
       "| NA                 |\n",
       "| NA                 |\n",
       "| NA                 |\n",
       "| NA                 |\n",
       "| NA                 |\n",
       "| NA                 |\n",
       "| NA                 |\n",
       "| NA                 |\n",
       "| NA                 |\n",
       "+--------------------+\n",
       "\n",
       "+------------------------------------------------------------------------------+\n",
       "| info.CSQ                                                                     |\n",
       "+------------------------------------------------------------------------------+\n",
       "| array<str>                                                                   |\n",
       "+------------------------------------------------------------------------------+\n",
       "| [\"C|upstream_gene_variant|MODIFIER|SELENOO|ENSG00000073169|Transcript|ENS... |\n",
       "| [\"T|upstream_gene_variant|MODIFIER|SELENOO|ENSG00000073169|Transcript|ENS... |\n",
       "| [\"C|upstream_gene_variant|MODIFIER|SELENOO|ENSG00000073169|Transcript|ENS... |\n",
       "| [\"T|upstream_gene_variant|MODIFIER|SELENOO|ENSG00000073169|Transcript|ENS... |\n",
       "| [\"C|upstream_gene_variant|MODIFIER|SELENOO|ENSG00000073169|Transcript|ENS... |\n",
       "| [\"G|upstream_gene_variant|MODIFIER|SELENOO|ENSG00000073169|Transcript|ENS... |\n",
       "| [\"A|upstream_gene_variant|MODIFIER|SELENOO|ENSG00000073169|Transcript|ENS... |\n",
       "| [\"C|upstream_gene_variant|MODIFIER|SELENOO|ENSG00000073169|Transcript|ENS... |\n",
       "| [\"T|upstream_gene_variant|MODIFIER|SELENOO|ENSG00000073169|Transcript|ENS... |\n",
       "| [\"C|upstream_gene_variant|MODIFIER|SELENOO|ENSG00000073169|Transcript|ENS... |\n",
       "+------------------------------------------------------------------------------+\n",
       "showing top 10 rows"
      ]
     },
     "metadata": {},
     "output_type": "display_data"
    }
   ],
   "source": [
    "mt.rows().show()"
   ]
  },
  {
   "cell_type": "code",
   "execution_count": 7,
   "id": "61ef35e6",
   "metadata": {
    "ExecuteTime": {
     "end_time": "2022-01-17T10:50:51.931764Z",
     "start_time": "2022-01-17T10:50:47.607632Z"
    }
   },
   "outputs": [
    {
     "name": "stderr",
     "output_type": "stream",
     "text": [
      "2022-01-23 18:49:48 Hail: WARN: entries(): Resulting entries table is sorted by '(row_key, col_key)'.\n",
      "    To preserve row-major matrix table order, first unkey columns with 'key_cols_by()'\n",
      "2022-01-23 18:49:52 Hail: INFO: Coerced sorted dataset              (0 + 4) / 4]\n"
     ]
    },
    {
     "data": {
      "text/html": [
       "<table><thead><tr><td style=\"white-space: nowrap; max-width: 500px; overflow: hidden; text-overflow: ellipsis; \" colspan=\"1\"><div style=\"text-align: left;\"></div></td><td style=\"white-space: nowrap; max-width: 500px; overflow: hidden; text-overflow: ellipsis; \" colspan=\"1\"><div style=\"text-align: left;\"></div></td><td style=\"white-space: nowrap; max-width: 500px; overflow: hidden; text-overflow: ellipsis; \" colspan=\"1\"><div style=\"text-align: left;\"></div></td><td style=\"white-space: nowrap; max-width: 500px; overflow: hidden; text-overflow: ellipsis; \" colspan=\"1\"><div style=\"text-align: left;\"></div></td><td style=\"white-space: nowrap; max-width: 500px; overflow: hidden; text-overflow: ellipsis; \" colspan=\"1\"><div style=\"text-align: left;\"></div></td><td style=\"white-space: nowrap; max-width: 500px; overflow: hidden; text-overflow: ellipsis; \" colspan=\"96\"><div style=\"text-align: left;\"></div></td><td style=\"white-space: nowrap; max-width: 500px; overflow: hidden; text-overflow: ellipsis; \" colspan=\"1\"><div style=\"text-align: left;\"></div></td><td style=\"white-space: nowrap; max-width: 500px; overflow: hidden; text-overflow: ellipsis; \" colspan=\"1\"><div style=\"text-align: left;\"></div></td><td style=\"white-space: nowrap; max-width: 500px; overflow: hidden; text-overflow: ellipsis; \" colspan=\"1\"><div style=\"text-align: left;\"></div></td><td style=\"white-space: nowrap; max-width: 500px; overflow: hidden; text-overflow: ellipsis; \" colspan=\"1\"><div style=\"text-align: left;\"></div></td><td style=\"white-space: nowrap; max-width: 500px; overflow: hidden; text-overflow: ellipsis; \" colspan=\"1\"><div style=\"text-align: left;\"></div></td><td style=\"white-space: nowrap; max-width: 500px; overflow: hidden; text-overflow: ellipsis; \" colspan=\"1\"><div style=\"text-align: left;\"></div></td><td style=\"white-space: nowrap; max-width: 500px; overflow: hidden; text-overflow: ellipsis; \" colspan=\"1\"><div style=\"text-align: left;\"></div></td><td style=\"white-space: nowrap; max-width: 500px; overflow: hidden; text-overflow: ellipsis; \" colspan=\"1\"><div style=\"text-align: left;\"></div></td><td style=\"white-space: nowrap; max-width: 500px; overflow: hidden; text-overflow: ellipsis; \" colspan=\"1\"><div style=\"text-align: left;\"></div></td><td style=\"white-space: nowrap; max-width: 500px; overflow: hidden; text-overflow: ellipsis; \" colspan=\"1\"><div style=\"text-align: left;\"></div></td><td style=\"white-space: nowrap; max-width: 500px; overflow: hidden; text-overflow: ellipsis; \" colspan=\"1\"><div style=\"text-align: left;\"></div></td><td style=\"white-space: nowrap; max-width: 500px; overflow: hidden; text-overflow: ellipsis; \" colspan=\"1\"><div style=\"text-align: left;\"></div></td><td style=\"white-space: nowrap; max-width: 500px; overflow: hidden; text-overflow: ellipsis; \" colspan=\"1\"><div style=\"text-align: left;\"></div></td></tr><tr><td style=\"white-space: nowrap; max-width: 500px; overflow: hidden; text-overflow: ellipsis; \" colspan=\"1\"><div style=\"text-align: left;\"></div></td><td style=\"white-space: nowrap; max-width: 500px; overflow: hidden; text-overflow: ellipsis; \" colspan=\"1\"><div style=\"text-align: left;\"></div></td><td style=\"white-space: nowrap; max-width: 500px; overflow: hidden; text-overflow: ellipsis; \" colspan=\"1\"><div style=\"text-align: left;\"></div></td><td style=\"white-space: nowrap; max-width: 500px; overflow: hidden; text-overflow: ellipsis; \" colspan=\"1\"><div style=\"text-align: left;\"></div></td><td style=\"white-space: nowrap; max-width: 500px; overflow: hidden; text-overflow: ellipsis; \" colspan=\"1\"><div style=\"text-align: left;\"></div></td><td style=\"white-space: nowrap; max-width: 500px; overflow: hidden; text-overflow: ellipsis; \" colspan=\"96\"><div style=\"text-align: left;border-bottom: solid 2px #000; padding-bottom: 5px\">info</div></td><td style=\"white-space: nowrap; max-width: 500px; overflow: hidden; text-overflow: ellipsis; \" colspan=\"1\"><div style=\"text-align: left;\"></div></td><td style=\"white-space: nowrap; max-width: 500px; overflow: hidden; text-overflow: ellipsis; \" colspan=\"1\"><div style=\"text-align: left;\"></div></td><td style=\"white-space: nowrap; max-width: 500px; overflow: hidden; text-overflow: ellipsis; \" colspan=\"1\"><div style=\"text-align: left;\"></div></td><td style=\"white-space: nowrap; max-width: 500px; overflow: hidden; text-overflow: ellipsis; \" colspan=\"1\"><div style=\"text-align: left;\"></div></td><td style=\"white-space: nowrap; max-width: 500px; overflow: hidden; text-overflow: ellipsis; \" colspan=\"1\"><div style=\"text-align: left;\"></div></td><td style=\"white-space: nowrap; max-width: 500px; overflow: hidden; text-overflow: ellipsis; \" colspan=\"1\"><div style=\"text-align: left;\"></div></td><td style=\"white-space: nowrap; max-width: 500px; overflow: hidden; text-overflow: ellipsis; \" colspan=\"1\"><div style=\"text-align: left;\"></div></td><td style=\"white-space: nowrap; max-width: 500px; overflow: hidden; text-overflow: ellipsis; \" colspan=\"1\"><div style=\"text-align: left;\"></div></td><td style=\"white-space: nowrap; max-width: 500px; overflow: hidden; text-overflow: ellipsis; \" colspan=\"1\"><div style=\"text-align: left;\"></div></td><td style=\"white-space: nowrap; max-width: 500px; overflow: hidden; text-overflow: ellipsis; \" colspan=\"1\"><div style=\"text-align: left;\"></div></td><td style=\"white-space: nowrap; max-width: 500px; overflow: hidden; text-overflow: ellipsis; \" colspan=\"1\"><div style=\"text-align: left;\"></div></td><td style=\"white-space: nowrap; max-width: 500px; overflow: hidden; text-overflow: ellipsis; \" colspan=\"1\"><div style=\"text-align: left;\"></div></td><td style=\"white-space: nowrap; max-width: 500px; overflow: hidden; text-overflow: ellipsis; \" colspan=\"1\"><div style=\"text-align: left;\"></div></td></tr><tr><td style=\"white-space: nowrap; max-width: 500px; overflow: hidden; text-overflow: ellipsis; \" colspan=\"1\"><div style=\"text-align: left;border-bottom: solid 2px #000; padding-bottom: 5px\">locus</div></td><td style=\"white-space: nowrap; max-width: 500px; overflow: hidden; text-overflow: ellipsis; \" colspan=\"1\"><div style=\"text-align: left;border-bottom: solid 2px #000; padding-bottom: 5px\">alleles</div></td><td style=\"white-space: nowrap; max-width: 500px; overflow: hidden; text-overflow: ellipsis; \" colspan=\"1\"><div style=\"text-align: left;border-bottom: solid 2px #000; padding-bottom: 5px\">rsid</div></td><td style=\"white-space: nowrap; max-width: 500px; overflow: hidden; text-overflow: ellipsis; \" colspan=\"1\"><div style=\"text-align: left;border-bottom: solid 2px #000; padding-bottom: 5px\">qual</div></td><td style=\"white-space: nowrap; max-width: 500px; overflow: hidden; text-overflow: ellipsis; \" colspan=\"1\"><div style=\"text-align: left;border-bottom: solid 2px #000; padding-bottom: 5px\">filters</div></td><td style=\"white-space: nowrap; max-width: 500px; overflow: hidden; text-overflow: ellipsis; \" colspan=\"1\"><div style=\"text-align: left;border-bottom: solid 2px #000; padding-bottom: 5px\">AC</div></td><td style=\"white-space: nowrap; max-width: 500px; overflow: hidden; text-overflow: ellipsis; \" colspan=\"1\"><div style=\"text-align: left;border-bottom: solid 2px #000; padding-bottom: 5px\">AF</div></td><td style=\"white-space: nowrap; max-width: 500px; overflow: hidden; text-overflow: ellipsis; \" colspan=\"1\"><div style=\"text-align: left;border-bottom: solid 2px #000; padding-bottom: 5px\">AN</div></td><td style=\"white-space: nowrap; max-width: 500px; overflow: hidden; text-overflow: ellipsis; \" colspan=\"1\"><div style=\"text-align: left;border-bottom: solid 2px #000; padding-bottom: 5px\">BaseQRankSum</div></td><td style=\"white-space: nowrap; max-width: 500px; overflow: hidden; text-overflow: ellipsis; \" colspan=\"1\"><div style=\"text-align: left;border-bottom: solid 2px #000; padding-bottom: 5px\">ClippingRankSum</div></td><td style=\"white-space: nowrap; max-width: 500px; overflow: hidden; text-overflow: ellipsis; \" colspan=\"1\"><div style=\"text-align: left;border-bottom: solid 2px #000; padding-bottom: 5px\">DP</div></td><td style=\"white-space: nowrap; max-width: 500px; overflow: hidden; text-overflow: ellipsis; \" colspan=\"1\"><div style=\"text-align: left;border-bottom: solid 2px #000; padding-bottom: 5px\">DS</div></td><td style=\"white-space: nowrap; max-width: 500px; overflow: hidden; text-overflow: ellipsis; \" colspan=\"1\"><div style=\"text-align: left;border-bottom: solid 2px #000; padding-bottom: 5px\">END</div></td><td style=\"white-space: nowrap; max-width: 500px; overflow: hidden; text-overflow: ellipsis; \" colspan=\"1\"><div style=\"text-align: left;border-bottom: solid 2px #000; padding-bottom: 5px\">FS</div></td><td style=\"white-space: nowrap; max-width: 500px; overflow: hidden; text-overflow: ellipsis; \" colspan=\"1\"><div style=\"text-align: left;border-bottom: solid 2px #000; padding-bottom: 5px\">HaplotypeScore</div></td><td style=\"white-space: nowrap; max-width: 500px; overflow: hidden; text-overflow: ellipsis; \" colspan=\"1\"><div style=\"text-align: left;border-bottom: solid 2px #000; padding-bottom: 5px\">InbreedingCoeff</div></td><td style=\"white-space: nowrap; max-width: 500px; overflow: hidden; text-overflow: ellipsis; \" colspan=\"1\"><div style=\"text-align: left;border-bottom: solid 2px #000; padding-bottom: 5px\">MLEAC</div></td><td style=\"white-space: nowrap; max-width: 500px; overflow: hidden; text-overflow: ellipsis; \" colspan=\"1\"><div style=\"text-align: left;border-bottom: solid 2px #000; padding-bottom: 5px\">MLEAF</div></td><td style=\"white-space: nowrap; max-width: 500px; overflow: hidden; text-overflow: ellipsis; \" colspan=\"1\"><div style=\"text-align: left;border-bottom: solid 2px #000; padding-bottom: 5px\">MQ</div></td><td style=\"white-space: nowrap; max-width: 500px; overflow: hidden; text-overflow: ellipsis; \" colspan=\"1\"><div style=\"text-align: left;border-bottom: solid 2px #000; padding-bottom: 5px\">MQ0</div></td><td style=\"white-space: nowrap; max-width: 500px; overflow: hidden; text-overflow: ellipsis; \" colspan=\"1\"><div style=\"text-align: left;border-bottom: solid 2px #000; padding-bottom: 5px\">MQRankSum</div></td><td style=\"white-space: nowrap; max-width: 500px; overflow: hidden; text-overflow: ellipsis; \" colspan=\"1\"><div style=\"text-align: left;border-bottom: solid 2px #000; padding-bottom: 5px\">NEGATIVE_TRAIN_SITE</div></td><td style=\"white-space: nowrap; max-width: 500px; overflow: hidden; text-overflow: ellipsis; \" colspan=\"1\"><div style=\"text-align: left;border-bottom: solid 2px #000; padding-bottom: 5px\">POSITIVE_TRAIN_SITE</div></td><td style=\"white-space: nowrap; max-width: 500px; overflow: hidden; text-overflow: ellipsis; \" colspan=\"1\"><div style=\"text-align: left;border-bottom: solid 2px #000; padding-bottom: 5px\">QD</div></td><td style=\"white-space: nowrap; max-width: 500px; overflow: hidden; text-overflow: ellipsis; \" colspan=\"1\"><div style=\"text-align: left;border-bottom: solid 2px #000; padding-bottom: 5px\">RAW_MQ</div></td><td style=\"white-space: nowrap; max-width: 500px; overflow: hidden; text-overflow: ellipsis; \" colspan=\"1\"><div style=\"text-align: left;border-bottom: solid 2px #000; padding-bottom: 5px\">ReadPosRankSum</div></td><td style=\"white-space: nowrap; max-width: 500px; overflow: hidden; text-overflow: ellipsis; \" colspan=\"1\"><div style=\"text-align: left;border-bottom: solid 2px #000; padding-bottom: 5px\">SOR</div></td><td style=\"white-space: nowrap; max-width: 500px; overflow: hidden; text-overflow: ellipsis; \" colspan=\"1\"><div style=\"text-align: left;border-bottom: solid 2px #000; padding-bottom: 5px\">VQSLOD</div></td><td style=\"white-space: nowrap; max-width: 500px; overflow: hidden; text-overflow: ellipsis; \" colspan=\"1\"><div style=\"text-align: left;border-bottom: solid 2px #000; padding-bottom: 5px\">VariantType</div></td><td style=\"white-space: nowrap; max-width: 500px; overflow: hidden; text-overflow: ellipsis; \" colspan=\"1\"><div style=\"text-align: left;border-bottom: solid 2px #000; padding-bottom: 5px\">culprit</div></td><td style=\"white-space: nowrap; max-width: 500px; overflow: hidden; text-overflow: ellipsis; \" colspan=\"1\"><div style=\"text-align: left;border-bottom: solid 2px #000; padding-bottom: 5px\">AN_EUR</div></td><td style=\"white-space: nowrap; max-width: 500px; overflow: hidden; text-overflow: ellipsis; \" colspan=\"1\"><div style=\"text-align: left;border-bottom: solid 2px #000; padding-bottom: 5px\">AN_EAS</div></td><td style=\"white-space: nowrap; max-width: 500px; overflow: hidden; text-overflow: ellipsis; \" colspan=\"1\"><div style=\"text-align: left;border-bottom: solid 2px #000; padding-bottom: 5px\">AN_AMR</div></td><td style=\"white-space: nowrap; max-width: 500px; overflow: hidden; text-overflow: ellipsis; \" colspan=\"1\"><div style=\"text-align: left;border-bottom: solid 2px #000; padding-bottom: 5px\">AN_SAS</div></td><td style=\"white-space: nowrap; max-width: 500px; overflow: hidden; text-overflow: ellipsis; \" colspan=\"1\"><div style=\"text-align: left;border-bottom: solid 2px #000; padding-bottom: 5px\">AN_AFR</div></td><td style=\"white-space: nowrap; max-width: 500px; overflow: hidden; text-overflow: ellipsis; \" colspan=\"1\"><div style=\"text-align: left;border-bottom: solid 2px #000; padding-bottom: 5px\">AC_EUR</div></td><td style=\"white-space: nowrap; max-width: 500px; overflow: hidden; text-overflow: ellipsis; \" colspan=\"1\"><div style=\"text-align: left;border-bottom: solid 2px #000; padding-bottom: 5px\">AC_EAS</div></td><td style=\"white-space: nowrap; max-width: 500px; overflow: hidden; text-overflow: ellipsis; \" colspan=\"1\"><div style=\"text-align: left;border-bottom: solid 2px #000; padding-bottom: 5px\">AC_AMR</div></td><td style=\"white-space: nowrap; max-width: 500px; overflow: hidden; text-overflow: ellipsis; \" colspan=\"1\"><div style=\"text-align: left;border-bottom: solid 2px #000; padding-bottom: 5px\">AC_SAS</div></td><td style=\"white-space: nowrap; max-width: 500px; overflow: hidden; text-overflow: ellipsis; \" colspan=\"1\"><div style=\"text-align: left;border-bottom: solid 2px #000; padding-bottom: 5px\">AC_AFR</div></td><td style=\"white-space: nowrap; max-width: 500px; overflow: hidden; text-overflow: ellipsis; \" colspan=\"1\"><div style=\"text-align: left;border-bottom: solid 2px #000; padding-bottom: 5px\">AC_Hom_EUR</div></td><td style=\"white-space: nowrap; max-width: 500px; overflow: hidden; text-overflow: ellipsis; \" colspan=\"1\"><div style=\"text-align: left;border-bottom: solid 2px #000; padding-bottom: 5px\">AC_Hom_EAS</div></td><td style=\"white-space: nowrap; max-width: 500px; overflow: hidden; text-overflow: ellipsis; \" colspan=\"1\"><div style=\"text-align: left;border-bottom: solid 2px #000; padding-bottom: 5px\">AC_Hom_AMR</div></td><td style=\"white-space: nowrap; max-width: 500px; overflow: hidden; text-overflow: ellipsis; \" colspan=\"1\"><div style=\"text-align: left;border-bottom: solid 2px #000; padding-bottom: 5px\">AC_Hom_SAS</div></td><td style=\"white-space: nowrap; max-width: 500px; overflow: hidden; text-overflow: ellipsis; \" colspan=\"1\"><div style=\"text-align: left;border-bottom: solid 2px #000; padding-bottom: 5px\">AC_Hom_AFR</div></td><td style=\"white-space: nowrap; max-width: 500px; overflow: hidden; text-overflow: ellipsis; \" colspan=\"1\"><div style=\"text-align: left;border-bottom: solid 2px #000; padding-bottom: 5px\">AC_Hom</div></td><td style=\"white-space: nowrap; max-width: 500px; overflow: hidden; text-overflow: ellipsis; \" colspan=\"1\"><div style=\"text-align: left;border-bottom: solid 2px #000; padding-bottom: 5px\">AC_Het_EUR</div></td><td style=\"white-space: nowrap; max-width: 500px; overflow: hidden; text-overflow: ellipsis; \" colspan=\"1\"><div style=\"text-align: left;border-bottom: solid 2px #000; padding-bottom: 5px\">AC_Het_EAS</div></td><td style=\"white-space: nowrap; max-width: 500px; overflow: hidden; text-overflow: ellipsis; \" colspan=\"1\"><div style=\"text-align: left;border-bottom: solid 2px #000; padding-bottom: 5px\">AC_Het_AMR</div></td><td style=\"white-space: nowrap; max-width: 500px; overflow: hidden; text-overflow: ellipsis; \" colspan=\"1\"><div style=\"text-align: left;border-bottom: solid 2px #000; padding-bottom: 5px\">AC_Het_SAS</div></td><td style=\"white-space: nowrap; max-width: 500px; overflow: hidden; text-overflow: ellipsis; \" colspan=\"1\"><div style=\"text-align: left;border-bottom: solid 2px #000; padding-bottom: 5px\">AC_Het_AFR</div></td><td style=\"white-space: nowrap; max-width: 500px; overflow: hidden; text-overflow: ellipsis; \" colspan=\"1\"><div style=\"text-align: left;border-bottom: solid 2px #000; padding-bottom: 5px\">AC_Het</div></td><td style=\"white-space: nowrap; max-width: 500px; overflow: hidden; text-overflow: ellipsis; \" colspan=\"1\"><div style=\"text-align: left;border-bottom: solid 2px #000; padding-bottom: 5px\">AF_EUR</div></td><td style=\"white-space: nowrap; max-width: 500px; overflow: hidden; text-overflow: ellipsis; \" colspan=\"1\"><div style=\"text-align: left;border-bottom: solid 2px #000; padding-bottom: 5px\">AF_EAS</div></td><td style=\"white-space: nowrap; max-width: 500px; overflow: hidden; text-overflow: ellipsis; \" colspan=\"1\"><div style=\"text-align: left;border-bottom: solid 2px #000; padding-bottom: 5px\">AF_AMR</div></td><td style=\"white-space: nowrap; max-width: 500px; overflow: hidden; text-overflow: ellipsis; \" colspan=\"1\"><div style=\"text-align: left;border-bottom: solid 2px #000; padding-bottom: 5px\">AF_SAS</div></td><td style=\"white-space: nowrap; max-width: 500px; overflow: hidden; text-overflow: ellipsis; \" colspan=\"1\"><div style=\"text-align: left;border-bottom: solid 2px #000; padding-bottom: 5px\">AF_AFR</div></td><td style=\"white-space: nowrap; max-width: 500px; overflow: hidden; text-overflow: ellipsis; \" colspan=\"1\"><div style=\"text-align: left;border-bottom: solid 2px #000; padding-bottom: 5px\">HWE_EUR</div></td><td style=\"white-space: nowrap; max-width: 500px; overflow: hidden; text-overflow: ellipsis; \" colspan=\"1\"><div style=\"text-align: left;border-bottom: solid 2px #000; padding-bottom: 5px\">HWE_EAS</div></td><td style=\"white-space: nowrap; max-width: 500px; overflow: hidden; text-overflow: ellipsis; \" colspan=\"1\"><div style=\"text-align: left;border-bottom: solid 2px #000; padding-bottom: 5px\">HWE_AMR</div></td><td style=\"white-space: nowrap; max-width: 500px; overflow: hidden; text-overflow: ellipsis; \" colspan=\"1\"><div style=\"text-align: left;border-bottom: solid 2px #000; padding-bottom: 5px\">HWE_SAS</div></td><td style=\"white-space: nowrap; max-width: 500px; overflow: hidden; text-overflow: ellipsis; \" colspan=\"1\"><div style=\"text-align: left;border-bottom: solid 2px #000; padding-bottom: 5px\">HWE_AFR</div></td><td style=\"white-space: nowrap; max-width: 500px; overflow: hidden; text-overflow: ellipsis; \" colspan=\"1\"><div style=\"text-align: left;border-bottom: solid 2px #000; padding-bottom: 5px\">HWE</div></td><td style=\"white-space: nowrap; max-width: 500px; overflow: hidden; text-overflow: ellipsis; \" colspan=\"1\"><div style=\"text-align: left;border-bottom: solid 2px #000; padding-bottom: 5px\">ExcHet_EUR</div></td><td style=\"white-space: nowrap; max-width: 500px; overflow: hidden; text-overflow: ellipsis; \" colspan=\"1\"><div style=\"text-align: left;border-bottom: solid 2px #000; padding-bottom: 5px\">ExcHet_EAS</div></td><td style=\"white-space: nowrap; max-width: 500px; overflow: hidden; text-overflow: ellipsis; \" colspan=\"1\"><div style=\"text-align: left;border-bottom: solid 2px #000; padding-bottom: 5px\">ExcHet_AMR</div></td><td style=\"white-space: nowrap; max-width: 500px; overflow: hidden; text-overflow: ellipsis; \" colspan=\"1\"><div style=\"text-align: left;border-bottom: solid 2px #000; padding-bottom: 5px\">ExcHet_SAS</div></td><td style=\"white-space: nowrap; max-width: 500px; overflow: hidden; text-overflow: ellipsis; \" colspan=\"1\"><div style=\"text-align: left;border-bottom: solid 2px #000; padding-bottom: 5px\">ExcHet_AFR</div></td><td style=\"white-space: nowrap; max-width: 500px; overflow: hidden; text-overflow: ellipsis; \" colspan=\"1\"><div style=\"text-align: left;border-bottom: solid 2px #000; padding-bottom: 5px\">ExcHet</div></td><td style=\"white-space: nowrap; max-width: 500px; overflow: hidden; text-overflow: ellipsis; \" colspan=\"1\"><div style=\"text-align: left;border-bottom: solid 2px #000; padding-bottom: 5px\">ME</div></td><td style=\"white-space: nowrap; max-width: 500px; overflow: hidden; text-overflow: ellipsis; \" colspan=\"1\"><div style=\"text-align: left;border-bottom: solid 2px #000; padding-bottom: 5px\">AN_EUR_unrel</div></td><td style=\"white-space: nowrap; max-width: 500px; overflow: hidden; text-overflow: ellipsis; \" colspan=\"1\"><div style=\"text-align: left;border-bottom: solid 2px #000; padding-bottom: 5px\">AN_EAS_unrel</div></td><td style=\"white-space: nowrap; max-width: 500px; overflow: hidden; text-overflow: ellipsis; \" colspan=\"1\"><div style=\"text-align: left;border-bottom: solid 2px #000; padding-bottom: 5px\">AN_AMR_unrel</div></td><td style=\"white-space: nowrap; max-width: 500px; overflow: hidden; text-overflow: ellipsis; \" colspan=\"1\"><div style=\"text-align: left;border-bottom: solid 2px #000; padding-bottom: 5px\">AN_SAS_unrel</div></td><td style=\"white-space: nowrap; max-width: 500px; overflow: hidden; text-overflow: ellipsis; \" colspan=\"1\"><div style=\"text-align: left;border-bottom: solid 2px #000; padding-bottom: 5px\">AN_AFR_unrel</div></td><td style=\"white-space: nowrap; max-width: 500px; overflow: hidden; text-overflow: ellipsis; \" colspan=\"1\"><div style=\"text-align: left;border-bottom: solid 2px #000; padding-bottom: 5px\">AC_EUR_unrel</div></td><td style=\"white-space: nowrap; max-width: 500px; overflow: hidden; text-overflow: ellipsis; \" colspan=\"1\"><div style=\"text-align: left;border-bottom: solid 2px #000; padding-bottom: 5px\">AC_EAS_unrel</div></td><td style=\"white-space: nowrap; max-width: 500px; overflow: hidden; text-overflow: ellipsis; \" colspan=\"1\"><div style=\"text-align: left;border-bottom: solid 2px #000; padding-bottom: 5px\">AC_AMR_unrel</div></td><td style=\"white-space: nowrap; max-width: 500px; overflow: hidden; text-overflow: ellipsis; \" colspan=\"1\"><div style=\"text-align: left;border-bottom: solid 2px #000; padding-bottom: 5px\">AC_SAS_unrel</div></td><td style=\"white-space: nowrap; max-width: 500px; overflow: hidden; text-overflow: ellipsis; \" colspan=\"1\"><div style=\"text-align: left;border-bottom: solid 2px #000; padding-bottom: 5px\">AC_AFR_unrel</div></td><td style=\"white-space: nowrap; max-width: 500px; overflow: hidden; text-overflow: ellipsis; \" colspan=\"1\"><div style=\"text-align: left;border-bottom: solid 2px #000; padding-bottom: 5px\">AC_Hom_EUR_unrel</div></td><td style=\"white-space: nowrap; max-width: 500px; overflow: hidden; text-overflow: ellipsis; \" colspan=\"1\"><div style=\"text-align: left;border-bottom: solid 2px #000; padding-bottom: 5px\">AC_Hom_EAS_unrel</div></td><td style=\"white-space: nowrap; max-width: 500px; overflow: hidden; text-overflow: ellipsis; \" colspan=\"1\"><div style=\"text-align: left;border-bottom: solid 2px #000; padding-bottom: 5px\">AC_Hom_AMR_unrel</div></td><td style=\"white-space: nowrap; max-width: 500px; overflow: hidden; text-overflow: ellipsis; \" colspan=\"1\"><div style=\"text-align: left;border-bottom: solid 2px #000; padding-bottom: 5px\">AC_Hom_SAS_unrel</div></td><td style=\"white-space: nowrap; max-width: 500px; overflow: hidden; text-overflow: ellipsis; \" colspan=\"1\"><div style=\"text-align: left;border-bottom: solid 2px #000; padding-bottom: 5px\">AC_Hom_AFR_unrel</div></td><td style=\"white-space: nowrap; max-width: 500px; overflow: hidden; text-overflow: ellipsis; \" colspan=\"1\"><div style=\"text-align: left;border-bottom: solid 2px #000; padding-bottom: 5px\">AC_Het_EUR_unrel</div></td><td style=\"white-space: nowrap; max-width: 500px; overflow: hidden; text-overflow: ellipsis; \" colspan=\"1\"><div style=\"text-align: left;border-bottom: solid 2px #000; padding-bottom: 5px\">AC_Het_EAS_unrel</div></td><td style=\"white-space: nowrap; max-width: 500px; overflow: hidden; text-overflow: ellipsis; \" colspan=\"1\"><div style=\"text-align: left;border-bottom: solid 2px #000; padding-bottom: 5px\">AC_Het_AMR_unrel</div></td><td style=\"white-space: nowrap; max-width: 500px; overflow: hidden; text-overflow: ellipsis; \" colspan=\"1\"><div style=\"text-align: left;border-bottom: solid 2px #000; padding-bottom: 5px\">AC_Het_SAS_unrel</div></td><td style=\"white-space: nowrap; max-width: 500px; overflow: hidden; text-overflow: ellipsis; \" colspan=\"1\"><div style=\"text-align: left;border-bottom: solid 2px #000; padding-bottom: 5px\">AC_Het_AFR_unrel</div></td><td style=\"white-space: nowrap; max-width: 500px; overflow: hidden; text-overflow: ellipsis; \" colspan=\"1\"><div style=\"text-align: left;border-bottom: solid 2px #000; padding-bottom: 5px\">AF_EUR_unrel</div></td><td style=\"white-space: nowrap; max-width: 500px; overflow: hidden; text-overflow: ellipsis; \" colspan=\"1\"><div style=\"text-align: left;border-bottom: solid 2px #000; padding-bottom: 5px\">AF_EAS_unrel</div></td><td style=\"white-space: nowrap; max-width: 500px; overflow: hidden; text-overflow: ellipsis; \" colspan=\"1\"><div style=\"text-align: left;border-bottom: solid 2px #000; padding-bottom: 5px\">AF_AMR_unrel</div></td><td style=\"white-space: nowrap; max-width: 500px; overflow: hidden; text-overflow: ellipsis; \" colspan=\"1\"><div style=\"text-align: left;border-bottom: solid 2px #000; padding-bottom: 5px\">AF_SAS_unrel</div></td><td style=\"white-space: nowrap; max-width: 500px; overflow: hidden; text-overflow: ellipsis; \" colspan=\"1\"><div style=\"text-align: left;border-bottom: solid 2px #000; padding-bottom: 5px\">AF_AFR_unrel</div></td><td style=\"white-space: nowrap; max-width: 500px; overflow: hidden; text-overflow: ellipsis; \" colspan=\"1\"><div style=\"text-align: left;border-bottom: solid 2px #000; padding-bottom: 5px\">HWE_EUR_unrel</div></td><td style=\"white-space: nowrap; max-width: 500px; overflow: hidden; text-overflow: ellipsis; \" colspan=\"1\"><div style=\"text-align: left;border-bottom: solid 2px #000; padding-bottom: 5px\">HWE_EAS_unrel</div></td><td style=\"white-space: nowrap; max-width: 500px; overflow: hidden; text-overflow: ellipsis; \" colspan=\"1\"><div style=\"text-align: left;border-bottom: solid 2px #000; padding-bottom: 5px\">HWE_AMR_unrel</div></td><td style=\"white-space: nowrap; max-width: 500px; overflow: hidden; text-overflow: ellipsis; \" colspan=\"1\"><div style=\"text-align: left;border-bottom: solid 2px #000; padding-bottom: 5px\">HWE_SAS_unrel</div></td><td style=\"white-space: nowrap; max-width: 500px; overflow: hidden; text-overflow: ellipsis; \" colspan=\"1\"><div style=\"text-align: left;border-bottom: solid 2px #000; padding-bottom: 5px\">HWE_AFR_unrel</div></td><td style=\"white-space: nowrap; max-width: 500px; overflow: hidden; text-overflow: ellipsis; \" colspan=\"1\"><div style=\"text-align: left;border-bottom: solid 2px #000; padding-bottom: 5px\">CSQ</div></td><td style=\"white-space: nowrap; max-width: 500px; overflow: hidden; text-overflow: ellipsis; \" colspan=\"1\"><div style=\"text-align: left;border-bottom: solid 2px #000; padding-bottom: 5px\">s</div></td><td style=\"white-space: nowrap; max-width: 500px; overflow: hidden; text-overflow: ellipsis; \" colspan=\"1\"><div style=\"text-align: left;border-bottom: solid 2px #000; padding-bottom: 5px\">AB</div></td><td style=\"white-space: nowrap; max-width: 500px; overflow: hidden; text-overflow: ellipsis; \" colspan=\"1\"><div style=\"text-align: left;border-bottom: solid 2px #000; padding-bottom: 5px\">AD</div></td><td style=\"white-space: nowrap; max-width: 500px; overflow: hidden; text-overflow: ellipsis; \" colspan=\"1\"><div style=\"text-align: left;border-bottom: solid 2px #000; padding-bottom: 5px\">DP</div></td><td style=\"white-space: nowrap; max-width: 500px; overflow: hidden; text-overflow: ellipsis; \" colspan=\"1\"><div style=\"text-align: left;border-bottom: solid 2px #000; padding-bottom: 5px\">GQ</div></td><td style=\"white-space: nowrap; max-width: 500px; overflow: hidden; text-overflow: ellipsis; \" colspan=\"1\"><div style=\"text-align: left;border-bottom: solid 2px #000; padding-bottom: 5px\">GT</div></td><td style=\"white-space: nowrap; max-width: 500px; overflow: hidden; text-overflow: ellipsis; \" colspan=\"1\"><div style=\"text-align: left;border-bottom: solid 2px #000; padding-bottom: 5px\">MIN_DP</div></td><td style=\"white-space: nowrap; max-width: 500px; overflow: hidden; text-overflow: ellipsis; \" colspan=\"1\"><div style=\"text-align: left;border-bottom: solid 2px #000; padding-bottom: 5px\">MQ0</div></td><td style=\"white-space: nowrap; max-width: 500px; overflow: hidden; text-overflow: ellipsis; \" colspan=\"1\"><div style=\"text-align: left;border-bottom: solid 2px #000; padding-bottom: 5px\">PGT</div></td><td style=\"white-space: nowrap; max-width: 500px; overflow: hidden; text-overflow: ellipsis; \" colspan=\"1\"><div style=\"text-align: left;border-bottom: solid 2px #000; padding-bottom: 5px\">PID</div></td><td style=\"white-space: nowrap; max-width: 500px; overflow: hidden; text-overflow: ellipsis; \" colspan=\"1\"><div style=\"text-align: left;border-bottom: solid 2px #000; padding-bottom: 5px\">PL</div></td><td style=\"white-space: nowrap; max-width: 500px; overflow: hidden; text-overflow: ellipsis; \" colspan=\"1\"><div style=\"text-align: left;border-bottom: solid 2px #000; padding-bottom: 5px\">RGQ</div></td><td style=\"white-space: nowrap; max-width: 500px; overflow: hidden; text-overflow: ellipsis; \" colspan=\"1\"><div style=\"text-align: left;border-bottom: solid 2px #000; padding-bottom: 5px\">SB</div></td></tr><tr><td style=\"white-space: nowrap; max-width: 500px; overflow: hidden; text-overflow: ellipsis; text-align: left;\">locus&lt;GRCh38&gt;</td><td style=\"white-space: nowrap; max-width: 500px; overflow: hidden; text-overflow: ellipsis; text-align: left;\">array&lt;str&gt;</td><td style=\"white-space: nowrap; max-width: 500px; overflow: hidden; text-overflow: ellipsis; text-align: left;\">str</td><td style=\"white-space: nowrap; max-width: 500px; overflow: hidden; text-overflow: ellipsis; text-align: left;\">float64</td><td style=\"white-space: nowrap; max-width: 500px; overflow: hidden; text-overflow: ellipsis; text-align: left;\">set&lt;str&gt;</td><td style=\"white-space: nowrap; max-width: 500px; overflow: hidden; text-overflow: ellipsis; text-align: left;\">array&lt;int32&gt;</td><td style=\"white-space: nowrap; max-width: 500px; overflow: hidden; text-overflow: ellipsis; text-align: left;\">array&lt;float64&gt;</td><td style=\"white-space: nowrap; max-width: 500px; overflow: hidden; text-overflow: ellipsis; text-align: left;\">int32</td><td style=\"white-space: nowrap; max-width: 500px; overflow: hidden; text-overflow: ellipsis; text-align: left;\">float64</td><td style=\"white-space: nowrap; max-width: 500px; overflow: hidden; text-overflow: ellipsis; text-align: left;\">float64</td><td style=\"white-space: nowrap; max-width: 500px; overflow: hidden; text-overflow: ellipsis; text-align: left;\">int32</td><td style=\"white-space: nowrap; max-width: 500px; overflow: hidden; text-overflow: ellipsis; text-align: left;\">bool</td><td style=\"white-space: nowrap; max-width: 500px; overflow: hidden; text-overflow: ellipsis; text-align: left;\">int32</td><td style=\"white-space: nowrap; max-width: 500px; overflow: hidden; text-overflow: ellipsis; text-align: left;\">float64</td><td style=\"white-space: nowrap; max-width: 500px; overflow: hidden; text-overflow: ellipsis; text-align: left;\">float64</td><td style=\"white-space: nowrap; max-width: 500px; overflow: hidden; text-overflow: ellipsis; text-align: left;\">float64</td><td style=\"white-space: nowrap; max-width: 500px; overflow: hidden; text-overflow: ellipsis; text-align: left;\">array&lt;int32&gt;</td><td style=\"white-space: nowrap; max-width: 500px; overflow: hidden; text-overflow: ellipsis; text-align: left;\">array&lt;float64&gt;</td><td style=\"white-space: nowrap; max-width: 500px; overflow: hidden; text-overflow: ellipsis; text-align: left;\">float64</td><td style=\"white-space: nowrap; max-width: 500px; overflow: hidden; text-overflow: ellipsis; text-align: left;\">int32</td><td style=\"white-space: nowrap; max-width: 500px; overflow: hidden; text-overflow: ellipsis; text-align: left;\">float64</td><td style=\"white-space: nowrap; max-width: 500px; overflow: hidden; text-overflow: ellipsis; text-align: left;\">bool</td><td style=\"white-space: nowrap; max-width: 500px; overflow: hidden; text-overflow: ellipsis; text-align: left;\">bool</td><td style=\"white-space: nowrap; max-width: 500px; overflow: hidden; text-overflow: ellipsis; text-align: left;\">float64</td><td style=\"white-space: nowrap; max-width: 500px; overflow: hidden; text-overflow: ellipsis; text-align: left;\">float64</td><td style=\"white-space: nowrap; max-width: 500px; overflow: hidden; text-overflow: ellipsis; text-align: left;\">float64</td><td style=\"white-space: nowrap; max-width: 500px; overflow: hidden; text-overflow: ellipsis; text-align: left;\">float64</td><td style=\"white-space: nowrap; max-width: 500px; overflow: hidden; text-overflow: ellipsis; text-align: left;\">float64</td><td style=\"white-space: nowrap; max-width: 500px; overflow: hidden; text-overflow: ellipsis; text-align: left;\">str</td><td style=\"white-space: nowrap; max-width: 500px; overflow: hidden; text-overflow: ellipsis; text-align: left;\">str</td><td style=\"white-space: nowrap; max-width: 500px; overflow: hidden; text-overflow: ellipsis; text-align: left;\">int32</td><td style=\"white-space: nowrap; max-width: 500px; overflow: hidden; text-overflow: ellipsis; text-align: left;\">int32</td><td style=\"white-space: nowrap; max-width: 500px; overflow: hidden; text-overflow: ellipsis; text-align: left;\">int32</td><td style=\"white-space: nowrap; max-width: 500px; overflow: hidden; text-overflow: ellipsis; text-align: left;\">int32</td><td style=\"white-space: nowrap; max-width: 500px; overflow: hidden; text-overflow: ellipsis; text-align: left;\">int32</td><td style=\"white-space: nowrap; max-width: 500px; overflow: hidden; text-overflow: ellipsis; text-align: left;\">array&lt;int32&gt;</td><td style=\"white-space: nowrap; max-width: 500px; overflow: hidden; text-overflow: ellipsis; text-align: left;\">array&lt;int32&gt;</td><td style=\"white-space: nowrap; max-width: 500px; overflow: hidden; text-overflow: ellipsis; text-align: left;\">array&lt;int32&gt;</td><td style=\"white-space: nowrap; max-width: 500px; overflow: hidden; text-overflow: ellipsis; text-align: left;\">array&lt;int32&gt;</td><td style=\"white-space: nowrap; max-width: 500px; overflow: hidden; text-overflow: ellipsis; text-align: left;\">array&lt;int32&gt;</td><td style=\"white-space: nowrap; max-width: 500px; overflow: hidden; text-overflow: ellipsis; text-align: left;\">array&lt;int32&gt;</td><td style=\"white-space: nowrap; max-width: 500px; overflow: hidden; text-overflow: ellipsis; text-align: left;\">array&lt;int32&gt;</td><td style=\"white-space: nowrap; max-width: 500px; overflow: hidden; text-overflow: ellipsis; text-align: left;\">array&lt;int32&gt;</td><td style=\"white-space: nowrap; max-width: 500px; overflow: hidden; text-overflow: ellipsis; text-align: left;\">array&lt;int32&gt;</td><td style=\"white-space: nowrap; max-width: 500px; overflow: hidden; text-overflow: ellipsis; text-align: left;\">array&lt;int32&gt;</td><td style=\"white-space: nowrap; max-width: 500px; overflow: hidden; text-overflow: ellipsis; text-align: left;\">array&lt;int32&gt;</td><td style=\"white-space: nowrap; max-width: 500px; overflow: hidden; text-overflow: ellipsis; text-align: left;\">array&lt;int32&gt;</td><td style=\"white-space: nowrap; max-width: 500px; overflow: hidden; text-overflow: ellipsis; text-align: left;\">array&lt;int32&gt;</td><td style=\"white-space: nowrap; max-width: 500px; overflow: hidden; text-overflow: ellipsis; text-align: left;\">array&lt;int32&gt;</td><td style=\"white-space: nowrap; max-width: 500px; overflow: hidden; text-overflow: ellipsis; text-align: left;\">array&lt;int32&gt;</td><td style=\"white-space: nowrap; max-width: 500px; overflow: hidden; text-overflow: ellipsis; text-align: left;\">array&lt;int32&gt;</td><td style=\"white-space: nowrap; max-width: 500px; overflow: hidden; text-overflow: ellipsis; text-align: left;\">array&lt;int32&gt;</td><td style=\"white-space: nowrap; max-width: 500px; overflow: hidden; text-overflow: ellipsis; text-align: left;\">array&lt;float64&gt;</td><td style=\"white-space: nowrap; max-width: 500px; overflow: hidden; text-overflow: ellipsis; text-align: left;\">array&lt;float64&gt;</td><td style=\"white-space: nowrap; max-width: 500px; overflow: hidden; text-overflow: ellipsis; text-align: left;\">array&lt;float64&gt;</td><td style=\"white-space: nowrap; max-width: 500px; overflow: hidden; text-overflow: ellipsis; text-align: left;\">array&lt;float64&gt;</td><td style=\"white-space: nowrap; max-width: 500px; overflow: hidden; text-overflow: ellipsis; text-align: left;\">array&lt;float64&gt;</td><td style=\"white-space: nowrap; max-width: 500px; overflow: hidden; text-overflow: ellipsis; text-align: left;\">array&lt;float64&gt;</td><td style=\"white-space: nowrap; max-width: 500px; overflow: hidden; text-overflow: ellipsis; text-align: left;\">array&lt;float64&gt;</td><td style=\"white-space: nowrap; max-width: 500px; overflow: hidden; text-overflow: ellipsis; text-align: left;\">array&lt;float64&gt;</td><td style=\"white-space: nowrap; max-width: 500px; overflow: hidden; text-overflow: ellipsis; text-align: left;\">array&lt;float64&gt;</td><td style=\"white-space: nowrap; max-width: 500px; overflow: hidden; text-overflow: ellipsis; text-align: left;\">array&lt;float64&gt;</td><td style=\"white-space: nowrap; max-width: 500px; overflow: hidden; text-overflow: ellipsis; text-align: left;\">array&lt;float64&gt;</td><td style=\"white-space: nowrap; max-width: 500px; overflow: hidden; text-overflow: ellipsis; text-align: left;\">array&lt;float64&gt;</td><td style=\"white-space: nowrap; max-width: 500px; overflow: hidden; text-overflow: ellipsis; text-align: left;\">array&lt;float64&gt;</td><td style=\"white-space: nowrap; max-width: 500px; overflow: hidden; text-overflow: ellipsis; text-align: left;\">array&lt;float64&gt;</td><td style=\"white-space: nowrap; max-width: 500px; overflow: hidden; text-overflow: ellipsis; text-align: left;\">array&lt;float64&gt;</td><td style=\"white-space: nowrap; max-width: 500px; overflow: hidden; text-overflow: ellipsis; text-align: left;\">array&lt;float64&gt;</td><td style=\"white-space: nowrap; max-width: 500px; overflow: hidden; text-overflow: ellipsis; text-align: left;\">array&lt;float64&gt;</td><td style=\"white-space: nowrap; max-width: 500px; overflow: hidden; text-overflow: ellipsis; text-align: left;\">array&lt;float64&gt;</td><td style=\"white-space: nowrap; max-width: 500px; overflow: hidden; text-overflow: ellipsis; text-align: left;\">int32</td><td style=\"white-space: nowrap; max-width: 500px; overflow: hidden; text-overflow: ellipsis; text-align: left;\">int32</td><td style=\"white-space: nowrap; max-width: 500px; overflow: hidden; text-overflow: ellipsis; text-align: left;\">int32</td><td style=\"white-space: nowrap; max-width: 500px; overflow: hidden; text-overflow: ellipsis; text-align: left;\">int32</td><td style=\"white-space: nowrap; max-width: 500px; overflow: hidden; text-overflow: ellipsis; text-align: left;\">int32</td><td style=\"white-space: nowrap; max-width: 500px; overflow: hidden; text-overflow: ellipsis; text-align: left;\">array&lt;int32&gt;</td><td style=\"white-space: nowrap; max-width: 500px; overflow: hidden; text-overflow: ellipsis; text-align: left;\">array&lt;int32&gt;</td><td style=\"white-space: nowrap; max-width: 500px; overflow: hidden; text-overflow: ellipsis; text-align: left;\">array&lt;int32&gt;</td><td style=\"white-space: nowrap; max-width: 500px; overflow: hidden; text-overflow: ellipsis; text-align: left;\">array&lt;int32&gt;</td><td style=\"white-space: nowrap; max-width: 500px; overflow: hidden; text-overflow: ellipsis; text-align: left;\">array&lt;int32&gt;</td><td style=\"white-space: nowrap; max-width: 500px; overflow: hidden; text-overflow: ellipsis; text-align: left;\">array&lt;int32&gt;</td><td style=\"white-space: nowrap; max-width: 500px; overflow: hidden; text-overflow: ellipsis; text-align: left;\">array&lt;int32&gt;</td><td style=\"white-space: nowrap; max-width: 500px; overflow: hidden; text-overflow: ellipsis; text-align: left;\">array&lt;int32&gt;</td><td style=\"white-space: nowrap; max-width: 500px; overflow: hidden; text-overflow: ellipsis; text-align: left;\">array&lt;int32&gt;</td><td style=\"white-space: nowrap; max-width: 500px; overflow: hidden; text-overflow: ellipsis; text-align: left;\">array&lt;int32&gt;</td><td style=\"white-space: nowrap; max-width: 500px; overflow: hidden; text-overflow: ellipsis; text-align: left;\">array&lt;int32&gt;</td><td style=\"white-space: nowrap; max-width: 500px; overflow: hidden; text-overflow: ellipsis; text-align: left;\">array&lt;int32&gt;</td><td style=\"white-space: nowrap; max-width: 500px; overflow: hidden; text-overflow: ellipsis; text-align: left;\">array&lt;int32&gt;</td><td style=\"white-space: nowrap; max-width: 500px; overflow: hidden; text-overflow: ellipsis; text-align: left;\">array&lt;int32&gt;</td><td style=\"white-space: nowrap; max-width: 500px; overflow: hidden; text-overflow: ellipsis; text-align: left;\">array&lt;int32&gt;</td><td style=\"white-space: nowrap; max-width: 500px; overflow: hidden; text-overflow: ellipsis; text-align: left;\">array&lt;float64&gt;</td><td style=\"white-space: nowrap; max-width: 500px; overflow: hidden; text-overflow: ellipsis; text-align: left;\">array&lt;float64&gt;</td><td style=\"white-space: nowrap; max-width: 500px; overflow: hidden; text-overflow: ellipsis; text-align: left;\">array&lt;float64&gt;</td><td style=\"white-space: nowrap; max-width: 500px; overflow: hidden; text-overflow: ellipsis; text-align: left;\">array&lt;float64&gt;</td><td style=\"white-space: nowrap; max-width: 500px; overflow: hidden; text-overflow: ellipsis; text-align: left;\">array&lt;float64&gt;</td><td style=\"white-space: nowrap; max-width: 500px; overflow: hidden; text-overflow: ellipsis; text-align: left;\">array&lt;float64&gt;</td><td style=\"white-space: nowrap; max-width: 500px; overflow: hidden; text-overflow: ellipsis; text-align: left;\">array&lt;float64&gt;</td><td style=\"white-space: nowrap; max-width: 500px; overflow: hidden; text-overflow: ellipsis; text-align: left;\">array&lt;float64&gt;</td><td style=\"white-space: nowrap; max-width: 500px; overflow: hidden; text-overflow: ellipsis; text-align: left;\">array&lt;float64&gt;</td><td style=\"white-space: nowrap; max-width: 500px; overflow: hidden; text-overflow: ellipsis; text-align: left;\">array&lt;float64&gt;</td><td style=\"white-space: nowrap; max-width: 500px; overflow: hidden; text-overflow: ellipsis; text-align: left;\">array&lt;str&gt;</td><td style=\"white-space: nowrap; max-width: 500px; overflow: hidden; text-overflow: ellipsis; text-align: left;\">str</td><td style=\"white-space: nowrap; max-width: 500px; overflow: hidden; text-overflow: ellipsis; text-align: left;\">float64</td><td style=\"white-space: nowrap; max-width: 500px; overflow: hidden; text-overflow: ellipsis; text-align: left;\">array&lt;int32&gt;</td><td style=\"white-space: nowrap; max-width: 500px; overflow: hidden; text-overflow: ellipsis; text-align: left;\">int32</td><td style=\"white-space: nowrap; max-width: 500px; overflow: hidden; text-overflow: ellipsis; text-align: left;\">int32</td><td style=\"white-space: nowrap; max-width: 500px; overflow: hidden; text-overflow: ellipsis; text-align: left;\">call</td><td style=\"white-space: nowrap; max-width: 500px; overflow: hidden; text-overflow: ellipsis; text-align: left;\">int32</td><td style=\"white-space: nowrap; max-width: 500px; overflow: hidden; text-overflow: ellipsis; text-align: left;\">int32</td><td style=\"white-space: nowrap; max-width: 500px; overflow: hidden; text-overflow: ellipsis; text-align: left;\">call</td><td style=\"white-space: nowrap; max-width: 500px; overflow: hidden; text-overflow: ellipsis; text-align: left;\">str</td><td style=\"white-space: nowrap; max-width: 500px; overflow: hidden; text-overflow: ellipsis; text-align: left;\">array&lt;int32&gt;</td><td style=\"white-space: nowrap; max-width: 500px; overflow: hidden; text-overflow: ellipsis; text-align: left;\">int32</td><td style=\"white-space: nowrap; max-width: 500px; overflow: hidden; text-overflow: ellipsis; text-align: left;\">array&lt;int32&gt;</td></tr>\n",
       "</thead><tbody><tr><td style=\"white-space: nowrap; max-width: 500px; overflow: hidden; text-overflow: ellipsis; \">chr22:50197100</td><td style=\"white-space: nowrap; max-width: 500px; overflow: hidden; text-overflow: ellipsis; \">[&quot;T&quot;,&quot;C&quot;]</td><td style=\"white-space: nowrap; max-width: 500px; overflow: hidden; text-overflow: ellipsis; \">NA</td><td style=\"white-space: nowrap; max-width: 500px; overflow: hidden; text-overflow: ellipsis; \">1.40e+04</td><td style=\"white-space: nowrap; max-width: 500px; overflow: hidden; text-overflow: ellipsis; \">{}</td><td style=\"white-space: nowrap; max-width: 500px; overflow: hidden; text-overflow: ellipsis; \">[24]</td><td style=\"white-space: nowrap; max-width: 500px; overflow: hidden; text-overflow: ellipsis; \">[3.75e-03]</td><td style=\"white-space: nowrap; max-width: 500px; overflow: hidden; text-overflow: ellipsis; \">6404</td><td style=\"white-space: nowrap; max-width: 500px; overflow: hidden; text-overflow: ellipsis; \">3.64e-01</td><td style=\"white-space: nowrap; max-width: 500px; overflow: hidden; text-overflow: ellipsis; \">7.92e-01</td><td style=\"white-space: nowrap; max-width: 500px; overflow: hidden; text-overflow: ellipsis; \">121389</td><td style=\"white-space: nowrap; max-width: 500px; overflow: hidden; text-overflow: ellipsis; \">False</td><td style=\"white-space: nowrap; max-width: 500px; overflow: hidden; text-overflow: ellipsis; \">NA</td><td style=\"white-space: nowrap; max-width: 500px; overflow: hidden; text-overflow: ellipsis; \">2.44e+00</td><td style=\"white-space: nowrap; max-width: 500px; overflow: hidden; text-overflow: ellipsis; \">NA</td><td style=\"white-space: nowrap; max-width: 500px; overflow: hidden; text-overflow: ellipsis; \">NA</td><td style=\"white-space: nowrap; max-width: 500px; overflow: hidden; text-overflow: ellipsis; \">[24]</td><td style=\"white-space: nowrap; max-width: 500px; overflow: hidden; text-overflow: ellipsis; \">[3.75e-03]</td><td style=\"white-space: nowrap; max-width: 500px; overflow: hidden; text-overflow: ellipsis; \">6.00e+01</td><td style=\"white-space: nowrap; max-width: 500px; overflow: hidden; text-overflow: ellipsis; \">0</td><td style=\"white-space: nowrap; max-width: 500px; overflow: hidden; text-overflow: ellipsis; \">2.17e-01</td><td style=\"white-space: nowrap; max-width: 500px; overflow: hidden; text-overflow: ellipsis; \">False</td><td style=\"white-space: nowrap; max-width: 500px; overflow: hidden; text-overflow: ellipsis; \">False</td><td style=\"white-space: nowrap; max-width: 500px; overflow: hidden; text-overflow: ellipsis; \">1.32e+01</td><td style=\"white-space: nowrap; max-width: 500px; overflow: hidden; text-overflow: ellipsis; \">NA</td><td style=\"white-space: nowrap; max-width: 500px; overflow: hidden; text-overflow: ellipsis; \">8.92e-01</td><td style=\"white-space: nowrap; max-width: 500px; overflow: hidden; text-overflow: ellipsis; \">8.62e-01</td><td style=\"white-space: nowrap; max-width: 500px; overflow: hidden; text-overflow: ellipsis; \">1.16e+01</td><td style=\"white-space: nowrap; max-width: 500px; overflow: hidden; text-overflow: ellipsis; \">NA</td><td style=\"white-space: nowrap; max-width: 500px; overflow: hidden; text-overflow: ellipsis; \">&quot;MQ&quot;</td><td style=\"white-space: nowrap; max-width: 500px; overflow: hidden; text-overflow: ellipsis; \">1266</td><td style=\"white-space: nowrap; max-width: 500px; overflow: hidden; text-overflow: ellipsis; \">1170</td><td style=\"white-space: nowrap; max-width: 500px; overflow: hidden; text-overflow: ellipsis; \">980</td><td style=\"white-space: nowrap; max-width: 500px; overflow: hidden; text-overflow: ellipsis; \">1202</td><td style=\"white-space: nowrap; max-width: 500px; overflow: hidden; text-overflow: ellipsis; \">1786</td><td style=\"white-space: nowrap; max-width: 500px; overflow: hidden; text-overflow: ellipsis; \">[0]</td><td style=\"white-space: nowrap; max-width: 500px; overflow: hidden; text-overflow: ellipsis; \">[0]</td><td style=\"white-space: nowrap; max-width: 500px; overflow: hidden; text-overflow: ellipsis; \">[4]</td><td style=\"white-space: nowrap; max-width: 500px; overflow: hidden; text-overflow: ellipsis; \">[0]</td><td style=\"white-space: nowrap; max-width: 500px; overflow: hidden; text-overflow: ellipsis; \">[20]</td><td style=\"white-space: nowrap; max-width: 500px; overflow: hidden; text-overflow: ellipsis; \">[0]</td><td style=\"white-space: nowrap; max-width: 500px; overflow: hidden; text-overflow: ellipsis; \">[0]</td><td style=\"white-space: nowrap; max-width: 500px; overflow: hidden; text-overflow: ellipsis; \">[0]</td><td style=\"white-space: nowrap; max-width: 500px; overflow: hidden; text-overflow: ellipsis; \">[0]</td><td style=\"white-space: nowrap; max-width: 500px; overflow: hidden; text-overflow: ellipsis; \">[0]</td><td style=\"white-space: nowrap; max-width: 500px; overflow: hidden; text-overflow: ellipsis; \">[0]</td><td style=\"white-space: nowrap; max-width: 500px; overflow: hidden; text-overflow: ellipsis; \">[0]</td><td style=\"white-space: nowrap; max-width: 500px; overflow: hidden; text-overflow: ellipsis; \">[0]</td><td style=\"white-space: nowrap; max-width: 500px; overflow: hidden; text-overflow: ellipsis; \">[4]</td><td style=\"white-space: nowrap; max-width: 500px; overflow: hidden; text-overflow: ellipsis; \">[0]</td><td style=\"white-space: nowrap; max-width: 500px; overflow: hidden; text-overflow: ellipsis; \">[20]</td><td style=\"white-space: nowrap; max-width: 500px; overflow: hidden; text-overflow: ellipsis; \">[24]</td><td style=\"white-space: nowrap; max-width: 500px; overflow: hidden; text-overflow: ellipsis; \">[0.00e+00]</td><td style=\"white-space: nowrap; max-width: 500px; overflow: hidden; text-overflow: ellipsis; \">[0.00e+00]</td><td style=\"white-space: nowrap; max-width: 500px; overflow: hidden; text-overflow: ellipsis; \">[4.08e-03]</td><td style=\"white-space: nowrap; max-width: 500px; overflow: hidden; text-overflow: ellipsis; \">[0.00e+00]</td><td style=\"white-space: nowrap; max-width: 500px; overflow: hidden; text-overflow: ellipsis; \">[1.12e-02]</td><td style=\"white-space: nowrap; max-width: 500px; overflow: hidden; text-overflow: ellipsis; \">[1.00e+00]</td><td style=\"white-space: nowrap; max-width: 500px; overflow: hidden; text-overflow: ellipsis; \">[1.00e+00]</td><td style=\"white-space: nowrap; max-width: 500px; overflow: hidden; text-overflow: ellipsis; \">[1.00e+00]</td><td style=\"white-space: nowrap; max-width: 500px; overflow: hidden; text-overflow: ellipsis; \">[1.00e+00]</td><td style=\"white-space: nowrap; max-width: 500px; overflow: hidden; text-overflow: ellipsis; \">[1.00e+00]</td><td style=\"white-space: nowrap; max-width: 500px; overflow: hidden; text-overflow: ellipsis; \">[1.00e+00]</td><td style=\"white-space: nowrap; max-width: 500px; overflow: hidden; text-overflow: ellipsis; \">[1.00e+00]</td><td style=\"white-space: nowrap; max-width: 500px; overflow: hidden; text-overflow: ellipsis; \">[1.00e+00]</td><td style=\"white-space: nowrap; max-width: 500px; overflow: hidden; text-overflow: ellipsis; \">[9.94e-01]</td><td style=\"white-space: nowrap; max-width: 500px; overflow: hidden; text-overflow: ellipsis; \">[1.00e+00]</td><td style=\"white-space: nowrap; max-width: 500px; overflow: hidden; text-overflow: ellipsis; \">[8.98e-01]</td><td style=\"white-space: nowrap; max-width: 500px; overflow: hidden; text-overflow: ellipsis; \">[9.58e-01]</td><td style=\"white-space: nowrap; max-width: 500px; overflow: hidden; text-overflow: ellipsis; \">[0.00e+00]</td><td style=\"white-space: nowrap; max-width: 500px; overflow: hidden; text-overflow: ellipsis; \">1006</td><td style=\"white-space: nowrap; max-width: 500px; overflow: hidden; text-overflow: ellipsis; \">1008</td><td style=\"white-space: nowrap; max-width: 500px; overflow: hidden; text-overflow: ellipsis; \">694</td><td style=\"white-space: nowrap; max-width: 500px; overflow: hidden; text-overflow: ellipsis; \">978</td><td style=\"white-space: nowrap; max-width: 500px; overflow: hidden; text-overflow: ellipsis; \">1322</td><td style=\"white-space: nowrap; max-width: 500px; overflow: hidden; text-overflow: ellipsis; \">[0]</td><td style=\"white-space: nowrap; max-width: 500px; overflow: hidden; text-overflow: ellipsis; \">[0]</td><td style=\"white-space: nowrap; max-width: 500px; overflow: hidden; text-overflow: ellipsis; \">[2]</td><td style=\"white-space: nowrap; max-width: 500px; overflow: hidden; text-overflow: ellipsis; \">[0]</td><td style=\"white-space: nowrap; max-width: 500px; overflow: hidden; text-overflow: ellipsis; \">[16]</td><td style=\"white-space: nowrap; max-width: 500px; overflow: hidden; text-overflow: ellipsis; \">[0]</td><td style=\"white-space: nowrap; max-width: 500px; overflow: hidden; text-overflow: ellipsis; \">[0]</td><td style=\"white-space: nowrap; max-width: 500px; overflow: hidden; text-overflow: ellipsis; \">[0]</td><td style=\"white-space: nowrap; max-width: 500px; overflow: hidden; text-overflow: ellipsis; \">[0]</td><td style=\"white-space: nowrap; max-width: 500px; overflow: hidden; text-overflow: ellipsis; \">[0]</td><td style=\"white-space: nowrap; max-width: 500px; overflow: hidden; text-overflow: ellipsis; \">[0]</td><td style=\"white-space: nowrap; max-width: 500px; overflow: hidden; text-overflow: ellipsis; \">[0]</td><td style=\"white-space: nowrap; max-width: 500px; overflow: hidden; text-overflow: ellipsis; \">[2]</td><td style=\"white-space: nowrap; max-width: 500px; overflow: hidden; text-overflow: ellipsis; \">[0]</td><td style=\"white-space: nowrap; max-width: 500px; overflow: hidden; text-overflow: ellipsis; \">[16]</td><td style=\"white-space: nowrap; max-width: 500px; overflow: hidden; text-overflow: ellipsis; \">[0.00e+00]</td><td style=\"white-space: nowrap; max-width: 500px; overflow: hidden; text-overflow: ellipsis; \">[0.00e+00]</td><td style=\"white-space: nowrap; max-width: 500px; overflow: hidden; text-overflow: ellipsis; \">[2.88e-03]</td><td style=\"white-space: nowrap; max-width: 500px; overflow: hidden; text-overflow: ellipsis; \">[0.00e+00]</td><td style=\"white-space: nowrap; max-width: 500px; overflow: hidden; text-overflow: ellipsis; \">[1.21e-02]</td><td style=\"white-space: nowrap; max-width: 500px; overflow: hidden; text-overflow: ellipsis; \">NA</td><td style=\"white-space: nowrap; max-width: 500px; overflow: hidden; text-overflow: ellipsis; \">NA</td><td style=\"white-space: nowrap; max-width: 500px; overflow: hidden; text-overflow: ellipsis; \">NA</td><td style=\"white-space: nowrap; max-width: 500px; overflow: hidden; text-overflow: ellipsis; \">NA</td><td style=\"white-space: nowrap; max-width: 500px; overflow: hidden; text-overflow: ellipsis; \">NA</td><td style=\"white-space: nowrap; max-width: 500px; overflow: hidden; text-overflow: ellipsis; \">[&quot;C|upstream_gene_variant|MODIFIER|SELENOO|ENSG00000073169|Transcript|ENST00000380903|protein_coding|||||||||||3911|1||HGNC|HGNC:30395&quot;]</td><td style=\"white-space: nowrap; max-width: 500px; overflow: hidden; text-overflow: ellipsis; \">&quot;HG00096&quot;</td><td style=\"white-space: nowrap; max-width: 500px; overflow: hidden; text-overflow: ellipsis; \">NA</td><td style=\"white-space: nowrap; max-width: 500px; overflow: hidden; text-overflow: ellipsis; \">[36,0]</td><td style=\"white-space: nowrap; max-width: 500px; overflow: hidden; text-overflow: ellipsis; \">36</td><td style=\"white-space: nowrap; max-width: 500px; overflow: hidden; text-overflow: ellipsis; \">99</td><td style=\"white-space: nowrap; max-width: 500px; overflow: hidden; text-overflow: ellipsis; \">0/0</td><td style=\"white-space: nowrap; max-width: 500px; overflow: hidden; text-overflow: ellipsis; \">NA</td><td style=\"white-space: nowrap; max-width: 500px; overflow: hidden; text-overflow: ellipsis; \">NA</td><td style=\"white-space: nowrap; max-width: 500px; overflow: hidden; text-overflow: ellipsis; \">NA</td><td style=\"white-space: nowrap; max-width: 500px; overflow: hidden; text-overflow: ellipsis; \">NA</td><td style=\"white-space: nowrap; max-width: 500px; overflow: hidden; text-overflow: ellipsis; \">[0,99,1301]</td><td style=\"white-space: nowrap; max-width: 500px; overflow: hidden; text-overflow: ellipsis; \">NA</td><td style=\"white-space: nowrap; max-width: 500px; overflow: hidden; text-overflow: ellipsis; \">NA</td></tr>\n",
       "<tr><td style=\"white-space: nowrap; max-width: 500px; overflow: hidden; text-overflow: ellipsis; \">chr22:50197100</td><td style=\"white-space: nowrap; max-width: 500px; overflow: hidden; text-overflow: ellipsis; \">[&quot;T&quot;,&quot;C&quot;]</td><td style=\"white-space: nowrap; max-width: 500px; overflow: hidden; text-overflow: ellipsis; \">NA</td><td style=\"white-space: nowrap; max-width: 500px; overflow: hidden; text-overflow: ellipsis; \">1.40e+04</td><td style=\"white-space: nowrap; max-width: 500px; overflow: hidden; text-overflow: ellipsis; \">{}</td><td style=\"white-space: nowrap; max-width: 500px; overflow: hidden; text-overflow: ellipsis; \">[24]</td><td style=\"white-space: nowrap; max-width: 500px; overflow: hidden; text-overflow: ellipsis; \">[3.75e-03]</td><td style=\"white-space: nowrap; max-width: 500px; overflow: hidden; text-overflow: ellipsis; \">6404</td><td style=\"white-space: nowrap; max-width: 500px; overflow: hidden; text-overflow: ellipsis; \">3.64e-01</td><td style=\"white-space: nowrap; max-width: 500px; overflow: hidden; text-overflow: ellipsis; \">7.92e-01</td><td style=\"white-space: nowrap; max-width: 500px; overflow: hidden; text-overflow: ellipsis; \">121389</td><td style=\"white-space: nowrap; max-width: 500px; overflow: hidden; text-overflow: ellipsis; \">False</td><td style=\"white-space: nowrap; max-width: 500px; overflow: hidden; text-overflow: ellipsis; \">NA</td><td style=\"white-space: nowrap; max-width: 500px; overflow: hidden; text-overflow: ellipsis; \">2.44e+00</td><td style=\"white-space: nowrap; max-width: 500px; overflow: hidden; text-overflow: ellipsis; \">NA</td><td style=\"white-space: nowrap; max-width: 500px; overflow: hidden; text-overflow: ellipsis; \">NA</td><td style=\"white-space: nowrap; max-width: 500px; overflow: hidden; text-overflow: ellipsis; \">[24]</td><td style=\"white-space: nowrap; max-width: 500px; overflow: hidden; text-overflow: ellipsis; \">[3.75e-03]</td><td style=\"white-space: nowrap; max-width: 500px; overflow: hidden; text-overflow: ellipsis; \">6.00e+01</td><td style=\"white-space: nowrap; max-width: 500px; overflow: hidden; text-overflow: ellipsis; \">0</td><td style=\"white-space: nowrap; max-width: 500px; overflow: hidden; text-overflow: ellipsis; \">2.17e-01</td><td style=\"white-space: nowrap; max-width: 500px; overflow: hidden; text-overflow: ellipsis; \">False</td><td style=\"white-space: nowrap; max-width: 500px; overflow: hidden; text-overflow: ellipsis; \">False</td><td style=\"white-space: nowrap; max-width: 500px; overflow: hidden; text-overflow: ellipsis; \">1.32e+01</td><td style=\"white-space: nowrap; max-width: 500px; overflow: hidden; text-overflow: ellipsis; \">NA</td><td style=\"white-space: nowrap; max-width: 500px; overflow: hidden; text-overflow: ellipsis; \">8.92e-01</td><td style=\"white-space: nowrap; max-width: 500px; overflow: hidden; text-overflow: ellipsis; \">8.62e-01</td><td style=\"white-space: nowrap; max-width: 500px; overflow: hidden; text-overflow: ellipsis; \">1.16e+01</td><td style=\"white-space: nowrap; max-width: 500px; overflow: hidden; text-overflow: ellipsis; \">NA</td><td style=\"white-space: nowrap; max-width: 500px; overflow: hidden; text-overflow: ellipsis; \">&quot;MQ&quot;</td><td style=\"white-space: nowrap; max-width: 500px; overflow: hidden; text-overflow: ellipsis; \">1266</td><td style=\"white-space: nowrap; max-width: 500px; overflow: hidden; text-overflow: ellipsis; \">1170</td><td style=\"white-space: nowrap; max-width: 500px; overflow: hidden; text-overflow: ellipsis; \">980</td><td style=\"white-space: nowrap; max-width: 500px; overflow: hidden; text-overflow: ellipsis; \">1202</td><td style=\"white-space: nowrap; max-width: 500px; overflow: hidden; text-overflow: ellipsis; \">1786</td><td style=\"white-space: nowrap; max-width: 500px; overflow: hidden; text-overflow: ellipsis; \">[0]</td><td style=\"white-space: nowrap; max-width: 500px; overflow: hidden; text-overflow: ellipsis; \">[0]</td><td style=\"white-space: nowrap; max-width: 500px; overflow: hidden; text-overflow: ellipsis; \">[4]</td><td style=\"white-space: nowrap; max-width: 500px; overflow: hidden; text-overflow: ellipsis; \">[0]</td><td style=\"white-space: nowrap; max-width: 500px; overflow: hidden; text-overflow: ellipsis; \">[20]</td><td style=\"white-space: nowrap; max-width: 500px; overflow: hidden; text-overflow: ellipsis; \">[0]</td><td style=\"white-space: nowrap; max-width: 500px; overflow: hidden; text-overflow: ellipsis; \">[0]</td><td style=\"white-space: nowrap; max-width: 500px; overflow: hidden; text-overflow: ellipsis; \">[0]</td><td style=\"white-space: nowrap; max-width: 500px; overflow: hidden; text-overflow: ellipsis; \">[0]</td><td style=\"white-space: nowrap; max-width: 500px; overflow: hidden; text-overflow: ellipsis; \">[0]</td><td style=\"white-space: nowrap; max-width: 500px; overflow: hidden; text-overflow: ellipsis; \">[0]</td><td style=\"white-space: nowrap; max-width: 500px; overflow: hidden; text-overflow: ellipsis; \">[0]</td><td style=\"white-space: nowrap; max-width: 500px; overflow: hidden; text-overflow: ellipsis; \">[0]</td><td style=\"white-space: nowrap; max-width: 500px; overflow: hidden; text-overflow: ellipsis; \">[4]</td><td style=\"white-space: nowrap; max-width: 500px; overflow: hidden; text-overflow: ellipsis; \">[0]</td><td style=\"white-space: nowrap; max-width: 500px; overflow: hidden; text-overflow: ellipsis; \">[20]</td><td style=\"white-space: nowrap; max-width: 500px; overflow: hidden; text-overflow: ellipsis; \">[24]</td><td style=\"white-space: nowrap; max-width: 500px; overflow: hidden; text-overflow: ellipsis; \">[0.00e+00]</td><td style=\"white-space: nowrap; max-width: 500px; overflow: hidden; text-overflow: ellipsis; \">[0.00e+00]</td><td style=\"white-space: nowrap; max-width: 500px; overflow: hidden; text-overflow: ellipsis; \">[4.08e-03]</td><td style=\"white-space: nowrap; max-width: 500px; overflow: hidden; text-overflow: ellipsis; \">[0.00e+00]</td><td style=\"white-space: nowrap; max-width: 500px; overflow: hidden; text-overflow: ellipsis; \">[1.12e-02]</td><td style=\"white-space: nowrap; max-width: 500px; overflow: hidden; text-overflow: ellipsis; \">[1.00e+00]</td><td style=\"white-space: nowrap; max-width: 500px; overflow: hidden; text-overflow: ellipsis; \">[1.00e+00]</td><td style=\"white-space: nowrap; max-width: 500px; overflow: hidden; text-overflow: ellipsis; \">[1.00e+00]</td><td style=\"white-space: nowrap; max-width: 500px; overflow: hidden; text-overflow: ellipsis; \">[1.00e+00]</td><td style=\"white-space: nowrap; max-width: 500px; overflow: hidden; text-overflow: ellipsis; \">[1.00e+00]</td><td style=\"white-space: nowrap; max-width: 500px; overflow: hidden; text-overflow: ellipsis; \">[1.00e+00]</td><td style=\"white-space: nowrap; max-width: 500px; overflow: hidden; text-overflow: ellipsis; \">[1.00e+00]</td><td style=\"white-space: nowrap; max-width: 500px; overflow: hidden; text-overflow: ellipsis; \">[1.00e+00]</td><td style=\"white-space: nowrap; max-width: 500px; overflow: hidden; text-overflow: ellipsis; \">[9.94e-01]</td><td style=\"white-space: nowrap; max-width: 500px; overflow: hidden; text-overflow: ellipsis; \">[1.00e+00]</td><td style=\"white-space: nowrap; max-width: 500px; overflow: hidden; text-overflow: ellipsis; \">[8.98e-01]</td><td style=\"white-space: nowrap; max-width: 500px; overflow: hidden; text-overflow: ellipsis; \">[9.58e-01]</td><td style=\"white-space: nowrap; max-width: 500px; overflow: hidden; text-overflow: ellipsis; \">[0.00e+00]</td><td style=\"white-space: nowrap; max-width: 500px; overflow: hidden; text-overflow: ellipsis; \">1006</td><td style=\"white-space: nowrap; max-width: 500px; overflow: hidden; text-overflow: ellipsis; \">1008</td><td style=\"white-space: nowrap; max-width: 500px; overflow: hidden; text-overflow: ellipsis; \">694</td><td style=\"white-space: nowrap; max-width: 500px; overflow: hidden; text-overflow: ellipsis; \">978</td><td style=\"white-space: nowrap; max-width: 500px; overflow: hidden; text-overflow: ellipsis; \">1322</td><td style=\"white-space: nowrap; max-width: 500px; overflow: hidden; text-overflow: ellipsis; \">[0]</td><td style=\"white-space: nowrap; max-width: 500px; overflow: hidden; text-overflow: ellipsis; \">[0]</td><td style=\"white-space: nowrap; max-width: 500px; overflow: hidden; text-overflow: ellipsis; \">[2]</td><td style=\"white-space: nowrap; max-width: 500px; overflow: hidden; text-overflow: ellipsis; \">[0]</td><td style=\"white-space: nowrap; max-width: 500px; overflow: hidden; text-overflow: ellipsis; \">[16]</td><td style=\"white-space: nowrap; max-width: 500px; overflow: hidden; text-overflow: ellipsis; \">[0]</td><td style=\"white-space: nowrap; max-width: 500px; overflow: hidden; text-overflow: ellipsis; \">[0]</td><td style=\"white-space: nowrap; max-width: 500px; overflow: hidden; text-overflow: ellipsis; \">[0]</td><td style=\"white-space: nowrap; max-width: 500px; overflow: hidden; text-overflow: ellipsis; \">[0]</td><td style=\"white-space: nowrap; max-width: 500px; overflow: hidden; text-overflow: ellipsis; \">[0]</td><td style=\"white-space: nowrap; max-width: 500px; overflow: hidden; text-overflow: ellipsis; \">[0]</td><td style=\"white-space: nowrap; max-width: 500px; overflow: hidden; text-overflow: ellipsis; \">[0]</td><td style=\"white-space: nowrap; max-width: 500px; overflow: hidden; text-overflow: ellipsis; \">[2]</td><td style=\"white-space: nowrap; max-width: 500px; overflow: hidden; text-overflow: ellipsis; \">[0]</td><td style=\"white-space: nowrap; max-width: 500px; overflow: hidden; text-overflow: ellipsis; \">[16]</td><td style=\"white-space: nowrap; max-width: 500px; overflow: hidden; text-overflow: ellipsis; \">[0.00e+00]</td><td style=\"white-space: nowrap; max-width: 500px; overflow: hidden; text-overflow: ellipsis; \">[0.00e+00]</td><td style=\"white-space: nowrap; max-width: 500px; overflow: hidden; text-overflow: ellipsis; \">[2.88e-03]</td><td style=\"white-space: nowrap; max-width: 500px; overflow: hidden; text-overflow: ellipsis; \">[0.00e+00]</td><td style=\"white-space: nowrap; max-width: 500px; overflow: hidden; text-overflow: ellipsis; \">[1.21e-02]</td><td style=\"white-space: nowrap; max-width: 500px; overflow: hidden; text-overflow: ellipsis; \">NA</td><td style=\"white-space: nowrap; max-width: 500px; overflow: hidden; text-overflow: ellipsis; \">NA</td><td style=\"white-space: nowrap; max-width: 500px; overflow: hidden; text-overflow: ellipsis; \">NA</td><td style=\"white-space: nowrap; max-width: 500px; overflow: hidden; text-overflow: ellipsis; \">NA</td><td style=\"white-space: nowrap; max-width: 500px; overflow: hidden; text-overflow: ellipsis; \">NA</td><td style=\"white-space: nowrap; max-width: 500px; overflow: hidden; text-overflow: ellipsis; \">[&quot;C|upstream_gene_variant|MODIFIER|SELENOO|ENSG00000073169|Transcript|ENST00000380903|protein_coding|||||||||||3911|1||HGNC|HGNC:30395&quot;]</td><td style=\"white-space: nowrap; max-width: 500px; overflow: hidden; text-overflow: ellipsis; \">&quot;HG00097&quot;</td><td style=\"white-space: nowrap; max-width: 500px; overflow: hidden; text-overflow: ellipsis; \">NA</td><td style=\"white-space: nowrap; max-width: 500px; overflow: hidden; text-overflow: ellipsis; \">[39,0]</td><td style=\"white-space: nowrap; max-width: 500px; overflow: hidden; text-overflow: ellipsis; \">39</td><td style=\"white-space: nowrap; max-width: 500px; overflow: hidden; text-overflow: ellipsis; \">99</td><td style=\"white-space: nowrap; max-width: 500px; overflow: hidden; text-overflow: ellipsis; \">0/0</td><td style=\"white-space: nowrap; max-width: 500px; overflow: hidden; text-overflow: ellipsis; \">NA</td><td style=\"white-space: nowrap; max-width: 500px; overflow: hidden; text-overflow: ellipsis; \">NA</td><td style=\"white-space: nowrap; max-width: 500px; overflow: hidden; text-overflow: ellipsis; \">NA</td><td style=\"white-space: nowrap; max-width: 500px; overflow: hidden; text-overflow: ellipsis; \">NA</td><td style=\"white-space: nowrap; max-width: 500px; overflow: hidden; text-overflow: ellipsis; \">[0,105,1260]</td><td style=\"white-space: nowrap; max-width: 500px; overflow: hidden; text-overflow: ellipsis; \">NA</td><td style=\"white-space: nowrap; max-width: 500px; overflow: hidden; text-overflow: ellipsis; \">NA</td></tr>\n",
       "<tr><td style=\"white-space: nowrap; max-width: 500px; overflow: hidden; text-overflow: ellipsis; \">chr22:50197100</td><td style=\"white-space: nowrap; max-width: 500px; overflow: hidden; text-overflow: ellipsis; \">[&quot;T&quot;,&quot;C&quot;]</td><td style=\"white-space: nowrap; max-width: 500px; overflow: hidden; text-overflow: ellipsis; \">NA</td><td style=\"white-space: nowrap; max-width: 500px; overflow: hidden; text-overflow: ellipsis; \">1.40e+04</td><td style=\"white-space: nowrap; max-width: 500px; overflow: hidden; text-overflow: ellipsis; \">{}</td><td style=\"white-space: nowrap; max-width: 500px; overflow: hidden; text-overflow: ellipsis; \">[24]</td><td style=\"white-space: nowrap; max-width: 500px; overflow: hidden; text-overflow: ellipsis; \">[3.75e-03]</td><td style=\"white-space: nowrap; max-width: 500px; overflow: hidden; text-overflow: ellipsis; \">6404</td><td style=\"white-space: nowrap; max-width: 500px; overflow: hidden; text-overflow: ellipsis; \">3.64e-01</td><td style=\"white-space: nowrap; max-width: 500px; overflow: hidden; text-overflow: ellipsis; \">7.92e-01</td><td style=\"white-space: nowrap; max-width: 500px; overflow: hidden; text-overflow: ellipsis; \">121389</td><td style=\"white-space: nowrap; max-width: 500px; overflow: hidden; text-overflow: ellipsis; \">False</td><td style=\"white-space: nowrap; max-width: 500px; overflow: hidden; text-overflow: ellipsis; \">NA</td><td style=\"white-space: nowrap; max-width: 500px; overflow: hidden; text-overflow: ellipsis; \">2.44e+00</td><td style=\"white-space: nowrap; max-width: 500px; overflow: hidden; text-overflow: ellipsis; \">NA</td><td style=\"white-space: nowrap; max-width: 500px; overflow: hidden; text-overflow: ellipsis; \">NA</td><td style=\"white-space: nowrap; max-width: 500px; overflow: hidden; text-overflow: ellipsis; \">[24]</td><td style=\"white-space: nowrap; max-width: 500px; overflow: hidden; text-overflow: ellipsis; \">[3.75e-03]</td><td style=\"white-space: nowrap; max-width: 500px; overflow: hidden; text-overflow: ellipsis; \">6.00e+01</td><td style=\"white-space: nowrap; max-width: 500px; overflow: hidden; text-overflow: ellipsis; \">0</td><td style=\"white-space: nowrap; max-width: 500px; overflow: hidden; text-overflow: ellipsis; \">2.17e-01</td><td style=\"white-space: nowrap; max-width: 500px; overflow: hidden; text-overflow: ellipsis; \">False</td><td style=\"white-space: nowrap; max-width: 500px; overflow: hidden; text-overflow: ellipsis; \">False</td><td style=\"white-space: nowrap; max-width: 500px; overflow: hidden; text-overflow: ellipsis; \">1.32e+01</td><td style=\"white-space: nowrap; max-width: 500px; overflow: hidden; text-overflow: ellipsis; \">NA</td><td style=\"white-space: nowrap; max-width: 500px; overflow: hidden; text-overflow: ellipsis; \">8.92e-01</td><td style=\"white-space: nowrap; max-width: 500px; overflow: hidden; text-overflow: ellipsis; \">8.62e-01</td><td style=\"white-space: nowrap; max-width: 500px; overflow: hidden; text-overflow: ellipsis; \">1.16e+01</td><td style=\"white-space: nowrap; max-width: 500px; overflow: hidden; text-overflow: ellipsis; \">NA</td><td style=\"white-space: nowrap; max-width: 500px; overflow: hidden; text-overflow: ellipsis; \">&quot;MQ&quot;</td><td style=\"white-space: nowrap; max-width: 500px; overflow: hidden; text-overflow: ellipsis; \">1266</td><td style=\"white-space: nowrap; max-width: 500px; overflow: hidden; text-overflow: ellipsis; \">1170</td><td style=\"white-space: nowrap; max-width: 500px; overflow: hidden; text-overflow: ellipsis; \">980</td><td style=\"white-space: nowrap; max-width: 500px; overflow: hidden; text-overflow: ellipsis; \">1202</td><td style=\"white-space: nowrap; max-width: 500px; overflow: hidden; text-overflow: ellipsis; \">1786</td><td style=\"white-space: nowrap; max-width: 500px; overflow: hidden; text-overflow: ellipsis; \">[0]</td><td style=\"white-space: nowrap; max-width: 500px; overflow: hidden; text-overflow: ellipsis; \">[0]</td><td style=\"white-space: nowrap; max-width: 500px; overflow: hidden; text-overflow: ellipsis; \">[4]</td><td style=\"white-space: nowrap; max-width: 500px; overflow: hidden; text-overflow: ellipsis; \">[0]</td><td style=\"white-space: nowrap; max-width: 500px; overflow: hidden; text-overflow: ellipsis; \">[20]</td><td style=\"white-space: nowrap; max-width: 500px; overflow: hidden; text-overflow: ellipsis; \">[0]</td><td style=\"white-space: nowrap; max-width: 500px; overflow: hidden; text-overflow: ellipsis; \">[0]</td><td style=\"white-space: nowrap; max-width: 500px; overflow: hidden; text-overflow: ellipsis; \">[0]</td><td style=\"white-space: nowrap; max-width: 500px; overflow: hidden; text-overflow: ellipsis; \">[0]</td><td style=\"white-space: nowrap; max-width: 500px; overflow: hidden; text-overflow: ellipsis; \">[0]</td><td style=\"white-space: nowrap; max-width: 500px; overflow: hidden; text-overflow: ellipsis; \">[0]</td><td style=\"white-space: nowrap; max-width: 500px; overflow: hidden; text-overflow: ellipsis; \">[0]</td><td style=\"white-space: nowrap; max-width: 500px; overflow: hidden; text-overflow: ellipsis; \">[0]</td><td style=\"white-space: nowrap; max-width: 500px; overflow: hidden; text-overflow: ellipsis; \">[4]</td><td style=\"white-space: nowrap; max-width: 500px; overflow: hidden; text-overflow: ellipsis; \">[0]</td><td style=\"white-space: nowrap; max-width: 500px; overflow: hidden; text-overflow: ellipsis; \">[20]</td><td style=\"white-space: nowrap; max-width: 500px; overflow: hidden; text-overflow: ellipsis; \">[24]</td><td style=\"white-space: nowrap; max-width: 500px; overflow: hidden; text-overflow: ellipsis; \">[0.00e+00]</td><td style=\"white-space: nowrap; max-width: 500px; overflow: hidden; text-overflow: ellipsis; \">[0.00e+00]</td><td style=\"white-space: nowrap; max-width: 500px; overflow: hidden; text-overflow: ellipsis; \">[4.08e-03]</td><td style=\"white-space: nowrap; max-width: 500px; overflow: hidden; text-overflow: ellipsis; \">[0.00e+00]</td><td style=\"white-space: nowrap; max-width: 500px; overflow: hidden; text-overflow: ellipsis; \">[1.12e-02]</td><td style=\"white-space: nowrap; max-width: 500px; overflow: hidden; text-overflow: ellipsis; \">[1.00e+00]</td><td style=\"white-space: nowrap; max-width: 500px; overflow: hidden; text-overflow: ellipsis; \">[1.00e+00]</td><td style=\"white-space: nowrap; max-width: 500px; overflow: hidden; text-overflow: ellipsis; \">[1.00e+00]</td><td style=\"white-space: nowrap; max-width: 500px; overflow: hidden; text-overflow: ellipsis; \">[1.00e+00]</td><td style=\"white-space: nowrap; max-width: 500px; overflow: hidden; text-overflow: ellipsis; \">[1.00e+00]</td><td style=\"white-space: nowrap; max-width: 500px; overflow: hidden; text-overflow: ellipsis; \">[1.00e+00]</td><td style=\"white-space: nowrap; max-width: 500px; overflow: hidden; text-overflow: ellipsis; \">[1.00e+00]</td><td style=\"white-space: nowrap; max-width: 500px; overflow: hidden; text-overflow: ellipsis; \">[1.00e+00]</td><td style=\"white-space: nowrap; max-width: 500px; overflow: hidden; text-overflow: ellipsis; \">[9.94e-01]</td><td style=\"white-space: nowrap; max-width: 500px; overflow: hidden; text-overflow: ellipsis; \">[1.00e+00]</td><td style=\"white-space: nowrap; max-width: 500px; overflow: hidden; text-overflow: ellipsis; \">[8.98e-01]</td><td style=\"white-space: nowrap; max-width: 500px; overflow: hidden; text-overflow: ellipsis; \">[9.58e-01]</td><td style=\"white-space: nowrap; max-width: 500px; overflow: hidden; text-overflow: ellipsis; \">[0.00e+00]</td><td style=\"white-space: nowrap; max-width: 500px; overflow: hidden; text-overflow: ellipsis; \">1006</td><td style=\"white-space: nowrap; max-width: 500px; overflow: hidden; text-overflow: ellipsis; \">1008</td><td style=\"white-space: nowrap; max-width: 500px; overflow: hidden; text-overflow: ellipsis; \">694</td><td style=\"white-space: nowrap; max-width: 500px; overflow: hidden; text-overflow: ellipsis; \">978</td><td style=\"white-space: nowrap; max-width: 500px; overflow: hidden; text-overflow: ellipsis; \">1322</td><td style=\"white-space: nowrap; max-width: 500px; overflow: hidden; text-overflow: ellipsis; \">[0]</td><td style=\"white-space: nowrap; max-width: 500px; overflow: hidden; text-overflow: ellipsis; \">[0]</td><td style=\"white-space: nowrap; max-width: 500px; overflow: hidden; text-overflow: ellipsis; \">[2]</td><td style=\"white-space: nowrap; max-width: 500px; overflow: hidden; text-overflow: ellipsis; \">[0]</td><td style=\"white-space: nowrap; max-width: 500px; overflow: hidden; text-overflow: ellipsis; \">[16]</td><td style=\"white-space: nowrap; max-width: 500px; overflow: hidden; text-overflow: ellipsis; \">[0]</td><td style=\"white-space: nowrap; max-width: 500px; overflow: hidden; text-overflow: ellipsis; \">[0]</td><td style=\"white-space: nowrap; max-width: 500px; overflow: hidden; text-overflow: ellipsis; \">[0]</td><td style=\"white-space: nowrap; max-width: 500px; overflow: hidden; text-overflow: ellipsis; \">[0]</td><td style=\"white-space: nowrap; max-width: 500px; overflow: hidden; text-overflow: ellipsis; \">[0]</td><td style=\"white-space: nowrap; max-width: 500px; overflow: hidden; text-overflow: ellipsis; \">[0]</td><td style=\"white-space: nowrap; max-width: 500px; overflow: hidden; text-overflow: ellipsis; \">[0]</td><td style=\"white-space: nowrap; max-width: 500px; overflow: hidden; text-overflow: ellipsis; \">[2]</td><td style=\"white-space: nowrap; max-width: 500px; overflow: hidden; text-overflow: ellipsis; \">[0]</td><td style=\"white-space: nowrap; max-width: 500px; overflow: hidden; text-overflow: ellipsis; \">[16]</td><td style=\"white-space: nowrap; max-width: 500px; overflow: hidden; text-overflow: ellipsis; \">[0.00e+00]</td><td style=\"white-space: nowrap; max-width: 500px; overflow: hidden; text-overflow: ellipsis; \">[0.00e+00]</td><td style=\"white-space: nowrap; max-width: 500px; overflow: hidden; text-overflow: ellipsis; \">[2.88e-03]</td><td style=\"white-space: nowrap; max-width: 500px; overflow: hidden; text-overflow: ellipsis; \">[0.00e+00]</td><td style=\"white-space: nowrap; max-width: 500px; overflow: hidden; text-overflow: ellipsis; \">[1.21e-02]</td><td style=\"white-space: nowrap; max-width: 500px; overflow: hidden; text-overflow: ellipsis; \">NA</td><td style=\"white-space: nowrap; max-width: 500px; overflow: hidden; text-overflow: ellipsis; \">NA</td><td style=\"white-space: nowrap; max-width: 500px; overflow: hidden; text-overflow: ellipsis; \">NA</td><td style=\"white-space: nowrap; max-width: 500px; overflow: hidden; text-overflow: ellipsis; \">NA</td><td style=\"white-space: nowrap; max-width: 500px; overflow: hidden; text-overflow: ellipsis; \">NA</td><td style=\"white-space: nowrap; max-width: 500px; overflow: hidden; text-overflow: ellipsis; \">[&quot;C|upstream_gene_variant|MODIFIER|SELENOO|ENSG00000073169|Transcript|ENST00000380903|protein_coding|||||||||||3911|1||HGNC|HGNC:30395&quot;]</td><td style=\"white-space: nowrap; max-width: 500px; overflow: hidden; text-overflow: ellipsis; \">&quot;HG00099&quot;</td><td style=\"white-space: nowrap; max-width: 500px; overflow: hidden; text-overflow: ellipsis; \">NA</td><td style=\"white-space: nowrap; max-width: 500px; overflow: hidden; text-overflow: ellipsis; \">[53,0]</td><td style=\"white-space: nowrap; max-width: 500px; overflow: hidden; text-overflow: ellipsis; \">53</td><td style=\"white-space: nowrap; max-width: 500px; overflow: hidden; text-overflow: ellipsis; \">99</td><td style=\"white-space: nowrap; max-width: 500px; overflow: hidden; text-overflow: ellipsis; \">0/0</td><td style=\"white-space: nowrap; max-width: 500px; overflow: hidden; text-overflow: ellipsis; \">NA</td><td style=\"white-space: nowrap; max-width: 500px; overflow: hidden; text-overflow: ellipsis; \">NA</td><td style=\"white-space: nowrap; max-width: 500px; overflow: hidden; text-overflow: ellipsis; \">NA</td><td style=\"white-space: nowrap; max-width: 500px; overflow: hidden; text-overflow: ellipsis; \">NA</td><td style=\"white-space: nowrap; max-width: 500px; overflow: hidden; text-overflow: ellipsis; \">[0,120,1800]</td><td style=\"white-space: nowrap; max-width: 500px; overflow: hidden; text-overflow: ellipsis; \">NA</td><td style=\"white-space: nowrap; max-width: 500px; overflow: hidden; text-overflow: ellipsis; \">NA</td></tr>\n",
       "<tr><td style=\"white-space: nowrap; max-width: 500px; overflow: hidden; text-overflow: ellipsis; \">chr22:50197100</td><td style=\"white-space: nowrap; max-width: 500px; overflow: hidden; text-overflow: ellipsis; \">[&quot;T&quot;,&quot;C&quot;]</td><td style=\"white-space: nowrap; max-width: 500px; overflow: hidden; text-overflow: ellipsis; \">NA</td><td style=\"white-space: nowrap; max-width: 500px; overflow: hidden; text-overflow: ellipsis; \">1.40e+04</td><td style=\"white-space: nowrap; max-width: 500px; overflow: hidden; text-overflow: ellipsis; \">{}</td><td style=\"white-space: nowrap; max-width: 500px; overflow: hidden; text-overflow: ellipsis; \">[24]</td><td style=\"white-space: nowrap; max-width: 500px; overflow: hidden; text-overflow: ellipsis; \">[3.75e-03]</td><td style=\"white-space: nowrap; max-width: 500px; overflow: hidden; text-overflow: ellipsis; \">6404</td><td style=\"white-space: nowrap; max-width: 500px; overflow: hidden; text-overflow: ellipsis; \">3.64e-01</td><td style=\"white-space: nowrap; max-width: 500px; overflow: hidden; text-overflow: ellipsis; \">7.92e-01</td><td style=\"white-space: nowrap; max-width: 500px; overflow: hidden; text-overflow: ellipsis; \">121389</td><td style=\"white-space: nowrap; max-width: 500px; overflow: hidden; text-overflow: ellipsis; \">False</td><td style=\"white-space: nowrap; max-width: 500px; overflow: hidden; text-overflow: ellipsis; \">NA</td><td style=\"white-space: nowrap; max-width: 500px; overflow: hidden; text-overflow: ellipsis; \">2.44e+00</td><td style=\"white-space: nowrap; max-width: 500px; overflow: hidden; text-overflow: ellipsis; \">NA</td><td style=\"white-space: nowrap; max-width: 500px; overflow: hidden; text-overflow: ellipsis; \">NA</td><td style=\"white-space: nowrap; max-width: 500px; overflow: hidden; text-overflow: ellipsis; \">[24]</td><td style=\"white-space: nowrap; max-width: 500px; overflow: hidden; text-overflow: ellipsis; \">[3.75e-03]</td><td style=\"white-space: nowrap; max-width: 500px; overflow: hidden; text-overflow: ellipsis; \">6.00e+01</td><td style=\"white-space: nowrap; max-width: 500px; overflow: hidden; text-overflow: ellipsis; \">0</td><td style=\"white-space: nowrap; max-width: 500px; overflow: hidden; text-overflow: ellipsis; \">2.17e-01</td><td style=\"white-space: nowrap; max-width: 500px; overflow: hidden; text-overflow: ellipsis; \">False</td><td style=\"white-space: nowrap; max-width: 500px; overflow: hidden; text-overflow: ellipsis; \">False</td><td style=\"white-space: nowrap; max-width: 500px; overflow: hidden; text-overflow: ellipsis; \">1.32e+01</td><td style=\"white-space: nowrap; max-width: 500px; overflow: hidden; text-overflow: ellipsis; \">NA</td><td style=\"white-space: nowrap; max-width: 500px; overflow: hidden; text-overflow: ellipsis; \">8.92e-01</td><td style=\"white-space: nowrap; max-width: 500px; overflow: hidden; text-overflow: ellipsis; \">8.62e-01</td><td style=\"white-space: nowrap; max-width: 500px; overflow: hidden; text-overflow: ellipsis; \">1.16e+01</td><td style=\"white-space: nowrap; max-width: 500px; overflow: hidden; text-overflow: ellipsis; \">NA</td><td style=\"white-space: nowrap; max-width: 500px; overflow: hidden; text-overflow: ellipsis; \">&quot;MQ&quot;</td><td style=\"white-space: nowrap; max-width: 500px; overflow: hidden; text-overflow: ellipsis; \">1266</td><td style=\"white-space: nowrap; max-width: 500px; overflow: hidden; text-overflow: ellipsis; \">1170</td><td style=\"white-space: nowrap; max-width: 500px; overflow: hidden; text-overflow: ellipsis; \">980</td><td style=\"white-space: nowrap; max-width: 500px; overflow: hidden; text-overflow: ellipsis; \">1202</td><td style=\"white-space: nowrap; max-width: 500px; overflow: hidden; text-overflow: ellipsis; \">1786</td><td style=\"white-space: nowrap; max-width: 500px; overflow: hidden; text-overflow: ellipsis; \">[0]</td><td style=\"white-space: nowrap; max-width: 500px; overflow: hidden; text-overflow: ellipsis; \">[0]</td><td style=\"white-space: nowrap; max-width: 500px; overflow: hidden; text-overflow: ellipsis; \">[4]</td><td style=\"white-space: nowrap; max-width: 500px; overflow: hidden; text-overflow: ellipsis; \">[0]</td><td style=\"white-space: nowrap; max-width: 500px; overflow: hidden; text-overflow: ellipsis; \">[20]</td><td style=\"white-space: nowrap; max-width: 500px; overflow: hidden; text-overflow: ellipsis; \">[0]</td><td style=\"white-space: nowrap; max-width: 500px; overflow: hidden; text-overflow: ellipsis; \">[0]</td><td style=\"white-space: nowrap; max-width: 500px; overflow: hidden; text-overflow: ellipsis; \">[0]</td><td style=\"white-space: nowrap; max-width: 500px; overflow: hidden; text-overflow: ellipsis; \">[0]</td><td style=\"white-space: nowrap; max-width: 500px; overflow: hidden; text-overflow: ellipsis; \">[0]</td><td style=\"white-space: nowrap; max-width: 500px; overflow: hidden; text-overflow: ellipsis; \">[0]</td><td style=\"white-space: nowrap; max-width: 500px; overflow: hidden; text-overflow: ellipsis; \">[0]</td><td style=\"white-space: nowrap; max-width: 500px; overflow: hidden; text-overflow: ellipsis; \">[0]</td><td style=\"white-space: nowrap; max-width: 500px; overflow: hidden; text-overflow: ellipsis; \">[4]</td><td style=\"white-space: nowrap; max-width: 500px; overflow: hidden; text-overflow: ellipsis; \">[0]</td><td style=\"white-space: nowrap; max-width: 500px; overflow: hidden; text-overflow: ellipsis; \">[20]</td><td style=\"white-space: nowrap; max-width: 500px; overflow: hidden; text-overflow: ellipsis; \">[24]</td><td style=\"white-space: nowrap; max-width: 500px; overflow: hidden; text-overflow: ellipsis; \">[0.00e+00]</td><td style=\"white-space: nowrap; max-width: 500px; overflow: hidden; text-overflow: ellipsis; \">[0.00e+00]</td><td style=\"white-space: nowrap; max-width: 500px; overflow: hidden; text-overflow: ellipsis; \">[4.08e-03]</td><td style=\"white-space: nowrap; max-width: 500px; overflow: hidden; text-overflow: ellipsis; \">[0.00e+00]</td><td style=\"white-space: nowrap; max-width: 500px; overflow: hidden; text-overflow: ellipsis; \">[1.12e-02]</td><td style=\"white-space: nowrap; max-width: 500px; overflow: hidden; text-overflow: ellipsis; \">[1.00e+00]</td><td style=\"white-space: nowrap; max-width: 500px; overflow: hidden; text-overflow: ellipsis; \">[1.00e+00]</td><td style=\"white-space: nowrap; max-width: 500px; overflow: hidden; text-overflow: ellipsis; \">[1.00e+00]</td><td style=\"white-space: nowrap; max-width: 500px; overflow: hidden; text-overflow: ellipsis; \">[1.00e+00]</td><td style=\"white-space: nowrap; max-width: 500px; overflow: hidden; text-overflow: ellipsis; \">[1.00e+00]</td><td style=\"white-space: nowrap; max-width: 500px; overflow: hidden; text-overflow: ellipsis; \">[1.00e+00]</td><td style=\"white-space: nowrap; max-width: 500px; overflow: hidden; text-overflow: ellipsis; \">[1.00e+00]</td><td style=\"white-space: nowrap; max-width: 500px; overflow: hidden; text-overflow: ellipsis; \">[1.00e+00]</td><td style=\"white-space: nowrap; max-width: 500px; overflow: hidden; text-overflow: ellipsis; \">[9.94e-01]</td><td style=\"white-space: nowrap; max-width: 500px; overflow: hidden; text-overflow: ellipsis; \">[1.00e+00]</td><td style=\"white-space: nowrap; max-width: 500px; overflow: hidden; text-overflow: ellipsis; \">[8.98e-01]</td><td style=\"white-space: nowrap; max-width: 500px; overflow: hidden; text-overflow: ellipsis; \">[9.58e-01]</td><td style=\"white-space: nowrap; max-width: 500px; overflow: hidden; text-overflow: ellipsis; \">[0.00e+00]</td><td style=\"white-space: nowrap; max-width: 500px; overflow: hidden; text-overflow: ellipsis; \">1006</td><td style=\"white-space: nowrap; max-width: 500px; overflow: hidden; text-overflow: ellipsis; \">1008</td><td style=\"white-space: nowrap; max-width: 500px; overflow: hidden; text-overflow: ellipsis; \">694</td><td style=\"white-space: nowrap; max-width: 500px; overflow: hidden; text-overflow: ellipsis; \">978</td><td style=\"white-space: nowrap; max-width: 500px; overflow: hidden; text-overflow: ellipsis; \">1322</td><td style=\"white-space: nowrap; max-width: 500px; overflow: hidden; text-overflow: ellipsis; \">[0]</td><td style=\"white-space: nowrap; max-width: 500px; overflow: hidden; text-overflow: ellipsis; \">[0]</td><td style=\"white-space: nowrap; max-width: 500px; overflow: hidden; text-overflow: ellipsis; \">[2]</td><td style=\"white-space: nowrap; max-width: 500px; overflow: hidden; text-overflow: ellipsis; \">[0]</td><td style=\"white-space: nowrap; max-width: 500px; overflow: hidden; text-overflow: ellipsis; \">[16]</td><td style=\"white-space: nowrap; max-width: 500px; overflow: hidden; text-overflow: ellipsis; \">[0]</td><td style=\"white-space: nowrap; max-width: 500px; overflow: hidden; text-overflow: ellipsis; \">[0]</td><td style=\"white-space: nowrap; max-width: 500px; overflow: hidden; text-overflow: ellipsis; \">[0]</td><td style=\"white-space: nowrap; max-width: 500px; overflow: hidden; text-overflow: ellipsis; \">[0]</td><td style=\"white-space: nowrap; max-width: 500px; overflow: hidden; text-overflow: ellipsis; \">[0]</td><td style=\"white-space: nowrap; max-width: 500px; overflow: hidden; text-overflow: ellipsis; \">[0]</td><td style=\"white-space: nowrap; max-width: 500px; overflow: hidden; text-overflow: ellipsis; \">[0]</td><td style=\"white-space: nowrap; max-width: 500px; overflow: hidden; text-overflow: ellipsis; \">[2]</td><td style=\"white-space: nowrap; max-width: 500px; overflow: hidden; text-overflow: ellipsis; \">[0]</td><td style=\"white-space: nowrap; max-width: 500px; overflow: hidden; text-overflow: ellipsis; \">[16]</td><td style=\"white-space: nowrap; max-width: 500px; overflow: hidden; text-overflow: ellipsis; \">[0.00e+00]</td><td style=\"white-space: nowrap; max-width: 500px; overflow: hidden; text-overflow: ellipsis; \">[0.00e+00]</td><td style=\"white-space: nowrap; max-width: 500px; overflow: hidden; text-overflow: ellipsis; \">[2.88e-03]</td><td style=\"white-space: nowrap; max-width: 500px; overflow: hidden; text-overflow: ellipsis; \">[0.00e+00]</td><td style=\"white-space: nowrap; max-width: 500px; overflow: hidden; text-overflow: ellipsis; \">[1.21e-02]</td><td style=\"white-space: nowrap; max-width: 500px; overflow: hidden; text-overflow: ellipsis; \">NA</td><td style=\"white-space: nowrap; max-width: 500px; overflow: hidden; text-overflow: ellipsis; \">NA</td><td style=\"white-space: nowrap; max-width: 500px; overflow: hidden; text-overflow: ellipsis; \">NA</td><td style=\"white-space: nowrap; max-width: 500px; overflow: hidden; text-overflow: ellipsis; \">NA</td><td style=\"white-space: nowrap; max-width: 500px; overflow: hidden; text-overflow: ellipsis; \">NA</td><td style=\"white-space: nowrap; max-width: 500px; overflow: hidden; text-overflow: ellipsis; \">[&quot;C|upstream_gene_variant|MODIFIER|SELENOO|ENSG00000073169|Transcript|ENST00000380903|protein_coding|||||||||||3911|1||HGNC|HGNC:30395&quot;]</td><td style=\"white-space: nowrap; max-width: 500px; overflow: hidden; text-overflow: ellipsis; \">&quot;HG00100&quot;</td><td style=\"white-space: nowrap; max-width: 500px; overflow: hidden; text-overflow: ellipsis; \">NA</td><td style=\"white-space: nowrap; max-width: 500px; overflow: hidden; text-overflow: ellipsis; \">[38,0]</td><td style=\"white-space: nowrap; max-width: 500px; overflow: hidden; text-overflow: ellipsis; \">38</td><td style=\"white-space: nowrap; max-width: 500px; overflow: hidden; text-overflow: ellipsis; \">99</td><td style=\"white-space: nowrap; max-width: 500px; overflow: hidden; text-overflow: ellipsis; \">0/0</td><td style=\"white-space: nowrap; max-width: 500px; overflow: hidden; text-overflow: ellipsis; \">NA</td><td style=\"white-space: nowrap; max-width: 500px; overflow: hidden; text-overflow: ellipsis; \">NA</td><td style=\"white-space: nowrap; max-width: 500px; overflow: hidden; text-overflow: ellipsis; \">NA</td><td style=\"white-space: nowrap; max-width: 500px; overflow: hidden; text-overflow: ellipsis; \">NA</td><td style=\"white-space: nowrap; max-width: 500px; overflow: hidden; text-overflow: ellipsis; \">[0,99,1371]</td><td style=\"white-space: nowrap; max-width: 500px; overflow: hidden; text-overflow: ellipsis; \">NA</td><td style=\"white-space: nowrap; max-width: 500px; overflow: hidden; text-overflow: ellipsis; \">NA</td></tr>\n",
       "<tr><td style=\"white-space: nowrap; max-width: 500px; overflow: hidden; text-overflow: ellipsis; \">chr22:50197100</td><td style=\"white-space: nowrap; max-width: 500px; overflow: hidden; text-overflow: ellipsis; \">[&quot;T&quot;,&quot;C&quot;]</td><td style=\"white-space: nowrap; max-width: 500px; overflow: hidden; text-overflow: ellipsis; \">NA</td><td style=\"white-space: nowrap; max-width: 500px; overflow: hidden; text-overflow: ellipsis; \">1.40e+04</td><td style=\"white-space: nowrap; max-width: 500px; overflow: hidden; text-overflow: ellipsis; \">{}</td><td style=\"white-space: nowrap; max-width: 500px; overflow: hidden; text-overflow: ellipsis; \">[24]</td><td style=\"white-space: nowrap; max-width: 500px; overflow: hidden; text-overflow: ellipsis; \">[3.75e-03]</td><td style=\"white-space: nowrap; max-width: 500px; overflow: hidden; text-overflow: ellipsis; \">6404</td><td style=\"white-space: nowrap; max-width: 500px; overflow: hidden; text-overflow: ellipsis; \">3.64e-01</td><td style=\"white-space: nowrap; max-width: 500px; overflow: hidden; text-overflow: ellipsis; \">7.92e-01</td><td style=\"white-space: nowrap; max-width: 500px; overflow: hidden; text-overflow: ellipsis; \">121389</td><td style=\"white-space: nowrap; max-width: 500px; overflow: hidden; text-overflow: ellipsis; \">False</td><td style=\"white-space: nowrap; max-width: 500px; overflow: hidden; text-overflow: ellipsis; \">NA</td><td style=\"white-space: nowrap; max-width: 500px; overflow: hidden; text-overflow: ellipsis; \">2.44e+00</td><td style=\"white-space: nowrap; max-width: 500px; overflow: hidden; text-overflow: ellipsis; \">NA</td><td style=\"white-space: nowrap; max-width: 500px; overflow: hidden; text-overflow: ellipsis; \">NA</td><td style=\"white-space: nowrap; max-width: 500px; overflow: hidden; text-overflow: ellipsis; \">[24]</td><td style=\"white-space: nowrap; max-width: 500px; overflow: hidden; text-overflow: ellipsis; \">[3.75e-03]</td><td style=\"white-space: nowrap; max-width: 500px; overflow: hidden; text-overflow: ellipsis; \">6.00e+01</td><td style=\"white-space: nowrap; max-width: 500px; overflow: hidden; text-overflow: ellipsis; \">0</td><td style=\"white-space: nowrap; max-width: 500px; overflow: hidden; text-overflow: ellipsis; \">2.17e-01</td><td style=\"white-space: nowrap; max-width: 500px; overflow: hidden; text-overflow: ellipsis; \">False</td><td style=\"white-space: nowrap; max-width: 500px; overflow: hidden; text-overflow: ellipsis; \">False</td><td style=\"white-space: nowrap; max-width: 500px; overflow: hidden; text-overflow: ellipsis; \">1.32e+01</td><td style=\"white-space: nowrap; max-width: 500px; overflow: hidden; text-overflow: ellipsis; \">NA</td><td style=\"white-space: nowrap; max-width: 500px; overflow: hidden; text-overflow: ellipsis; \">8.92e-01</td><td style=\"white-space: nowrap; max-width: 500px; overflow: hidden; text-overflow: ellipsis; \">8.62e-01</td><td style=\"white-space: nowrap; max-width: 500px; overflow: hidden; text-overflow: ellipsis; \">1.16e+01</td><td style=\"white-space: nowrap; max-width: 500px; overflow: hidden; text-overflow: ellipsis; \">NA</td><td style=\"white-space: nowrap; max-width: 500px; overflow: hidden; text-overflow: ellipsis; \">&quot;MQ&quot;</td><td style=\"white-space: nowrap; max-width: 500px; overflow: hidden; text-overflow: ellipsis; \">1266</td><td style=\"white-space: nowrap; max-width: 500px; overflow: hidden; text-overflow: ellipsis; \">1170</td><td style=\"white-space: nowrap; max-width: 500px; overflow: hidden; text-overflow: ellipsis; \">980</td><td style=\"white-space: nowrap; max-width: 500px; overflow: hidden; text-overflow: ellipsis; \">1202</td><td style=\"white-space: nowrap; max-width: 500px; overflow: hidden; text-overflow: ellipsis; \">1786</td><td style=\"white-space: nowrap; max-width: 500px; overflow: hidden; text-overflow: ellipsis; \">[0]</td><td style=\"white-space: nowrap; max-width: 500px; overflow: hidden; text-overflow: ellipsis; \">[0]</td><td style=\"white-space: nowrap; max-width: 500px; overflow: hidden; text-overflow: ellipsis; \">[4]</td><td style=\"white-space: nowrap; max-width: 500px; overflow: hidden; text-overflow: ellipsis; \">[0]</td><td style=\"white-space: nowrap; max-width: 500px; overflow: hidden; text-overflow: ellipsis; \">[20]</td><td style=\"white-space: nowrap; max-width: 500px; overflow: hidden; text-overflow: ellipsis; \">[0]</td><td style=\"white-space: nowrap; max-width: 500px; overflow: hidden; text-overflow: ellipsis; \">[0]</td><td style=\"white-space: nowrap; max-width: 500px; overflow: hidden; text-overflow: ellipsis; \">[0]</td><td style=\"white-space: nowrap; max-width: 500px; overflow: hidden; text-overflow: ellipsis; \">[0]</td><td style=\"white-space: nowrap; max-width: 500px; overflow: hidden; text-overflow: ellipsis; \">[0]</td><td style=\"white-space: nowrap; max-width: 500px; overflow: hidden; text-overflow: ellipsis; \">[0]</td><td style=\"white-space: nowrap; max-width: 500px; overflow: hidden; text-overflow: ellipsis; \">[0]</td><td style=\"white-space: nowrap; max-width: 500px; overflow: hidden; text-overflow: ellipsis; \">[0]</td><td style=\"white-space: nowrap; max-width: 500px; overflow: hidden; text-overflow: ellipsis; \">[4]</td><td style=\"white-space: nowrap; max-width: 500px; overflow: hidden; text-overflow: ellipsis; \">[0]</td><td style=\"white-space: nowrap; max-width: 500px; overflow: hidden; text-overflow: ellipsis; \">[20]</td><td style=\"white-space: nowrap; max-width: 500px; overflow: hidden; text-overflow: ellipsis; \">[24]</td><td style=\"white-space: nowrap; max-width: 500px; overflow: hidden; text-overflow: ellipsis; \">[0.00e+00]</td><td style=\"white-space: nowrap; max-width: 500px; overflow: hidden; text-overflow: ellipsis; \">[0.00e+00]</td><td style=\"white-space: nowrap; max-width: 500px; overflow: hidden; text-overflow: ellipsis; \">[4.08e-03]</td><td style=\"white-space: nowrap; max-width: 500px; overflow: hidden; text-overflow: ellipsis; \">[0.00e+00]</td><td style=\"white-space: nowrap; max-width: 500px; overflow: hidden; text-overflow: ellipsis; \">[1.12e-02]</td><td style=\"white-space: nowrap; max-width: 500px; overflow: hidden; text-overflow: ellipsis; \">[1.00e+00]</td><td style=\"white-space: nowrap; max-width: 500px; overflow: hidden; text-overflow: ellipsis; \">[1.00e+00]</td><td style=\"white-space: nowrap; max-width: 500px; overflow: hidden; text-overflow: ellipsis; \">[1.00e+00]</td><td style=\"white-space: nowrap; max-width: 500px; overflow: hidden; text-overflow: ellipsis; \">[1.00e+00]</td><td style=\"white-space: nowrap; max-width: 500px; overflow: hidden; text-overflow: ellipsis; \">[1.00e+00]</td><td style=\"white-space: nowrap; max-width: 500px; overflow: hidden; text-overflow: ellipsis; \">[1.00e+00]</td><td style=\"white-space: nowrap; max-width: 500px; overflow: hidden; text-overflow: ellipsis; \">[1.00e+00]</td><td style=\"white-space: nowrap; max-width: 500px; overflow: hidden; text-overflow: ellipsis; \">[1.00e+00]</td><td style=\"white-space: nowrap; max-width: 500px; overflow: hidden; text-overflow: ellipsis; \">[9.94e-01]</td><td style=\"white-space: nowrap; max-width: 500px; overflow: hidden; text-overflow: ellipsis; \">[1.00e+00]</td><td style=\"white-space: nowrap; max-width: 500px; overflow: hidden; text-overflow: ellipsis; \">[8.98e-01]</td><td style=\"white-space: nowrap; max-width: 500px; overflow: hidden; text-overflow: ellipsis; \">[9.58e-01]</td><td style=\"white-space: nowrap; max-width: 500px; overflow: hidden; text-overflow: ellipsis; \">[0.00e+00]</td><td style=\"white-space: nowrap; max-width: 500px; overflow: hidden; text-overflow: ellipsis; \">1006</td><td style=\"white-space: nowrap; max-width: 500px; overflow: hidden; text-overflow: ellipsis; \">1008</td><td style=\"white-space: nowrap; max-width: 500px; overflow: hidden; text-overflow: ellipsis; \">694</td><td style=\"white-space: nowrap; max-width: 500px; overflow: hidden; text-overflow: ellipsis; \">978</td><td style=\"white-space: nowrap; max-width: 500px; overflow: hidden; text-overflow: ellipsis; \">1322</td><td style=\"white-space: nowrap; max-width: 500px; overflow: hidden; text-overflow: ellipsis; \">[0]</td><td style=\"white-space: nowrap; max-width: 500px; overflow: hidden; text-overflow: ellipsis; \">[0]</td><td style=\"white-space: nowrap; max-width: 500px; overflow: hidden; text-overflow: ellipsis; \">[2]</td><td style=\"white-space: nowrap; max-width: 500px; overflow: hidden; text-overflow: ellipsis; \">[0]</td><td style=\"white-space: nowrap; max-width: 500px; overflow: hidden; text-overflow: ellipsis; \">[16]</td><td style=\"white-space: nowrap; max-width: 500px; overflow: hidden; text-overflow: ellipsis; \">[0]</td><td style=\"white-space: nowrap; max-width: 500px; overflow: hidden; text-overflow: ellipsis; \">[0]</td><td style=\"white-space: nowrap; max-width: 500px; overflow: hidden; text-overflow: ellipsis; \">[0]</td><td style=\"white-space: nowrap; max-width: 500px; overflow: hidden; text-overflow: ellipsis; \">[0]</td><td style=\"white-space: nowrap; max-width: 500px; overflow: hidden; text-overflow: ellipsis; \">[0]</td><td style=\"white-space: nowrap; max-width: 500px; overflow: hidden; text-overflow: ellipsis; \">[0]</td><td style=\"white-space: nowrap; max-width: 500px; overflow: hidden; text-overflow: ellipsis; \">[0]</td><td style=\"white-space: nowrap; max-width: 500px; overflow: hidden; text-overflow: ellipsis; \">[2]</td><td style=\"white-space: nowrap; max-width: 500px; overflow: hidden; text-overflow: ellipsis; \">[0]</td><td style=\"white-space: nowrap; max-width: 500px; overflow: hidden; text-overflow: ellipsis; \">[16]</td><td style=\"white-space: nowrap; max-width: 500px; overflow: hidden; text-overflow: ellipsis; \">[0.00e+00]</td><td style=\"white-space: nowrap; max-width: 500px; overflow: hidden; text-overflow: ellipsis; \">[0.00e+00]</td><td style=\"white-space: nowrap; max-width: 500px; overflow: hidden; text-overflow: ellipsis; \">[2.88e-03]</td><td style=\"white-space: nowrap; max-width: 500px; overflow: hidden; text-overflow: ellipsis; \">[0.00e+00]</td><td style=\"white-space: nowrap; max-width: 500px; overflow: hidden; text-overflow: ellipsis; \">[1.21e-02]</td><td style=\"white-space: nowrap; max-width: 500px; overflow: hidden; text-overflow: ellipsis; \">NA</td><td style=\"white-space: nowrap; max-width: 500px; overflow: hidden; text-overflow: ellipsis; \">NA</td><td style=\"white-space: nowrap; max-width: 500px; overflow: hidden; text-overflow: ellipsis; \">NA</td><td style=\"white-space: nowrap; max-width: 500px; overflow: hidden; text-overflow: ellipsis; \">NA</td><td style=\"white-space: nowrap; max-width: 500px; overflow: hidden; text-overflow: ellipsis; \">NA</td><td style=\"white-space: nowrap; max-width: 500px; overflow: hidden; text-overflow: ellipsis; \">[&quot;C|upstream_gene_variant|MODIFIER|SELENOO|ENSG00000073169|Transcript|ENST00000380903|protein_coding|||||||||||3911|1||HGNC|HGNC:30395&quot;]</td><td style=\"white-space: nowrap; max-width: 500px; overflow: hidden; text-overflow: ellipsis; \">&quot;HG00101&quot;</td><td style=\"white-space: nowrap; max-width: 500px; overflow: hidden; text-overflow: ellipsis; \">NA</td><td style=\"white-space: nowrap; max-width: 500px; overflow: hidden; text-overflow: ellipsis; \">[39,0]</td><td style=\"white-space: nowrap; max-width: 500px; overflow: hidden; text-overflow: ellipsis; \">39</td><td style=\"white-space: nowrap; max-width: 500px; overflow: hidden; text-overflow: ellipsis; \">99</td><td style=\"white-space: nowrap; max-width: 500px; overflow: hidden; text-overflow: ellipsis; \">0/0</td><td style=\"white-space: nowrap; max-width: 500px; overflow: hidden; text-overflow: ellipsis; \">NA</td><td style=\"white-space: nowrap; max-width: 500px; overflow: hidden; text-overflow: ellipsis; \">NA</td><td style=\"white-space: nowrap; max-width: 500px; overflow: hidden; text-overflow: ellipsis; \">NA</td><td style=\"white-space: nowrap; max-width: 500px; overflow: hidden; text-overflow: ellipsis; \">NA</td><td style=\"white-space: nowrap; max-width: 500px; overflow: hidden; text-overflow: ellipsis; \">[0,100,1356]</td><td style=\"white-space: nowrap; max-width: 500px; overflow: hidden; text-overflow: ellipsis; \">NA</td><td style=\"white-space: nowrap; max-width: 500px; overflow: hidden; text-overflow: ellipsis; \">NA</td></tr>\n",
       "<tr><td style=\"white-space: nowrap; max-width: 500px; overflow: hidden; text-overflow: ellipsis; \">chr22:50197100</td><td style=\"white-space: nowrap; max-width: 500px; overflow: hidden; text-overflow: ellipsis; \">[&quot;T&quot;,&quot;C&quot;]</td><td style=\"white-space: nowrap; max-width: 500px; overflow: hidden; text-overflow: ellipsis; \">NA</td><td style=\"white-space: nowrap; max-width: 500px; overflow: hidden; text-overflow: ellipsis; \">1.40e+04</td><td style=\"white-space: nowrap; max-width: 500px; overflow: hidden; text-overflow: ellipsis; \">{}</td><td style=\"white-space: nowrap; max-width: 500px; overflow: hidden; text-overflow: ellipsis; \">[24]</td><td style=\"white-space: nowrap; max-width: 500px; overflow: hidden; text-overflow: ellipsis; \">[3.75e-03]</td><td style=\"white-space: nowrap; max-width: 500px; overflow: hidden; text-overflow: ellipsis; \">6404</td><td style=\"white-space: nowrap; max-width: 500px; overflow: hidden; text-overflow: ellipsis; \">3.64e-01</td><td style=\"white-space: nowrap; max-width: 500px; overflow: hidden; text-overflow: ellipsis; \">7.92e-01</td><td style=\"white-space: nowrap; max-width: 500px; overflow: hidden; text-overflow: ellipsis; \">121389</td><td style=\"white-space: nowrap; max-width: 500px; overflow: hidden; text-overflow: ellipsis; \">False</td><td style=\"white-space: nowrap; max-width: 500px; overflow: hidden; text-overflow: ellipsis; \">NA</td><td style=\"white-space: nowrap; max-width: 500px; overflow: hidden; text-overflow: ellipsis; \">2.44e+00</td><td style=\"white-space: nowrap; max-width: 500px; overflow: hidden; text-overflow: ellipsis; \">NA</td><td style=\"white-space: nowrap; max-width: 500px; overflow: hidden; text-overflow: ellipsis; \">NA</td><td style=\"white-space: nowrap; max-width: 500px; overflow: hidden; text-overflow: ellipsis; \">[24]</td><td style=\"white-space: nowrap; max-width: 500px; overflow: hidden; text-overflow: ellipsis; \">[3.75e-03]</td><td style=\"white-space: nowrap; max-width: 500px; overflow: hidden; text-overflow: ellipsis; \">6.00e+01</td><td style=\"white-space: nowrap; max-width: 500px; overflow: hidden; text-overflow: ellipsis; \">0</td><td style=\"white-space: nowrap; max-width: 500px; overflow: hidden; text-overflow: ellipsis; \">2.17e-01</td><td style=\"white-space: nowrap; max-width: 500px; overflow: hidden; text-overflow: ellipsis; \">False</td><td style=\"white-space: nowrap; max-width: 500px; overflow: hidden; text-overflow: ellipsis; \">False</td><td style=\"white-space: nowrap; max-width: 500px; overflow: hidden; text-overflow: ellipsis; \">1.32e+01</td><td style=\"white-space: nowrap; max-width: 500px; overflow: hidden; text-overflow: ellipsis; \">NA</td><td style=\"white-space: nowrap; max-width: 500px; overflow: hidden; text-overflow: ellipsis; \">8.92e-01</td><td style=\"white-space: nowrap; max-width: 500px; overflow: hidden; text-overflow: ellipsis; \">8.62e-01</td><td style=\"white-space: nowrap; max-width: 500px; overflow: hidden; text-overflow: ellipsis; \">1.16e+01</td><td style=\"white-space: nowrap; max-width: 500px; overflow: hidden; text-overflow: ellipsis; \">NA</td><td style=\"white-space: nowrap; max-width: 500px; overflow: hidden; text-overflow: ellipsis; \">&quot;MQ&quot;</td><td style=\"white-space: nowrap; max-width: 500px; overflow: hidden; text-overflow: ellipsis; \">1266</td><td style=\"white-space: nowrap; max-width: 500px; overflow: hidden; text-overflow: ellipsis; \">1170</td><td style=\"white-space: nowrap; max-width: 500px; overflow: hidden; text-overflow: ellipsis; \">980</td><td style=\"white-space: nowrap; max-width: 500px; overflow: hidden; text-overflow: ellipsis; \">1202</td><td style=\"white-space: nowrap; max-width: 500px; overflow: hidden; text-overflow: ellipsis; \">1786</td><td style=\"white-space: nowrap; max-width: 500px; overflow: hidden; text-overflow: ellipsis; \">[0]</td><td style=\"white-space: nowrap; max-width: 500px; overflow: hidden; text-overflow: ellipsis; \">[0]</td><td style=\"white-space: nowrap; max-width: 500px; overflow: hidden; text-overflow: ellipsis; \">[4]</td><td style=\"white-space: nowrap; max-width: 500px; overflow: hidden; text-overflow: ellipsis; \">[0]</td><td style=\"white-space: nowrap; max-width: 500px; overflow: hidden; text-overflow: ellipsis; \">[20]</td><td style=\"white-space: nowrap; max-width: 500px; overflow: hidden; text-overflow: ellipsis; \">[0]</td><td style=\"white-space: nowrap; max-width: 500px; overflow: hidden; text-overflow: ellipsis; \">[0]</td><td style=\"white-space: nowrap; max-width: 500px; overflow: hidden; text-overflow: ellipsis; \">[0]</td><td style=\"white-space: nowrap; max-width: 500px; overflow: hidden; text-overflow: ellipsis; \">[0]</td><td style=\"white-space: nowrap; max-width: 500px; overflow: hidden; text-overflow: ellipsis; \">[0]</td><td style=\"white-space: nowrap; max-width: 500px; overflow: hidden; text-overflow: ellipsis; \">[0]</td><td style=\"white-space: nowrap; max-width: 500px; overflow: hidden; text-overflow: ellipsis; \">[0]</td><td style=\"white-space: nowrap; max-width: 500px; overflow: hidden; text-overflow: ellipsis; \">[0]</td><td style=\"white-space: nowrap; max-width: 500px; overflow: hidden; text-overflow: ellipsis; \">[4]</td><td style=\"white-space: nowrap; max-width: 500px; overflow: hidden; text-overflow: ellipsis; \">[0]</td><td style=\"white-space: nowrap; max-width: 500px; overflow: hidden; text-overflow: ellipsis; \">[20]</td><td style=\"white-space: nowrap; max-width: 500px; overflow: hidden; text-overflow: ellipsis; \">[24]</td><td style=\"white-space: nowrap; max-width: 500px; overflow: hidden; text-overflow: ellipsis; \">[0.00e+00]</td><td style=\"white-space: nowrap; max-width: 500px; overflow: hidden; text-overflow: ellipsis; \">[0.00e+00]</td><td style=\"white-space: nowrap; max-width: 500px; overflow: hidden; text-overflow: ellipsis; \">[4.08e-03]</td><td style=\"white-space: nowrap; max-width: 500px; overflow: hidden; text-overflow: ellipsis; \">[0.00e+00]</td><td style=\"white-space: nowrap; max-width: 500px; overflow: hidden; text-overflow: ellipsis; \">[1.12e-02]</td><td style=\"white-space: nowrap; max-width: 500px; overflow: hidden; text-overflow: ellipsis; \">[1.00e+00]</td><td style=\"white-space: nowrap; max-width: 500px; overflow: hidden; text-overflow: ellipsis; \">[1.00e+00]</td><td style=\"white-space: nowrap; max-width: 500px; overflow: hidden; text-overflow: ellipsis; \">[1.00e+00]</td><td style=\"white-space: nowrap; max-width: 500px; overflow: hidden; text-overflow: ellipsis; \">[1.00e+00]</td><td style=\"white-space: nowrap; max-width: 500px; overflow: hidden; text-overflow: ellipsis; \">[1.00e+00]</td><td style=\"white-space: nowrap; max-width: 500px; overflow: hidden; text-overflow: ellipsis; \">[1.00e+00]</td><td style=\"white-space: nowrap; max-width: 500px; overflow: hidden; text-overflow: ellipsis; \">[1.00e+00]</td><td style=\"white-space: nowrap; max-width: 500px; overflow: hidden; text-overflow: ellipsis; \">[1.00e+00]</td><td style=\"white-space: nowrap; max-width: 500px; overflow: hidden; text-overflow: ellipsis; \">[9.94e-01]</td><td style=\"white-space: nowrap; max-width: 500px; overflow: hidden; text-overflow: ellipsis; \">[1.00e+00]</td><td style=\"white-space: nowrap; max-width: 500px; overflow: hidden; text-overflow: ellipsis; \">[8.98e-01]</td><td style=\"white-space: nowrap; max-width: 500px; overflow: hidden; text-overflow: ellipsis; \">[9.58e-01]</td><td style=\"white-space: nowrap; max-width: 500px; overflow: hidden; text-overflow: ellipsis; \">[0.00e+00]</td><td style=\"white-space: nowrap; max-width: 500px; overflow: hidden; text-overflow: ellipsis; \">1006</td><td style=\"white-space: nowrap; max-width: 500px; overflow: hidden; text-overflow: ellipsis; \">1008</td><td style=\"white-space: nowrap; max-width: 500px; overflow: hidden; text-overflow: ellipsis; \">694</td><td style=\"white-space: nowrap; max-width: 500px; overflow: hidden; text-overflow: ellipsis; \">978</td><td style=\"white-space: nowrap; max-width: 500px; overflow: hidden; text-overflow: ellipsis; \">1322</td><td style=\"white-space: nowrap; max-width: 500px; overflow: hidden; text-overflow: ellipsis; \">[0]</td><td style=\"white-space: nowrap; max-width: 500px; overflow: hidden; text-overflow: ellipsis; \">[0]</td><td style=\"white-space: nowrap; max-width: 500px; overflow: hidden; text-overflow: ellipsis; \">[2]</td><td style=\"white-space: nowrap; max-width: 500px; overflow: hidden; text-overflow: ellipsis; \">[0]</td><td style=\"white-space: nowrap; max-width: 500px; overflow: hidden; text-overflow: ellipsis; \">[16]</td><td style=\"white-space: nowrap; max-width: 500px; overflow: hidden; text-overflow: ellipsis; \">[0]</td><td style=\"white-space: nowrap; max-width: 500px; overflow: hidden; text-overflow: ellipsis; \">[0]</td><td style=\"white-space: nowrap; max-width: 500px; overflow: hidden; text-overflow: ellipsis; \">[0]</td><td style=\"white-space: nowrap; max-width: 500px; overflow: hidden; text-overflow: ellipsis; \">[0]</td><td style=\"white-space: nowrap; max-width: 500px; overflow: hidden; text-overflow: ellipsis; \">[0]</td><td style=\"white-space: nowrap; max-width: 500px; overflow: hidden; text-overflow: ellipsis; \">[0]</td><td style=\"white-space: nowrap; max-width: 500px; overflow: hidden; text-overflow: ellipsis; \">[0]</td><td style=\"white-space: nowrap; max-width: 500px; overflow: hidden; text-overflow: ellipsis; \">[2]</td><td style=\"white-space: nowrap; max-width: 500px; overflow: hidden; text-overflow: ellipsis; \">[0]</td><td style=\"white-space: nowrap; max-width: 500px; overflow: hidden; text-overflow: ellipsis; \">[16]</td><td style=\"white-space: nowrap; max-width: 500px; overflow: hidden; text-overflow: ellipsis; \">[0.00e+00]</td><td style=\"white-space: nowrap; max-width: 500px; overflow: hidden; text-overflow: ellipsis; \">[0.00e+00]</td><td style=\"white-space: nowrap; max-width: 500px; overflow: hidden; text-overflow: ellipsis; \">[2.88e-03]</td><td style=\"white-space: nowrap; max-width: 500px; overflow: hidden; text-overflow: ellipsis; \">[0.00e+00]</td><td style=\"white-space: nowrap; max-width: 500px; overflow: hidden; text-overflow: ellipsis; \">[1.21e-02]</td><td style=\"white-space: nowrap; max-width: 500px; overflow: hidden; text-overflow: ellipsis; \">NA</td><td style=\"white-space: nowrap; max-width: 500px; overflow: hidden; text-overflow: ellipsis; \">NA</td><td style=\"white-space: nowrap; max-width: 500px; overflow: hidden; text-overflow: ellipsis; \">NA</td><td style=\"white-space: nowrap; max-width: 500px; overflow: hidden; text-overflow: ellipsis; \">NA</td><td style=\"white-space: nowrap; max-width: 500px; overflow: hidden; text-overflow: ellipsis; \">NA</td><td style=\"white-space: nowrap; max-width: 500px; overflow: hidden; text-overflow: ellipsis; \">[&quot;C|upstream_gene_variant|MODIFIER|SELENOO|ENSG00000073169|Transcript|ENST00000380903|protein_coding|||||||||||3911|1||HGNC|HGNC:30395&quot;]</td><td style=\"white-space: nowrap; max-width: 500px; overflow: hidden; text-overflow: ellipsis; \">&quot;HG00102&quot;</td><td style=\"white-space: nowrap; max-width: 500px; overflow: hidden; text-overflow: ellipsis; \">NA</td><td style=\"white-space: nowrap; max-width: 500px; overflow: hidden; text-overflow: ellipsis; \">[39,0]</td><td style=\"white-space: nowrap; max-width: 500px; overflow: hidden; text-overflow: ellipsis; \">39</td><td style=\"white-space: nowrap; max-width: 500px; overflow: hidden; text-overflow: ellipsis; \">99</td><td style=\"white-space: nowrap; max-width: 500px; overflow: hidden; text-overflow: ellipsis; \">0/0</td><td style=\"white-space: nowrap; max-width: 500px; overflow: hidden; text-overflow: ellipsis; \">NA</td><td style=\"white-space: nowrap; max-width: 500px; overflow: hidden; text-overflow: ellipsis; \">NA</td><td style=\"white-space: nowrap; max-width: 500px; overflow: hidden; text-overflow: ellipsis; \">NA</td><td style=\"white-space: nowrap; max-width: 500px; overflow: hidden; text-overflow: ellipsis; \">NA</td><td style=\"white-space: nowrap; max-width: 500px; overflow: hidden; text-overflow: ellipsis; \">[0,108,1391]</td><td style=\"white-space: nowrap; max-width: 500px; overflow: hidden; text-overflow: ellipsis; \">NA</td><td style=\"white-space: nowrap; max-width: 500px; overflow: hidden; text-overflow: ellipsis; \">NA</td></tr>\n",
       "<tr><td style=\"white-space: nowrap; max-width: 500px; overflow: hidden; text-overflow: ellipsis; \">chr22:50197100</td><td style=\"white-space: nowrap; max-width: 500px; overflow: hidden; text-overflow: ellipsis; \">[&quot;T&quot;,&quot;C&quot;]</td><td style=\"white-space: nowrap; max-width: 500px; overflow: hidden; text-overflow: ellipsis; \">NA</td><td style=\"white-space: nowrap; max-width: 500px; overflow: hidden; text-overflow: ellipsis; \">1.40e+04</td><td style=\"white-space: nowrap; max-width: 500px; overflow: hidden; text-overflow: ellipsis; \">{}</td><td style=\"white-space: nowrap; max-width: 500px; overflow: hidden; text-overflow: ellipsis; \">[24]</td><td style=\"white-space: nowrap; max-width: 500px; overflow: hidden; text-overflow: ellipsis; \">[3.75e-03]</td><td style=\"white-space: nowrap; max-width: 500px; overflow: hidden; text-overflow: ellipsis; \">6404</td><td style=\"white-space: nowrap; max-width: 500px; overflow: hidden; text-overflow: ellipsis; \">3.64e-01</td><td style=\"white-space: nowrap; max-width: 500px; overflow: hidden; text-overflow: ellipsis; \">7.92e-01</td><td style=\"white-space: nowrap; max-width: 500px; overflow: hidden; text-overflow: ellipsis; \">121389</td><td style=\"white-space: nowrap; max-width: 500px; overflow: hidden; text-overflow: ellipsis; \">False</td><td style=\"white-space: nowrap; max-width: 500px; overflow: hidden; text-overflow: ellipsis; \">NA</td><td style=\"white-space: nowrap; max-width: 500px; overflow: hidden; text-overflow: ellipsis; \">2.44e+00</td><td style=\"white-space: nowrap; max-width: 500px; overflow: hidden; text-overflow: ellipsis; \">NA</td><td style=\"white-space: nowrap; max-width: 500px; overflow: hidden; text-overflow: ellipsis; \">NA</td><td style=\"white-space: nowrap; max-width: 500px; overflow: hidden; text-overflow: ellipsis; \">[24]</td><td style=\"white-space: nowrap; max-width: 500px; overflow: hidden; text-overflow: ellipsis; \">[3.75e-03]</td><td style=\"white-space: nowrap; max-width: 500px; overflow: hidden; text-overflow: ellipsis; \">6.00e+01</td><td style=\"white-space: nowrap; max-width: 500px; overflow: hidden; text-overflow: ellipsis; \">0</td><td style=\"white-space: nowrap; max-width: 500px; overflow: hidden; text-overflow: ellipsis; \">2.17e-01</td><td style=\"white-space: nowrap; max-width: 500px; overflow: hidden; text-overflow: ellipsis; \">False</td><td style=\"white-space: nowrap; max-width: 500px; overflow: hidden; text-overflow: ellipsis; \">False</td><td style=\"white-space: nowrap; max-width: 500px; overflow: hidden; text-overflow: ellipsis; \">1.32e+01</td><td style=\"white-space: nowrap; max-width: 500px; overflow: hidden; text-overflow: ellipsis; \">NA</td><td style=\"white-space: nowrap; max-width: 500px; overflow: hidden; text-overflow: ellipsis; \">8.92e-01</td><td style=\"white-space: nowrap; max-width: 500px; overflow: hidden; text-overflow: ellipsis; \">8.62e-01</td><td style=\"white-space: nowrap; max-width: 500px; overflow: hidden; text-overflow: ellipsis; \">1.16e+01</td><td style=\"white-space: nowrap; max-width: 500px; overflow: hidden; text-overflow: ellipsis; \">NA</td><td style=\"white-space: nowrap; max-width: 500px; overflow: hidden; text-overflow: ellipsis; \">&quot;MQ&quot;</td><td style=\"white-space: nowrap; max-width: 500px; overflow: hidden; text-overflow: ellipsis; \">1266</td><td style=\"white-space: nowrap; max-width: 500px; overflow: hidden; text-overflow: ellipsis; \">1170</td><td style=\"white-space: nowrap; max-width: 500px; overflow: hidden; text-overflow: ellipsis; \">980</td><td style=\"white-space: nowrap; max-width: 500px; overflow: hidden; text-overflow: ellipsis; \">1202</td><td style=\"white-space: nowrap; max-width: 500px; overflow: hidden; text-overflow: ellipsis; \">1786</td><td style=\"white-space: nowrap; max-width: 500px; overflow: hidden; text-overflow: ellipsis; \">[0]</td><td style=\"white-space: nowrap; max-width: 500px; overflow: hidden; text-overflow: ellipsis; \">[0]</td><td style=\"white-space: nowrap; max-width: 500px; overflow: hidden; text-overflow: ellipsis; \">[4]</td><td style=\"white-space: nowrap; max-width: 500px; overflow: hidden; text-overflow: ellipsis; \">[0]</td><td style=\"white-space: nowrap; max-width: 500px; overflow: hidden; text-overflow: ellipsis; \">[20]</td><td style=\"white-space: nowrap; max-width: 500px; overflow: hidden; text-overflow: ellipsis; \">[0]</td><td style=\"white-space: nowrap; max-width: 500px; overflow: hidden; text-overflow: ellipsis; \">[0]</td><td style=\"white-space: nowrap; max-width: 500px; overflow: hidden; text-overflow: ellipsis; \">[0]</td><td style=\"white-space: nowrap; max-width: 500px; overflow: hidden; text-overflow: ellipsis; \">[0]</td><td style=\"white-space: nowrap; max-width: 500px; overflow: hidden; text-overflow: ellipsis; \">[0]</td><td style=\"white-space: nowrap; max-width: 500px; overflow: hidden; text-overflow: ellipsis; \">[0]</td><td style=\"white-space: nowrap; max-width: 500px; overflow: hidden; text-overflow: ellipsis; \">[0]</td><td style=\"white-space: nowrap; max-width: 500px; overflow: hidden; text-overflow: ellipsis; \">[0]</td><td style=\"white-space: nowrap; max-width: 500px; overflow: hidden; text-overflow: ellipsis; \">[4]</td><td style=\"white-space: nowrap; max-width: 500px; overflow: hidden; text-overflow: ellipsis; \">[0]</td><td style=\"white-space: nowrap; max-width: 500px; overflow: hidden; text-overflow: ellipsis; \">[20]</td><td style=\"white-space: nowrap; max-width: 500px; overflow: hidden; text-overflow: ellipsis; \">[24]</td><td style=\"white-space: nowrap; max-width: 500px; overflow: hidden; text-overflow: ellipsis; \">[0.00e+00]</td><td style=\"white-space: nowrap; max-width: 500px; overflow: hidden; text-overflow: ellipsis; \">[0.00e+00]</td><td style=\"white-space: nowrap; max-width: 500px; overflow: hidden; text-overflow: ellipsis; \">[4.08e-03]</td><td style=\"white-space: nowrap; max-width: 500px; overflow: hidden; text-overflow: ellipsis; \">[0.00e+00]</td><td style=\"white-space: nowrap; max-width: 500px; overflow: hidden; text-overflow: ellipsis; \">[1.12e-02]</td><td style=\"white-space: nowrap; max-width: 500px; overflow: hidden; text-overflow: ellipsis; \">[1.00e+00]</td><td style=\"white-space: nowrap; max-width: 500px; overflow: hidden; text-overflow: ellipsis; \">[1.00e+00]</td><td style=\"white-space: nowrap; max-width: 500px; overflow: hidden; text-overflow: ellipsis; \">[1.00e+00]</td><td style=\"white-space: nowrap; max-width: 500px; overflow: hidden; text-overflow: ellipsis; \">[1.00e+00]</td><td style=\"white-space: nowrap; max-width: 500px; overflow: hidden; text-overflow: ellipsis; \">[1.00e+00]</td><td style=\"white-space: nowrap; max-width: 500px; overflow: hidden; text-overflow: ellipsis; \">[1.00e+00]</td><td style=\"white-space: nowrap; max-width: 500px; overflow: hidden; text-overflow: ellipsis; \">[1.00e+00]</td><td style=\"white-space: nowrap; max-width: 500px; overflow: hidden; text-overflow: ellipsis; \">[1.00e+00]</td><td style=\"white-space: nowrap; max-width: 500px; overflow: hidden; text-overflow: ellipsis; \">[9.94e-01]</td><td style=\"white-space: nowrap; max-width: 500px; overflow: hidden; text-overflow: ellipsis; \">[1.00e+00]</td><td style=\"white-space: nowrap; max-width: 500px; overflow: hidden; text-overflow: ellipsis; \">[8.98e-01]</td><td style=\"white-space: nowrap; max-width: 500px; overflow: hidden; text-overflow: ellipsis; \">[9.58e-01]</td><td style=\"white-space: nowrap; max-width: 500px; overflow: hidden; text-overflow: ellipsis; \">[0.00e+00]</td><td style=\"white-space: nowrap; max-width: 500px; overflow: hidden; text-overflow: ellipsis; \">1006</td><td style=\"white-space: nowrap; max-width: 500px; overflow: hidden; text-overflow: ellipsis; \">1008</td><td style=\"white-space: nowrap; max-width: 500px; overflow: hidden; text-overflow: ellipsis; \">694</td><td style=\"white-space: nowrap; max-width: 500px; overflow: hidden; text-overflow: ellipsis; \">978</td><td style=\"white-space: nowrap; max-width: 500px; overflow: hidden; text-overflow: ellipsis; \">1322</td><td style=\"white-space: nowrap; max-width: 500px; overflow: hidden; text-overflow: ellipsis; \">[0]</td><td style=\"white-space: nowrap; max-width: 500px; overflow: hidden; text-overflow: ellipsis; \">[0]</td><td style=\"white-space: nowrap; max-width: 500px; overflow: hidden; text-overflow: ellipsis; \">[2]</td><td style=\"white-space: nowrap; max-width: 500px; overflow: hidden; text-overflow: ellipsis; \">[0]</td><td style=\"white-space: nowrap; max-width: 500px; overflow: hidden; text-overflow: ellipsis; \">[16]</td><td style=\"white-space: nowrap; max-width: 500px; overflow: hidden; text-overflow: ellipsis; \">[0]</td><td style=\"white-space: nowrap; max-width: 500px; overflow: hidden; text-overflow: ellipsis; \">[0]</td><td style=\"white-space: nowrap; max-width: 500px; overflow: hidden; text-overflow: ellipsis; \">[0]</td><td style=\"white-space: nowrap; max-width: 500px; overflow: hidden; text-overflow: ellipsis; \">[0]</td><td style=\"white-space: nowrap; max-width: 500px; overflow: hidden; text-overflow: ellipsis; \">[0]</td><td style=\"white-space: nowrap; max-width: 500px; overflow: hidden; text-overflow: ellipsis; \">[0]</td><td style=\"white-space: nowrap; max-width: 500px; overflow: hidden; text-overflow: ellipsis; \">[0]</td><td style=\"white-space: nowrap; max-width: 500px; overflow: hidden; text-overflow: ellipsis; \">[2]</td><td style=\"white-space: nowrap; max-width: 500px; overflow: hidden; text-overflow: ellipsis; \">[0]</td><td style=\"white-space: nowrap; max-width: 500px; overflow: hidden; text-overflow: ellipsis; \">[16]</td><td style=\"white-space: nowrap; max-width: 500px; overflow: hidden; text-overflow: ellipsis; \">[0.00e+00]</td><td style=\"white-space: nowrap; max-width: 500px; overflow: hidden; text-overflow: ellipsis; \">[0.00e+00]</td><td style=\"white-space: nowrap; max-width: 500px; overflow: hidden; text-overflow: ellipsis; \">[2.88e-03]</td><td style=\"white-space: nowrap; max-width: 500px; overflow: hidden; text-overflow: ellipsis; \">[0.00e+00]</td><td style=\"white-space: nowrap; max-width: 500px; overflow: hidden; text-overflow: ellipsis; \">[1.21e-02]</td><td style=\"white-space: nowrap; max-width: 500px; overflow: hidden; text-overflow: ellipsis; \">NA</td><td style=\"white-space: nowrap; max-width: 500px; overflow: hidden; text-overflow: ellipsis; \">NA</td><td style=\"white-space: nowrap; max-width: 500px; overflow: hidden; text-overflow: ellipsis; \">NA</td><td style=\"white-space: nowrap; max-width: 500px; overflow: hidden; text-overflow: ellipsis; \">NA</td><td style=\"white-space: nowrap; max-width: 500px; overflow: hidden; text-overflow: ellipsis; \">NA</td><td style=\"white-space: nowrap; max-width: 500px; overflow: hidden; text-overflow: ellipsis; \">[&quot;C|upstream_gene_variant|MODIFIER|SELENOO|ENSG00000073169|Transcript|ENST00000380903|protein_coding|||||||||||3911|1||HGNC|HGNC:30395&quot;]</td><td style=\"white-space: nowrap; max-width: 500px; overflow: hidden; text-overflow: ellipsis; \">&quot;HG00103&quot;</td><td style=\"white-space: nowrap; max-width: 500px; overflow: hidden; text-overflow: ellipsis; \">NA</td><td style=\"white-space: nowrap; max-width: 500px; overflow: hidden; text-overflow: ellipsis; \">[37,0]</td><td style=\"white-space: nowrap; max-width: 500px; overflow: hidden; text-overflow: ellipsis; \">37</td><td style=\"white-space: nowrap; max-width: 500px; overflow: hidden; text-overflow: ellipsis; \">99</td><td style=\"white-space: nowrap; max-width: 500px; overflow: hidden; text-overflow: ellipsis; \">0/0</td><td style=\"white-space: nowrap; max-width: 500px; overflow: hidden; text-overflow: ellipsis; \">NA</td><td style=\"white-space: nowrap; max-width: 500px; overflow: hidden; text-overflow: ellipsis; \">NA</td><td style=\"white-space: nowrap; max-width: 500px; overflow: hidden; text-overflow: ellipsis; \">NA</td><td style=\"white-space: nowrap; max-width: 500px; overflow: hidden; text-overflow: ellipsis; \">NA</td><td style=\"white-space: nowrap; max-width: 500px; overflow: hidden; text-overflow: ellipsis; \">[0,99,1236]</td><td style=\"white-space: nowrap; max-width: 500px; overflow: hidden; text-overflow: ellipsis; \">NA</td><td style=\"white-space: nowrap; max-width: 500px; overflow: hidden; text-overflow: ellipsis; \">NA</td></tr>\n",
       "<tr><td style=\"white-space: nowrap; max-width: 500px; overflow: hidden; text-overflow: ellipsis; \">chr22:50197100</td><td style=\"white-space: nowrap; max-width: 500px; overflow: hidden; text-overflow: ellipsis; \">[&quot;T&quot;,&quot;C&quot;]</td><td style=\"white-space: nowrap; max-width: 500px; overflow: hidden; text-overflow: ellipsis; \">NA</td><td style=\"white-space: nowrap; max-width: 500px; overflow: hidden; text-overflow: ellipsis; \">1.40e+04</td><td style=\"white-space: nowrap; max-width: 500px; overflow: hidden; text-overflow: ellipsis; \">{}</td><td style=\"white-space: nowrap; max-width: 500px; overflow: hidden; text-overflow: ellipsis; \">[24]</td><td style=\"white-space: nowrap; max-width: 500px; overflow: hidden; text-overflow: ellipsis; \">[3.75e-03]</td><td style=\"white-space: nowrap; max-width: 500px; overflow: hidden; text-overflow: ellipsis; \">6404</td><td style=\"white-space: nowrap; max-width: 500px; overflow: hidden; text-overflow: ellipsis; \">3.64e-01</td><td style=\"white-space: nowrap; max-width: 500px; overflow: hidden; text-overflow: ellipsis; \">7.92e-01</td><td style=\"white-space: nowrap; max-width: 500px; overflow: hidden; text-overflow: ellipsis; \">121389</td><td style=\"white-space: nowrap; max-width: 500px; overflow: hidden; text-overflow: ellipsis; \">False</td><td style=\"white-space: nowrap; max-width: 500px; overflow: hidden; text-overflow: ellipsis; \">NA</td><td style=\"white-space: nowrap; max-width: 500px; overflow: hidden; text-overflow: ellipsis; \">2.44e+00</td><td style=\"white-space: nowrap; max-width: 500px; overflow: hidden; text-overflow: ellipsis; \">NA</td><td style=\"white-space: nowrap; max-width: 500px; overflow: hidden; text-overflow: ellipsis; \">NA</td><td style=\"white-space: nowrap; max-width: 500px; overflow: hidden; text-overflow: ellipsis; \">[24]</td><td style=\"white-space: nowrap; max-width: 500px; overflow: hidden; text-overflow: ellipsis; \">[3.75e-03]</td><td style=\"white-space: nowrap; max-width: 500px; overflow: hidden; text-overflow: ellipsis; \">6.00e+01</td><td style=\"white-space: nowrap; max-width: 500px; overflow: hidden; text-overflow: ellipsis; \">0</td><td style=\"white-space: nowrap; max-width: 500px; overflow: hidden; text-overflow: ellipsis; \">2.17e-01</td><td style=\"white-space: nowrap; max-width: 500px; overflow: hidden; text-overflow: ellipsis; \">False</td><td style=\"white-space: nowrap; max-width: 500px; overflow: hidden; text-overflow: ellipsis; \">False</td><td style=\"white-space: nowrap; max-width: 500px; overflow: hidden; text-overflow: ellipsis; \">1.32e+01</td><td style=\"white-space: nowrap; max-width: 500px; overflow: hidden; text-overflow: ellipsis; \">NA</td><td style=\"white-space: nowrap; max-width: 500px; overflow: hidden; text-overflow: ellipsis; \">8.92e-01</td><td style=\"white-space: nowrap; max-width: 500px; overflow: hidden; text-overflow: ellipsis; \">8.62e-01</td><td style=\"white-space: nowrap; max-width: 500px; overflow: hidden; text-overflow: ellipsis; \">1.16e+01</td><td style=\"white-space: nowrap; max-width: 500px; overflow: hidden; text-overflow: ellipsis; \">NA</td><td style=\"white-space: nowrap; max-width: 500px; overflow: hidden; text-overflow: ellipsis; \">&quot;MQ&quot;</td><td style=\"white-space: nowrap; max-width: 500px; overflow: hidden; text-overflow: ellipsis; \">1266</td><td style=\"white-space: nowrap; max-width: 500px; overflow: hidden; text-overflow: ellipsis; \">1170</td><td style=\"white-space: nowrap; max-width: 500px; overflow: hidden; text-overflow: ellipsis; \">980</td><td style=\"white-space: nowrap; max-width: 500px; overflow: hidden; text-overflow: ellipsis; \">1202</td><td style=\"white-space: nowrap; max-width: 500px; overflow: hidden; text-overflow: ellipsis; \">1786</td><td style=\"white-space: nowrap; max-width: 500px; overflow: hidden; text-overflow: ellipsis; \">[0]</td><td style=\"white-space: nowrap; max-width: 500px; overflow: hidden; text-overflow: ellipsis; \">[0]</td><td style=\"white-space: nowrap; max-width: 500px; overflow: hidden; text-overflow: ellipsis; \">[4]</td><td style=\"white-space: nowrap; max-width: 500px; overflow: hidden; text-overflow: ellipsis; \">[0]</td><td style=\"white-space: nowrap; max-width: 500px; overflow: hidden; text-overflow: ellipsis; \">[20]</td><td style=\"white-space: nowrap; max-width: 500px; overflow: hidden; text-overflow: ellipsis; \">[0]</td><td style=\"white-space: nowrap; max-width: 500px; overflow: hidden; text-overflow: ellipsis; \">[0]</td><td style=\"white-space: nowrap; max-width: 500px; overflow: hidden; text-overflow: ellipsis; \">[0]</td><td style=\"white-space: nowrap; max-width: 500px; overflow: hidden; text-overflow: ellipsis; \">[0]</td><td style=\"white-space: nowrap; max-width: 500px; overflow: hidden; text-overflow: ellipsis; \">[0]</td><td style=\"white-space: nowrap; max-width: 500px; overflow: hidden; text-overflow: ellipsis; \">[0]</td><td style=\"white-space: nowrap; max-width: 500px; overflow: hidden; text-overflow: ellipsis; \">[0]</td><td style=\"white-space: nowrap; max-width: 500px; overflow: hidden; text-overflow: ellipsis; \">[0]</td><td style=\"white-space: nowrap; max-width: 500px; overflow: hidden; text-overflow: ellipsis; \">[4]</td><td style=\"white-space: nowrap; max-width: 500px; overflow: hidden; text-overflow: ellipsis; \">[0]</td><td style=\"white-space: nowrap; max-width: 500px; overflow: hidden; text-overflow: ellipsis; \">[20]</td><td style=\"white-space: nowrap; max-width: 500px; overflow: hidden; text-overflow: ellipsis; \">[24]</td><td style=\"white-space: nowrap; max-width: 500px; overflow: hidden; text-overflow: ellipsis; \">[0.00e+00]</td><td style=\"white-space: nowrap; max-width: 500px; overflow: hidden; text-overflow: ellipsis; \">[0.00e+00]</td><td style=\"white-space: nowrap; max-width: 500px; overflow: hidden; text-overflow: ellipsis; \">[4.08e-03]</td><td style=\"white-space: nowrap; max-width: 500px; overflow: hidden; text-overflow: ellipsis; \">[0.00e+00]</td><td style=\"white-space: nowrap; max-width: 500px; overflow: hidden; text-overflow: ellipsis; \">[1.12e-02]</td><td style=\"white-space: nowrap; max-width: 500px; overflow: hidden; text-overflow: ellipsis; \">[1.00e+00]</td><td style=\"white-space: nowrap; max-width: 500px; overflow: hidden; text-overflow: ellipsis; \">[1.00e+00]</td><td style=\"white-space: nowrap; max-width: 500px; overflow: hidden; text-overflow: ellipsis; \">[1.00e+00]</td><td style=\"white-space: nowrap; max-width: 500px; overflow: hidden; text-overflow: ellipsis; \">[1.00e+00]</td><td style=\"white-space: nowrap; max-width: 500px; overflow: hidden; text-overflow: ellipsis; \">[1.00e+00]</td><td style=\"white-space: nowrap; max-width: 500px; overflow: hidden; text-overflow: ellipsis; \">[1.00e+00]</td><td style=\"white-space: nowrap; max-width: 500px; overflow: hidden; text-overflow: ellipsis; \">[1.00e+00]</td><td style=\"white-space: nowrap; max-width: 500px; overflow: hidden; text-overflow: ellipsis; \">[1.00e+00]</td><td style=\"white-space: nowrap; max-width: 500px; overflow: hidden; text-overflow: ellipsis; \">[9.94e-01]</td><td style=\"white-space: nowrap; max-width: 500px; overflow: hidden; text-overflow: ellipsis; \">[1.00e+00]</td><td style=\"white-space: nowrap; max-width: 500px; overflow: hidden; text-overflow: ellipsis; \">[8.98e-01]</td><td style=\"white-space: nowrap; max-width: 500px; overflow: hidden; text-overflow: ellipsis; \">[9.58e-01]</td><td style=\"white-space: nowrap; max-width: 500px; overflow: hidden; text-overflow: ellipsis; \">[0.00e+00]</td><td style=\"white-space: nowrap; max-width: 500px; overflow: hidden; text-overflow: ellipsis; \">1006</td><td style=\"white-space: nowrap; max-width: 500px; overflow: hidden; text-overflow: ellipsis; \">1008</td><td style=\"white-space: nowrap; max-width: 500px; overflow: hidden; text-overflow: ellipsis; \">694</td><td style=\"white-space: nowrap; max-width: 500px; overflow: hidden; text-overflow: ellipsis; \">978</td><td style=\"white-space: nowrap; max-width: 500px; overflow: hidden; text-overflow: ellipsis; \">1322</td><td style=\"white-space: nowrap; max-width: 500px; overflow: hidden; text-overflow: ellipsis; \">[0]</td><td style=\"white-space: nowrap; max-width: 500px; overflow: hidden; text-overflow: ellipsis; \">[0]</td><td style=\"white-space: nowrap; max-width: 500px; overflow: hidden; text-overflow: ellipsis; \">[2]</td><td style=\"white-space: nowrap; max-width: 500px; overflow: hidden; text-overflow: ellipsis; \">[0]</td><td style=\"white-space: nowrap; max-width: 500px; overflow: hidden; text-overflow: ellipsis; \">[16]</td><td style=\"white-space: nowrap; max-width: 500px; overflow: hidden; text-overflow: ellipsis; \">[0]</td><td style=\"white-space: nowrap; max-width: 500px; overflow: hidden; text-overflow: ellipsis; \">[0]</td><td style=\"white-space: nowrap; max-width: 500px; overflow: hidden; text-overflow: ellipsis; \">[0]</td><td style=\"white-space: nowrap; max-width: 500px; overflow: hidden; text-overflow: ellipsis; \">[0]</td><td style=\"white-space: nowrap; max-width: 500px; overflow: hidden; text-overflow: ellipsis; \">[0]</td><td style=\"white-space: nowrap; max-width: 500px; overflow: hidden; text-overflow: ellipsis; \">[0]</td><td style=\"white-space: nowrap; max-width: 500px; overflow: hidden; text-overflow: ellipsis; \">[0]</td><td style=\"white-space: nowrap; max-width: 500px; overflow: hidden; text-overflow: ellipsis; \">[2]</td><td style=\"white-space: nowrap; max-width: 500px; overflow: hidden; text-overflow: ellipsis; \">[0]</td><td style=\"white-space: nowrap; max-width: 500px; overflow: hidden; text-overflow: ellipsis; \">[16]</td><td style=\"white-space: nowrap; max-width: 500px; overflow: hidden; text-overflow: ellipsis; \">[0.00e+00]</td><td style=\"white-space: nowrap; max-width: 500px; overflow: hidden; text-overflow: ellipsis; \">[0.00e+00]</td><td style=\"white-space: nowrap; max-width: 500px; overflow: hidden; text-overflow: ellipsis; \">[2.88e-03]</td><td style=\"white-space: nowrap; max-width: 500px; overflow: hidden; text-overflow: ellipsis; \">[0.00e+00]</td><td style=\"white-space: nowrap; max-width: 500px; overflow: hidden; text-overflow: ellipsis; \">[1.21e-02]</td><td style=\"white-space: nowrap; max-width: 500px; overflow: hidden; text-overflow: ellipsis; \">NA</td><td style=\"white-space: nowrap; max-width: 500px; overflow: hidden; text-overflow: ellipsis; \">NA</td><td style=\"white-space: nowrap; max-width: 500px; overflow: hidden; text-overflow: ellipsis; \">NA</td><td style=\"white-space: nowrap; max-width: 500px; overflow: hidden; text-overflow: ellipsis; \">NA</td><td style=\"white-space: nowrap; max-width: 500px; overflow: hidden; text-overflow: ellipsis; \">NA</td><td style=\"white-space: nowrap; max-width: 500px; overflow: hidden; text-overflow: ellipsis; \">[&quot;C|upstream_gene_variant|MODIFIER|SELENOO|ENSG00000073169|Transcript|ENST00000380903|protein_coding|||||||||||3911|1||HGNC|HGNC:30395&quot;]</td><td style=\"white-space: nowrap; max-width: 500px; overflow: hidden; text-overflow: ellipsis; \">&quot;HG00105&quot;</td><td style=\"white-space: nowrap; max-width: 500px; overflow: hidden; text-overflow: ellipsis; \">NA</td><td style=\"white-space: nowrap; max-width: 500px; overflow: hidden; text-overflow: ellipsis; \">[31,0]</td><td style=\"white-space: nowrap; max-width: 500px; overflow: hidden; text-overflow: ellipsis; \">31</td><td style=\"white-space: nowrap; max-width: 500px; overflow: hidden; text-overflow: ellipsis; \">81</td><td style=\"white-space: nowrap; max-width: 500px; overflow: hidden; text-overflow: ellipsis; \">0/0</td><td style=\"white-space: nowrap; max-width: 500px; overflow: hidden; text-overflow: ellipsis; \">NA</td><td style=\"white-space: nowrap; max-width: 500px; overflow: hidden; text-overflow: ellipsis; \">NA</td><td style=\"white-space: nowrap; max-width: 500px; overflow: hidden; text-overflow: ellipsis; \">NA</td><td style=\"white-space: nowrap; max-width: 500px; overflow: hidden; text-overflow: ellipsis; \">NA</td><td style=\"white-space: nowrap; max-width: 500px; overflow: hidden; text-overflow: ellipsis; \">[0,81,1215]</td><td style=\"white-space: nowrap; max-width: 500px; overflow: hidden; text-overflow: ellipsis; \">NA</td><td style=\"white-space: nowrap; max-width: 500px; overflow: hidden; text-overflow: ellipsis; \">NA</td></tr>\n",
       "<tr><td style=\"white-space: nowrap; max-width: 500px; overflow: hidden; text-overflow: ellipsis; \">chr22:50197100</td><td style=\"white-space: nowrap; max-width: 500px; overflow: hidden; text-overflow: ellipsis; \">[&quot;T&quot;,&quot;C&quot;]</td><td style=\"white-space: nowrap; max-width: 500px; overflow: hidden; text-overflow: ellipsis; \">NA</td><td style=\"white-space: nowrap; max-width: 500px; overflow: hidden; text-overflow: ellipsis; \">1.40e+04</td><td style=\"white-space: nowrap; max-width: 500px; overflow: hidden; text-overflow: ellipsis; \">{}</td><td style=\"white-space: nowrap; max-width: 500px; overflow: hidden; text-overflow: ellipsis; \">[24]</td><td style=\"white-space: nowrap; max-width: 500px; overflow: hidden; text-overflow: ellipsis; \">[3.75e-03]</td><td style=\"white-space: nowrap; max-width: 500px; overflow: hidden; text-overflow: ellipsis; \">6404</td><td style=\"white-space: nowrap; max-width: 500px; overflow: hidden; text-overflow: ellipsis; \">3.64e-01</td><td style=\"white-space: nowrap; max-width: 500px; overflow: hidden; text-overflow: ellipsis; \">7.92e-01</td><td style=\"white-space: nowrap; max-width: 500px; overflow: hidden; text-overflow: ellipsis; \">121389</td><td style=\"white-space: nowrap; max-width: 500px; overflow: hidden; text-overflow: ellipsis; \">False</td><td style=\"white-space: nowrap; max-width: 500px; overflow: hidden; text-overflow: ellipsis; \">NA</td><td style=\"white-space: nowrap; max-width: 500px; overflow: hidden; text-overflow: ellipsis; \">2.44e+00</td><td style=\"white-space: nowrap; max-width: 500px; overflow: hidden; text-overflow: ellipsis; \">NA</td><td style=\"white-space: nowrap; max-width: 500px; overflow: hidden; text-overflow: ellipsis; \">NA</td><td style=\"white-space: nowrap; max-width: 500px; overflow: hidden; text-overflow: ellipsis; \">[24]</td><td style=\"white-space: nowrap; max-width: 500px; overflow: hidden; text-overflow: ellipsis; \">[3.75e-03]</td><td style=\"white-space: nowrap; max-width: 500px; overflow: hidden; text-overflow: ellipsis; \">6.00e+01</td><td style=\"white-space: nowrap; max-width: 500px; overflow: hidden; text-overflow: ellipsis; \">0</td><td style=\"white-space: nowrap; max-width: 500px; overflow: hidden; text-overflow: ellipsis; \">2.17e-01</td><td style=\"white-space: nowrap; max-width: 500px; overflow: hidden; text-overflow: ellipsis; \">False</td><td style=\"white-space: nowrap; max-width: 500px; overflow: hidden; text-overflow: ellipsis; \">False</td><td style=\"white-space: nowrap; max-width: 500px; overflow: hidden; text-overflow: ellipsis; \">1.32e+01</td><td style=\"white-space: nowrap; max-width: 500px; overflow: hidden; text-overflow: ellipsis; \">NA</td><td style=\"white-space: nowrap; max-width: 500px; overflow: hidden; text-overflow: ellipsis; \">8.92e-01</td><td style=\"white-space: nowrap; max-width: 500px; overflow: hidden; text-overflow: ellipsis; \">8.62e-01</td><td style=\"white-space: nowrap; max-width: 500px; overflow: hidden; text-overflow: ellipsis; \">1.16e+01</td><td style=\"white-space: nowrap; max-width: 500px; overflow: hidden; text-overflow: ellipsis; \">NA</td><td style=\"white-space: nowrap; max-width: 500px; overflow: hidden; text-overflow: ellipsis; \">&quot;MQ&quot;</td><td style=\"white-space: nowrap; max-width: 500px; overflow: hidden; text-overflow: ellipsis; \">1266</td><td style=\"white-space: nowrap; max-width: 500px; overflow: hidden; text-overflow: ellipsis; \">1170</td><td style=\"white-space: nowrap; max-width: 500px; overflow: hidden; text-overflow: ellipsis; \">980</td><td style=\"white-space: nowrap; max-width: 500px; overflow: hidden; text-overflow: ellipsis; \">1202</td><td style=\"white-space: nowrap; max-width: 500px; overflow: hidden; text-overflow: ellipsis; \">1786</td><td style=\"white-space: nowrap; max-width: 500px; overflow: hidden; text-overflow: ellipsis; \">[0]</td><td style=\"white-space: nowrap; max-width: 500px; overflow: hidden; text-overflow: ellipsis; \">[0]</td><td style=\"white-space: nowrap; max-width: 500px; overflow: hidden; text-overflow: ellipsis; \">[4]</td><td style=\"white-space: nowrap; max-width: 500px; overflow: hidden; text-overflow: ellipsis; \">[0]</td><td style=\"white-space: nowrap; max-width: 500px; overflow: hidden; text-overflow: ellipsis; \">[20]</td><td style=\"white-space: nowrap; max-width: 500px; overflow: hidden; text-overflow: ellipsis; \">[0]</td><td style=\"white-space: nowrap; max-width: 500px; overflow: hidden; text-overflow: ellipsis; \">[0]</td><td style=\"white-space: nowrap; max-width: 500px; overflow: hidden; text-overflow: ellipsis; \">[0]</td><td style=\"white-space: nowrap; max-width: 500px; overflow: hidden; text-overflow: ellipsis; \">[0]</td><td style=\"white-space: nowrap; max-width: 500px; overflow: hidden; text-overflow: ellipsis; \">[0]</td><td style=\"white-space: nowrap; max-width: 500px; overflow: hidden; text-overflow: ellipsis; \">[0]</td><td style=\"white-space: nowrap; max-width: 500px; overflow: hidden; text-overflow: ellipsis; \">[0]</td><td style=\"white-space: nowrap; max-width: 500px; overflow: hidden; text-overflow: ellipsis; \">[0]</td><td style=\"white-space: nowrap; max-width: 500px; overflow: hidden; text-overflow: ellipsis; \">[4]</td><td style=\"white-space: nowrap; max-width: 500px; overflow: hidden; text-overflow: ellipsis; \">[0]</td><td style=\"white-space: nowrap; max-width: 500px; overflow: hidden; text-overflow: ellipsis; \">[20]</td><td style=\"white-space: nowrap; max-width: 500px; overflow: hidden; text-overflow: ellipsis; \">[24]</td><td style=\"white-space: nowrap; max-width: 500px; overflow: hidden; text-overflow: ellipsis; \">[0.00e+00]</td><td style=\"white-space: nowrap; max-width: 500px; overflow: hidden; text-overflow: ellipsis; \">[0.00e+00]</td><td style=\"white-space: nowrap; max-width: 500px; overflow: hidden; text-overflow: ellipsis; \">[4.08e-03]</td><td style=\"white-space: nowrap; max-width: 500px; overflow: hidden; text-overflow: ellipsis; \">[0.00e+00]</td><td style=\"white-space: nowrap; max-width: 500px; overflow: hidden; text-overflow: ellipsis; \">[1.12e-02]</td><td style=\"white-space: nowrap; max-width: 500px; overflow: hidden; text-overflow: ellipsis; \">[1.00e+00]</td><td style=\"white-space: nowrap; max-width: 500px; overflow: hidden; text-overflow: ellipsis; \">[1.00e+00]</td><td style=\"white-space: nowrap; max-width: 500px; overflow: hidden; text-overflow: ellipsis; \">[1.00e+00]</td><td style=\"white-space: nowrap; max-width: 500px; overflow: hidden; text-overflow: ellipsis; \">[1.00e+00]</td><td style=\"white-space: nowrap; max-width: 500px; overflow: hidden; text-overflow: ellipsis; \">[1.00e+00]</td><td style=\"white-space: nowrap; max-width: 500px; overflow: hidden; text-overflow: ellipsis; \">[1.00e+00]</td><td style=\"white-space: nowrap; max-width: 500px; overflow: hidden; text-overflow: ellipsis; \">[1.00e+00]</td><td style=\"white-space: nowrap; max-width: 500px; overflow: hidden; text-overflow: ellipsis; \">[1.00e+00]</td><td style=\"white-space: nowrap; max-width: 500px; overflow: hidden; text-overflow: ellipsis; \">[9.94e-01]</td><td style=\"white-space: nowrap; max-width: 500px; overflow: hidden; text-overflow: ellipsis; \">[1.00e+00]</td><td style=\"white-space: nowrap; max-width: 500px; overflow: hidden; text-overflow: ellipsis; \">[8.98e-01]</td><td style=\"white-space: nowrap; max-width: 500px; overflow: hidden; text-overflow: ellipsis; \">[9.58e-01]</td><td style=\"white-space: nowrap; max-width: 500px; overflow: hidden; text-overflow: ellipsis; \">[0.00e+00]</td><td style=\"white-space: nowrap; max-width: 500px; overflow: hidden; text-overflow: ellipsis; \">1006</td><td style=\"white-space: nowrap; max-width: 500px; overflow: hidden; text-overflow: ellipsis; \">1008</td><td style=\"white-space: nowrap; max-width: 500px; overflow: hidden; text-overflow: ellipsis; \">694</td><td style=\"white-space: nowrap; max-width: 500px; overflow: hidden; text-overflow: ellipsis; \">978</td><td style=\"white-space: nowrap; max-width: 500px; overflow: hidden; text-overflow: ellipsis; \">1322</td><td style=\"white-space: nowrap; max-width: 500px; overflow: hidden; text-overflow: ellipsis; \">[0]</td><td style=\"white-space: nowrap; max-width: 500px; overflow: hidden; text-overflow: ellipsis; \">[0]</td><td style=\"white-space: nowrap; max-width: 500px; overflow: hidden; text-overflow: ellipsis; \">[2]</td><td style=\"white-space: nowrap; max-width: 500px; overflow: hidden; text-overflow: ellipsis; \">[0]</td><td style=\"white-space: nowrap; max-width: 500px; overflow: hidden; text-overflow: ellipsis; \">[16]</td><td style=\"white-space: nowrap; max-width: 500px; overflow: hidden; text-overflow: ellipsis; \">[0]</td><td style=\"white-space: nowrap; max-width: 500px; overflow: hidden; text-overflow: ellipsis; \">[0]</td><td style=\"white-space: nowrap; max-width: 500px; overflow: hidden; text-overflow: ellipsis; \">[0]</td><td style=\"white-space: nowrap; max-width: 500px; overflow: hidden; text-overflow: ellipsis; \">[0]</td><td style=\"white-space: nowrap; max-width: 500px; overflow: hidden; text-overflow: ellipsis; \">[0]</td><td style=\"white-space: nowrap; max-width: 500px; overflow: hidden; text-overflow: ellipsis; \">[0]</td><td style=\"white-space: nowrap; max-width: 500px; overflow: hidden; text-overflow: ellipsis; \">[0]</td><td style=\"white-space: nowrap; max-width: 500px; overflow: hidden; text-overflow: ellipsis; \">[2]</td><td style=\"white-space: nowrap; max-width: 500px; overflow: hidden; text-overflow: ellipsis; \">[0]</td><td style=\"white-space: nowrap; max-width: 500px; overflow: hidden; text-overflow: ellipsis; \">[16]</td><td style=\"white-space: nowrap; max-width: 500px; overflow: hidden; text-overflow: ellipsis; \">[0.00e+00]</td><td style=\"white-space: nowrap; max-width: 500px; overflow: hidden; text-overflow: ellipsis; \">[0.00e+00]</td><td style=\"white-space: nowrap; max-width: 500px; overflow: hidden; text-overflow: ellipsis; \">[2.88e-03]</td><td style=\"white-space: nowrap; max-width: 500px; overflow: hidden; text-overflow: ellipsis; \">[0.00e+00]</td><td style=\"white-space: nowrap; max-width: 500px; overflow: hidden; text-overflow: ellipsis; \">[1.21e-02]</td><td style=\"white-space: nowrap; max-width: 500px; overflow: hidden; text-overflow: ellipsis; \">NA</td><td style=\"white-space: nowrap; max-width: 500px; overflow: hidden; text-overflow: ellipsis; \">NA</td><td style=\"white-space: nowrap; max-width: 500px; overflow: hidden; text-overflow: ellipsis; \">NA</td><td style=\"white-space: nowrap; max-width: 500px; overflow: hidden; text-overflow: ellipsis; \">NA</td><td style=\"white-space: nowrap; max-width: 500px; overflow: hidden; text-overflow: ellipsis; \">NA</td><td style=\"white-space: nowrap; max-width: 500px; overflow: hidden; text-overflow: ellipsis; \">[&quot;C|upstream_gene_variant|MODIFIER|SELENOO|ENSG00000073169|Transcript|ENST00000380903|protein_coding|||||||||||3911|1||HGNC|HGNC:30395&quot;]</td><td style=\"white-space: nowrap; max-width: 500px; overflow: hidden; text-overflow: ellipsis; \">&quot;HG00106&quot;</td><td style=\"white-space: nowrap; max-width: 500px; overflow: hidden; text-overflow: ellipsis; \">NA</td><td style=\"white-space: nowrap; max-width: 500px; overflow: hidden; text-overflow: ellipsis; \">[37,0]</td><td style=\"white-space: nowrap; max-width: 500px; overflow: hidden; text-overflow: ellipsis; \">37</td><td style=\"white-space: nowrap; max-width: 500px; overflow: hidden; text-overflow: ellipsis; \">99</td><td style=\"white-space: nowrap; max-width: 500px; overflow: hidden; text-overflow: ellipsis; \">0/0</td><td style=\"white-space: nowrap; max-width: 500px; overflow: hidden; text-overflow: ellipsis; \">NA</td><td style=\"white-space: nowrap; max-width: 500px; overflow: hidden; text-overflow: ellipsis; \">NA</td><td style=\"white-space: nowrap; max-width: 500px; overflow: hidden; text-overflow: ellipsis; \">NA</td><td style=\"white-space: nowrap; max-width: 500px; overflow: hidden; text-overflow: ellipsis; \">NA</td><td style=\"white-space: nowrap; max-width: 500px; overflow: hidden; text-overflow: ellipsis; \">[0,108,1235]</td><td style=\"white-space: nowrap; max-width: 500px; overflow: hidden; text-overflow: ellipsis; \">NA</td><td style=\"white-space: nowrap; max-width: 500px; overflow: hidden; text-overflow: ellipsis; \">NA</td></tr>\n",
       "<tr><td style=\"white-space: nowrap; max-width: 500px; overflow: hidden; text-overflow: ellipsis; \">chr22:50197100</td><td style=\"white-space: nowrap; max-width: 500px; overflow: hidden; text-overflow: ellipsis; \">[&quot;T&quot;,&quot;C&quot;]</td><td style=\"white-space: nowrap; max-width: 500px; overflow: hidden; text-overflow: ellipsis; \">NA</td><td style=\"white-space: nowrap; max-width: 500px; overflow: hidden; text-overflow: ellipsis; \">1.40e+04</td><td style=\"white-space: nowrap; max-width: 500px; overflow: hidden; text-overflow: ellipsis; \">{}</td><td style=\"white-space: nowrap; max-width: 500px; overflow: hidden; text-overflow: ellipsis; \">[24]</td><td style=\"white-space: nowrap; max-width: 500px; overflow: hidden; text-overflow: ellipsis; \">[3.75e-03]</td><td style=\"white-space: nowrap; max-width: 500px; overflow: hidden; text-overflow: ellipsis; \">6404</td><td style=\"white-space: nowrap; max-width: 500px; overflow: hidden; text-overflow: ellipsis; \">3.64e-01</td><td style=\"white-space: nowrap; max-width: 500px; overflow: hidden; text-overflow: ellipsis; \">7.92e-01</td><td style=\"white-space: nowrap; max-width: 500px; overflow: hidden; text-overflow: ellipsis; \">121389</td><td style=\"white-space: nowrap; max-width: 500px; overflow: hidden; text-overflow: ellipsis; \">False</td><td style=\"white-space: nowrap; max-width: 500px; overflow: hidden; text-overflow: ellipsis; \">NA</td><td style=\"white-space: nowrap; max-width: 500px; overflow: hidden; text-overflow: ellipsis; \">2.44e+00</td><td style=\"white-space: nowrap; max-width: 500px; overflow: hidden; text-overflow: ellipsis; \">NA</td><td style=\"white-space: nowrap; max-width: 500px; overflow: hidden; text-overflow: ellipsis; \">NA</td><td style=\"white-space: nowrap; max-width: 500px; overflow: hidden; text-overflow: ellipsis; \">[24]</td><td style=\"white-space: nowrap; max-width: 500px; overflow: hidden; text-overflow: ellipsis; \">[3.75e-03]</td><td style=\"white-space: nowrap; max-width: 500px; overflow: hidden; text-overflow: ellipsis; \">6.00e+01</td><td style=\"white-space: nowrap; max-width: 500px; overflow: hidden; text-overflow: ellipsis; \">0</td><td style=\"white-space: nowrap; max-width: 500px; overflow: hidden; text-overflow: ellipsis; \">2.17e-01</td><td style=\"white-space: nowrap; max-width: 500px; overflow: hidden; text-overflow: ellipsis; \">False</td><td style=\"white-space: nowrap; max-width: 500px; overflow: hidden; text-overflow: ellipsis; \">False</td><td style=\"white-space: nowrap; max-width: 500px; overflow: hidden; text-overflow: ellipsis; \">1.32e+01</td><td style=\"white-space: nowrap; max-width: 500px; overflow: hidden; text-overflow: ellipsis; \">NA</td><td style=\"white-space: nowrap; max-width: 500px; overflow: hidden; text-overflow: ellipsis; \">8.92e-01</td><td style=\"white-space: nowrap; max-width: 500px; overflow: hidden; text-overflow: ellipsis; \">8.62e-01</td><td style=\"white-space: nowrap; max-width: 500px; overflow: hidden; text-overflow: ellipsis; \">1.16e+01</td><td style=\"white-space: nowrap; max-width: 500px; overflow: hidden; text-overflow: ellipsis; \">NA</td><td style=\"white-space: nowrap; max-width: 500px; overflow: hidden; text-overflow: ellipsis; \">&quot;MQ&quot;</td><td style=\"white-space: nowrap; max-width: 500px; overflow: hidden; text-overflow: ellipsis; \">1266</td><td style=\"white-space: nowrap; max-width: 500px; overflow: hidden; text-overflow: ellipsis; \">1170</td><td style=\"white-space: nowrap; max-width: 500px; overflow: hidden; text-overflow: ellipsis; \">980</td><td style=\"white-space: nowrap; max-width: 500px; overflow: hidden; text-overflow: ellipsis; \">1202</td><td style=\"white-space: nowrap; max-width: 500px; overflow: hidden; text-overflow: ellipsis; \">1786</td><td style=\"white-space: nowrap; max-width: 500px; overflow: hidden; text-overflow: ellipsis; \">[0]</td><td style=\"white-space: nowrap; max-width: 500px; overflow: hidden; text-overflow: ellipsis; \">[0]</td><td style=\"white-space: nowrap; max-width: 500px; overflow: hidden; text-overflow: ellipsis; \">[4]</td><td style=\"white-space: nowrap; max-width: 500px; overflow: hidden; text-overflow: ellipsis; \">[0]</td><td style=\"white-space: nowrap; max-width: 500px; overflow: hidden; text-overflow: ellipsis; \">[20]</td><td style=\"white-space: nowrap; max-width: 500px; overflow: hidden; text-overflow: ellipsis; \">[0]</td><td style=\"white-space: nowrap; max-width: 500px; overflow: hidden; text-overflow: ellipsis; \">[0]</td><td style=\"white-space: nowrap; max-width: 500px; overflow: hidden; text-overflow: ellipsis; \">[0]</td><td style=\"white-space: nowrap; max-width: 500px; overflow: hidden; text-overflow: ellipsis; \">[0]</td><td style=\"white-space: nowrap; max-width: 500px; overflow: hidden; text-overflow: ellipsis; \">[0]</td><td style=\"white-space: nowrap; max-width: 500px; overflow: hidden; text-overflow: ellipsis; \">[0]</td><td style=\"white-space: nowrap; max-width: 500px; overflow: hidden; text-overflow: ellipsis; \">[0]</td><td style=\"white-space: nowrap; max-width: 500px; overflow: hidden; text-overflow: ellipsis; \">[0]</td><td style=\"white-space: nowrap; max-width: 500px; overflow: hidden; text-overflow: ellipsis; \">[4]</td><td style=\"white-space: nowrap; max-width: 500px; overflow: hidden; text-overflow: ellipsis; \">[0]</td><td style=\"white-space: nowrap; max-width: 500px; overflow: hidden; text-overflow: ellipsis; \">[20]</td><td style=\"white-space: nowrap; max-width: 500px; overflow: hidden; text-overflow: ellipsis; \">[24]</td><td style=\"white-space: nowrap; max-width: 500px; overflow: hidden; text-overflow: ellipsis; \">[0.00e+00]</td><td style=\"white-space: nowrap; max-width: 500px; overflow: hidden; text-overflow: ellipsis; \">[0.00e+00]</td><td style=\"white-space: nowrap; max-width: 500px; overflow: hidden; text-overflow: ellipsis; \">[4.08e-03]</td><td style=\"white-space: nowrap; max-width: 500px; overflow: hidden; text-overflow: ellipsis; \">[0.00e+00]</td><td style=\"white-space: nowrap; max-width: 500px; overflow: hidden; text-overflow: ellipsis; \">[1.12e-02]</td><td style=\"white-space: nowrap; max-width: 500px; overflow: hidden; text-overflow: ellipsis; \">[1.00e+00]</td><td style=\"white-space: nowrap; max-width: 500px; overflow: hidden; text-overflow: ellipsis; \">[1.00e+00]</td><td style=\"white-space: nowrap; max-width: 500px; overflow: hidden; text-overflow: ellipsis; \">[1.00e+00]</td><td style=\"white-space: nowrap; max-width: 500px; overflow: hidden; text-overflow: ellipsis; \">[1.00e+00]</td><td style=\"white-space: nowrap; max-width: 500px; overflow: hidden; text-overflow: ellipsis; \">[1.00e+00]</td><td style=\"white-space: nowrap; max-width: 500px; overflow: hidden; text-overflow: ellipsis; \">[1.00e+00]</td><td style=\"white-space: nowrap; max-width: 500px; overflow: hidden; text-overflow: ellipsis; \">[1.00e+00]</td><td style=\"white-space: nowrap; max-width: 500px; overflow: hidden; text-overflow: ellipsis; \">[1.00e+00]</td><td style=\"white-space: nowrap; max-width: 500px; overflow: hidden; text-overflow: ellipsis; \">[9.94e-01]</td><td style=\"white-space: nowrap; max-width: 500px; overflow: hidden; text-overflow: ellipsis; \">[1.00e+00]</td><td style=\"white-space: nowrap; max-width: 500px; overflow: hidden; text-overflow: ellipsis; \">[8.98e-01]</td><td style=\"white-space: nowrap; max-width: 500px; overflow: hidden; text-overflow: ellipsis; \">[9.58e-01]</td><td style=\"white-space: nowrap; max-width: 500px; overflow: hidden; text-overflow: ellipsis; \">[0.00e+00]</td><td style=\"white-space: nowrap; max-width: 500px; overflow: hidden; text-overflow: ellipsis; \">1006</td><td style=\"white-space: nowrap; max-width: 500px; overflow: hidden; text-overflow: ellipsis; \">1008</td><td style=\"white-space: nowrap; max-width: 500px; overflow: hidden; text-overflow: ellipsis; \">694</td><td style=\"white-space: nowrap; max-width: 500px; overflow: hidden; text-overflow: ellipsis; \">978</td><td style=\"white-space: nowrap; max-width: 500px; overflow: hidden; text-overflow: ellipsis; \">1322</td><td style=\"white-space: nowrap; max-width: 500px; overflow: hidden; text-overflow: ellipsis; \">[0]</td><td style=\"white-space: nowrap; max-width: 500px; overflow: hidden; text-overflow: ellipsis; \">[0]</td><td style=\"white-space: nowrap; max-width: 500px; overflow: hidden; text-overflow: ellipsis; \">[2]</td><td style=\"white-space: nowrap; max-width: 500px; overflow: hidden; text-overflow: ellipsis; \">[0]</td><td style=\"white-space: nowrap; max-width: 500px; overflow: hidden; text-overflow: ellipsis; \">[16]</td><td style=\"white-space: nowrap; max-width: 500px; overflow: hidden; text-overflow: ellipsis; \">[0]</td><td style=\"white-space: nowrap; max-width: 500px; overflow: hidden; text-overflow: ellipsis; \">[0]</td><td style=\"white-space: nowrap; max-width: 500px; overflow: hidden; text-overflow: ellipsis; \">[0]</td><td style=\"white-space: nowrap; max-width: 500px; overflow: hidden; text-overflow: ellipsis; \">[0]</td><td style=\"white-space: nowrap; max-width: 500px; overflow: hidden; text-overflow: ellipsis; \">[0]</td><td style=\"white-space: nowrap; max-width: 500px; overflow: hidden; text-overflow: ellipsis; \">[0]</td><td style=\"white-space: nowrap; max-width: 500px; overflow: hidden; text-overflow: ellipsis; \">[0]</td><td style=\"white-space: nowrap; max-width: 500px; overflow: hidden; text-overflow: ellipsis; \">[2]</td><td style=\"white-space: nowrap; max-width: 500px; overflow: hidden; text-overflow: ellipsis; \">[0]</td><td style=\"white-space: nowrap; max-width: 500px; overflow: hidden; text-overflow: ellipsis; \">[16]</td><td style=\"white-space: nowrap; max-width: 500px; overflow: hidden; text-overflow: ellipsis; \">[0.00e+00]</td><td style=\"white-space: nowrap; max-width: 500px; overflow: hidden; text-overflow: ellipsis; \">[0.00e+00]</td><td style=\"white-space: nowrap; max-width: 500px; overflow: hidden; text-overflow: ellipsis; \">[2.88e-03]</td><td style=\"white-space: nowrap; max-width: 500px; overflow: hidden; text-overflow: ellipsis; \">[0.00e+00]</td><td style=\"white-space: nowrap; max-width: 500px; overflow: hidden; text-overflow: ellipsis; \">[1.21e-02]</td><td style=\"white-space: nowrap; max-width: 500px; overflow: hidden; text-overflow: ellipsis; \">NA</td><td style=\"white-space: nowrap; max-width: 500px; overflow: hidden; text-overflow: ellipsis; \">NA</td><td style=\"white-space: nowrap; max-width: 500px; overflow: hidden; text-overflow: ellipsis; \">NA</td><td style=\"white-space: nowrap; max-width: 500px; overflow: hidden; text-overflow: ellipsis; \">NA</td><td style=\"white-space: nowrap; max-width: 500px; overflow: hidden; text-overflow: ellipsis; \">NA</td><td style=\"white-space: nowrap; max-width: 500px; overflow: hidden; text-overflow: ellipsis; \">[&quot;C|upstream_gene_variant|MODIFIER|SELENOO|ENSG00000073169|Transcript|ENST00000380903|protein_coding|||||||||||3911|1||HGNC|HGNC:30395&quot;]</td><td style=\"white-space: nowrap; max-width: 500px; overflow: hidden; text-overflow: ellipsis; \">&quot;HG00107&quot;</td><td style=\"white-space: nowrap; max-width: 500px; overflow: hidden; text-overflow: ellipsis; \">NA</td><td style=\"white-space: nowrap; max-width: 500px; overflow: hidden; text-overflow: ellipsis; \">[37,0]</td><td style=\"white-space: nowrap; max-width: 500px; overflow: hidden; text-overflow: ellipsis; \">37</td><td style=\"white-space: nowrap; max-width: 500px; overflow: hidden; text-overflow: ellipsis; \">99</td><td style=\"white-space: nowrap; max-width: 500px; overflow: hidden; text-overflow: ellipsis; \">0/0</td><td style=\"white-space: nowrap; max-width: 500px; overflow: hidden; text-overflow: ellipsis; \">NA</td><td style=\"white-space: nowrap; max-width: 500px; overflow: hidden; text-overflow: ellipsis; \">NA</td><td style=\"white-space: nowrap; max-width: 500px; overflow: hidden; text-overflow: ellipsis; \">NA</td><td style=\"white-space: nowrap; max-width: 500px; overflow: hidden; text-overflow: ellipsis; \">NA</td><td style=\"white-space: nowrap; max-width: 500px; overflow: hidden; text-overflow: ellipsis; \">[0,102,1336]</td><td style=\"white-space: nowrap; max-width: 500px; overflow: hidden; text-overflow: ellipsis; \">NA</td><td style=\"white-space: nowrap; max-width: 500px; overflow: hidden; text-overflow: ellipsis; \">NA</td></tr>\n",
       "</tbody></table><p style=\"background: #fdd; padding: 0.4em;\">showing top 10 rows</p>\n"
      ],
      "text/plain": [
       "+----------------+------------+------+----------+----------+--------------+\n",
       "| locus          | alleles    | rsid |     qual | filters  | info.AC      |\n",
       "+----------------+------------+------+----------+----------+--------------+\n",
       "| locus<GRCh38>  | array<str> | str  |  float64 | set<str> | array<int32> |\n",
       "+----------------+------------+------+----------+----------+--------------+\n",
       "| chr22:50197100 | [\"T\",\"C\"]  | NA   | 1.40e+04 | {}       | [24]         |\n",
       "| chr22:50197100 | [\"T\",\"C\"]  | NA   | 1.40e+04 | {}       | [24]         |\n",
       "| chr22:50197100 | [\"T\",\"C\"]  | NA   | 1.40e+04 | {}       | [24]         |\n",
       "| chr22:50197100 | [\"T\",\"C\"]  | NA   | 1.40e+04 | {}       | [24]         |\n",
       "| chr22:50197100 | [\"T\",\"C\"]  | NA   | 1.40e+04 | {}       | [24]         |\n",
       "| chr22:50197100 | [\"T\",\"C\"]  | NA   | 1.40e+04 | {}       | [24]         |\n",
       "| chr22:50197100 | [\"T\",\"C\"]  | NA   | 1.40e+04 | {}       | [24]         |\n",
       "| chr22:50197100 | [\"T\",\"C\"]  | NA   | 1.40e+04 | {}       | [24]         |\n",
       "| chr22:50197100 | [\"T\",\"C\"]  | NA   | 1.40e+04 | {}       | [24]         |\n",
       "| chr22:50197100 | [\"T\",\"C\"]  | NA   | 1.40e+04 | {}       | [24]         |\n",
       "+----------------+------------+------+----------+----------+--------------+\n",
       "\n",
       "+----------------+---------+-------------------+----------------------+\n",
       "| info.AF        | info.AN | info.BaseQRankSum | info.ClippingRankSum |\n",
       "+----------------+---------+-------------------+----------------------+\n",
       "| array<float64> |   int32 |           float64 |              float64 |\n",
       "+----------------+---------+-------------------+----------------------+\n",
       "| [3.75e-03]     |    6404 |          3.64e-01 |             7.92e-01 |\n",
       "| [3.75e-03]     |    6404 |          3.64e-01 |             7.92e-01 |\n",
       "| [3.75e-03]     |    6404 |          3.64e-01 |             7.92e-01 |\n",
       "| [3.75e-03]     |    6404 |          3.64e-01 |             7.92e-01 |\n",
       "| [3.75e-03]     |    6404 |          3.64e-01 |             7.92e-01 |\n",
       "| [3.75e-03]     |    6404 |          3.64e-01 |             7.92e-01 |\n",
       "| [3.75e-03]     |    6404 |          3.64e-01 |             7.92e-01 |\n",
       "| [3.75e-03]     |    6404 |          3.64e-01 |             7.92e-01 |\n",
       "| [3.75e-03]     |    6404 |          3.64e-01 |             7.92e-01 |\n",
       "| [3.75e-03]     |    6404 |          3.64e-01 |             7.92e-01 |\n",
       "+----------------+---------+-------------------+----------------------+\n",
       "\n",
       "+---------+---------+----------+----------+---------------------+\n",
       "| info.DP | info.DS | info.END |  info.FS | info.HaplotypeScore |\n",
       "+---------+---------+----------+----------+---------------------+\n",
       "|   int32 |    bool |    int32 |  float64 |             float64 |\n",
       "+---------+---------+----------+----------+---------------------+\n",
       "|  121389 |   False |       NA | 2.44e+00 |                  NA |\n",
       "|  121389 |   False |       NA | 2.44e+00 |                  NA |\n",
       "|  121389 |   False |       NA | 2.44e+00 |                  NA |\n",
       "|  121389 |   False |       NA | 2.44e+00 |                  NA |\n",
       "|  121389 |   False |       NA | 2.44e+00 |                  NA |\n",
       "|  121389 |   False |       NA | 2.44e+00 |                  NA |\n",
       "|  121389 |   False |       NA | 2.44e+00 |                  NA |\n",
       "|  121389 |   False |       NA | 2.44e+00 |                  NA |\n",
       "|  121389 |   False |       NA | 2.44e+00 |                  NA |\n",
       "|  121389 |   False |       NA | 2.44e+00 |                  NA |\n",
       "+---------+---------+----------+----------+---------------------+\n",
       "\n",
       "+----------------------+--------------+----------------+----------+----------+\n",
       "| info.InbreedingCoeff | info.MLEAC   | info.MLEAF     |  info.MQ | info.MQ0 |\n",
       "+----------------------+--------------+----------------+----------+----------+\n",
       "|              float64 | array<int32> | array<float64> |  float64 |    int32 |\n",
       "+----------------------+--------------+----------------+----------+----------+\n",
       "|                   NA | [24]         | [3.75e-03]     | 6.00e+01 |        0 |\n",
       "|                   NA | [24]         | [3.75e-03]     | 6.00e+01 |        0 |\n",
       "|                   NA | [24]         | [3.75e-03]     | 6.00e+01 |        0 |\n",
       "|                   NA | [24]         | [3.75e-03]     | 6.00e+01 |        0 |\n",
       "|                   NA | [24]         | [3.75e-03]     | 6.00e+01 |        0 |\n",
       "|                   NA | [24]         | [3.75e-03]     | 6.00e+01 |        0 |\n",
       "|                   NA | [24]         | [3.75e-03]     | 6.00e+01 |        0 |\n",
       "|                   NA | [24]         | [3.75e-03]     | 6.00e+01 |        0 |\n",
       "|                   NA | [24]         | [3.75e-03]     | 6.00e+01 |        0 |\n",
       "|                   NA | [24]         | [3.75e-03]     | 6.00e+01 |        0 |\n",
       "+----------------------+--------------+----------------+----------+----------+\n",
       "\n",
       "+----------------+--------------------------+--------------------------+\n",
       "| info.MQRankSum | info.NEGATIVE_TRAIN_SITE | info.POSITIVE_TRAIN_SITE |\n",
       "+----------------+--------------------------+--------------------------+\n",
       "|        float64 |                     bool |                     bool |\n",
       "+----------------+--------------------------+--------------------------+\n",
       "|       2.17e-01 |                    False |                    False |\n",
       "|       2.17e-01 |                    False |                    False |\n",
       "|       2.17e-01 |                    False |                    False |\n",
       "|       2.17e-01 |                    False |                    False |\n",
       "|       2.17e-01 |                    False |                    False |\n",
       "|       2.17e-01 |                    False |                    False |\n",
       "|       2.17e-01 |                    False |                    False |\n",
       "|       2.17e-01 |                    False |                    False |\n",
       "|       2.17e-01 |                    False |                    False |\n",
       "|       2.17e-01 |                    False |                    False |\n",
       "+----------------+--------------------------+--------------------------+\n",
       "\n",
       "+----------+-------------+---------------------+----------+-------------+\n",
       "|  info.QD | info.RAW_MQ | info.ReadPosRankSum | info.SOR | info.VQSLOD |\n",
       "+----------+-------------+---------------------+----------+-------------+\n",
       "|  float64 |     float64 |             float64 |  float64 |     float64 |\n",
       "+----------+-------------+---------------------+----------+-------------+\n",
       "| 1.32e+01 |          NA |            8.92e-01 | 8.62e-01 |    1.16e+01 |\n",
       "| 1.32e+01 |          NA |            8.92e-01 | 8.62e-01 |    1.16e+01 |\n",
       "| 1.32e+01 |          NA |            8.92e-01 | 8.62e-01 |    1.16e+01 |\n",
       "| 1.32e+01 |          NA |            8.92e-01 | 8.62e-01 |    1.16e+01 |\n",
       "| 1.32e+01 |          NA |            8.92e-01 | 8.62e-01 |    1.16e+01 |\n",
       "| 1.32e+01 |          NA |            8.92e-01 | 8.62e-01 |    1.16e+01 |\n",
       "| 1.32e+01 |          NA |            8.92e-01 | 8.62e-01 |    1.16e+01 |\n",
       "| 1.32e+01 |          NA |            8.92e-01 | 8.62e-01 |    1.16e+01 |\n",
       "| 1.32e+01 |          NA |            8.92e-01 | 8.62e-01 |    1.16e+01 |\n",
       "| 1.32e+01 |          NA |            8.92e-01 | 8.62e-01 |    1.16e+01 |\n",
       "+----------+-------------+---------------------+----------+-------------+\n",
       "\n",
       "+------------------+--------------+-------------+-------------+-------------+\n",
       "| info.VariantType | info.culprit | info.AN_EUR | info.AN_EAS | info.AN_AMR |\n",
       "+------------------+--------------+-------------+-------------+-------------+\n",
       "| str              | str          |       int32 |       int32 |       int32 |\n",
       "+------------------+--------------+-------------+-------------+-------------+\n",
       "| NA               | \"MQ\"         |        1266 |        1170 |         980 |\n",
       "| NA               | \"MQ\"         |        1266 |        1170 |         980 |\n",
       "| NA               | \"MQ\"         |        1266 |        1170 |         980 |\n",
       "| NA               | \"MQ\"         |        1266 |        1170 |         980 |\n",
       "| NA               | \"MQ\"         |        1266 |        1170 |         980 |\n",
       "| NA               | \"MQ\"         |        1266 |        1170 |         980 |\n",
       "| NA               | \"MQ\"         |        1266 |        1170 |         980 |\n",
       "| NA               | \"MQ\"         |        1266 |        1170 |         980 |\n",
       "| NA               | \"MQ\"         |        1266 |        1170 |         980 |\n",
       "| NA               | \"MQ\"         |        1266 |        1170 |         980 |\n",
       "+------------------+--------------+-------------+-------------+-------------+\n",
       "\n",
       "+-------------+-------------+--------------+--------------+--------------+\n",
       "| info.AN_SAS | info.AN_AFR | info.AC_EUR  | info.AC_EAS  | info.AC_AMR  |\n",
       "+-------------+-------------+--------------+--------------+--------------+\n",
       "|       int32 |       int32 | array<int32> | array<int32> | array<int32> |\n",
       "+-------------+-------------+--------------+--------------+--------------+\n",
       "|        1202 |        1786 | [0]          | [0]          | [4]          |\n",
       "|        1202 |        1786 | [0]          | [0]          | [4]          |\n",
       "|        1202 |        1786 | [0]          | [0]          | [4]          |\n",
       "|        1202 |        1786 | [0]          | [0]          | [4]          |\n",
       "|        1202 |        1786 | [0]          | [0]          | [4]          |\n",
       "|        1202 |        1786 | [0]          | [0]          | [4]          |\n",
       "|        1202 |        1786 | [0]          | [0]          | [4]          |\n",
       "|        1202 |        1786 | [0]          | [0]          | [4]          |\n",
       "|        1202 |        1786 | [0]          | [0]          | [4]          |\n",
       "|        1202 |        1786 | [0]          | [0]          | [4]          |\n",
       "+-------------+-------------+--------------+--------------+--------------+\n",
       "\n",
       "+--------------+--------------+-----------------+-----------------+\n",
       "| info.AC_SAS  | info.AC_AFR  | info.AC_Hom_EUR | info.AC_Hom_EAS |\n",
       "+--------------+--------------+-----------------+-----------------+\n",
       "| array<int32> | array<int32> | array<int32>    | array<int32>    |\n",
       "+--------------+--------------+-----------------+-----------------+\n",
       "| [0]          | [20]         | [0]             | [0]             |\n",
       "| [0]          | [20]         | [0]             | [0]             |\n",
       "| [0]          | [20]         | [0]             | [0]             |\n",
       "| [0]          | [20]         | [0]             | [0]             |\n",
       "| [0]          | [20]         | [0]             | [0]             |\n",
       "| [0]          | [20]         | [0]             | [0]             |\n",
       "| [0]          | [20]         | [0]             | [0]             |\n",
       "| [0]          | [20]         | [0]             | [0]             |\n",
       "| [0]          | [20]         | [0]             | [0]             |\n",
       "| [0]          | [20]         | [0]             | [0]             |\n",
       "+--------------+--------------+-----------------+-----------------+\n",
       "\n",
       "+-----------------+-----------------+-----------------+--------------+\n",
       "| info.AC_Hom_AMR | info.AC_Hom_SAS | info.AC_Hom_AFR | info.AC_Hom  |\n",
       "+-----------------+-----------------+-----------------+--------------+\n",
       "| array<int32>    | array<int32>    | array<int32>    | array<int32> |\n",
       "+-----------------+-----------------+-----------------+--------------+\n",
       "| [0]             | [0]             | [0]             | [0]          |\n",
       "| [0]             | [0]             | [0]             | [0]          |\n",
       "| [0]             | [0]             | [0]             | [0]          |\n",
       "| [0]             | [0]             | [0]             | [0]          |\n",
       "| [0]             | [0]             | [0]             | [0]          |\n",
       "| [0]             | [0]             | [0]             | [0]          |\n",
       "| [0]             | [0]             | [0]             | [0]          |\n",
       "| [0]             | [0]             | [0]             | [0]          |\n",
       "| [0]             | [0]             | [0]             | [0]          |\n",
       "| [0]             | [0]             | [0]             | [0]          |\n",
       "+-----------------+-----------------+-----------------+--------------+\n",
       "\n",
       "+-----------------+-----------------+-----------------+-----------------+\n",
       "| info.AC_Het_EUR | info.AC_Het_EAS | info.AC_Het_AMR | info.AC_Het_SAS |\n",
       "+-----------------+-----------------+-----------------+-----------------+\n",
       "| array<int32>    | array<int32>    | array<int32>    | array<int32>    |\n",
       "+-----------------+-----------------+-----------------+-----------------+\n",
       "| [0]             | [0]             | [4]             | [0]             |\n",
       "| [0]             | [0]             | [4]             | [0]             |\n",
       "| [0]             | [0]             | [4]             | [0]             |\n",
       "| [0]             | [0]             | [4]             | [0]             |\n",
       "| [0]             | [0]             | [4]             | [0]             |\n",
       "| [0]             | [0]             | [4]             | [0]             |\n",
       "| [0]             | [0]             | [4]             | [0]             |\n",
       "| [0]             | [0]             | [4]             | [0]             |\n",
       "| [0]             | [0]             | [4]             | [0]             |\n",
       "| [0]             | [0]             | [4]             | [0]             |\n",
       "+-----------------+-----------------+-----------------+-----------------+\n",
       "\n",
       "+-----------------+--------------+----------------+----------------+\n",
       "| info.AC_Het_AFR | info.AC_Het  | info.AF_EUR    | info.AF_EAS    |\n",
       "+-----------------+--------------+----------------+----------------+\n",
       "| array<int32>    | array<int32> | array<float64> | array<float64> |\n",
       "+-----------------+--------------+----------------+----------------+\n",
       "| [20]            | [24]         | [0.00e+00]     | [0.00e+00]     |\n",
       "| [20]            | [24]         | [0.00e+00]     | [0.00e+00]     |\n",
       "| [20]            | [24]         | [0.00e+00]     | [0.00e+00]     |\n",
       "| [20]            | [24]         | [0.00e+00]     | [0.00e+00]     |\n",
       "| [20]            | [24]         | [0.00e+00]     | [0.00e+00]     |\n",
       "| [20]            | [24]         | [0.00e+00]     | [0.00e+00]     |\n",
       "| [20]            | [24]         | [0.00e+00]     | [0.00e+00]     |\n",
       "| [20]            | [24]         | [0.00e+00]     | [0.00e+00]     |\n",
       "| [20]            | [24]         | [0.00e+00]     | [0.00e+00]     |\n",
       "| [20]            | [24]         | [0.00e+00]     | [0.00e+00]     |\n",
       "+-----------------+--------------+----------------+----------------+\n",
       "\n",
       "+----------------+----------------+----------------+----------------+\n",
       "| info.AF_AMR    | info.AF_SAS    | info.AF_AFR    | info.HWE_EUR   |\n",
       "+----------------+----------------+----------------+----------------+\n",
       "| array<float64> | array<float64> | array<float64> | array<float64> |\n",
       "+----------------+----------------+----------------+----------------+\n",
       "| [4.08e-03]     | [0.00e+00]     | [1.12e-02]     | [1.00e+00]     |\n",
       "| [4.08e-03]     | [0.00e+00]     | [1.12e-02]     | [1.00e+00]     |\n",
       "| [4.08e-03]     | [0.00e+00]     | [1.12e-02]     | [1.00e+00]     |\n",
       "| [4.08e-03]     | [0.00e+00]     | [1.12e-02]     | [1.00e+00]     |\n",
       "| [4.08e-03]     | [0.00e+00]     | [1.12e-02]     | [1.00e+00]     |\n",
       "| [4.08e-03]     | [0.00e+00]     | [1.12e-02]     | [1.00e+00]     |\n",
       "| [4.08e-03]     | [0.00e+00]     | [1.12e-02]     | [1.00e+00]     |\n",
       "| [4.08e-03]     | [0.00e+00]     | [1.12e-02]     | [1.00e+00]     |\n",
       "| [4.08e-03]     | [0.00e+00]     | [1.12e-02]     | [1.00e+00]     |\n",
       "| [4.08e-03]     | [0.00e+00]     | [1.12e-02]     | [1.00e+00]     |\n",
       "+----------------+----------------+----------------+----------------+\n",
       "\n",
       "+----------------+----------------+----------------+----------------+\n",
       "| info.HWE_EAS   | info.HWE_AMR   | info.HWE_SAS   | info.HWE_AFR   |\n",
       "+----------------+----------------+----------------+----------------+\n",
       "| array<float64> | array<float64> | array<float64> | array<float64> |\n",
       "+----------------+----------------+----------------+----------------+\n",
       "| [1.00e+00]     | [1.00e+00]     | [1.00e+00]     | [1.00e+00]     |\n",
       "| [1.00e+00]     | [1.00e+00]     | [1.00e+00]     | [1.00e+00]     |\n",
       "| [1.00e+00]     | [1.00e+00]     | [1.00e+00]     | [1.00e+00]     |\n",
       "| [1.00e+00]     | [1.00e+00]     | [1.00e+00]     | [1.00e+00]     |\n",
       "| [1.00e+00]     | [1.00e+00]     | [1.00e+00]     | [1.00e+00]     |\n",
       "| [1.00e+00]     | [1.00e+00]     | [1.00e+00]     | [1.00e+00]     |\n",
       "| [1.00e+00]     | [1.00e+00]     | [1.00e+00]     | [1.00e+00]     |\n",
       "| [1.00e+00]     | [1.00e+00]     | [1.00e+00]     | [1.00e+00]     |\n",
       "| [1.00e+00]     | [1.00e+00]     | [1.00e+00]     | [1.00e+00]     |\n",
       "| [1.00e+00]     | [1.00e+00]     | [1.00e+00]     | [1.00e+00]     |\n",
       "+----------------+----------------+----------------+----------------+\n",
       "\n",
       "+----------------+-----------------+-----------------+-----------------+\n",
       "| info.HWE       | info.ExcHet_EUR | info.ExcHet_EAS | info.ExcHet_AMR |\n",
       "+----------------+-----------------+-----------------+-----------------+\n",
       "| array<float64> | array<float64>  | array<float64>  | array<float64>  |\n",
       "+----------------+-----------------+-----------------+-----------------+\n",
       "| [1.00e+00]     | [1.00e+00]      | [1.00e+00]      | [9.94e-01]      |\n",
       "| [1.00e+00]     | [1.00e+00]      | [1.00e+00]      | [9.94e-01]      |\n",
       "| [1.00e+00]     | [1.00e+00]      | [1.00e+00]      | [9.94e-01]      |\n",
       "| [1.00e+00]     | [1.00e+00]      | [1.00e+00]      | [9.94e-01]      |\n",
       "| [1.00e+00]     | [1.00e+00]      | [1.00e+00]      | [9.94e-01]      |\n",
       "| [1.00e+00]     | [1.00e+00]      | [1.00e+00]      | [9.94e-01]      |\n",
       "| [1.00e+00]     | [1.00e+00]      | [1.00e+00]      | [9.94e-01]      |\n",
       "| [1.00e+00]     | [1.00e+00]      | [1.00e+00]      | [9.94e-01]      |\n",
       "| [1.00e+00]     | [1.00e+00]      | [1.00e+00]      | [9.94e-01]      |\n",
       "| [1.00e+00]     | [1.00e+00]      | [1.00e+00]      | [9.94e-01]      |\n",
       "+----------------+-----------------+-----------------+-----------------+\n",
       "\n",
       "+-----------------+-----------------+----------------+----------------+\n",
       "| info.ExcHet_SAS | info.ExcHet_AFR | info.ExcHet    | info.ME        |\n",
       "+-----------------+-----------------+----------------+----------------+\n",
       "| array<float64>  | array<float64>  | array<float64> | array<float64> |\n",
       "+-----------------+-----------------+----------------+----------------+\n",
       "| [1.00e+00]      | [8.98e-01]      | [9.58e-01]     | [0.00e+00]     |\n",
       "| [1.00e+00]      | [8.98e-01]      | [9.58e-01]     | [0.00e+00]     |\n",
       "| [1.00e+00]      | [8.98e-01]      | [9.58e-01]     | [0.00e+00]     |\n",
       "| [1.00e+00]      | [8.98e-01]      | [9.58e-01]     | [0.00e+00]     |\n",
       "| [1.00e+00]      | [8.98e-01]      | [9.58e-01]     | [0.00e+00]     |\n",
       "| [1.00e+00]      | [8.98e-01]      | [9.58e-01]     | [0.00e+00]     |\n",
       "| [1.00e+00]      | [8.98e-01]      | [9.58e-01]     | [0.00e+00]     |\n",
       "| [1.00e+00]      | [8.98e-01]      | [9.58e-01]     | [0.00e+00]     |\n",
       "| [1.00e+00]      | [8.98e-01]      | [9.58e-01]     | [0.00e+00]     |\n",
       "| [1.00e+00]      | [8.98e-01]      | [9.58e-01]     | [0.00e+00]     |\n",
       "+-----------------+-----------------+----------------+----------------+\n",
       "\n",
       "+-------------------+-------------------+-------------------+\n",
       "| info.AN_EUR_unrel | info.AN_EAS_unrel | info.AN_AMR_unrel |\n",
       "+-------------------+-------------------+-------------------+\n",
       "|             int32 |             int32 |             int32 |\n",
       "+-------------------+-------------------+-------------------+\n",
       "|              1006 |              1008 |               694 |\n",
       "|              1006 |              1008 |               694 |\n",
       "|              1006 |              1008 |               694 |\n",
       "|              1006 |              1008 |               694 |\n",
       "|              1006 |              1008 |               694 |\n",
       "|              1006 |              1008 |               694 |\n",
       "|              1006 |              1008 |               694 |\n",
       "|              1006 |              1008 |               694 |\n",
       "|              1006 |              1008 |               694 |\n",
       "|              1006 |              1008 |               694 |\n",
       "+-------------------+-------------------+-------------------+\n",
       "\n",
       "+-------------------+-------------------+-------------------+\n",
       "| info.AN_SAS_unrel | info.AN_AFR_unrel | info.AC_EUR_unrel |\n",
       "+-------------------+-------------------+-------------------+\n",
       "|             int32 |             int32 | array<int32>      |\n",
       "+-------------------+-------------------+-------------------+\n",
       "|               978 |              1322 | [0]               |\n",
       "|               978 |              1322 | [0]               |\n",
       "|               978 |              1322 | [0]               |\n",
       "|               978 |              1322 | [0]               |\n",
       "|               978 |              1322 | [0]               |\n",
       "|               978 |              1322 | [0]               |\n",
       "|               978 |              1322 | [0]               |\n",
       "|               978 |              1322 | [0]               |\n",
       "|               978 |              1322 | [0]               |\n",
       "|               978 |              1322 | [0]               |\n",
       "+-------------------+-------------------+-------------------+\n",
       "\n",
       "+-------------------+-------------------+-------------------+\n",
       "| info.AC_EAS_unrel | info.AC_AMR_unrel | info.AC_SAS_unrel |\n",
       "+-------------------+-------------------+-------------------+\n",
       "| array<int32>      | array<int32>      | array<int32>      |\n",
       "+-------------------+-------------------+-------------------+\n",
       "| [0]               | [2]               | [0]               |\n",
       "| [0]               | [2]               | [0]               |\n",
       "| [0]               | [2]               | [0]               |\n",
       "| [0]               | [2]               | [0]               |\n",
       "| [0]               | [2]               | [0]               |\n",
       "| [0]               | [2]               | [0]               |\n",
       "| [0]               | [2]               | [0]               |\n",
       "| [0]               | [2]               | [0]               |\n",
       "| [0]               | [2]               | [0]               |\n",
       "| [0]               | [2]               | [0]               |\n",
       "+-------------------+-------------------+-------------------+\n",
       "\n",
       "+-------------------+-----------------------+-----------------------+\n",
       "| info.AC_AFR_unrel | info.AC_Hom_EUR_unrel | info.AC_Hom_EAS_unrel |\n",
       "+-------------------+-----------------------+-----------------------+\n",
       "| array<int32>      | array<int32>          | array<int32>          |\n",
       "+-------------------+-----------------------+-----------------------+\n",
       "| [16]              | [0]                   | [0]                   |\n",
       "| [16]              | [0]                   | [0]                   |\n",
       "| [16]              | [0]                   | [0]                   |\n",
       "| [16]              | [0]                   | [0]                   |\n",
       "| [16]              | [0]                   | [0]                   |\n",
       "| [16]              | [0]                   | [0]                   |\n",
       "| [16]              | [0]                   | [0]                   |\n",
       "| [16]              | [0]                   | [0]                   |\n",
       "| [16]              | [0]                   | [0]                   |\n",
       "| [16]              | [0]                   | [0]                   |\n",
       "+-------------------+-----------------------+-----------------------+\n",
       "\n",
       "+-----------------------+-----------------------+-----------------------+\n",
       "| info.AC_Hom_AMR_unrel | info.AC_Hom_SAS_unrel | info.AC_Hom_AFR_unrel |\n",
       "+-----------------------+-----------------------+-----------------------+\n",
       "| array<int32>          | array<int32>          | array<int32>          |\n",
       "+-----------------------+-----------------------+-----------------------+\n",
       "| [0]                   | [0]                   | [0]                   |\n",
       "| [0]                   | [0]                   | [0]                   |\n",
       "| [0]                   | [0]                   | [0]                   |\n",
       "| [0]                   | [0]                   | [0]                   |\n",
       "| [0]                   | [0]                   | [0]                   |\n",
       "| [0]                   | [0]                   | [0]                   |\n",
       "| [0]                   | [0]                   | [0]                   |\n",
       "| [0]                   | [0]                   | [0]                   |\n",
       "| [0]                   | [0]                   | [0]                   |\n",
       "| [0]                   | [0]                   | [0]                   |\n",
       "+-----------------------+-----------------------+-----------------------+\n",
       "\n",
       "+-----------------------+-----------------------+-----------------------+\n",
       "| info.AC_Het_EUR_unrel | info.AC_Het_EAS_unrel | info.AC_Het_AMR_unrel |\n",
       "+-----------------------+-----------------------+-----------------------+\n",
       "| array<int32>          | array<int32>          | array<int32>          |\n",
       "+-----------------------+-----------------------+-----------------------+\n",
       "| [0]                   | [0]                   | [2]                   |\n",
       "| [0]                   | [0]                   | [2]                   |\n",
       "| [0]                   | [0]                   | [2]                   |\n",
       "| [0]                   | [0]                   | [2]                   |\n",
       "| [0]                   | [0]                   | [2]                   |\n",
       "| [0]                   | [0]                   | [2]                   |\n",
       "| [0]                   | [0]                   | [2]                   |\n",
       "| [0]                   | [0]                   | [2]                   |\n",
       "| [0]                   | [0]                   | [2]                   |\n",
       "| [0]                   | [0]                   | [2]                   |\n",
       "+-----------------------+-----------------------+-----------------------+\n",
       "\n",
       "+-----------------------+-----------------------+-------------------+\n",
       "| info.AC_Het_SAS_unrel | info.AC_Het_AFR_unrel | info.AF_EUR_unrel |\n",
       "+-----------------------+-----------------------+-------------------+\n",
       "| array<int32>          | array<int32>          | array<float64>    |\n",
       "+-----------------------+-----------------------+-------------------+\n",
       "| [0]                   | [16]                  | [0.00e+00]        |\n",
       "| [0]                   | [16]                  | [0.00e+00]        |\n",
       "| [0]                   | [16]                  | [0.00e+00]        |\n",
       "| [0]                   | [16]                  | [0.00e+00]        |\n",
       "| [0]                   | [16]                  | [0.00e+00]        |\n",
       "| [0]                   | [16]                  | [0.00e+00]        |\n",
       "| [0]                   | [16]                  | [0.00e+00]        |\n",
       "| [0]                   | [16]                  | [0.00e+00]        |\n",
       "| [0]                   | [16]                  | [0.00e+00]        |\n",
       "| [0]                   | [16]                  | [0.00e+00]        |\n",
       "+-----------------------+-----------------------+-------------------+\n",
       "\n",
       "+-------------------+-------------------+-------------------+\n",
       "| info.AF_EAS_unrel | info.AF_AMR_unrel | info.AF_SAS_unrel |\n",
       "+-------------------+-------------------+-------------------+\n",
       "| array<float64>    | array<float64>    | array<float64>    |\n",
       "+-------------------+-------------------+-------------------+\n",
       "| [0.00e+00]        | [2.88e-03]        | [0.00e+00]        |\n",
       "| [0.00e+00]        | [2.88e-03]        | [0.00e+00]        |\n",
       "| [0.00e+00]        | [2.88e-03]        | [0.00e+00]        |\n",
       "| [0.00e+00]        | [2.88e-03]        | [0.00e+00]        |\n",
       "| [0.00e+00]        | [2.88e-03]        | [0.00e+00]        |\n",
       "| [0.00e+00]        | [2.88e-03]        | [0.00e+00]        |\n",
       "| [0.00e+00]        | [2.88e-03]        | [0.00e+00]        |\n",
       "| [0.00e+00]        | [2.88e-03]        | [0.00e+00]        |\n",
       "| [0.00e+00]        | [2.88e-03]        | [0.00e+00]        |\n",
       "| [0.00e+00]        | [2.88e-03]        | [0.00e+00]        |\n",
       "+-------------------+-------------------+-------------------+\n",
       "\n",
       "+-------------------+--------------------+--------------------+\n",
       "| info.AF_AFR_unrel | info.HWE_EUR_unrel | info.HWE_EAS_unrel |\n",
       "+-------------------+--------------------+--------------------+\n",
       "| array<float64>    | array<float64>     | array<float64>     |\n",
       "+-------------------+--------------------+--------------------+\n",
       "| [1.21e-02]        | NA                 | NA                 |\n",
       "| [1.21e-02]        | NA                 | NA                 |\n",
       "| [1.21e-02]        | NA                 | NA                 |\n",
       "| [1.21e-02]        | NA                 | NA                 |\n",
       "| [1.21e-02]        | NA                 | NA                 |\n",
       "| [1.21e-02]        | NA                 | NA                 |\n",
       "| [1.21e-02]        | NA                 | NA                 |\n",
       "| [1.21e-02]        | NA                 | NA                 |\n",
       "| [1.21e-02]        | NA                 | NA                 |\n",
       "| [1.21e-02]        | NA                 | NA                 |\n",
       "+-------------------+--------------------+--------------------+\n",
       "\n",
       "+--------------------+--------------------+--------------------+\n",
       "| info.HWE_AMR_unrel | info.HWE_SAS_unrel | info.HWE_AFR_unrel |\n",
       "+--------------------+--------------------+--------------------+\n",
       "| array<float64>     | array<float64>     | array<float64>     |\n",
       "+--------------------+--------------------+--------------------+\n",
       "| NA                 | NA                 | NA                 |\n",
       "| NA                 | NA                 | NA                 |\n",
       "| NA                 | NA                 | NA                 |\n",
       "| NA                 | NA                 | NA                 |\n",
       "| NA                 | NA                 | NA                 |\n",
       "| NA                 | NA                 | NA                 |\n",
       "| NA                 | NA                 | NA                 |\n",
       "| NA                 | NA                 | NA                 |\n",
       "| NA                 | NA                 | NA                 |\n",
       "| NA                 | NA                 | NA                 |\n",
       "+--------------------+--------------------+--------------------+\n",
       "\n",
       "+------------------------------------------------------------------------------+\n",
       "| info.CSQ                                                                     |\n",
       "+------------------------------------------------------------------------------+\n",
       "| array<str>                                                                   |\n",
       "+------------------------------------------------------------------------------+\n",
       "| [\"C|upstream_gene_variant|MODIFIER|SELENOO|ENSG00000073169|Transcript|ENS... |\n",
       "| [\"C|upstream_gene_variant|MODIFIER|SELENOO|ENSG00000073169|Transcript|ENS... |\n",
       "| [\"C|upstream_gene_variant|MODIFIER|SELENOO|ENSG00000073169|Transcript|ENS... |\n",
       "| [\"C|upstream_gene_variant|MODIFIER|SELENOO|ENSG00000073169|Transcript|ENS... |\n",
       "| [\"C|upstream_gene_variant|MODIFIER|SELENOO|ENSG00000073169|Transcript|ENS... |\n",
       "| [\"C|upstream_gene_variant|MODIFIER|SELENOO|ENSG00000073169|Transcript|ENS... |\n",
       "| [\"C|upstream_gene_variant|MODIFIER|SELENOO|ENSG00000073169|Transcript|ENS... |\n",
       "| [\"C|upstream_gene_variant|MODIFIER|SELENOO|ENSG00000073169|Transcript|ENS... |\n",
       "| [\"C|upstream_gene_variant|MODIFIER|SELENOO|ENSG00000073169|Transcript|ENS... |\n",
       "| [\"C|upstream_gene_variant|MODIFIER|SELENOO|ENSG00000073169|Transcript|ENS... |\n",
       "+------------------------------------------------------------------------------+\n",
       "\n",
       "+-----------+---------+--------------+-------+-------+------+--------+-------+\n",
       "| s         |      AB | AD           |    DP |    GQ | GT   | MIN_DP |   MQ0 |\n",
       "+-----------+---------+--------------+-------+-------+------+--------+-------+\n",
       "| str       | float64 | array<int32> | int32 | int32 | call |  int32 | int32 |\n",
       "+-----------+---------+--------------+-------+-------+------+--------+-------+\n",
       "| \"HG00096\" |      NA | [36,0]       |    36 |    99 | 0/0  |     NA |    NA |\n",
       "| \"HG00097\" |      NA | [39,0]       |    39 |    99 | 0/0  |     NA |    NA |\n",
       "| \"HG00099\" |      NA | [53,0]       |    53 |    99 | 0/0  |     NA |    NA |\n",
       "| \"HG00100\" |      NA | [38,0]       |    38 |    99 | 0/0  |     NA |    NA |\n",
       "| \"HG00101\" |      NA | [39,0]       |    39 |    99 | 0/0  |     NA |    NA |\n",
       "| \"HG00102\" |      NA | [39,0]       |    39 |    99 | 0/0  |     NA |    NA |\n",
       "| \"HG00103\" |      NA | [37,0]       |    37 |    99 | 0/0  |     NA |    NA |\n",
       "| \"HG00105\" |      NA | [31,0]       |    31 |    81 | 0/0  |     NA |    NA |\n",
       "| \"HG00106\" |      NA | [37,0]       |    37 |    99 | 0/0  |     NA |    NA |\n",
       "| \"HG00107\" |      NA | [37,0]       |    37 |    99 | 0/0  |     NA |    NA |\n",
       "+-----------+---------+--------------+-------+-------+------+--------+-------+\n",
       "\n",
       "+------+-----+--------------+-------+--------------+\n",
       "| PGT  | PID | PL           |   RGQ | SB           |\n",
       "+------+-----+--------------+-------+--------------+\n",
       "| call | str | array<int32> | int32 | array<int32> |\n",
       "+------+-----+--------------+-------+--------------+\n",
       "| NA   | NA  | [0,99,1301]  |    NA | NA           |\n",
       "| NA   | NA  | [0,105,1260] |    NA | NA           |\n",
       "| NA   | NA  | [0,120,1800] |    NA | NA           |\n",
       "| NA   | NA  | [0,99,1371]  |    NA | NA           |\n",
       "| NA   | NA  | [0,100,1356] |    NA | NA           |\n",
       "| NA   | NA  | [0,108,1391] |    NA | NA           |\n",
       "| NA   | NA  | [0,99,1236]  |    NA | NA           |\n",
       "| NA   | NA  | [0,81,1215]  |    NA | NA           |\n",
       "| NA   | NA  | [0,108,1235] |    NA | NA           |\n",
       "| NA   | NA  | [0,102,1336] |    NA | NA           |\n",
       "+------+-----+--------------+-------+--------------+\n",
       "showing top 10 rows"
      ]
     },
     "metadata": {},
     "output_type": "display_data"
    }
   ],
   "source": [
    "mt.entries().show()"
   ]
  },
  {
   "cell_type": "markdown",
   "id": "0ac55bfb",
   "metadata": {},
   "source": [
    "### 샘플 정보 불러들이기\n",
    "\n",
    "\n",
    "Column 필드는 sample level information, 즉 샘플 개개인의 메타 정보를 담고 있습니다. 하지만 VCF 파일에서 얻을 수 있는 샘플 정보는 이름밖에 없죠. 따라서 샘플의 Pedigree 정보를 알 수 있는 '.ped' 포맷의 파일을 불러들일 것입니다. Ped 파일을 불러들일 때는 `import_fam()`를 사용합니다. Ped file format은 Pedigree, Sex, Phenotype 정보를 담고 있습니다. 자세한 정보는 다음 [링크](https://gatk.broadinstitute.org/hc/en-us/articles/360035531972-PED-Pedigree-format)를 참고하세요. 이 가족 데이터를 이용해서 inherited variant (유전이 되는 유전 변이)와 germline de novo variant (부모의 생식세포에서 발생하여 자녀에게만 나타나는 변이)를 확인하려고 합니다. "
   ]
  },
  {
   "cell_type": "code",
   "execution_count": 8,
   "id": "ccea3f09-2b39-46b7-8d6d-d903eac96315",
   "metadata": {
    "ExecuteTime": {
     "end_time": "2022-01-17T10:50:52.294075Z",
     "start_time": "2022-01-17T10:50:51.934019Z"
    },
    "tags": []
   },
   "outputs": [
    {
     "name": "stdout",
     "output_type": "stream",
     "text": [
      "----------------------------------------\n",
      "Global fields:\n",
      "    None\n",
      "----------------------------------------\n",
      "Row fields:\n",
      "    'id': str \n",
      "    'fam_id': str \n",
      "    'pat_id': str \n",
      "    'mat_id': str \n",
      "    'is_female': bool \n",
      "    'is_case': bool \n",
      "----------------------------------------\n",
      "Key: ['id']\n",
      "----------------------------------------\n"
     ]
    }
   ],
   "source": [
    "fam = hl.import_fam('inputs/1kg_v3_20200731_complete_fam_633.ped')\n",
    "fam.describe()"
   ]
  },
  {
   "cell_type": "markdown",
   "id": "5b54eb2a",
   "metadata": {},
   "source": [
    "이 외에도 샘플 정보를 추가하고 싶으면, 테이블 형태(txt, tsv 등) 파일을 불러들여 추가할 수 있습니다. 우리는 샘플이 자녀인지, 부모인지를 구분하기 위해 추가적인 정보를 하나 더 불러오도록 하겠습니다. `import_table()`는 txt, tsv 등의 파일을 hail table 형태로 읽어들입니다. 데이터 불러들일 때 'key' 옵션을 통해 특정 변수를 key로 지정할 수 있습니다. Hail 에서 VCF, bed, ped 등 고정된 형식의 데이터를 불러올 때는 자동적으로 key가 지정됩니다. 하지만 두 번째로 불러들인 txt 파일은 그렇지 않기 때문에 옵션을 통해 샘플 id를 key로 지정해줘야 합니다."
   ]
  },
  {
   "cell_type": "code",
   "execution_count": 9,
   "id": "b53e635b",
   "metadata": {
    "ExecuteTime": {
     "end_time": "2022-01-17T10:50:52.334218Z",
     "start_time": "2022-01-17T10:50:52.295893Z"
    }
   },
   "outputs": [
    {
     "name": "stderr",
     "output_type": "stream",
     "text": [
      "2022-01-23 18:49:54 Hail: INFO: Reading table without type imputation\n",
      "  Loading field 'FID' as type str (not specified)\n",
      "  Loading field 'Individual ID' as type str (not specified)\n",
      "  Loading field 'Paternal ID' as type str (not specified)\n",
      "  Loading field 'Maternal ID' as type str (not specified)\n",
      "  Loading field 'Gender' as type str (not specified)\n",
      "  Loading field 'Phenotype' as type str (not specified)\n",
      "  Loading field 'ROLE' as type str (not specified)\n",
      "  Loading field 'height' as type float64 (user-supplied)\n",
      "  Loading field 'NVIQ' as type float64 (user-supplied)\n",
      "  Loading field 'Population' as type str (not specified)\n"
     ]
    }
   ],
   "source": [
    "info = hl.import_table('inputs/1kg_v3_20200731_complete_fam_633.txt', \n",
    "                       key = 'Individual ID',\n",
    "                       types = {'height' : hl.tfloat, 'NVIQ' : hl.tfloat})"
   ]
  },
  {
   "cell_type": "markdown",
   "id": "3d885d4d",
   "metadata": {},
   "source": [
    "불러온 샘플 정보를 Column 필드에 annotate 할 차례입니다. `annotate_cols()` 함수를 사용해보세요."
   ]
  },
  {
   "cell_type": "code",
   "execution_count": 10,
   "id": "770bfc32-ee54-4447-9061-ee711b600442",
   "metadata": {
    "ExecuteTime": {
     "end_time": "2022-01-17T10:50:52.411188Z",
     "start_time": "2022-01-17T10:50:52.335094Z"
    },
    "tags": []
   },
   "outputs": [],
   "source": [
    "# Annotate sample & pedigree information to variants data\n",
    "mt = mt.annotate_cols(fam = fam[mt.s].fam_id,\n",
    "                     pat_id = fam[mt.s].pat_id,\n",
    "                     mat_id = fam[mt.s].mat_id,\n",
    "                     isFemale = fam[mt.s].is_female,\n",
    "                     phenotype = fam[mt.s].is_case,\n",
    "                     ROLE = info[mt.s].ROLE,\n",
    "                     population = info[mt.s].Population,\n",
    "                     height = info[mt.s].height,\n",
    "                     NVIQ = info[mt.s].NVIQ)"
   ]
  },
  {
   "cell_type": "code",
   "execution_count": 11,
   "id": "65a43078",
   "metadata": {
    "ExecuteTime": {
     "end_time": "2022-01-17T10:50:52.414995Z",
     "start_time": "2022-01-17T10:50:52.412226Z"
    }
   },
   "outputs": [
    {
     "name": "stdout",
     "output_type": "stream",
     "text": [
      "----------------------------------------\n",
      "Global fields:\n",
      "    None\n",
      "----------------------------------------\n",
      "Column fields:\n",
      "    's': str\n",
      "    'fam': str\n",
      "    'pat_id': str\n",
      "    'mat_id': str\n",
      "    'isFemale': bool\n",
      "    'phenotype': bool\n",
      "    'ROLE': str\n",
      "    'population': str\n",
      "    'height': float64\n",
      "    'NVIQ': float64\n",
      "----------------------------------------\n",
      "Row fields:\n",
      "    'locus': locus<GRCh38>\n",
      "    'alleles': array<str>\n",
      "    'rsid': str\n",
      "    'qual': float64\n",
      "    'filters': set<str>\n",
      "    'info': struct {\n",
      "        AC: array<int32>, \n",
      "        AF: array<float64>, \n",
      "        AN: int32, \n",
      "        BaseQRankSum: float64, \n",
      "        ClippingRankSum: float64, \n",
      "        DP: int32, \n",
      "        DS: bool, \n",
      "        END: int32, \n",
      "        FS: float64, \n",
      "        HaplotypeScore: float64, \n",
      "        InbreedingCoeff: float64, \n",
      "        MLEAC: array<int32>, \n",
      "        MLEAF: array<float64>, \n",
      "        MQ: float64, \n",
      "        MQ0: int32, \n",
      "        MQRankSum: float64, \n",
      "        NEGATIVE_TRAIN_SITE: bool, \n",
      "        POSITIVE_TRAIN_SITE: bool, \n",
      "        QD: float64, \n",
      "        RAW_MQ: float64, \n",
      "        ReadPosRankSum: float64, \n",
      "        SOR: float64, \n",
      "        VQSLOD: float64, \n",
      "        VariantType: str, \n",
      "        culprit: str, \n",
      "        AN_EUR: int32, \n",
      "        AN_EAS: int32, \n",
      "        AN_AMR: int32, \n",
      "        AN_SAS: int32, \n",
      "        AN_AFR: int32, \n",
      "        AC_EUR: array<int32>, \n",
      "        AC_EAS: array<int32>, \n",
      "        AC_AMR: array<int32>, \n",
      "        AC_SAS: array<int32>, \n",
      "        AC_AFR: array<int32>, \n",
      "        AC_Hom_EUR: array<int32>, \n",
      "        AC_Hom_EAS: array<int32>, \n",
      "        AC_Hom_AMR: array<int32>, \n",
      "        AC_Hom_SAS: array<int32>, \n",
      "        AC_Hom_AFR: array<int32>, \n",
      "        AC_Hom: array<int32>, \n",
      "        AC_Het_EUR: array<int32>, \n",
      "        AC_Het_EAS: array<int32>, \n",
      "        AC_Het_AMR: array<int32>, \n",
      "        AC_Het_SAS: array<int32>, \n",
      "        AC_Het_AFR: array<int32>, \n",
      "        AC_Het: array<int32>, \n",
      "        AF_EUR: array<float64>, \n",
      "        AF_EAS: array<float64>, \n",
      "        AF_AMR: array<float64>, \n",
      "        AF_SAS: array<float64>, \n",
      "        AF_AFR: array<float64>, \n",
      "        HWE_EUR: array<float64>, \n",
      "        HWE_EAS: array<float64>, \n",
      "        HWE_AMR: array<float64>, \n",
      "        HWE_SAS: array<float64>, \n",
      "        HWE_AFR: array<float64>, \n",
      "        HWE: array<float64>, \n",
      "        ExcHet_EUR: array<float64>, \n",
      "        ExcHet_EAS: array<float64>, \n",
      "        ExcHet_AMR: array<float64>, \n",
      "        ExcHet_SAS: array<float64>, \n",
      "        ExcHet_AFR: array<float64>, \n",
      "        ExcHet: array<float64>, \n",
      "        ME: array<float64>, \n",
      "        AN_EUR_unrel: int32, \n",
      "        AN_EAS_unrel: int32, \n",
      "        AN_AMR_unrel: int32, \n",
      "        AN_SAS_unrel: int32, \n",
      "        AN_AFR_unrel: int32, \n",
      "        AC_EUR_unrel: array<int32>, \n",
      "        AC_EAS_unrel: array<int32>, \n",
      "        AC_AMR_unrel: array<int32>, \n",
      "        AC_SAS_unrel: array<int32>, \n",
      "        AC_AFR_unrel: array<int32>, \n",
      "        AC_Hom_EUR_unrel: array<int32>, \n",
      "        AC_Hom_EAS_unrel: array<int32>, \n",
      "        AC_Hom_AMR_unrel: array<int32>, \n",
      "        AC_Hom_SAS_unrel: array<int32>, \n",
      "        AC_Hom_AFR_unrel: array<int32>, \n",
      "        AC_Het_EUR_unrel: array<int32>, \n",
      "        AC_Het_EAS_unrel: array<int32>, \n",
      "        AC_Het_AMR_unrel: array<int32>, \n",
      "        AC_Het_SAS_unrel: array<int32>, \n",
      "        AC_Het_AFR_unrel: array<int32>, \n",
      "        AF_EUR_unrel: array<float64>, \n",
      "        AF_EAS_unrel: array<float64>, \n",
      "        AF_AMR_unrel: array<float64>, \n",
      "        AF_SAS_unrel: array<float64>, \n",
      "        AF_AFR_unrel: array<float64>, \n",
      "        HWE_EUR_unrel: array<float64>, \n",
      "        HWE_EAS_unrel: array<float64>, \n",
      "        HWE_AMR_unrel: array<float64>, \n",
      "        HWE_SAS_unrel: array<float64>, \n",
      "        HWE_AFR_unrel: array<float64>, \n",
      "        CSQ: array<str>\n",
      "    }\n",
      "----------------------------------------\n",
      "Entry fields:\n",
      "    'AB': float64\n",
      "    'AD': array<int32>\n",
      "    'DP': int32\n",
      "    'GQ': int32\n",
      "    'GT': call\n",
      "    'MIN_DP': int32\n",
      "    'MQ0': int32\n",
      "    'PGT': call\n",
      "    'PID': str\n",
      "    'PL': array<int32>\n",
      "    'RGQ': int32\n",
      "    'SB': array<int32>\n",
      "----------------------------------------\n",
      "Column key: ['s']\n",
      "Row key: ['locus', 'alleles']\n",
      "----------------------------------------\n"
     ]
    }
   ],
   "source": [
    "mt.describe()"
   ]
  },
  {
   "cell_type": "markdown",
   "id": "ebe699b7",
   "metadata": {},
   "source": [
    "이번엔 샘플 정보에 따라 matrix table에 존재하는 샘플들을 추출해봅시다"
   ]
  },
  {
   "cell_type": "code",
   "execution_count": 12,
   "id": "fb9e2b76",
   "metadata": {
    "ExecuteTime": {
     "end_time": "2022-01-17T10:51:05.159387Z",
     "start_time": "2022-01-17T10:50:52.416025Z"
    }
   },
   "outputs": [
    {
     "name": "stderr",
     "output_type": "stream",
     "text": [
      "2022-01-23 18:49:58 Hail: INFO: Coerced sorted dataset              (0 + 4) / 4]\n",
      "[Stage 11:>                                                         (0 + 4) / 4]\r"
     ]
    },
    {
     "name": "stdout",
     "output_type": "stream",
     "text": [
      "Before filtering samples, (# of variants, # of samples) =  (34208, 3202)\n"
     ]
    },
    {
     "name": "stderr",
     "output_type": "stream",
     "text": [
      "2022-01-23 18:50:05 Hail: INFO: Coerced sorted dataset              (0 + 4) / 4]\n",
      "[Stage 14:>                                                         (0 + 4) / 4]\r"
     ]
    },
    {
     "name": "stdout",
     "output_type": "stream",
     "text": [
      "After filtering samples, (# of variants, # of samples) =  (34208, 160)\n"
     ]
    },
    {
     "name": "stderr",
     "output_type": "stream",
     "text": [
      "[Stage 14:===========================================>              (3 + 1) / 4]\r"
     ]
    }
   ],
   "source": [
    "print(\"Before filtering samples, (# of variants, # of samples) = \", mt.count())\n",
    "mt_chs = mt.filter_cols(mt.population=='CHS', keep=True) # filter out samples that are not in ped file\n",
    "print(\"After filtering samples, (# of variants, # of samples) = \", mt_chs.count())\n",
    "# mt.cols().show()"
   ]
  },
  {
   "cell_type": "markdown",
   "id": "01343ff3",
   "metadata": {},
   "source": [
    "### Function annotation 을 추가하기\n",
    "\n",
    "전장유전체 분석에서 찾은 유전변이가 특정 기능을 담당하는 지역에서 발생할 수 있습니다. 전장유전체는 noncoding genome에서도 변이를 찾을 수 있기 때문에, 유전자 발현과정에서 전사조절인자가 붙는 지역을 지정하면, 그 지역에서 발생한 변이를 추출할 수 있습니다. 아래는 ENCODE 프로젝트에서 chip-seq을 통해 찾은 다양한 Cis-Regulatory Elements (CRE)가 붙는 유전체 지역에 대한 정보를 bed file 형태로 UCSC에서 다운로드 받았습니다 ([링크](https://genome.ucsc.edu/cgi-bin/hgTrackUi?hgsid=1259223423_dDFJRqzUKODz4m3GycQ5RA0apAYw&db=hg38&c=chr22&g=encodeCcreCombined)).\n",
    "\n",
    "```\n",
    "bigBedToBed http://hgdownload.soe.ucsc.edu/gbdb/hg38/encode3/ccre/encodeCcreCombined.bb -chrom=chr21 -start=0 -end=100000000 stdout | cut -f1-4 > ucsc.encode_cre.hg38.bed\n",
    "```"
   ]
  },
  {
   "cell_type": "code",
   "execution_count": 13,
   "id": "5b971f2c",
   "metadata": {
    "ExecuteTime": {
     "end_time": "2022-01-17T10:51:05.189147Z",
     "start_time": "2022-01-17T10:51:05.162537Z"
    }
   },
   "outputs": [
    {
     "name": "stdout",
     "output_type": "stream",
     "text": [
      "----------------------------------------\n",
      "Global fields:\n",
      "    None\n",
      "----------------------------------------\n",
      "Row fields:\n",
      "    'interval': interval<locus<GRCh38>> \n",
      "    'target': str \n",
      "----------------------------------------\n",
      "Key: ['interval']\n",
      "----------------------------------------\n"
     ]
    },
    {
     "name": "stderr",
     "output_type": "stream",
     "text": [
      "2022-01-23 18:50:08 Hail: INFO: Reading table without type imputation\n",
      "  Loading field 'f0' as type str (user-supplied)\n",
      "  Loading field 'f1' as type int32 (user-supplied)\n",
      "  Loading field 'f2' as type int32 (user-supplied)\n",
      "  Loading field 'f3' as type str (user-supplied)\n"
     ]
    }
   ],
   "source": [
    "tb_encode_cre = hl.import_bed('resources/ucsc.encode_cre.hg38.bed', reference_genome='GRCh38')\n",
    "tb_encode_cre.describe()"
   ]
  },
  {
   "cell_type": "markdown",
   "id": "f944b9cb",
   "metadata": {},
   "source": [
    "## Hail 기본 문법을 이용한 데이터 둘러보기\n",
    "\n",
    "Hail 기본 문법에 익숙해지기 위해, 불러드린 자료들의 정보를 확인해봅시다.\n",
    "\n",
    "### 유전변이 정보 확인하기\n",
    "\n",
    "GATK 파이프라인에서 만들어진 VCF는 각 샘플의 variant와 genotype 정보를 갖고 있습니다. Variant는 특정 locus에서 염기서열이 어떻게 변화했는지에 대한 것이고, genotype은 allele에 대한 정보를 갖고 있습니다. \n",
    "\n",
    "또한, VCF에는 variant calling에 대한 품질지표(quality metrics)를 variant과 genotype에 대하여 제공합니다. \n",
    "\n",
    "1. Variant 수준의 품질 지표는 해당 VCF에 존재하는 샘플들에게 공통적으로 산출된 지표이고, locus 수준의 지표라고 할 수 있습니다. INFO 컬럼에 저장되어 있습니다.\n",
    "2. Genotype 수준의 품질 지표는 각 locus에서 발견된 variant에 대하여 샘플이 갖는 지표를 말합니다. 각 샘플 컬럼에 저장되어 있고, FORMAT 컬럼에 저장된 지표들을 따릅니다. 예를들어, FORMAT에 GT:AD:PL 순서로 나온다면, 샘플 컬럼에도 동일한 정보(0/1:30,30:100,0,1000)로 저장되어 있습니다.\n",
    "\n",
    "먼저 특정 locus에서 variant를 추출해봅시다."
   ]
  },
  {
   "cell_type": "code",
   "execution_count": 14,
   "id": "b94d6978",
   "metadata": {
    "ExecuteTime": {
     "end_time": "2022-01-17T10:51:23.257761Z",
     "start_time": "2022-01-17T10:51:05.192099Z"
    }
   },
   "outputs": [
    {
     "name": "stderr",
     "output_type": "stream",
     "text": [
      "2022-01-23 18:50:12 Hail: INFO: Coerced sorted dataset              (0 + 4) / 4]\n",
      "2022-01-23 18:50:12 Hail: INFO: reading 1 of 4 data partitions\n",
      "2022-01-23 18:50:15 Hail: INFO: Coerced sorted dataset              (0 + 4) / 4]\n",
      "2022-01-23 18:50:15 Hail: INFO: reading 1 of 4 data partitions\n",
      "[Stage 17:>                                                         (0 + 1) / 1]\r"
     ]
    },
    {
     "data": {
      "text/html": [
       "<table><thead><tr><td style=\"white-space: nowrap; max-width: 500px; overflow: hidden; text-overflow: ellipsis; \" colspan=\"1\"><div style=\"text-align: left;\"></div></td><td style=\"white-space: nowrap; max-width: 500px; overflow: hidden; text-overflow: ellipsis; \" colspan=\"1\"><div style=\"text-align: left;\"></div></td></tr><tr><td style=\"white-space: nowrap; max-width: 500px; overflow: hidden; text-overflow: ellipsis; \" colspan=\"1\"><div style=\"text-align: left;border-bottom: solid 2px #000; padding-bottom: 5px\">locus</div></td><td style=\"white-space: nowrap; max-width: 500px; overflow: hidden; text-overflow: ellipsis; \" colspan=\"1\"><div style=\"text-align: left;border-bottom: solid 2px #000; padding-bottom: 5px\">alleles</div></td></tr><tr><td style=\"white-space: nowrap; max-width: 500px; overflow: hidden; text-overflow: ellipsis; text-align: left;\">locus&lt;GRCh38&gt;</td><td style=\"white-space: nowrap; max-width: 500px; overflow: hidden; text-overflow: ellipsis; text-align: left;\">array&lt;str&gt;</td></tr>\n",
       "</thead><tbody><tr><td style=\"white-space: nowrap; max-width: 500px; overflow: hidden; text-overflow: ellipsis; \">chr22:50197928</td><td style=\"white-space: nowrap; max-width: 500px; overflow: hidden; text-overflow: ellipsis; \">[&quot;C&quot;,&quot;T&quot;]</td></tr>\n",
       "</tbody></table><p style=\"background: #fdd; padding: 0.4em;\">showing the first 0 of 3202 columns</p>\n"
      ],
      "text/plain": [
       "+----------------+------------+\n",
       "| locus          | alleles    |\n",
       "+----------------+------------+\n",
       "| locus<GRCh38>  | array<str> |\n",
       "+----------------+------------+\n",
       "| chr22:50197928 | [\"C\",\"T\"]  |\n",
       "+----------------+------------+\n",
       "showing the first 0 of 3202 columns"
      ]
     },
     "metadata": {},
     "output_type": "display_data"
    }
   ],
   "source": [
    "locus = hl.locus(contig = \"chr22\", pos = 50197928, reference_genome = 'GRCh38') \n",
    "mt.filter_rows(mt.locus == locus).show()"
   ]
  },
  {
   "cell_type": "markdown",
   "id": "62fdd4c7",
   "metadata": {},
   "source": [
    "자, 염색체 22번의 `50197928` 번째 위치에  나타난 변이를 보면 `[\"C\", \"T\"]`와 같은 list가 존재합니다. 처음의 `C`는 reference allele에 해당하고, `T`는 alternative allele에 해당합니다. 우리는 `T`를 `변이(variant)`라고 부릅니다.\n",
    "\n",
    "변이는 \"염기서열 상의 변화\"이고 현재 사용하는 VCF에 하나의 row에 기록됩니다. \n",
    "\n",
    "유전형(genotype)은 이 VCF에 포함된 샘플들에 개별적으로 기록됩니다. 유전형은 3가지 경우로 구분됩니다. \n",
    "\n",
    "\n",
    "이번에는 특정 지역에서 발생하는 variant를 추출해봅시다. 우리는 염색체 22q13.3에 위치한 SHANK3 유전자에 발생한 변이들을 보고 싶습니다. 이 유전자는 뇌기능에 중요한 유전자이면서, 변이가 발생하면 Phelan-McDermid syndrome 등을 일으킨다고 잘 알려져있죠. 그러면 SHANK3 위치(`chr22:50674642-50731312`)를 이용해서 변이를 추출해보겠습니다."
   ]
  },
  {
   "cell_type": "code",
   "execution_count": 15,
   "id": "58149cfb",
   "metadata": {
    "ExecuteTime": {
     "end_time": "2022-01-17T10:51:34.598420Z",
     "start_time": "2022-01-17T10:51:23.258745Z"
    }
   },
   "outputs": [
    {
     "name": "stderr",
     "output_type": "stream",
     "text": [
      "2022-01-23 18:50:21 Hail: INFO: Coerced sorted dataset              (0 + 4) / 4]\n",
      "2022-01-23 18:50:21 Hail: INFO: reading 1 of 4 data partitions\n",
      "2022-01-23 18:50:24 Hail: INFO: Coerced sorted dataset              (0 + 4) / 4]\n",
      "2022-01-23 18:50:24 Hail: INFO: reading 1 of 4 data partitions\n"
     ]
    },
    {
     "data": {
      "text/html": [
       "<table><thead><tr><td style=\"white-space: nowrap; max-width: 500px; overflow: hidden; text-overflow: ellipsis; \" colspan=\"1\"><div style=\"text-align: left;\"></div></td><td style=\"white-space: nowrap; max-width: 500px; overflow: hidden; text-overflow: ellipsis; \" colspan=\"1\"><div style=\"text-align: left;\"></div></td></tr><tr><td style=\"white-space: nowrap; max-width: 500px; overflow: hidden; text-overflow: ellipsis; \" colspan=\"1\"><div style=\"text-align: left;border-bottom: solid 2px #000; padding-bottom: 5px\">locus</div></td><td style=\"white-space: nowrap; max-width: 500px; overflow: hidden; text-overflow: ellipsis; \" colspan=\"1\"><div style=\"text-align: left;border-bottom: solid 2px #000; padding-bottom: 5px\">alleles</div></td></tr><tr><td style=\"white-space: nowrap; max-width: 500px; overflow: hidden; text-overflow: ellipsis; text-align: left;\">locus&lt;GRCh38&gt;</td><td style=\"white-space: nowrap; max-width: 500px; overflow: hidden; text-overflow: ellipsis; text-align: left;\">array&lt;str&gt;</td></tr>\n",
       "</thead><tbody><tr><td style=\"white-space: nowrap; max-width: 500px; overflow: hidden; text-overflow: ellipsis; \">chr22:50674714</td><td style=\"white-space: nowrap; max-width: 500px; overflow: hidden; text-overflow: ellipsis; \">[&quot;G&quot;,&quot;A&quot;]</td></tr>\n",
       "<tr><td style=\"white-space: nowrap; max-width: 500px; overflow: hidden; text-overflow: ellipsis; \">chr22:50674732</td><td style=\"white-space: nowrap; max-width: 500px; overflow: hidden; text-overflow: ellipsis; \">[&quot;G&quot;,&quot;C&quot;]</td></tr>\n",
       "<tr><td style=\"white-space: nowrap; max-width: 500px; overflow: hidden; text-overflow: ellipsis; \">chr22:50674759</td><td style=\"white-space: nowrap; max-width: 500px; overflow: hidden; text-overflow: ellipsis; \">[&quot;C&quot;,&quot;T&quot;]</td></tr>\n",
       "<tr><td style=\"white-space: nowrap; max-width: 500px; overflow: hidden; text-overflow: ellipsis; \">chr22:50674764</td><td style=\"white-space: nowrap; max-width: 500px; overflow: hidden; text-overflow: ellipsis; \">[&quot;A&quot;,&quot;C&quot;]</td></tr>\n",
       "<tr><td style=\"white-space: nowrap; max-width: 500px; overflow: hidden; text-overflow: ellipsis; \">chr22:50674765</td><td style=\"white-space: nowrap; max-width: 500px; overflow: hidden; text-overflow: ellipsis; \">[&quot;C&quot;,&quot;G&quot;]</td></tr>\n",
       "<tr><td style=\"white-space: nowrap; max-width: 500px; overflow: hidden; text-overflow: ellipsis; \">chr22:50674782</td><td style=\"white-space: nowrap; max-width: 500px; overflow: hidden; text-overflow: ellipsis; \">[&quot;C&quot;,&quot;A&quot;,&quot;G&quot;]</td></tr>\n",
       "<tr><td style=\"white-space: nowrap; max-width: 500px; overflow: hidden; text-overflow: ellipsis; \">chr22:50674806</td><td style=\"white-space: nowrap; max-width: 500px; overflow: hidden; text-overflow: ellipsis; \">[&quot;G&quot;,&quot;C&quot;]</td></tr>\n",
       "<tr><td style=\"white-space: nowrap; max-width: 500px; overflow: hidden; text-overflow: ellipsis; \">chr22:50674852</td><td style=\"white-space: nowrap; max-width: 500px; overflow: hidden; text-overflow: ellipsis; \">[&quot;G&quot;,&quot;A&quot;]</td></tr>\n",
       "<tr><td style=\"white-space: nowrap; max-width: 500px; overflow: hidden; text-overflow: ellipsis; \">chr22:50674908</td><td style=\"white-space: nowrap; max-width: 500px; overflow: hidden; text-overflow: ellipsis; \">[&quot;G&quot;,&quot;A&quot;]</td></tr>\n",
       "<tr><td style=\"white-space: nowrap; max-width: 500px; overflow: hidden; text-overflow: ellipsis; \">chr22:50674909</td><td style=\"white-space: nowrap; max-width: 500px; overflow: hidden; text-overflow: ellipsis; \">[&quot;C&quot;,&quot;G&quot;]</td></tr>\n",
       "</tbody></table><p style=\"background: #fdd; padding: 0.4em;\">showing top 10 rows</p>\n",
       "<p style=\"background: #fdd; padding: 0.4em;\">showing the first 0 of 3202 columns</p>\n"
      ],
      "text/plain": [
       "+----------------+---------------+\n",
       "| locus          | alleles       |\n",
       "+----------------+---------------+\n",
       "| locus<GRCh38>  | array<str>    |\n",
       "+----------------+---------------+\n",
       "| chr22:50674714 | [\"G\",\"A\"]     |\n",
       "| chr22:50674732 | [\"G\",\"C\"]     |\n",
       "| chr22:50674759 | [\"C\",\"T\"]     |\n",
       "| chr22:50674764 | [\"A\",\"C\"]     |\n",
       "| chr22:50674765 | [\"C\",\"G\"]     |\n",
       "| chr22:50674782 | [\"C\",\"A\",\"G\"] |\n",
       "| chr22:50674806 | [\"G\",\"C\"]     |\n",
       "| chr22:50674852 | [\"G\",\"A\"]     |\n",
       "| chr22:50674908 | [\"G\",\"A\"]     |\n",
       "| chr22:50674909 | [\"C\",\"G\"]     |\n",
       "+----------------+---------------+\n",
       "showing top 10 rows\n",
       "showing the first 0 of 3202 columns"
      ]
     },
     "metadata": {},
     "output_type": "display_data"
    }
   ],
   "source": [
    "locus = hl.locus_interval(\"chr22\", 50674642, 50731312, reference_genome='GRCh38')\n",
    "hl.filter_intervals(mt, [locus]).show()"
   ]
  },
  {
   "cell_type": "markdown",
   "id": "bf05a88a",
   "metadata": {},
   "source": [
    "일반적으로 인간 유전체의 유전변이는 2개의 allele로 구성된 3개의 유전형(genotype)을 갖습니다. 이것을 bi-allelic variant라고 부릅니다. 하나의 allele은 참조유전체(reference genome)과 동일한 것이므로 reference allele이라 부르고, 다른 하나는 변이에 의해 생기는 alternative allele (혹은 variant라고 allele)이라고 부릅니다. \n",
    "\n",
    "그러나 종종 예외도 존재합니다. 바로 multi-allelic variant 입니다. 위 테이블을 보시면, 두가지 이상의 allele이 나오는 경우가 있습니다. `50674782` 위치에서 발생한 변이를 보면, `[\"C\",\"A\",\"G\"]`이와 같이 3개의 allele이 존재합니다. 우리는 이걸 `multi-allelic variant`라고 부릅니다. 같은 locus에 두개 이상의 alternative allele이 나오는 경우이죠. \n",
    "\n",
    "전장유전체가 보편화 된 초기(2014년 쯤)에 `multi-allelic variant`는 큰 이슈였습니다. 그 시기쯤 GATK에서 joint genotyping module을 도입했고, multi-sample VCF가 만들어지기 시작했습니다. Multi-sample VCF를 만드는 joint genotyping은 하나의 샘플만 genotyping을 하는 individual genotyping보다 유리한 점이 많습니다.\n",
    "\n",
    "1. 각 variant에 대하여 샘플간의 유전형(genotype) 정보를 확보할 수 있습니다. 특히 reference homozygous genotype에 대한 정보와 그 genotype에 대한 품질지표를 확인할 수 있습니다.\n",
    "2. Variant calling에 포함된 샘플들의 품질지표를 사용하여 high quality variant를 정의하기 용이합니다. \n",
    "3. 가족 데이터를 사용할 경우 phasing이 용이합니다. \n",
    "\n",
    "자세한 정보는 아래 논문을 확인하세요 ([Zook et al. 2014](https://www.nature.com/articles/nbt.2835), [Koboldt 2020](https://genomemedicine.biomedcentral.com/articles/10.1186/s13073-020-00791-w)).\n",
    "\n",
    "Multi-sample VCF에서는 `ALT` 컬럼에 표시되는 allele이 두개 이상인 multi-allelic variant가 등장합니다. VCF에는 어떻게 표현이 되었는지 보시죠.\n",
    "\n",
    "```\n",
    "chr22\t50674782\t.\tC\tA,G\n",
    "\n",
    "```\n",
    "\n",
    "이 경우엔 일부 샘플은 `A` allele을 갖고 있고, 일부 샘플은 `G`를 갖고 있습니다. 두가지 variant가 등장을 했습니다. `C>A` 혹은 `C>G` 변이이지요. 만약 individual genotyping을 해서 하나의 샘플만 보았다면, 관찰되지 않을 경우입니다. \n",
    "\n",
    "혹은 이러한 경우도 존재합니다. `50675375`번째 위치를 보면 `[\"G\",\"*\",\"T\"]`라고 `* (STAR)`가 표시되어 있습니다. 이것은 alternative allele은 아닙니다. 이것은 같은 VCF에 있는 어떤 샘플이 deletion을 갖고 있는데, 그 지역에 다른 샘플이 SNV를 갖는 경우, 표시할 방법이 없기 때문에 위와 같이 표기를 합니다. \n",
    "\n",
    "Multi-allelic variant가 나오면, 각 variant에 대한 정보나 품질지표가 붙기 때문에 하나의 row에서 list나 array로 변환하기가 다소 번거롭습니다. 이러한 이유로 multi-allelic variant를 bi-allelic variant로 변형하는 작업이 필요합니다. Hail은 이 작업을 매우 간단하게 시행합니다. \n"
   ]
  },
  {
   "cell_type": "code",
   "execution_count": 16,
   "id": "82fa4f7e",
   "metadata": {
    "ExecuteTime": {
     "end_time": "2022-01-17T10:51:40.414766Z",
     "start_time": "2022-01-17T10:51:34.600115Z"
    }
   },
   "outputs": [
    {
     "name": "stderr",
     "output_type": "stream",
     "text": [
      "2022-01-23 18:50:29 Hail: INFO: Coerced sorted dataset              (0 + 4) / 4]\n",
      "[Stage 24:>                                                         (0 + 4) / 4]\r"
     ]
    },
    {
     "name": "stdout",
     "output_type": "stream",
     "text": [
      "--> Before split variants with multi allele, the number of variants is : 34208\n"
     ]
    }
   ],
   "source": [
    "print(\"--> Before split variants with multi allele, the number of variants is :\", mt.rows().count())"
   ]
  },
  {
   "cell_type": "markdown",
   "id": "aba6bad5",
   "metadata": {},
   "source": [
    "현재 우리 데이터는 총 34,208개의 variant가 존재합니다. 이제 `split_multi()`라는 함수를 사용하여, multi-allelic variant를 분리(split)해봅시다.\n",
    "\n",
    "분리가 되고나면, 아래와 같이 변환이 됩니다. \n",
    "\n",
    "```\n",
    "chr22\t50674782\t.\tC\tA\n",
    "chr22\t50674782\t.\tC\tG\n",
    "```"
   ]
  },
  {
   "cell_type": "code",
   "execution_count": 17,
   "id": "755e562e",
   "metadata": {
    "ExecuteTime": {
     "end_time": "2022-01-17T10:51:53.333069Z",
     "start_time": "2022-01-17T10:51:40.415692Z"
    }
   },
   "outputs": [
    {
     "name": "stderr",
     "output_type": "stream",
     "text": [
      "2022-01-23 18:50:36 Hail: INFO: Coerced sorted dataset              (0 + 4) / 4]\n",
      "2022-01-23 18:50:41 Hail: INFO: Coerced sorted dataset              (3 + 1) / 4]\n",
      "[Stage 28:>                                                         (0 + 4) / 4]\r"
     ]
    },
    {
     "name": "stdout",
     "output_type": "stream",
     "text": [
      "--> After split variants with multi allele, the number of variants is : 37046\n"
     ]
    }
   ],
   "source": [
    "mt = hl.split_multi(mt)\n",
    "\n",
    "print(\"--> After split variants with multi allele, the number of variants is :\", mt.rows().count())"
   ]
  },
  {
   "cell_type": "markdown",
   "id": "6c6f7f47",
   "metadata": {},
   "source": [
    "Multi-allelic variant를 bi-allelic variant로 분리하고 나니, 총 37,046개의 변이로 변환됩니다. \n",
    "\n",
    "> 리빙포인트: 거의 모든 분석은 bi-allelic variant를 요구합니다. 따라서, `split_multi()` 함수를 생활화 합시다."
   ]
  },
  {
   "cell_type": "code",
   "execution_count": 18,
   "id": "41318cab",
   "metadata": {
    "ExecuteTime": {
     "end_time": "2022-01-17T10:52:18.311320Z",
     "start_time": "2022-01-17T10:51:53.334001Z"
    }
   },
   "outputs": [
    {
     "name": "stderr",
     "output_type": "stream",
     "text": [
      "2022-01-23 18:50:49 Hail: INFO: Coerced sorted dataset              (0 + 4) / 4]\n",
      "2022-01-23 18:50:53 Hail: INFO: Coerced sorted dataset              (0 + 4) / 4]\n",
      "2022-01-23 18:50:55 Hail: INFO: Coerced sorted dataset              (0 + 4) / 4]\n",
      "2022-01-23 18:50:58 Hail: INFO: Coerced sorted dataset              (0 + 4) / 4]\n"
     ]
    },
    {
     "data": {
      "text/html": [
       "<table><thead><tr><td style=\"white-space: nowrap; max-width: 500px; overflow: hidden; text-overflow: ellipsis; \" colspan=\"1\"><div style=\"text-align: left;\"></div></td><td style=\"white-space: nowrap; max-width: 500px; overflow: hidden; text-overflow: ellipsis; \" colspan=\"1\"><div style=\"text-align: left;\"></div></td></tr><tr><td style=\"white-space: nowrap; max-width: 500px; overflow: hidden; text-overflow: ellipsis; \" colspan=\"1\"><div style=\"text-align: left;border-bottom: solid 2px #000; padding-bottom: 5px\">locus</div></td><td style=\"white-space: nowrap; max-width: 500px; overflow: hidden; text-overflow: ellipsis; \" colspan=\"1\"><div style=\"text-align: left;border-bottom: solid 2px #000; padding-bottom: 5px\">alleles</div></td></tr><tr><td style=\"white-space: nowrap; max-width: 500px; overflow: hidden; text-overflow: ellipsis; text-align: left;\">locus&lt;GRCh38&gt;</td><td style=\"white-space: nowrap; max-width: 500px; overflow: hidden; text-overflow: ellipsis; text-align: left;\">array&lt;str&gt;</td></tr>\n",
       "</thead><tbody><tr><td style=\"white-space: nowrap; max-width: 500px; overflow: hidden; text-overflow: ellipsis; \">chr22:50197928</td><td style=\"white-space: nowrap; max-width: 500px; overflow: hidden; text-overflow: ellipsis; \">[&quot;C&quot;,&quot;T&quot;]</td></tr>\n",
       "<tr><td style=\"white-space: nowrap; max-width: 500px; overflow: hidden; text-overflow: ellipsis; \">chr22:50197932</td><td style=\"white-space: nowrap; max-width: 500px; overflow: hidden; text-overflow: ellipsis; \">[&quot;G&quot;,&quot;A&quot;]</td></tr>\n",
       "<tr><td style=\"white-space: nowrap; max-width: 500px; overflow: hidden; text-overflow: ellipsis; \">chr22:50197962</td><td style=\"white-space: nowrap; max-width: 500px; overflow: hidden; text-overflow: ellipsis; \">[&quot;G&quot;,&quot;A&quot;]</td></tr>\n",
       "<tr><td style=\"white-space: nowrap; max-width: 500px; overflow: hidden; text-overflow: ellipsis; \">chr22:50197973</td><td style=\"white-space: nowrap; max-width: 500px; overflow: hidden; text-overflow: ellipsis; \">[&quot;C&quot;,&quot;T&quot;]</td></tr>\n",
       "<tr><td style=\"white-space: nowrap; max-width: 500px; overflow: hidden; text-overflow: ellipsis; \">chr22:50197984</td><td style=\"white-space: nowrap; max-width: 500px; overflow: hidden; text-overflow: ellipsis; \">[&quot;G&quot;,&quot;A&quot;]</td></tr>\n",
       "<tr><td style=\"white-space: nowrap; max-width: 500px; overflow: hidden; text-overflow: ellipsis; \">chr22:50198000</td><td style=\"white-space: nowrap; max-width: 500px; overflow: hidden; text-overflow: ellipsis; \">[&quot;C&quot;,&quot;T&quot;]</td></tr>\n",
       "<tr><td style=\"white-space: nowrap; max-width: 500px; overflow: hidden; text-overflow: ellipsis; \">chr22:50198004</td><td style=\"white-space: nowrap; max-width: 500px; overflow: hidden; text-overflow: ellipsis; \">[&quot;C&quot;,&quot;T&quot;]</td></tr>\n",
       "<tr><td style=\"white-space: nowrap; max-width: 500px; overflow: hidden; text-overflow: ellipsis; \">chr22:50198005</td><td style=\"white-space: nowrap; max-width: 500px; overflow: hidden; text-overflow: ellipsis; \">[&quot;G&quot;,&quot;A&quot;]</td></tr>\n",
       "<tr><td style=\"white-space: nowrap; max-width: 500px; overflow: hidden; text-overflow: ellipsis; \">chr22:50198008</td><td style=\"white-space: nowrap; max-width: 500px; overflow: hidden; text-overflow: ellipsis; \">[&quot;C&quot;,&quot;T&quot;]</td></tr>\n",
       "<tr><td style=\"white-space: nowrap; max-width: 500px; overflow: hidden; text-overflow: ellipsis; \">chr22:50198015</td><td style=\"white-space: nowrap; max-width: 500px; overflow: hidden; text-overflow: ellipsis; \">[&quot;G&quot;,&quot;A&quot;]</td></tr>\n",
       "</tbody></table><p style=\"background: #fdd; padding: 0.4em;\">showing top 10 rows</p>\n",
       "<p style=\"background: #fdd; padding: 0.4em;\">showing the first 0 of 3202 columns</p>\n"
      ],
      "text/plain": [
       "+----------------+------------+\n",
       "| locus          | alleles    |\n",
       "+----------------+------------+\n",
       "| locus<GRCh38>  | array<str> |\n",
       "+----------------+------------+\n",
       "| chr22:50197928 | [\"C\",\"T\"]  |\n",
       "| chr22:50197932 | [\"G\",\"A\"]  |\n",
       "| chr22:50197962 | [\"G\",\"A\"]  |\n",
       "| chr22:50197973 | [\"C\",\"T\"]  |\n",
       "| chr22:50197984 | [\"G\",\"A\"]  |\n",
       "| chr22:50198000 | [\"C\",\"T\"]  |\n",
       "| chr22:50198004 | [\"C\",\"T\"]  |\n",
       "| chr22:50198005 | [\"G\",\"A\"]  |\n",
       "| chr22:50198008 | [\"C\",\"T\"]  |\n",
       "| chr22:50198015 | [\"G\",\"A\"]  |\n",
       "+----------------+------------+\n",
       "showing top 10 rows\n",
       "showing the first 0 of 3202 columns"
      ]
     },
     "metadata": {},
     "output_type": "display_data"
    }
   ],
   "source": [
    "# 이번에는 CRE 영역에서 발생한 변이들을 추출해봅시다\n",
    "mt.filter_rows(hl.is_defined(tb_encode_cre[mt.locus])).show()\n",
    "\n",
    "# 혹은 새로운 matrix table로 저장을 해봅시다\n",
    "mt_cre = mt.filter_rows(hl.is_defined(tb_encode_cre[mt.locus]))"
   ]
  },
  {
   "cell_type": "markdown",
   "id": "7a23d373",
   "metadata": {},
   "source": [
    "이번에는 변이를 SNV(혹은 SNP)와 indel로 구분해봅시다. \n",
    "\n",
    "SNV는 염기의 숫자가 줄어들지 않고, 하나의 염기가 바뀌는 변이를 말하고, indel은 insertion과 deletion을 합친 약어로서 1개 이상 그리고 50개 미만의 염기서열이 변경되는 경우를 말합니다 (참고 여기서 몇개 미만에 대한 기준은 연구들마다 상이합니다).\n",
    "\n",
    "먼저 SNV의 숫자를 세어봅시다."
   ]
  },
  {
   "cell_type": "code",
   "execution_count": 19,
   "id": "53808111",
   "metadata": {
    "ExecuteTime": {
     "end_time": "2022-01-17T10:52:29.229603Z",
     "start_time": "2022-01-17T10:52:18.312148Z"
    },
    "scrolled": true
   },
   "outputs": [
    {
     "name": "stderr",
     "output_type": "stream",
     "text": [
      "2022-01-23 18:51:03 Hail: INFO: Coerced sorted dataset              (0 + 4) / 4]\n",
      "2022-01-23 18:51:06 Hail: INFO: Coerced sorted dataset              (3 + 1) / 4]\n",
      "[Stage 40:>                                                         (0 + 1) / 1]\r"
     ]
    },
    {
     "name": "stdout",
     "output_type": "stream",
     "text": [
      "--> The number of SNVs is : (31241, 3202)\n"
     ]
    }
   ],
   "source": [
    "print(\"--> The number of SNVs is :\", mt.filter_rows(hl.is_snp(mt.alleles[0], mt.alleles[1])).count())"
   ]
  },
  {
   "cell_type": "markdown",
   "id": "3a75b3a7",
   "metadata": {},
   "source": [
    "이번에는 indel의 숫자를 세어보죠."
   ]
  },
  {
   "cell_type": "code",
   "execution_count": 20,
   "id": "d1a99bfc",
   "metadata": {
    "ExecuteTime": {
     "end_time": "2022-01-17T10:52:39.721853Z",
     "start_time": "2022-01-17T10:52:29.230549Z"
    }
   },
   "outputs": [
    {
     "name": "stderr",
     "output_type": "stream",
     "text": [
      "2022-01-23 18:51:29 Hail: INFO: Coerced sorted dataset              (0 + 4) / 4]\n",
      "2022-01-23 18:51:32 Hail: INFO: Coerced sorted dataset              (0 + 4) / 4]\n",
      "[Stage 43:>                                                         (0 + 1) / 1]\r"
     ]
    },
    {
     "name": "stdout",
     "output_type": "stream",
     "text": [
      "--> The number of SNVs is : (5805, 3202)\n"
     ]
    }
   ],
   "source": [
    "print(\"--> The number of SNVs is :\", mt.filter_rows(hl.is_indel(mt.alleles[0], mt.alleles[1])).count())"
   ]
  },
  {
   "cell_type": "markdown",
   "id": "407874bb",
   "metadata": {},
   "source": [
    "VCF 유전변이에 대한 정보나 품질지표가 `INFO` 컬럼에 포함되어 있습니다. 유전변이가 발생한 지점의 read depth (DP), strand bias (FS 혹은 SOR), mapping alignment quality (MQ) 등의 품질지표가 있고, locus에 있는 alternative allele의 숫자 (AC)나 확인된 allele의 숫자가 있습니다. \n",
    "\n",
    "먼저 Hail을 이용하여, `info`에 어떠한 지표들이 있는지 확인하고, 몇가지 지표들의 분포를 확인해봅시다. "
   ]
  },
  {
   "cell_type": "code",
   "execution_count": 21,
   "id": "bef10b64",
   "metadata": {
    "ExecuteTime": {
     "end_time": "2022-01-17T10:52:39.725928Z",
     "start_time": "2022-01-17T10:52:39.722954Z"
    }
   },
   "outputs": [
    {
     "name": "stdout",
     "output_type": "stream",
     "text": [
      "----------------------------------------\n",
      "Global fields:\n",
      "    None\n",
      "----------------------------------------\n",
      "Column fields:\n",
      "    's': str\n",
      "    'fam': str\n",
      "    'pat_id': str\n",
      "    'mat_id': str\n",
      "    'isFemale': bool\n",
      "    'phenotype': bool\n",
      "    'ROLE': str\n",
      "    'population': str\n",
      "    'height': float64\n",
      "    'NVIQ': float64\n",
      "----------------------------------------\n",
      "Row fields:\n",
      "    'locus': locus<GRCh38>\n",
      "    'alleles': array<str>\n",
      "    'rsid': str\n",
      "    'qual': float64\n",
      "    'filters': set<str>\n",
      "    'info': struct {\n",
      "        AC: array<int32>, \n",
      "        AF: array<float64>, \n",
      "        AN: int32, \n",
      "        BaseQRankSum: float64, \n",
      "        ClippingRankSum: float64, \n",
      "        DP: int32, \n",
      "        DS: bool, \n",
      "        END: int32, \n",
      "        FS: float64, \n",
      "        HaplotypeScore: float64, \n",
      "        InbreedingCoeff: float64, \n",
      "        MLEAC: array<int32>, \n",
      "        MLEAF: array<float64>, \n",
      "        MQ: float64, \n",
      "        MQ0: int32, \n",
      "        MQRankSum: float64, \n",
      "        NEGATIVE_TRAIN_SITE: bool, \n",
      "        POSITIVE_TRAIN_SITE: bool, \n",
      "        QD: float64, \n",
      "        RAW_MQ: float64, \n",
      "        ReadPosRankSum: float64, \n",
      "        SOR: float64, \n",
      "        VQSLOD: float64, \n",
      "        VariantType: str, \n",
      "        culprit: str, \n",
      "        AN_EUR: int32, \n",
      "        AN_EAS: int32, \n",
      "        AN_AMR: int32, \n",
      "        AN_SAS: int32, \n",
      "        AN_AFR: int32, \n",
      "        AC_EUR: array<int32>, \n",
      "        AC_EAS: array<int32>, \n",
      "        AC_AMR: array<int32>, \n",
      "        AC_SAS: array<int32>, \n",
      "        AC_AFR: array<int32>, \n",
      "        AC_Hom_EUR: array<int32>, \n",
      "        AC_Hom_EAS: array<int32>, \n",
      "        AC_Hom_AMR: array<int32>, \n",
      "        AC_Hom_SAS: array<int32>, \n",
      "        AC_Hom_AFR: array<int32>, \n",
      "        AC_Hom: array<int32>, \n",
      "        AC_Het_EUR: array<int32>, \n",
      "        AC_Het_EAS: array<int32>, \n",
      "        AC_Het_AMR: array<int32>, \n",
      "        AC_Het_SAS: array<int32>, \n",
      "        AC_Het_AFR: array<int32>, \n",
      "        AC_Het: array<int32>, \n",
      "        AF_EUR: array<float64>, \n",
      "        AF_EAS: array<float64>, \n",
      "        AF_AMR: array<float64>, \n",
      "        AF_SAS: array<float64>, \n",
      "        AF_AFR: array<float64>, \n",
      "        HWE_EUR: array<float64>, \n",
      "        HWE_EAS: array<float64>, \n",
      "        HWE_AMR: array<float64>, \n",
      "        HWE_SAS: array<float64>, \n",
      "        HWE_AFR: array<float64>, \n",
      "        HWE: array<float64>, \n",
      "        ExcHet_EUR: array<float64>, \n",
      "        ExcHet_EAS: array<float64>, \n",
      "        ExcHet_AMR: array<float64>, \n",
      "        ExcHet_SAS: array<float64>, \n",
      "        ExcHet_AFR: array<float64>, \n",
      "        ExcHet: array<float64>, \n",
      "        ME: array<float64>, \n",
      "        AN_EUR_unrel: int32, \n",
      "        AN_EAS_unrel: int32, \n",
      "        AN_AMR_unrel: int32, \n",
      "        AN_SAS_unrel: int32, \n",
      "        AN_AFR_unrel: int32, \n",
      "        AC_EUR_unrel: array<int32>, \n",
      "        AC_EAS_unrel: array<int32>, \n",
      "        AC_AMR_unrel: array<int32>, \n",
      "        AC_SAS_unrel: array<int32>, \n",
      "        AC_AFR_unrel: array<int32>, \n",
      "        AC_Hom_EUR_unrel: array<int32>, \n",
      "        AC_Hom_EAS_unrel: array<int32>, \n",
      "        AC_Hom_AMR_unrel: array<int32>, \n",
      "        AC_Hom_SAS_unrel: array<int32>, \n",
      "        AC_Hom_AFR_unrel: array<int32>, \n",
      "        AC_Het_EUR_unrel: array<int32>, \n",
      "        AC_Het_EAS_unrel: array<int32>, \n",
      "        AC_Het_AMR_unrel: array<int32>, \n",
      "        AC_Het_SAS_unrel: array<int32>, \n",
      "        AC_Het_AFR_unrel: array<int32>, \n",
      "        AF_EUR_unrel: array<float64>, \n",
      "        AF_EAS_unrel: array<float64>, \n",
      "        AF_AMR_unrel: array<float64>, \n",
      "        AF_SAS_unrel: array<float64>, \n",
      "        AF_AFR_unrel: array<float64>, \n",
      "        HWE_EUR_unrel: array<float64>, \n",
      "        HWE_EAS_unrel: array<float64>, \n",
      "        HWE_AMR_unrel: array<float64>, \n",
      "        HWE_SAS_unrel: array<float64>, \n",
      "        HWE_AFR_unrel: array<float64>, \n",
      "        CSQ: array<str>\n",
      "    }\n",
      "    'a_index': int32\n",
      "    'was_split': bool\n",
      "    'old_locus': locus<GRCh38>\n",
      "    'old_alleles': array<str>\n",
      "----------------------------------------\n",
      "Entry fields:\n",
      "    'AB': float64\n",
      "    'AD': array<int32>\n",
      "    'DP': int32\n",
      "    'GQ': int32\n",
      "    'GT': call\n",
      "    'MIN_DP': int32\n",
      "    'MQ0': int32\n",
      "    'PGT': call\n",
      "    'PID': str\n",
      "    'PL': array<int32>\n",
      "    'RGQ': int32\n",
      "    'SB': array<int32>\n",
      "----------------------------------------\n",
      "Column key: ['s']\n",
      "Row key: ['locus', 'alleles']\n",
      "----------------------------------------\n"
     ]
    }
   ],
   "source": [
    "mt.describe()"
   ]
  },
  {
   "cell_type": "code",
   "execution_count": 22,
   "id": "7e30bd7b",
   "metadata": {
    "ExecuteTime": {
     "end_time": "2022-01-17T10:53:01.862978Z",
     "start_time": "2022-01-17T10:52:39.727154Z"
    }
   },
   "outputs": [
    {
     "name": "stderr",
     "output_type": "stream",
     "text": [
      "2022-01-23 18:51:55 Hail: INFO: Coerced sorted dataset              (3 + 1) / 4]\n",
      "2022-01-23 18:51:57 Hail: INFO: Coerced sorted dataset              (2 + 2) / 4]\n",
      "2022-01-23 18:52:21 Hail: INFO: Coerced sorted dataset              (0 + 4) / 4]\n",
      "2022-01-23 18:52:23 Hail: INFO: Coerced sorted dataset              (0 + 4) / 4]\n",
      "[Stage 49:>                                                         (0 + 1) / 1]\r"
     ]
    },
    {
     "data": {
      "text/html": [
       "\n",
       "\n",
       "\n",
       "\n",
       "\n",
       "\n",
       "  <div class=\"bk-root\" id=\"975443cb-c63e-4199-af42-710d5cd18866\" data-root-id=\"1002\"></div>\n"
      ]
     },
     "metadata": {},
     "output_type": "display_data"
    },
    {
     "data": {
      "application/javascript": [
       "(function(root) {\n",
       "  function embed_document(root) {\n",
       "    \n",
       "  var docs_json = {\"2467e293-9a80-4981-9cd7-173fe465cbbb\":{\"roots\":{\"references\":[{\"attributes\":{\"background_fill_color\":{\"value\":\"#EEEEEE\"},\"below\":[{\"id\":\"1013\",\"type\":\"LinearAxis\"}],\"center\":[{\"id\":\"1017\",\"type\":\"Grid\"},{\"id\":\"1022\",\"type\":\"Grid\"},{\"id\":\"1047\",\"type\":\"Legend\"}],\"left\":[{\"id\":\"1018\",\"type\":\"LinearAxis\"}],\"renderers\":[{\"id\":\"1039\",\"type\":\"GlyphRenderer\"}],\"title\":{\"id\":\"1003\",\"type\":\"Title\"},\"toolbar\":{\"id\":\"1029\",\"type\":\"Toolbar\"},\"x_range\":{\"id\":\"1005\",\"type\":\"Range1d\"},\"x_scale\":{\"id\":\"1009\",\"type\":\"LinearScale\"},\"y_range\":{\"id\":\"1007\",\"type\":\"DataRange1d\"},\"y_scale\":{\"id\":\"1011\",\"type\":\"LinearScale\"}},\"id\":\"1002\",\"subtype\":\"Figure\",\"type\":\"Plot\"},{\"attributes\":{\"callback\":null,\"end\":454715.1,\"start\":-20443.100000000002},\"id\":\"1005\",\"type\":\"Range1d\"},{\"attributes\":{\"overlay\":{\"id\":\"1046\",\"type\":\"BoxAnnotation\"}},\"id\":\"1025\",\"type\":\"BoxZoomTool\"},{\"attributes\":{\"dimension\":1,\"ticker\":{\"id\":\"1019\",\"type\":\"BasicTicker\"}},\"id\":\"1022\",\"type\":\"Grid\"},{\"attributes\":{\"bottom\":{\"value\":0},\"fill_color\":{\"value\":\"#1f77b4\"},\"left\":{\"field\":\"left\"},\"right\":{\"field\":\"right\"},\"top\":{\"field\":\"top\"}},\"id\":\"1037\",\"type\":\"Quad\"},{\"attributes\":{\"callback\":null,\"data\":{\"left\":[1155.0,9794.24,18433.48,27072.72,35711.96,44351.2,52990.44,61629.68,70268.92,78908.16,87547.4,96186.64,104825.88,113465.12,122104.36,130743.59999999999,139382.84,148022.08,156661.32,165300.56,173939.8,182579.04,191218.28,199857.52,208496.76,217136.0,225775.24,234414.47999999998,243053.72,251692.96,260332.19999999998,268971.44,277610.68,286249.92,294889.16,303528.39999999997,312167.64,320806.88,329446.12,338085.36,346724.6,355363.83999999997,364003.08,372642.32,381281.56,389920.8,398560.04,407199.27999999997,415838.52,424477.76],\"right\":[9794.24,18433.48,27072.72,35711.96,44351.2,52990.44,61629.68,70268.92,78908.16,87547.4,96186.64,104825.88,113465.12,122104.36,130743.59999999999,139382.84,148022.08,156661.32,165300.56,173939.8,182579.04,191218.28,199857.52,208496.76,217136.0,225775.24,234414.47999999998,243053.72,251692.96,260332.19999999998,268971.44,277610.68,286249.92,294889.16,303528.39999999997,312167.64,320806.88,329446.12,338085.36,346724.6,355363.83999999997,364003.08,372642.32,381281.56,389920.8,398560.04,407199.27999999997,415838.52,424477.76,433117.0],\"top\":[34,70,126,276,350,441,506,617,654,1103,1750,5577,11733,9634,2938,661,265,97,23,30,17,18,15,5,4,7,6,3,1,4,10,0,4,1,3,2,3,4,13,10,3,4,12,3,3,3,1,1,0,1]},\"selected\":{\"id\":\"1056\",\"type\":\"Selection\"},\"selection_policy\":{\"id\":\"1055\",\"type\":\"UnionRenderers\"}},\"id\":\"1036\",\"type\":\"ColumnDataSource\"},{\"attributes\":{\"axis_label\":\"Frequency\",\"formatter\":{\"id\":\"1045\",\"type\":\"BasicTickFormatter\"},\"ticker\":{\"id\":\"1019\",\"type\":\"BasicTicker\"}},\"id\":\"1018\",\"type\":\"LinearAxis\"},{\"attributes\":{\"active_drag\":\"auto\",\"active_inspect\":\"auto\",\"active_multi\":null,\"active_scroll\":\"auto\",\"active_tap\":\"auto\",\"tools\":[{\"id\":\"1023\",\"type\":\"PanTool\"},{\"id\":\"1024\",\"type\":\"WheelZoomTool\"},{\"id\":\"1025\",\"type\":\"BoxZoomTool\"},{\"id\":\"1026\",\"type\":\"SaveTool\"},{\"id\":\"1027\",\"type\":\"ResetTool\"},{\"id\":\"1028\",\"type\":\"HelpTool\"}]},\"id\":\"1029\",\"type\":\"Toolbar\"},{\"attributes\":{},\"id\":\"1027\",\"type\":\"ResetTool\"},{\"attributes\":{},\"id\":\"1014\",\"type\":\"BasicTicker\"},{\"attributes\":{},\"id\":\"1043\",\"type\":\"BasicTickFormatter\"},{\"attributes\":{},\"id\":\"1019\",\"type\":\"BasicTicker\"},{\"attributes\":{\"bottom\":{\"value\":0},\"fill_alpha\":{\"value\":0.1},\"fill_color\":{\"value\":\"#1f77b4\"},\"left\":{\"field\":\"left\"},\"line_alpha\":{\"value\":0.1},\"line_color\":{\"value\":\"#1f77b4\"},\"right\":{\"field\":\"right\"},\"top\":{\"field\":\"top\"}},\"id\":\"1038\",\"type\":\"Quad\"},{\"attributes\":{},\"id\":\"1011\",\"type\":\"LinearScale\"},{\"attributes\":{},\"id\":\"1045\",\"type\":\"BasicTickFormatter\"},{\"attributes\":{\"source\":{\"id\":\"1036\",\"type\":\"ColumnDataSource\"}},\"id\":\"1040\",\"type\":\"CDSView\"},{\"attributes\":{},\"id\":\"1055\",\"type\":\"UnionRenderers\"},{\"attributes\":{},\"id\":\"1023\",\"type\":\"PanTool\"},{\"attributes\":{\"formatter\":{\"id\":\"1043\",\"type\":\"BasicTickFormatter\"},\"ticker\":{\"id\":\"1014\",\"type\":\"BasicTicker\"}},\"id\":\"1013\",\"type\":\"LinearAxis\"},{\"attributes\":{},\"id\":\"1028\",\"type\":\"HelpTool\"},{\"attributes\":{},\"id\":\"1026\",\"type\":\"SaveTool\"},{\"attributes\":{\"ticker\":{\"id\":\"1014\",\"type\":\"BasicTicker\"}},\"id\":\"1017\",\"type\":\"Grid\"},{\"attributes\":{},\"id\":\"1024\",\"type\":\"WheelZoomTool\"},{\"attributes\":{\"items\":[{\"id\":\"1048\",\"type\":\"LegendItem\"}]},\"id\":\"1047\",\"type\":\"Legend\"},{\"attributes\":{},\"id\":\"1056\",\"type\":\"Selection\"},{\"attributes\":{\"callback\":null},\"id\":\"1007\",\"type\":\"DataRange1d\"},{\"attributes\":{\"text\":\"DP\"},\"id\":\"1003\",\"type\":\"Title\"},{\"attributes\":{\"bottom_units\":\"screen\",\"fill_alpha\":{\"value\":0.5},\"fill_color\":{\"value\":\"lightgrey\"},\"left_units\":\"screen\",\"level\":\"overlay\",\"line_alpha\":{\"value\":1.0},\"line_color\":{\"value\":\"black\"},\"line_dash\":[4,4],\"line_width\":{\"value\":2},\"render_mode\":\"css\",\"right_units\":\"screen\",\"top_units\":\"screen\"},\"id\":\"1046\",\"type\":\"BoxAnnotation\"},{\"attributes\":{},\"id\":\"1009\",\"type\":\"LinearScale\"},{\"attributes\":{\"data_source\":{\"id\":\"1036\",\"type\":\"ColumnDataSource\"},\"glyph\":{\"id\":\"1037\",\"type\":\"Quad\"},\"hover_glyph\":null,\"muted_glyph\":null,\"nonselection_glyph\":{\"id\":\"1038\",\"type\":\"Quad\"},\"selection_glyph\":null,\"view\":{\"id\":\"1040\",\"type\":\"CDSView\"}},\"id\":\"1039\",\"type\":\"GlyphRenderer\"},{\"attributes\":{\"label\":{\"value\":\"\"},\"renderers\":[{\"id\":\"1039\",\"type\":\"GlyphRenderer\"}]},\"id\":\"1048\",\"type\":\"LegendItem\"}],\"root_ids\":[\"1002\"]},\"title\":\"Bokeh Application\",\"version\":\"1.4.0\"}};\n",
       "  var render_items = [{\"docid\":\"2467e293-9a80-4981-9cd7-173fe465cbbb\",\"roots\":{\"1002\":\"975443cb-c63e-4199-af42-710d5cd18866\"}}];\n",
       "  root.Bokeh.embed.embed_items_notebook(docs_json, render_items);\n",
       "\n",
       "  }\n",
       "  if (root.Bokeh !== undefined) {\n",
       "    embed_document(root);\n",
       "  } else {\n",
       "    var attempts = 0;\n",
       "    var timer = setInterval(function(root) {\n",
       "      if (root.Bokeh !== undefined) {\n",
       "        clearInterval(timer);\n",
       "        embed_document(root);\n",
       "      } else {\n",
       "        attempts++;\n",
       "        if (attempts > 100) {\n",
       "          clearInterval(timer);\n",
       "          console.log(\"Bokeh: ERROR: Unable to run BokehJS code because BokehJS library is missing\");\n",
       "        }\n",
       "      }\n",
       "    }, 10, root)\n",
       "  }\n",
       "})(window);"
      ],
      "application/vnd.bokehjs_exec.v0+json": ""
     },
     "metadata": {
      "application/vnd.bokehjs_exec.v0+json": {
       "id": "1002"
      }
     },
     "output_type": "display_data"
    }
   ],
   "source": [
    "p = hl.plot.histogram(mt.info.DP, title = 'DP')\n",
    "show(p)"
   ]
  },
  {
   "cell_type": "code",
   "execution_count": 23,
   "id": "6600d467",
   "metadata": {
    "ExecuteTime": {
     "end_time": "2022-01-17T10:53:23.340737Z",
     "start_time": "2022-01-17T10:53:01.866739Z"
    }
   },
   "outputs": [
    {
     "name": "stderr",
     "output_type": "stream",
     "text": [
      "2022-01-23 18:52:47 Hail: INFO: Coerced sorted dataset              (3 + 1) / 4]\n",
      "2022-01-23 18:52:50 Hail: INFO: Coerced sorted dataset              (0 + 4) / 4]\n",
      "2022-01-23 18:53:12 Hail: INFO: Coerced sorted dataset              (3 + 1) / 4]\n",
      "2022-01-23 18:53:15 Hail: INFO: Coerced sorted dataset              (0 + 4) / 4]\n",
      "[Stage 55:>                                                         (0 + 1) / 1]\r"
     ]
    },
    {
     "data": {
      "text/html": [
       "\n",
       "\n",
       "\n",
       "\n",
       "\n",
       "\n",
       "  <div class=\"bk-root\" id=\"22dfa5e2-a889-4084-86db-e1d25ea46601\" data-root-id=\"1105\"></div>\n"
      ]
     },
     "metadata": {},
     "output_type": "display_data"
    },
    {
     "data": {
      "application/javascript": [
       "(function(root) {\n",
       "  function embed_document(root) {\n",
       "    \n",
       "  var docs_json = {\"e3590079-83dd-47aa-88e0-d2808611c7c5\":{\"roots\":{\"references\":[{\"attributes\":{\"background_fill_color\":{\"value\":\"#EEEEEE\"},\"below\":[{\"id\":\"1116\",\"type\":\"LinearAxis\"}],\"center\":[{\"id\":\"1120\",\"type\":\"Grid\"},{\"id\":\"1125\",\"type\":\"Grid\"},{\"id\":\"1150\",\"type\":\"Legend\"}],\"left\":[{\"id\":\"1121\",\"type\":\"LinearAxis\"}],\"renderers\":[{\"id\":\"1142\",\"type\":\"GlyphRenderer\"}],\"title\":{\"id\":\"1106\",\"type\":\"Title\"},\"toolbar\":{\"id\":\"1132\",\"type\":\"Toolbar\"},\"x_range\":{\"id\":\"1108\",\"type\":\"Range1d\"},\"x_scale\":{\"id\":\"1112\",\"type\":\"LinearScale\"},\"y_range\":{\"id\":\"1110\",\"type\":\"DataRange1d\"},\"y_scale\":{\"id\":\"1114\",\"type\":\"LinearScale\"}},\"id\":\"1105\",\"subtype\":\"Figure\",\"type\":\"Plot\"},{\"attributes\":{},\"id\":\"1131\",\"type\":\"HelpTool\"},{\"attributes\":{},\"id\":\"1122\",\"type\":\"BasicTicker\"},{\"attributes\":{\"data_source\":{\"id\":\"1139\",\"type\":\"ColumnDataSource\"},\"glyph\":{\"id\":\"1140\",\"type\":\"Quad\"},\"hover_glyph\":null,\"muted_glyph\":null,\"nonselection_glyph\":{\"id\":\"1141\",\"type\":\"Quad\"},\"selection_glyph\":null,\"view\":{\"id\":\"1143\",\"type\":\"CDSView\"}},\"id\":\"1142\",\"type\":\"GlyphRenderer\"},{\"attributes\":{},\"id\":\"1117\",\"type\":\"BasicTicker\"},{\"attributes\":{\"callback\":null},\"id\":\"1110\",\"type\":\"DataRange1d\"},{\"attributes\":{},\"id\":\"1126\",\"type\":\"PanTool\"},{\"attributes\":{\"bottom\":{\"value\":0},\"fill_color\":{\"value\":\"#1f77b4\"},\"left\":{\"field\":\"left\"},\"right\":{\"field\":\"right\"},\"top\":{\"field\":\"top\"}},\"id\":\"1140\",\"type\":\"Quad\"},{\"attributes\":{\"label\":{\"value\":\"\"},\"renderers\":[{\"id\":\"1142\",\"type\":\"GlyphRenderer\"}]},\"id\":\"1151\",\"type\":\"LegendItem\"},{\"attributes\":{\"callback\":null,\"end\":62.979499999999994,\"start\":-2.5694999999999997},\"id\":\"1108\",\"type\":\"Range1d\"},{\"attributes\":{\"axis_label\":\"Frequency\",\"formatter\":{\"id\":\"1148\",\"type\":\"BasicTickFormatter\"},\"ticker\":{\"id\":\"1122\",\"type\":\"BasicTicker\"}},\"id\":\"1121\",\"type\":\"LinearAxis\"},{\"attributes\":{\"formatter\":{\"id\":\"1146\",\"type\":\"BasicTickFormatter\"},\"ticker\":{\"id\":\"1117\",\"type\":\"BasicTicker\"}},\"id\":\"1116\",\"type\":\"LinearAxis\"},{\"attributes\":{\"callback\":null,\"data\":{\"left\":[0.41,1.6018,2.7936,3.9854000000000003,5.1772,6.369,7.5608,8.7526,9.9444,11.1362,12.328,13.5198,14.7116,15.9034,17.0952,18.287,19.4788,20.6706,21.8624,23.054199999999998,24.246,25.4378,26.6296,27.8214,29.0132,30.205,31.3968,32.58859999999999,33.78039999999999,34.972199999999994,36.163999999999994,37.355799999999995,38.547599999999996,39.739399999999996,40.9312,42.123,43.3148,44.5066,45.69839999999999,46.89019999999999,48.081999999999994,49.273799999999994,50.465599999999995,51.657399999999996,52.849199999999996,54.041,55.2328,56.4246,57.6164,58.80819999999999],\"right\":[1.6018,2.7936,3.9854000000000003,5.1772,6.369,7.5608,8.7526,9.9444,11.1362,12.328,13.5198,14.7116,15.9034,17.0952,18.287,19.4788,20.6706,21.8624,23.054199999999998,24.246,25.4378,26.6296,27.8214,29.0132,30.205,31.3968,32.58859999999999,33.78039999999999,34.972199999999994,36.163999999999994,37.355799999999995,38.547599999999996,39.739399999999996,40.9312,42.123,43.3148,44.5066,45.69839999999999,46.89019999999999,48.081999999999994,49.273799999999994,50.465599999999995,51.657399999999996,52.849199999999996,54.041,55.2328,56.4246,57.6164,58.80819999999999,59.99999999999999],\"top\":[79,111,143,134,135,127,128,135,145,135,122,138,98,115,126,124,121,147,181,148,205,187,192,175,196,199,207,238,287,272,248,279,227,235,245,230,246,235,279,262,271,330,317,294,385,433,420,477,701,26182]},\"selected\":{\"id\":\"1167\",\"type\":\"Selection\"},\"selection_policy\":{\"id\":\"1166\",\"type\":\"UnionRenderers\"}},\"id\":\"1139\",\"type\":\"ColumnDataSource\"},{\"attributes\":{},\"id\":\"1112\",\"type\":\"LinearScale\"},{\"attributes\":{},\"id\":\"1127\",\"type\":\"WheelZoomTool\"},{\"attributes\":{},\"id\":\"1130\",\"type\":\"ResetTool\"},{\"attributes\":{},\"id\":\"1146\",\"type\":\"BasicTickFormatter\"},{\"attributes\":{},\"id\":\"1167\",\"type\":\"Selection\"},{\"attributes\":{\"overlay\":{\"id\":\"1149\",\"type\":\"BoxAnnotation\"}},\"id\":\"1128\",\"type\":\"BoxZoomTool\"},{\"attributes\":{\"text\":\"MQ\"},\"id\":\"1106\",\"type\":\"Title\"},{\"attributes\":{\"bottom\":{\"value\":0},\"fill_alpha\":{\"value\":0.1},\"fill_color\":{\"value\":\"#1f77b4\"},\"left\":{\"field\":\"left\"},\"line_alpha\":{\"value\":0.1},\"line_color\":{\"value\":\"#1f77b4\"},\"right\":{\"field\":\"right\"},\"top\":{\"field\":\"top\"}},\"id\":\"1141\",\"type\":\"Quad\"},{\"attributes\":{\"dimension\":1,\"ticker\":{\"id\":\"1122\",\"type\":\"BasicTicker\"}},\"id\":\"1125\",\"type\":\"Grid\"},{\"attributes\":{\"active_drag\":\"auto\",\"active_inspect\":\"auto\",\"active_multi\":null,\"active_scroll\":\"auto\",\"active_tap\":\"auto\",\"tools\":[{\"id\":\"1126\",\"type\":\"PanTool\"},{\"id\":\"1127\",\"type\":\"WheelZoomTool\"},{\"id\":\"1128\",\"type\":\"BoxZoomTool\"},{\"id\":\"1129\",\"type\":\"SaveTool\"},{\"id\":\"1130\",\"type\":\"ResetTool\"},{\"id\":\"1131\",\"type\":\"HelpTool\"}]},\"id\":\"1132\",\"type\":\"Toolbar\"},{\"attributes\":{\"ticker\":{\"id\":\"1117\",\"type\":\"BasicTicker\"}},\"id\":\"1120\",\"type\":\"Grid\"},{\"attributes\":{\"bottom_units\":\"screen\",\"fill_alpha\":{\"value\":0.5},\"fill_color\":{\"value\":\"lightgrey\"},\"left_units\":\"screen\",\"level\":\"overlay\",\"line_alpha\":{\"value\":1.0},\"line_color\":{\"value\":\"black\"},\"line_dash\":[4,4],\"line_width\":{\"value\":2},\"render_mode\":\"css\",\"right_units\":\"screen\",\"top_units\":\"screen\"},\"id\":\"1149\",\"type\":\"BoxAnnotation\"},{\"attributes\":{},\"id\":\"1114\",\"type\":\"LinearScale\"},{\"attributes\":{\"source\":{\"id\":\"1139\",\"type\":\"ColumnDataSource\"}},\"id\":\"1143\",\"type\":\"CDSView\"},{\"attributes\":{\"items\":[{\"id\":\"1151\",\"type\":\"LegendItem\"}]},\"id\":\"1150\",\"type\":\"Legend\"},{\"attributes\":{},\"id\":\"1166\",\"type\":\"UnionRenderers\"},{\"attributes\":{},\"id\":\"1148\",\"type\":\"BasicTickFormatter\"},{\"attributes\":{},\"id\":\"1129\",\"type\":\"SaveTool\"}],\"root_ids\":[\"1105\"]},\"title\":\"Bokeh Application\",\"version\":\"1.4.0\"}};\n",
       "  var render_items = [{\"docid\":\"e3590079-83dd-47aa-88e0-d2808611c7c5\",\"roots\":{\"1105\":\"22dfa5e2-a889-4084-86db-e1d25ea46601\"}}];\n",
       "  root.Bokeh.embed.embed_items_notebook(docs_json, render_items);\n",
       "\n",
       "  }\n",
       "  if (root.Bokeh !== undefined) {\n",
       "    embed_document(root);\n",
       "  } else {\n",
       "    var attempts = 0;\n",
       "    var timer = setInterval(function(root) {\n",
       "      if (root.Bokeh !== undefined) {\n",
       "        clearInterval(timer);\n",
       "        embed_document(root);\n",
       "      } else {\n",
       "        attempts++;\n",
       "        if (attempts > 100) {\n",
       "          clearInterval(timer);\n",
       "          console.log(\"Bokeh: ERROR: Unable to run BokehJS code because BokehJS library is missing\");\n",
       "        }\n",
       "      }\n",
       "    }, 10, root)\n",
       "  }\n",
       "})(window);"
      ],
      "application/vnd.bokehjs_exec.v0+json": ""
     },
     "metadata": {
      "application/vnd.bokehjs_exec.v0+json": {
       "id": "1105"
      }
     },
     "output_type": "display_data"
    }
   ],
   "source": [
    "p = hl.plot.histogram(mt.info.MQ, title = 'MQ')\n",
    "show(p)"
   ]
  },
  {
   "cell_type": "code",
   "execution_count": 24,
   "id": "a1019e4d",
   "metadata": {
    "ExecuteTime": {
     "end_time": "2022-01-17T10:53:44.793889Z",
     "start_time": "2022-01-17T10:53:23.343462Z"
    }
   },
   "outputs": [
    {
     "name": "stderr",
     "output_type": "stream",
     "text": [
      "2022-01-23 18:53:38 Hail: INFO: Coerced sorted dataset              (2 + 2) / 4]\n",
      "2022-01-23 18:53:41 Hail: INFO: Coerced sorted dataset              (0 + 4) / 4]\n",
      "2022-01-23 18:54:04 Hail: INFO: Coerced sorted dataset              (0 + 4) / 4]\n",
      "2022-01-23 18:54:06 Hail: INFO: Coerced sorted dataset              (0 + 4) / 4]\n",
      "[Stage 61:>                                                         (0 + 1) / 1]\r"
     ]
    },
    {
     "data": {
      "text/html": [
       "\n",
       "\n",
       "\n",
       "\n",
       "\n",
       "\n",
       "  <div class=\"bk-root\" id=\"213ee390-9a29-4bb4-b5b2-d385b6dcd47a\" data-root-id=\"1216\"></div>\n"
      ]
     },
     "metadata": {},
     "output_type": "display_data"
    },
    {
     "data": {
      "application/javascript": [
       "(function(root) {\n",
       "  function embed_document(root) {\n",
       "    \n",
       "  var docs_json = {\"6b2e85d0-d45b-44f8-b3b1-6e68bd07628a\":{\"roots\":{\"references\":[{\"attributes\":{\"background_fill_color\":{\"value\":\"#EEEEEE\"},\"below\":[{\"id\":\"1227\",\"type\":\"LinearAxis\"}],\"center\":[{\"id\":\"1231\",\"type\":\"Grid\"},{\"id\":\"1236\",\"type\":\"Grid\"},{\"id\":\"1261\",\"type\":\"Legend\"}],\"left\":[{\"id\":\"1232\",\"type\":\"LinearAxis\"}],\"renderers\":[{\"id\":\"1253\",\"type\":\"GlyphRenderer\"}],\"title\":{\"id\":\"1217\",\"type\":\"Title\"},\"toolbar\":{\"id\":\"1243\",\"type\":\"Toolbar\"},\"x_range\":{\"id\":\"1219\",\"type\":\"Range1d\"},\"x_scale\":{\"id\":\"1223\",\"type\":\"LinearScale\"},\"y_range\":{\"id\":\"1221\",\"type\":\"DataRange1d\"},\"y_scale\":{\"id\":\"1225\",\"type\":\"LinearScale\"}},\"id\":\"1216\",\"subtype\":\"Figure\",\"type\":\"Plot\"},{\"attributes\":{\"callback\":null,\"data\":{\"left\":[0.0,0.34466,0.68932,1.0339800000000001,1.37864,1.7233,2.0679600000000002,2.41262,2.75728,3.1019400000000004,3.4466,3.7912600000000003,4.1359200000000005,4.480580000000001,4.82524,5.1699,5.51456,5.8592200000000005,6.203880000000001,6.54854,6.8932,7.23786,7.582520000000001,7.927180000000001,8.271840000000001,8.6165,8.961160000000001,9.30582,9.65048,9.995140000000001,10.3398,10.684460000000001,11.02912,11.37378,11.718440000000001,12.0631,12.407760000000001,12.75242,13.09708,13.441740000000001,13.7864,14.131060000000002,14.47572,14.82038,15.165040000000001,15.5097,15.854360000000002,16.19902,16.543680000000002,16.88834],\"right\":[0.34466,0.68932,1.0339800000000001,1.37864,1.7233,2.0679600000000002,2.41262,2.75728,3.1019400000000004,3.4466,3.7912600000000003,4.1359200000000005,4.480580000000001,4.82524,5.1699,5.51456,5.8592200000000005,6.203880000000001,6.54854,6.8932,7.23786,7.582520000000001,7.927180000000001,8.271840000000001,8.6165,8.961160000000001,9.30582,9.65048,9.995140000000001,10.3398,10.684460000000001,11.02912,11.37378,11.718440000000001,12.0631,12.407760000000001,12.75242,13.09708,13.441740000000001,13.7864,14.131060000000002,14.47572,14.82038,15.165040000000001,15.5097,15.854360000000002,16.19902,16.543680000000002,16.88834,17.233],\"top\":[2504,12561,13327,3805,1683,797,449,253,169,148,125,104,109,73,57,57,59,46,64,44,48,43,36,55,41,35,39,35,25,35,25,29,30,18,19,20,7,14,9,11,7,7,3,8,3,3,5,0,0,2]},\"selected\":{\"id\":\"1286\",\"type\":\"Selection\"},\"selection_policy\":{\"id\":\"1285\",\"type\":\"UnionRenderers\"}},\"id\":\"1250\",\"type\":\"ColumnDataSource\"},{\"attributes\":{\"dimension\":1,\"ticker\":{\"id\":\"1233\",\"type\":\"BasicTicker\"}},\"id\":\"1236\",\"type\":\"Grid\"},{\"attributes\":{\"items\":[{\"id\":\"1262\",\"type\":\"LegendItem\"}]},\"id\":\"1261\",\"type\":\"Legend\"},{\"attributes\":{\"text\":\"SOR\"},\"id\":\"1217\",\"type\":\"Title\"},{\"attributes\":{},\"id\":\"1238\",\"type\":\"WheelZoomTool\"},{\"attributes\":{},\"id\":\"1223\",\"type\":\"LinearScale\"},{\"attributes\":{\"axis_label\":\"Frequency\",\"formatter\":{\"id\":\"1259\",\"type\":\"BasicTickFormatter\"},\"ticker\":{\"id\":\"1233\",\"type\":\"BasicTicker\"}},\"id\":\"1232\",\"type\":\"LinearAxis\"},{\"attributes\":{\"active_drag\":\"auto\",\"active_inspect\":\"auto\",\"active_multi\":null,\"active_scroll\":\"auto\",\"active_tap\":\"auto\",\"tools\":[{\"id\":\"1237\",\"type\":\"PanTool\"},{\"id\":\"1238\",\"type\":\"WheelZoomTool\"},{\"id\":\"1239\",\"type\":\"BoxZoomTool\"},{\"id\":\"1240\",\"type\":\"SaveTool\"},{\"id\":\"1241\",\"type\":\"ResetTool\"},{\"id\":\"1242\",\"type\":\"HelpTool\"}]},\"id\":\"1243\",\"type\":\"Toolbar\"},{\"attributes\":{},\"id\":\"1228\",\"type\":\"BasicTicker\"},{\"attributes\":{},\"id\":\"1259\",\"type\":\"BasicTickFormatter\"},{\"attributes\":{\"callback\":null,\"end\":18.09465,\"start\":-0.86165},\"id\":\"1219\",\"type\":\"Range1d\"},{\"attributes\":{\"ticker\":{\"id\":\"1228\",\"type\":\"BasicTicker\"}},\"id\":\"1231\",\"type\":\"Grid\"},{\"attributes\":{\"formatter\":{\"id\":\"1257\",\"type\":\"BasicTickFormatter\"},\"ticker\":{\"id\":\"1228\",\"type\":\"BasicTicker\"}},\"id\":\"1227\",\"type\":\"LinearAxis\"},{\"attributes\":{\"data_source\":{\"id\":\"1250\",\"type\":\"ColumnDataSource\"},\"glyph\":{\"id\":\"1251\",\"type\":\"Quad\"},\"hover_glyph\":null,\"muted_glyph\":null,\"nonselection_glyph\":{\"id\":\"1252\",\"type\":\"Quad\"},\"selection_glyph\":null,\"view\":{\"id\":\"1254\",\"type\":\"CDSView\"}},\"id\":\"1253\",\"type\":\"GlyphRenderer\"},{\"attributes\":{},\"id\":\"1225\",\"type\":\"LinearScale\"},{\"attributes\":{\"label\":{\"value\":\"\"},\"renderers\":[{\"id\":\"1253\",\"type\":\"GlyphRenderer\"}]},\"id\":\"1262\",\"type\":\"LegendItem\"},{\"attributes\":{},\"id\":\"1237\",\"type\":\"PanTool\"},{\"attributes\":{\"source\":{\"id\":\"1250\",\"type\":\"ColumnDataSource\"}},\"id\":\"1254\",\"type\":\"CDSView\"},{\"attributes\":{\"bottom_units\":\"screen\",\"fill_alpha\":{\"value\":0.5},\"fill_color\":{\"value\":\"lightgrey\"},\"left_units\":\"screen\",\"level\":\"overlay\",\"line_alpha\":{\"value\":1.0},\"line_color\":{\"value\":\"black\"},\"line_dash\":[4,4],\"line_width\":{\"value\":2},\"render_mode\":\"css\",\"right_units\":\"screen\",\"top_units\":\"screen\"},\"id\":\"1260\",\"type\":\"BoxAnnotation\"},{\"attributes\":{\"bottom\":{\"value\":0},\"fill_alpha\":{\"value\":0.1},\"fill_color\":{\"value\":\"#1f77b4\"},\"left\":{\"field\":\"left\"},\"line_alpha\":{\"value\":0.1},\"line_color\":{\"value\":\"#1f77b4\"},\"right\":{\"field\":\"right\"},\"top\":{\"field\":\"top\"}},\"id\":\"1252\",\"type\":\"Quad\"},{\"attributes\":{},\"id\":\"1233\",\"type\":\"BasicTicker\"},{\"attributes\":{},\"id\":\"1240\",\"type\":\"SaveTool\"},{\"attributes\":{\"bottom\":{\"value\":0},\"fill_color\":{\"value\":\"#1f77b4\"},\"left\":{\"field\":\"left\"},\"right\":{\"field\":\"right\"},\"top\":{\"field\":\"top\"}},\"id\":\"1251\",\"type\":\"Quad\"},{\"attributes\":{},\"id\":\"1286\",\"type\":\"Selection\"},{\"attributes\":{\"callback\":null},\"id\":\"1221\",\"type\":\"DataRange1d\"},{\"attributes\":{},\"id\":\"1257\",\"type\":\"BasicTickFormatter\"},{\"attributes\":{},\"id\":\"1285\",\"type\":\"UnionRenderers\"},{\"attributes\":{},\"id\":\"1241\",\"type\":\"ResetTool\"},{\"attributes\":{},\"id\":\"1242\",\"type\":\"HelpTool\"},{\"attributes\":{\"overlay\":{\"id\":\"1260\",\"type\":\"BoxAnnotation\"}},\"id\":\"1239\",\"type\":\"BoxZoomTool\"}],\"root_ids\":[\"1216\"]},\"title\":\"Bokeh Application\",\"version\":\"1.4.0\"}};\n",
       "  var render_items = [{\"docid\":\"6b2e85d0-d45b-44f8-b3b1-6e68bd07628a\",\"roots\":{\"1216\":\"213ee390-9a29-4bb4-b5b2-d385b6dcd47a\"}}];\n",
       "  root.Bokeh.embed.embed_items_notebook(docs_json, render_items);\n",
       "\n",
       "  }\n",
       "  if (root.Bokeh !== undefined) {\n",
       "    embed_document(root);\n",
       "  } else {\n",
       "    var attempts = 0;\n",
       "    var timer = setInterval(function(root) {\n",
       "      if (root.Bokeh !== undefined) {\n",
       "        clearInterval(timer);\n",
       "        embed_document(root);\n",
       "      } else {\n",
       "        attempts++;\n",
       "        if (attempts > 100) {\n",
       "          clearInterval(timer);\n",
       "          console.log(\"Bokeh: ERROR: Unable to run BokehJS code because BokehJS library is missing\");\n",
       "        }\n",
       "      }\n",
       "    }, 10, root)\n",
       "  }\n",
       "})(window);"
      ],
      "application/vnd.bokehjs_exec.v0+json": ""
     },
     "metadata": {
      "application/vnd.bokehjs_exec.v0+json": {
       "id": "1216"
      }
     },
     "output_type": "display_data"
    }
   ],
   "source": [
    "p = hl.plot.histogram(mt.info.SOR, title = 'SOR')\n",
    "show(p)"
   ]
  },
  {
   "cell_type": "code",
   "execution_count": 25,
   "id": "e092ec58",
   "metadata": {
    "ExecuteTime": {
     "end_time": "2022-01-17T10:54:08.252579Z",
     "start_time": "2022-01-17T10:53:44.795006Z"
    }
   },
   "outputs": [
    {
     "name": "stderr",
     "output_type": "stream",
     "text": [
      "2022-01-23 18:54:29 Hail: INFO: Coerced sorted dataset              (0 + 4) / 4]\n",
      "2022-01-23 18:54:32 Hail: INFO: Coerced sorted dataset              (0 + 4) / 4]\n",
      "2022-01-23 18:54:54 Hail: INFO: Coerced sorted dataset              (0 + 4) / 4]\n",
      "2022-01-23 18:54:57 Hail: INFO: Coerced sorted dataset              (0 + 4) / 4]\n",
      "[Stage 67:>                                                         (0 + 1) / 1]\r"
     ]
    },
    {
     "data": {
      "text/html": [
       "\n",
       "\n",
       "\n",
       "\n",
       "\n",
       "\n",
       "  <div class=\"bk-root\" id=\"c9e58041-7e36-460a-969f-6c15c83fc10d\" data-root-id=\"1335\"></div>\n"
      ]
     },
     "metadata": {},
     "output_type": "display_data"
    },
    {
     "data": {
      "application/javascript": [
       "(function(root) {\n",
       "  function embed_document(root) {\n",
       "    \n",
       "  var docs_json = {\"eb395ccc-9ffa-4adb-bdaa-86923aeb1c0b\":{\"roots\":{\"references\":[{\"attributes\":{\"background_fill_color\":{\"value\":\"#EEEEEE\"},\"below\":[{\"id\":\"1346\",\"type\":\"LinearAxis\"}],\"center\":[{\"id\":\"1350\",\"type\":\"Grid\"},{\"id\":\"1355\",\"type\":\"Grid\"},{\"id\":\"1380\",\"type\":\"Legend\"}],\"left\":[{\"id\":\"1351\",\"type\":\"LinearAxis\"}],\"renderers\":[{\"id\":\"1372\",\"type\":\"GlyphRenderer\"}],\"title\":{\"id\":\"1336\",\"type\":\"Title\"},\"toolbar\":{\"id\":\"1362\",\"type\":\"Toolbar\"},\"x_range\":{\"id\":\"1338\",\"type\":\"Range1d\"},\"x_scale\":{\"id\":\"1342\",\"type\":\"LinearScale\"},\"y_range\":{\"id\":\"1340\",\"type\":\"DataRange1d\"},\"y_scale\":{\"id\":\"1344\",\"type\":\"LinearScale\"}},\"id\":\"1335\",\"subtype\":\"Figure\",\"type\":\"Plot\"},{\"attributes\":{\"source\":{\"id\":\"1369\",\"type\":\"ColumnDataSource\"}},\"id\":\"1373\",\"type\":\"CDSView\"},{\"attributes\":{\"active_drag\":\"auto\",\"active_inspect\":\"auto\",\"active_multi\":null,\"active_scroll\":\"auto\",\"active_tap\":\"auto\",\"tools\":[{\"id\":\"1356\",\"type\":\"PanTool\"},{\"id\":\"1357\",\"type\":\"WheelZoomTool\"},{\"id\":\"1358\",\"type\":\"BoxZoomTool\"},{\"id\":\"1359\",\"type\":\"SaveTool\"},{\"id\":\"1360\",\"type\":\"ResetTool\"},{\"id\":\"1361\",\"type\":\"HelpTool\"}]},\"id\":\"1362\",\"type\":\"Toolbar\"},{\"attributes\":{\"callback\":null},\"id\":\"1340\",\"type\":\"DataRange1d\"},{\"attributes\":{\"label\":{\"value\":\"\"},\"renderers\":[{\"id\":\"1372\",\"type\":\"GlyphRenderer\"}]},\"id\":\"1381\",\"type\":\"LegendItem\"},{\"attributes\":{\"bottom_units\":\"screen\",\"fill_alpha\":{\"value\":0.5},\"fill_color\":{\"value\":\"lightgrey\"},\"left_units\":\"screen\",\"level\":\"overlay\",\"line_alpha\":{\"value\":1.0},\"line_color\":{\"value\":\"black\"},\"line_dash\":[4,4],\"line_width\":{\"value\":2},\"render_mode\":\"css\",\"right_units\":\"screen\",\"top_units\":\"screen\"},\"id\":\"1379\",\"type\":\"BoxAnnotation\"},{\"attributes\":{\"overlay\":{\"id\":\"1379\",\"type\":\"BoxAnnotation\"}},\"id\":\"1358\",\"type\":\"BoxZoomTool\"},{\"attributes\":{},\"id\":\"1342\",\"type\":\"LinearScale\"},{\"attributes\":{\"dimension\":1,\"ticker\":{\"id\":\"1352\",\"type\":\"BasicTicker\"}},\"id\":\"1355\",\"type\":\"Grid\"},{\"attributes\":{\"data_source\":{\"id\":\"1369\",\"type\":\"ColumnDataSource\"},\"glyph\":{\"id\":\"1370\",\"type\":\"Quad\"},\"hover_glyph\":null,\"muted_glyph\":null,\"nonselection_glyph\":{\"id\":\"1371\",\"type\":\"Quad\"},\"selection_glyph\":null,\"view\":{\"id\":\"1373\",\"type\":\"CDSView\"}},\"id\":\"1372\",\"type\":\"GlyphRenderer\"},{\"attributes\":{\"text\":\"QD\"},\"id\":\"1336\",\"type\":\"Title\"},{\"attributes\":{},\"id\":\"1347\",\"type\":\"BasicTicker\"},{\"attributes\":{\"axis_label\":\"Frequency\",\"formatter\":{\"id\":\"1378\",\"type\":\"BasicTickFormatter\"},\"ticker\":{\"id\":\"1352\",\"type\":\"BasicTicker\"}},\"id\":\"1351\",\"type\":\"LinearAxis\"},{\"attributes\":{},\"id\":\"1361\",\"type\":\"HelpTool\"},{\"attributes\":{},\"id\":\"1413\",\"type\":\"Selection\"},{\"attributes\":{\"ticker\":{\"id\":\"1347\",\"type\":\"BasicTicker\"}},\"id\":\"1350\",\"type\":\"Grid\"},{\"attributes\":{},\"id\":\"1376\",\"type\":\"BasicTickFormatter\"},{\"attributes\":{},\"id\":\"1359\",\"type\":\"SaveTool\"},{\"attributes\":{},\"id\":\"1352\",\"type\":\"BasicTicker\"},{\"attributes\":{\"callback\":null,\"end\":41.966,\"start\":-1.9460000000000002},\"id\":\"1338\",\"type\":\"Range1d\"},{\"attributes\":{},\"id\":\"1356\",\"type\":\"PanTool\"},{\"attributes\":{\"items\":[{\"id\":\"1381\",\"type\":\"LegendItem\"}]},\"id\":\"1380\",\"type\":\"Legend\"},{\"attributes\":{},\"id\":\"1378\",\"type\":\"BasicTickFormatter\"},{\"attributes\":{},\"id\":\"1360\",\"type\":\"ResetTool\"},{\"attributes\":{\"bottom\":{\"value\":0},\"fill_alpha\":{\"value\":0.1},\"fill_color\":{\"value\":\"#1f77b4\"},\"left\":{\"field\":\"left\"},\"line_alpha\":{\"value\":0.1},\"line_color\":{\"value\":\"#1f77b4\"},\"right\":{\"field\":\"right\"},\"top\":{\"field\":\"top\"}},\"id\":\"1371\",\"type\":\"Quad\"},{\"attributes\":{\"bottom\":{\"value\":0},\"fill_color\":{\"value\":\"#1f77b4\"},\"left\":{\"field\":\"left\"},\"right\":{\"field\":\"right\"},\"top\":{\"field\":\"top\"}},\"id\":\"1370\",\"type\":\"Quad\"},{\"attributes\":{\"callback\":null,\"data\":{\"left\":[0.05,0.8484,1.6468,2.4452,3.2436,4.042,4.8404,5.6388,6.4372,7.2356,8.034,8.8324,9.6308,10.429200000000002,11.2276,12.026,12.8244,13.622800000000002,14.4212,15.2196,16.018,16.8164,17.6148,18.4132,19.2116,20.01,20.808400000000002,21.6068,22.4052,23.2036,24.002,24.8004,25.5988,26.3972,27.195600000000002,27.994,28.7924,29.5908,30.3892,31.1876,31.986,32.7844,33.5828,34.3812,35.17959999999999,35.977999999999994,36.776399999999995,37.574799999999996,38.3732,39.1716],\"right\":[0.8484,1.6468,2.4452,3.2436,4.042,4.8404,5.6388,6.4372,7.2356,8.034,8.8324,9.6308,10.429200000000002,11.2276,12.026,12.8244,13.622800000000002,14.4212,15.2196,16.018,16.8164,17.6148,18.4132,19.2116,20.01,20.808400000000002,21.6068,22.4052,23.2036,24.002,24.8004,25.5988,26.3972,27.195600000000002,27.994,28.7924,29.5908,30.3892,31.1876,31.986,32.7844,33.5828,34.3812,35.17959999999999,35.977999999999994,36.776399999999995,37.574799999999996,38.3732,39.1716,39.97],\"top\":[432,441,443,411,355,344,355,407,504,596,856,1104,1445,2044,2753,3437,4165,4047,2741,1937,1461,1071,804,643,534,428,333,310,212,199,224,171,144,172,166,189,172,187,169,148,151,122,104,64,18,24,5,1,2,1]},\"selected\":{\"id\":\"1413\",\"type\":\"Selection\"},\"selection_policy\":{\"id\":\"1412\",\"type\":\"UnionRenderers\"}},\"id\":\"1369\",\"type\":\"ColumnDataSource\"},{\"attributes\":{},\"id\":\"1344\",\"type\":\"LinearScale\"},{\"attributes\":{},\"id\":\"1412\",\"type\":\"UnionRenderers\"},{\"attributes\":{\"formatter\":{\"id\":\"1376\",\"type\":\"BasicTickFormatter\"},\"ticker\":{\"id\":\"1347\",\"type\":\"BasicTicker\"}},\"id\":\"1346\",\"type\":\"LinearAxis\"},{\"attributes\":{},\"id\":\"1357\",\"type\":\"WheelZoomTool\"}],\"root_ids\":[\"1335\"]},\"title\":\"Bokeh Application\",\"version\":\"1.4.0\"}};\n",
       "  var render_items = [{\"docid\":\"eb395ccc-9ffa-4adb-bdaa-86923aeb1c0b\",\"roots\":{\"1335\":\"c9e58041-7e36-460a-969f-6c15c83fc10d\"}}];\n",
       "  root.Bokeh.embed.embed_items_notebook(docs_json, render_items);\n",
       "\n",
       "  }\n",
       "  if (root.Bokeh !== undefined) {\n",
       "    embed_document(root);\n",
       "  } else {\n",
       "    var attempts = 0;\n",
       "    var timer = setInterval(function(root) {\n",
       "      if (root.Bokeh !== undefined) {\n",
       "        clearInterval(timer);\n",
       "        embed_document(root);\n",
       "      } else {\n",
       "        attempts++;\n",
       "        if (attempts > 100) {\n",
       "          clearInterval(timer);\n",
       "          console.log(\"Bokeh: ERROR: Unable to run BokehJS code because BokehJS library is missing\");\n",
       "        }\n",
       "      }\n",
       "    }, 10, root)\n",
       "  }\n",
       "})(window);"
      ],
      "application/vnd.bokehjs_exec.v0+json": ""
     },
     "metadata": {
      "application/vnd.bokehjs_exec.v0+json": {
       "id": "1335"
      }
     },
     "output_type": "display_data"
    }
   ],
   "source": [
    "p = hl.plot.histogram(mt.info.QD, title = 'QD')\n",
    "show(p)"
   ]
  },
  {
   "cell_type": "markdown",
   "id": "fca4cc08",
   "metadata": {},
   "source": [
    "이번엔 AC와 AN의 정보를 확인해봅시다. AC와 AN은 전장유전체 정도관리 (quality control)에 매우 중요한 지표입니다. 여러명의 샘플을 joint genotyping 하는 경우에, 특정 부위는 variant calling이나 sequencing이 잘 안되는 경우가 발생합니다. 그러한 loci는 AN이 낮게 나타나고, 오직 소수의 샘플에서만 유전형이 확인됩니다. 이러한 변이는 연관성 검정에서 사용하기가 어렵습니다. 인간 유전체는 AN이 샘플수 * 2 (allele의 숫자)이 상염색체에선 최대값입니다. \n",
    "\n",
    "AC는 allele의 빈도를 구할때 중요한 지표입니다. VCF 상에서 AF를 정의하는 것은 AC/AN으로 합니다. "
   ]
  },
  {
   "cell_type": "code",
   "execution_count": 26,
   "id": "4374d57c",
   "metadata": {
    "ExecuteTime": {
     "end_time": "2022-01-17T10:54:29.859034Z",
     "start_time": "2022-01-17T10:54:08.253473Z"
    }
   },
   "outputs": [
    {
     "name": "stderr",
     "output_type": "stream",
     "text": [
      "2022-01-23 18:55:20 Hail: INFO: Coerced sorted dataset              (0 + 4) / 4]\n",
      "2022-01-23 18:55:23 Hail: INFO: Coerced sorted dataset              (0 + 4) / 4]\n",
      "2022-01-23 18:55:45 Hail: INFO: Coerced sorted dataset              (3 + 1) / 4]\n",
      "2022-01-23 18:55:48 Hail: INFO: Coerced sorted dataset              (0 + 4) / 4]\n",
      "[Stage 73:>                                                         (0 + 1) / 1]\r"
     ]
    },
    {
     "data": {
      "text/html": [
       "\n",
       "\n",
       "\n",
       "\n",
       "\n",
       "\n",
       "  <div class=\"bk-root\" id=\"15da89e5-d991-4e25-8393-4b9ac616bbd1\" data-root-id=\"1462\"></div>\n"
      ]
     },
     "metadata": {},
     "output_type": "display_data"
    },
    {
     "data": {
      "application/javascript": [
       "(function(root) {\n",
       "  function embed_document(root) {\n",
       "    \n",
       "  var docs_json = {\"49cf81fe-ce5b-4480-9c3d-53fabd36c3ee\":{\"roots\":{\"references\":[{\"attributes\":{\"background_fill_color\":{\"value\":\"#EEEEEE\"},\"below\":[{\"id\":\"1473\",\"type\":\"LinearAxis\"}],\"center\":[{\"id\":\"1477\",\"type\":\"Grid\"},{\"id\":\"1482\",\"type\":\"Grid\"},{\"id\":\"1507\",\"type\":\"Legend\"}],\"left\":[{\"id\":\"1478\",\"type\":\"LinearAxis\"}],\"renderers\":[{\"id\":\"1499\",\"type\":\"GlyphRenderer\"}],\"title\":{\"id\":\"1463\",\"type\":\"Title\"},\"toolbar\":{\"id\":\"1489\",\"type\":\"Toolbar\"},\"x_range\":{\"id\":\"1465\",\"type\":\"Range1d\"},\"x_scale\":{\"id\":\"1469\",\"type\":\"LinearScale\"},\"y_range\":{\"id\":\"1467\",\"type\":\"DataRange1d\"},\"y_scale\":{\"id\":\"1471\",\"type\":\"LinearScale\"}},\"id\":\"1462\",\"subtype\":\"Figure\",\"type\":\"Plot\"},{\"attributes\":{},\"id\":\"1474\",\"type\":\"BasicTicker\"},{\"attributes\":{\"callback\":null},\"id\":\"1467\",\"type\":\"DataRange1d\"},{\"attributes\":{\"label\":{\"value\":\"\"},\"renderers\":[{\"id\":\"1499\",\"type\":\"GlyphRenderer\"}]},\"id\":\"1508\",\"type\":\"LegendItem\"},{\"attributes\":{\"axis_label\":\"Frequency\",\"formatter\":{\"id\":\"1505\",\"type\":\"BasicTickFormatter\"},\"ticker\":{\"id\":\"1479\",\"type\":\"BasicTicker\"}},\"id\":\"1478\",\"type\":\"LinearAxis\"},{\"attributes\":{},\"id\":\"1486\",\"type\":\"SaveTool\"},{\"attributes\":{},\"id\":\"1487\",\"type\":\"ResetTool\"},{\"attributes\":{\"text\":\"AC\"},\"id\":\"1463\",\"type\":\"Title\"},{\"attributes\":{\"ticker\":{\"id\":\"1474\",\"type\":\"BasicTicker\"}},\"id\":\"1477\",\"type\":\"Grid\"},{\"attributes\":{\"overlay\":{\"id\":\"1506\",\"type\":\"BoxAnnotation\"}},\"id\":\"1485\",\"type\":\"BoxZoomTool\"},{\"attributes\":{\"callback\":null,\"data\":{\"left\":[1.0,129.06,257.12,385.18,513.24,641.3,769.36,897.4200000000001,1025.48,1153.54,1281.6,1409.66,1537.72,1665.78,1793.8400000000001,1921.9,2049.96,2178.02,2306.08,2434.14,2562.2,2690.26,2818.32,2946.38,3074.44,3202.5,3330.56,3458.62,3586.6800000000003,3714.7400000000002,3842.8,3970.86,4098.92,4226.9800000000005,4355.04,4483.1,4611.16,4739.22,4867.28,4995.34,5123.4,5251.46,5379.52,5507.58,5635.64,5763.7,5891.76,6019.82,6147.88,6275.9400000000005],\"right\":[129.06,257.12,385.18,513.24,641.3,769.36,897.4200000000001,1025.48,1153.54,1281.6,1409.66,1537.72,1665.78,1793.8400000000001,1921.9,2049.96,2178.02,2306.08,2434.14,2562.2,2690.26,2818.32,2946.38,3074.44,3202.5,3330.56,3458.62,3586.6800000000003,3714.7400000000002,3842.8,3970.86,4098.92,4226.9800000000005,4355.04,4483.1,4611.16,4739.22,4867.28,4995.34,5123.4,5251.46,5379.52,5507.58,5635.64,5763.7,5891.76,6019.82,6147.88,6275.9400000000005,6404.0],\"top\":[32035,1168,528,283,258,188,167,179,213,136,135,98,94,110,136,80,66,72,81,81,79,50,63,55,63,71,32,47,27,30,41,22,32,13,25,36,18,9,21,22,40,41,34,15,10,8,7,4,7,16]},\"selected\":{\"id\":\"1548\",\"type\":\"Selection\"},\"selection_policy\":{\"id\":\"1547\",\"type\":\"UnionRenderers\"}},\"id\":\"1496\",\"type\":\"ColumnDataSource\"},{\"attributes\":{},\"id\":\"1484\",\"type\":\"WheelZoomTool\"},{\"attributes\":{},\"id\":\"1505\",\"type\":\"BasicTickFormatter\"},{\"attributes\":{},\"id\":\"1469\",\"type\":\"LinearScale\"},{\"attributes\":{\"active_drag\":\"auto\",\"active_inspect\":\"auto\",\"active_multi\":null,\"active_scroll\":\"auto\",\"active_tap\":\"auto\",\"tools\":[{\"id\":\"1483\",\"type\":\"PanTool\"},{\"id\":\"1484\",\"type\":\"WheelZoomTool\"},{\"id\":\"1485\",\"type\":\"BoxZoomTool\"},{\"id\":\"1486\",\"type\":\"SaveTool\"},{\"id\":\"1487\",\"type\":\"ResetTool\"},{\"id\":\"1488\",\"type\":\"HelpTool\"}]},\"id\":\"1489\",\"type\":\"Toolbar\"},{\"attributes\":{\"callback\":null,\"end\":6724.15,\"start\":-319.15000000000003},\"id\":\"1465\",\"type\":\"Range1d\"},{\"attributes\":{},\"id\":\"1503\",\"type\":\"BasicTickFormatter\"},{\"attributes\":{},\"id\":\"1488\",\"type\":\"HelpTool\"},{\"attributes\":{\"bottom_units\":\"screen\",\"fill_alpha\":{\"value\":0.5},\"fill_color\":{\"value\":\"lightgrey\"},\"left_units\":\"screen\",\"level\":\"overlay\",\"line_alpha\":{\"value\":1.0},\"line_color\":{\"value\":\"black\"},\"line_dash\":[4,4],\"line_width\":{\"value\":2},\"render_mode\":\"css\",\"right_units\":\"screen\",\"top_units\":\"screen\"},\"id\":\"1506\",\"type\":\"BoxAnnotation\"},{\"attributes\":{\"formatter\":{\"id\":\"1503\",\"type\":\"BasicTickFormatter\"},\"ticker\":{\"id\":\"1474\",\"type\":\"BasicTicker\"}},\"id\":\"1473\",\"type\":\"LinearAxis\"},{\"attributes\":{\"bottom\":{\"value\":0},\"fill_color\":{\"value\":\"#1f77b4\"},\"left\":{\"field\":\"left\"},\"right\":{\"field\":\"right\"},\"top\":{\"field\":\"top\"}},\"id\":\"1497\",\"type\":\"Quad\"},{\"attributes\":{},\"id\":\"1471\",\"type\":\"LinearScale\"},{\"attributes\":{\"bottom\":{\"value\":0},\"fill_alpha\":{\"value\":0.1},\"fill_color\":{\"value\":\"#1f77b4\"},\"left\":{\"field\":\"left\"},\"line_alpha\":{\"value\":0.1},\"line_color\":{\"value\":\"#1f77b4\"},\"right\":{\"field\":\"right\"},\"top\":{\"field\":\"top\"}},\"id\":\"1498\",\"type\":\"Quad\"},{\"attributes\":{},\"id\":\"1547\",\"type\":\"UnionRenderers\"},{\"attributes\":{\"source\":{\"id\":\"1496\",\"type\":\"ColumnDataSource\"}},\"id\":\"1500\",\"type\":\"CDSView\"},{\"attributes\":{},\"id\":\"1483\",\"type\":\"PanTool\"},{\"attributes\":{},\"id\":\"1548\",\"type\":\"Selection\"},{\"attributes\":{\"data_source\":{\"id\":\"1496\",\"type\":\"ColumnDataSource\"},\"glyph\":{\"id\":\"1497\",\"type\":\"Quad\"},\"hover_glyph\":null,\"muted_glyph\":null,\"nonselection_glyph\":{\"id\":\"1498\",\"type\":\"Quad\"},\"selection_glyph\":null,\"view\":{\"id\":\"1500\",\"type\":\"CDSView\"}},\"id\":\"1499\",\"type\":\"GlyphRenderer\"},{\"attributes\":{},\"id\":\"1479\",\"type\":\"BasicTicker\"},{\"attributes\":{\"items\":[{\"id\":\"1508\",\"type\":\"LegendItem\"}]},\"id\":\"1507\",\"type\":\"Legend\"},{\"attributes\":{\"dimension\":1,\"ticker\":{\"id\":\"1479\",\"type\":\"BasicTicker\"}},\"id\":\"1482\",\"type\":\"Grid\"}],\"root_ids\":[\"1462\"]},\"title\":\"Bokeh Application\",\"version\":\"1.4.0\"}};\n",
       "  var render_items = [{\"docid\":\"49cf81fe-ce5b-4480-9c3d-53fabd36c3ee\",\"roots\":{\"1462\":\"15da89e5-d991-4e25-8393-4b9ac616bbd1\"}}];\n",
       "  root.Bokeh.embed.embed_items_notebook(docs_json, render_items);\n",
       "\n",
       "  }\n",
       "  if (root.Bokeh !== undefined) {\n",
       "    embed_document(root);\n",
       "  } else {\n",
       "    var attempts = 0;\n",
       "    var timer = setInterval(function(root) {\n",
       "      if (root.Bokeh !== undefined) {\n",
       "        clearInterval(timer);\n",
       "        embed_document(root);\n",
       "      } else {\n",
       "        attempts++;\n",
       "        if (attempts > 100) {\n",
       "          clearInterval(timer);\n",
       "          console.log(\"Bokeh: ERROR: Unable to run BokehJS code because BokehJS library is missing\");\n",
       "        }\n",
       "      }\n",
       "    }, 10, root)\n",
       "  }\n",
       "})(window);"
      ],
      "application/vnd.bokehjs_exec.v0+json": ""
     },
     "metadata": {
      "application/vnd.bokehjs_exec.v0+json": {
       "id": "1462"
      }
     },
     "output_type": "display_data"
    }
   ],
   "source": [
    "p = hl.plot.histogram(mt.info.AC[0], title = 'AC') # AC는 array로 존재하므로, 첫번째 아이템을 선택합니다\n",
    "show(p)"
   ]
  },
  {
   "cell_type": "code",
   "execution_count": 27,
   "id": "2e2495b5",
   "metadata": {
    "ExecuteTime": {
     "end_time": "2022-01-17T10:54:50.669141Z",
     "start_time": "2022-01-17T10:54:29.859918Z"
    }
   },
   "outputs": [
    {
     "name": "stderr",
     "output_type": "stream",
     "text": [
      "2022-01-23 18:56:11 Hail: INFO: Coerced sorted dataset              (0 + 4) / 4]\n",
      "2022-01-23 18:56:14 Hail: INFO: Coerced sorted dataset              (0 + 4) / 4]\n",
      "2022-01-23 18:56:36 Hail: INFO: Coerced sorted dataset              (3 + 1) / 4]\n",
      "2022-01-23 18:56:39 Hail: INFO: Coerced sorted dataset              (0 + 4) / 4]\n",
      "[Stage 79:>                                                         (0 + 1) / 1]\r"
     ]
    },
    {
     "data": {
      "text/html": [
       "\n",
       "\n",
       "\n",
       "\n",
       "\n",
       "\n",
       "  <div class=\"bk-root\" id=\"1e608d33-7574-448f-bfe8-6b2e1f3b77e3\" data-root-id=\"1597\"></div>\n"
      ]
     },
     "metadata": {},
     "output_type": "display_data"
    },
    {
     "data": {
      "application/javascript": [
       "(function(root) {\n",
       "  function embed_document(root) {\n",
       "    \n",
       "  var docs_json = {\"7443d0d7-e435-4a5f-8a49-7c5e6dc9f3c8\":{\"roots\":{\"references\":[{\"attributes\":{\"background_fill_color\":{\"value\":\"#EEEEEE\"},\"below\":[{\"id\":\"1608\",\"type\":\"LinearAxis\"}],\"center\":[{\"id\":\"1612\",\"type\":\"Grid\"},{\"id\":\"1617\",\"type\":\"Grid\"},{\"id\":\"1642\",\"type\":\"Legend\"}],\"left\":[{\"id\":\"1613\",\"type\":\"LinearAxis\"}],\"renderers\":[{\"id\":\"1634\",\"type\":\"GlyphRenderer\"}],\"title\":{\"id\":\"1598\",\"type\":\"Title\"},\"toolbar\":{\"id\":\"1624\",\"type\":\"Toolbar\"},\"x_range\":{\"id\":\"1600\",\"type\":\"Range1d\"},\"x_scale\":{\"id\":\"1604\",\"type\":\"LinearScale\"},\"y_range\":{\"id\":\"1602\",\"type\":\"DataRange1d\"},\"y_scale\":{\"id\":\"1606\",\"type\":\"LinearScale\"}},\"id\":\"1597\",\"subtype\":\"Figure\",\"type\":\"Plot\"},{\"attributes\":{\"formatter\":{\"id\":\"1638\",\"type\":\"BasicTickFormatter\"},\"ticker\":{\"id\":\"1609\",\"type\":\"BasicTicker\"}},\"id\":\"1608\",\"type\":\"LinearAxis\"},{\"attributes\":{},\"id\":\"1623\",\"type\":\"HelpTool\"},{\"attributes\":{\"callback\":null,\"end\":6723.4,\"start\":-303.40000000000003},\"id\":\"1600\",\"type\":\"Range1d\"},{\"attributes\":{},\"id\":\"1640\",\"type\":\"BasicTickFormatter\"},{\"attributes\":{\"callback\":null,\"data\":{\"left\":[16.0,143.76,271.52,399.28000000000003,527.04,654.8000000000001,782.5600000000001,910.32,1038.08,1165.8400000000001,1293.6000000000001,1421.3600000000001,1549.1200000000001,1676.88,1804.64,1932.4,2060.16,2187.92,2315.6800000000003,2443.44,2571.2000000000003,2698.96,2826.7200000000003,2954.48,3082.2400000000002,3210.0,3337.76,3465.52,3593.28,3721.04,3848.8,3976.56,4104.32,4232.08,4359.84,4487.6,4615.360000000001,4743.12,4870.88,4998.64,5126.400000000001,5254.16,5381.92,5509.68,5637.4400000000005,5765.2,5892.96,6020.72,6148.4800000000005,6276.240000000001],\"right\":[143.76,271.52,399.28000000000003,527.04,654.8000000000001,782.5600000000001,910.32,1038.08,1165.8400000000001,1293.6000000000001,1421.3600000000001,1549.1200000000001,1676.88,1804.64,1932.4,2060.16,2187.92,2315.6800000000003,2443.44,2571.2000000000003,2698.96,2826.7200000000003,2954.48,3082.2400000000002,3210.0,3337.76,3465.52,3593.28,3721.04,3848.8,3976.56,4104.32,4232.08,4359.84,4487.6,4615.360000000001,4743.12,4870.88,4998.64,5126.400000000001,5254.16,5381.92,5509.68,5637.4400000000005,5765.2,5892.96,6020.72,6148.4800000000005,6276.240000000001,6404.0],\"top\":[11,0,8,1,8,8,4,3,9,21,5,9,5,0,4,3,9,15,15,6,5,2,7,8,15,6,7,8,17,12,21,28,29,35,32,37,41,50,62,53,62,65,63,132,117,153,205,387,540,34703]},\"selected\":{\"id\":\"1691\",\"type\":\"Selection\"},\"selection_policy\":{\"id\":\"1690\",\"type\":\"UnionRenderers\"}},\"id\":\"1631\",\"type\":\"ColumnDataSource\"},{\"attributes\":{},\"id\":\"1690\",\"type\":\"UnionRenderers\"},{\"attributes\":{},\"id\":\"1621\",\"type\":\"SaveTool\"},{\"attributes\":{\"text\":\"AN\"},\"id\":\"1598\",\"type\":\"Title\"},{\"attributes\":{\"callback\":null},\"id\":\"1602\",\"type\":\"DataRange1d\"},{\"attributes\":{\"axis_label\":\"Frequency\",\"formatter\":{\"id\":\"1640\",\"type\":\"BasicTickFormatter\"},\"ticker\":{\"id\":\"1614\",\"type\":\"BasicTicker\"}},\"id\":\"1613\",\"type\":\"LinearAxis\"},{\"attributes\":{\"dimension\":1,\"ticker\":{\"id\":\"1614\",\"type\":\"BasicTicker\"}},\"id\":\"1617\",\"type\":\"Grid\"},{\"attributes\":{\"bottom\":{\"value\":0},\"fill_alpha\":{\"value\":0.1},\"fill_color\":{\"value\":\"#1f77b4\"},\"left\":{\"field\":\"left\"},\"line_alpha\":{\"value\":0.1},\"line_color\":{\"value\":\"#1f77b4\"},\"right\":{\"field\":\"right\"},\"top\":{\"field\":\"top\"}},\"id\":\"1633\",\"type\":\"Quad\"},{\"attributes\":{\"overlay\":{\"id\":\"1641\",\"type\":\"BoxAnnotation\"}},\"id\":\"1620\",\"type\":\"BoxZoomTool\"},{\"attributes\":{},\"id\":\"1609\",\"type\":\"BasicTicker\"},{\"attributes\":{},\"id\":\"1618\",\"type\":\"PanTool\"},{\"attributes\":{\"data_source\":{\"id\":\"1631\",\"type\":\"ColumnDataSource\"},\"glyph\":{\"id\":\"1632\",\"type\":\"Quad\"},\"hover_glyph\":null,\"muted_glyph\":null,\"nonselection_glyph\":{\"id\":\"1633\",\"type\":\"Quad\"},\"selection_glyph\":null,\"view\":{\"id\":\"1635\",\"type\":\"CDSView\"}},\"id\":\"1634\",\"type\":\"GlyphRenderer\"},{\"attributes\":{},\"id\":\"1606\",\"type\":\"LinearScale\"},{\"attributes\":{},\"id\":\"1622\",\"type\":\"ResetTool\"},{\"attributes\":{},\"id\":\"1691\",\"type\":\"Selection\"},{\"attributes\":{},\"id\":\"1619\",\"type\":\"WheelZoomTool\"},{\"attributes\":{\"label\":{\"value\":\"\"},\"renderers\":[{\"id\":\"1634\",\"type\":\"GlyphRenderer\"}]},\"id\":\"1643\",\"type\":\"LegendItem\"},{\"attributes\":{},\"id\":\"1604\",\"type\":\"LinearScale\"},{\"attributes\":{},\"id\":\"1638\",\"type\":\"BasicTickFormatter\"},{\"attributes\":{\"active_drag\":\"auto\",\"active_inspect\":\"auto\",\"active_multi\":null,\"active_scroll\":\"auto\",\"active_tap\":\"auto\",\"tools\":[{\"id\":\"1618\",\"type\":\"PanTool\"},{\"id\":\"1619\",\"type\":\"WheelZoomTool\"},{\"id\":\"1620\",\"type\":\"BoxZoomTool\"},{\"id\":\"1621\",\"type\":\"SaveTool\"},{\"id\":\"1622\",\"type\":\"ResetTool\"},{\"id\":\"1623\",\"type\":\"HelpTool\"}]},\"id\":\"1624\",\"type\":\"Toolbar\"},{\"attributes\":{\"source\":{\"id\":\"1631\",\"type\":\"ColumnDataSource\"}},\"id\":\"1635\",\"type\":\"CDSView\"},{\"attributes\":{\"bottom\":{\"value\":0},\"fill_color\":{\"value\":\"#1f77b4\"},\"left\":{\"field\":\"left\"},\"right\":{\"field\":\"right\"},\"top\":{\"field\":\"top\"}},\"id\":\"1632\",\"type\":\"Quad\"},{\"attributes\":{},\"id\":\"1614\",\"type\":\"BasicTicker\"},{\"attributes\":{\"items\":[{\"id\":\"1643\",\"type\":\"LegendItem\"}]},\"id\":\"1642\",\"type\":\"Legend\"},{\"attributes\":{\"ticker\":{\"id\":\"1609\",\"type\":\"BasicTicker\"}},\"id\":\"1612\",\"type\":\"Grid\"},{\"attributes\":{\"bottom_units\":\"screen\",\"fill_alpha\":{\"value\":0.5},\"fill_color\":{\"value\":\"lightgrey\"},\"left_units\":\"screen\",\"level\":\"overlay\",\"line_alpha\":{\"value\":1.0},\"line_color\":{\"value\":\"black\"},\"line_dash\":[4,4],\"line_width\":{\"value\":2},\"render_mode\":\"css\",\"right_units\":\"screen\",\"top_units\":\"screen\"},\"id\":\"1641\",\"type\":\"BoxAnnotation\"}],\"root_ids\":[\"1597\"]},\"title\":\"Bokeh Application\",\"version\":\"1.4.0\"}};\n",
       "  var render_items = [{\"docid\":\"7443d0d7-e435-4a5f-8a49-7c5e6dc9f3c8\",\"roots\":{\"1597\":\"1e608d33-7574-448f-bfe8-6b2e1f3b77e3\"}}];\n",
       "  root.Bokeh.embed.embed_items_notebook(docs_json, render_items);\n",
       "\n",
       "  }\n",
       "  if (root.Bokeh !== undefined) {\n",
       "    embed_document(root);\n",
       "  } else {\n",
       "    var attempts = 0;\n",
       "    var timer = setInterval(function(root) {\n",
       "      if (root.Bokeh !== undefined) {\n",
       "        clearInterval(timer);\n",
       "        embed_document(root);\n",
       "      } else {\n",
       "        attempts++;\n",
       "        if (attempts > 100) {\n",
       "          clearInterval(timer);\n",
       "          console.log(\"Bokeh: ERROR: Unable to run BokehJS code because BokehJS library is missing\");\n",
       "        }\n",
       "      }\n",
       "    }, 10, root)\n",
       "  }\n",
       "})(window);"
      ],
      "application/vnd.bokehjs_exec.v0+json": ""
     },
     "metadata": {
      "application/vnd.bokehjs_exec.v0+json": {
       "id": "1597"
      }
     },
     "output_type": "display_data"
    }
   ],
   "source": [
    "p = hl.plot.histogram(mt.info.AN, title = 'AN')\n",
    "show(p)"
   ]
  },
  {
   "cell_type": "markdown",
   "id": "e4c6beb5",
   "metadata": {},
   "source": [
    "SNV와 Indel은 여러가지 이유로 품질지표에서 다른 분포를 갖습니다. 몇가지 지표를 보고 SNV와 indel의 차이점을 살펴봅시다. 먼저 SNV와 indel로 matrix table을 나누겠습니다. "
   ]
  },
  {
   "cell_type": "code",
   "execution_count": 28,
   "id": "c6f7753b",
   "metadata": {
    "ExecuteTime": {
     "end_time": "2022-01-17T10:54:50.687209Z",
     "start_time": "2022-01-17T10:54:50.669966Z"
    }
   },
   "outputs": [],
   "source": [
    "mt_SNV = mt.filter_rows(hl.is_snp(mt.alleles[0], mt.alleles[1]))\n",
    "mt_Indel = mt.filter_rows(hl.is_indel(mt.alleles[0], mt.alleles[1]))"
   ]
  },
  {
   "cell_type": "code",
   "execution_count": 29,
   "id": "e953709a",
   "metadata": {
    "ExecuteTime": {
     "end_time": "2022-01-17T10:55:11.995976Z",
     "start_time": "2022-01-17T10:54:50.688277Z"
    }
   },
   "outputs": [
    {
     "name": "stderr",
     "output_type": "stream",
     "text": [
      "2022-01-23 18:57:02 Hail: INFO: Coerced sorted dataset              (0 + 4) / 4]\n",
      "2022-01-23 18:57:05 Hail: INFO: Coerced sorted dataset              (3 + 1) / 4]\n",
      "2022-01-23 18:57:28 Hail: INFO: Coerced sorted dataset              (0 + 4) / 4]\n",
      "2022-01-23 18:57:30 Hail: INFO: Coerced sorted dataset              (0 + 4) / 4]\n",
      "[Stage 85:>                                                         (0 + 1) / 1]\r"
     ]
    },
    {
     "data": {
      "text/html": [
       "\n",
       "\n",
       "\n",
       "\n",
       "\n",
       "\n",
       "  <div class=\"bk-root\" id=\"d61c7181-12cb-411c-b8e6-bea9232cc36a\" data-root-id=\"1740\"></div>\n"
      ]
     },
     "metadata": {},
     "output_type": "display_data"
    },
    {
     "data": {
      "application/javascript": [
       "(function(root) {\n",
       "  function embed_document(root) {\n",
       "    \n",
       "  var docs_json = {\"a9124f20-2110-481e-9806-9d5a1a4b7a57\":{\"roots\":{\"references\":[{\"attributes\":{\"background_fill_color\":{\"value\":\"#EEEEEE\"},\"below\":[{\"id\":\"1751\",\"type\":\"LinearAxis\"}],\"center\":[{\"id\":\"1755\",\"type\":\"Grid\"},{\"id\":\"1760\",\"type\":\"Grid\"},{\"id\":\"1785\",\"type\":\"Legend\"}],\"left\":[{\"id\":\"1756\",\"type\":\"LinearAxis\"}],\"renderers\":[{\"id\":\"1777\",\"type\":\"GlyphRenderer\"}],\"title\":{\"id\":\"1741\",\"type\":\"Title\"},\"toolbar\":{\"id\":\"1767\",\"type\":\"Toolbar\"},\"x_range\":{\"id\":\"1743\",\"type\":\"Range1d\"},\"x_scale\":{\"id\":\"1747\",\"type\":\"LinearScale\"},\"y_range\":{\"id\":\"1745\",\"type\":\"DataRange1d\"},\"y_scale\":{\"id\":\"1749\",\"type\":\"LinearScale\"}},\"id\":\"1740\",\"subtype\":\"Figure\",\"type\":\"Plot\"},{\"attributes\":{},\"id\":\"1764\",\"type\":\"SaveTool\"},{\"attributes\":{\"text\":\"MQ - SNV\"},\"id\":\"1741\",\"type\":\"Title\"},{\"attributes\":{\"ticker\":{\"id\":\"1752\",\"type\":\"BasicTicker\"}},\"id\":\"1755\",\"type\":\"Grid\"},{\"attributes\":{},\"id\":\"1747\",\"type\":\"LinearScale\"},{\"attributes\":{},\"id\":\"1757\",\"type\":\"BasicTicker\"},{\"attributes\":{},\"id\":\"1749\",\"type\":\"LinearScale\"},{\"attributes\":{\"formatter\":{\"id\":\"1781\",\"type\":\"BasicTickFormatter\"},\"ticker\":{\"id\":\"1752\",\"type\":\"BasicTicker\"}},\"id\":\"1751\",\"type\":\"LinearAxis\"},{\"attributes\":{\"callback\":null,\"end\":62.979499999999994,\"start\":-2.5694999999999997},\"id\":\"1743\",\"type\":\"Range1d\"},{\"attributes\":{\"callback\":null},\"id\":\"1745\",\"type\":\"DataRange1d\"},{\"attributes\":{\"axis_label\":\"Frequency\",\"formatter\":{\"id\":\"1783\",\"type\":\"BasicTickFormatter\"},\"ticker\":{\"id\":\"1757\",\"type\":\"BasicTicker\"}},\"id\":\"1756\",\"type\":\"LinearAxis\"},{\"attributes\":{\"bottom\":{\"value\":0},\"fill_color\":{\"value\":\"#1f77b4\"},\"left\":{\"field\":\"left\"},\"right\":{\"field\":\"right\"},\"top\":{\"field\":\"top\"}},\"id\":\"1775\",\"type\":\"Quad\"},{\"attributes\":{\"bottom\":{\"value\":0},\"fill_alpha\":{\"value\":0.1},\"fill_color\":{\"value\":\"#1f77b4\"},\"left\":{\"field\":\"left\"},\"line_alpha\":{\"value\":0.1},\"line_color\":{\"value\":\"#1f77b4\"},\"right\":{\"field\":\"right\"},\"top\":{\"field\":\"top\"}},\"id\":\"1776\",\"type\":\"Quad\"},{\"attributes\":{\"bottom_units\":\"screen\",\"fill_alpha\":{\"value\":0.5},\"fill_color\":{\"value\":\"lightgrey\"},\"left_units\":\"screen\",\"level\":\"overlay\",\"line_alpha\":{\"value\":1.0},\"line_color\":{\"value\":\"black\"},\"line_dash\":[4,4],\"line_width\":{\"value\":2},\"render_mode\":\"css\",\"right_units\":\"screen\",\"top_units\":\"screen\"},\"id\":\"1784\",\"type\":\"BoxAnnotation\"},{\"attributes\":{},\"id\":\"1841\",\"type\":\"UnionRenderers\"},{\"attributes\":{},\"id\":\"1783\",\"type\":\"BasicTickFormatter\"},{\"attributes\":{},\"id\":\"1752\",\"type\":\"BasicTicker\"},{\"attributes\":{\"label\":{\"value\":\"\"},\"renderers\":[{\"id\":\"1777\",\"type\":\"GlyphRenderer\"}]},\"id\":\"1786\",\"type\":\"LegendItem\"},{\"attributes\":{},\"id\":\"1781\",\"type\":\"BasicTickFormatter\"},{\"attributes\":{\"items\":[{\"id\":\"1786\",\"type\":\"LegendItem\"}]},\"id\":\"1785\",\"type\":\"Legend\"},{\"attributes\":{},\"id\":\"1762\",\"type\":\"WheelZoomTool\"},{\"attributes\":{},\"id\":\"1766\",\"type\":\"HelpTool\"},{\"attributes\":{\"dimension\":1,\"ticker\":{\"id\":\"1757\",\"type\":\"BasicTicker\"}},\"id\":\"1760\",\"type\":\"Grid\"},{\"attributes\":{},\"id\":\"1842\",\"type\":\"Selection\"},{\"attributes\":{\"active_drag\":\"auto\",\"active_inspect\":\"auto\",\"active_multi\":null,\"active_scroll\":\"auto\",\"active_tap\":\"auto\",\"tools\":[{\"id\":\"1761\",\"type\":\"PanTool\"},{\"id\":\"1762\",\"type\":\"WheelZoomTool\"},{\"id\":\"1763\",\"type\":\"BoxZoomTool\"},{\"id\":\"1764\",\"type\":\"SaveTool\"},{\"id\":\"1765\",\"type\":\"ResetTool\"},{\"id\":\"1766\",\"type\":\"HelpTool\"}]},\"id\":\"1767\",\"type\":\"Toolbar\"},{\"attributes\":{\"data_source\":{\"id\":\"1774\",\"type\":\"ColumnDataSource\"},\"glyph\":{\"id\":\"1775\",\"type\":\"Quad\"},\"hover_glyph\":null,\"muted_glyph\":null,\"nonselection_glyph\":{\"id\":\"1776\",\"type\":\"Quad\"},\"selection_glyph\":null,\"view\":{\"id\":\"1778\",\"type\":\"CDSView\"}},\"id\":\"1777\",\"type\":\"GlyphRenderer\"},{\"attributes\":{},\"id\":\"1761\",\"type\":\"PanTool\"},{\"attributes\":{},\"id\":\"1765\",\"type\":\"ResetTool\"},{\"attributes\":{\"source\":{\"id\":\"1774\",\"type\":\"ColumnDataSource\"}},\"id\":\"1778\",\"type\":\"CDSView\"},{\"attributes\":{\"overlay\":{\"id\":\"1784\",\"type\":\"BoxAnnotation\"}},\"id\":\"1763\",\"type\":\"BoxZoomTool\"},{\"attributes\":{\"callback\":null,\"data\":{\"left\":[0.41,1.6018,2.7936,3.9854000000000003,5.1772,6.369,7.5608,8.7526,9.9444,11.1362,12.328,13.5198,14.7116,15.9034,17.0952,18.287,19.4788,20.6706,21.8624,23.054199999999998,24.246,25.4378,26.6296,27.8214,29.0132,30.205,31.3968,32.58859999999999,33.78039999999999,34.972199999999994,36.163999999999994,37.355799999999995,38.547599999999996,39.739399999999996,40.9312,42.123,43.3148,44.5066,45.69839999999999,46.89019999999999,48.081999999999994,49.273799999999994,50.465599999999995,51.657399999999996,52.849199999999996,54.041,55.2328,56.4246,57.6164,58.80819999999999],\"right\":[1.6018,2.7936,3.9854000000000003,5.1772,6.369,7.5608,8.7526,9.9444,11.1362,12.328,13.5198,14.7116,15.9034,17.0952,18.287,19.4788,20.6706,21.8624,23.054199999999998,24.246,25.4378,26.6296,27.8214,29.0132,30.205,31.3968,32.58859999999999,33.78039999999999,34.972199999999994,36.163999999999994,37.355799999999995,38.547599999999996,39.739399999999996,40.9312,42.123,43.3148,44.5066,45.69839999999999,46.89019999999999,48.081999999999994,49.273799999999994,50.465599999999995,51.657399999999996,52.849199999999996,54.041,55.2328,56.4246,57.6164,58.80819999999999,59.99999999999999],\"top\":[52,63,84,80,91,82,72,86,95,76,65,87,60,82,79,87,79,92,114,112,151,142,136,137,146,164,155,184,230,217,196,208,168,185,188,184,194,186,217,197,219,262,258,223,292,328,306,351,524,23255]},\"selected\":{\"id\":\"1842\",\"type\":\"Selection\"},\"selection_policy\":{\"id\":\"1841\",\"type\":\"UnionRenderers\"}},\"id\":\"1774\",\"type\":\"ColumnDataSource\"}],\"root_ids\":[\"1740\"]},\"title\":\"Bokeh Application\",\"version\":\"1.4.0\"}};\n",
       "  var render_items = [{\"docid\":\"a9124f20-2110-481e-9806-9d5a1a4b7a57\",\"roots\":{\"1740\":\"d61c7181-12cb-411c-b8e6-bea9232cc36a\"}}];\n",
       "  root.Bokeh.embed.embed_items_notebook(docs_json, render_items);\n",
       "\n",
       "  }\n",
       "  if (root.Bokeh !== undefined) {\n",
       "    embed_document(root);\n",
       "  } else {\n",
       "    var attempts = 0;\n",
       "    var timer = setInterval(function(root) {\n",
       "      if (root.Bokeh !== undefined) {\n",
       "        clearInterval(timer);\n",
       "        embed_document(root);\n",
       "      } else {\n",
       "        attempts++;\n",
       "        if (attempts > 100) {\n",
       "          clearInterval(timer);\n",
       "          console.log(\"Bokeh: ERROR: Unable to run BokehJS code because BokehJS library is missing\");\n",
       "        }\n",
       "      }\n",
       "    }, 10, root)\n",
       "  }\n",
       "})(window);"
      ],
      "application/vnd.bokehjs_exec.v0+json": ""
     },
     "metadata": {
      "application/vnd.bokehjs_exec.v0+json": {
       "id": "1740"
      }
     },
     "output_type": "display_data"
    }
   ],
   "source": [
    "p = hl.plot.histogram(mt_SNV.info.MQ, title = 'MQ - SNV')\n",
    "show(p)"
   ]
  },
  {
   "cell_type": "code",
   "execution_count": 30,
   "id": "6d0fde8f",
   "metadata": {
    "ExecuteTime": {
     "end_time": "2022-01-17T10:55:34.567035Z",
     "start_time": "2022-01-17T10:55:11.996852Z"
    }
   },
   "outputs": [
    {
     "name": "stderr",
     "output_type": "stream",
     "text": [
      "2022-01-23 18:57:53 Hail: INFO: Coerced sorted dataset              (0 + 4) / 4]\n",
      "2022-01-23 18:57:56 Hail: INFO: Coerced sorted dataset              (0 + 4) / 4]\n",
      "2022-01-23 18:58:19 Hail: INFO: Coerced sorted dataset              (3 + 1) / 4]\n",
      "2022-01-23 18:58:21 Hail: INFO: Coerced sorted dataset              (3 + 1) / 4]\n",
      "[Stage 91:>                                                         (0 + 1) / 1]\r"
     ]
    },
    {
     "data": {
      "text/html": [
       "\n",
       "\n",
       "\n",
       "\n",
       "\n",
       "\n",
       "  <div class=\"bk-root\" id=\"b79f39c0-61c4-418e-ab99-afdfc896d5dd\" data-root-id=\"1891\"></div>\n"
      ]
     },
     "metadata": {},
     "output_type": "display_data"
    },
    {
     "data": {
      "application/javascript": [
       "(function(root) {\n",
       "  function embed_document(root) {\n",
       "    \n",
       "  var docs_json = {\"1df59271-71eb-407a-881d-deecd3b6e784\":{\"roots\":{\"references\":[{\"attributes\":{\"background_fill_color\":{\"value\":\"#EEEEEE\"},\"below\":[{\"id\":\"1902\",\"type\":\"LinearAxis\"}],\"center\":[{\"id\":\"1906\",\"type\":\"Grid\"},{\"id\":\"1911\",\"type\":\"Grid\"},{\"id\":\"1936\",\"type\":\"Legend\"}],\"left\":[{\"id\":\"1907\",\"type\":\"LinearAxis\"}],\"renderers\":[{\"id\":\"1928\",\"type\":\"GlyphRenderer\"}],\"title\":{\"id\":\"1892\",\"type\":\"Title\"},\"toolbar\":{\"id\":\"1918\",\"type\":\"Toolbar\"},\"x_range\":{\"id\":\"1894\",\"type\":\"Range1d\"},\"x_scale\":{\"id\":\"1898\",\"type\":\"LinearScale\"},\"y_range\":{\"id\":\"1896\",\"type\":\"DataRange1d\"},\"y_scale\":{\"id\":\"1900\",\"type\":\"LinearScale\"}},\"id\":\"1891\",\"subtype\":\"Figure\",\"type\":\"Plot\"},{\"attributes\":{\"axis_label\":\"Frequency\",\"formatter\":{\"id\":\"1934\",\"type\":\"BasicTickFormatter\"},\"ticker\":{\"id\":\"1908\",\"type\":\"BasicTicker\"}},\"id\":\"1907\",\"type\":\"LinearAxis\"},{\"attributes\":{\"bottom\":{\"value\":0},\"fill_alpha\":{\"value\":0.1},\"fill_color\":{\"value\":\"#1f77b4\"},\"left\":{\"field\":\"left\"},\"line_alpha\":{\"value\":0.1},\"line_color\":{\"value\":\"#1f77b4\"},\"right\":{\"field\":\"right\"},\"top\":{\"field\":\"top\"}},\"id\":\"1927\",\"type\":\"Quad\"},{\"attributes\":{\"bottom_units\":\"screen\",\"fill_alpha\":{\"value\":0.5},\"fill_color\":{\"value\":\"lightgrey\"},\"left_units\":\"screen\",\"level\":\"overlay\",\"line_alpha\":{\"value\":1.0},\"line_color\":{\"value\":\"black\"},\"line_dash\":[4,4],\"line_width\":{\"value\":2},\"render_mode\":\"css\",\"right_units\":\"screen\",\"top_units\":\"screen\"},\"id\":\"1935\",\"type\":\"BoxAnnotation\"},{\"attributes\":{\"bottom\":{\"value\":0},\"fill_color\":{\"value\":\"#1f77b4\"},\"left\":{\"field\":\"left\"},\"right\":{\"field\":\"right\"},\"top\":{\"field\":\"top\"}},\"id\":\"1926\",\"type\":\"Quad\"},{\"attributes\":{},\"id\":\"1912\",\"type\":\"PanTool\"},{\"attributes\":{},\"id\":\"1915\",\"type\":\"SaveTool\"},{\"attributes\":{\"items\":[{\"id\":\"1937\",\"type\":\"LegendItem\"}]},\"id\":\"1936\",\"type\":\"Legend\"},{\"attributes\":{\"label\":{\"value\":\"\"},\"renderers\":[{\"id\":\"1928\",\"type\":\"GlyphRenderer\"}]},\"id\":\"1937\",\"type\":\"LegendItem\"},{\"attributes\":{\"source\":{\"id\":\"1925\",\"type\":\"ColumnDataSource\"}},\"id\":\"1929\",\"type\":\"CDSView\"},{\"attributes\":{},\"id\":\"1916\",\"type\":\"ResetTool\"},{\"attributes\":{},\"id\":\"1913\",\"type\":\"WheelZoomTool\"},{\"attributes\":{\"callback\":null,\"end\":62.97449999999999,\"start\":-2.4645},\"id\":\"1894\",\"type\":\"Range1d\"},{\"attributes\":{\"ticker\":{\"id\":\"1903\",\"type\":\"BasicTicker\"}},\"id\":\"1906\",\"type\":\"Grid\"},{\"attributes\":{},\"id\":\"1934\",\"type\":\"BasicTickFormatter\"},{\"attributes\":{\"text\":\"MQ - Indel\"},\"id\":\"1892\",\"type\":\"Title\"},{\"attributes\":{},\"id\":\"1903\",\"type\":\"BasicTicker\"},{\"attributes\":{\"callback\":null},\"id\":\"1896\",\"type\":\"DataRange1d\"},{\"attributes\":{\"formatter\":{\"id\":\"1932\",\"type\":\"BasicTickFormatter\"},\"ticker\":{\"id\":\"1903\",\"type\":\"BasicTicker\"}},\"id\":\"1902\",\"type\":\"LinearAxis\"},{\"attributes\":{\"dimension\":1,\"ticker\":{\"id\":\"1908\",\"type\":\"BasicTicker\"}},\"id\":\"1911\",\"type\":\"Grid\"},{\"attributes\":{\"overlay\":{\"id\":\"1935\",\"type\":\"BoxAnnotation\"}},\"id\":\"1914\",\"type\":\"BoxZoomTool\"},{\"attributes\":{},\"id\":\"2001\",\"type\":\"Selection\"},{\"attributes\":{},\"id\":\"1908\",\"type\":\"BasicTicker\"},{\"attributes\":{\"active_drag\":\"auto\",\"active_inspect\":\"auto\",\"active_multi\":null,\"active_scroll\":\"auto\",\"active_tap\":\"auto\",\"tools\":[{\"id\":\"1912\",\"type\":\"PanTool\"},{\"id\":\"1913\",\"type\":\"WheelZoomTool\"},{\"id\":\"1914\",\"type\":\"BoxZoomTool\"},{\"id\":\"1915\",\"type\":\"SaveTool\"},{\"id\":\"1916\",\"type\":\"ResetTool\"},{\"id\":\"1917\",\"type\":\"HelpTool\"}]},\"id\":\"1918\",\"type\":\"Toolbar\"},{\"attributes\":{},\"id\":\"1898\",\"type\":\"LinearScale\"},{\"attributes\":{\"data_source\":{\"id\":\"1925\",\"type\":\"ColumnDataSource\"},\"glyph\":{\"id\":\"1926\",\"type\":\"Quad\"},\"hover_glyph\":null,\"muted_glyph\":null,\"nonselection_glyph\":{\"id\":\"1927\",\"type\":\"Quad\"},\"selection_glyph\":null,\"view\":{\"id\":\"1929\",\"type\":\"CDSView\"}},\"id\":\"1928\",\"type\":\"GlyphRenderer\"},{\"attributes\":{},\"id\":\"1900\",\"type\":\"LinearScale\"},{\"attributes\":{},\"id\":\"2000\",\"type\":\"UnionRenderers\"},{\"attributes\":{},\"id\":\"1917\",\"type\":\"HelpTool\"},{\"attributes\":{\"callback\":null,\"data\":{\"left\":[0.51,1.6998,2.8895999999999997,4.0794,5.2692,6.459,7.6488,8.8386,10.0284,11.2182,12.408,13.5978,14.7876,15.9774,17.1672,18.357000000000003,19.5468,20.7366,21.9264,23.116200000000003,24.306,25.4958,26.6856,27.875400000000003,29.0652,30.255,31.4448,32.6346,33.8244,35.014199999999995,36.204,37.3938,38.5836,39.773399999999995,40.96319999999999,42.153,43.3428,44.532599999999995,45.7224,46.9122,48.102,49.291799999999995,50.48159999999999,51.6714,52.8612,54.050999999999995,55.2408,56.4306,57.6204,58.810199999999995],\"right\":[1.6998,2.8895999999999997,4.0794,5.2692,6.459,7.6488,8.8386,10.0284,11.2182,12.408,13.5978,14.7876,15.9774,17.1672,18.357000000000003,19.5468,20.7366,21.9264,23.116200000000003,24.306,25.4958,26.6856,27.875400000000003,29.0652,30.255,31.4448,32.6346,33.8244,35.014199999999995,36.204,37.3938,38.5836,39.773399999999995,40.96319999999999,42.153,43.3428,44.532599999999995,45.7224,46.9122,48.102,49.291799999999995,50.48159999999999,51.6714,52.8612,54.050999999999995,55.2408,56.4306,57.6204,58.810199999999995,59.99999999999999],\"top\":[29,48,60,54,44,48,51,51,52,62,54,47,42,29,49,37,42,55,65,38,52,45,55,39,51,33,54,52,63,49,54,71,61,46,60,43,52,50,61,65,53,67,59,72,92,105,114,128,177,2925]},\"selected\":{\"id\":\"2001\",\"type\":\"Selection\"},\"selection_policy\":{\"id\":\"2000\",\"type\":\"UnionRenderers\"}},\"id\":\"1925\",\"type\":\"ColumnDataSource\"},{\"attributes\":{},\"id\":\"1932\",\"type\":\"BasicTickFormatter\"}],\"root_ids\":[\"1891\"]},\"title\":\"Bokeh Application\",\"version\":\"1.4.0\"}};\n",
       "  var render_items = [{\"docid\":\"1df59271-71eb-407a-881d-deecd3b6e784\",\"roots\":{\"1891\":\"b79f39c0-61c4-418e-ab99-afdfc896d5dd\"}}];\n",
       "  root.Bokeh.embed.embed_items_notebook(docs_json, render_items);\n",
       "\n",
       "  }\n",
       "  if (root.Bokeh !== undefined) {\n",
       "    embed_document(root);\n",
       "  } else {\n",
       "    var attempts = 0;\n",
       "    var timer = setInterval(function(root) {\n",
       "      if (root.Bokeh !== undefined) {\n",
       "        clearInterval(timer);\n",
       "        embed_document(root);\n",
       "      } else {\n",
       "        attempts++;\n",
       "        if (attempts > 100) {\n",
       "          clearInterval(timer);\n",
       "          console.log(\"Bokeh: ERROR: Unable to run BokehJS code because BokehJS library is missing\");\n",
       "        }\n",
       "      }\n",
       "    }, 10, root)\n",
       "  }\n",
       "})(window);"
      ],
      "application/vnd.bokehjs_exec.v0+json": ""
     },
     "metadata": {
      "application/vnd.bokehjs_exec.v0+json": {
       "id": "1891"
      }
     },
     "output_type": "display_data"
    }
   ],
   "source": [
    "p = hl.plot.histogram(mt_Indel.info.MQ, title = 'MQ - Indel')\n",
    "show(p)"
   ]
  },
  {
   "cell_type": "markdown",
   "id": "c5cb70a3",
   "metadata": {},
   "source": [
    "VCF에는 variant calling 알고리즘에 따라 분류된 quality filter가 존재합니다. 우리가 사용한 VCF는 GATK의 VQSR 모델에 따라 `PASS` filter를 제공합니다. 향후 분석을 위해 `PASS` variant만 사용하도록 추출합시다. "
   ]
  },
  {
   "cell_type": "code",
   "execution_count": 31,
   "id": "621eeac8",
   "metadata": {
    "ExecuteTime": {
     "end_time": "2022-01-17T10:55:56.824341Z",
     "start_time": "2022-01-17T10:55:34.567954Z"
    }
   },
   "outputs": [
    {
     "name": "stderr",
     "output_type": "stream",
     "text": [
      "2022-01-23 18:58:44 Hail: INFO: Coerced sorted dataset              (0 + 4) / 4]\n",
      "2022-01-23 18:58:50 Hail: INFO: Coerced sorted dataset              (3 + 1) / 4]\n",
      "[Stage 95:>                                                         (0 + 4) / 4]\r"
     ]
    },
    {
     "name": "stdout",
     "output_type": "stream",
     "text": [
      "--> Before remove variants with VSQR pass failure, the number of variants is : 37046\n"
     ]
    },
    {
     "name": "stderr",
     "output_type": "stream",
     "text": [
      "2022-01-23 18:58:56 Hail: INFO: Coerced sorted dataset              (3 + 1) / 4]\n",
      "2022-01-23 18:58:59 Hail: INFO: Coerced sorted dataset              (0 + 4) / 4]\n",
      "[Stage 98:>                                                         (0 + 1) / 1]\r"
     ]
    },
    {
     "name": "stdout",
     "output_type": "stream",
     "text": [
      "--> After remove variants with VSQR pass failure, the number of variants is : 33097\n"
     ]
    }
   ],
   "source": [
    "print(\"--> Before remove variants with VSQR pass failure, the number of variants is :\", mt.rows().count())\n",
    "mt = mt.filter_rows(hl.len(mt.filters) == 0)\n",
    "print(\"--> After remove variants with VSQR pass failure, the number of variants is :\", mt.rows().count())"
   ]
  },
  {
   "cell_type": "markdown",
   "id": "7e95c1fe",
   "metadata": {},
   "source": [
    "### 유전형 정보 확인하기\n",
    "\n",
    "유전변이(variant)와 다르게 유전형(genotype)은 개별 샘플에 나타나는 정보에 해당합니다. \n",
    "\n",
    "**1. Reference homozygous call**\n",
    "\n",
    "이에 속하는 샘플은 alternative allele이 없고 DNA 두쌍이 모두 reference allele을 갖습니다. 이런 경우를 `0/0`으로 표시합니다. \n",
    "\n",
    "**2. Heterozygous variant**\n",
    "\n",
    "이에 속하는 샘플은 DNA 두쌍 중 하나가 alternative allele을 갖고, 다른 하나는 reference allele을 갖습니다. 이런 경우를 `0/1`으로 표시합니다. \n",
    "\n",
    "**3. Homozygous variant**\n",
    "\n",
    "이에 속하는 샘플은 DNA 두쌍 중 하나가 alternative allele을 갖습니다. 이런 경우를 `1/1`으로 표시합니다. \n",
    "\n",
    "\n",
    "아래 FORMAT에 보면, `GT:AB:AD:DP:GQ:PL` 이라는 순서로 정보가 존재하고, 첫번째 샘플 (HG00096)은 `0/0:.:36,0:36:99:0,99,1301`을 갖습니다.\n",
    "\n",
    "\n",
    "```\n",
    "#CHROM\tPOS\tID\tREF\tALT\tQUAL\tFILTER\tINFO\tFORMAT\tHG00096\tHG00097\tHG00099\n",
    "chr22\t50197100\t.\tT\tC\t13997.6\tPASS\tAC=24;AF=0.00374766;AN=6404;BaseQRankSum=0.364;ClippingRankSum=0.792;DP=121389;FS=2.436;MLEAC=24;MLEAF=0.003748;MQ=60;MQ0=0;MQRankSum=0.217;QD=13.17;ReadPosRankSum=0.892;SOR=0.862;VQSLOD=11.6;culprit=MQ;AN_EUR=1266;AN_EAS=1170;AN_AMR=980;AN_SAS=1202;AN_AFR=1786;AF_EUR=0;AF_EAS=0;AF_AMR=0.00408163;AF_SAS=0;AF_AFR=0.0111982;AC_EUR=0;AC_EAS=0;AC_AMR=4;AC_SAS=0;AC_AFR=20;AC_Het_EUR=0;AC_Het_EAS=0;AC_Het_AMR=4;AC_Het_SAS=0;AC_Het_AFR=20;AC_Het=24;AC_Hom_EUR=0;AC_Hom_EAS=0;AC_Hom_AMR=0;AC_Hom_SAS=0;AC_Hom_AFR=0;AC_Hom=0;HWE_EUR=1;ExcHet_EUR=1;HWE_EAS=1;ExcHet_EAS=1;HWE_AMR=1;ExcHet_AMR=0.993874;HWE_SAS=1;ExcHet_SAS=1;HWE_AFR=1;ExcHet_AFR=0.898023;HWE=1;ExcHet=0.957665;ME=0;AN_EUR_unrel=1006;AN_EAS_unrel=1008;AN_AMR_unrel=694;AN_SAS_unrel=978;AN_AFR_unrel=1322;AF_EUR_unrel=0;AF_EAS_unrel=0;AF_AMR_unrel=0.00288184;AF_SAS_unrel=0;AF_AFR_unrel=0.0121029;AC_EUR_unrel=0;AC_EAS_unrel=0;AC_AMR_unrel=2;AC_SAS_unrel=0;AC_AFR_unrel=16;AC_Het_EUR_unrel=0;AC_Het_EAS_unrel=0;AC_Het_AMR_unrel=2;AC_Het_SAS_unrel=0;AC_Het_AFR_unrel=16;AC_Hom_EUR_unrel=0;AC_Hom_EAS_unrel=0;AC_Hom_AMR_unrel=0;AC_Hom_SAS_unrel=0;AC_Hom_AFR_unrel=0;CSQ=C|upstream_gene_variant|MODIFIER|SELENOO|ENSG00000073169|Transcript|ENST00000380903|protein_coding|||||||||||3911|1||HGNC|HGNC:30395\tGT:AB:AD:DP:GQ:PL\t0/0:.:36,0:36:99:0,99,1301\t0/0:.:39,0:39:99:0,105,1260\t0/0:.:53,0:53:99:0,120,1800\n",
    "```\n",
    "\n",
    "AB는 allelic balance를 의미하고, reference allele과 alternative allele을 갖는 비율을 의미합니다. 즉 heterozygous variant이면, 50%의 비율로 AB가 형성되어야 합니다. AB는 VCF에 따라 homozygous 정보를 제공하지 않는 경우도 있습니다. 그래서 AD를 이용하여, AB를 계산합니다. AD는 array로 제공되는데, 첫번째 위치엔 reference allele를 갖는 read의 수, 두번째 위치엔 alternative allele를 갖는 read의 수가 존재합니다."
   ]
  },
  {
   "cell_type": "code",
   "execution_count": 32,
   "id": "16fc924d",
   "metadata": {
    "ExecuteTime": {
     "end_time": "2022-01-17T10:55:56.834940Z",
     "start_time": "2022-01-17T10:55:56.825260Z"
    }
   },
   "outputs": [],
   "source": [
    "mt = mt.annotate_entries(AB = mt.AD[1] / hl.sum(mt.AD))"
   ]
  },
  {
   "cell_type": "markdown",
   "id": "0960dc1f",
   "metadata": {},
   "source": [
    "이제 heterozygous variant의 AB를 확인해봅시다. "
   ]
  },
  {
   "cell_type": "code",
   "execution_count": 33,
   "id": "1b926331",
   "metadata": {
    "ExecuteTime": {
     "end_time": "2022-01-17T10:56:35.246236Z",
     "start_time": "2022-01-17T10:55:56.835777Z"
    }
   },
   "outputs": [
    {
     "name": "stderr",
     "output_type": "stream",
     "text": [
      "2022-01-23 18:59:22 Hail: INFO: Coerced sorted dataset              (0 + 4) / 4]\n",
      "2022-01-23 18:59:25 Hail: INFO: Coerced sorted dataset              (0 + 4) / 4]\n",
      "2022-01-23 19:00:24 Hail: INFO: Coerced sorted dataset              (0 + 4) / 4]\n",
      "2022-01-23 19:00:27 Hail: INFO: Coerced sorted dataset              (0 + 4) / 4]\n",
      "[Stage 104:>                                                        (0 + 1) / 1]\r"
     ]
    },
    {
     "data": {
      "text/html": [
       "\n",
       "\n",
       "\n",
       "\n",
       "\n",
       "\n",
       "  <div class=\"bk-root\" id=\"1d3a35de-1a16-4768-8bab-806e1492a70d\" data-root-id=\"2050\"></div>\n"
      ]
     },
     "metadata": {},
     "output_type": "display_data"
    },
    {
     "data": {
      "application/javascript": [
       "(function(root) {\n",
       "  function embed_document(root) {\n",
       "    \n",
       "  var docs_json = {\"83f7ab64-5ecd-4760-9872-dfe6b12ad70a\":{\"roots\":{\"references\":[{\"attributes\":{\"background_fill_color\":{\"value\":\"#EEEEEE\"},\"below\":[{\"id\":\"2061\",\"type\":\"LinearAxis\"}],\"center\":[{\"id\":\"2065\",\"type\":\"Grid\"},{\"id\":\"2070\",\"type\":\"Grid\"},{\"id\":\"2095\",\"type\":\"Legend\"}],\"left\":[{\"id\":\"2066\",\"type\":\"LinearAxis\"}],\"renderers\":[{\"id\":\"2087\",\"type\":\"GlyphRenderer\"}],\"title\":{\"id\":\"2051\",\"type\":\"Title\"},\"toolbar\":{\"id\":\"2077\",\"type\":\"Toolbar\"},\"x_range\":{\"id\":\"2053\",\"type\":\"Range1d\"},\"x_scale\":{\"id\":\"2057\",\"type\":\"LinearScale\"},\"y_range\":{\"id\":\"2055\",\"type\":\"DataRange1d\"},\"y_scale\":{\"id\":\"2059\",\"type\":\"LinearScale\"}},\"id\":\"2050\",\"subtype\":\"Figure\",\"type\":\"Plot\"},{\"attributes\":{\"source\":{\"id\":\"2084\",\"type\":\"ColumnDataSource\"}},\"id\":\"2088\",\"type\":\"CDSView\"},{\"attributes\":{\"callback\":null,\"data\":{\"left\":[0.0,0.02,0.04,0.06,0.08,0.1,0.12,0.14,0.16,0.18,0.2,0.22,0.24,0.26,0.28,0.3,0.32,0.34,0.36,0.38,0.4,0.42,0.44,0.46,0.48,0.5,0.52,0.54,0.56,0.58,0.6,0.62,0.64,0.66,0.68,0.7000000000000001,0.72,0.74,0.76,0.78,0.8,0.8200000000000001,0.84,0.86,0.88,0.9,0.92,0.9400000000000001,0.96,0.98],\"right\":[0.02,0.04,0.06,0.08,0.1,0.12,0.14,0.16,0.18,0.2,0.22,0.24,0.26,0.28,0.3,0.32,0.34,0.36,0.38,0.4,0.42,0.44,0.46,0.48,0.5,0.52,0.54,0.56,0.58,0.6,0.62,0.64,0.66,0.68,0.7000000000000001,0.72,0.74,0.76,0.78,0.8,0.8200000000000001,0.84,0.86,0.88,0.9,0.92,0.9400000000000001,0.96,0.98,1.0],\"top\":[759187,491,1849,5531,9786,16305,17414,19727,19773,14411,27162,23897,31075,29709,36399,53480,78613,76961,114577,107484,200955,194669,236069,235843,156010,378129,242316,216965,194751,127194,152763,94536,68158,63283,32605,34015,19891,22057,13791,5243,16122,9856,8055,5522,4010,4318,1927,1025,315,10480]},\"selected\":{\"id\":\"2168\",\"type\":\"Selection\"},\"selection_policy\":{\"id\":\"2167\",\"type\":\"UnionRenderers\"}},\"id\":\"2084\",\"type\":\"ColumnDataSource\"},{\"attributes\":{\"bottom\":{\"value\":0},\"fill_color\":{\"value\":\"#1f77b4\"},\"left\":{\"field\":\"left\"},\"right\":{\"field\":\"right\"},\"top\":{\"field\":\"top\"}},\"id\":\"2085\",\"type\":\"Quad\"},{\"attributes\":{},\"id\":\"2076\",\"type\":\"HelpTool\"},{\"attributes\":{\"label\":{\"value\":\"\"},\"renderers\":[{\"id\":\"2087\",\"type\":\"GlyphRenderer\"}]},\"id\":\"2096\",\"type\":\"LegendItem\"},{\"attributes\":{\"ticker\":{\"id\":\"2062\",\"type\":\"BasicTicker\"}},\"id\":\"2065\",\"type\":\"Grid\"},{\"attributes\":{},\"id\":\"2059\",\"type\":\"LinearScale\"},{\"attributes\":{},\"id\":\"2168\",\"type\":\"Selection\"},{\"attributes\":{},\"id\":\"2167\",\"type\":\"UnionRenderers\"},{\"attributes\":{},\"id\":\"2067\",\"type\":\"BasicTicker\"},{\"attributes\":{\"items\":[{\"id\":\"2096\",\"type\":\"LegendItem\"}]},\"id\":\"2095\",\"type\":\"Legend\"},{\"attributes\":{},\"id\":\"2057\",\"type\":\"LinearScale\"},{\"attributes\":{\"text\":\"AB - heterozygous variant\"},\"id\":\"2051\",\"type\":\"Title\"},{\"attributes\":{},\"id\":\"2072\",\"type\":\"WheelZoomTool\"},{\"attributes\":{},\"id\":\"2062\",\"type\":\"BasicTicker\"},{\"attributes\":{\"bottom_units\":\"screen\",\"fill_alpha\":{\"value\":0.5},\"fill_color\":{\"value\":\"lightgrey\"},\"left_units\":\"screen\",\"level\":\"overlay\",\"line_alpha\":{\"value\":1.0},\"line_color\":{\"value\":\"black\"},\"line_dash\":[4,4],\"line_width\":{\"value\":2},\"render_mode\":\"css\",\"right_units\":\"screen\",\"top_units\":\"screen\"},\"id\":\"2094\",\"type\":\"BoxAnnotation\"},{\"attributes\":{},\"id\":\"2075\",\"type\":\"ResetTool\"},{\"attributes\":{},\"id\":\"2074\",\"type\":\"SaveTool\"},{\"attributes\":{\"bottom\":{\"value\":0},\"fill_alpha\":{\"value\":0.1},\"fill_color\":{\"value\":\"#1f77b4\"},\"left\":{\"field\":\"left\"},\"line_alpha\":{\"value\":0.1},\"line_color\":{\"value\":\"#1f77b4\"},\"right\":{\"field\":\"right\"},\"top\":{\"field\":\"top\"}},\"id\":\"2086\",\"type\":\"Quad\"},{\"attributes\":{},\"id\":\"2071\",\"type\":\"PanTool\"},{\"attributes\":{\"dimension\":1,\"ticker\":{\"id\":\"2067\",\"type\":\"BasicTicker\"}},\"id\":\"2070\",\"type\":\"Grid\"},{\"attributes\":{\"overlay\":{\"id\":\"2094\",\"type\":\"BoxAnnotation\"}},\"id\":\"2073\",\"type\":\"BoxZoomTool\"},{\"attributes\":{\"active_drag\":\"auto\",\"active_inspect\":\"auto\",\"active_multi\":null,\"active_scroll\":\"auto\",\"active_tap\":\"auto\",\"tools\":[{\"id\":\"2071\",\"type\":\"PanTool\"},{\"id\":\"2072\",\"type\":\"WheelZoomTool\"},{\"id\":\"2073\",\"type\":\"BoxZoomTool\"},{\"id\":\"2074\",\"type\":\"SaveTool\"},{\"id\":\"2075\",\"type\":\"ResetTool\"},{\"id\":\"2076\",\"type\":\"HelpTool\"}]},\"id\":\"2077\",\"type\":\"Toolbar\"},{\"attributes\":{\"callback\":null,\"end\":1.05,\"start\":-0.05},\"id\":\"2053\",\"type\":\"Range1d\"},{\"attributes\":{},\"id\":\"2091\",\"type\":\"BasicTickFormatter\"},{\"attributes\":{\"data_source\":{\"id\":\"2084\",\"type\":\"ColumnDataSource\"},\"glyph\":{\"id\":\"2085\",\"type\":\"Quad\"},\"hover_glyph\":null,\"muted_glyph\":null,\"nonselection_glyph\":{\"id\":\"2086\",\"type\":\"Quad\"},\"selection_glyph\":null,\"view\":{\"id\":\"2088\",\"type\":\"CDSView\"}},\"id\":\"2087\",\"type\":\"GlyphRenderer\"},{\"attributes\":{},\"id\":\"2093\",\"type\":\"BasicTickFormatter\"},{\"attributes\":{\"callback\":null},\"id\":\"2055\",\"type\":\"DataRange1d\"},{\"attributes\":{\"formatter\":{\"id\":\"2091\",\"type\":\"BasicTickFormatter\"},\"ticker\":{\"id\":\"2062\",\"type\":\"BasicTicker\"}},\"id\":\"2061\",\"type\":\"LinearAxis\"},{\"attributes\":{\"axis_label\":\"Frequency\",\"formatter\":{\"id\":\"2093\",\"type\":\"BasicTickFormatter\"},\"ticker\":{\"id\":\"2067\",\"type\":\"BasicTicker\"}},\"id\":\"2066\",\"type\":\"LinearAxis\"}],\"root_ids\":[\"2050\"]},\"title\":\"Bokeh Application\",\"version\":\"1.4.0\"}};\n",
       "  var render_items = [{\"docid\":\"83f7ab64-5ecd-4760-9872-dfe6b12ad70a\",\"roots\":{\"2050\":\"1d3a35de-1a16-4768-8bab-806e1492a70d\"}}];\n",
       "  root.Bokeh.embed.embed_items_notebook(docs_json, render_items);\n",
       "\n",
       "  }\n",
       "  if (root.Bokeh !== undefined) {\n",
       "    embed_document(root);\n",
       "  } else {\n",
       "    var attempts = 0;\n",
       "    var timer = setInterval(function(root) {\n",
       "      if (root.Bokeh !== undefined) {\n",
       "        clearInterval(timer);\n",
       "        embed_document(root);\n",
       "      } else {\n",
       "        attempts++;\n",
       "        if (attempts > 100) {\n",
       "          clearInterval(timer);\n",
       "          console.log(\"Bokeh: ERROR: Unable to run BokehJS code because BokehJS library is missing\");\n",
       "        }\n",
       "      }\n",
       "    }, 10, root)\n",
       "  }\n",
       "})(window);"
      ],
      "application/vnd.bokehjs_exec.v0+json": ""
     },
     "metadata": {
      "application/vnd.bokehjs_exec.v0+json": {
       "id": "2050"
      }
     },
     "output_type": "display_data"
    }
   ],
   "source": [
    "p = hl.plot.histogram(mt.filter_entries(mt.GT.is_het(), keep=True).AB, title = 'AB - heterozygous variant')\n",
    "show(p)"
   ]
  },
  {
   "cell_type": "markdown",
   "id": "41ff0d1a",
   "metadata": {},
   "source": [
    "Heterozygous variant 임에도 불구하고, 50%에서 넓은 분포가 나타납니다. 여러가지 이유가 있습니다. 1) sequence read가 allele을 갖는것은 stochastic process임으로 확률적으로 분포를 갖습니다. 2) read 내에 존재하는 GC 염기서열의 분포에 따라 시퀀싱이나 PCR에 영향을 줍니다. 3) 현재 matrix table은 low quality variant를 포함하고 있고 이에 따라 낮은 AB가 나타나기도 합니다. "
   ]
  },
  {
   "cell_type": "code",
   "execution_count": 34,
   "id": "6fea147d",
   "metadata": {
    "ExecuteTime": {
     "end_time": "2022-01-17T10:57:12.966834Z",
     "start_time": "2022-01-17T10:56:35.247137Z"
    }
   },
   "outputs": [
    {
     "name": "stderr",
     "output_type": "stream",
     "text": [
      "2022-01-23 19:01:26 Hail: INFO: Coerced sorted dataset              (3 + 1) / 4]\n",
      "2022-01-23 19:01:29 Hail: INFO: Coerced sorted dataset              (2 + 2) / 4]\n",
      "2022-01-23 19:02:28 Hail: INFO: Coerced sorted dataset              (0 + 4) / 4]\n",
      "2022-01-23 19:02:31 Hail: INFO: Coerced sorted dataset              (1 + 3) / 4]\n",
      "[Stage 110:>                                                        (0 + 1) / 1]\r"
     ]
    },
    {
     "data": {
      "text/html": [
       "\n",
       "\n",
       "\n",
       "\n",
       "\n",
       "\n",
       "  <div class=\"bk-root\" id=\"9167d2c5-0b44-405a-988a-477bce838a4a\" data-root-id=\"2217\"></div>\n"
      ]
     },
     "metadata": {},
     "output_type": "display_data"
    },
    {
     "data": {
      "application/javascript": [
       "(function(root) {\n",
       "  function embed_document(root) {\n",
       "    \n",
       "  var docs_json = {\"30ee6950-e7da-46ff-82f3-885332619f10\":{\"roots\":{\"references\":[{\"attributes\":{\"background_fill_color\":{\"value\":\"#EEEEEE\"},\"below\":[{\"id\":\"2228\",\"type\":\"LinearAxis\"}],\"center\":[{\"id\":\"2232\",\"type\":\"Grid\"},{\"id\":\"2237\",\"type\":\"Grid\"},{\"id\":\"2262\",\"type\":\"Legend\"}],\"left\":[{\"id\":\"2233\",\"type\":\"LinearAxis\"}],\"renderers\":[{\"id\":\"2254\",\"type\":\"GlyphRenderer\"}],\"title\":{\"id\":\"2218\",\"type\":\"Title\"},\"toolbar\":{\"id\":\"2244\",\"type\":\"Toolbar\"},\"x_range\":{\"id\":\"2220\",\"type\":\"Range1d\"},\"x_scale\":{\"id\":\"2224\",\"type\":\"LinearScale\"},\"y_range\":{\"id\":\"2222\",\"type\":\"DataRange1d\"},\"y_scale\":{\"id\":\"2226\",\"type\":\"LinearScale\"}},\"id\":\"2217\",\"subtype\":\"Figure\",\"type\":\"Plot\"},{\"attributes\":{},\"id\":\"2238\",\"type\":\"PanTool\"},{\"attributes\":{\"callback\":null,\"data\":{\"left\":[0.0,0.02,0.04,0.06,0.08,0.1,0.12,0.14,0.16,0.18,0.2,0.22,0.24,0.26,0.28,0.3,0.32,0.34,0.36,0.38,0.4,0.42,0.44,0.46,0.48,0.5,0.52,0.54,0.56,0.58,0.6,0.62,0.64,0.66,0.68,0.7000000000000001,0.72,0.74,0.76,0.78,0.8,0.8200000000000001,0.84,0.86,0.88,0.9,0.92,0.9400000000000001,0.96,0.98],\"right\":[0.02,0.04,0.06,0.08,0.1,0.12,0.14,0.16,0.18,0.2,0.22,0.24,0.26,0.28,0.3,0.32,0.34,0.36,0.38,0.4,0.42,0.44,0.46,0.48,0.5,0.52,0.54,0.56,0.58,0.6,0.62,0.64,0.66,0.68,0.7000000000000001,0.72,0.74,0.76,0.78,0.8,0.8200000000000001,0.84,0.86,0.88,0.9,0.92,0.9400000000000001,0.96,0.98,1.0],\"top\":[269993,117,530,585,481,639,610,436,252,93,147,48,118,17,24,20,35,0,15,0,15,18,9,11,2,132,11,16,27,22,72,42,37,433,47,335,141,1151,519,244,2533,2513,4510,5181,6782,14142,16513,22367,31427,1552551]},\"selected\":{\"id\":\"2343\",\"type\":\"Selection\"},\"selection_policy\":{\"id\":\"2342\",\"type\":\"UnionRenderers\"}},\"id\":\"2251\",\"type\":\"ColumnDataSource\"},{\"attributes\":{\"bottom_units\":\"screen\",\"fill_alpha\":{\"value\":0.5},\"fill_color\":{\"value\":\"lightgrey\"},\"left_units\":\"screen\",\"level\":\"overlay\",\"line_alpha\":{\"value\":1.0},\"line_color\":{\"value\":\"black\"},\"line_dash\":[4,4],\"line_width\":{\"value\":2},\"render_mode\":\"css\",\"right_units\":\"screen\",\"top_units\":\"screen\"},\"id\":\"2261\",\"type\":\"BoxAnnotation\"},{\"attributes\":{},\"id\":\"2242\",\"type\":\"ResetTool\"},{\"attributes\":{},\"id\":\"2243\",\"type\":\"HelpTool\"},{\"attributes\":{\"items\":[{\"id\":\"2263\",\"type\":\"LegendItem\"}]},\"id\":\"2262\",\"type\":\"Legend\"},{\"attributes\":{},\"id\":\"2239\",\"type\":\"WheelZoomTool\"},{\"attributes\":{\"text\":\"AB - homozygous variant\"},\"id\":\"2218\",\"type\":\"Title\"},{\"attributes\":{},\"id\":\"2241\",\"type\":\"SaveTool\"},{\"attributes\":{\"callback\":null},\"id\":\"2222\",\"type\":\"DataRange1d\"},{\"attributes\":{\"ticker\":{\"id\":\"2229\",\"type\":\"BasicTicker\"}},\"id\":\"2232\",\"type\":\"Grid\"},{\"attributes\":{\"formatter\":{\"id\":\"2258\",\"type\":\"BasicTickFormatter\"},\"ticker\":{\"id\":\"2229\",\"type\":\"BasicTicker\"}},\"id\":\"2228\",\"type\":\"LinearAxis\"},{\"attributes\":{\"bottom\":{\"value\":0},\"fill_color\":{\"value\":\"#1f77b4\"},\"left\":{\"field\":\"left\"},\"right\":{\"field\":\"right\"},\"top\":{\"field\":\"top\"}},\"id\":\"2252\",\"type\":\"Quad\"},{\"attributes\":{\"callback\":null,\"end\":1.05,\"start\":-0.05},\"id\":\"2220\",\"type\":\"Range1d\"},{\"attributes\":{},\"id\":\"2224\",\"type\":\"LinearScale\"},{\"attributes\":{\"overlay\":{\"id\":\"2261\",\"type\":\"BoxAnnotation\"}},\"id\":\"2240\",\"type\":\"BoxZoomTool\"},{\"attributes\":{},\"id\":\"2260\",\"type\":\"BasicTickFormatter\"},{\"attributes\":{\"data_source\":{\"id\":\"2251\",\"type\":\"ColumnDataSource\"},\"glyph\":{\"id\":\"2252\",\"type\":\"Quad\"},\"hover_glyph\":null,\"muted_glyph\":null,\"nonselection_glyph\":{\"id\":\"2253\",\"type\":\"Quad\"},\"selection_glyph\":null,\"view\":{\"id\":\"2255\",\"type\":\"CDSView\"}},\"id\":\"2254\",\"type\":\"GlyphRenderer\"},{\"attributes\":{},\"id\":\"2226\",\"type\":\"LinearScale\"},{\"attributes\":{\"active_drag\":\"auto\",\"active_inspect\":\"auto\",\"active_multi\":null,\"active_scroll\":\"auto\",\"active_tap\":\"auto\",\"tools\":[{\"id\":\"2238\",\"type\":\"PanTool\"},{\"id\":\"2239\",\"type\":\"WheelZoomTool\"},{\"id\":\"2240\",\"type\":\"BoxZoomTool\"},{\"id\":\"2241\",\"type\":\"SaveTool\"},{\"id\":\"2242\",\"type\":\"ResetTool\"},{\"id\":\"2243\",\"type\":\"HelpTool\"}]},\"id\":\"2244\",\"type\":\"Toolbar\"},{\"attributes\":{\"axis_label\":\"Frequency\",\"formatter\":{\"id\":\"2260\",\"type\":\"BasicTickFormatter\"},\"ticker\":{\"id\":\"2234\",\"type\":\"BasicTicker\"}},\"id\":\"2233\",\"type\":\"LinearAxis\"},{\"attributes\":{\"source\":{\"id\":\"2251\",\"type\":\"ColumnDataSource\"}},\"id\":\"2255\",\"type\":\"CDSView\"},{\"attributes\":{\"dimension\":1,\"ticker\":{\"id\":\"2234\",\"type\":\"BasicTicker\"}},\"id\":\"2237\",\"type\":\"Grid\"},{\"attributes\":{},\"id\":\"2343\",\"type\":\"Selection\"},{\"attributes\":{},\"id\":\"2234\",\"type\":\"BasicTicker\"},{\"attributes\":{},\"id\":\"2342\",\"type\":\"UnionRenderers\"},{\"attributes\":{},\"id\":\"2229\",\"type\":\"BasicTicker\"},{\"attributes\":{\"label\":{\"value\":\"\"},\"renderers\":[{\"id\":\"2254\",\"type\":\"GlyphRenderer\"}]},\"id\":\"2263\",\"type\":\"LegendItem\"},{\"attributes\":{\"bottom\":{\"value\":0},\"fill_alpha\":{\"value\":0.1},\"fill_color\":{\"value\":\"#1f77b4\"},\"left\":{\"field\":\"left\"},\"line_alpha\":{\"value\":0.1},\"line_color\":{\"value\":\"#1f77b4\"},\"right\":{\"field\":\"right\"},\"top\":{\"field\":\"top\"}},\"id\":\"2253\",\"type\":\"Quad\"},{\"attributes\":{},\"id\":\"2258\",\"type\":\"BasicTickFormatter\"}],\"root_ids\":[\"2217\"]},\"title\":\"Bokeh Application\",\"version\":\"1.4.0\"}};\n",
       "  var render_items = [{\"docid\":\"30ee6950-e7da-46ff-82f3-885332619f10\",\"roots\":{\"2217\":\"9167d2c5-0b44-405a-988a-477bce838a4a\"}}];\n",
       "  root.Bokeh.embed.embed_items_notebook(docs_json, render_items);\n",
       "\n",
       "  }\n",
       "  if (root.Bokeh !== undefined) {\n",
       "    embed_document(root);\n",
       "  } else {\n",
       "    var attempts = 0;\n",
       "    var timer = setInterval(function(root) {\n",
       "      if (root.Bokeh !== undefined) {\n",
       "        clearInterval(timer);\n",
       "        embed_document(root);\n",
       "      } else {\n",
       "        attempts++;\n",
       "        if (attempts > 100) {\n",
       "          clearInterval(timer);\n",
       "          console.log(\"Bokeh: ERROR: Unable to run BokehJS code because BokehJS library is missing\");\n",
       "        }\n",
       "      }\n",
       "    }, 10, root)\n",
       "  }\n",
       "})(window);"
      ],
      "application/vnd.bokehjs_exec.v0+json": ""
     },
     "metadata": {
      "application/vnd.bokehjs_exec.v0+json": {
       "id": "2217"
      }
     },
     "output_type": "display_data"
    }
   ],
   "source": [
    "p = hl.plot.histogram(mt.filter_entries(mt.GT.is_hom_var(), keep=True).AB, title = 'AB - homozygous variant')\n",
    "show(p)"
   ]
  },
  {
   "cell_type": "markdown",
   "id": "f136380a",
   "metadata": {},
   "source": [
    "Homozygous variant라고 예측된 변이들도 AB가 1보다 한참 떨어진 변이들이 관찰됩니다. 위에서 본 heterozygous variant와 동일한 이유입니다. 다시 말하자면, 우리가 전장유전체 분석을 하기 전에 high-quality variant 선별을 위해 상당히 꼼꼼하게 필터링을 수행해야합니다."
   ]
  },
  {
   "cell_type": "markdown",
   "id": "a652c2b9",
   "metadata": {},
   "source": [
    "### 샘플 정보 확인하기\n",
    "\n",
    "우리는 위에 VCF를 matrix table로 불러들인후, 샘플 정보를 추가하였습니다. 추가된 정보를 먼저 확인해봅시다. `cols`에 저장된 정보를 불러옵니다."
   ]
  },
  {
   "cell_type": "code",
   "execution_count": 35,
   "id": "421b91f9",
   "metadata": {
    "ExecuteTime": {
     "end_time": "2022-01-17T10:57:17.563193Z",
     "start_time": "2022-01-17T10:57:12.967740Z"
    }
   },
   "outputs": [
    {
     "name": "stderr",
     "output_type": "stream",
     "text": [
      "2022-01-23 19:03:31 Hail: INFO: Coerced sorted dataset              (0 + 4) / 4]\n"
     ]
    },
    {
     "data": {
      "text/html": [
       "<table><thead><tr><td style=\"white-space: nowrap; max-width: 500px; overflow: hidden; text-overflow: ellipsis; \" colspan=\"1\"><div style=\"text-align: left;\"></div></td><td style=\"white-space: nowrap; max-width: 500px; overflow: hidden; text-overflow: ellipsis; \" colspan=\"1\"><div style=\"text-align: left;\"></div></td><td style=\"white-space: nowrap; max-width: 500px; overflow: hidden; text-overflow: ellipsis; \" colspan=\"1\"><div style=\"text-align: left;\"></div></td><td style=\"white-space: nowrap; max-width: 500px; overflow: hidden; text-overflow: ellipsis; \" colspan=\"1\"><div style=\"text-align: left;\"></div></td><td style=\"white-space: nowrap; max-width: 500px; overflow: hidden; text-overflow: ellipsis; \" colspan=\"1\"><div style=\"text-align: left;\"></div></td><td style=\"white-space: nowrap; max-width: 500px; overflow: hidden; text-overflow: ellipsis; \" colspan=\"1\"><div style=\"text-align: left;\"></div></td><td style=\"white-space: nowrap; max-width: 500px; overflow: hidden; text-overflow: ellipsis; \" colspan=\"1\"><div style=\"text-align: left;\"></div></td><td style=\"white-space: nowrap; max-width: 500px; overflow: hidden; text-overflow: ellipsis; \" colspan=\"1\"><div style=\"text-align: left;\"></div></td><td style=\"white-space: nowrap; max-width: 500px; overflow: hidden; text-overflow: ellipsis; \" colspan=\"1\"><div style=\"text-align: left;\"></div></td><td style=\"white-space: nowrap; max-width: 500px; overflow: hidden; text-overflow: ellipsis; \" colspan=\"1\"><div style=\"text-align: left;\"></div></td></tr><tr><td style=\"white-space: nowrap; max-width: 500px; overflow: hidden; text-overflow: ellipsis; \" colspan=\"1\"><div style=\"text-align: left;border-bottom: solid 2px #000; padding-bottom: 5px\">s</div></td><td style=\"white-space: nowrap; max-width: 500px; overflow: hidden; text-overflow: ellipsis; \" colspan=\"1\"><div style=\"text-align: left;border-bottom: solid 2px #000; padding-bottom: 5px\">fam</div></td><td style=\"white-space: nowrap; max-width: 500px; overflow: hidden; text-overflow: ellipsis; \" colspan=\"1\"><div style=\"text-align: left;border-bottom: solid 2px #000; padding-bottom: 5px\">pat_id</div></td><td style=\"white-space: nowrap; max-width: 500px; overflow: hidden; text-overflow: ellipsis; \" colspan=\"1\"><div style=\"text-align: left;border-bottom: solid 2px #000; padding-bottom: 5px\">mat_id</div></td><td style=\"white-space: nowrap; max-width: 500px; overflow: hidden; text-overflow: ellipsis; \" colspan=\"1\"><div style=\"text-align: left;border-bottom: solid 2px #000; padding-bottom: 5px\">isFemale</div></td><td style=\"white-space: nowrap; max-width: 500px; overflow: hidden; text-overflow: ellipsis; \" colspan=\"1\"><div style=\"text-align: left;border-bottom: solid 2px #000; padding-bottom: 5px\">phenotype</div></td><td style=\"white-space: nowrap; max-width: 500px; overflow: hidden; text-overflow: ellipsis; \" colspan=\"1\"><div style=\"text-align: left;border-bottom: solid 2px #000; padding-bottom: 5px\">ROLE</div></td><td style=\"white-space: nowrap; max-width: 500px; overflow: hidden; text-overflow: ellipsis; \" colspan=\"1\"><div style=\"text-align: left;border-bottom: solid 2px #000; padding-bottom: 5px\">population</div></td><td style=\"white-space: nowrap; max-width: 500px; overflow: hidden; text-overflow: ellipsis; \" colspan=\"1\"><div style=\"text-align: left;border-bottom: solid 2px #000; padding-bottom: 5px\">height</div></td><td style=\"white-space: nowrap; max-width: 500px; overflow: hidden; text-overflow: ellipsis; \" colspan=\"1\"><div style=\"text-align: left;border-bottom: solid 2px #000; padding-bottom: 5px\">NVIQ</div></td></tr><tr><td style=\"white-space: nowrap; max-width: 500px; overflow: hidden; text-overflow: ellipsis; text-align: left;\">str</td><td style=\"white-space: nowrap; max-width: 500px; overflow: hidden; text-overflow: ellipsis; text-align: left;\">str</td><td style=\"white-space: nowrap; max-width: 500px; overflow: hidden; text-overflow: ellipsis; text-align: left;\">str</td><td style=\"white-space: nowrap; max-width: 500px; overflow: hidden; text-overflow: ellipsis; text-align: left;\">str</td><td style=\"white-space: nowrap; max-width: 500px; overflow: hidden; text-overflow: ellipsis; text-align: left;\">bool</td><td style=\"white-space: nowrap; max-width: 500px; overflow: hidden; text-overflow: ellipsis; text-align: left;\">bool</td><td style=\"white-space: nowrap; max-width: 500px; overflow: hidden; text-overflow: ellipsis; text-align: left;\">str</td><td style=\"white-space: nowrap; max-width: 500px; overflow: hidden; text-overflow: ellipsis; text-align: left;\">str</td><td style=\"white-space: nowrap; max-width: 500px; overflow: hidden; text-overflow: ellipsis; text-align: left;\">float64</td><td style=\"white-space: nowrap; max-width: 500px; overflow: hidden; text-overflow: ellipsis; text-align: left;\">float64</td></tr>\n",
       "</thead><tbody><tr><td style=\"white-space: nowrap; max-width: 500px; overflow: hidden; text-overflow: ellipsis; \">&quot;HG00096&quot;</td><td style=\"white-space: nowrap; max-width: 500px; overflow: hidden; text-overflow: ellipsis; \">NA</td><td style=\"white-space: nowrap; max-width: 500px; overflow: hidden; text-overflow: ellipsis; \">NA</td><td style=\"white-space: nowrap; max-width: 500px; overflow: hidden; text-overflow: ellipsis; \">NA</td><td style=\"white-space: nowrap; max-width: 500px; overflow: hidden; text-overflow: ellipsis; \">NA</td><td style=\"white-space: nowrap; max-width: 500px; overflow: hidden; text-overflow: ellipsis; \">NA</td><td style=\"white-space: nowrap; max-width: 500px; overflow: hidden; text-overflow: ellipsis; \">NA</td><td style=\"white-space: nowrap; max-width: 500px; overflow: hidden; text-overflow: ellipsis; \">NA</td><td style=\"white-space: nowrap; max-width: 500px; overflow: hidden; text-overflow: ellipsis; \">NA</td><td style=\"white-space: nowrap; max-width: 500px; overflow: hidden; text-overflow: ellipsis; \">NA</td></tr>\n",
       "<tr><td style=\"white-space: nowrap; max-width: 500px; overflow: hidden; text-overflow: ellipsis; \">&quot;HG00097&quot;</td><td style=\"white-space: nowrap; max-width: 500px; overflow: hidden; text-overflow: ellipsis; \">NA</td><td style=\"white-space: nowrap; max-width: 500px; overflow: hidden; text-overflow: ellipsis; \">NA</td><td style=\"white-space: nowrap; max-width: 500px; overflow: hidden; text-overflow: ellipsis; \">NA</td><td style=\"white-space: nowrap; max-width: 500px; overflow: hidden; text-overflow: ellipsis; \">NA</td><td style=\"white-space: nowrap; max-width: 500px; overflow: hidden; text-overflow: ellipsis; \">NA</td><td style=\"white-space: nowrap; max-width: 500px; overflow: hidden; text-overflow: ellipsis; \">NA</td><td style=\"white-space: nowrap; max-width: 500px; overflow: hidden; text-overflow: ellipsis; \">NA</td><td style=\"white-space: nowrap; max-width: 500px; overflow: hidden; text-overflow: ellipsis; \">NA</td><td style=\"white-space: nowrap; max-width: 500px; overflow: hidden; text-overflow: ellipsis; \">NA</td></tr>\n",
       "<tr><td style=\"white-space: nowrap; max-width: 500px; overflow: hidden; text-overflow: ellipsis; \">&quot;HG00099&quot;</td><td style=\"white-space: nowrap; max-width: 500px; overflow: hidden; text-overflow: ellipsis; \">NA</td><td style=\"white-space: nowrap; max-width: 500px; overflow: hidden; text-overflow: ellipsis; \">NA</td><td style=\"white-space: nowrap; max-width: 500px; overflow: hidden; text-overflow: ellipsis; \">NA</td><td style=\"white-space: nowrap; max-width: 500px; overflow: hidden; text-overflow: ellipsis; \">NA</td><td style=\"white-space: nowrap; max-width: 500px; overflow: hidden; text-overflow: ellipsis; \">NA</td><td style=\"white-space: nowrap; max-width: 500px; overflow: hidden; text-overflow: ellipsis; \">NA</td><td style=\"white-space: nowrap; max-width: 500px; overflow: hidden; text-overflow: ellipsis; \">NA</td><td style=\"white-space: nowrap; max-width: 500px; overflow: hidden; text-overflow: ellipsis; \">NA</td><td style=\"white-space: nowrap; max-width: 500px; overflow: hidden; text-overflow: ellipsis; \">NA</td></tr>\n",
       "<tr><td style=\"white-space: nowrap; max-width: 500px; overflow: hidden; text-overflow: ellipsis; \">&quot;HG00100&quot;</td><td style=\"white-space: nowrap; max-width: 500px; overflow: hidden; text-overflow: ellipsis; \">NA</td><td style=\"white-space: nowrap; max-width: 500px; overflow: hidden; text-overflow: ellipsis; \">NA</td><td style=\"white-space: nowrap; max-width: 500px; overflow: hidden; text-overflow: ellipsis; \">NA</td><td style=\"white-space: nowrap; max-width: 500px; overflow: hidden; text-overflow: ellipsis; \">NA</td><td style=\"white-space: nowrap; max-width: 500px; overflow: hidden; text-overflow: ellipsis; \">NA</td><td style=\"white-space: nowrap; max-width: 500px; overflow: hidden; text-overflow: ellipsis; \">NA</td><td style=\"white-space: nowrap; max-width: 500px; overflow: hidden; text-overflow: ellipsis; \">NA</td><td style=\"white-space: nowrap; max-width: 500px; overflow: hidden; text-overflow: ellipsis; \">NA</td><td style=\"white-space: nowrap; max-width: 500px; overflow: hidden; text-overflow: ellipsis; \">NA</td></tr>\n",
       "<tr><td style=\"white-space: nowrap; max-width: 500px; overflow: hidden; text-overflow: ellipsis; \">&quot;HG00101&quot;</td><td style=\"white-space: nowrap; max-width: 500px; overflow: hidden; text-overflow: ellipsis; \">NA</td><td style=\"white-space: nowrap; max-width: 500px; overflow: hidden; text-overflow: ellipsis; \">NA</td><td style=\"white-space: nowrap; max-width: 500px; overflow: hidden; text-overflow: ellipsis; \">NA</td><td style=\"white-space: nowrap; max-width: 500px; overflow: hidden; text-overflow: ellipsis; \">NA</td><td style=\"white-space: nowrap; max-width: 500px; overflow: hidden; text-overflow: ellipsis; \">NA</td><td style=\"white-space: nowrap; max-width: 500px; overflow: hidden; text-overflow: ellipsis; \">NA</td><td style=\"white-space: nowrap; max-width: 500px; overflow: hidden; text-overflow: ellipsis; \">NA</td><td style=\"white-space: nowrap; max-width: 500px; overflow: hidden; text-overflow: ellipsis; \">NA</td><td style=\"white-space: nowrap; max-width: 500px; overflow: hidden; text-overflow: ellipsis; \">NA</td></tr>\n",
       "<tr><td style=\"white-space: nowrap; max-width: 500px; overflow: hidden; text-overflow: ellipsis; \">&quot;HG00102&quot;</td><td style=\"white-space: nowrap; max-width: 500px; overflow: hidden; text-overflow: ellipsis; \">NA</td><td style=\"white-space: nowrap; max-width: 500px; overflow: hidden; text-overflow: ellipsis; \">NA</td><td style=\"white-space: nowrap; max-width: 500px; overflow: hidden; text-overflow: ellipsis; \">NA</td><td style=\"white-space: nowrap; max-width: 500px; overflow: hidden; text-overflow: ellipsis; \">NA</td><td style=\"white-space: nowrap; max-width: 500px; overflow: hidden; text-overflow: ellipsis; \">NA</td><td style=\"white-space: nowrap; max-width: 500px; overflow: hidden; text-overflow: ellipsis; \">NA</td><td style=\"white-space: nowrap; max-width: 500px; overflow: hidden; text-overflow: ellipsis; \">NA</td><td style=\"white-space: nowrap; max-width: 500px; overflow: hidden; text-overflow: ellipsis; \">NA</td><td style=\"white-space: nowrap; max-width: 500px; overflow: hidden; text-overflow: ellipsis; \">NA</td></tr>\n",
       "<tr><td style=\"white-space: nowrap; max-width: 500px; overflow: hidden; text-overflow: ellipsis; \">&quot;HG00103&quot;</td><td style=\"white-space: nowrap; max-width: 500px; overflow: hidden; text-overflow: ellipsis; \">NA</td><td style=\"white-space: nowrap; max-width: 500px; overflow: hidden; text-overflow: ellipsis; \">NA</td><td style=\"white-space: nowrap; max-width: 500px; overflow: hidden; text-overflow: ellipsis; \">NA</td><td style=\"white-space: nowrap; max-width: 500px; overflow: hidden; text-overflow: ellipsis; \">NA</td><td style=\"white-space: nowrap; max-width: 500px; overflow: hidden; text-overflow: ellipsis; \">NA</td><td style=\"white-space: nowrap; max-width: 500px; overflow: hidden; text-overflow: ellipsis; \">NA</td><td style=\"white-space: nowrap; max-width: 500px; overflow: hidden; text-overflow: ellipsis; \">NA</td><td style=\"white-space: nowrap; max-width: 500px; overflow: hidden; text-overflow: ellipsis; \">NA</td><td style=\"white-space: nowrap; max-width: 500px; overflow: hidden; text-overflow: ellipsis; \">NA</td></tr>\n",
       "<tr><td style=\"white-space: nowrap; max-width: 500px; overflow: hidden; text-overflow: ellipsis; \">&quot;HG00105&quot;</td><td style=\"white-space: nowrap; max-width: 500px; overflow: hidden; text-overflow: ellipsis; \">NA</td><td style=\"white-space: nowrap; max-width: 500px; overflow: hidden; text-overflow: ellipsis; \">NA</td><td style=\"white-space: nowrap; max-width: 500px; overflow: hidden; text-overflow: ellipsis; \">NA</td><td style=\"white-space: nowrap; max-width: 500px; overflow: hidden; text-overflow: ellipsis; \">NA</td><td style=\"white-space: nowrap; max-width: 500px; overflow: hidden; text-overflow: ellipsis; \">NA</td><td style=\"white-space: nowrap; max-width: 500px; overflow: hidden; text-overflow: ellipsis; \">NA</td><td style=\"white-space: nowrap; max-width: 500px; overflow: hidden; text-overflow: ellipsis; \">NA</td><td style=\"white-space: nowrap; max-width: 500px; overflow: hidden; text-overflow: ellipsis; \">NA</td><td style=\"white-space: nowrap; max-width: 500px; overflow: hidden; text-overflow: ellipsis; \">NA</td></tr>\n",
       "<tr><td style=\"white-space: nowrap; max-width: 500px; overflow: hidden; text-overflow: ellipsis; \">&quot;HG00106&quot;</td><td style=\"white-space: nowrap; max-width: 500px; overflow: hidden; text-overflow: ellipsis; \">NA</td><td style=\"white-space: nowrap; max-width: 500px; overflow: hidden; text-overflow: ellipsis; \">NA</td><td style=\"white-space: nowrap; max-width: 500px; overflow: hidden; text-overflow: ellipsis; \">NA</td><td style=\"white-space: nowrap; max-width: 500px; overflow: hidden; text-overflow: ellipsis; \">NA</td><td style=\"white-space: nowrap; max-width: 500px; overflow: hidden; text-overflow: ellipsis; \">NA</td><td style=\"white-space: nowrap; max-width: 500px; overflow: hidden; text-overflow: ellipsis; \">NA</td><td style=\"white-space: nowrap; max-width: 500px; overflow: hidden; text-overflow: ellipsis; \">NA</td><td style=\"white-space: nowrap; max-width: 500px; overflow: hidden; text-overflow: ellipsis; \">NA</td><td style=\"white-space: nowrap; max-width: 500px; overflow: hidden; text-overflow: ellipsis; \">NA</td></tr>\n",
       "<tr><td style=\"white-space: nowrap; max-width: 500px; overflow: hidden; text-overflow: ellipsis; \">&quot;HG00107&quot;</td><td style=\"white-space: nowrap; max-width: 500px; overflow: hidden; text-overflow: ellipsis; \">NA</td><td style=\"white-space: nowrap; max-width: 500px; overflow: hidden; text-overflow: ellipsis; \">NA</td><td style=\"white-space: nowrap; max-width: 500px; overflow: hidden; text-overflow: ellipsis; \">NA</td><td style=\"white-space: nowrap; max-width: 500px; overflow: hidden; text-overflow: ellipsis; \">NA</td><td style=\"white-space: nowrap; max-width: 500px; overflow: hidden; text-overflow: ellipsis; \">NA</td><td style=\"white-space: nowrap; max-width: 500px; overflow: hidden; text-overflow: ellipsis; \">NA</td><td style=\"white-space: nowrap; max-width: 500px; overflow: hidden; text-overflow: ellipsis; \">NA</td><td style=\"white-space: nowrap; max-width: 500px; overflow: hidden; text-overflow: ellipsis; \">NA</td><td style=\"white-space: nowrap; max-width: 500px; overflow: hidden; text-overflow: ellipsis; \">NA</td></tr>\n",
       "</tbody></table><p style=\"background: #fdd; padding: 0.4em;\">showing top 10 rows</p>\n"
      ],
      "text/plain": [
       "+-----------+-----+--------+--------+----------+-----------+------+------------+\n",
       "| s         | fam | pat_id | mat_id | isFemale | phenotype | ROLE | population |\n",
       "+-----------+-----+--------+--------+----------+-----------+------+------------+\n",
       "| str       | str | str    | str    |     bool |      bool | str  | str        |\n",
       "+-----------+-----+--------+--------+----------+-----------+------+------------+\n",
       "| \"HG00096\" | NA  | NA     | NA     |       NA |        NA | NA   | NA         |\n",
       "| \"HG00097\" | NA  | NA     | NA     |       NA |        NA | NA   | NA         |\n",
       "| \"HG00099\" | NA  | NA     | NA     |       NA |        NA | NA   | NA         |\n",
       "| \"HG00100\" | NA  | NA     | NA     |       NA |        NA | NA   | NA         |\n",
       "| \"HG00101\" | NA  | NA     | NA     |       NA |        NA | NA   | NA         |\n",
       "| \"HG00102\" | NA  | NA     | NA     |       NA |        NA | NA   | NA         |\n",
       "| \"HG00103\" | NA  | NA     | NA     |       NA |        NA | NA   | NA         |\n",
       "| \"HG00105\" | NA  | NA     | NA     |       NA |        NA | NA   | NA         |\n",
       "| \"HG00106\" | NA  | NA     | NA     |       NA |        NA | NA   | NA         |\n",
       "| \"HG00107\" | NA  | NA     | NA     |       NA |        NA | NA   | NA         |\n",
       "+-----------+-----+--------+--------+----------+-----------+------+------------+\n",
       "\n",
       "+---------+---------+\n",
       "|  height |    NVIQ |\n",
       "+---------+---------+\n",
       "| float64 | float64 |\n",
       "+---------+---------+\n",
       "|      NA |      NA |\n",
       "|      NA |      NA |\n",
       "|      NA |      NA |\n",
       "|      NA |      NA |\n",
       "|      NA |      NA |\n",
       "|      NA |      NA |\n",
       "|      NA |      NA |\n",
       "|      NA |      NA |\n",
       "|      NA |      NA |\n",
       "|      NA |      NA |\n",
       "+---------+---------+\n",
       "showing top 10 rows"
      ]
     },
     "metadata": {},
     "output_type": "display_data"
    }
   ],
   "source": [
    "mt.cols().show()"
   ]
  },
  {
   "cell_type": "markdown",
   "id": "3a675240",
   "metadata": {},
   "source": [
    "먼저 가족별로 몇개의 샘플이 있는지를 확인해봅시다. "
   ]
  },
  {
   "cell_type": "code",
   "execution_count": 36,
   "id": "b0305112",
   "metadata": {
    "ExecuteTime": {
     "end_time": "2022-01-17T10:57:21.880253Z",
     "start_time": "2022-01-17T10:57:17.564228Z"
    },
    "scrolled": true
   },
   "outputs": [
    {
     "name": "stderr",
     "output_type": "stream",
     "text": [
      "2022-01-23 19:03:35 Hail: INFO: Coerced sorted dataset              (3 + 1) / 4]\n"
     ]
    },
    {
     "data": {
      "text/plain": [
       "Struct(n_families=frozendict({'fam1': 3, 'fam10': 3, 'fam100': 3, 'fam101': 3, 'fam102': 3, 'fam103': 3, 'fam104': 3, 'fam105': 3, 'fam106': 3, 'fam107': 2, 'fam108': 1, 'fam109': 2, 'fam11': 3, 'fam110': 3, 'fam111': 3, 'fam112': 3, 'fam113': 3, 'fam114': 3, 'fam115': 3, 'fam116': 3, 'fam117': 2, 'fam118': 3, 'fam119': 3, 'fam12': 3, 'fam120': 3, 'fam121': 3, 'fam122': 3, 'fam123': 2, 'fam124': 2, 'fam125': 2, 'fam126': 2, 'fam127': 2, 'fam128': 3, 'fam129': 3, 'fam13': 3, 'fam130': 2, 'fam132': 3, 'fam133': 3, 'fam134': 3, 'fam135': 1, 'fam137': 2, 'fam138': 3, 'fam139': 3, 'fam14': 3, 'fam140': 3, 'fam141': 3, 'fam142': 3, 'fam143': 3, 'fam144': 3, 'fam145': 3, 'fam146': 3, 'fam147': 3, 'fam148': 3, 'fam149': 3, 'fam15': 3, 'fam150': 3, 'fam151': 3, 'fam152': 3, 'fam153': 3, 'fam154': 3, 'fam155': 3, 'fam156': 3, 'fam157': 3, 'fam158': 3, 'fam159': 3, 'fam16': 3, 'fam160': 3, 'fam161': 3, 'fam162': 3, 'fam163': 3, 'fam164': 3, 'fam165': 3, 'fam166': 3, 'fam167': 3, 'fam168': 3, 'fam169': 3, 'fam17': 3, 'fam170': 3, 'fam171': 3, 'fam172': 3, 'fam173': 3, 'fam174': 3, 'fam175': 3, 'fam176': 3, 'fam177': 3, 'fam178': 3, 'fam179': 3, 'fam18': 3, 'fam180': 3, 'fam181': 3, 'fam182': 3, 'fam183': 3, 'fam184': 3, 'fam185': 2, 'fam186': 2, 'fam187': 3, 'fam188': 3, 'fam189': 3, 'fam19': 3, 'fam190': 3, 'fam191': 3, 'fam192': 2, 'fam193': 3, 'fam194': 3, 'fam195': 3, 'fam196': 3, 'fam197': 3, 'fam198': 3, 'fam199': 3, 'fam2': 3, 'fam20': 3, 'fam200': 3, 'fam201': 3, 'fam202': 3, 'fam203': 3, 'fam204': 3, 'fam205': 3, 'fam206': 3, 'fam207': 3, 'fam208': 3, 'fam209': 3, 'fam21': 3, 'fam210': 3, 'fam211': 3, 'fam212': 3, 'fam213': 3, 'fam214': 3, 'fam215': 3, 'fam216': 3, 'fam217': 3, 'fam218': 3, 'fam219': 3, 'fam22': 3, 'fam220': 3, 'fam221': 3, 'fam222': 3, 'fam223': 3, 'fam224': 3, 'fam225': 3, 'fam226': 3, 'fam227': 3, 'fam228': 3, 'fam229': 3, 'fam23': 3, 'fam230': 3, 'fam231': 3, 'fam232': 3, 'fam233': 3, 'fam234': 3, 'fam235': 3, 'fam236': 3, 'fam237': 3, 'fam238': 3, 'fam239': 3, 'fam24': 3, 'fam240': 3, 'fam241': 3, 'fam242': 3, 'fam243': 3, 'fam244': 3, 'fam245': 3, 'fam246': 3, 'fam247': 3, 'fam248': 3, 'fam249': 3, 'fam25': 3, 'fam250': 1, 'fam251': 3, 'fam252': 3, 'fam253': 3, 'fam254': 3, 'fam255': 3, 'fam256': 3, 'fam257': 2, 'fam258': 3, 'fam259': 3, 'fam26': 3, 'fam260': 3, 'fam261': 2, 'fam262': 3, 'fam263': 2, 'fam264': 3, 'fam265': 3, 'fam266': 3, 'fam267': 3, 'fam268': 3, 'fam269': 3, 'fam27': 3, 'fam270': 3, 'fam271': 3, 'fam272': 2, 'fam273': 3, 'fam274': 3, 'fam275': 3, 'fam276': 1, 'fam277': 2, 'fam278': 3, 'fam279': 3, 'fam28': 3, 'fam280': 3, 'fam281': 3, 'fam282': 3, 'fam283': 2, 'fam284': 2, 'fam285': 3, 'fam286': 2, 'fam287': 3, 'fam288': 3, 'fam289': 3, 'fam29': 3, 'fam290': 3, 'fam291': 3, 'fam292': 3, 'fam293': 3, 'fam294': 3, 'fam295': 3, 'fam296': 3, 'fam297': 3, 'fam298': 3, 'fam299': 3, 'fam3': 2, 'fam30': 3, 'fam300': 3, 'fam301': 3, 'fam302': 3, 'fam303': 3, 'fam304': 3, 'fam305': 3, 'fam306': 3, 'fam307': 3, 'fam308': 3, 'fam309': 3, 'fam31': 3, 'fam310': 3, 'fam311': 3, 'fam312': 3, 'fam313': 3, 'fam314': 3, 'fam315': 3, 'fam316': 3, 'fam317': 3, 'fam318': 3, 'fam319': 3, 'fam32': 3, 'fam320': 3, 'fam321': 3, 'fam322': 3, 'fam323': 3, 'fam324': 2, 'fam325': 3, 'fam326': 3, 'fam327': 3, 'fam328': 3, 'fam329': 3, 'fam33': 3, 'fam330': 3, 'fam331': 3, 'fam332': 3, 'fam333': 3, 'fam334': 3, 'fam335': 3, 'fam336': 3, 'fam337': 3, 'fam338': 3, 'fam339': 3, 'fam34': 3, 'fam340': 3, 'fam341': 3, 'fam342': 3, 'fam343': 3, 'fam344': 3, 'fam345': 3, 'fam346': 3, 'fam347': 3, 'fam348': 3, 'fam349': 3, 'fam35': 2, 'fam350': 3, 'fam351': 3, 'fam352': 3, 'fam353': 3, 'fam354': 3, 'fam355': 3, 'fam356': 3, 'fam357': 3, 'fam358': 3, 'fam359': 3, 'fam36': 3, 'fam360': 3, 'fam361': 3, 'fam362': 3, 'fam363': 3, 'fam364': 3, 'fam365': 3, 'fam366': 3, 'fam367': 3, 'fam368': 3, 'fam369': 3, 'fam37': 3, 'fam370': 3, 'fam371': 3, 'fam372': 3, 'fam373': 3, 'fam374': 3, 'fam375': 3, 'fam376': 3, 'fam377': 3, 'fam378': 3, 'fam379': 3, 'fam38': 3, 'fam380': 3, 'fam381': 3, 'fam382': 3, 'fam383': 3, 'fam384': 3, 'fam385': 3, 'fam386': 3, 'fam387': 3, 'fam388': 3, 'fam389': 3, 'fam39': 3, 'fam390': 3, 'fam391': 3, 'fam392': 3, 'fam393': 3, 'fam394': 3, 'fam395': 3, 'fam396': 3, 'fam397': 3, 'fam398': 3, 'fam399': 3, 'fam4': 3, 'fam40': 2, 'fam400': 3, 'fam401': 3, 'fam402': 3, 'fam403': 3, 'fam404': 3, 'fam405': 3, 'fam406': 3, 'fam407': 3, 'fam408': 3, 'fam409': 3, 'fam41': 3, 'fam410': 3, 'fam411': 3, 'fam412': 3, 'fam413': 3, 'fam414': 3, 'fam415': 3, 'fam416': 3, 'fam417': 3, 'fam418': 3, 'fam419': 3, 'fam42': 3, 'fam420': 3, 'fam421': 3, 'fam422': 3, 'fam423': 3, 'fam424': 3, 'fam425': 3, 'fam426': 3, 'fam427': 3, 'fam428': 3, 'fam429': 3, 'fam43': 2, 'fam430': 3, 'fam431': 3, 'fam432': 3, 'fam433': 3, 'fam434': 3, 'fam435': 3, 'fam436': 3, 'fam437': 3, 'fam438': 3, 'fam439': 3, 'fam44': 3, 'fam440': 3, 'fam441': 3, 'fam442': 3, 'fam443': 3, 'fam444': 3, 'fam445': 3, 'fam446': 3, 'fam447': 3, 'fam448': 3, 'fam449': 3, 'fam45': 3, 'fam450': 3, 'fam451': 3, 'fam452': 3, 'fam453': 3, 'fam454': 3, 'fam455': 3, 'fam456': 3, 'fam457': 3, 'fam458': 3, 'fam459': 3, 'fam46': 3, 'fam460': 3, 'fam461': 3, 'fam462': 3, 'fam463': 3, 'fam464': 3, 'fam465': 3, 'fam466': 3, 'fam467': 3, 'fam468': 3, 'fam469': 3, 'fam47': 3, 'fam470': 3, 'fam471': 3, 'fam472': 3, 'fam473': 3, 'fam474': 3, 'fam475': 3, 'fam476': 3, 'fam477': 3, 'fam478': 3, 'fam479': 3, 'fam48': 3, 'fam480': 3, 'fam481': 3, 'fam482': 3, 'fam483': 3, 'fam484': 3, 'fam485': 3, 'fam486': 3, 'fam487': 3, 'fam488': 3, 'fam489': 3, 'fam49': 3, 'fam490': 3, 'fam491': 3, 'fam492': 3, 'fam493': 3, 'fam494': 3, 'fam495': 3, 'fam496': 3, 'fam497': 3, 'fam498': 3, 'fam499': 3, 'fam5': 3, 'fam50': 3, 'fam500': 3, 'fam501': 3, 'fam502': 3, 'fam503': 3, 'fam504': 3, 'fam505': 3, 'fam506': 3, 'fam507': 3, 'fam508': 3, 'fam509': 3, 'fam51': 2, 'fam510': 3, 'fam511': 3, 'fam512': 3, 'fam513': 3, 'fam514': 3, 'fam515': 3, 'fam516': 3, 'fam517': 3, 'fam518': 3, 'fam519': 3, 'fam52': 3, 'fam520': 3, 'fam521': 3, 'fam522': 3, 'fam523': 3, 'fam524': 3, 'fam525': 3, 'fam526': 3, 'fam527': 3, 'fam528': 3, 'fam529': 3, 'fam53': 3, 'fam530': 3, 'fam531': 3, 'fam532': 3, 'fam533': 3, 'fam534': 3, 'fam535': 3, 'fam536': 3, 'fam537': 3, 'fam538': 3, 'fam539': 3, 'fam54': 3, 'fam540': 3, 'fam541': 3, 'fam542': 3, 'fam543': 3, 'fam544': 3, 'fam545': 3, 'fam546': 3, 'fam547': 3, 'fam548': 3, 'fam549': 3, 'fam55': 3, 'fam550': 3, 'fam551': 3, 'fam552': 3, 'fam553': 3, 'fam554': 3, 'fam555': 3, 'fam556': 3, 'fam557': 3, 'fam558': 3, 'fam559': 3, 'fam56': 3, 'fam560': 3, 'fam561': 3, 'fam562': 3, 'fam563': 3, 'fam564': 3, 'fam565': 3, 'fam566': 3, 'fam567': 3, 'fam568': 3, 'fam569': 3, 'fam57': 3, 'fam570': 3, 'fam571': 3, 'fam572': 3, 'fam573': 3, 'fam574': 3, 'fam575': 3, 'fam576': 3, 'fam577': 3, 'fam578': 3, 'fam579': 3, 'fam58': 3, 'fam580': 3, 'fam581': 3, 'fam582': 3, 'fam583': 3, 'fam584': 3, 'fam585': 3, 'fam586': 3, 'fam587': 3, 'fam588': 3, 'fam589': 3, 'fam59': 1, 'fam590': 3, 'fam591': 3, 'fam592': 3, 'fam593': 3, 'fam594': 3, 'fam595': 3, 'fam596': 3, 'fam597': 3, 'fam598': 3, 'fam599': 3, 'fam6': 3, 'fam60': 2, 'fam600': 3, 'fam601': 3, 'fam602': 3, 'fam603': 3, 'fam604': 3, 'fam605': 3, 'fam606': 2, 'fam607': 3, 'fam608': 3, 'fam609': 1, 'fam61': 3, 'fam610': 3, 'fam611': 3, 'fam612': 3, 'fam613': 3, 'fam614': 3, 'fam615': 3, 'fam616': 3, 'fam617': 3, 'fam618': 3, 'fam619': 3, 'fam62': 3, 'fam620': 3, 'fam621': 3, 'fam622': 3, 'fam623': 3, 'fam624': 3, 'fam625': 3, 'fam626': 3, 'fam627': 3, 'fam628': 3, 'fam629': 3, 'fam63': 3, 'fam630': 3, 'fam631': 3, 'fam632': 4, 'fam633': 4, 'fam64': 3, 'fam65': 3, 'fam66': 3, 'fam67': 3, 'fam68': 3, 'fam69': 3, 'fam7': 3, 'fam70': 3, 'fam71': 3, 'fam72': 3, 'fam73': 3, 'fam74': 3, 'fam75': 2, 'fam76': 3, 'fam77': 3, 'fam78': 3, 'fam79': 3, 'fam8': 3, 'fam80': 3, 'fam81': 3, 'fam82': 3, 'fam83': 2, 'fam84': 3, 'fam85': 3, 'fam86': 3, 'fam87': 3, 'fam88': 3, 'fam89': 3, 'fam9': 3, 'fam90': 3, 'fam91': 3, 'fam92': 3, 'fam93': 3, 'fam94': 3, 'fam95': 3, 'fam96': 3, 'fam97': 3, 'fam98': 3, 'fam99': 3, None: 1350}))"
      ]
     },
     "execution_count": 36,
     "metadata": {},
     "output_type": "execute_result"
    }
   ],
   "source": [
    "mt.aggregate_cols(\n",
    "    hl.struct(n_families=hl.agg.counter(mt.fam))\n",
    ")"
   ]
  },
  {
   "cell_type": "markdown",
   "id": "2e6ca3c2",
   "metadata": {},
   "source": [
    "일부는 3인가족으로 보이고, 일부는 그렇지 않습니다. 3인가족은 부모와 자녀를 의미합니다. 이러한 가족을 추출해봅시다."
   ]
  },
  {
   "cell_type": "code",
   "execution_count": 37,
   "id": "1f26b464",
   "metadata": {
    "ExecuteTime": {
     "end_time": "2022-01-17T10:57:51.611579Z",
     "start_time": "2022-01-17T10:57:21.881267Z"
    },
    "scrolled": true
   },
   "outputs": [
    {
     "name": "stderr",
     "output_type": "stream",
     "text": [
      "2022-01-23 19:03:39 Hail: INFO: Coerced sorted dataset              (0 + 4) / 4]\n",
      "2022-01-23 19:03:42 Hail: INFO: Coerced sorted dataset              (0 + 4) / 4]\n",
      "[Stage 122:>                                                        (0 + 1) / 1]\r"
     ]
    },
    {
     "name": "stdout",
     "output_type": "stream",
     "text": [
      "Before filtering trios, (# of variants, # of samples) =  (33097, 3202)\n"
     ]
    },
    {
     "name": "stderr",
     "output_type": "stream",
     "text": [
      "2022-01-23 19:04:04 Hail: INFO: Coerced sorted dataset              (0 + 4) / 4]\n",
      "2022-01-23 19:04:04 Hail: INFO: Coerced sorted dataset\n",
      "2022-01-23 19:04:08 Hail: INFO: Coerced sorted dataset              (0 + 4) / 4]\n",
      "2022-01-23 19:04:08 Hail: INFO: Coerced sorted dataset\n",
      "2022-01-23 19:04:12 Hail: INFO: Coerced sorted dataset              (2 + 2) / 4]\n",
      "2022-01-23 19:04:15 Hail: INFO: Coerced sorted dataset              (2 + 2) / 4]\n",
      "[Stage 131:>                                                        (0 + 1) / 1]\r"
     ]
    },
    {
     "name": "stdout",
     "output_type": "stream",
     "text": [
      "After filtering trios, (# of variants, # of samples) =  (33097, 1784)\n"
     ]
    }
   ],
   "source": [
    "print(\"Before filtering trios, (# of variants, # of samples) = \", mt.count())\n",
    "ID = hl.literal(mt.aggregate_cols(hl.agg.collect(mt.s)))\n",
    "fid = mt.filter_cols((ID.contains(mt.pat_id)) & (ID.contains(mt.mat_id))) # 부모의 ID가 모두 존재\n",
    "\n",
    "fid = hl.literal(fid.aggregate_cols(hl.agg.collect(fid.fam)))\n",
    "mt = mt.filter_cols(fid.contains(mt.fam))\n",
    "\n",
    "print(\"After filtering trios, (# of variants, # of samples) = \", mt.count())"
   ]
  },
  {
   "cell_type": "markdown",
   "id": "c4f8be76",
   "metadata": {},
   "source": [
    "이제 trio 가족들만 남았고, 총 147 가족이 matrix table에 남았습니다. \n",
    "\n",
    "이번에는 우리 데이터에 있는 여성 샘플의 비율을 계산해봅시다. Hail은 fraction을 직접 측정할 수도 있고, 아니면 직접 산출을 할 수도 있습니다."
   ]
  },
  {
   "cell_type": "code",
   "execution_count": 38,
   "id": "739ecea9",
   "metadata": {
    "ExecuteTime": {
     "end_time": "2022-01-17T10:57:55.844324Z",
     "start_time": "2022-01-17T10:57:51.612566Z"
    }
   },
   "outputs": [
    {
     "name": "stderr",
     "output_type": "stream",
     "text": [
      "2022-01-23 19:04:37 Hail: INFO: Coerced sorted dataset              (3 + 1) / 4]\n"
     ]
    },
    {
     "data": {
      "text/plain": [
       "Struct(fraction_female=0.4938340807174888, case_ratio=0.4938340807174888)"
      ]
     },
     "execution_count": 38,
     "metadata": {},
     "output_type": "execute_result"
    }
   ],
   "source": [
    "mt.aggregate_cols(\n",
    "    hl.struct(\n",
    "        fraction_female=hl.agg.fraction(mt.isFemale),\n",
    "        case_ratio=hl.agg.count_where(mt.isFemale) / hl.agg.count())\n",
    ")"
   ]
  },
  {
   "cell_type": "markdown",
   "id": "47d4a4c1",
   "metadata": {},
   "source": [
    "샘플에 저장된 continuous variable도 계산을 할 수 있습니다. 현재 튜토리얼 데이터에는 임의로 키(height)를 추가했습니다. 이를 활용하여 평균 값을 구해보죠. "
   ]
  },
  {
   "cell_type": "code",
   "execution_count": 39,
   "id": "487d8fdd",
   "metadata": {
    "ExecuteTime": {
     "end_time": "2022-01-17T10:58:00.011716Z",
     "start_time": "2022-01-17T10:57:55.845298Z"
    }
   },
   "outputs": [
    {
     "name": "stderr",
     "output_type": "stream",
     "text": [
      "2022-01-23 19:04:41 Hail: INFO: Coerced sorted dataset              (0 + 4) / 4]\n"
     ]
    },
    {
     "data": {
      "text/plain": [
       "Struct(height_mean=167.57430886673566)"
      ]
     },
     "execution_count": 39,
     "metadata": {},
     "output_type": "execute_result"
    }
   ],
   "source": [
    "mt.aggregate_cols(\n",
    "    hl.struct(\n",
    "        height_mean=hl.agg.mean(mt.height))\n",
    ")"
   ]
  },
  {
   "cell_type": "markdown",
   "id": "0301a93c",
   "metadata": {},
   "source": [
    "평균키는 167cm로 확인이 되었습니다.\n",
    "\n",
    "이번에는 키의 분포를 시각화해봅시다."
   ]
  },
  {
   "cell_type": "code",
   "execution_count": 40,
   "id": "fb6b5eb1",
   "metadata": {
    "ExecuteTime": {
     "end_time": "2022-01-17T10:58:08.410608Z",
     "start_time": "2022-01-17T10:58:00.012627Z"
    }
   },
   "outputs": [
    {
     "name": "stderr",
     "output_type": "stream",
     "text": [
      "2022-01-23 19:04:45 Hail: INFO: Coerced sorted dataset              (0 + 4) / 4]\n",
      "2022-01-23 19:04:49 Hail: INFO: Coerced sorted dataset              (0 + 4) / 4]\n"
     ]
    },
    {
     "data": {
      "text/html": [
       "\n",
       "\n",
       "\n",
       "\n",
       "\n",
       "\n",
       "  <div class=\"bk-root\" id=\"6da0b718-5ef5-4679-ae9e-97be500d93a1\" data-root-id=\"2392\"></div>\n"
      ]
     },
     "metadata": {},
     "output_type": "display_data"
    },
    {
     "data": {
      "application/javascript": [
       "(function(root) {\n",
       "  function embed_document(root) {\n",
       "    \n",
       "  var docs_json = {\"692d872e-77f1-4b41-87c8-32dd6d6f3451\":{\"roots\":{\"references\":[{\"attributes\":{\"background_fill_color\":{\"value\":\"#EEEEEE\"},\"below\":[{\"id\":\"2403\",\"type\":\"LinearAxis\"}],\"center\":[{\"id\":\"2407\",\"type\":\"Grid\"},{\"id\":\"2412\",\"type\":\"Grid\"},{\"id\":\"2437\",\"type\":\"Legend\"}],\"left\":[{\"id\":\"2408\",\"type\":\"LinearAxis\"}],\"renderers\":[{\"id\":\"2429\",\"type\":\"GlyphRenderer\"}],\"title\":{\"id\":\"2393\",\"type\":\"Title\"},\"toolbar\":{\"id\":\"2419\",\"type\":\"Toolbar\"},\"x_range\":{\"id\":\"2395\",\"type\":\"Range1d\"},\"x_scale\":{\"id\":\"2399\",\"type\":\"LinearScale\"},\"y_range\":{\"id\":\"2397\",\"type\":\"DataRange1d\"},\"y_scale\":{\"id\":\"2401\",\"type\":\"LinearScale\"}},\"id\":\"2392\",\"subtype\":\"Figure\",\"type\":\"Plot\"},{\"attributes\":{},\"id\":\"2414\",\"type\":\"WheelZoomTool\"},{\"attributes\":{\"overlay\":{\"id\":\"2436\",\"type\":\"BoxAnnotation\"}},\"id\":\"2415\",\"type\":\"BoxZoomTool\"},{\"attributes\":{\"bottom_units\":\"screen\",\"fill_alpha\":{\"value\":0.5},\"fill_color\":{\"value\":\"lightgrey\"},\"left_units\":\"screen\",\"level\":\"overlay\",\"line_alpha\":{\"value\":1.0},\"line_color\":{\"value\":\"black\"},\"line_dash\":[4,4],\"line_width\":{\"value\":2},\"render_mode\":\"css\",\"right_units\":\"screen\",\"top_units\":\"screen\"},\"id\":\"2436\",\"type\":\"BoxAnnotation\"},{\"attributes\":{\"active_drag\":\"auto\",\"active_inspect\":\"auto\",\"active_multi\":null,\"active_scroll\":\"auto\",\"active_tap\":\"auto\",\"tools\":[{\"id\":\"2413\",\"type\":\"PanTool\"},{\"id\":\"2414\",\"type\":\"WheelZoomTool\"},{\"id\":\"2415\",\"type\":\"BoxZoomTool\"},{\"id\":\"2416\",\"type\":\"SaveTool\"},{\"id\":\"2417\",\"type\":\"ResetTool\"},{\"id\":\"2418\",\"type\":\"HelpTool\"}]},\"id\":\"2419\",\"type\":\"Toolbar\"},{\"attributes\":{},\"id\":\"2417\",\"type\":\"ResetTool\"},{\"attributes\":{},\"id\":\"2409\",\"type\":\"BasicTicker\"},{\"attributes\":{},\"id\":\"2413\",\"type\":\"PanTool\"},{\"attributes\":{},\"id\":\"2526\",\"type\":\"Selection\"},{\"attributes\":{\"text\":\"Heights\"},\"id\":\"2393\",\"type\":\"Title\"},{\"attributes\":{},\"id\":\"2404\",\"type\":\"BasicTicker\"},{\"attributes\":{\"source\":{\"id\":\"2426\",\"type\":\"ColumnDataSource\"}},\"id\":\"2430\",\"type\":\"CDSView\"},{\"attributes\":{\"callback\":null,\"data\":{\"left\":[151.030996763109,151.68168953826012,152.33238231341122,152.98307508856234,153.63376786371347,154.2844606388646,154.9351534140157,155.58584618916683,156.23653896431796,156.88723173946906,157.5379245146202,158.18861728977132,158.83931006492244,159.49000284007354,160.14069561522467,160.7913883903758,161.44208116552693,162.09277394067803,162.74346671582916,163.3941594909803,164.0448522661314,164.69554504128251,165.34623781643364,165.99693059158477,166.64762336673587,167.298316141887,167.94900891703813,168.59970169218923,169.25039446734036,169.90108724249149,170.5517800176426,171.2024727927937,171.85316556794484,172.50385834309597,173.15455111824707,173.8052438933982,174.45593666854933,175.10662944370046,175.75732221885156,176.40801499400268,177.0587077691538,177.7094005443049,178.36009331945604,179.01078609460717,179.6614788697583,180.3121716449094,180.96286442006053,181.61355719521165,182.26424997036275,182.91494274551388],\"right\":[151.68168953826012,152.33238231341122,152.98307508856234,153.63376786371347,154.2844606388646,154.9351534140157,155.58584618916683,156.23653896431796,156.88723173946906,157.5379245146202,158.18861728977132,158.83931006492244,159.49000284007354,160.14069561522467,160.7913883903758,161.44208116552693,162.09277394067803,162.74346671582916,163.3941594909803,164.0448522661314,164.69554504128251,165.34623781643364,165.99693059158477,166.64762336673587,167.298316141887,167.94900891703813,168.59970169218923,169.25039446734036,169.90108724249149,170.5517800176426,171.2024727927937,171.85316556794484,172.50385834309597,173.15455111824707,173.8052438933982,174.45593666854933,175.10662944370046,175.75732221885156,176.40801499400268,177.0587077691538,177.7094005443049,178.36009331945604,179.01078609460717,179.6614788697583,180.3121716449094,180.96286442006053,181.61355719521165,182.26424997036275,182.91494274551388,183.565635520665],\"top\":[2,0,0,2,0,5,10,9,12,25,33,42,48,59,57,85,74,70,74,67,64,42,33,28,25,27,33,39,40,47,71,61,71,80,90,75,57,60,36,41,34,21,16,7,5,1,1,2,0,3]},\"selected\":{\"id\":\"2526\",\"type\":\"Selection\"},\"selection_policy\":{\"id\":\"2525\",\"type\":\"UnionRenderers\"}},\"id\":\"2426\",\"type\":\"ColumnDataSource\"},{\"attributes\":{\"callback\":null},\"id\":\"2397\",\"type\":\"DataRange1d\"},{\"attributes\":{\"label\":{\"value\":\"\"},\"renderers\":[{\"id\":\"2429\",\"type\":\"GlyphRenderer\"}]},\"id\":\"2438\",\"type\":\"LegendItem\"},{\"attributes\":{\"bottom\":{\"value\":0},\"fill_color\":{\"value\":\"#1f77b4\"},\"left\":{\"field\":\"left\"},\"right\":{\"field\":\"right\"},\"top\":{\"field\":\"top\"}},\"id\":\"2427\",\"type\":\"Quad\"},{\"attributes\":{\"axis_label\":\"Frequency\",\"formatter\":{\"id\":\"2435\",\"type\":\"BasicTickFormatter\"},\"ticker\":{\"id\":\"2409\",\"type\":\"BasicTicker\"}},\"id\":\"2408\",\"type\":\"LinearAxis\"},{\"attributes\":{},\"id\":\"2435\",\"type\":\"BasicTickFormatter\"},{\"attributes\":{\"items\":[{\"id\":\"2438\",\"type\":\"LegendItem\"}]},\"id\":\"2437\",\"type\":\"Legend\"},{\"attributes\":{},\"id\":\"2525\",\"type\":\"UnionRenderers\"},{\"attributes\":{\"formatter\":{\"id\":\"2433\",\"type\":\"BasicTickFormatter\"},\"ticker\":{\"id\":\"2404\",\"type\":\"BasicTicker\"}},\"id\":\"2403\",\"type\":\"LinearAxis\"},{\"attributes\":{\"bottom\":{\"value\":0},\"fill_alpha\":{\"value\":0.1},\"fill_color\":{\"value\":\"#1f77b4\"},\"left\":{\"field\":\"left\"},\"line_alpha\":{\"value\":0.1},\"line_color\":{\"value\":\"#1f77b4\"},\"right\":{\"field\":\"right\"},\"top\":{\"field\":\"top\"}},\"id\":\"2428\",\"type\":\"Quad\"},{\"attributes\":{},\"id\":\"2418\",\"type\":\"HelpTool\"},{\"attributes\":{\"ticker\":{\"id\":\"2404\",\"type\":\"BasicTicker\"}},\"id\":\"2407\",\"type\":\"Grid\"},{\"attributes\":{},\"id\":\"2433\",\"type\":\"BasicTickFormatter\"},{\"attributes\":{\"dimension\":1,\"ticker\":{\"id\":\"2409\",\"type\":\"BasicTicker\"}},\"id\":\"2412\",\"type\":\"Grid\"},{\"attributes\":{},\"id\":\"2401\",\"type\":\"LinearScale\"},{\"attributes\":{},\"id\":\"2399\",\"type\":\"LinearScale\"},{\"attributes\":{\"callback\":null,\"end\":185.1923674585428,\"start\":149.4042648252312},\"id\":\"2395\",\"type\":\"Range1d\"},{\"attributes\":{\"data_source\":{\"id\":\"2426\",\"type\":\"ColumnDataSource\"},\"glyph\":{\"id\":\"2427\",\"type\":\"Quad\"},\"hover_glyph\":null,\"muted_glyph\":null,\"nonselection_glyph\":{\"id\":\"2428\",\"type\":\"Quad\"},\"selection_glyph\":null,\"view\":{\"id\":\"2430\",\"type\":\"CDSView\"}},\"id\":\"2429\",\"type\":\"GlyphRenderer\"},{\"attributes\":{},\"id\":\"2416\",\"type\":\"SaveTool\"}],\"root_ids\":[\"2392\"]},\"title\":\"Bokeh Application\",\"version\":\"1.4.0\"}};\n",
       "  var render_items = [{\"docid\":\"692d872e-77f1-4b41-87c8-32dd6d6f3451\",\"roots\":{\"2392\":\"6da0b718-5ef5-4679-ae9e-97be500d93a1\"}}];\n",
       "  root.Bokeh.embed.embed_items_notebook(docs_json, render_items);\n",
       "\n",
       "  }\n",
       "  if (root.Bokeh !== undefined) {\n",
       "    embed_document(root);\n",
       "  } else {\n",
       "    var attempts = 0;\n",
       "    var timer = setInterval(function(root) {\n",
       "      if (root.Bokeh !== undefined) {\n",
       "        clearInterval(timer);\n",
       "        embed_document(root);\n",
       "      } else {\n",
       "        attempts++;\n",
       "        if (attempts > 100) {\n",
       "          clearInterval(timer);\n",
       "          console.log(\"Bokeh: ERROR: Unable to run BokehJS code because BokehJS library is missing\");\n",
       "        }\n",
       "      }\n",
       "    }, 10, root)\n",
       "  }\n",
       "})(window);"
      ],
      "application/vnd.bokehjs_exec.v0+json": ""
     },
     "metadata": {
      "application/vnd.bokehjs_exec.v0+json": {
       "id": "2392"
      }
     },
     "output_type": "display_data"
    }
   ],
   "source": [
    "p = hl.plot.histogram(mt.height, title = 'Heights')\n",
    "show(p)"
   ]
  },
  {
   "cell_type": "markdown",
   "id": "511e7e74",
   "metadata": {},
   "source": [
    "## 품질지표 확인 및 정도관리\n",
    "\n",
    "### 샘플\n",
    "\n",
    "전장유전체 분석을 하기 전에, 분석에 사용하는 모든 샘플이 균일하게 시퀀싱이 되었는지 확인할 필요가 있습니다. 먼저 각 샘플이 갖고 있는 변이에 관한 지표를 샘플별로 살펴보겠습니다. 많은 경우 SNV와 indel은 다른 품질 지표를 갖기 때문에, 둘을 구별하여 분석을 해보도록 하겠습니다.\n",
    "\n",
    "`sample_qc()` 라는 함수를 사용하면, 품질지표에 대한 정보를 계산해줍니다. "
   ]
  },
  {
   "cell_type": "code",
   "execution_count": 41,
   "id": "c1b93b56",
   "metadata": {
    "ExecuteTime": {
     "end_time": "2022-01-17T10:58:08.720540Z",
     "start_time": "2022-01-17T10:58:08.411494Z"
    }
   },
   "outputs": [
    {
     "name": "stdout",
     "output_type": "stream",
     "text": [
      "----------------------------------------\n",
      "Global fields:\n",
      "    None\n",
      "----------------------------------------\n",
      "Row fields:\n",
      "    's': str \n",
      "    'fam': str \n",
      "    'pat_id': str \n",
      "    'mat_id': str \n",
      "    'isFemale': bool \n",
      "    'phenotype': bool \n",
      "    'ROLE': str \n",
      "    'population': str \n",
      "    'height': float64 \n",
      "    'NVIQ': float64 \n",
      "    'sample_qc': struct {\n",
      "        dp_stats: struct {\n",
      "            mean: float64, \n",
      "            stdev: float64, \n",
      "            min: float64, \n",
      "            max: float64\n",
      "        }, \n",
      "        gq_stats: struct {\n",
      "            mean: float64, \n",
      "            stdev: float64, \n",
      "            min: float64, \n",
      "            max: float64\n",
      "        }, \n",
      "        call_rate: float64, \n",
      "        n_called: int64, \n",
      "        n_not_called: int64, \n",
      "        n_filtered: int64, \n",
      "        n_hom_ref: int64, \n",
      "        n_het: int64, \n",
      "        n_hom_var: int64, \n",
      "        n_non_ref: int64, \n",
      "        n_singleton: int64, \n",
      "        n_snp: int64, \n",
      "        n_insertion: int64, \n",
      "        n_deletion: int64, \n",
      "        n_transition: int64, \n",
      "        n_transversion: int64, \n",
      "        n_star: int64, \n",
      "        r_ti_tv: float64, \n",
      "        r_het_hom_var: float64, \n",
      "        r_insertion_deletion: float64\n",
      "    } \n",
      "----------------------------------------\n",
      "Key: ['s']\n",
      "----------------------------------------\n"
     ]
    }
   ],
   "source": [
    "mt_SNV = hl.sample_qc(mt_SNV)\n",
    "mt_Indel = hl.sample_qc(mt_Indel)\n",
    "\n",
    "mt_SNV.cols().describe()"
   ]
  },
  {
   "cell_type": "markdown",
   "id": "a62d01f9",
   "metadata": {},
   "source": [
    "`sample_qc`에 보면, DP, GQ, call_rate 등에 대한 여러가지 정보들이 제공되는 것을 볼 수 있습니다. 얻어진 정보는 `annotate_cols()` 함수를 이용하여, 원래 matrix table에 추가하도록 하겠습니다. 이후, `cols()`를 사용하여, 컬럼, 즉 샘플에 대한 정보만 matrix table로 추출합니다. "
   ]
  },
  {
   "cell_type": "code",
   "execution_count": 42,
   "id": "06aa2996",
   "metadata": {
    "ExecuteTime": {
     "end_time": "2022-01-17T10:58:08.905338Z",
     "start_time": "2022-01-17T10:58:08.721450Z"
    }
   },
   "outputs": [
    {
     "name": "stdout",
     "output_type": "stream",
     "text": [
      "----------------------------------------\n",
      "Global fields:\n",
      "    None\n",
      "----------------------------------------\n",
      "Row fields:\n",
      "    's': str \n",
      "    'fam': str \n",
      "    'pat_id': str \n",
      "    'mat_id': str \n",
      "    'isFemale': bool \n",
      "    'phenotype': bool \n",
      "    'ROLE': str \n",
      "    'population': str \n",
      "    'height': float64 \n",
      "    'NVIQ': float64 \n",
      "    'n_non_ref_SNV': int64 \n",
      "    'n_non_ref_Indel': int64 \n",
      "    'r_ti_tv': float64 \n",
      "    'dp_mean_SNV': float64 \n",
      "    'dp_mean_Indel': float64 \n",
      "    'gq_mean_SNV': float64 \n",
      "    'gq_mean_Indel': float64 \n",
      "    'call_rate_SNV': float64 \n",
      "    'call_rate_Indel': float64 \n",
      "----------------------------------------\n",
      "Key: ['s']\n",
      "----------------------------------------\n"
     ]
    }
   ],
   "source": [
    "m_qc = mt.annotate_cols(n_non_ref_SNV = mt_SNV.cols()[mt.s].sample_qc.n_non_ref,\n",
    "                        n_non_ref_Indel = mt_Indel.cols()[mt.s].sample_qc.n_non_ref,\n",
    "                        r_ti_tv = mt_SNV.cols()[mt.s].sample_qc.r_ti_tv,\n",
    "                        dp_mean_SNV = mt_SNV.cols()[mt.s].sample_qc.dp_stats.mean,\n",
    "                        dp_mean_Indel = mt_Indel.cols()[mt.s].sample_qc.dp_stats.mean,\n",
    "                        gq_mean_SNV = mt_SNV.cols()[mt.s].sample_qc.gq_stats.mean,\n",
    "                        gq_mean_Indel = mt_Indel.cols()[mt.s].sample_qc.gq_stats.mean,\n",
    "                        call_rate_SNV = mt_SNV.cols()[mt.s].sample_qc.call_rate,\n",
    "                        call_rate_Indel = mt_Indel.cols()[mt.s].sample_qc.call_rate\n",
    "                     ).cols().key_by('s')\n",
    "\n",
    "m_qc.describe()"
   ]
  },
  {
   "cell_type": "markdown",
   "id": "c8119df6",
   "metadata": {},
   "source": [
    "이제 샘플별로 나타난 SNV와 indel의 숫자를 확인해보도록 합시다. 아래 `non_ref`로 시작하는 것은 non-reference calls, 즉 variant를 의미하고, heterozygous variant와 alternative homozygous variant를 말합니다. SNV와 indel의 숫자를 확인하는건 전장유전체 데이터에서 가장 먼저 확인할 부분 중 하나입니다. \n",
    "\n",
    "> 리빙포인트: SNV와 indel의 분포가 군집을 이루는 것처럼 보인다면, 1) 주어진 데이터셋에 ancestry가 다른 샘플이 존재하거나, 2) 배치효과가 존재함을 의미합니다. "
   ]
  },
  {
   "cell_type": "code",
   "execution_count": 43,
   "id": "7b74aa48",
   "metadata": {
    "ExecuteTime": {
     "end_time": "2022-01-17T10:59:00.162479Z",
     "start_time": "2022-01-17T10:58:08.906293Z"
    }
   },
   "outputs": [
    {
     "name": "stderr",
     "output_type": "stream",
     "text": [
      "2022-01-23 19:05:03 Hail: INFO: Coerced sorted dataset              (0 + 4) / 4]\n",
      "2022-01-23 19:05:06 Hail: INFO: Coerced sorted dataset              (3 + 1) / 4]\n",
      "2022-01-23 19:05:50 Hail: INFO: Coerced sorted dataset              (3 + 1) / 4]\n",
      "2022-01-23 19:05:52 Hail: INFO: Coerced sorted dataset              (3 + 1) / 4]\n",
      "2022-01-23 19:06:35 Hail: INFO: Coerced sorted dataset              (0 + 4) / 4]\n",
      "2022-01-23 19:06:38 Hail: INFO: Coerced sorted dataset              (0 + 4) / 4]\n",
      "2022-01-23 19:06:41 Hail: INFO: Coerced sorted dataset              (0 + 4) / 4]\n"
     ]
    },
    {
     "data": {
      "text/html": [
       "\n",
       "\n",
       "\n",
       "\n",
       "\n",
       "\n",
       "  <div class=\"bk-root\" id=\"a30b8cfc-4484-4938-9ffa-89150512ce28\" data-root-id=\"2575\"></div>\n"
      ]
     },
     "metadata": {},
     "output_type": "display_data"
    },
    {
     "data": {
      "application/javascript": [
       "(function(root) {\n",
       "  function embed_document(root) {\n",
       "    \n",
       "  var docs_json = {\"4dc90884-a019-48cd-9777-05eca2a4f489\":{\"roots\":{\"references\":[{\"attributes\":{\"below\":[{\"id\":\"2586\",\"type\":\"LinearAxis\"}],\"center\":[{\"id\":\"2590\",\"type\":\"Grid\"},{\"id\":\"2595\",\"type\":\"Grid\"}],\"left\":[{\"id\":\"2591\",\"type\":\"LinearAxis\"}],\"plot_height\":800,\"plot_width\":800,\"renderers\":[{\"id\":\"2615\",\"type\":\"GlyphRenderer\"}],\"title\":{\"id\":\"2576\",\"type\":\"Title\"},\"toolbar\":{\"id\":\"2602\",\"type\":\"Toolbar\"},\"x_range\":{\"id\":\"2578\",\"type\":\"DataRange1d\"},\"x_scale\":{\"id\":\"2582\",\"type\":\"LinearScale\"},\"y_range\":{\"id\":\"2580\",\"type\":\"DataRange1d\"},\"y_scale\":{\"id\":\"2584\",\"type\":\"LinearScale\"}},\"id\":\"2575\",\"subtype\":\"Figure\",\"type\":\"Plot\"},{\"attributes\":{},\"id\":\"2592\",\"type\":\"BasicTicker\"},{\"attributes\":{\"dimension\":1,\"ticker\":{\"id\":\"2592\",\"type\":\"BasicTicker\"}},\"id\":\"2595\",\"type\":\"Grid\"},{\"attributes\":{},\"id\":\"2600\",\"type\":\"ResetTool\"},{\"attributes\":{\"fill_alpha\":{\"value\":0.1},\"fill_color\":{\"value\":\"#1f77b4\"},\"line_alpha\":{\"value\":0.1},\"line_color\":{\"value\":\"#1f77b4\"},\"size\":{\"units\":\"screen\",\"value\":8},\"x\":{\"field\":\"x\"},\"y\":{\"field\":\"y\"}},\"id\":\"2614\",\"type\":\"Circle\"},{\"attributes\":{\"callback\":null},\"id\":\"2580\",\"type\":\"DataRange1d\"},{\"attributes\":{},\"id\":\"2599\",\"type\":\"SaveTool\"},{\"attributes\":{\"fill_color\":{\"value\":\"#1f77b4\"},\"line_color\":{\"value\":\"#1f77b4\"},\"size\":{\"units\":\"screen\",\"value\":8},\"x\":{\"field\":\"x\"},\"y\":{\"field\":\"y\"}},\"id\":\"2613\",\"type\":\"Circle\"},{\"attributes\":{\"active_drag\":\"auto\",\"active_inspect\":\"auto\",\"active_multi\":null,\"active_scroll\":\"auto\",\"active_tap\":\"auto\",\"tools\":[{\"id\":\"2596\",\"type\":\"PanTool\"},{\"id\":\"2597\",\"type\":\"WheelZoomTool\"},{\"id\":\"2598\",\"type\":\"BoxZoomTool\"},{\"id\":\"2599\",\"type\":\"SaveTool\"},{\"id\":\"2600\",\"type\":\"ResetTool\"},{\"id\":\"2601\",\"type\":\"HelpTool\"},{\"id\":\"2610\",\"type\":\"HoverTool\"}]},\"id\":\"2602\",\"type\":\"Toolbar\"},{\"attributes\":{\"callback\":null,\"tooltips\":[[\"x\",\"@x\"],[\"y\",\"@y\"],[\"ID\",\"@ID\"]]},\"id\":\"2610\",\"type\":\"HoverTool\"},{\"attributes\":{\"callback\":null,\"data\":{\"ID\":[\"HG01148\",\"NA12489\",\"HG04156\",\"NA10835\",\"NA12749\",\"HG01770\",\"NA07056\",\"HG01097\",\"HG00625\",\"NA19677\",\"HG04175\",\"HG02494\",\"NA07346\",\"HG02233\",\"HG01492\",\"NA11918\",\"HG01067\",\"HG03830\",\"HG01682\",\"HG01438\",\"HG01685\",\"NA07048\",\"HG01926\",\"HG01772\",\"HG01075\",\"NA12144\",\"HG03615\",\"NA12249\",\"HG03831\",\"HG01140\",\"HG03706\",\"NA12873\",\"HG01169\",\"NA10830\",\"HG01070\",\"NA07349\",\"NA12056\",\"HG01069\",\"HG01079\",\"HG01346\",\"HG01610\",\"HG01603\",\"HG01606\",\"HG00627\",\"HG01071\",\"NA06997\",\"HG02221\",\"HG02658\",\"NA11892\",\"HG01074\",\"HG00429\",\"HG04215\",\"HG01192\",\"HG03634\",\"HG00428\",\"HG04204\",\"NA12341\",\"NA10838\",\"NA19685\",\"NA19716\",\"HG02682\",\"HG01681\",\"NA06984\",\"NA12342\",\"NA12872\",\"NA10847\",\"HG01674\",\"NA12814\",\"HG01252\",\"HG03228\",\"HG00534\",\"HG03626\",\"HG03688\",\"HG01050\",\"HG01498\",\"HG01970\",\"HG02816\",\"HG01432\",\"HG04185\",\"HG01466\",\"HG01667\",\"HG01948\",\"NA12875\",\"NA12273\",\"NA12414\",\"NA12707\",\"HG01072\",\"HG01278\",\"NA12336\",\"HG01620\",\"HG02222\",\"HG01950\",\"HG01349\",\"HG01550\",\"NA10842\",\"HG01932\",\"NA10851\",\"NA19796\",\"HG00739\",\"HG02287\",\"NA10863\",\"NA19781\",\"HG01951\",\"HG01099\",\"HG03905\",\"HG01068\",\"HG03635\",\"NA12766\",\"HG02651\",\"HG00558\",\"NA19774\",\"HG01777\",\"HG01567\",\"HG01928\",\"HG01955\",\"HG01516\",\"HG00703\",\"HG01536\",\"NA12343\",\"HG01497\",\"HG01499\",\"HG00683\",\"HG01613\",\"HG01277\",\"HG01512\",\"HG01503\",\"HG01455\",\"NA12154\",\"HG02104\",\"HG01943\",\"NA11931\",\"NA12750\",\"HG01624\",\"NA07022\",\"HG02146\",\"HG04182\",\"NA19649\",\"HG01615\",\"HG02229\",\"NA19784\",\"HG01513\",\"NA12761\",\"NA19719\",\"HG01697\",\"HG03829\",\"HG03650\",\"HG01627\",\"HG02733\",\"NA19650\",\"HG01177\",\"HG03942\",\"HG01141\",\"HG00556\",\"NA10855\",\"HG01626\",\"HG01514\",\"HG01083\",\"HG02220\",\"HG01507\",\"HG01377\",\"NA19780\",\"HG03802\",\"HG01566\",\"HG01171\",\"HG01509\",\"HG01774\",\"HG03710\",\"NA07435\",\"HG01757\",\"HG01085\",\"HG01178\",\"NA11994\",\"HG01048\",\"HG03885\",\"HG00731\",\"HG01684\",\"HG00535\",\"HG01465\",\"HG01188\",\"HG00642\",\"HG00473\",\"NA11894\",\"HG01679\",\"NA12762\",\"NA19676\",\"HG00626\",\"NA12043\",\"HG01614\",\"HG00591\",\"HG01175\",\"NA12264\",\"HG00585\",\"HG00512\",\"NA19795\",\"HG01168\",\"HG04193\",\"HG01134\",\"HG01087\",\"NA12864\",\"NA19733\",\"HG01782\",\"HG01671\",\"NA07045\",\"HG03886\",\"HG03594\",\"HG04155\",\"HG01496\",\"HG01344\",\"HG03941\",\"HG02600\",\"NA12813\",\"HG04134\",\"NA19922\",\"HG00685\",\"NA12236\",\"HG01608\",\"HG00629\",\"HG01921\",\"HG02685\",\"HG01784\",\"NA12865\",\"HG03235\",\"HG03490\",\"HG04174\",\"HG00525\",\"HG01953\",\"HG01493\",\"NA07031\",\"NA12775\",\"HG02235\",\"HG04198\",\"HG01616\",\"HG01257\",\"NA12045\",\"HG02522\",\"HG00737\",\"HG02512\",\"HG01527\",\"HG01098\",\"HG01133\",\"HG01125\",\"HG01501\",\"HG01490\",\"HG01621\",\"NA12286\",\"NA19746\",\"HG01504\",\"NA11832\",\"NA07019\",\"NA12044\",\"HG01676\",\"NA19648\",\"HG02127\",\"HG01623\",\"HG02805\",\"NA06991\",\"HG02697\",\"HG02605\",\"NA19731\",\"NA06995\",\"NA19751\",\"NA12716\",\"HG01625\",\"HG00663\",\"HG02648\",\"HG04157\",\"NA12335\",\"HG03606\",\"HG01707\",\"NA10840\",\"HG01898\",\"HG01530\",\"HG02278\",\"HG01279\",\"NA07055\",\"HG01773\",\"NA19778\",\"HG01094\",\"NA19788\",\"HG01358\",\"NA19760\",\"HG00457\",\"HG01622\",\"HG01437\",\"HG02561\",\"HG00453\",\"NA07347\",\"HG01783\",\"HG02234\",\"HG02301\",\"NA11882\",\"NA11831\",\"NA12155\",\"NA19748\",\"HG01892\",\"HG03619\",\"HG01052\",\"HG00733\",\"HG01489\",\"HG00408\",\"HG01250\",\"HG02136\",\"NA19686\",\"HG01937\",\"HG00476\",\"HG01139\",\"HG01066\",\"HG04183\",\"HG00500\",\"HG00701\",\"HG01347\",\"HG01149\",\"NA12005\",\"HG04191\",\"HG03930\",\"NA10856\",\"HG00740\",\"NA10837\",\"HG01518\",\"NA19663\",\"HG01945\",\"HG00552\",\"HG01383\",\"NA12748\",\"HG00419\",\"NA19777\",\"HG01389\",\"HG01197\",\"HG01710\",\"HG04158\",\"NA06986\",\"NA11891\",\"NA19819\",\"HG01763\",\"HG01174\",\"HG02030\",\"HG00698\",\"HG02303\",\"HG01680\",\"HG00524\",\"NA12287\",\"HG02686\",\"NA19773\",\"HG01761\",\"HG01702\",\"NA19783\",\"HG00561\",\"HG00651\",\"NA12753\",\"HG01683\",\"NA12399\",\"HG02232\",\"HG01062\",\"NA10831\",\"HG04184\",\"HG01617\",\"NA19757\",\"HG00640\",\"HG01275\",\"NA10845\",\"HG02788\",\"HG01488\",\"HG01602\",\"HG01677\",\"HG01672\",\"HG02562\",\"HG01353\",\"HG01565\",\"NA19665\",\"HG02148\",\"HG04131\",\"NA10860\",\"NA19732\",\"HG00635\",\"HG00530\",\"HG01747\",\"HG01248\",\"HG02601\",\"NA19749\",\"HG00611\",\"NA12329\",\"HG01531\",\"NA19782\",\"HG01150\",\"NA12812\",\"NA12829\",\"HG01384\",\"HG01949\",\"HG02131\",\"HG01511\",\"NA19681\",\"HG04199\",\"HG01439\",\"HG01678\",\"NA19763\",\"HG02056\",\"NA12818\",\"HG00581\",\"HG01273\",\"HG00630\",\"HG00559\",\"HG01342\",\"HG02603\",\"HG01771\",\"HG01940\",\"HG01258\",\"NA19721\",\"HG01941\",\"HG00567\",\"HG01126\",\"NA06989\",\"HG01256\",\"HG01348\",\"HG01138\",\"HG00634\",\"HG03794\",\"HG02223\",\"HG03907\",\"HG00638\",\"NA19790\",\"HG01935\",\"HG01462\",\"HG04075\",\"NA19722\",\"HG03371\",\"HG01670\",\"NA07345\",\"HG02684\",\"NA07034\",\"HG01053\",\"HG01355\",\"HG03709\",\"HG03667\",\"NA10865\",\"HG02698\",\"HG01060\",\"HG04099\",\"HG01687\",\"HG02224\",\"NA19713\",\"HG03906\",\"HG00583\",\"HG02717\",\"HG01939\",\"HG03682\",\"HG00501\",\"NA12740\",\"HG02727\",\"HG01609\",\"HG02231\",\"NA12830\",\"HG00582\",\"HG00543\",\"NA19758\",\"HG01049\",\"NA12146\",\"HG00451\",\"HG00475\",\"HG02240\",\"HG01706\",\"HG00565\",\"NA12004\",\"HG04228\",\"HG03237\",\"HG03487\",\"NA07014\",\"HG00664\",\"HG00578\",\"HG02660\",\"HG01532\",\"HG02588\",\"HG02696\",\"HG01778\",\"HG01947\",\"HG01198\",\"HG01351\",\"NA12751\",\"HG03055\",\"HG02237\",\"HG00452\",\"HG00533\",\"HG02650\",\"HG02225\",\"HG01047\",\"NA12827\",\"NA12057\",\"HG02279\",\"HG01508\",\"HG01629\",\"HG02495\",\"HG00691\",\"HG00590\",\"NA10843\",\"HG02273\",\"HG00636\",\"HG01630\",\"HG01631\",\"NA19238\",\"HG00477\",\"HG01107\",\"HG03048\",\"HG03669\",\"HG02106\",\"HG00693\",\"HG01632\",\"HG01506\",\"HG01601\",\"HG03823\",\"HG01051\",\"HG00443\",\"HG01341\",\"HG01519\",\"HG01086\",\"NA19775\",\"HG04150\",\"HG00514\",\"HG02009\",\"HG01779\",\"HG02836\",\"HG01204\",\"HG01183\",\"HG00447\",\"NA12802\",\"NA19118\",\"HG04140\",\"HG01463\",\"HG03928\",\"HG03034\",\"HG03596\",\"HG03007\",\"NA12832\",\"HG02230\",\"HG00502\",\"HG01343\",\"HG02734\",\"HG01698\",\"NA19759\",\"HG01974\",\"HG02604\",\"HG01505\",\"HG03633\",\"HG03236\",\"HG01184\",\"HG03708\",\"HG02075\",\"HG00671\",\"HG03940\",\"HG02785\",\"HG02025\",\"HG00653\",\"HG00537\",\"HG03130\",\"HG02238\",\"NA11917\",\"HG01529\",\"NA12801\",\"NA07051\",\"NA10836\",\"HG01515\",\"HG02524\",\"HG01618\",\"HG03624\",\"HG01538\",\"HG02775\",\"HG03797\",\"HG01952\",\"HG01537\",\"HG01976\",\"HG02058\",\"NA19794\",\"HG02513\",\"HG01345\",\"NA19657\",\"HG02776\",\"HG00526\",\"HG04187\",\"HG04127\",\"HG01359\",\"HG02012\",\"HG01102\",\"HG03008\",\"HG03668\",\"HG00709\",\"HG01205\",\"HG03702\",\"HG01061\",\"HG01199\",\"HG02461\",\"HG03683\",\"HG00694\",\"HG00673\",\"NA19762\",\"NA19779\",\"NA10864\",\"NA19750\",\"HG00708\",\"NA19177\",\"HG00445\",\"HG01521\",\"HG03894\",\"HG02089\",\"HG02491\",\"HG03605\",\"HG01696\",\"HG00557\",\"HG03642\",\"HG01491\",\"HG01502\",\"NA19725\",\"HG00650\",\"HG03478\",\"HG01054\",\"HG02602\",\"HG01172\",\"HG01973\",\"HG02787\",\"HG02792\",\"HG01253\",\"HG03800\",\"HG03239\",\"NA18857\",\"HG02590\",\"HG01893\",\"NA19099\",\"HG02003\",\"HG01919\",\"HG02649\",\"HG04132\",\"HG01167\",\"HG00608\",\"HG00458\",\"HG01781\",\"HG03833\",\"HG03649\",\"HG02121\",\"NA20282\",\"HG02563\",\"HG00690\",\"NA10861\",\"HG01703\",\"HG02286\",\"HG03679\",\"HG01776\",\"HG03169\",\"NA06985\",\"NA19652\",\"NA19785\",\"HG04142\",\"HG00531\",\"HG01260\",\"HG02004\",\"HG01915\",\"NA12274\",\"HG02073\",\"NA19723\",\"HG01552\",\"HG00542\",\"HG01969\",\"HG01633\",\"HG00700\",\"HG00735\",\"NA19175\",\"NA12003\",\"HG01524\",\"NA19755\",\"NA10854\",\"HG00436\",\"HG00442\",\"NA12752\",\"HG03795\",\"HG02105\",\"HG01135\",\"HG01944\",\"HG02308\",\"HG03825\",\"NA12348\",\"HG02892\",\"HG01978\",\"HG01495\",\"NA19172\",\"HG00614\",\"HG02514\",\"HG03454\",\"NA19173\",\"HG00427\",\"HG03798\",\"NA12717\",\"HG02299\",\"HG03804\",\"NA19786\",\"HG01106\",\"HG00544\",\"NA18911\",\"HG03016\",\"HG03763\",\"HG01170\",\"HG00607\",\"HG02293\",\"NA12763\",\"HG03492\",\"HG00474\",\"HG00641\",\"HG03807\",\"HG01980\",\"HG01668\",\"HG01096\",\"NA20127\",\"HG00566\",\"HG04192\",\"HG02589\",\"NA19756\",\"HG01699\",\"HG02280\",\"NA12347\",\"HG03595\",\"HG02259\",\"NA18925\",\"HG02662\",\"HG03727\",\"NA12275\",\"HG00444\",\"HG03805\",\"NA06993\",\"HG01173\",\"HG02596\",\"NA18868\",\"HG03342\",\"HG03309\",\"HG02076\",\"HG00579\",\"HG01993\",\"NA12156\",\"HG00597\",\"HG04227\",\"HG01946\",\"HG00628\",\"HG00595\",\"HG00610\",\"HG02683\",\"HG02701\",\"HG03306\",\"HG04148\",\"HG00672\",\"HG03929\",\"HG01984\",\"HG02147\",\"HG03732\",\"HG01938\",\"HG02679\",\"HG02069\",\"HG00538\",\"NA18507\",\"HG00736\",\"NA19174\",\"HG01433\",\"HG01522\",\"HG02085\",\"HG00684\",\"HG02302\",\"HG01528\",\"HG02132\",\"NA10839\",\"NA12890\",\"NA19154\",\"NA12843\",\"HG01746\",\"HG01523\",\"HG03607\",\"HG00652\",\"NA19656\",\"HG01959\",\"HG01669\",\"HG03251\",\"HG02070\",\"HG02652\",\"HG00420\",\"NA18875\",\"HG01182\",\"HG02814\",\"HG01775\",\"HG01705\",\"HG03684\",\"HG01604\",\"HG01988\",\"HG00609\",\"NA12400\",\"HG04160\",\"NA19226\",\"HG02783\",\"HG00405\",\"HG03704\",\"HG01457\",\"HG03191\",\"HG03195\",\"HG00560\",\"HG03229\",\"NA12386\",\"HG02074\",\"HG03006\",\"HG02970\",\"HG03304\",\"HG02769\",\"HG02261\",\"HG01708\",\"HG02614\",\"HG01365\",\"HG02260\",\"NA18869\",\"HG01113\",\"HG02002\",\"HG01991\",\"HG01111\",\"HG03230\",\"NA12546\",\"HG03801\",\"HG00580\",\"HG02692\",\"HG03234\",\"HG00662\",\"HG02861\",\"HG02072\",\"HG01095\",\"HG02657\",\"HG01081\",\"NA07357\",\"HG01526\",\"HG02729\",\"HG01350\",\"HG02285\",\"NA19122\",\"HG02737\",\"HG01108\",\"HG00450\",\"NA07037\",\"HG01354\",\"HG02653\",\"HG01110\",\"HG01611\",\"HG03721\",\"HG04100\",\"HG04229\",\"NA19704\",\"HG01494\",\"NA19729\",\"NA19683\",\"HG00404\",\"HG02774\",\"HG01709\",\"HG04141\",\"NA19682\",\"NA12344\",\"HG01100\",\"HG00465\",\"HG03700\",\"NA19761\",\"HG03908\",\"NA12878\",\"HG03651\",\"HG01190\",\"HG03761\",\"HG02120\",\"HG02126\",\"HG03803\",\"NA19171\",\"NA18500\",\"NA11881\",\"HG03114\",\"HG03299\",\"NA12891\",\"NA19923\",\"HG03050\",\"HG03620\",\"NA19146\",\"HG02068\",\"HG01367\",\"HG03247\",\"HG01628\",\"HG00620\",\"HG00612\",\"HG00513\",\"HG02024\",\"HG00705\",\"HG01982\",\"HG01136\",\"NA12767\",\"HG02700\",\"HG00596\",\"NA18859\",\"HG02077\",\"HG01572\",\"HG02143\",\"HG03240\",\"HG01352\",\"HG02028\",\"HG03049\",\"HG02571\",\"HG00732\",\"HG01711\",\"HG00734\",\"HG01916\",\"HG02702\",\"HG01748\",\"HG02521\",\"NA18924\",\"HG00639\",\"HG01249\",\"HG03654\",\"HG02699\",\"HG02811\",\"HG00615\",\"HG01887\",\"HG02977\",\"NA19138\",\"HG03250\",\"HG03725\",\"NA18934\",\"HG00702\",\"HG03116\",\"HG04122\",\"HG02082\",\"HG01922\",\"HG00407\",\"HG02027\",\"HG01579\",\"NA19152\",\"NA19718\",\"HG02728\",\"NA07029\",\"NA19908\",\"HG01983\",\"HG01695\",\"HG00554\",\"HG02983\",\"HG01241\",\"HG01114\",\"HG02869\",\"HG03296\",\"HG00584\",\"HG01378\",\"HG02090\",\"HG02587\",\"NA12892\",\"HG01390\",\"HG02852\",\"HG00406\",\"NA11930\",\"HG01920\",\"HG02015\",\"NA18484\",\"HG03641\",\"NA19123\",\"HG00699\",\"HG01762\",\"NA19120\",\"HG02773\",\"HG00446\",\"NA19658\",\"HG02059\",\"HG01056\",\"HG01923\",\"HG03160\",\"HG01577\",\"HG00448\",\"HG03701\",\"HG01356\",\"HG01936\",\"HG02493\",\"HG00421\",\"HG02794\",\"HG01517\",\"HG01176\",\"HG03927\",\"HG02723\",\"HG02083\",\"HG01927\",\"HG01780\",\"HG02884\",\"NA12234\",\"HG00704\",\"HG03368\",\"HG03915\",\"HG00621\",\"NA19684\",\"HG02272\",\"HG02691\",\"HG02809\",\"HG02016\",\"HG02976\",\"HG01756\",\"HG01918\",\"NA12889\",\"HG02271\",\"HG02573\",\"HG01124\",\"NA06994\",\"HG02678\",\"HG00437\",\"HG03295\",\"HG01987\",\"HG02032\",\"HG03369\",\"NA19191\",\"HG01924\",\"NA07000\",\"HG03366\",\"HG02071\",\"HG01605\",\"HG02019\",\"HG03617\",\"HG01254\",\"HG01103\",\"HG02815\",\"HG02677\",\"HG01968\",\"NA19102\",\"HG02465\",\"NA19730\",\"HG02449\",\"HG02655\",\"HG02659\",\"HG02291\",\"HG03132\",\"HG03303\",\"NA19139\",\"HG02687\",\"HG02890\",\"HG00463\",\"HG03297\",\"HG01104\",\"HG02079\",\"HG02784\",\"HG03479\",\"HG01272\",\"HG02031\",\"NA12828\",\"NA18853\",\"HG02804\",\"HG02017\",\"HG02130\",\"HG01456\",\"NA19717\",\"NA12877\",\"HG01520\",\"HG03064\",\"HG02585\",\"NA19103\",\"HG01972\",\"HG01612\",\"HG00692\",\"HG02793\",\"HG01998\",\"HG03618\",\"NA12777\",\"HG02789\",\"HG02807\",\"HG03914\",\"HG01080\",\"NA19655\",\"HG03925\",\"HG02656\",\"HG03705\",\"HG02768\",\"HG01967\",\"NA20279\",\"HG03125\",\"HG02885\",\"HG03374\",\"HG02680\",\"HG01997\",\"NA12778\",\"HG03452\",\"HG02300\",\"HG00438\",\"NA19675\",\"HG04133\",\"NA19720\",\"NA19917\",\"HG02689\",\"NA19983\",\"HG02078\",\"NA12760\",\"HG03639\",\"HG01391\",\"HG03025\",\"HG03260\",\"HG02316\",\"HG00459\",\"NA19772\",\"HG01259\",\"HG03703\",\"HG01571\",\"HG03538\",\"HG02145\",\"HG01500\",\"HG03112\",\"NA18862\",\"NA19213\",\"NA12817\",\"NA12842\",\"HG00689\",\"HG00423\",\"NA20356\",\"NA18914\",\"NA19705\",\"HG02715\",\"HG02871\",\"HG03117\",\"HG03652\",\"HG01755\",\"HG01261\",\"HG02821\",\"NA18486\",\"HG02084\",\"HG02236\",\"HG03096\",\"HG03301\",\"HG02463\",\"HG00577\",\"HG03238\",\"HG04159\",\"HG01960\",\"HG02786\",\"HG01055\",\"NA19127\",\"HG02975\",\"HG01189\",\"HG01101\",\"HG03305\",\"HG01187\",\"HG02080\",\"HG03814\",\"HG03762\",\"HG00536\",\"HG03719\",\"HG02137\",\"HG02081\",\"HG02020\",\"HG00593\",\"HG02770\",\"HG01461\",\"NA19119\",\"HG02057\",\"NA19770\",\"HG01073\",\"HG03806\",\"NA19129\",\"NA19131\",\"NA18863\",\"NA19148\",\"HG01379\",\"HG00478\",\"HG00403\",\"NA11993\",\"HG00553\",\"NA19114\",\"HG02760\",\"HG00707\",\"HG03653\",\"HG03896\",\"HG03310\",\"HG02134\",\"NA19236\",\"HG03616\",\"HG03578\",\"HG01881\",\"HG02953\",\"NA19702\",\"HG01243\",\"HG02716\",\"NA18499\",\"NA19153\",\"HG02010\",\"HG03298\",\"HG00655\",\"HG03015\",\"NA18913\",\"HG02681\",\"HG00637\",\"HG02763\",\"HG01578\",\"HG02281\",\"NA18520\",\"HG02314\",\"HG02771\",\"HG03159\",\"HG02634\",\"HG01694\",\"NA19653\",\"HG01551\",\"NA18917\",\"HG00418\",\"HG03300\",\"HG02837\",\"NA19235\",\"HG02978\",\"HG02676\",\"NA18501\",\"HG02644\",\"NA18497\",\"NA19092\",\"HG02013\",\"HG00422\",\"HG03124\",\"HG03707\",\"HG02623\",\"HG03480\",\"NA19095\",\"HG03136\",\"HG03944\",\"HG02947\",\"NA19728\",\"NA18856\",\"HG03129\",\"HG02014\",\"NA19789\",\"HG02726\",\"HG00480\",\"HG03024\",\"NA19117\",\"HG00654\",\"HG04036\",\"NA19771\",\"NA19115\",\"NA18910\",\"HG03992\",\"HG02635\",\"HG03017\",\"HG02008\",\"HG02675\",\"NA19700\",\"NA19101\",\"HG01573\",\"HG01886\",\"NA19701\",\"HG02317\",\"HG02818\",\"HG03100\",\"HG01109\",\"HG02654\",\"HG03470\",\"NA18498\",\"HG02277\",\"HG00464\",\"HG03258\",\"NA12815\",\"HG01981\",\"HG03522\",\"HG04149\",\"HG02594\",\"HG03123\",\"HG00592\",\"NA19247\",\"HG01376\",\"HG03242\",\"HG02854\",\"HG03115\",\"HG03373\",\"NA19151\",\"NA19150\",\"HG02948\",\"HG03484\",\"NA19214\",\"HG03134\",\"HG02817\",\"HG00479\",\"NA19776\",\"NA19205\",\"HG03491\",\"HG01897\",\"HG03485\",\"HG02610\",\"HG02615\",\"HG03135\",\"HG03311\",\"HG03035\",\"HG02721\",\"NA18909\",\"HG03926\",\"HG02886\",\"HG02812\",\"NA12145\",\"HG01889\",\"HG03351\",\"HG02965\",\"HG01361\",\"HG02026\",\"NA19176\",\"NA19189\",\"HG02315\",\"HG03540\",\"HG01934\",\"NA20358\",\"NA19190\",\"HG03699\",\"HG02819\",\"NA19186\",\"NA18855\",\"HG02661\",\"NA19240\",\"NA19207\",\"NA19215\",\"HG02586\",\"HG01242\",\"NA18923\",\"HG00472\",\"HG03575\",\"HG03832\",\"HG03127\",\"NA19982\",\"NA19919\",\"NA19159\",\"HG02645\",\"HG02838\",\"HG02318\",\"NA18930\",\"NA19132\",\"NA19199\",\"HG03120\",\"HG02855\",\"NA19659\",\"NA19116\",\"HG03308\",\"HG03539\",\"NA19836\",\"HG02896\",\"HG02761\",\"NA19901\",\"HG02974\",\"HG02841\",\"HG03259\",\"HG02258\",\"HG01274\",\"HG02646\",\"HG03456\",\"HG01958\",\"HG02724\",\"HG02973\",\"HG02946\",\"HG02853\",\"HG02688\",\"NA19160\",\"NA18933\",\"HG02878\",\"NA19204\",\"HG01882\",\"HG02922\",\"HG00594\",\"HG02464\",\"HG03815\",\"HG02621\",\"NA18854\",\"NA19107\",\"HG03190\",\"HG02883\",\"HG03163\",\"NA18876\",\"HG01431\",\"NA19147\",\"HG03270\",\"HG03793\",\"NA19828\",\"HG01989\",\"HG03367\",\"HG03302\",\"HG02882\",\"HG03943\",\"HG02029\",\"HG03118\",\"HG03640\",\"HG02806\",\"HG02462\",\"HG02979\",\"NA18502\",\"HG02897\",\"HG02791\",\"HG01933\",\"NA19094\",\"HG03343\",\"HG03199\",\"HG03028\",\"HG02282\",\"HG02629\",\"NA18519\",\"NA18860\",\"HG00706\",\"HG02611\",\"HG03040\",\"HG02881\",\"HG02666\",\"HG03271\",\"HG03722\",\"NA19201\",\"HG03269\",\"NA19257\",\"HG02879\",\"HG02971\",\"HG02011\",\"HG02321\",\"HG02055\",\"NA19108\",\"NA19248\",\"HG01607\",\"NA19128\",\"NA19223\",\"HG02984\",\"HG02642\",\"HG02624\",\"HG01912\",\"HG03294\",\"NA19200\",\"HG03582\",\"HG02895\",\"HG02840\",\"HG02762\",\"HG03109\",\"HG02298\",\"NA18873\",\"HG03137\",\"HG01137\",\"HG02054\",\"NA19203\",\"HG03111\",\"HG03161\",\"NA19140\",\"HG02466\",\"NA18487\",\"HG03514\",\"NA19161\",\"HG02808\",\"HG03314\",\"HG02891\",\"NA19835\",\"HG01255\",\"NA19258\",\"HG02451\",\"HG02725\",\"NA18871\",\"HG01360\",\"HG03519\",\"NA19198\",\"HG02144\",\"HG02257\",\"HG01971\",\"HG03122\",\"HG03046\",\"HG01105\",\"HG03520\",\"HG02887\",\"NA18518\",\"HG02810\",\"HG02643\",\"HG03455\",\"HG03576\",\"HG03579\",\"HG02450\",\"HG03045\",\"HG02255\",\"HG02053\",\"HG03451\",\"HG02595\",\"HG03168\",\"HG03056\",\"NA19206\",\"HG01896\",\"HG02943\",\"NA19237\",\"HG02647\",\"NA18861\",\"HG02630\",\"HG01375\",\"NA19222\",\"NA18505\",\"NA18852\",\"NA18517\",\"HG03026\",\"HG02668\",\"HG02572\",\"HG01890\",\"NA18489\",\"HG02799\",\"HG02888\",\"HG02622\",\"HG02772\",\"HG03162\",\"NA19918\",\"HG03033\",\"HG03453\",\"HG03128\",\"HG02954\",\"HG01894\",\"NA18867\",\"HG01464\",\"HG02923\",\"NA19100\",\"HG02759\",\"HG02575\",\"HG01271\",\"HG01247\",\"HG03518\",\"HG03170\",\"NA20129\",\"NA19144\",\"HG03515\",\"NA19137\",\"HG03438\",\"HG03198\",\"HG02307\",\"NA19920\",\"NA18906\",\"HG02625\",\"HG02636\",\"NA19209\",\"HG03816\",\"HG02944\",\"NA18504\",\"NA19098\",\"NA18916\",\"HG03268\",\"HG02889\",\"HG02798\",\"NA19197\",\"HG03307\",\"NA18521\",\"NA19185\",\"NA19834\",\"HG02620\",\"NA18935\",\"HG02612\",\"NA19130\",\"NA18912\",\"HG03047\",\"HG03313\",\"NA19256\",\"HG03099\",\"HG01925\",\"HG03521\",\"NA18506\",\"HG03486\",\"HG03197\",\"HG03126\",\"HG02570\",\"NA19225\",\"HG01879\",\"HG01374\",\"HG01956\",\"HG02856\",\"HG03352\",\"NA19113\",\"HG03350\",\"HG03065\",\"NA18872\",\"HG02583\",\"HG03108\",\"HG03272\",\"NA19818\",\"HG02703\",\"HG01895\",\"HG03027\",\"NA19239\",\"NA19703\",\"HG03054\",\"HG03584\",\"HG01880\",\"HG03249\",\"NA19093\",\"NA18523\",\"HG02667\",\"HG03267\",\"HG02256\",\"HG02839\",\"HG02582\",\"HG02574\",\"HG03372\",\"NA19224\",\"HG03041\",\"HG03110\",\"NA18516\",\"HG02924\",\"HG02880\",\"HG01891\",\"HG02704\",\"HG02966\",\"NA19902\",\"NA18503\",\"NA19900\",\"NA18877\",\"NA19145\",\"HG02972\",\"HG03039\",\"NA18870\",\"NA19149\",\"HG02813\",\"HG03029\",\"NA19141\",\"HG01883\",\"NA19202\",\"HG02584\",\"NA19211\",\"HG03248\",\"HG03200\",\"HG02628\",\"HG03516\",\"HG01885\",\"HG02982\",\"NA19096\",\"HG03063\",\"HG02613\",\"NA19916\",\"HG02945\",\"NA19142\",\"HG03577\",\"HG01990\",\"HG02862\",\"HG02981\",\"NA18858\",\"HG02800\",\"HG03196\",\"HG02860\",\"HG03246\",\"NA19221\",\"HG03469\",\"HG01884\"],\"index\":[0,1,2,3,4,5,6,7,8,9,10,11,12,13,14,15,16,17,18,19,20,21,22,23,24,25,26,27,28,29,30,31,32,33,34,35,36,37,38,39,40,41,42,43,44,45,46,47,48,49,50,51,52,53,54,55,56,57,58,59,60,61,62,63,64,65,66,67,68,69,70,71,72,73,74,75,76,77,78,79,80,81,82,83,84,85,86,87,88,89,90,91,92,93,94,95,96,97,98,99,100,101,102,103,104,105,106,107,108,109,110,111,112,113,114,115,116,117,118,119,120,121,122,123,124,125,126,127,128,129,130,131,132,133,134,135,136,137,138,139,140,141,142,143,144,145,146,147,148,149,150,151,152,153,154,155,156,157,158,159,160,161,162,163,164,165,166,167,168,169,170,171,172,173,174,175,176,177,178,179,180,181,182,183,184,185,186,187,188,189,190,191,192,193,194,195,196,197,198,199,200,201,202,203,204,205,206,207,208,209,210,211,212,213,214,215,216,217,218,219,220,221,222,223,224,225,226,227,228,229,230,231,232,233,234,235,236,237,238,239,240,241,242,243,244,245,246,247,248,249,250,251,252,253,254,255,256,257,258,259,260,261,262,263,264,265,266,267,268,269,270,271,272,273,274,275,276,277,278,279,280,281,282,283,284,285,286,287,288,289,290,291,292,293,294,295,296,297,298,299,300,301,302,303,304,305,306,307,308,309,310,311,312,313,314,315,316,317,318,319,320,321,322,323,324,325,326,327,328,329,330,331,332,333,334,335,336,337,338,339,340,341,342,343,344,345,346,347,348,349,350,351,352,353,354,355,356,357,358,359,360,361,362,363,364,365,366,367,368,369,370,371,372,373,374,375,376,377,378,379,380,381,382,383,384,385,386,387,388,389,390,391,392,393,394,395,396,397,398,399,400,401,402,403,404,405,406,407,408,409,410,411,412,413,414,415,416,417,418,419,420,421,422,423,424,425,426,427,428,429,430,431,432,433,434,435,436,437,438,439,440,441,442,443,444,445,446,447,448,449,450,451,452,453,454,455,456,457,458,459,460,461,462,463,464,465,466,467,468,469,470,471,472,473,474,475,476,477,478,479,480,481,482,483,484,485,486,487,488,489,490,491,492,493,494,495,496,497,498,499,500,501,502,503,504,505,506,507,508,509,510,511,512,513,514,515,516,517,518,519,520,521,522,523,524,525,526,527,528,529,530,531,532,533,534,535,536,537,538,539,540,541,542,543,544,545,546,547,548,549,550,551,552,553,554,555,556,557,558,559,560,561,562,563,564,565,566,567,568,569,570,571,572,573,574,575,576,577,578,579,580,581,582,583,584,585,586,587,588,589,590,591,592,593,594,595,596,597,598,599,600,601,602,603,604,605,606,607,608,609,610,611,612,613,614,615,616,617,618,619,620,621,622,623,624,625,626,627,628,629,630,631,632,633,634,635,636,637,638,639,640,641,642,643,644,645,646,647,648,649,650,651,652,653,654,655,656,657,658,659,660,661,662,663,664,665,666,667,668,669,670,671,672,673,674,675,676,677,678,679,680,681,682,683,684,685,686,687,688,689,690,691,692,693,694,695,696,697,698,699,700,701,702,703,704,705,706,707,708,709,710,711,712,713,714,715,716,717,718,719,720,721,722,723,724,725,726,727,728,729,730,731,732,733,734,735,736,737,738,739,740,741,742,743,744,745,746,747,748,749,750,751,752,753,754,755,756,757,758,759,760,761,762,763,764,765,766,767,768,769,770,771,772,773,774,775,776,777,778,779,780,781,782,783,784,785,786,787,788,789,790,791,792,793,794,795,796,797,798,799,800,801,802,803,804,805,806,807,808,809,810,811,812,813,814,815,816,817,818,819,820,821,822,823,824,825,826,827,828,829,830,831,832,833,834,835,836,837,838,839,840,841,842,843,844,845,846,847,848,849,850,851,852,853,854,855,856,857,858,859,860,861,862,863,864,865,866,867,868,869,870,871,872,873,874,875,876,877,878,879,880,881,882,883,884,885,886,887,888,889,890,891,892,893,894,895,896,897,898,899,900,901,902,903,904,905,906,907,908,909,910,911,912,913,914,915,916,917,918,919,920,921,922,923,924,925,926,927,928,929,930,931,932,933,934,935,936,937,938,939,940,941,942,943,944,945,946,947,948,949,950,951,952,953,954,955,956,957,958,959,960,961,962,963,964,965,966,967,968,969,970,971,972,973,974,975,976,977,978,979,980,981,982,983,984,985,986,987,988,989,990,991,992,993,994,995,996,997,998,999,1000,1001,1002,1003,1004,1005,1006,1007,1008,1009,1010,1011,1012,1013,1014,1015,1016,1017,1018,1019,1020,1021,1022,1023,1024,1025,1026,1027,1028,1029,1030,1031,1032,1033,1034,1035,1036,1037,1038,1039,1040,1041,1042,1043,1044,1045,1046,1047,1048,1049,1050,1051,1052,1053,1054,1055,1056,1057,1058,1059,1060,1061,1062,1063,1064,1065,1066,1067,1068,1069,1070,1071,1072,1073,1074,1075,1076,1077,1078,1079,1080,1081,1082,1083,1084,1085,1086,1087,1088,1089,1090,1091,1092,1093,1094,1095,1096,1097,1098,1099,1100,1101,1102,1103,1104,1105,1106,1107,1108,1109,1110,1111,1112,1113,1114,1115,1116,1117,1118,1119,1120,1121,1122,1123,1124,1125,1126,1127,1128,1129,1130,1131,1132,1133,1134,1135,1136,1137,1138,1139,1140,1141,1142,1143,1144,1145,1146,1147,1148,1149,1150,1151,1152,1153,1154,1155,1156,1157,1158,1159,1160,1161,1162,1163,1164,1165,1166,1167,1168,1169,1170,1171,1172,1173,1174,1175,1176,1177,1178,1179,1180,1181,1182,1183,1184,1185,1186,1187,1188,1189,1190,1191,1192,1193,1194,1195,1196,1197,1198,1199,1200,1201,1202,1203,1204,1205,1206,1207,1208,1209,1210,1211,1212,1213,1214,1215,1216,1217,1218,1219,1220,1221,1222,1223,1224,1225,1226,1227,1228,1229,1230,1231,1232,1233,1234,1235,1236,1237,1238,1239,1240,1241,1242,1243,1244,1245,1246,1247,1248,1249,1250,1251,1252,1253,1254,1255,1256,1257,1258,1259,1260,1261,1262,1263,1264,1265,1266,1267,1268,1269,1270,1271,1272,1273,1274,1275,1276,1277,1278,1279,1280,1281,1282,1283,1284,1285,1286,1287,1288,1289,1290,1291,1292,1293,1294,1295,1296,1297,1298,1299,1300,1301,1302,1303,1304,1305,1306,1307,1308,1309,1310,1311,1312,1313,1314,1315,1316,1317,1318,1319,1320,1321,1322,1323,1324,1325,1326,1327,1328,1329,1330,1331,1332,1333,1334,1335,1336,1337,1338,1339,1340,1341,1342,1343,1344,1345,1346,1347,1348,1349,1350,1351,1352,1353,1354,1355,1356,1357,1358,1359,1360,1361,1362,1363,1364,1365,1366,1367,1368,1369,1370,1371,1372,1373,1374,1375,1376,1377,1378,1379,1380,1381,1382,1383,1384,1385,1386,1387,1388,1389,1390,1391,1392,1393,1394,1395,1396,1397,1398,1399,1400,1401,1402,1403,1404,1405,1406,1407,1408,1409,1410,1411,1412,1413,1414,1415,1416,1417,1418,1419,1420,1421,1422,1423,1424,1425,1426,1427,1428,1429,1430,1431,1432,1433,1434,1435,1436,1437,1438,1439,1440,1441,1442,1443,1444,1445,1446,1447,1448,1449,1450,1451,1452,1453,1454,1455,1456,1457,1458,1459,1460,1461,1462,1463,1464,1465,1466,1467,1468,1469,1470,1471,1472,1473,1474,1475,1476,1477,1478,1479,1480,1481,1482,1483,1484,1485,1486,1487,1488,1489,1490,1491,1492,1493,1494,1495,1496,1497,1498,1499,1500,1501,1502,1503,1504,1505,1506,1507,1508,1509,1510,1511,1512,1513,1514,1515,1516,1517,1518,1519,1520,1521,1522,1523,1524,1525,1526,1527,1528,1529,1530,1531,1532,1533,1534,1535,1536,1537,1538,1539,1540,1541,1542,1543,1544,1545,1546,1547,1548,1549,1550,1551,1552,1553,1554,1555,1556,1557,1558,1559,1560,1561,1562,1563,1564,1565,1566,1567,1568,1569,1570,1571,1572,1573,1574,1575,1576,1577,1578,1579,1580,1581,1582,1583,1584,1585,1586,1587,1588,1589,1590,1591,1592,1593,1594,1595,1596,1597,1598,1599,1600,1601,1602,1603,1604,1605,1606,1607,1608,1609,1610,1611,1612,1613,1614,1615,1616,1617,1618,1619,1620,1621],\"x\":{\"__ndarray__\":\"AAAAAAC4gkAAAAAAAEiEQAAAAAAAgIRAAAAAAADghEAAAAAAACCFQAAAAAAAWIVAAAAAAAB4hUAAAAAAAIiFQAAAAAAA+IVAAAAAAACYhkAAAAAAAICGQAAAAAAA6IZAAAAAAADwhkAAAAAAACiHQAAAAAAAOIdAAAAAAAAwh0AAAAAAAFCHQAAAAAAAWIdAAAAAAABAh0AAAAAAAJCHQAAAAAAAmIdAAAAAAACoh0AAAAAAAMCHQAAAAAAAwIdAAAAAAAAAiEAAAAAAAPiHQAAAAAAAAIhAAAAAAAAYiEAAAAAAADiIQAAAAAAAIIhAAAAAAABAiEAAAAAAAGiIQAAAAAAAkIhAAAAAAACYiEAAAAAAAJCIQAAAAAAAsIhAAAAAAADIiEAAAAAAANCIQAAAAAAA+IhAAAAAAAD4iEAAAAAAACiJQAAAAAAAKIlAAAAAAABgiUAAAAAAAGiJQAAAAAAAWIlAAAAAAABQiUAAAAAAAICJQAAAAAAAcIlAAAAAAACQiUAAAAAAAKiJQAAAAAAAyIlAAAAAAADQiUAAAAAAAMCJQAAAAAAA2IlAAAAAAAAAikAAAAAAAACKQAAAAAAAQIpAAAAAAABQikAAAAAAAFiKQAAAAAAAaIpAAAAAAACIikAAAAAAALCKQAAAAAAAoIpAAAAAAADAikAAAAAAANCKQAAAAAAA2IpAAAAAAADoikAAAAAAAPCKQAAAAAAA8IpAAAAAAADwikAAAAAAACCLQAAAAAAACItAAAAAAAAIi0AAAAAAADiLQAAAAAAAKItAAAAAAAAwi0AAAAAAADCLQAAAAAAASItAAAAAAABQi0AAAAAAAGiLQAAAAAAAaItAAAAAAABwi0AAAAAAAGiLQAAAAAAAcItAAAAAAABgi0AAAAAAAICLQAAAAAAAkItAAAAAAACIi0AAAAAAAIiLQAAAAAAAgItAAAAAAACoi0AAAAAAAJiLQAAAAAAAoItAAAAAAAC4i0AAAAAAALCLQAAAAAAAwItAAAAAAAC4i0AAAAAAAMCLQAAAAAAA0ItAAAAAAADQi0AAAAAAANCLQAAAAAAA2ItAAAAAAADQi0AAAAAAANCLQAAAAAAAAIxAAAAAAADwi0AAAAAAAACMQAAAAAAAOIxAAAAAAAA4jEAAAAAAADCMQAAAAAAAOIxAAAAAAABAjEAAAAAAAFCMQAAAAAAAQIxAAAAAAABAjEAAAAAAAFCMQAAAAAAAcIxAAAAAAACAjEAAAAAAAHiMQAAAAAAAoIxAAAAAAACgjEAAAAAAAJCMQAAAAAAAkIxAAAAAAACgjEAAAAAAAKCMQAAAAAAAsIxAAAAAAACojEAAAAAAALiMQAAAAAAAyIxAAAAAAADIjEAAAAAAANiMQAAAAAAA0IxAAAAAAADYjEAAAAAAAMiMQAAAAAAA8IxAAAAAAAD4jEAAAAAAAOiMQAAAAAAA6IxAAAAAAADojEAAAAAAAPiMQAAAAAAA8IxAAAAAAAD4jEAAAAAAAAiNQAAAAAAAEI1AAAAAAAAQjUAAAAAAAAiNQAAAAAAAEI1AAAAAAAAAjUAAAAAAABiNQAAAAAAAMI1AAAAAAAAYjUAAAAAAACCNQAAAAAAAKI1AAAAAAAAgjUAAAAAAACCNQAAAAAAAKI1AAAAAAABAjUAAAAAAADiNQAAAAAAAQI1AAAAAAAA4jUAAAAAAAEiNQAAAAAAAOI1AAAAAAABojUAAAAAAAGCNQAAAAAAAaI1AAAAAAABgjUAAAAAAAFCNQAAAAAAAcI1AAAAAAAB4jUAAAAAAAICNQAAAAAAAgI1AAAAAAAB4jUAAAAAAAHCNQAAAAAAAgI1AAAAAAACIjUAAAAAAAJiNQAAAAAAAkI1AAAAAAACQjUAAAAAAAJiNQAAAAAAAoI1AAAAAAACQjUAAAAAAAIiNQAAAAAAAqI1AAAAAAAC4jUAAAAAAALiNQAAAAAAAuI1AAAAAAACojUAAAAAAALiNQAAAAAAAsI1AAAAAAACwjUAAAAAAANCNQAAAAAAAwI1AAAAAAADAjUAAAAAAAMiNQAAAAAAAwI1AAAAAAADAjUAAAAAAAPCNQAAAAAAA2I1AAAAAAADYjUAAAAAAAPiNQAAAAAAAAI5AAAAAAAAIjkAAAAAAAAiOQAAAAAAA+I1AAAAAAAAIjkAAAAAAAAiOQAAAAAAAEI5AAAAAAAAgjkAAAAAAACCOQAAAAAAAKI5AAAAAAAAojkAAAAAAADCOQAAAAAAAQI5AAAAAAABAjkAAAAAAADCOQAAAAAAAQI5AAAAAAABAjkAAAAAAAECOQAAAAAAAQI5AAAAAAAA4jkAAAAAAADCOQAAAAAAAQI5AAAAAAAAwjkAAAAAAAECOQAAAAAAAWI5AAAAAAABIjkAAAAAAAFCOQAAAAAAAUI5AAAAAAABQjkAAAAAAAFiOQAAAAAAAWI5AAAAAAABIjkAAAAAAAFCOQAAAAAAAcI5AAAAAAABwjkAAAAAAAGiOQAAAAAAAcI5AAAAAAABwjkAAAAAAAHCOQAAAAAAAaI5AAAAAAABojkAAAAAAAGiOQAAAAAAAcI5AAAAAAAB4jkAAAAAAAICOQAAAAAAAiI5AAAAAAACAjkAAAAAAAJiOQAAAAAAAiI5AAAAAAACQjkAAAAAAAIiOQAAAAAAAsI5AAAAAAACgjkAAAAAAALCOQAAAAAAAoI5AAAAAAACwjkAAAAAAAKiOQAAAAAAAsI5AAAAAAADIjkAAAAAAALiOQAAAAAAAwI5AAAAAAADAjkAAAAAAANCOQAAAAAAAuI5AAAAAAADIjkAAAAAAANCOQAAAAAAA0I5AAAAAAADIjkAAAAAAAOiOQAAAAAAA6I5AAAAAAADYjkAAAAAAANiOQAAAAAAACI9AAAAAAAAAj0AAAAAAAACPQAAAAAAAAI9AAAAAAAAIj0AAAAAAAAiPQAAAAAAAEI9AAAAAAAAgj0AAAAAAABiPQAAAAAAAEI9AAAAAAAAQj0AAAAAAADCPQAAAAAAAKI9AAAAAAAAoj0AAAAAAAEiPQAAAAAAAUI9AAAAAAABQj0AAAAAAAFiPQAAAAAAASI9AAAAAAABIj0AAAAAAAEiPQAAAAAAAaI9AAAAAAABoj0AAAAAAAHCPQAAAAAAAYI9AAAAAAABoj0AAAAAAAHCPQAAAAAAAaI9AAAAAAACAj0AAAAAAAHiPQAAAAAAAkI9AAAAAAACIj0AAAAAAAJCPQAAAAAAAeI9AAAAAAAB4j0AAAAAAAJCPQAAAAAAAgI9AAAAAAACAj0AAAAAAAHiPQAAAAAAAkI9AAAAAAACQj0AAAAAAAICPQAAAAAAAkI9AAAAAAACgj0AAAAAAAKiPQAAAAAAAqI9AAAAAAACgj0AAAAAAAKCPQAAAAAAAyI9AAAAAAADIj0AAAAAAALCPQAAAAAAAyI9AAAAAAADIj0AAAAAAAMiPQAAAAAAAwI9AAAAAAACwj0AAAAAAANiPQAAAAAAA0I9AAAAAAADQj0AAAAAAANiPQAAAAAAA6I9AAAAAAADoj0AAAAAAAACQQAAAAAAAAJBAAAAAAAAAkEAAAAAAAACQQAAAAAAA+I9AAAAAAAAAkEAAAAAAAACQQAAAAAAA8I9AAAAAAAAEkEAAAAAAAAiQQAAAAAAABJBAAAAAAAAMkEAAAAAAAASQQAAAAAAACJBAAAAAAAAMkEAAAAAAAASQQAAAAAAABJBAAAAAAAAIkEAAAAAAAAiQQAAAAAAADJBAAAAAAAAUkEAAAAAAAByQQAAAAAAAFJBAAAAAAAAQkEAAAAAAACSQQAAAAAAAJJBAAAAAAAAgkEAAAAAAACSQQAAAAAAAJJBAAAAAAAAokEAAAAAAACCQQAAAAAAAMJBAAAAAAAAskEAAAAAAADCQQAAAAAAANJBAAAAAAAAwkEAAAAAAADCQQAAAAAAARJBAAAAAAAA4kEAAAAAAAECQQAAAAAAAPJBAAAAAAABAkEAAAAAAAECQQAAAAAAARJBAAAAAAAA8kEAAAAAAAECQQAAAAAAAOJBAAAAAAABEkEAAAAAAADiQQAAAAAAAQJBAAAAAAABAkEAAAAAAADyQQAAAAAAAQJBAAAAAAABIkEAAAAAAAEyQQAAAAAAAUJBAAAAAAABQkEAAAAAAAFCQQAAAAAAAUJBAAAAAAABMkEAAAAAAAEiQQAAAAAAATJBAAAAAAABMkEAAAAAAAGCQQAAAAAAAYJBAAAAAAABYkEAAAAAAAFyQQAAAAAAAXJBAAAAAAABUkEAAAAAAAGCQQAAAAAAAYJBAAAAAAABgkEAAAAAAAGyQQAAAAAAAZJBAAAAAAABskEAAAAAAAGyQQAAAAAAAaJBAAAAAAABskEAAAAAAAHyQQAAAAAAAeJBAAAAAAAB8kEAAAAAAAHSQQAAAAAAAdJBAAAAAAAB0kEAAAAAAAHiQQAAAAAAAdJBAAAAAAAB8kEAAAAAAAHyQQAAAAAAAeJBAAAAAAAB8kEAAAAAAAICQQAAAAAAAhJBAAAAAAACEkEAAAAAAAISQQAAAAAAAhJBAAAAAAACIkEAAAAAAAJSQQAAAAAAAkJBAAAAAAACYkEAAAAAAAIyQQAAAAAAAmJBAAAAAAACUkEAAAAAAAJCQQAAAAAAAkJBAAAAAAACMkEAAAAAAAJSQQAAAAAAAkJBAAAAAAACgkEAAAAAAAJyQQAAAAAAAnJBAAAAAAACkkEAAAAAAAJyQQAAAAAAAoJBAAAAAAACckEAAAAAAAKCQQAAAAAAAoJBAAAAAAACckEAAAAAAALSQQAAAAAAAsJBAAAAAAACwkEAAAAAAAKiQQAAAAAAAsJBAAAAAAACskEAAAAAAALSQQAAAAAAAtJBAAAAAAAC8kEAAAAAAALiQQAAAAAAAwJBAAAAAAAC8kEAAAAAAALyQQAAAAAAAwJBAAAAAAAC4kEAAAAAAANCQQAAAAAAAxJBAAAAAAADMkEAAAAAAAMSQQAAAAAAA3JBAAAAAAADckEAAAAAAANSQQAAAAAAA1JBAAAAAAADckEAAAAAAANiQQAAAAAAA2JBAAAAAAADYkEAAAAAAANSQQAAAAAAA4JBAAAAAAADokEAAAAAAAOSQQAAAAAAA4JBAAAAAAADokEAAAAAAAOiQQAAAAAAA4JBAAAAAAADwkEAAAAAAAPiQQAAAAAAA+JBAAAAAAADwkEAAAAAAAOyQQAAAAAAA9JBAAAAAAADwkEAAAAAAAACRQAAAAAAA/JBAAAAAAAAAkUAAAAAAAPyQQAAAAAAAAJFAAAAAAAD8kEAAAAAAAACRQAAAAAAAFJFAAAAAAAAIkUAAAAAAABSRQAAAAAAAEJFAAAAAAAAUkUAAAAAAAAyRQAAAAAAACJFAAAAAAAAMkUAAAAAAABiRQAAAAAAAGJFAAAAAAAAgkUAAAAAAACyRQAAAAAAALJFAAAAAAAAwkUAAAAAAADCRQAAAAAAAMJFAAAAAAAAwkUAAAAAAACyRQAAAAAAAMJFAAAAAAAAwkUAAAAAAACSRQAAAAAAAPJFAAAAAAAA4kUAAAAAAADiRQAAAAAAAOJFAAAAAAAA8kUAAAAAAADyRQAAAAAAANJFAAAAAAAA4kUAAAAAAADiRQAAAAAAASJFAAAAAAABAkUAAAAAAAEiRQAAAAAAARJFAAAAAAABAkUAAAAAAAEiRQAAAAAAATJFAAAAAAABMkUAAAAAAAECRQAAAAAAATJFAAAAAAABMkUAAAAAAAECRQAAAAAAASJFAAAAAAABEkUAAAAAAAFCRQAAAAAAAWJFAAAAAAABUkUAAAAAAAFSRQAAAAAAAVJFAAAAAAABYkUAAAAAAAFCRQAAAAAAAUJFAAAAAAABYkUAAAAAAAFSRQAAAAAAAWJFAAAAAAABQkUAAAAAAAFSRQAAAAAAAaJFAAAAAAABckUAAAAAAAGSRQAAAAAAAZJFAAAAAAABgkUAAAAAAAFyRQAAAAAAAaJFAAAAAAABkkUAAAAAAAGSRQAAAAAAAYJFAAAAAAABwkUAAAAAAAHSRQAAAAAAAcJFAAAAAAABskUAAAAAAAHSRQAAAAAAAcJFAAAAAAAB0kUAAAAAAAGyRQAAAAAAAbJFAAAAAAAB0kUAAAAAAAHSRQAAAAAAAdJFAAAAAAABwkUAAAAAAAHSRQAAAAAAAhJFAAAAAAACAkUAAAAAAAHiRQAAAAAAAgJFAAAAAAAB4kUAAAAAAAHiRQAAAAAAAkJFAAAAAAACIkUAAAAAAAIyRQAAAAAAAjJFAAAAAAACIkUAAAAAAAJCRQAAAAAAAiJFAAAAAAACckUAAAAAAAJyRQAAAAAAAnJFAAAAAAACckUAAAAAAAJSRQAAAAAAAlJFAAAAAAACckUAAAAAAAJyRQAAAAAAAmJFAAAAAAACYkUAAAAAAAJyRQAAAAAAAmJFAAAAAAACckUAAAAAAAKiRQAAAAAAApJFAAAAAAACgkUAAAAAAAKSRQAAAAAAAoJFAAAAAAACgkUAAAAAAAKSRQAAAAAAArJFAAAAAAACkkUAAAAAAAKiRQAAAAAAAoJFAAAAAAACskUAAAAAAAKSRQAAAAAAArJFAAAAAAACokUAAAAAAAKSRQAAAAAAAuJFAAAAAAAC4kUAAAAAAALCRQAAAAAAAsJFAAAAAAAC0kUAAAAAAALSRQAAAAAAAyJFAAAAAAADIkUAAAAAAAMCRQAAAAAAAxJFAAAAAAADEkUAAAAAAALyRQAAAAAAAxJFAAAAAAAC8kUAAAAAAALyRQAAAAAAAwJFAAAAAAADAkUAAAAAAAMSRQAAAAAAAxJFAAAAAAADUkUAAAAAAAMyRQAAAAAAA1JFAAAAAAADUkUAAAAAAANCRQAAAAAAA1JFAAAAAAADMkUAAAAAAAMyRQAAAAAAA5JFAAAAAAADYkUAAAAAAANiRQAAAAAAA3JFAAAAAAADkkUAAAAAAAOSRQAAAAAAA3JFAAAAAAADckUAAAAAAANyRQAAAAAAA3JFAAAAAAADgkUAAAAAAAOSRQAAAAAAA2JFAAAAAAADkkUAAAAAAANiRQAAAAAAA5JFAAAAAAADgkUAAAAAAAOSRQAAAAAAA4JFAAAAAAADwkUAAAAAAAOiRQAAAAAAA7JFAAAAAAADskUAAAAAAAOyRQAAAAAAA7JFAAAAAAAD0kUAAAAAAAPiRQAAAAAAA9JFAAAAAAAD0kUAAAAAAAPyRQAAAAAAA/JFAAAAAAAD0kUAAAAAAAPiRQAAAAAAA9JFAAAAAAAD8kUAAAAAAAPSRQAAAAAAA9JFAAAAAAAD4kUAAAAAAAACSQAAAAAAACJJAAAAAAAAMkkAAAAAAAAySQAAAAAAACJJAAAAAAAAMkkAAAAAAAAySQAAAAAAADJJAAAAAAAAIkkAAAAAAAASSQAAAAAAABJJAAAAAAAAEkkAAAAAAAASSQAAAAAAABJJAAAAAAAAMkkAAAAAAABCSQAAAAAAAEJJAAAAAAAAYkkAAAAAAABySQAAAAAAAFJJAAAAAAAAQkkAAAAAAABCSQAAAAAAAGJJAAAAAAAAYkkAAAAAAABySQAAAAAAAFJJAAAAAAAAUkkAAAAAAACCSQAAAAAAAKJJAAAAAAAAkkkAAAAAAACCSQAAAAAAAJJJAAAAAAAAokkAAAAAAACCSQAAAAAAAJJJAAAAAAAAkkkAAAAAAADCSQAAAAAAANJJAAAAAAAA4kkAAAAAAACySQAAAAAAANJJAAAAAAAA0kkAAAAAAADiSQAAAAAAAOJJAAAAAAAAwkkAAAAAAACySQAAAAAAAMJJAAAAAAAAwkkAAAAAAADSSQAAAAAAAQJJAAAAAAABEkkAAAAAAAESSQAAAAAAAPJJAAAAAAABAkkAAAAAAADySQAAAAAAARJJAAAAAAAA8kkAAAAAAAESSQAAAAAAAPJJAAAAAAABAkkAAAAAAADySQAAAAAAATJJAAAAAAABQkkAAAAAAAEiSQAAAAAAASJJAAAAAAABQkkAAAAAAAEiSQAAAAAAASJJAAAAAAABIkkAAAAAAAEiSQAAAAAAAUJJAAAAAAABQkkAAAAAAAFCSQAAAAAAASJJAAAAAAABQkkAAAAAAAFySQAAAAAAAVJJAAAAAAABgkkAAAAAAAFSSQAAAAAAAYJJAAAAAAABUkkAAAAAAAFiSQAAAAAAAYJJAAAAAAABckkAAAAAAAFiSQAAAAAAAYJJAAAAAAABYkkAAAAAAAGCSQAAAAAAAYJJAAAAAAABUkkAAAAAAAGSSQAAAAAAAaJJAAAAAAABskkAAAAAAAGiSQAAAAAAAZJJAAAAAAABskkAAAAAAAGSSQAAAAAAAZJJAAAAAAABkkkAAAAAAAGySQAAAAAAAdJJAAAAAAAB0kkAAAAAAAHCSQAAAAAAAdJJAAAAAAAB0kkAAAAAAAHySQAAAAAAAdJJAAAAAAAB8kkAAAAAAAHiSQAAAAAAAfJJAAAAAAAB4kkAAAAAAAISSQAAAAAAAgJJAAAAAAACAkkAAAAAAAISSQAAAAAAAiJJAAAAAAACEkkAAAAAAAIiSQAAAAAAAgJJAAAAAAACUkkAAAAAAAJSSQAAAAAAAlJJAAAAAAACMkkAAAAAAAJiSQAAAAAAAmJJAAAAAAACUkkAAAAAAAIySQAAAAAAAmJJAAAAAAACMkkAAAAAAAJSSQAAAAAAAjJJAAAAAAACQkkAAAAAAAJiSQAAAAAAAoJJAAAAAAACkkkAAAAAAAKCSQAAAAAAAnJJAAAAAAACgkkAAAAAAAKySQAAAAAAArJJAAAAAAACwkkAAAAAAAKiSQAAAAAAAsJJAAAAAAACskkAAAAAAALCSQAAAAAAArJJAAAAAAACskkAAAAAAALCSQAAAAAAArJJAAAAAAACskkAAAAAAALSSQAAAAAAAvJJAAAAAAADAkkAAAAAAALiSQAAAAAAAuJJAAAAAAADAkkAAAAAAALiSQAAAAAAAxJJAAAAAAADMkkAAAAAAANCSQAAAAAAAzJJAAAAAAADMkkAAAAAAAMiSQAAAAAAA0JJAAAAAAADIkkAAAAAAAMiSQAAAAAAA0JJAAAAAAADQkkAAAAAAAMiSQAAAAAAAxJJAAAAAAADEkkAAAAAAANiSQAAAAAAA1JJAAAAAAADckkAAAAAAANySQAAAAAAA1JJAAAAAAADckkAAAAAAANiSQAAAAAAA2JJAAAAAAADYkkAAAAAAANiSQAAAAAAA4JJAAAAAAADgkkAAAAAAAOiSQAAAAAAA6JJAAAAAAADgkkAAAAAAAOSSQAAAAAAA5JJAAAAAAADokkAAAAAAAOSSQAAAAAAA4JJAAAAAAADokkAAAAAAAOiSQAAAAAAA7JJAAAAAAADskkAAAAAAAPCSQAAAAAAA+JJAAAAAAADskkAAAAAAAPCSQAAAAAAA+JJAAAAAAAD4kkAAAAAAAPiSQAAAAAAA7JJAAAAAAADskkAAAAAAAPiSQAAAAAAA+JJAAAAAAAD0kkAAAAAAAOySQAAAAAAABJNAAAAAAAAAk0AAAAAAAACTQAAAAAAA/JJAAAAAAAAEk0AAAAAAAPySQAAAAAAAAJNAAAAAAAAAk0AAAAAAAPySQAAAAAAA/JJAAAAAAAAAk0AAAAAAAASTQAAAAAAAAJNAAAAAAAAEk0AAAAAAAASTQAAAAAAADJNAAAAAAAAQk0AAAAAAABSTQAAAAAAACJNAAAAAAAAQk0AAAAAAAAiTQAAAAAAAFJNAAAAAAAAMk0AAAAAAABSTQAAAAAAACJNAAAAAAAAIk0AAAAAAABCTQAAAAAAAEJNAAAAAAAAYk0AAAAAAABiTQAAAAAAAHJNAAAAAAAAYk0AAAAAAAByTQAAAAAAAHJNAAAAAAAAck0AAAAAAAByTQAAAAAAALJNAAAAAAAAsk0AAAAAAADCTQAAAAAAAMJNAAAAAAAAsk0AAAAAAADCTQAAAAAAALJNAAAAAAAAwk0AAAAAAACiTQAAAAAAALJNAAAAAAAAsk0AAAAAAACSTQAAAAAAALJNAAAAAAAAsk0AAAAAAACyTQAAAAAAAPJNAAAAAAAA4k0AAAAAAADyTQAAAAAAAPJNAAAAAAAA4k0AAAAAAADSTQAAAAAAAOJNAAAAAAAA4k0AAAAAAAEiTQAAAAAAARJNAAAAAAABEk0AAAAAAAECTQAAAAAAASJNAAAAAAABEk0AAAAAAAESTQAAAAAAASJNAAAAAAABAk0AAAAAAAESTQAAAAAAARJNAAAAAAABMk0AAAAAAAEiTQAAAAAAATJNAAAAAAABAk0AAAAAAAECTQAAAAAAASJNAAAAAAABEk0AAAAAAAEyTQAAAAAAAQJNAAAAAAABQk0AAAAAAAFSTQAAAAAAAUJNAAAAAAABYk0AAAAAAAFiTQAAAAAAAUJNAAAAAAABYk0AAAAAAAFyTQAAAAAAAZJNAAAAAAABok0AAAAAAAFyTQAAAAAAAZJNAAAAAAABgk0AAAAAAAGSTQAAAAAAAXJNAAAAAAABgk0AAAAAAAFyTQAAAAAAAbJNAAAAAAAB0k0AAAAAAAHCTQAAAAAAAbJNAAAAAAABsk0AAAAAAAHSTQAAAAAAAcJNAAAAAAABwk0AAAAAAAISTQAAAAAAAfJNAAAAAAAB8k0AAAAAAAISTQAAAAAAAeJNAAAAAAACAk0AAAAAAAHiTQAAAAAAAfJNAAAAAAAB4k0AAAAAAAHiTQAAAAAAAgJNAAAAAAACIk0AAAAAAAJCTQAAAAAAAiJNAAAAAAACQk0AAAAAAAIiTQAAAAAAAkJNAAAAAAACIk0AAAAAAAJCTQAAAAAAAjJNAAAAAAACQk0AAAAAAAJSTQAAAAAAAmJNAAAAAAACYk0AAAAAAAJyTQAAAAAAAlJNAAAAAAACck0AAAAAAAJSTQAAAAAAAnJNAAAAAAACUk0AAAAAAAJSTQAAAAAAAnJNAAAAAAACgk0AAAAAAAKyTQAAAAAAAqJNAAAAAAACok0AAAAAAAKSTQAAAAAAAoJNAAAAAAACkk0AAAAAAAKyTQAAAAAAApJNAAAAAAACkk0AAAAAAAKiTQAAAAAAAuJNAAAAAAAC4k0AAAAAAALCTQAAAAAAAuJNAAAAAAACwk0AAAAAAALCTQAAAAAAAtJNAAAAAAAC4k0AAAAAAALyTQAAAAAAAvJNAAAAAAADIk0AAAAAAALyTQAAAAAAAwJNAAAAAAADAk0AAAAAAALyTQAAAAAAAvJNAAAAAAADQk0AAAAAAANCTQAAAAAAA0JNAAAAAAADQk0AAAAAAAMyTQAAAAAAA0JNAAAAAAADQk0AAAAAAAMyTQAAAAAAAzJNAAAAAAADQk0AAAAAAANSTQAAAAAAA1JNAAAAAAADQk0AAAAAAAMyTQAAAAAAA1JNAAAAAAADQk0AAAAAAAMyTQAAAAAAA5JNAAAAAAADck0AAAAAAAOCTQAAAAAAA2JNAAAAAAADgk0AAAAAAAOSTQAAAAAAA5JNAAAAAAADwk0AAAAAAAOiTQAAAAAAA8JNAAAAAAADwk0AAAAAAAPCTQAAAAAAA+JNAAAAAAAD0k0AAAAAAAPyTQAAAAAAA+JNAAAAAAAD8k0AAAAAAAPyTQAAAAAAAAJRAAAAAAAAAlEAAAAAAAPiTQAAAAAAA/JNAAAAAAAD4k0AAAAAAAPSTQAAAAAAAAJRAAAAAAAD0k0AAAAAAAACUQAAAAAAACJRAAAAAAAAElEAAAAAAAASUQAAAAAAABJRAAAAAAAAIlEAAAAAAAASUQAAAAAAACJRAAAAAAAAYlEAAAAAAAByUQAAAAAAAHJRAAAAAAAAclEAAAAAAAByUQAAAAAAAEJRAAAAAAAAclEAAAAAAABiUQAAAAAAAFJRAAAAAAAAclEAAAAAAABCUQAAAAAAAEJRAAAAAAAAolEAAAAAAACSUQAAAAAAAIJRAAAAAAAAolEAAAAAAACSUQAAAAAAAKJRAAAAAAAAglEAAAAAAACCUQAAAAAAAIJRAAAAAAAAolEAAAAAAADSUQAAAAAAAOJRAAAAAAAAslEAAAAAAADSUQAAAAAAANJRAAAAAAAAslEAAAAAAACyUQAAAAAAANJRAAAAAAAAslEAAAAAAADCUQAAAAAAAOJRAAAAAAAAwlEAAAAAAADCUQAAAAAAARJRAAAAAAABAlEAAAAAAAESUQAAAAAAAQJRAAAAAAABElEAAAAAAAECUQAAAAAAAPJRAAAAAAABAlEAAAAAAADyUQAAAAAAATJRAAAAAAABIlEAAAAAAAEyUQAAAAAAATJRAAAAAAABMlEAAAAAAAFCUQAAAAAAAUJRAAAAAAABMlEAAAAAAAEyUQAAAAAAAUJRAAAAAAABYlEAAAAAAAFSUQAAAAAAAXJRAAAAAAABglEAAAAAAAFyUQAAAAAAAYJRAAAAAAABclEAAAAAAAFSUQAAAAAAAYJRAAAAAAABglEAAAAAAAFSUQAAAAAAAVJRAAAAAAABglEAAAAAAAGCUQAAAAAAAYJRAAAAAAABUlEAAAAAAAGyUQAAAAAAAaJRAAAAAAABslEAAAAAAAGiUQAAAAAAAcJRAAAAAAABwlEAAAAAAAHiUQAAAAAAAeJRAAAAAAABwlEAAAAAAAHSUQAAAAAAAeJRAAAAAAABwlEAAAAAAAISUQAAAAAAAhJRAAAAAAACIlEAAAAAAAICUQAAAAAAAlJRAAAAAAACUlEAAAAAAAJCUQAAAAAAAkJRAAAAAAACUlEAAAAAAAIyUQAAAAAAAjJRAAAAAAACYlEAAAAAAAKSUQAAAAAAAoJRAAAAAAACglEAAAAAAAJyUQAAAAAAAoJRAAAAAAACklEAAAAAAAJyUQAAAAAAAoJRAAAAAAACglEAAAAAAAJyUQAAAAAAAoJRAAAAAAACclEAAAAAAAJyUQAAAAAAAsJRAAAAAAAC0lEAAAAAAAKyUQAAAAAAAqJRAAAAAAACwlEAAAAAAALCUQAAAAAAAtJRAAAAAAACwlEAAAAAAALSUQAAAAAAAqJRAAAAAAACslEAAAAAAALyUQAAAAAAAvJRAAAAAAADAlEAAAAAAAMCUQAAAAAAAvJRAAAAAAAC4lEAAAAAAALiUQAAAAAAAvJRAAAAAAAC4lEAAAAAAAMCUQAAAAAAAxJRAAAAAAADMlEAAAAAAAMiUQAAAAAAAxJRAAAAAAADElEAAAAAAANCUQAAAAAAAxJRAAAAAAADIlEAAAAAAANCUQAAAAAAAzJRAAAAAAADclEAAAAAAANiUQAAAAAAA1JRAAAAAAADclEAAAAAAANyUQAAAAAAA1JRAAAAAAADslEAAAAAAAOCUQAAAAAAA5JRAAAAAAADklEAAAAAAAOiUQAAAAAAA4JRAAAAAAADglEAAAAAAAOCUQAAAAAAA5JRAAAAAAADglEAAAAAAAOiUQAAAAAAA7JRAAAAAAADglEAAAAAAAOSUQAAAAAAA+JRAAAAAAADwlEAAAAAAAPCUQAAAAAAA9JRAAAAAAADwlEAAAAAAAPSUQAAAAAAA8JRAAAAAAADwlEAAAAAAAPiUQAAAAAAA8JRAAAAAAADwlEAAAAAAAASVQAAAAAAA/JRAAAAAAAAAlUAAAAAAAPyUQAAAAAAA/JRAAAAAAAAMlUAAAAAAABSVQAAAAAAAFJVAAAAAAAAMlUAAAAAAABSVQAAAAAAACJVAAAAAAAAIlUAAAAAAAByVQAAAAAAAIJVAAAAAAAAclUAAAAAAABiVQAAAAAAAHJVAAAAAAAAYlUAAAAAAACCVQAAAAAAAGJVAAAAAAAAklUAAAAAAADCVQAAAAAAAJJVAAAAAAAAklUAAAAAAACiVQAAAAAAAMJVAAAAAAAAolUAAAAAAACyVQAAAAAAANJVAAAAAAAA8lUAAAAAAADyVQAAAAAAAOJVAAAAAAABIlUAAAAAAAESVQAAAAAAATJVAAAAAAABElUAAAAAAAEyVQAAAAAAATJVAAAAAAABIlUAAAAAAAESVQAAAAAAAVJVAAAAAAABQlUAAAAAAAFCVQAAAAAAAVJVAAAAAAABQlUAAAAAAAFCVQAAAAAAAVJVAAAAAAABclUAAAAAAAGSVQAAAAAAAYJVAAAAAAABolUAAAAAAAGiVQAAAAAAAXJVAAAAAAABwlUAAAAAAAHCVQAAAAAAAcJVAAAAAAABwlUAAAAAAAHSVQAAAAAAAbJVAAAAAAABslUAAAAAAAHSVQAAAAAAAhJVAAAAAAAB8lUAAAAAAAICVQAAAAAAAfJVAAAAAAAB8lUAAAAAAAICVQAAAAAAAhJVAAAAAAACMlUAAAAAAAIiVQAAAAAAAjJVAAAAAAACMlUAAAAAAAJiVQAAAAAAAmJVAAAAAAACUlUAAAAAAAJyVQAAAAAAAlJVAAAAAAACclUAAAAAAAKCVQAAAAAAAqJVAAAAAAACklUAAAAAAAKSVQAAAAAAArJVAAAAAAAColUAAAAAAAKSVQAAAAAAArJVAAAAAAACklUAAAAAAAKiVQAAAAAAAsJVAAAAAAACwlUAAAAAAALSVQAAAAAAAyJVAAAAAAADIlUAAAAAAALyVQAAAAAAAwJVAAAAAAAC8lUAAAAAAAMiVQAAAAAAAxJVAAAAAAADElUAAAAAAANCVQAAAAAAA1JVAAAAAAADUlUAAAAAAANSVQAAAAAAA1JVAAAAAAADQlUAAAAAAANCVQAAAAAAA2JVAAAAAAADclUAAAAAAANiVQAAAAAAA2JVAAAAAAADclUAAAAAAAOCVQAAAAAAA3JVAAAAAAADYlUAAAAAAANyVQAAAAAAA6JVAAAAAAADwlUAAAAAAAOyVQAAAAAAA7JVAAAAAAADslUAAAAAAAPCVQAAAAAAA7JVAAAAAAADslUAAAAAAAOyVQAAAAAAAAJZAAAAAAAD4lUAAAAAAAPiVQAAAAAAA/JVAAAAAAAD4lUAAAAAAAACWQAAAAAAA9JVAAAAAAAD8lUAAAAAAAASWQAAAAAAABJZAAAAAAAAElkAAAAAAAASWQAAAAAAABJZAAAAAAAAIlkAAAAAAAAiWQAAAAAAAHJZAAAAAAAAYlkAAAAAAABSWQAAAAAAAGJZAAAAAAAAQlkAAAAAAABSWQAAAAAAAFJZAAAAAAAAolkAAAAAAACCWQAAAAAAAIJZAAAAAAAAglkAAAAAAACiWQAAAAAAANJZAAAAAAAAslkAAAAAAACyWQAAAAAAAMJZAAAAAAAAslkAAAAAAADCWQAAAAAAAQJZAAAAAAAA8lkAAAAAAAECWQAAAAAAARJZAAAAAAABAlkAAAAAAADyWQAAAAAAAQJZAAAAAAAA8lkAAAAAAAFCWQAAAAAAAUJZAAAAAAABMlkAAAAAAAFSWQAAAAAAAXJZAAAAAAABUlkAAAAAAAFSWQAAAAAAAWJZAAAAAAABclkAAAAAAAFSWQAAAAAAAVJZAAAAAAABYlkAAAAAAAGiWQAAAAAAAbJZAAAAAAABolkAAAAAAAGyWQAAAAAAAZJZAAAAAAABolkAAAAAAAHCWQAAAAAAAdJZAAAAAAAB4lkAAAAAAAHCWQAAAAAAAgJZAAAAAAACIlkAAAAAAAISWQAAAAAAAgJZAAAAAAACAlkAAAAAAAIiWQAAAAAAAhJZAAAAAAACMlkAAAAAAAIyWQAAAAAAAkJZAAAAAAACMlkAAAAAAAIyWQAAAAAAAjJZAAAAAAACklkAAAAAAAKSWQAAAAAAApJZAAAAAAAColkAAAAAAAKyWQAAAAAAAsJZAAAAAAAColkAAAAAAAKyWQAAAAAAArJZAAAAAAAC0lkAAAAAAALyWQAAAAAAAwJZAAAAAAAC8lkAAAAAAALyWQAAAAAAAuJZAAAAAAAC8lkAAAAAAANCWQAAAAAAAxJZAAAAAAADElkAAAAAAAMiWQAAAAAAAxJZAAAAAAADUlkAAAAAAANyWQAAAAAAA2JZAAAAAAADYlkAAAAAAANyWQAAAAAAA3JZAAAAAAADclkAAAAAAAOiWQAAAAAAA6JZAAAAAAADglkAAAAAAAOyWQAAAAAAA8JZAAAAAAAD4lkAAAAAAAPSWQAAAAAAABJdAAAAAAAD8lkAAAAAAAACXQAAAAAAA/JZAAAAAAAAAl0AAAAAAAACXQAAAAAAAAJdAAAAAAAAMl0AAAAAAAAyXQAAAAAAAEJdAAAAAAAAcl0AAAAAAAByXQAAAAAAAIJdAAAAAAAAgl0AAAAAAAByXQAAAAAAAIJdAAAAAAAAol0AAAAAAACyXQAAAAAAAKJdAAAAAAAAsl0AAAAAAADCXQAAAAAAAPJdAAAAAAABAl0AAAAAAAEyXQAAAAAAASJdAAAAAAABIl0AAAAAAAFSXQAAAAAAAVJdAAAAAAABQl0AAAAAAAFCXQAAAAAAAYJdAAAAAAABcl0AAAAAAAGSXQAAAAAAAfJdAAAAAAAB4l0AAAAAAAJCXQAAAAAAAkJdAAAAAAACIl0AAAAAAAJyXQAAAAAAAmJdAAAAAAACUl0AAAAAAAKyXQAAAAAAApJdAAAAAAACkl0AAAAAAALiXQAAAAAAAwJdAAAAAAAC8l0AAAAAAAMiXQAAAAAAAwJdAAAAAAADEl0AAAAAAAMyXQAAAAAAA0JdAAAAAAADgl0AAAAAAANyXQAAAAAAA4JdAAAAAAADgl0AAAAAAANiXQAAAAAAA7JdAAAAAAADwl0AAAAAAAOyXQAAAAAAAAJhAAAAAAAD8l0AAAAAAAASYQAAAAAAABJhAAAAAAAAQmEAAAAAAABCYQAAAAAAAHJhAAAAAAAAkmEAAAAAAACiYQAAAAAAAJJhAAAAAAAAgmEAAAAAAACCYQAAAAAAAMJhAAAAAAAAwmEAAAAAAACyYQAAAAAAANJhAAAAAAABImEAAAAAAAFCYQAAAAAAAYJhAAAAAAABYmEAAAAAAAHCYQAAAAAAAfJhAAAAAAACEmEAAAAAAAIyYQAAAAAAAkJhAAAAAAACMmEAAAAAAAJiYQAAAAAAAkJhAAAAAAACkmEAAAAAAALSYQAAAAAAAwJhAAAAAAADEmEAAAAAAANyYQAAAAAAA6JhAAAAAAADomEAAAAAAAOCYQAAAAAAAQJlAAAAAAABkmUAAAAAAAGiZQAAAAAAAiJlAAAAAAACgmUAAAAAAALSZQAAAAAAAHJpAAAAAAAAomkAAAAAAAGSaQAAAAAAAjJpAAAAAAADImkAAAAAAAAibQA==\",\"dtype\":\"float64\",\"shape\":[1622]},\"y\":{\"__ndarray__\":\"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\",\"dtype\":\"float64\",\"shape\":[1622]}},\"selected\":{\"id\":\"2712\",\"type\":\"Selection\"},\"selection_policy\":{\"id\":\"2711\",\"type\":\"UnionRenderers\"}},\"id\":\"2611\",\"type\":\"ColumnDataSource\"},{\"attributes\":{},\"id\":\"2587\",\"type\":\"BasicTicker\"},{\"attributes\":{\"callback\":null},\"id\":\"2578\",\"type\":\"DataRange1d\"},{\"attributes\":{},\"id\":\"2601\",\"type\":\"HelpTool\"},{\"attributes\":{\"axis_label\":\"Indel\",\"formatter\":{\"id\":\"2709\",\"type\":\"BasicTickFormatter\"},\"ticker\":{\"id\":\"2592\",\"type\":\"BasicTicker\"}},\"id\":\"2591\",\"type\":\"LinearAxis\"},{\"attributes\":{\"overlay\":{\"id\":\"2710\",\"type\":\"BoxAnnotation\"}},\"id\":\"2598\",\"type\":\"BoxZoomTool\"},{\"attributes\":{\"axis_label\":\"SNV\",\"formatter\":{\"id\":\"2707\",\"type\":\"BasicTickFormatter\"},\"ticker\":{\"id\":\"2587\",\"type\":\"BasicTicker\"}},\"id\":\"2586\",\"type\":\"LinearAxis\"},{\"attributes\":{\"text\":\"Number of variants\"},\"id\":\"2576\",\"type\":\"Title\"},{\"attributes\":{\"ticker\":{\"id\":\"2587\",\"type\":\"BasicTicker\"}},\"id\":\"2590\",\"type\":\"Grid\"},{\"attributes\":{},\"id\":\"2584\",\"type\":\"LinearScale\"},{\"attributes\":{},\"id\":\"2711\",\"type\":\"UnionRenderers\"},{\"attributes\":{},\"id\":\"2712\",\"type\":\"Selection\"},{\"attributes\":{\"data_source\":{\"id\":\"2611\",\"type\":\"ColumnDataSource\"},\"glyph\":{\"id\":\"2613\",\"type\":\"Circle\"},\"hover_glyph\":null,\"muted_glyph\":null,\"nonselection_glyph\":{\"id\":\"2614\",\"type\":\"Circle\"},\"selection_glyph\":null,\"view\":{\"id\":\"2616\",\"type\":\"CDSView\"}},\"id\":\"2615\",\"type\":\"GlyphRenderer\"},{\"attributes\":{},\"id\":\"2709\",\"type\":\"BasicTickFormatter\"},{\"attributes\":{},\"id\":\"2582\",\"type\":\"LinearScale\"},{\"attributes\":{},\"id\":\"2597\",\"type\":\"WheelZoomTool\"},{\"attributes\":{},\"id\":\"2596\",\"type\":\"PanTool\"},{\"attributes\":{},\"id\":\"2707\",\"type\":\"BasicTickFormatter\"},{\"attributes\":{\"bottom_units\":\"screen\",\"fill_alpha\":{\"value\":0.5},\"fill_color\":{\"value\":\"lightgrey\"},\"left_units\":\"screen\",\"level\":\"overlay\",\"line_alpha\":{\"value\":1.0},\"line_color\":{\"value\":\"black\"},\"line_dash\":[4,4],\"line_width\":{\"value\":2},\"render_mode\":\"css\",\"right_units\":\"screen\",\"top_units\":\"screen\"},\"id\":\"2710\",\"type\":\"BoxAnnotation\"},{\"attributes\":{\"source\":{\"id\":\"2611\",\"type\":\"ColumnDataSource\"}},\"id\":\"2616\",\"type\":\"CDSView\"}],\"root_ids\":[\"2575\"]},\"title\":\"Bokeh Application\",\"version\":\"1.4.0\"}};\n",
       "  var render_items = [{\"docid\":\"4dc90884-a019-48cd-9777-05eca2a4f489\",\"roots\":{\"2575\":\"a30b8cfc-4484-4938-9ffa-89150512ce28\"}}];\n",
       "  root.Bokeh.embed.embed_items_notebook(docs_json, render_items);\n",
       "\n",
       "  }\n",
       "  if (root.Bokeh !== undefined) {\n",
       "    embed_document(root);\n",
       "  } else {\n",
       "    var attempts = 0;\n",
       "    var timer = setInterval(function(root) {\n",
       "      if (root.Bokeh !== undefined) {\n",
       "        clearInterval(timer);\n",
       "        embed_document(root);\n",
       "      } else {\n",
       "        attempts++;\n",
       "        if (attempts > 100) {\n",
       "          clearInterval(timer);\n",
       "          console.log(\"Bokeh: ERROR: Unable to run BokehJS code because BokehJS library is missing\");\n",
       "        }\n",
       "      }\n",
       "    }, 10, root)\n",
       "  }\n",
       "})(window);"
      ],
      "application/vnd.bokehjs_exec.v0+json": ""
     },
     "metadata": {
      "application/vnd.bokehjs_exec.v0+json": {
       "id": "2575"
      }
     },
     "output_type": "display_data"
    }
   ],
   "source": [
    "p = hl.plot.scatter(x=m_qc.n_non_ref_SNV,\n",
    "                    y=m_qc.n_non_ref_Indel,\n",
    "                    xlabel='SNV',\n",
    "                    ylabel='Indel',\n",
    "                    hover_fields={'ID': m_qc.s},\n",
    "                    title = 'Number of variants',\n",
    "                    size=8)\n",
    "show(p)"
   ]
  },
  {
   "cell_type": "markdown",
   "id": "06d83908",
   "metadata": {},
   "source": [
    "몇가지 지표에 대한 플롯을 확인해봅시다"
   ]
  },
  {
   "cell_type": "code",
   "execution_count": 44,
   "id": "49845a23",
   "metadata": {
    "ExecuteTime": {
     "end_time": "2022-01-17T11:00:07.883727Z",
     "start_time": "2022-01-17T10:59:00.163415Z"
    }
   },
   "outputs": [
    {
     "name": "stderr",
     "output_type": "stream",
     "text": [
      "2022-01-23 19:06:54 Hail: INFO: Coerced sorted dataset              (0 + 4) / 4]\n",
      "2022-01-23 19:06:57 Hail: INFO: Coerced sorted dataset              (0 + 4) / 4]\n",
      "2022-01-23 19:07:39 Hail: INFO: Coerced sorted dataset              (0 + 4) / 4]\n",
      "2022-01-23 19:07:42 Hail: INFO: Coerced sorted dataset              (2 + 2) / 4]\n",
      "2022-01-23 19:07:55 Hail: INFO: Coerced sorted dataset              (3 + 1) / 4]\n",
      "2022-01-23 19:07:57 Hail: INFO: Coerced sorted dataset              (3 + 1) / 4]\n",
      "2022-01-23 19:08:39 Hail: INFO: Coerced sorted dataset              (0 + 4) / 4]\n",
      "2022-01-23 19:08:42 Hail: INFO: Coerced sorted dataset              (3 + 1) / 4]\n"
     ]
    },
    {
     "data": {
      "text/html": [
       "\n",
       "\n",
       "\n",
       "\n",
       "\n",
       "\n",
       "  <div class=\"bk-root\" id=\"f0ba5a1b-3bca-4566-9bb5-d251c33e4d3b\" data-root-id=\"2761\"></div>\n"
      ]
     },
     "metadata": {},
     "output_type": "display_data"
    },
    {
     "data": {
      "application/javascript": [
       "(function(root) {\n",
       "  function embed_document(root) {\n",
       "    \n",
       "  var docs_json = {\"4ff1edf5-5f96-4139-9dd4-1b9c7f1fbd3b\":{\"roots\":{\"references\":[{\"attributes\":{\"background_fill_color\":{\"value\":\"#EEEEEE\"},\"below\":[{\"id\":\"2771\",\"type\":\"LinearAxis\"}],\"center\":[{\"id\":\"2775\",\"type\":\"Grid\"},{\"id\":\"2780\",\"type\":\"Grid\"},{\"id\":\"2805\",\"type\":\"Legend\"}],\"left\":[{\"id\":\"2776\",\"type\":\"LinearAxis\"}],\"renderers\":[{\"id\":\"2797\",\"type\":\"GlyphRenderer\"}],\"title\":null,\"toolbar\":{\"id\":\"2787\",\"type\":\"Toolbar\"},\"x_range\":{\"id\":\"2763\",\"type\":\"Range1d\"},\"x_scale\":{\"id\":\"2767\",\"type\":\"LinearScale\"},\"y_range\":{\"id\":\"2765\",\"type\":\"DataRange1d\"},\"y_scale\":{\"id\":\"2769\",\"type\":\"LinearScale\"}},\"id\":\"2761\",\"subtype\":\"Figure\",\"type\":\"Plot\"},{\"attributes\":{\"bottom\":{\"value\":0},\"fill_color\":{\"value\":\"#1f77b4\"},\"left\":{\"field\":\"left\"},\"right\":{\"field\":\"right\"},\"top\":{\"field\":\"top\"}},\"id\":\"2795\",\"type\":\"Quad\"},{\"attributes\":{},\"id\":\"2803\",\"type\":\"BasicTickFormatter\"},{\"attributes\":{},\"id\":\"2781\",\"type\":\"PanTool\"},{\"attributes\":{},\"id\":\"2777\",\"type\":\"BasicTicker\"},{\"attributes\":{\"bottom_units\":\"screen\",\"fill_alpha\":{\"value\":0.5},\"fill_color\":{\"value\":\"lightgrey\"},\"left_units\":\"screen\",\"level\":\"overlay\",\"line_alpha\":{\"value\":1.0},\"line_color\":{\"value\":\"black\"},\"line_dash\":[4,4],\"line_width\":{\"value\":2},\"render_mode\":\"css\",\"right_units\":\"screen\",\"top_units\":\"screen\"},\"id\":\"2804\",\"type\":\"BoxAnnotation\"},{\"attributes\":{\"dimension\":1,\"ticker\":{\"id\":\"2777\",\"type\":\"BasicTicker\"}},\"id\":\"2780\",\"type\":\"Grid\"},{\"attributes\":{},\"id\":\"2801\",\"type\":\"BasicTickFormatter\"},{\"attributes\":{},\"id\":\"2784\",\"type\":\"SaveTool\"},{\"attributes\":{},\"id\":\"2772\",\"type\":\"BasicTicker\"},{\"attributes\":{\"overlay\":{\"id\":\"2804\",\"type\":\"BoxAnnotation\"}},\"id\":\"2783\",\"type\":\"BoxZoomTool\"},{\"attributes\":{\"active_drag\":\"auto\",\"active_inspect\":\"auto\",\"active_multi\":null,\"active_scroll\":\"auto\",\"active_tap\":\"auto\",\"tools\":[{\"id\":\"2781\",\"type\":\"PanTool\"},{\"id\":\"2782\",\"type\":\"WheelZoomTool\"},{\"id\":\"2783\",\"type\":\"BoxZoomTool\"},{\"id\":\"2784\",\"type\":\"SaveTool\"},{\"id\":\"2785\",\"type\":\"ResetTool\"},{\"id\":\"2786\",\"type\":\"HelpTool\"}]},\"id\":\"2787\",\"type\":\"Toolbar\"},{\"attributes\":{},\"id\":\"2910\",\"type\":\"Selection\"},{\"attributes\":{\"axis_label\":\"Frequency\",\"formatter\":{\"id\":\"2803\",\"type\":\"BasicTickFormatter\"},\"ticker\":{\"id\":\"2777\",\"type\":\"BasicTicker\"}},\"id\":\"2776\",\"type\":\"LinearAxis\"},{\"attributes\":{\"callback\":null,\"end\":93.12304522953153,\"start\":70.86945554352671},\"id\":\"2763\",\"type\":\"Range1d\"},{\"attributes\":{\"axis_label\":\"Mean Sample GQ - SNV\",\"formatter\":{\"id\":\"2801\",\"type\":\"BasicTickFormatter\"},\"ticker\":{\"id\":\"2772\",\"type\":\"BasicTicker\"}},\"id\":\"2771\",\"type\":\"LinearAxis\"},{\"attributes\":{\"source\":{\"id\":\"2794\",\"type\":\"ColumnDataSource\"}},\"id\":\"2798\",\"type\":\"CDSView\"},{\"attributes\":{},\"id\":\"2767\",\"type\":\"LinearScale\"},{\"attributes\":{},\"id\":\"2909\",\"type\":\"UnionRenderers\"},{\"attributes\":{\"ticker\":{\"id\":\"2772\",\"type\":\"BasicTicker\"}},\"id\":\"2775\",\"type\":\"Grid\"},{\"attributes\":{},\"id\":\"2782\",\"type\":\"WheelZoomTool\"},{\"attributes\":{\"callback\":null,\"data\":{\"left\":[71.88098234743602,72.28559306899975,72.69020379056346,73.09481451212719,73.49942523369091,73.90403595525464,74.30864667681836,74.71325739838208,75.11786811994581,75.52247884150954,75.92708956307325,76.33170028463698,76.73631100620071,77.14092172776444,77.54553244932815,77.95014317089188,78.3547538924556,78.75936461401933,79.16397533558305,79.56858605714677,79.9731967787105,80.37780750027423,80.78241822183794,81.18702894340167,81.5916396649654,81.99625038652911,82.40086110809284,82.80547182965657,83.2100825512203,83.61469327278401,84.01930399434774,84.42391471591147,84.8285254374752,85.2331361590389,85.63774688060263,86.04235760216636,86.44696832373009,86.8515790452938,87.25618976685753,87.66080048842126,88.06541120998497,88.4700219315487,88.87463265311243,89.27924337467616,89.68385409623988,90.0884648178036,90.49307553936733,90.89768626093105,91.30229698249477,91.7069077040585],\"right\":[72.28559306899975,72.69020379056346,73.09481451212719,73.49942523369091,73.90403595525464,74.30864667681836,74.71325739838208,75.11786811994581,75.52247884150954,75.92708956307325,76.33170028463698,76.73631100620071,77.14092172776444,77.54553244932815,77.95014317089188,78.3547538924556,78.75936461401933,79.16397533558305,79.56858605714677,79.9731967787105,80.37780750027423,80.78241822183794,81.18702894340167,81.5916396649654,81.99625038652911,82.40086110809284,82.80547182965657,83.2100825512203,83.61469327278401,84.01930399434774,84.42391471591147,84.8285254374752,85.2331361590389,85.63774688060263,86.04235760216636,86.44696832373009,86.8515790452938,87.25618976685753,87.66080048842126,88.06541120998497,88.4700219315487,88.87463265311243,89.27924337467616,89.68385409623988,90.0884648178036,90.49307553936733,90.89768626093105,91.30229698249477,91.7069077040585,92.11151842562222],\"top\":[1,0,0,1,0,0,2,5,4,12,1,2,9,9,20,18,34,30,30,51,39,52,71,83,90,89,92,105,105,95,88,101,83,81,86,66,48,36,41,26,18,18,11,7,5,6,3,2,5,3]},\"selected\":{\"id\":\"2910\",\"type\":\"Selection\"},\"selection_policy\":{\"id\":\"2909\",\"type\":\"UnionRenderers\"}},\"id\":\"2794\",\"type\":\"ColumnDataSource\"},{\"attributes\":{},\"id\":\"2785\",\"type\":\"ResetTool\"},{\"attributes\":{\"items\":[{\"id\":\"2806\",\"type\":\"LegendItem\"}]},\"id\":\"2805\",\"type\":\"Legend\"},{\"attributes\":{\"label\":{\"value\":\"Mean Sample GQ - SNV\"},\"renderers\":[{\"id\":\"2797\",\"type\":\"GlyphRenderer\"}]},\"id\":\"2806\",\"type\":\"LegendItem\"},{\"attributes\":{},\"id\":\"2786\",\"type\":\"HelpTool\"},{\"attributes\":{\"bottom\":{\"value\":0},\"fill_alpha\":{\"value\":0.1},\"fill_color\":{\"value\":\"#1f77b4\"},\"left\":{\"field\":\"left\"},\"line_alpha\":{\"value\":0.1},\"line_color\":{\"value\":\"#1f77b4\"},\"right\":{\"field\":\"right\"},\"top\":{\"field\":\"top\"}},\"id\":\"2796\",\"type\":\"Quad\"},{\"attributes\":{},\"id\":\"2769\",\"type\":\"LinearScale\"},{\"attributes\":{\"callback\":null},\"id\":\"2765\",\"type\":\"DataRange1d\"},{\"attributes\":{\"data_source\":{\"id\":\"2794\",\"type\":\"ColumnDataSource\"},\"glyph\":{\"id\":\"2795\",\"type\":\"Quad\"},\"hover_glyph\":null,\"muted_glyph\":null,\"nonselection_glyph\":{\"id\":\"2796\",\"type\":\"Quad\"},\"selection_glyph\":null,\"view\":{\"id\":\"2798\",\"type\":\"CDSView\"}},\"id\":\"2797\",\"type\":\"GlyphRenderer\"}],\"root_ids\":[\"2761\"]},\"title\":\"Bokeh Application\",\"version\":\"1.4.0\"}};\n",
       "  var render_items = [{\"docid\":\"4ff1edf5-5f96-4139-9dd4-1b9c7f1fbd3b\",\"roots\":{\"2761\":\"f0ba5a1b-3bca-4566-9bb5-d251c33e4d3b\"}}];\n",
       "  root.Bokeh.embed.embed_items_notebook(docs_json, render_items);\n",
       "\n",
       "  }\n",
       "  if (root.Bokeh !== undefined) {\n",
       "    embed_document(root);\n",
       "  } else {\n",
       "    var attempts = 0;\n",
       "    var timer = setInterval(function(root) {\n",
       "      if (root.Bokeh !== undefined) {\n",
       "        clearInterval(timer);\n",
       "        embed_document(root);\n",
       "      } else {\n",
       "        attempts++;\n",
       "        if (attempts > 100) {\n",
       "          clearInterval(timer);\n",
       "          console.log(\"Bokeh: ERROR: Unable to run BokehJS code because BokehJS library is missing\");\n",
       "        }\n",
       "      }\n",
       "    }, 10, root)\n",
       "  }\n",
       "})(window);"
      ],
      "application/vnd.bokehjs_exec.v0+json": ""
     },
     "metadata": {
      "application/vnd.bokehjs_exec.v0+json": {
       "id": "2761"
      }
     },
     "output_type": "display_data"
    }
   ],
   "source": [
    "p = hl.plot.histogram(m_qc['gq_mean_SNV'], legend='Mean Sample GQ - SNV')\n",
    "show(p)"
   ]
  },
  {
   "cell_type": "code",
   "execution_count": 45,
   "id": "9cd9bb07",
   "metadata": {
    "ExecuteTime": {
     "end_time": "2022-01-17T11:01:14.186582Z",
     "start_time": "2022-01-17T11:00:07.884639Z"
    }
   },
   "outputs": [
    {
     "name": "stderr",
     "output_type": "stream",
     "text": [
      "2022-01-23 19:08:55 Hail: INFO: Coerced sorted dataset              (0 + 4) / 4]\n",
      "2022-01-23 19:08:58 Hail: INFO: Coerced sorted dataset              (2 + 2) / 4]\n",
      "2022-01-23 19:09:39 Hail: INFO: Coerced sorted dataset              (0 + 4) / 4]\n",
      "2022-01-23 19:09:42 Hail: INFO: Coerced sorted dataset              (0 + 4) / 4]\n",
      "2022-01-23 19:09:55 Hail: INFO: Coerced sorted dataset              (0 + 4) / 4]\n",
      "2022-01-23 19:09:57 Hail: INFO: Coerced sorted dataset              (0 + 4) / 4]\n",
      "2022-01-23 19:10:39 Hail: INFO: Coerced sorted dataset              (0 + 4) / 4]\n",
      "2022-01-23 19:10:41 Hail: INFO: Coerced sorted dataset              (0 + 4) / 4]\n"
     ]
    },
    {
     "data": {
      "text/html": [
       "\n",
       "\n",
       "\n",
       "\n",
       "\n",
       "\n",
       "  <div class=\"bk-root\" id=\"1b3fdba6-a519-4f06-b01b-be5076e01ce8\" data-root-id=\"2959\"></div>\n"
      ]
     },
     "metadata": {},
     "output_type": "display_data"
    },
    {
     "data": {
      "application/javascript": [
       "(function(root) {\n",
       "  function embed_document(root) {\n",
       "    \n",
       "  var docs_json = {\"c248ef2f-508e-4280-993f-3c4edf6dd931\":{\"roots\":{\"references\":[{\"attributes\":{\"background_fill_color\":{\"value\":\"#EEEEEE\"},\"below\":[{\"id\":\"2969\",\"type\":\"LinearAxis\"}],\"center\":[{\"id\":\"2973\",\"type\":\"Grid\"},{\"id\":\"2978\",\"type\":\"Grid\"},{\"id\":\"3003\",\"type\":\"Legend\"}],\"left\":[{\"id\":\"2974\",\"type\":\"LinearAxis\"}],\"renderers\":[{\"id\":\"2995\",\"type\":\"GlyphRenderer\"}],\"title\":null,\"toolbar\":{\"id\":\"2985\",\"type\":\"Toolbar\"},\"x_range\":{\"id\":\"2961\",\"type\":\"Range1d\"},\"x_scale\":{\"id\":\"2965\",\"type\":\"LinearScale\"},\"y_range\":{\"id\":\"2963\",\"type\":\"DataRange1d\"},\"y_scale\":{\"id\":\"2967\",\"type\":\"LinearScale\"}},\"id\":\"2959\",\"subtype\":\"Figure\",\"type\":\"Plot\"},{\"attributes\":{},\"id\":\"2999\",\"type\":\"BasicTickFormatter\"},{\"attributes\":{\"active_drag\":\"auto\",\"active_inspect\":\"auto\",\"active_multi\":null,\"active_scroll\":\"auto\",\"active_tap\":\"auto\",\"tools\":[{\"id\":\"2979\",\"type\":\"PanTool\"},{\"id\":\"2980\",\"type\":\"WheelZoomTool\"},{\"id\":\"2981\",\"type\":\"BoxZoomTool\"},{\"id\":\"2982\",\"type\":\"SaveTool\"},{\"id\":\"2983\",\"type\":\"ResetTool\"},{\"id\":\"2984\",\"type\":\"HelpTool\"}]},\"id\":\"2985\",\"type\":\"Toolbar\"},{\"attributes\":{},\"id\":\"2967\",\"type\":\"LinearScale\"},{\"attributes\":{\"callback\":null,\"end\":78.93292801779403,\"start\":54.656663685459606},\"id\":\"2961\",\"type\":\"Range1d\"},{\"attributes\":{},\"id\":\"2983\",\"type\":\"ResetTool\"},{\"attributes\":{},\"id\":\"2979\",\"type\":\"PanTool\"},{\"attributes\":{},\"id\":\"2975\",\"type\":\"BasicTicker\"},{\"attributes\":{\"label\":{\"value\":\"Mean Sample GQ - Indel\"},\"renderers\":[{\"id\":\"2995\",\"type\":\"GlyphRenderer\"}]},\"id\":\"3004\",\"type\":\"LegendItem\"},{\"attributes\":{\"overlay\":{\"id\":\"3002\",\"type\":\"BoxAnnotation\"}},\"id\":\"2981\",\"type\":\"BoxZoomTool\"},{\"attributes\":{},\"id\":\"2970\",\"type\":\"BasicTicker\"},{\"attributes\":{\"callback\":null,\"data\":{\"left\":[55.76013024602026,56.201516870244525,56.64290349446878,57.08429011869305,57.525676742917305,57.96706336714157,58.408449991365835,58.84983661559009,59.29122323981436,59.73260986403862,60.17399648826288,60.615383112487145,61.0567697367114,61.49815636093567,61.93954298515993,62.38092960938419,62.822316233608454,63.26370285783271,63.70508948205698,64.14647610628124,64.5878627305055,65.02924935472976,65.47063597895402,65.91202260317829,66.35340922740255,66.79479585162682,67.23618247585108,67.67756910007533,68.1189557242996,68.56034234852386,69.00172897274813,69.44311559697239,69.88450222119664,70.3258888454209,70.76727546964517,71.20866209386944,71.6500487180937,72.09143534231796,72.53282196654222,72.97420859076648,73.41559521499074,73.85698183921501,74.29836846343926,74.73975508766353,75.18114171188779,75.62252833611205,76.06391496033632,76.50530158456058,76.94668820878483,77.3880748330091],\"right\":[56.201516870244525,56.64290349446878,57.08429011869305,57.525676742917305,57.96706336714157,58.408449991365835,58.84983661559009,59.29122323981436,59.73260986403862,60.17399648826288,60.615383112487145,61.0567697367114,61.49815636093567,61.93954298515993,62.38092960938419,62.822316233608454,63.26370285783271,63.70508948205698,64.14647610628124,64.5878627305055,65.02924935472976,65.47063597895402,65.91202260317829,66.35340922740255,66.79479585162682,67.23618247585108,67.67756910007533,68.1189557242996,68.56034234852386,69.00172897274813,69.44311559697239,69.88450222119664,70.3258888454209,70.76727546964517,71.20866209386944,71.6500487180937,72.09143534231796,72.53282196654222,72.97420859076648,73.41559521499074,73.85698183921501,74.29836846343926,74.73975508766353,75.18114171188779,75.62252833611205,76.06391496033632,76.50530158456058,76.94668820878483,77.3880748330091,77.82946145723336],\"top\":[1,0,2,3,1,4,7,12,17,15,17,24,45,44,60,68,86,95,88,98,110,87,103,92,98,94,72,73,61,50,58,40,37,29,24,11,15,8,7,5,5,2,2,2,1,4,1,1,2,3]},\"selected\":{\"id\":\"3116\",\"type\":\"Selection\"},\"selection_policy\":{\"id\":\"3115\",\"type\":\"UnionRenderers\"}},\"id\":\"2992\",\"type\":\"ColumnDataSource\"},{\"attributes\":{},\"id\":\"2965\",\"type\":\"LinearScale\"},{\"attributes\":{\"axis_label\":\"Frequency\",\"formatter\":{\"id\":\"3001\",\"type\":\"BasicTickFormatter\"},\"ticker\":{\"id\":\"2975\",\"type\":\"BasicTicker\"}},\"id\":\"2974\",\"type\":\"LinearAxis\"},{\"attributes\":{\"ticker\":{\"id\":\"2970\",\"type\":\"BasicTicker\"}},\"id\":\"2973\",\"type\":\"Grid\"},{\"attributes\":{\"data_source\":{\"id\":\"2992\",\"type\":\"ColumnDataSource\"},\"glyph\":{\"id\":\"2993\",\"type\":\"Quad\"},\"hover_glyph\":null,\"muted_glyph\":null,\"nonselection_glyph\":{\"id\":\"2994\",\"type\":\"Quad\"},\"selection_glyph\":null,\"view\":{\"id\":\"2996\",\"type\":\"CDSView\"}},\"id\":\"2995\",\"type\":\"GlyphRenderer\"},{\"attributes\":{\"source\":{\"id\":\"2992\",\"type\":\"ColumnDataSource\"}},\"id\":\"2996\",\"type\":\"CDSView\"},{\"attributes\":{},\"id\":\"2980\",\"type\":\"WheelZoomTool\"},{\"attributes\":{\"axis_label\":\"Mean Sample GQ - Indel\",\"formatter\":{\"id\":\"2999\",\"type\":\"BasicTickFormatter\"},\"ticker\":{\"id\":\"2970\",\"type\":\"BasicTicker\"}},\"id\":\"2969\",\"type\":\"LinearAxis\"},{\"attributes\":{},\"id\":\"3001\",\"type\":\"BasicTickFormatter\"},{\"attributes\":{\"bottom\":{\"value\":0},\"fill_color\":{\"value\":\"#1f77b4\"},\"left\":{\"field\":\"left\"},\"right\":{\"field\":\"right\"},\"top\":{\"field\":\"top\"}},\"id\":\"2993\",\"type\":\"Quad\"},{\"attributes\":{},\"id\":\"3116\",\"type\":\"Selection\"},{\"attributes\":{},\"id\":\"2984\",\"type\":\"HelpTool\"},{\"attributes\":{\"bottom_units\":\"screen\",\"fill_alpha\":{\"value\":0.5},\"fill_color\":{\"value\":\"lightgrey\"},\"left_units\":\"screen\",\"level\":\"overlay\",\"line_alpha\":{\"value\":1.0},\"line_color\":{\"value\":\"black\"},\"line_dash\":[4,4],\"line_width\":{\"value\":2},\"render_mode\":\"css\",\"right_units\":\"screen\",\"top_units\":\"screen\"},\"id\":\"3002\",\"type\":\"BoxAnnotation\"},{\"attributes\":{},\"id\":\"2982\",\"type\":\"SaveTool\"},{\"attributes\":{\"callback\":null},\"id\":\"2963\",\"type\":\"DataRange1d\"},{\"attributes\":{},\"id\":\"3115\",\"type\":\"UnionRenderers\"},{\"attributes\":{\"bottom\":{\"value\":0},\"fill_alpha\":{\"value\":0.1},\"fill_color\":{\"value\":\"#1f77b4\"},\"left\":{\"field\":\"left\"},\"line_alpha\":{\"value\":0.1},\"line_color\":{\"value\":\"#1f77b4\"},\"right\":{\"field\":\"right\"},\"top\":{\"field\":\"top\"}},\"id\":\"2994\",\"type\":\"Quad\"},{\"attributes\":{\"items\":[{\"id\":\"3004\",\"type\":\"LegendItem\"}]},\"id\":\"3003\",\"type\":\"Legend\"},{\"attributes\":{\"dimension\":1,\"ticker\":{\"id\":\"2975\",\"type\":\"BasicTicker\"}},\"id\":\"2978\",\"type\":\"Grid\"}],\"root_ids\":[\"2959\"]},\"title\":\"Bokeh Application\",\"version\":\"1.4.0\"}};\n",
       "  var render_items = [{\"docid\":\"c248ef2f-508e-4280-993f-3c4edf6dd931\",\"roots\":{\"2959\":\"1b3fdba6-a519-4f06-b01b-be5076e01ce8\"}}];\n",
       "  root.Bokeh.embed.embed_items_notebook(docs_json, render_items);\n",
       "\n",
       "  }\n",
       "  if (root.Bokeh !== undefined) {\n",
       "    embed_document(root);\n",
       "  } else {\n",
       "    var attempts = 0;\n",
       "    var timer = setInterval(function(root) {\n",
       "      if (root.Bokeh !== undefined) {\n",
       "        clearInterval(timer);\n",
       "        embed_document(root);\n",
       "      } else {\n",
       "        attempts++;\n",
       "        if (attempts > 100) {\n",
       "          clearInterval(timer);\n",
       "          console.log(\"Bokeh: ERROR: Unable to run BokehJS code because BokehJS library is missing\");\n",
       "        }\n",
       "      }\n",
       "    }, 10, root)\n",
       "  }\n",
       "})(window);"
      ],
      "application/vnd.bokehjs_exec.v0+json": ""
     },
     "metadata": {
      "application/vnd.bokehjs_exec.v0+json": {
       "id": "2959"
      }
     },
     "output_type": "display_data"
    }
   ],
   "source": [
    "p = hl.plot.histogram(m_qc['gq_mean_Indel'], legend='Mean Sample GQ - Indel')\n",
    "show(p)"
   ]
  },
  {
   "cell_type": "code",
   "execution_count": 46,
   "id": "fb7d92bb",
   "metadata": {
    "ExecuteTime": {
     "end_time": "2022-01-17T11:02:24.492271Z",
     "start_time": "2022-01-17T11:01:14.187474Z"
    }
   },
   "outputs": [
    {
     "name": "stderr",
     "output_type": "stream",
     "text": [
      "2022-01-23 19:10:55 Hail: INFO: Coerced sorted dataset              (3 + 1) / 4]\n",
      "2022-01-23 19:10:57 Hail: INFO: Coerced sorted dataset              (3 + 1) / 4]\n",
      "2022-01-23 19:11:39 Hail: INFO: Coerced sorted dataset              (0 + 4) / 4]\n",
      "2022-01-23 19:11:42 Hail: INFO: Coerced sorted dataset              (0 + 4) / 4]\n",
      "2022-01-23 19:11:55 Hail: INFO: Coerced sorted dataset              (3 + 1) / 4]\n",
      "2022-01-23 19:11:58 Hail: INFO: Coerced sorted dataset              (3 + 1) / 4]\n",
      "2022-01-23 19:12:39 Hail: INFO: Coerced sorted dataset              (3 + 1) / 4]\n",
      "2022-01-23 19:12:42 Hail: INFO: Coerced sorted dataset              (2 + 2) / 4]\n"
     ]
    },
    {
     "data": {
      "text/html": [
       "\n",
       "\n",
       "\n",
       "\n",
       "\n",
       "\n",
       "  <div class=\"bk-root\" id=\"09506d41-94f1-4ad9-bfa7-3721af9b1f2c\" data-root-id=\"3165\"></div>\n"
      ]
     },
     "metadata": {},
     "output_type": "display_data"
    },
    {
     "data": {
      "application/javascript": [
       "(function(root) {\n",
       "  function embed_document(root) {\n",
       "    \n",
       "  var docs_json = {\"044c023e-9447-4334-82ff-87bb7f0d00a9\":{\"roots\":{\"references\":[{\"attributes\":{\"background_fill_color\":{\"value\":\"#EEEEEE\"},\"below\":[{\"id\":\"3175\",\"type\":\"LinearAxis\"}],\"center\":[{\"id\":\"3179\",\"type\":\"Grid\"},{\"id\":\"3184\",\"type\":\"Grid\"},{\"id\":\"3209\",\"type\":\"Legend\"}],\"left\":[{\"id\":\"3180\",\"type\":\"LinearAxis\"}],\"renderers\":[{\"id\":\"3201\",\"type\":\"GlyphRenderer\"}],\"title\":null,\"toolbar\":{\"id\":\"3191\",\"type\":\"Toolbar\"},\"x_range\":{\"id\":\"3167\",\"type\":\"Range1d\"},\"x_scale\":{\"id\":\"3171\",\"type\":\"LinearScale\"},\"y_range\":{\"id\":\"3169\",\"type\":\"DataRange1d\"},\"y_scale\":{\"id\":\"3173\",\"type\":\"LinearScale\"}},\"id\":\"3165\",\"subtype\":\"Figure\",\"type\":\"Plot\"},{\"attributes\":{\"callback\":null},\"id\":\"3169\",\"type\":\"DataRange1d\"},{\"attributes\":{\"label\":{\"value\":\"Mean Sample DP - SNV\"},\"renderers\":[{\"id\":\"3201\",\"type\":\"GlyphRenderer\"}]},\"id\":\"3210\",\"type\":\"LegendItem\"},{\"attributes\":{},\"id\":\"3189\",\"type\":\"ResetTool\"},{\"attributes\":{},\"id\":\"3186\",\"type\":\"WheelZoomTool\"},{\"attributes\":{\"axis_label\":\"Mean Sample DP - SNV\",\"formatter\":{\"id\":\"3205\",\"type\":\"BasicTickFormatter\"},\"ticker\":{\"id\":\"3176\",\"type\":\"BasicTicker\"}},\"id\":\"3175\",\"type\":\"LinearAxis\"},{\"attributes\":{\"callback\":null,\"end\":54.85057136455299,\"start\":26.33972344035082},\"id\":\"3167\",\"type\":\"Range1d\"},{\"attributes\":{},\"id\":\"3205\",\"type\":\"BasicTickFormatter\"},{\"attributes\":{},\"id\":\"3188\",\"type\":\"SaveTool\"},{\"attributes\":{\"overlay\":{\"id\":\"3208\",\"type\":\"BoxAnnotation\"}},\"id\":\"3187\",\"type\":\"BoxZoomTool\"},{\"attributes\":{},\"id\":\"3329\",\"type\":\"UnionRenderers\"},{\"attributes\":{\"source\":{\"id\":\"3198\",\"type\":\"ColumnDataSource\"}},\"id\":\"3202\",\"type\":\"CDSView\"},{\"attributes\":{},\"id\":\"3190\",\"type\":\"HelpTool\"},{\"attributes\":{\"active_drag\":\"auto\",\"active_inspect\":\"auto\",\"active_multi\":null,\"active_scroll\":\"auto\",\"active_tap\":\"auto\",\"tools\":[{\"id\":\"3185\",\"type\":\"PanTool\"},{\"id\":\"3186\",\"type\":\"WheelZoomTool\"},{\"id\":\"3187\",\"type\":\"BoxZoomTool\"},{\"id\":\"3188\",\"type\":\"SaveTool\"},{\"id\":\"3189\",\"type\":\"ResetTool\"},{\"id\":\"3190\",\"type\":\"HelpTool\"}]},\"id\":\"3191\",\"type\":\"Toolbar\"},{\"attributes\":{\"bottom_units\":\"screen\",\"fill_alpha\":{\"value\":0.5},\"fill_color\":{\"value\":\"lightgrey\"},\"left_units\":\"screen\",\"level\":\"overlay\",\"line_alpha\":{\"value\":1.0},\"line_color\":{\"value\":\"black\"},\"line_dash\":[4,4],\"line_width\":{\"value\":2},\"render_mode\":\"css\",\"right_units\":\"screen\",\"top_units\":\"screen\"},\"id\":\"3208\",\"type\":\"BoxAnnotation\"},{\"attributes\":{\"items\":[{\"id\":\"3210\",\"type\":\"LegendItem\"}]},\"id\":\"3209\",\"type\":\"Legend\"},{\"attributes\":{\"dimension\":1,\"ticker\":{\"id\":\"3181\",\"type\":\"BasicTicker\"}},\"id\":\"3184\",\"type\":\"Grid\"},{\"attributes\":{},\"id\":\"3330\",\"type\":\"Selection\"},{\"attributes\":{},\"id\":\"3171\",\"type\":\"LinearScale\"},{\"attributes\":{\"bottom\":{\"value\":0},\"fill_alpha\":{\"value\":0.1},\"fill_color\":{\"value\":\"#1f77b4\"},\"left\":{\"field\":\"left\"},\"line_alpha\":{\"value\":0.1},\"line_color\":{\"value\":\"#1f77b4\"},\"right\":{\"field\":\"right\"},\"top\":{\"field\":\"top\"}},\"id\":\"3200\",\"type\":\"Quad\"},{\"attributes\":{\"axis_label\":\"Frequency\",\"formatter\":{\"id\":\"3207\",\"type\":\"BasicTickFormatter\"},\"ticker\":{\"id\":\"3181\",\"type\":\"BasicTicker\"}},\"id\":\"3180\",\"type\":\"LinearAxis\"},{\"attributes\":{\"data_source\":{\"id\":\"3198\",\"type\":\"ColumnDataSource\"},\"glyph\":{\"id\":\"3199\",\"type\":\"Quad\"},\"hover_glyph\":null,\"muted_glyph\":null,\"nonselection_glyph\":{\"id\":\"3200\",\"type\":\"Quad\"},\"selection_glyph\":null,\"view\":{\"id\":\"3202\",\"type\":\"CDSView\"}},\"id\":\"3201\",\"type\":\"GlyphRenderer\"},{\"attributes\":{},\"id\":\"3173\",\"type\":\"LinearScale\"},{\"attributes\":{\"callback\":null,\"data\":{\"left\":[27.6356710732691,28.154050126436413,28.672429179603725,29.190808232771037,29.70918728593835,30.227566339105664,30.745945392272976,31.264324445440288,31.7827034986076,32.30108255177491,32.81946160494223,33.337840658109535,33.85621971127685,34.37459876444416,34.892977817611474,35.41135687077879,35.9297359239461,36.448114977113406,36.96649403028072,37.484873083448036,38.003252136615345,38.52163118978266,39.040010242949975,39.558389296117284,40.07676834928459,40.59514740245191,41.11352645561922,41.63190550878653,42.150284561953846,42.668663615121154,43.18704266828847,43.70542172145578,44.22380077462309,44.74217982779041,45.26055888095772,45.778937934125025,46.29731698729234,46.815696040459656,47.334075093626964,47.85245414679428,48.370833199961595,48.8892122531289,49.40759130629621,49.92597035946353,50.44434941263084,50.96272846579815,51.481107518965466,51.99948657213278,52.51786562530009,53.0362446784674],\"right\":[28.154050126436413,28.672429179603725,29.190808232771037,29.70918728593835,30.227566339105664,30.745945392272976,31.264324445440288,31.7827034986076,32.30108255177491,32.81946160494223,33.337840658109535,33.85621971127685,34.37459876444416,34.892977817611474,35.41135687077879,35.9297359239461,36.448114977113406,36.96649403028072,37.484873083448036,38.003252136615345,38.52163118978266,39.040010242949975,39.558389296117284,40.07676834928459,40.59514740245191,41.11352645561922,41.63190550878653,42.150284561953846,42.668663615121154,43.18704266828847,43.70542172145578,44.22380077462309,44.74217982779041,45.26055888095772,45.778937934125025,46.29731698729234,46.815696040459656,47.334075093626964,47.85245414679428,48.370833199961595,48.8892122531289,49.40759130629621,49.92597035946353,50.44434941263084,50.96272846579815,51.481107518965466,51.99948657213278,52.51786562530009,53.0362446784674,53.55462373163471],\"top\":[2,3,6,14,25,49,77,102,155,187,203,206,189,140,120,106,60,55,16,13,10,9,6,7,2,5,2,1,2,0,3,1,0,2,0,1,0,0,0,1,1,0,0,0,1,0,0,1,0,1]},\"selected\":{\"id\":\"3330\",\"type\":\"Selection\"},\"selection_policy\":{\"id\":\"3329\",\"type\":\"UnionRenderers\"}},\"id\":\"3198\",\"type\":\"ColumnDataSource\"},{\"attributes\":{},\"id\":\"3185\",\"type\":\"PanTool\"},{\"attributes\":{},\"id\":\"3176\",\"type\":\"BasicTicker\"},{\"attributes\":{\"ticker\":{\"id\":\"3176\",\"type\":\"BasicTicker\"}},\"id\":\"3179\",\"type\":\"Grid\"},{\"attributes\":{\"bottom\":{\"value\":0},\"fill_color\":{\"value\":\"#1f77b4\"},\"left\":{\"field\":\"left\"},\"right\":{\"field\":\"right\"},\"top\":{\"field\":\"top\"}},\"id\":\"3199\",\"type\":\"Quad\"},{\"attributes\":{},\"id\":\"3207\",\"type\":\"BasicTickFormatter\"},{\"attributes\":{},\"id\":\"3181\",\"type\":\"BasicTicker\"}],\"root_ids\":[\"3165\"]},\"title\":\"Bokeh Application\",\"version\":\"1.4.0\"}};\n",
       "  var render_items = [{\"docid\":\"044c023e-9447-4334-82ff-87bb7f0d00a9\",\"roots\":{\"3165\":\"09506d41-94f1-4ad9-bfa7-3721af9b1f2c\"}}];\n",
       "  root.Bokeh.embed.embed_items_notebook(docs_json, render_items);\n",
       "\n",
       "  }\n",
       "  if (root.Bokeh !== undefined) {\n",
       "    embed_document(root);\n",
       "  } else {\n",
       "    var attempts = 0;\n",
       "    var timer = setInterval(function(root) {\n",
       "      if (root.Bokeh !== undefined) {\n",
       "        clearInterval(timer);\n",
       "        embed_document(root);\n",
       "      } else {\n",
       "        attempts++;\n",
       "        if (attempts > 100) {\n",
       "          clearInterval(timer);\n",
       "          console.log(\"Bokeh: ERROR: Unable to run BokehJS code because BokehJS library is missing\");\n",
       "        }\n",
       "      }\n",
       "    }, 10, root)\n",
       "  }\n",
       "})(window);"
      ],
      "application/vnd.bokehjs_exec.v0+json": ""
     },
     "metadata": {
      "application/vnd.bokehjs_exec.v0+json": {
       "id": "3165"
      }
     },
     "output_type": "display_data"
    }
   ],
   "source": [
    "p = hl.plot.histogram(m_qc['dp_mean_SNV'], legend='Mean Sample DP - SNV')\n",
    "show(p)"
   ]
  },
  {
   "cell_type": "code",
   "execution_count": 47,
   "id": "9e102bdc",
   "metadata": {
    "ExecuteTime": {
     "end_time": "2022-01-17T11:03:32.775713Z",
     "start_time": "2022-01-17T11:02:24.493187Z"
    }
   },
   "outputs": [
    {
     "name": "stderr",
     "output_type": "stream",
     "text": [
      "2022-01-23 19:12:55 Hail: INFO: Coerced sorted dataset              (3 + 1) / 4]\n",
      "2022-01-23 19:12:58 Hail: INFO: Coerced sorted dataset              (3 + 1) / 4]\n",
      "2022-01-23 19:13:41 Hail: INFO: Coerced sorted dataset              (2 + 2) / 4]\n",
      "2022-01-23 19:13:44 Hail: INFO: Coerced sorted dataset              (1 + 3) / 4]\n",
      "2022-01-23 19:13:57 Hail: INFO: Coerced sorted dataset              (0 + 4) / 4]\n",
      "2022-01-23 19:14:00 Hail: INFO: Coerced sorted dataset              (0 + 4) / 4]\n",
      "2022-01-23 19:14:43 Hail: INFO: Coerced sorted dataset              (0 + 4) / 4]\n",
      "2022-01-23 19:14:46 Hail: INFO: Coerced sorted dataset              (0 + 4) / 4]\n"
     ]
    },
    {
     "data": {
      "text/html": [
       "\n",
       "\n",
       "\n",
       "\n",
       "\n",
       "\n",
       "  <div class=\"bk-root\" id=\"b417fccd-325f-4183-b69a-33c4eb8b61de\" data-root-id=\"3379\"></div>\n"
      ]
     },
     "metadata": {},
     "output_type": "display_data"
    },
    {
     "data": {
      "application/javascript": [
       "(function(root) {\n",
       "  function embed_document(root) {\n",
       "    \n",
       "  var docs_json = {\"0dfbd612-f7a5-419b-8497-eefdf5196d7f\":{\"roots\":{\"references\":[{\"attributes\":{\"background_fill_color\":{\"value\":\"#EEEEEE\"},\"below\":[{\"id\":\"3389\",\"type\":\"LinearAxis\"}],\"center\":[{\"id\":\"3393\",\"type\":\"Grid\"},{\"id\":\"3398\",\"type\":\"Grid\"},{\"id\":\"3423\",\"type\":\"Legend\"}],\"left\":[{\"id\":\"3394\",\"type\":\"LinearAxis\"}],\"renderers\":[{\"id\":\"3415\",\"type\":\"GlyphRenderer\"}],\"title\":null,\"toolbar\":{\"id\":\"3405\",\"type\":\"Toolbar\"},\"x_range\":{\"id\":\"3381\",\"type\":\"Range1d\"},\"x_scale\":{\"id\":\"3385\",\"type\":\"LinearScale\"},\"y_range\":{\"id\":\"3383\",\"type\":\"DataRange1d\"},\"y_scale\":{\"id\":\"3387\",\"type\":\"LinearScale\"}},\"id\":\"3379\",\"subtype\":\"Figure\",\"type\":\"Plot\"},{\"attributes\":{\"data_source\":{\"id\":\"3412\",\"type\":\"ColumnDataSource\"},\"glyph\":{\"id\":\"3413\",\"type\":\"Quad\"},\"hover_glyph\":null,\"muted_glyph\":null,\"nonselection_glyph\":{\"id\":\"3414\",\"type\":\"Quad\"},\"selection_glyph\":null,\"view\":{\"id\":\"3416\",\"type\":\"CDSView\"}},\"id\":\"3415\",\"type\":\"GlyphRenderer\"},{\"attributes\":{\"items\":[{\"id\":\"3424\",\"type\":\"LegendItem\"}]},\"id\":\"3423\",\"type\":\"Legend\"},{\"attributes\":{},\"id\":\"3387\",\"type\":\"LinearScale\"},{\"attributes\":{\"dimension\":1,\"ticker\":{\"id\":\"3395\",\"type\":\"BasicTicker\"}},\"id\":\"3398\",\"type\":\"Grid\"},{\"attributes\":{\"ticker\":{\"id\":\"3390\",\"type\":\"BasicTicker\"}},\"id\":\"3393\",\"type\":\"Grid\"},{\"attributes\":{\"bottom_units\":\"screen\",\"fill_alpha\":{\"value\":0.5},\"fill_color\":{\"value\":\"lightgrey\"},\"left_units\":\"screen\",\"level\":\"overlay\",\"line_alpha\":{\"value\":1.0},\"line_color\":{\"value\":\"black\"},\"line_dash\":[4,4],\"line_width\":{\"value\":2},\"render_mode\":\"css\",\"right_units\":\"screen\",\"top_units\":\"screen\"},\"id\":\"3422\",\"type\":\"BoxAnnotation\"},{\"attributes\":{\"label\":{\"value\":\"Call rate - SNV\"},\"renderers\":[{\"id\":\"3415\",\"type\":\"GlyphRenderer\"}]},\"id\":\"3424\",\"type\":\"LegendItem\"},{\"attributes\":{\"bottom\":{\"value\":0},\"fill_alpha\":{\"value\":0.1},\"fill_color\":{\"value\":\"#1f77b4\"},\"left\":{\"field\":\"left\"},\"line_alpha\":{\"value\":0.1},\"line_color\":{\"value\":\"#1f77b4\"},\"right\":{\"field\":\"right\"},\"top\":{\"field\":\"top\"}},\"id\":\"3414\",\"type\":\"Quad\"},{\"attributes\":{\"axis_label\":\"Call rate - SNV\",\"formatter\":{\"id\":\"3419\",\"type\":\"BasicTickFormatter\"},\"ticker\":{\"id\":\"3390\",\"type\":\"BasicTicker\"}},\"id\":\"3389\",\"type\":\"LinearAxis\"},{\"attributes\":{\"source\":{\"id\":\"3412\",\"type\":\"ColumnDataSource\"}},\"id\":\"3416\",\"type\":\"CDSView\"},{\"attributes\":{\"active_drag\":\"auto\",\"active_inspect\":\"auto\",\"active_multi\":null,\"active_scroll\":\"auto\",\"active_tap\":\"auto\",\"tools\":[{\"id\":\"3399\",\"type\":\"PanTool\"},{\"id\":\"3400\",\"type\":\"WheelZoomTool\"},{\"id\":\"3401\",\"type\":\"BoxZoomTool\"},{\"id\":\"3402\",\"type\":\"SaveTool\"},{\"id\":\"3403\",\"type\":\"ResetTool\"},{\"id\":\"3404\",\"type\":\"HelpTool\"}]},\"id\":\"3405\",\"type\":\"Toolbar\"},{\"attributes\":{},\"id\":\"3421\",\"type\":\"BasicTickFormatter\"},{\"attributes\":{},\"id\":\"3552\",\"type\":\"Selection\"},{\"attributes\":{\"callback\":null,\"end\":0.9974792740309208,\"start\":0.9811065586889024},\"id\":\"3381\",\"type\":\"Range1d\"},{\"attributes\":{\"overlay\":{\"id\":\"3422\",\"type\":\"BoxAnnotation\"}},\"id\":\"3401\",\"type\":\"BoxZoomTool\"},{\"attributes\":{},\"id\":\"3395\",\"type\":\"BasicTicker\"},{\"attributes\":{},\"id\":\"3403\",\"type\":\"ResetTool\"},{\"attributes\":{},\"id\":\"3399\",\"type\":\"PanTool\"},{\"attributes\":{\"bottom\":{\"value\":0},\"fill_color\":{\"value\":\"#1f77b4\"},\"left\":{\"field\":\"left\"},\"right\":{\"field\":\"right\"},\"top\":{\"field\":\"top\"}},\"id\":\"3413\",\"type\":\"Quad\"},{\"attributes\":{},\"id\":\"3404\",\"type\":\"HelpTool\"},{\"attributes\":{\"callback\":null,\"data\":{\"left\":[0.9818507730226305,0.9821484587561217,0.982446144489613,0.9827438302231042,0.9830415159565955,0.9833392016900867,0.9836368874235779,0.9839345731570692,0.9842322588905604,0.9845299446240516,0.984827630357543,0.9851253160910342,0.9854230018245255,0.9857206875580167,0.9860183732915079,0.9863160590249992,0.9866137447584904,0.9869114304919816,0.9872091162254729,0.9875068019589641,0.9878044876924554,0.9881021734259466,0.9883998591594378,0.9886975448929292,0.9889952306264204,0.9892929163599116,0.9895906020934029,0.9898882878268941,0.9901859735603854,0.9904836592938766,0.9907813450273678,0.9910790307608591,0.9913767164943503,0.9916744022278416,0.9919720879613328,0.992269773694824,0.9925674594283154,0.9928651451618066,0.9931628308952978,0.9934605166287891,0.9937582023622803,0.9940558880957716,0.9943535738292628,0.994651259562754,0.9949489452962453,0.9952466310297365,0.9955443167632277,0.9958420024967191,0.9961396882302103,0.9964373739637016],\"right\":[0.9821484587561217,0.982446144489613,0.9827438302231042,0.9830415159565955,0.9833392016900867,0.9836368874235779,0.9839345731570692,0.9842322588905604,0.9845299446240516,0.984827630357543,0.9851253160910342,0.9854230018245255,0.9857206875580167,0.9860183732915079,0.9863160590249992,0.9866137447584904,0.9869114304919816,0.9872091162254729,0.9875068019589641,0.9878044876924554,0.9881021734259466,0.9883998591594378,0.9886975448929292,0.9889952306264204,0.9892929163599116,0.9895906020934029,0.9898882878268941,0.9901859735603854,0.9904836592938766,0.9907813450273678,0.9910790307608591,0.9913767164943503,0.9916744022278416,0.9919720879613328,0.992269773694824,0.9925674594283154,0.9928651451618066,0.9931628308952978,0.9934605166287891,0.9937582023622803,0.9940558880957716,0.9943535738292628,0.994651259562754,0.9949489452962453,0.9952466310297365,0.9955443167632277,0.9958420024967191,0.9961396882302103,0.9964373739637016,0.9967350596971928],\"top\":[1,0,0,0,0,0,1,0,0,1,0,1,0,2,2,3,1,2,3,9,6,11,22,6,12,29,31,18,29,38,59,53,63,83,71,92,137,121,123,141,120,131,114,98,75,35,23,14,2,1]},\"selected\":{\"id\":\"3552\",\"type\":\"Selection\"},\"selection_policy\":{\"id\":\"3551\",\"type\":\"UnionRenderers\"}},\"id\":\"3412\",\"type\":\"ColumnDataSource\"},{\"attributes\":{\"axis_label\":\"Frequency\",\"formatter\":{\"id\":\"3421\",\"type\":\"BasicTickFormatter\"},\"ticker\":{\"id\":\"3395\",\"type\":\"BasicTicker\"}},\"id\":\"3394\",\"type\":\"LinearAxis\"},{\"attributes\":{},\"id\":\"3402\",\"type\":\"SaveTool\"},{\"attributes\":{\"callback\":null},\"id\":\"3383\",\"type\":\"DataRange1d\"},{\"attributes\":{},\"id\":\"3385\",\"type\":\"LinearScale\"},{\"attributes\":{},\"id\":\"3419\",\"type\":\"BasicTickFormatter\"},{\"attributes\":{},\"id\":\"3390\",\"type\":\"BasicTicker\"},{\"attributes\":{},\"id\":\"3400\",\"type\":\"WheelZoomTool\"},{\"attributes\":{},\"id\":\"3551\",\"type\":\"UnionRenderers\"}],\"root_ids\":[\"3379\"]},\"title\":\"Bokeh Application\",\"version\":\"1.4.0\"}};\n",
       "  var render_items = [{\"docid\":\"0dfbd612-f7a5-419b-8497-eefdf5196d7f\",\"roots\":{\"3379\":\"b417fccd-325f-4183-b69a-33c4eb8b61de\"}}];\n",
       "  root.Bokeh.embed.embed_items_notebook(docs_json, render_items);\n",
       "\n",
       "  }\n",
       "  if (root.Bokeh !== undefined) {\n",
       "    embed_document(root);\n",
       "  } else {\n",
       "    var attempts = 0;\n",
       "    var timer = setInterval(function(root) {\n",
       "      if (root.Bokeh !== undefined) {\n",
       "        clearInterval(timer);\n",
       "        embed_document(root);\n",
       "      } else {\n",
       "        attempts++;\n",
       "        if (attempts > 100) {\n",
       "          clearInterval(timer);\n",
       "          console.log(\"Bokeh: ERROR: Unable to run BokehJS code because BokehJS library is missing\");\n",
       "        }\n",
       "      }\n",
       "    }, 10, root)\n",
       "  }\n",
       "})(window);"
      ],
      "application/vnd.bokehjs_exec.v0+json": ""
     },
     "metadata": {
      "application/vnd.bokehjs_exec.v0+json": {
       "id": "3379"
      }
     },
     "output_type": "display_data"
    }
   ],
   "source": [
    "p = hl.plot.histogram(m_qc['call_rate_SNV'], legend='Call rate - SNV')\n",
    "show(p)"
   ]
  },
  {
   "cell_type": "markdown",
   "id": "52704857-2456-455f-9654-bfaf96c52525",
   "metadata": {},
   "source": [
    "### 유전변이\n",
    "\n",
    "유전변이의 정도관리는 `variant_qc()` 함수를 통해 시행합니다. 샘플 수준의 정도관리인 `sample_qc()`와는 다른 기능입니다. `variant_qc()`는 하나의 variant (즉 row)에 대하여 모든 샘플에 나타나는 지표를 확인한 것이고, `sample_qc()`는 한 샘플에 대하여 모든 변이가 갖는 정보를 나타냅니다. \n",
    "\n",
    "`variant_qc()`를 한 후 추가된 정보에 대하여 시각화를 해봅시다. "
   ]
  },
  {
   "cell_type": "code",
   "execution_count": 48,
   "id": "f904d741-c81b-4b66-b6f7-e166ac79635b",
   "metadata": {
    "ExecuteTime": {
     "end_time": "2022-01-17T11:03:32.829197Z",
     "start_time": "2022-01-17T11:03:32.776580Z"
    },
    "tags": []
   },
   "outputs": [
    {
     "name": "stdout",
     "output_type": "stream",
     "text": [
      "----------------------------------------\n",
      "Global fields:\n",
      "    None\n",
      "----------------------------------------\n",
      "Column fields:\n",
      "    's': str\n",
      "    'fam': str\n",
      "    'pat_id': str\n",
      "    'mat_id': str\n",
      "    'isFemale': bool\n",
      "    'phenotype': bool\n",
      "    'ROLE': str\n",
      "    'population': str\n",
      "    'height': float64\n",
      "    'NVIQ': float64\n",
      "----------------------------------------\n",
      "Row fields:\n",
      "    'locus': locus<GRCh38>\n",
      "    'alleles': array<str>\n",
      "    'rsid': str\n",
      "    'qual': float64\n",
      "    'filters': set<str>\n",
      "    'info': struct {\n",
      "        AC: array<int32>, \n",
      "        AF: array<float64>, \n",
      "        AN: int32, \n",
      "        BaseQRankSum: float64, \n",
      "        ClippingRankSum: float64, \n",
      "        DP: int32, \n",
      "        DS: bool, \n",
      "        END: int32, \n",
      "        FS: float64, \n",
      "        HaplotypeScore: float64, \n",
      "        InbreedingCoeff: float64, \n",
      "        MLEAC: array<int32>, \n",
      "        MLEAF: array<float64>, \n",
      "        MQ: float64, \n",
      "        MQ0: int32, \n",
      "        MQRankSum: float64, \n",
      "        NEGATIVE_TRAIN_SITE: bool, \n",
      "        POSITIVE_TRAIN_SITE: bool, \n",
      "        QD: float64, \n",
      "        RAW_MQ: float64, \n",
      "        ReadPosRankSum: float64, \n",
      "        SOR: float64, \n",
      "        VQSLOD: float64, \n",
      "        VariantType: str, \n",
      "        culprit: str, \n",
      "        AN_EUR: int32, \n",
      "        AN_EAS: int32, \n",
      "        AN_AMR: int32, \n",
      "        AN_SAS: int32, \n",
      "        AN_AFR: int32, \n",
      "        AC_EUR: array<int32>, \n",
      "        AC_EAS: array<int32>, \n",
      "        AC_AMR: array<int32>, \n",
      "        AC_SAS: array<int32>, \n",
      "        AC_AFR: array<int32>, \n",
      "        AC_Hom_EUR: array<int32>, \n",
      "        AC_Hom_EAS: array<int32>, \n",
      "        AC_Hom_AMR: array<int32>, \n",
      "        AC_Hom_SAS: array<int32>, \n",
      "        AC_Hom_AFR: array<int32>, \n",
      "        AC_Hom: array<int32>, \n",
      "        AC_Het_EUR: array<int32>, \n",
      "        AC_Het_EAS: array<int32>, \n",
      "        AC_Het_AMR: array<int32>, \n",
      "        AC_Het_SAS: array<int32>, \n",
      "        AC_Het_AFR: array<int32>, \n",
      "        AC_Het: array<int32>, \n",
      "        AF_EUR: array<float64>, \n",
      "        AF_EAS: array<float64>, \n",
      "        AF_AMR: array<float64>, \n",
      "        AF_SAS: array<float64>, \n",
      "        AF_AFR: array<float64>, \n",
      "        HWE_EUR: array<float64>, \n",
      "        HWE_EAS: array<float64>, \n",
      "        HWE_AMR: array<float64>, \n",
      "        HWE_SAS: array<float64>, \n",
      "        HWE_AFR: array<float64>, \n",
      "        HWE: array<float64>, \n",
      "        ExcHet_EUR: array<float64>, \n",
      "        ExcHet_EAS: array<float64>, \n",
      "        ExcHet_AMR: array<float64>, \n",
      "        ExcHet_SAS: array<float64>, \n",
      "        ExcHet_AFR: array<float64>, \n",
      "        ExcHet: array<float64>, \n",
      "        ME: array<float64>, \n",
      "        AN_EUR_unrel: int32, \n",
      "        AN_EAS_unrel: int32, \n",
      "        AN_AMR_unrel: int32, \n",
      "        AN_SAS_unrel: int32, \n",
      "        AN_AFR_unrel: int32, \n",
      "        AC_EUR_unrel: array<int32>, \n",
      "        AC_EAS_unrel: array<int32>, \n",
      "        AC_AMR_unrel: array<int32>, \n",
      "        AC_SAS_unrel: array<int32>, \n",
      "        AC_AFR_unrel: array<int32>, \n",
      "        AC_Hom_EUR_unrel: array<int32>, \n",
      "        AC_Hom_EAS_unrel: array<int32>, \n",
      "        AC_Hom_AMR_unrel: array<int32>, \n",
      "        AC_Hom_SAS_unrel: array<int32>, \n",
      "        AC_Hom_AFR_unrel: array<int32>, \n",
      "        AC_Het_EUR_unrel: array<int32>, \n",
      "        AC_Het_EAS_unrel: array<int32>, \n",
      "        AC_Het_AMR_unrel: array<int32>, \n",
      "        AC_Het_SAS_unrel: array<int32>, \n",
      "        AC_Het_AFR_unrel: array<int32>, \n",
      "        AF_EUR_unrel: array<float64>, \n",
      "        AF_EAS_unrel: array<float64>, \n",
      "        AF_AMR_unrel: array<float64>, \n",
      "        AF_SAS_unrel: array<float64>, \n",
      "        AF_AFR_unrel: array<float64>, \n",
      "        HWE_EUR_unrel: array<float64>, \n",
      "        HWE_EAS_unrel: array<float64>, \n",
      "        HWE_AMR_unrel: array<float64>, \n",
      "        HWE_SAS_unrel: array<float64>, \n",
      "        HWE_AFR_unrel: array<float64>, \n",
      "        CSQ: array<str>\n",
      "    }\n",
      "    'a_index': int32\n",
      "    'was_split': bool\n",
      "    'old_locus': locus<GRCh38>\n",
      "    'old_alleles': array<str>\n",
      "    'variant_qc': struct {\n",
      "        dp_stats: struct {\n",
      "            mean: float64, \n",
      "            stdev: float64, \n",
      "            min: float64, \n",
      "            max: float64\n",
      "        }, \n",
      "        gq_stats: struct {\n",
      "            mean: float64, \n",
      "            stdev: float64, \n",
      "            min: float64, \n",
      "            max: float64\n",
      "        }, \n",
      "        AC: array<int32>, \n",
      "        AF: array<float64>, \n",
      "        AN: int32, \n",
      "        homozygote_count: array<int32>, \n",
      "        call_rate: float64, \n",
      "        n_called: int64, \n",
      "        n_not_called: int64, \n",
      "        n_filtered: int64, \n",
      "        n_het: int64, \n",
      "        n_non_ref: int64, \n",
      "        het_freq_hwe: float64, \n",
      "        p_value_hwe: float64, \n",
      "        p_value_excess_het: float64\n",
      "    }\n",
      "----------------------------------------\n",
      "Entry fields:\n",
      "    'AB': float64\n",
      "    'AD': array<int32>\n",
      "    'DP': int32\n",
      "    'GQ': int32\n",
      "    'GT': call\n",
      "    'MIN_DP': int32\n",
      "    'MQ0': int32\n",
      "    'PGT': call\n",
      "    'PID': str\n",
      "    'PL': array<int32>\n",
      "    'RGQ': int32\n",
      "    'SB': array<int32>\n",
      "----------------------------------------\n",
      "Column key: ['s']\n",
      "Row key: ['locus', 'alleles']\n",
      "----------------------------------------\n"
     ]
    }
   ],
   "source": [
    "mt = hl.variant_qc(mt)\n",
    "mt.describe()"
   ]
  },
  {
   "cell_type": "code",
   "execution_count": 49,
   "id": "799277f4",
   "metadata": {
    "ExecuteTime": {
     "end_time": "2022-01-17T11:04:04.173456Z",
     "start_time": "2022-01-17T11:03:32.834543Z"
    }
   },
   "outputs": [
    {
     "name": "stderr",
     "output_type": "stream",
     "text": [
      "2022-01-23 19:14:50 Hail: INFO: Coerced sorted dataset              (0 + 4) / 4]\n",
      "2022-01-23 19:14:53 Hail: INFO: Coerced sorted dataset              (0 + 4) / 4]\n",
      "2022-01-23 19:15:35 Hail: INFO: Coerced sorted dataset              (0 + 4) / 4]\n",
      "2022-01-23 19:15:38 Hail: INFO: Coerced sorted dataset              (0 + 4) / 4]\n",
      "[Stage 206:>                                                        (0 + 1) / 1]\r"
     ]
    },
    {
     "data": {
      "text/html": [
       "\n",
       "\n",
       "\n",
       "\n",
       "\n",
       "\n",
       "  <div class=\"bk-root\" id=\"55abb143-e53b-4dbb-b3a9-7162e55fc2e8\" data-root-id=\"3601\"></div>\n"
      ]
     },
     "metadata": {},
     "output_type": "display_data"
    },
    {
     "data": {
      "application/javascript": [
       "(function(root) {\n",
       "  function embed_document(root) {\n",
       "    \n",
       "  var docs_json = {\"e5330458-18e8-4b2d-844a-e740207c3ca3\":{\"roots\":{\"references\":[{\"attributes\":{\"background_fill_color\":{\"value\":\"#EEEEEE\"},\"below\":[{\"id\":\"3611\",\"type\":\"LinearAxis\"}],\"center\":[{\"id\":\"3615\",\"type\":\"Grid\"},{\"id\":\"3620\",\"type\":\"Grid\"},{\"id\":\"3645\",\"type\":\"Legend\"}],\"left\":[{\"id\":\"3616\",\"type\":\"LinearAxis\"}],\"renderers\":[{\"id\":\"3637\",\"type\":\"GlyphRenderer\"}],\"title\":null,\"toolbar\":{\"id\":\"3627\",\"type\":\"Toolbar\"},\"x_range\":{\"id\":\"3603\",\"type\":\"Range1d\"},\"x_scale\":{\"id\":\"3607\",\"type\":\"LinearScale\"},\"y_range\":{\"id\":\"3605\",\"type\":\"DataRange1d\"},\"y_scale\":{\"id\":\"3609\",\"type\":\"LinearScale\"}},\"id\":\"3601\",\"subtype\":\"Figure\",\"type\":\"Plot\"},{\"attributes\":{},\"id\":\"3624\",\"type\":\"SaveTool\"},{\"attributes\":{},\"id\":\"3607\",\"type\":\"LinearScale\"},{\"attributes\":{\"callback\":null,\"data\":{\"left\":[0.8811659192825112,2.3045515695067262,3.7279372197309417,5.151322869955157,6.574708520179373,7.998094170403588,9.421479820627802,10.844865470852017,12.268251121076233,13.691636771300448,15.115022421524664,16.53840807174888,17.961793721973095,19.38517937219731,20.808565022421526,22.23195067264574,23.655336322869957,25.078721973094172,26.502107623318388,27.925493273542603,29.34887892376682,30.772264573991034,32.19565022421525,33.61903587443946,35.04242152466367,36.46580717488789,37.889192825112104,39.31257847533632,40.735964125560535,42.159349775784754,43.582735426008966,45.006121076233185,46.4295067264574,47.85289237668161,49.27627802690583,50.69966367713004,52.12304932735426,53.54643497757847,54.96982062780269,56.3932062780269,57.81659192825112,59.23997757847533,60.66336322869955,62.086748878923764,63.51013452914798,64.9335201793722,66.35690582959641,67.78029147982063,69.20367713004484,70.62706278026906],\"right\":[2.3045515695067262,3.7279372197309417,5.151322869955157,6.574708520179373,7.998094170403588,9.421479820627802,10.844865470852017,12.268251121076233,13.691636771300448,15.115022421524664,16.53840807174888,17.961793721973095,19.38517937219731,20.808565022421526,22.23195067264574,23.655336322869957,25.078721973094172,26.502107623318388,27.925493273542603,29.34887892376682,30.772264573991034,32.19565022421525,33.61903587443946,35.04242152466367,36.46580717488789,37.889192825112104,39.31257847533632,40.735964125560535,42.159349775784754,43.582735426008966,45.006121076233185,46.4295067264574,47.85289237668161,49.27627802690583,50.69966367713004,52.12304932735426,53.54643497757847,54.96982062780269,56.3932062780269,57.81659192825112,59.23997757847533,60.66336322869955,62.086748878923764,63.51013452914798,64.9335201793722,66.35690582959641,67.78029147982063,69.20367713004484,70.62706278026906,72.05044843049328],\"top\":[1,0,6,19,34,110,83,110,144,161,226,201,191,241,220,329,337,498,606,718,1284,2701,4869,5842,5591,4334,2374,908,432,211,111,95,36,41,10,4,8,4,1,0,1,2,0,0,0,2,0,0,0,1]},\"selected\":{\"id\":\"3782\",\"type\":\"Selection\"},\"selection_policy\":{\"id\":\"3781\",\"type\":\"UnionRenderers\"}},\"id\":\"3634\",\"type\":\"ColumnDataSource\"},{\"attributes\":{},\"id\":\"3625\",\"type\":\"ResetTool\"},{\"attributes\":{\"callback\":null,\"end\":75.60891255605381,\"start\":-2.6772982062780275},\"id\":\"3603\",\"type\":\"Range1d\"},{\"attributes\":{\"bottom\":{\"value\":0},\"fill_alpha\":{\"value\":0.1},\"fill_color\":{\"value\":\"#1f77b4\"},\"left\":{\"field\":\"left\"},\"line_alpha\":{\"value\":0.1},\"line_color\":{\"value\":\"#1f77b4\"},\"right\":{\"field\":\"right\"},\"top\":{\"field\":\"top\"}},\"id\":\"3636\",\"type\":\"Quad\"},{\"attributes\":{},\"id\":\"3612\",\"type\":\"BasicTicker\"},{\"attributes\":{\"overlay\":{\"id\":\"3644\",\"type\":\"BoxAnnotation\"}},\"id\":\"3623\",\"type\":\"BoxZoomTool\"},{\"attributes\":{\"items\":[{\"id\":\"3646\",\"type\":\"LegendItem\"}]},\"id\":\"3645\",\"type\":\"Legend\"},{\"attributes\":{\"callback\":null},\"id\":\"3605\",\"type\":\"DataRange1d\"},{\"attributes\":{},\"id\":\"3641\",\"type\":\"BasicTickFormatter\"},{\"attributes\":{\"ticker\":{\"id\":\"3612\",\"type\":\"BasicTicker\"}},\"id\":\"3615\",\"type\":\"Grid\"},{\"attributes\":{},\"id\":\"3643\",\"type\":\"BasicTickFormatter\"},{\"attributes\":{},\"id\":\"3781\",\"type\":\"UnionRenderers\"},{\"attributes\":{},\"id\":\"3609\",\"type\":\"LinearScale\"},{\"attributes\":{},\"id\":\"3617\",\"type\":\"BasicTicker\"},{\"attributes\":{\"source\":{\"id\":\"3634\",\"type\":\"ColumnDataSource\"}},\"id\":\"3638\",\"type\":\"CDSView\"},{\"attributes\":{},\"id\":\"3626\",\"type\":\"HelpTool\"},{\"attributes\":{\"axis_label\":\"Mean DP at the variant level\",\"formatter\":{\"id\":\"3641\",\"type\":\"BasicTickFormatter\"},\"ticker\":{\"id\":\"3612\",\"type\":\"BasicTicker\"}},\"id\":\"3611\",\"type\":\"LinearAxis\"},{\"attributes\":{\"axis_label\":\"Frequency\",\"formatter\":{\"id\":\"3643\",\"type\":\"BasicTickFormatter\"},\"ticker\":{\"id\":\"3617\",\"type\":\"BasicTicker\"}},\"id\":\"3616\",\"type\":\"LinearAxis\"},{\"attributes\":{},\"id\":\"3622\",\"type\":\"WheelZoomTool\"},{\"attributes\":{},\"id\":\"3621\",\"type\":\"PanTool\"},{\"attributes\":{\"bottom_units\":\"screen\",\"fill_alpha\":{\"value\":0.5},\"fill_color\":{\"value\":\"lightgrey\"},\"left_units\":\"screen\",\"level\":\"overlay\",\"line_alpha\":{\"value\":1.0},\"line_color\":{\"value\":\"black\"},\"line_dash\":[4,4],\"line_width\":{\"value\":2},\"render_mode\":\"css\",\"right_units\":\"screen\",\"top_units\":\"screen\"},\"id\":\"3644\",\"type\":\"BoxAnnotation\"},{\"attributes\":{\"active_drag\":\"auto\",\"active_inspect\":\"auto\",\"active_multi\":null,\"active_scroll\":\"auto\",\"active_tap\":\"auto\",\"tools\":[{\"id\":\"3621\",\"type\":\"PanTool\"},{\"id\":\"3622\",\"type\":\"WheelZoomTool\"},{\"id\":\"3623\",\"type\":\"BoxZoomTool\"},{\"id\":\"3624\",\"type\":\"SaveTool\"},{\"id\":\"3625\",\"type\":\"ResetTool\"},{\"id\":\"3626\",\"type\":\"HelpTool\"}]},\"id\":\"3627\",\"type\":\"Toolbar\"},{\"attributes\":{\"dimension\":1,\"ticker\":{\"id\":\"3617\",\"type\":\"BasicTicker\"}},\"id\":\"3620\",\"type\":\"Grid\"},{\"attributes\":{\"label\":{\"value\":\"Mean DP at the variant level\"},\"renderers\":[{\"id\":\"3637\",\"type\":\"GlyphRenderer\"}]},\"id\":\"3646\",\"type\":\"LegendItem\"},{\"attributes\":{},\"id\":\"3782\",\"type\":\"Selection\"},{\"attributes\":{\"data_source\":{\"id\":\"3634\",\"type\":\"ColumnDataSource\"},\"glyph\":{\"id\":\"3635\",\"type\":\"Quad\"},\"hover_glyph\":null,\"muted_glyph\":null,\"nonselection_glyph\":{\"id\":\"3636\",\"type\":\"Quad\"},\"selection_glyph\":null,\"view\":{\"id\":\"3638\",\"type\":\"CDSView\"}},\"id\":\"3637\",\"type\":\"GlyphRenderer\"},{\"attributes\":{\"bottom\":{\"value\":0},\"fill_color\":{\"value\":\"#1f77b4\"},\"left\":{\"field\":\"left\"},\"right\":{\"field\":\"right\"},\"top\":{\"field\":\"top\"}},\"id\":\"3635\",\"type\":\"Quad\"}],\"root_ids\":[\"3601\"]},\"title\":\"Bokeh Application\",\"version\":\"1.4.0\"}};\n",
       "  var render_items = [{\"docid\":\"e5330458-18e8-4b2d-844a-e740207c3ca3\",\"roots\":{\"3601\":\"55abb143-e53b-4dbb-b3a9-7162e55fc2e8\"}}];\n",
       "  root.Bokeh.embed.embed_items_notebook(docs_json, render_items);\n",
       "\n",
       "  }\n",
       "  if (root.Bokeh !== undefined) {\n",
       "    embed_document(root);\n",
       "  } else {\n",
       "    var attempts = 0;\n",
       "    var timer = setInterval(function(root) {\n",
       "      if (root.Bokeh !== undefined) {\n",
       "        clearInterval(timer);\n",
       "        embed_document(root);\n",
       "      } else {\n",
       "        attempts++;\n",
       "        if (attempts > 100) {\n",
       "          clearInterval(timer);\n",
       "          console.log(\"Bokeh: ERROR: Unable to run BokehJS code because BokehJS library is missing\");\n",
       "        }\n",
       "      }\n",
       "    }, 10, root)\n",
       "  }\n",
       "})(window);"
      ],
      "application/vnd.bokehjs_exec.v0+json": ""
     },
     "metadata": {
      "application/vnd.bokehjs_exec.v0+json": {
       "id": "3601"
      }
     },
     "output_type": "display_data"
    }
   ],
   "source": [
    "p = hl.plot.histogram(mt.variant_qc.dp_stats['mean'], legend='Mean DP at the variant level')\n",
    "show(p)"
   ]
  },
  {
   "cell_type": "code",
   "execution_count": 50,
   "id": "fcd38172",
   "metadata": {
    "ExecuteTime": {
     "end_time": "2022-01-17T11:04:35.372449Z",
     "start_time": "2022-01-17T11:04:04.174507Z"
    }
   },
   "outputs": [
    {
     "name": "stderr",
     "output_type": "stream",
     "text": [
      "2022-01-23 19:16:21 Hail: INFO: Coerced sorted dataset              (0 + 4) / 4]\n",
      "2022-01-23 19:16:24 Hail: INFO: Coerced sorted dataset              (0 + 4) / 4]\n",
      "2022-01-23 19:17:08 Hail: INFO: Coerced sorted dataset              (0 + 4) / 4]\n",
      "2022-01-23 19:17:11 Hail: INFO: Coerced sorted dataset              (0 + 4) / 4]\n",
      "[Stage 212:>                                                        (0 + 1) / 1]\r"
     ]
    },
    {
     "data": {
      "text/html": [
       "\n",
       "\n",
       "\n",
       "\n",
       "\n",
       "\n",
       "  <div class=\"bk-root\" id=\"aab546a5-c19b-4799-b694-8f6767495346\" data-root-id=\"3831\"></div>\n"
      ]
     },
     "metadata": {},
     "output_type": "display_data"
    },
    {
     "data": {
      "application/javascript": [
       "(function(root) {\n",
       "  function embed_document(root) {\n",
       "    \n",
       "  var docs_json = {\"4c5b36c8-2ed9-45e4-b4a1-23d8ee360fea\":{\"roots\":{\"references\":[{\"attributes\":{\"background_fill_color\":{\"value\":\"#EEEEEE\"},\"below\":[{\"id\":\"3841\",\"type\":\"LinearAxis\"}],\"center\":[{\"id\":\"3845\",\"type\":\"Grid\"},{\"id\":\"3850\",\"type\":\"Grid\"},{\"id\":\"3875\",\"type\":\"Legend\"}],\"left\":[{\"id\":\"3846\",\"type\":\"LinearAxis\"}],\"renderers\":[{\"id\":\"3867\",\"type\":\"GlyphRenderer\"}],\"title\":null,\"toolbar\":{\"id\":\"3857\",\"type\":\"Toolbar\"},\"x_range\":{\"id\":\"3833\",\"type\":\"Range1d\"},\"x_scale\":{\"id\":\"3837\",\"type\":\"LinearScale\"},\"y_range\":{\"id\":\"3835\",\"type\":\"DataRange1d\"},\"y_scale\":{\"id\":\"3839\",\"type\":\"LinearScale\"}},\"id\":\"3831\",\"subtype\":\"Figure\",\"type\":\"Plot\"},{\"attributes\":{\"bottom\":{\"value\":0},\"fill_alpha\":{\"value\":0.1},\"fill_color\":{\"value\":\"#1f77b4\"},\"left\":{\"field\":\"left\"},\"line_alpha\":{\"value\":0.1},\"line_color\":{\"value\":\"#1f77b4\"},\"right\":{\"field\":\"right\"},\"top\":{\"field\":\"top\"}},\"id\":\"3866\",\"type\":\"Quad\"},{\"attributes\":{},\"id\":\"3842\",\"type\":\"BasicTicker\"},{\"attributes\":{\"callback\":null,\"data\":{\"left\":[0.008968609865470852,0.02878923766816143,0.04860986547085201,0.0684304932735426,0.08825112107623317,0.10807174887892376,0.12789237668161435,0.1477130044843049,0.1675336322869955,0.1873542600896861,0.20717488789237667,0.22699551569506723,0.24681614349775782,0.26663677130044844,0.286457399103139,0.3062780269058296,0.3260986547085202,0.34591928251121074,0.36573991031390135,0.3855605381165919,0.4053811659192825,0.4252017937219731,0.44502242152466365,0.46484304932735426,0.4846636771300448,0.5044843049327353,0.524304932735426,0.5441255605381166,0.5639461883408071,0.5837668161434977,0.6035874439461884,0.6234080717488789,0.6432286995515695,0.66304932735426,0.6828699551569506,0.7026905829596413,0.7225112107623318,0.7423318385650224,0.7621524663677129,0.7819730941704035,0.8017937219730942,0.8216143497757847,0.8414349775784753,0.8612556053811659,0.8810762331838564,0.900896860986547,0.9207174887892376,0.9405381165919282,0.9603587443946188,0.9801793721973093],\"right\":[0.02878923766816143,0.04860986547085201,0.0684304932735426,0.08825112107623317,0.10807174887892376,0.12789237668161435,0.1477130044843049,0.1675336322869955,0.1873542600896861,0.20717488789237667,0.22699551569506723,0.24681614349775782,0.26663677130044844,0.286457399103139,0.3062780269058296,0.3260986547085202,0.34591928251121074,0.36573991031390135,0.3855605381165919,0.4053811659192825,0.4252017937219731,0.44502242152466365,0.46484304932735426,0.4846636771300448,0.5044843049327353,0.524304932735426,0.5441255605381166,0.5639461883408071,0.5837668161434977,0.6035874439461884,0.6234080717488789,0.6432286995515695,0.66304932735426,0.6828699551569506,0.7026905829596413,0.7225112107623318,0.7423318385650224,0.7621524663677129,0.7819730941704035,0.8017937219730942,0.8216143497757847,0.8414349775784753,0.8612556053811659,0.8810762331838564,0.900896860986547,0.9207174887892376,0.9405381165919282,0.9603587443946188,0.9801793721973093,0.9999999999999999],\"top\":[9,0,4,1,2,4,1,1,16,2,0,1,1,0,1,0,14,11,1,1,2,3,5,1,3,10,5,12,6,4,16,24,12,24,9,44,13,30,39,24,29,33,56,81,77,105,142,238,330,31650]},\"selected\":{\"id\":\"4020\",\"type\":\"Selection\"},\"selection_policy\":{\"id\":\"4019\",\"type\":\"UnionRenderers\"}},\"id\":\"3864\",\"type\":\"ColumnDataSource\"},{\"attributes\":{},\"id\":\"3856\",\"type\":\"HelpTool\"},{\"attributes\":{\"label\":{\"value\":\"Call rate of variants\"},\"renderers\":[{\"id\":\"3867\",\"type\":\"GlyphRenderer\"}]},\"id\":\"3876\",\"type\":\"LegendItem\"},{\"attributes\":{\"items\":[{\"id\":\"3876\",\"type\":\"LegendItem\"}]},\"id\":\"3875\",\"type\":\"Legend\"},{\"attributes\":{\"bottom_units\":\"screen\",\"fill_alpha\":{\"value\":0.5},\"fill_color\":{\"value\":\"lightgrey\"},\"left_units\":\"screen\",\"level\":\"overlay\",\"line_alpha\":{\"value\":1.0},\"line_color\":{\"value\":\"black\"},\"line_dash\":[4,4],\"line_width\":{\"value\":2},\"render_mode\":\"css\",\"right_units\":\"screen\",\"top_units\":\"screen\"},\"id\":\"3874\",\"type\":\"BoxAnnotation\"},{\"attributes\":{\"ticker\":{\"id\":\"3842\",\"type\":\"BasicTicker\"}},\"id\":\"3845\",\"type\":\"Grid\"},{\"attributes\":{},\"id\":\"3837\",\"type\":\"LinearScale\"},{\"attributes\":{\"callback\":null,\"end\":1.0495515695067263,\"start\":-0.040582959641255606},\"id\":\"3833\",\"type\":\"Range1d\"},{\"attributes\":{},\"id\":\"3873\",\"type\":\"BasicTickFormatter\"},{\"attributes\":{},\"id\":\"3855\",\"type\":\"ResetTool\"},{\"attributes\":{},\"id\":\"4020\",\"type\":\"Selection\"},{\"attributes\":{},\"id\":\"3854\",\"type\":\"SaveTool\"},{\"attributes\":{\"source\":{\"id\":\"3864\",\"type\":\"ColumnDataSource\"}},\"id\":\"3868\",\"type\":\"CDSView\"},{\"attributes\":{\"overlay\":{\"id\":\"3874\",\"type\":\"BoxAnnotation\"}},\"id\":\"3853\",\"type\":\"BoxZoomTool\"},{\"attributes\":{},\"id\":\"3871\",\"type\":\"BasicTickFormatter\"},{\"attributes\":{\"axis_label\":\"Frequency\",\"formatter\":{\"id\":\"3873\",\"type\":\"BasicTickFormatter\"},\"ticker\":{\"id\":\"3847\",\"type\":\"BasicTicker\"}},\"id\":\"3846\",\"type\":\"LinearAxis\"},{\"attributes\":{\"bottom\":{\"value\":0},\"fill_color\":{\"value\":\"#1f77b4\"},\"left\":{\"field\":\"left\"},\"right\":{\"field\":\"right\"},\"top\":{\"field\":\"top\"}},\"id\":\"3865\",\"type\":\"Quad\"},{\"attributes\":{},\"id\":\"3851\",\"type\":\"PanTool\"},{\"attributes\":{\"axis_label\":\"Call rate of variants\",\"formatter\":{\"id\":\"3871\",\"type\":\"BasicTickFormatter\"},\"ticker\":{\"id\":\"3842\",\"type\":\"BasicTicker\"}},\"id\":\"3841\",\"type\":\"LinearAxis\"},{\"attributes\":{\"dimension\":1,\"ticker\":{\"id\":\"3847\",\"type\":\"BasicTicker\"}},\"id\":\"3850\",\"type\":\"Grid\"},{\"attributes\":{},\"id\":\"3839\",\"type\":\"LinearScale\"},{\"attributes\":{\"data_source\":{\"id\":\"3864\",\"type\":\"ColumnDataSource\"},\"glyph\":{\"id\":\"3865\",\"type\":\"Quad\"},\"hover_glyph\":null,\"muted_glyph\":null,\"nonselection_glyph\":{\"id\":\"3866\",\"type\":\"Quad\"},\"selection_glyph\":null,\"view\":{\"id\":\"3868\",\"type\":\"CDSView\"}},\"id\":\"3867\",\"type\":\"GlyphRenderer\"},{\"attributes\":{},\"id\":\"3847\",\"type\":\"BasicTicker\"},{\"attributes\":{\"active_drag\":\"auto\",\"active_inspect\":\"auto\",\"active_multi\":null,\"active_scroll\":\"auto\",\"active_tap\":\"auto\",\"tools\":[{\"id\":\"3851\",\"type\":\"PanTool\"},{\"id\":\"3852\",\"type\":\"WheelZoomTool\"},{\"id\":\"3853\",\"type\":\"BoxZoomTool\"},{\"id\":\"3854\",\"type\":\"SaveTool\"},{\"id\":\"3855\",\"type\":\"ResetTool\"},{\"id\":\"3856\",\"type\":\"HelpTool\"}]},\"id\":\"3857\",\"type\":\"Toolbar\"},{\"attributes\":{},\"id\":\"4019\",\"type\":\"UnionRenderers\"},{\"attributes\":{},\"id\":\"3852\",\"type\":\"WheelZoomTool\"},{\"attributes\":{\"callback\":null},\"id\":\"3835\",\"type\":\"DataRange1d\"}],\"root_ids\":[\"3831\"]},\"title\":\"Bokeh Application\",\"version\":\"1.4.0\"}};\n",
       "  var render_items = [{\"docid\":\"4c5b36c8-2ed9-45e4-b4a1-23d8ee360fea\",\"roots\":{\"3831\":\"aab546a5-c19b-4799-b694-8f6767495346\"}}];\n",
       "  root.Bokeh.embed.embed_items_notebook(docs_json, render_items);\n",
       "\n",
       "  }\n",
       "  if (root.Bokeh !== undefined) {\n",
       "    embed_document(root);\n",
       "  } else {\n",
       "    var attempts = 0;\n",
       "    var timer = setInterval(function(root) {\n",
       "      if (root.Bokeh !== undefined) {\n",
       "        clearInterval(timer);\n",
       "        embed_document(root);\n",
       "      } else {\n",
       "        attempts++;\n",
       "        if (attempts > 100) {\n",
       "          clearInterval(timer);\n",
       "          console.log(\"Bokeh: ERROR: Unable to run BokehJS code because BokehJS library is missing\");\n",
       "        }\n",
       "      }\n",
       "    }, 10, root)\n",
       "  }\n",
       "})(window);"
      ],
      "application/vnd.bokehjs_exec.v0+json": ""
     },
     "metadata": {
      "application/vnd.bokehjs_exec.v0+json": {
       "id": "3831"
      }
     },
     "output_type": "display_data"
    }
   ],
   "source": [
    "p = hl.plot.histogram(mt.variant_qc['call_rate'], legend='Call rate of variants')\n",
    "show(p)"
   ]
  },
  {
   "cell_type": "markdown",
   "id": "a6149820",
   "metadata": {},
   "source": [
    "유전변이 수준에서 정도관리는 향후 downstream 분석에 매우 중요합니다. 분석에 쓰이는 변이가 품질의 차이에 의하여 연관성 분석에서 confounder로 작동하는 경우가 많습니다. 따라서 본인이 분석하고자 하는 전장유전체 데이터에서 어떤 품질지표가 있는지 면밀하게 확인할 필요가 있습니다."
   ]
  },
  {
   "cell_type": "code",
   "execution_count": 52,
   "id": "0d58efec",
   "metadata": {
    "ExecuteTime": {
     "end_time": "2022-01-17T11:04:48.808407Z",
     "start_time": "2022-01-17T11:04:35.373383Z"
    }
   },
   "outputs": [
    {
     "name": "stdout",
     "output_type": "stream",
     "text": [
      "--------------------------------------------------------\n",
      "Type:\n",
      "        struct {\n",
      "        dp_stats: struct {\n",
      "            mean: float64, \n",
      "            stdev: float64, \n",
      "            min: float64, \n",
      "            max: float64\n",
      "        }, \n",
      "        gq_stats: struct {\n",
      "            mean: float64, \n",
      "            stdev: float64, \n",
      "            min: float64, \n",
      "            max: float64\n",
      "        }, \n",
      "        AC: array<int32>, \n",
      "        AF: array<float64>, \n",
      "        AN: int32, \n",
      "        homozygote_count: array<int32>, \n",
      "        call_rate: float64, \n",
      "        n_called: int64, \n",
      "        n_not_called: int64, \n",
      "        n_filtered: int64, \n",
      "        n_het: int64, \n",
      "        n_non_ref: int64, \n",
      "        het_freq_hwe: float64, \n",
      "        p_value_hwe: float64, \n",
      "        p_value_excess_het: float64\n",
      "    }\n",
      "--------------------------------------------------------\n",
      "Source:\n",
      "    <hail.matrixtable.MatrixTable object at 0x7f89695ef4c0>\n",
      "Index:\n",
      "    ['row']\n",
      "--------------------------------------------------------\n"
     ]
    }
   ],
   "source": [
    "mt.variant_qc.describe()"
   ]
  },
  {
   "cell_type": "code",
   "execution_count": 53,
   "id": "43437243",
   "metadata": {
    "ExecuteTime": {
     "end_time": "2022-01-17T11:05:14.526252Z",
     "start_time": "2022-01-17T11:04:48.809343Z"
    }
   },
   "outputs": [
    {
     "name": "stderr",
     "output_type": "stream",
     "text": [
      "2022-01-23 19:20:19 Hail: INFO: Coerced sorted dataset              (0 + 4) / 4]\n",
      "2022-01-23 19:20:22 Hail: INFO: Coerced sorted dataset              (0 + 4) / 4]\n",
      "[Stage 223:>                                                        (0 + 1) / 1]\r"
     ]
    },
    {
     "name": "stdout",
     "output_type": "stream",
     "text": [
      "--> Before variant QC(call rate), the number of variants is : 33097\n"
     ]
    },
    {
     "name": "stderr",
     "output_type": "stream",
     "text": [
      "2022-01-23 19:20:45 Hail: INFO: Coerced sorted dataset              (3 + 1) / 4]\n",
      "2022-01-23 19:20:48 Hail: INFO: Coerced sorted dataset              (3 + 1) / 4]\n",
      "[Stage 226:>                                                        (0 + 1) / 1]\r"
     ]
    },
    {
     "name": "stdout",
     "output_type": "stream",
     "text": [
      "--> After variant QC(call rate), the number of variants is : 32471\n"
     ]
    }
   ],
   "source": [
    "print(\"--> Before variant QC(call rate), the number of variants is :\", mt.rows().count())\n",
    "mt = mt.filter_rows((mt.variant_qc.call_rate >= 0.9))\n",
    "print(\"--> After variant QC(call rate), the number of variants is :\", mt.rows().count())"
   ]
  },
  {
   "cell_type": "markdown",
   "id": "dda834be",
   "metadata": {},
   "source": [
    "유전변이의 정도관리에 흔하게 적용하는 것 중에 하나는 low complexity region (LCR)에 발생하는 유전변이를 제거하는 것입니다. LCR은 bwa-mem을 개발한 Heng Li가 short read 시퀀싱에서 alignment가 잘 되지 않는 지점이라고 정의한 region입니다. 실제 여러분의 데이터에서 LCR 지역의 유전변이의 품질지표와 LCR 이외의 지역의 그것을 비교하면 상당한 차이가 발생합니다. 따라서 우리는 분석을 위해 LCR 지역의 변이를 제거하겠습니다."
   ]
  },
  {
   "cell_type": "code",
   "execution_count": 54,
   "id": "4e745bc7-f7a6-4c24-8611-d6807f8eac69",
   "metadata": {
    "ExecuteTime": {
     "end_time": "2022-01-17T11:05:54.562125Z",
     "start_time": "2022-01-17T11:05:14.527370Z"
    },
    "tags": []
   },
   "outputs": [
    {
     "name": "stderr",
     "output_type": "stream",
     "text": [
      "2022-01-23 19:21:31 Hail: INFO: Coerced sorted dataset              (0 + 4) / 4]\n",
      "2022-01-23 19:21:34 Hail: INFO: Coerced sorted dataset              (0 + 4) / 4]\n",
      "[Stage 229:>                                                        (0 + 1) / 1]\r"
     ]
    },
    {
     "name": "stdout",
     "output_type": "stream",
     "text": [
      "--> Before remove variants in LCR, the number of variants is : 32471\n"
     ]
    },
    {
     "name": "stderr",
     "output_type": "stream",
     "text": [
      "2022-01-23 19:22:14 Hail: INFO: Reading table without type imputation\n",
      "  Loading field 'f0' as type str (user-supplied)\n",
      "  Loading field 'f1' as type int32 (user-supplied)\n",
      "  Loading field 'f2' as type int32 (user-supplied)\n",
      "2022-01-23 19:22:18 Hail: INFO: Coerced sorted dataset              (0 + 4) / 4]\n",
      "2022-01-23 19:22:21 Hail: INFO: Coerced sorted dataset              (0 + 4) / 4]\n",
      "2022-01-23 19:22:33 Hail: INFO: Coerced sorted dataset              (0 + 1) / 1]\n",
      "[Stage 235:============================>                            (2 + 2) / 4]\r"
     ]
    },
    {
     "name": "stdout",
     "output_type": "stream",
     "text": [
      "--> After remove variants in LCR, the number of variants is : 29824\n"
     ]
    },
    {
     "name": "stderr",
     "output_type": "stream",
     "text": [
      "[Stage 235:==========================================>              (3 + 1) / 4]\r"
     ]
    }
   ],
   "source": [
    "print(\"--> Before remove variants in LCR, the number of variants is :\", mt.rows().count())\n",
    "lcr_bed = hl.import_bed(\"resources/LCR-hs38.bed\", reference_genome = 'GRCh38')\n",
    "mt = mt.filter_rows(hl.is_defined(lcr_bed[mt.locus]), keep=False)\n",
    "print(\"--> After remove variants in LCR, the number of variants is :\", mt.rows().count())"
   ]
  },
  {
   "cell_type": "markdown",
   "id": "da25be3b-adc2-4f1d-96b4-02597cbf7b2e",
   "metadata": {},
   "source": [
    "### 유전형"
   ]
  },
  {
   "cell_type": "markdown",
   "id": "af4b4240",
   "metadata": {},
   "source": [
    "유전형 정보는 샘플 당 고유하게 존재합니다. 우리는 유전형 정보를 바탕으로 기대했던 population structure이 존재하는지 확인하고자 합니다. 만약 다른 패턴이 나오면, 유전형에 영향을 주는 어떤 이유를 생각해볼 수 있습니다. 우선 PCA를 시행해봅시다."
   ]
  },
  {
   "cell_type": "code",
   "execution_count": 55,
   "id": "c10ca157",
   "metadata": {
    "ExecuteTime": {
     "end_time": "2022-01-17T11:06:59.170762Z",
     "start_time": "2022-01-17T11:05:54.563147Z"
    }
   },
   "outputs": [
    {
     "name": "stderr",
     "output_type": "stream",
     "text": [
      "2022-01-23 19:23:28 Hail: INFO: Coerced sorted dataset              (0 + 4) / 4]\n",
      "2022-01-23 19:23:30 Hail: INFO: Coerced sorted dataset              (0 + 4) / 4]\n",
      "2022-01-23 19:23:42 Hail: INFO: Coerced sorted dataset              (0 + 1) / 1]\n",
      "2022-01-23 19:23:52 Hail: INFO: hwe_normalize: found 20382 variants after filtering out monomorphic sites.\n",
      "2022-01-23 19:23:55 Hail: INFO: Coerced sorted dataset              (0 + 4) / 4]\n",
      "2022-01-23 19:23:58 Hail: INFO: Coerced sorted dataset              (0 + 4) / 4]\n",
      "2022-01-23 19:24:10 Hail: INFO: Coerced sorted dataset              (0 + 1) / 1]\n",
      "2022-01-23 19:24:20 Hail: INFO: pca: running PCA with 3 components...3 + 1) / 4]\n",
      "[Stage 319:==========================================>              (3 + 1) / 4]\r"
     ]
    }
   ],
   "source": [
    "eigenvalues, pcs, _ = hl.hwe_normalized_pca(mt.GT, k=3) # 시간 절약을 위해 k는 3으로 설정합니다"
   ]
  },
  {
   "cell_type": "code",
   "execution_count": 56,
   "id": "8b660866",
   "metadata": {
    "ExecuteTime": {
     "end_time": "2022-01-17T11:06:59.190410Z",
     "start_time": "2022-01-17T11:06:59.171888Z"
    }
   },
   "outputs": [],
   "source": [
    "mt = mt.annotate_cols(scores = pcs[mt.s].scores)"
   ]
  },
  {
   "cell_type": "code",
   "execution_count": 57,
   "id": "009d265b",
   "metadata": {
    "ExecuteTime": {
     "end_time": "2022-01-17T11:07:03.986782Z",
     "start_time": "2022-01-17T11:06:59.191876Z"
    }
   },
   "outputs": [
    {
     "name": "stderr",
     "output_type": "stream",
     "text": [
      "2022-01-23 19:24:39 Hail: INFO: Coerced sorted dataset              (0 + 4) / 4]\n"
     ]
    },
    {
     "data": {
      "text/html": [
       "\n",
       "\n",
       "\n",
       "\n",
       "\n",
       "\n",
       "  <div class=\"bk-root\" id=\"9fe8d945-8017-4f1f-90be-58fc202e1778\" data-root-id=\"4069\"></div>\n"
      ]
     },
     "metadata": {},
     "output_type": "display_data"
    },
    {
     "data": {
      "application/javascript": [
       "(function(root) {\n",
       "  function embed_document(root) {\n",
       "    \n",
       "  var docs_json = {\"51e29032-4fed-4c63-b274-62a2f59b6037\":{\"roots\":{\"references\":[{\"attributes\":{\"below\":[{\"id\":\"4080\",\"type\":\"LinearAxis\"}],\"center\":[{\"id\":\"4084\",\"type\":\"Grid\"},{\"id\":\"4089\",\"type\":\"Grid\"}],\"left\":[{\"id\":\"4085\",\"type\":\"LinearAxis\"},{\"id\":\"4233\",\"type\":\"Legend\"},{\"id\":\"4234\",\"type\":\"ColorBar\"}],\"plot_height\":800,\"plot_width\":800,\"renderers\":[{\"id\":\"4112\",\"type\":\"GlyphRenderer\"},{\"id\":\"4118\",\"type\":\"GlyphRenderer\"},{\"id\":\"4124\",\"type\":\"GlyphRenderer\"},{\"id\":\"4130\",\"type\":\"GlyphRenderer\"},{\"id\":\"4136\",\"type\":\"GlyphRenderer\"},{\"id\":\"4142\",\"type\":\"GlyphRenderer\"},{\"id\":\"4148\",\"type\":\"GlyphRenderer\"},{\"id\":\"4154\",\"type\":\"GlyphRenderer\"},{\"id\":\"4160\",\"type\":\"GlyphRenderer\"},{\"id\":\"4166\",\"type\":\"GlyphRenderer\"},{\"id\":\"4172\",\"type\":\"GlyphRenderer\"},{\"id\":\"4178\",\"type\":\"GlyphRenderer\"},{\"id\":\"4184\",\"type\":\"GlyphRenderer\"},{\"id\":\"4190\",\"type\":\"GlyphRenderer\"},{\"id\":\"4196\",\"type\":\"GlyphRenderer\"},{\"id\":\"4202\",\"type\":\"GlyphRenderer\"},{\"id\":\"4208\",\"type\":\"GlyphRenderer\"},{\"id\":\"4214\",\"type\":\"GlyphRenderer\"}],\"title\":{\"id\":\"4070\",\"type\":\"Title\"},\"toolbar\":{\"id\":\"4096\",\"type\":\"Toolbar\"},\"x_range\":{\"id\":\"4072\",\"type\":\"DataRange1d\"},\"x_scale\":{\"id\":\"4076\",\"type\":\"LinearScale\"},\"y_range\":{\"id\":\"4074\",\"type\":\"DataRange1d\"},\"y_scale\":{\"id\":\"4078\",\"type\":\"LinearScale\"}},\"id\":\"4069\",\"subtype\":\"Figure\",\"type\":\"Plot\"},{\"attributes\":{},\"id\":\"4076\",\"type\":\"LinearScale\"},{\"attributes\":{\"axis_label\":\"PC1\",\"formatter\":{\"id\":\"4381\",\"type\":\"BasicTickFormatter\"},\"ticker\":{\"id\":\"4081\",\"type\":\"BasicTicker\"}},\"id\":\"4080\",\"type\":\"LinearAxis\"},{\"attributes\":{\"callback\":null,\"tooltips\":[[\"x\",\"@x\"],[\"y\",\"@y\"],[\"label\",\"@label\"]]},\"id\":\"4104\",\"type\":\"HoverTool\"},{\"attributes\":{},\"id\":\"4094\",\"type\":\"ResetTool\"},{\"attributes\":{\"active_drag\":\"auto\",\"active_inspect\":\"auto\",\"active_multi\":null,\"active_scroll\":\"auto\",\"active_tap\":\"auto\",\"tools\":[{\"id\":\"4090\",\"type\":\"PanTool\"},{\"id\":\"4091\",\"type\":\"WheelZoomTool\"},{\"id\":\"4092\",\"type\":\"BoxZoomTool\"},{\"id\":\"4093\",\"type\":\"SaveTool\"},{\"id\":\"4094\",\"type\":\"ResetTool\"},{\"id\":\"4095\",\"type\":\"HelpTool\"},{\"id\":\"4104\",\"type\":\"HoverTool\"}]},\"id\":\"4096\",\"type\":\"Toolbar\"},{\"attributes\":{},\"id\":\"4081\",\"type\":\"BasicTicker\"},{\"attributes\":{\"callback\":null},\"id\":\"4074\",\"type\":\"DataRange1d\"},{\"attributes\":{\"axis_label\":\"PC2\",\"formatter\":{\"id\":\"4383\",\"type\":\"BasicTickFormatter\"},\"ticker\":{\"id\":\"4086\",\"type\":\"BasicTicker\"}},\"id\":\"4085\",\"type\":\"LinearAxis\"},{\"attributes\":{\"callback\":null},\"id\":\"4072\",\"type\":\"DataRange1d\"},{\"attributes\":{\"overlay\":{\"id\":\"4386\",\"type\":\"BoxAnnotation\"}},\"id\":\"4092\",\"type\":\"BoxZoomTool\"},{\"attributes\":{\"callback\":null,\"data\":{\"index\":[0,1,2,3,4,5,6,7,8,9,10,11,12,13,14,15,16,17,18,19,20,21,22,23,24,25,26,27,28,29,30,31,32,33,34,35,36,37,38,39,40,41,42,43,44,45,46,47,48,49,50,51,52,53,54,55,56,57,58,59,60,61,62,63,64,65,66,67,68,69,70,71,72,73,74,75,76,77,78,79,80,81,82,83,84,85,86,87,88,89,90,91,92,93,94,95,96,97,98,99,100,101,102,103,104,105,106,107,108,109,110,111,112,113,114,115,116,117,118,119,120,121,122,123,124,125,126,127,128,129,130,131,132,133,134,135,136,137,138,139,140,141,142,143,144,145,146,147,148,149,150,151,152,153,154,155,156,157,158,159,160,161,162,163,164,165,166,167,168,169,170,171,172,173,174,175,176,177,178,179,180,181,182,183,184,185,186,187,188,189,190,191,192,193,194,195,196,197,198,199,200,201,202,203,204,205,206,207,208,209,210,211,212,213,214,215,216,217,218,219,220,221,222,223,224,225,226,227,228,229,230,231,232,233,234,235,236,237,238,239,240,241,242,243,244,245,246,247,248,249,250,251,252,253,254,255,256,257,258,259,260,261,262,263,264,265,266,267,268,269,270,271,272,273,274,275,276,277,278,279,280,281,282,283,284,285,286,287,288,289,290,291,292,293,294,295,296,297,298,299,300,301,302,303,304,305,306,307,308,309,310,311,312,313,314,315,316,317,318,319,320,321,322,323,324,325,326,327,328,329,330,331,332,333,334,335,336,337,338,339,340,341,342,343,344,345,346,347,348,349,350,351,352,353,354,355,356,357,358,359,360,361,362,363,364,365,366,367,368,369,370,371,372,373,374,375,376,377,378,379,380,381,382,383,384,385,386,387,388,389,390,391,392,393,394,395,396,397,398,399,400,401,402,403,404,405,406,407,408,409,410,411,412,413,414,415,416,417,418,419,420,421,422,423,424,425,426,427,428,429,430,431,432,433,434,435,436,437,438,439,440,441,442,443,444,445,446,447,448,449,450,451,452,453,454,455,456,457,458,459,460,461,462,463,464,465,466,467,468,469,470,471,472,473,474,475,476,477,478,479,480,481,482,483,484,485,486,487,488,489,490,491,492,493,494,495,496,497,498,499,500,501,502,503,504,505,506,507,508,509,510,511,512,513,514,515,516,517,518,519,520,521,522,523,524,525,526,527,528,529,530,531,532,533,534,535,536,537,538,539,540,541,542,543,544,545,546,547,548,549,550,551,552,553,554,555,556,557,558,559,560,561,562,563,564,565,566,567,568,569,570,571,572,573,574,575,576,577,578,579,580,581,582,583,584,585,586,587,588,589,590,591,592,593,594,595,596,597,598,599,600,601,602,603,604,605,606,607,608,609,610,611,612,613,614,615,616,617,618,619,620,621,622,623,624,625,626,627,628,629,630,631,632,633,634,635,636,637,638,639,640,641,642,643,644,645,646,647,648,649,650,651,652,653,654,655,656,657,658,659,660,661,662,663,664,665,666,667,668,669,670,671,672,673,674,675,676,677,678,679,680,681,682,683,684,685,686,687,688,689,690,691,692,693,694,695,696,697,698,699,700,701,702,703,704,705,706,707,708,709,710,711,712,713,714,715,716,717,718,719,720,721,722,723,724,725,726,727,728,729,730,731,732,733,734,735,736,737,738,739,740,741,742,743,744,745,746,747,748,749,750,751,752,753,754,755,756,757,758,759,760,761,762,763,764,765,766,767,768,769,770,771,772,773,774,775,776,777,778,779,780,781,782,783,784,785,786,787,788,789,790,791,792,793,794,795,796,797,798,799,800,801,802,803,804,805,806,807,808,809,810,811,812,813,814,815,816,817,818,819,820,821,822,823,824,825,826,827,828,829,830,831,832,833,834,835,836,837,838,839,840,841,842,843,844,845,846,847,848,849,850,851,852,853,854,855,856,857,858,859,860,861,862,863,864,865,866,867,868,869,870,871,872,873,874,875,876,877,878,879,880,881,882,883,884,885,886,887,888,889,890,891,892,893,894,895,896,897,898,899,900,901,902,903,904,905,906,907,908,909,910,911,912,913,914,915,916,917,918,919,920,921,922,923,924,925,926,927,928,929,930,931,932,933,934,935,936,937,938,939,940,941,942,943,944,945,946,947,948,949,950,951,952,953,954,955,956,957,958,959,960,961,962,963,964,965,966,967,968,969,970,971,972,973,974,975,976,977,978,979,980,981,982,983,984,985,986,987,988,989,990,991,992,993,994,995,996,997,998,999,1000,1001,1002,1003,1004,1005,1006,1007,1008,1009,1010,1011,1012,1013,1014,1015,1016,1017,1018,1019,1020,1021,1022,1023,1024,1025,1026,1027,1028,1029,1030,1031,1032,1033,1034,1035,1036,1037,1038,1039,1040,1041,1042,1043,1044,1045,1046,1047,1048,1049,1050,1051,1052,1053,1054,1055,1056,1057,1058,1059,1060,1061,1062,1063,1064,1065,1066,1067,1068,1069,1070,1071,1072,1073,1074,1075,1076,1077,1078,1079,1080,1081,1082,1083,1084,1085,1086,1087,1088,1089,1090,1091,1092,1093,1094,1095,1096,1097,1098,1099,1100,1101,1102,1103,1104,1105,1106,1107,1108,1109,1110,1111,1112,1113,1114,1115,1116,1117,1118,1119,1120,1121,1122,1123,1124,1125,1126,1127,1128,1129,1130,1131,1132,1133,1134,1135,1136,1137,1138,1139,1140,1141,1142,1143,1144,1145,1146,1147,1148,1149,1150,1151,1152,1153,1154,1155,1156,1157,1158,1159,1160,1161,1162,1163,1164,1165,1166,1167,1168,1169,1170,1171,1172,1173,1174,1175,1176,1177,1178,1179,1180,1181,1182,1183,1184,1185,1186,1187,1188,1189,1190,1191,1192,1193,1194,1195,1196,1197,1198,1199,1200,1201,1202,1203,1204,1205,1206,1207,1208,1209,1210,1211,1212,1213,1214,1215,1216,1217,1218,1219,1220,1221,1222,1223,1224,1225,1226,1227,1228,1229,1230,1231,1232,1233,1234,1235,1236,1237,1238,1239,1240,1241,1242,1243,1244,1245,1246,1247,1248,1249,1250,1251,1252,1253,1254,1255,1256,1257,1258,1259,1260,1261,1262,1263,1264,1265,1266,1267,1268,1269,1270,1271,1272,1273,1274,1275,1276,1277,1278,1279,1280,1281,1282,1283,1284,1285,1286,1287,1288,1289,1290,1291,1292,1293,1294,1295,1296,1297,1298,1299,1300,1301,1302,1303,1304,1305,1306,1307,1308,1309,1310,1311,1312,1313,1314,1315,1316,1317,1318,1319,1320,1321,1322,1323,1324,1325,1326,1327,1328,1329,1330,1331,1332,1333,1334,1335,1336,1337,1338,1339,1340,1341,1342,1343,1344,1345,1346,1347,1348,1349,1350,1351,1352,1353,1354,1355,1356,1357,1358,1359,1360,1361,1362,1363,1364,1365,1366,1367,1368,1369,1370,1371,1372,1373,1374,1375,1376,1377,1378,1379,1380,1381,1382,1383,1384,1385,1386,1387,1388,1389,1390,1391,1392,1393,1394,1395,1396,1397,1398,1399,1400,1401,1402,1403,1404,1405,1406,1407,1408,1409,1410,1411,1412,1413,1414,1415,1416,1417,1418,1419,1420,1421,1422,1423,1424,1425,1426,1427,1428,1429,1430,1431,1432,1433,1434,1435,1436,1437,1438,1439,1440,1441,1442,1443,1444,1445,1446,1447,1448,1449,1450,1451,1452,1453,1454,1455,1456,1457,1458,1459,1460,1461,1462,1463,1464,1465,1466,1467,1468,1469,1470,1471,1472,1473,1474,1475,1476,1477,1478,1479,1480,1481,1482,1483,1484,1485,1486,1487,1488,1489,1490,1491,1492,1493,1494,1495,1496,1497,1498,1499,1500,1501,1502,1503,1504,1505,1506,1507,1508,1509,1510,1511,1512,1513,1514,1515,1516,1517,1518,1519,1520,1521,1522,1523,1524,1525,1526,1527,1528,1529,1530,1531,1532,1533,1534,1535,1536,1537,1538,1539,1540,1541,1542,1543,1544,1545,1546,1547,1548,1549,1550,1551,1552,1553,1554,1555,1556,1557,1558,1559,1560,1561,1562,1563,1564,1565,1566,1567,1568,1569,1570,1571,1572,1573,1574,1575,1576,1577,1578,1579,1580,1581,1582,1583,1584,1585,1586,1587,1588,1589,1590,1591,1592,1593,1594,1595,1596,1597,1598,1599,1600,1601,1602,1603,1604,1605,1606,1607,1608,1609,1610,1611,1612,1613,1614,1615,1616,1617,1618,1619,1620,1621,1622,1623,1624,1625,1626,1627,1628,1629,1630,1631,1632,1633,1634,1635,1636,1637,1638,1639,1640,1641,1642,1643,1644,1645,1646,1647,1648,1649,1650,1651,1652,1653,1654,1655,1656,1657,1658,1659,1660,1661,1662,1663,1664,1665,1666,1667,1668,1669,1670,1671,1672,1673,1674,1675,1676,1677,1678,1679,1680,1681,1682,1683,1684,1685,1686,1687,1688,1689,1690,1691,1692,1693,1694,1695,1696,1697,1698,1699,1700,1701,1702,1703,1704,1705,1706,1707,1708,1709,1710,1711,1712,1713,1714,1715,1716,1717,1718,1719,1720,1721,1722,1723,1724,1725,1726,1727,1728,1729,1730,1731,1732,1733,1734,1735,1736,1737,1738,1739,1740,1741,1742,1743,1744,1745,1746,1747,1748,1749,1750,1751,1752,1753],\"label\":[\"ESN\",\"GWD\",\"YRI\",\"GWD\",\"ASW\",\"ESN\",\"YRI\",\"ASW\",\"ESN\",\"YRI\",\"YRI\",\"ACB\",\"ESN\",\"GWD\",\"YRI\",\"ACB\",\"ESN\",\"YRI\",\"ASW\",\"YRI\",\"YRI\",\"ACB\",\"GWD\",\"ESN\",\"YRI\",\"ASW\",\"YRI\",\"ESN\",\"ASW\",\"YRI\",\"MSL\",\"ESN\",\"GWD\",\"GWD\",\"YRI\",\"ACB\",\"GWD\",\"GWD\",\"ESN\",\"YRI\",\"ESN\",\"GWD\",\"GWD\",\"YRI\",\"GWD\",\"ESN\",\"GWD\",\"ESN\",\"ACB\",\"GWD\",\"GWD\",\"GWD\",\"GWD\",\"GWD\",\"GWD\",\"YRI\",\"YRI\",\"GWD\",\"GWD\",\"YRI\",\"MSL\",\"YRI\",\"YRI\",\"YRI\",\"ESN\",\"GWD\",\"ASW\",\"ESN\",\"ESN\",\"YRI\",\"YRI\",\"GWD\",\"GWD\",\"ESN\",\"YRI\",\"ESN\",\"GWD\",\"YRI\",\"YRI\",\"ESN\",\"ESN\",\"ESN\",\"YRI\",\"ACB\",\"GWD\",\"ESN\",\"MSL\",\"MSL\",\"ESN\",\"YRI\",\"ESN\",\"ASW\",\"GWD\",\"YRI\",\"YRI\",\"YRI\",\"GWD\",\"ESN\",\"ACB\",\"YRI\",\"YRI\",\"GWD\",\"YRI\",\"YRI\",\"YRI\",\"GWD\",\"YRI\",\"GWD\",\"GWD\",\"ESN\",\"ACB\",\"YRI\",\"GWD\",\"ESN\",\"YRI\",\"GWD\",\"YRI\",\"GWD\",\"YRI\",\"GWD\",\"ESN\",\"MSL\",\"YRI\",\"MSL\",\"GWD\",\"ACB\",\"YRI\",\"ACB\",\"YRI\",\"ACB\",\"MSL\",\"YRI\",\"ASW\",\"YRI\",\"ESN\",\"ACB\",\"GWD\",\"MSL\",\"YRI\",\"YRI\",\"MSL\",\"YRI\",\"ACB\",\"ACB\",\"GWD\",\"ESN\",\"GWD\",\"GWD\",\"ESN\",\"ESN\",\"GWD\",\"GWD\",\"ACB\",\"ACB\",\"ESN\",\"ESN\",\"ESN\",\"ESN\",\"ESN\",\"GWD\",\"MSL\",\"YRI\",\"GWD\",\"MSL\",\"ACB\",\"GWD\",\"YRI\",\"ESN\",\"YRI\",\"GWD\",\"GWD\",\"YRI\",\"ASW\",\"YRI\",\"GWD\",\"YRI\",\"ESN\",\"GWD\",\"YRI\",\"GWD\",\"YRI\",\"YRI\",\"YRI\",\"ESN\",\"ACB\",\"GWD\",\"ACB\",\"ACB\",\"YRI\",\"GWD\",\"GWD\",\"ESN\",\"GWD\",\"GWD\",\"YRI\",\"ESN\",\"ESN\",\"YRI\",\"ACB\",\"ESN\",\"GWD\",\"MSL\",\"YRI\",\"GWD\",\"YRI\",\"GWD\",\"ACB\",\"YRI\",\"ESN\",\"ESN\",\"GWD\",\"GWD\",\"GWD\",\"ACB\",\"YRI\",\"ESN\",\"ESN\",\"GWD\",\"ESN\",\"ESN\",\"YRI\",\"ESN\",\"ESN\",\"ASW\",\"ESN\",\"ACB\",\"GWD\",\"ESN\",\"GWD\",\"GWD\",\"ACB\",\"GWD\",\"YRI\",\"ACB\",\"YRI\",\"MSL\",\"GWD\",\"YRI\",\"YRI\",\"YRI\",\"YRI\",\"ESN\",\"GWD\",\"ESN\",\"YRI\",\"MSL\",\"GWD\",\"ESN\",\"YRI\",\"YRI\",\"YRI\",\"ESN\",\"YRI\",\"YRI\",\"YRI\",\"GWD\",\"ESN\",\"YRI\",\"YRI\",\"GWD\",\"YRI\",\"GWD\",\"ASW\",\"ACB\",\"GWD\",\"ESN\",\"YRI\",\"YRI\",\"YRI\",\"ACB\",\"GWD\",\"ESN\",\"ESN\",\"YRI\",\"YRI\",\"CLM\",\"ASW\",\"ESN\",\"ESN\",\"YRI\",\"YRI\",\"YRI\",\"GWD\",\"YRI\",\"GWD\",\"GWD\",\"GWD\",\"YRI\",\"GWD\",\"GWD\",\"ESN\",\"YRI\",\"ACB\",\"YRI\",\"ACB\",\"YRI\",\"GWD\",\"YRI\",\"GWD\",\"ESN\",\"YRI\",\"ESN\",\"ESN\",\"GWD\",\"YRI\",\"ESN\",\"MSL\",\"YRI\",\"GWD\",\"YRI\",\"YRI\",\"ESN\",\"GWD\",\"ESN\",\"YRI\",\"ESN\",\"GWD\",\"ESN\",\"YRI\",\"YRI\",\"YRI\",\"YRI\",\"YRI\",\"MSL\",\"ESN\",\"GWD\",\"ESN\",\"YRI\",\"GWD\",\"ESN\",\"GWD\",\"ESN\",\"ESN\",\"YRI\",\"YRI\",\"ESN\",\"ACB\",\"GWD\",\"GWD\",\"YRI\",\"GWD\",\"YRI\",\"MSL\",\"ACB\",\"ESN\",\"ESN\",\"YRI\",\"ACB\",\"PEL\",\"ESN\",\"YRI\",\"YRI\",\"GWD\",\"GWD\",\"YRI\",\"GWD\",\"ACB\",\"ESN\",\"ESN\",\"YRI\",\"GWD\",\"ACB\",\"ACB\",\"YRI\",\"MSL\",\"GWD\",\"GWD\",\"YRI\",\"ESN\",\"ACB\",\"ESN\",\"GWD\",\"ACB\",\"ACB\",\"GWD\",\"ASW\",\"YRI\",\"GWD\",\"GWD\",\"ESN\",\"ESN\",\"ESN\",\"GWD\",\"ACB\",\"MSL\",\"MSL\",\"YRI\",\"YRI\",\"ESN\",\"ACB\",\"YRI\",\"YRI\",\"YRI\",\"GWD\",\"YRI\",\"YRI\",\"GWD\",\"ESN\",\"GWD\",\"YRI\",\"MSL\",\"ESN\",\"ESN\",\"ESN\",\"YRI\",\"GWD\",\"ACB\",\"ASW\",\"YRI\",\"ESN\",\"YRI\",\"ESN\",\"MSL\",\"MSL\",\"YRI\",\"GWD\",\"ESN\",\"YRI\",\"MSL\",\"GWD\",\"YRI\",\"YRI\",\"ESN\",\"YRI\",\"YRI\",\"GWD\",\"CLM\",\"ESN\",\"ASW\",\"YRI\",\"YRI\",\"ESN\",\"YRI\",\"ESN\",\"ESN\",\"GWD\",\"YRI\",\"YRI\",\"YRI\",\"ESN\",\"ESN\",\"YRI\",\"GWD\",\"ACB\",\"YRI\",\"ESN\",\"ESN\",\"ESN\",\"GWD\",\"ASW\",\"ESN\",\"ESN\",\"ESN\",\"YRI\",\"GWD\",\"ESN\",\"GWD\",\"GWD\",\"GWD\",\"ESN\",\"ESN\",\"GWD\",\"GWD\",\"ACB\",\"MSL\",\"YRI\",\"MSL\",\"ESN\",\"YRI\",\"GWD\",\"ESN\",\"ACB\",\"YRI\",\"GWD\",\"ESN\",\"GWD\",\"ESN\",\"PEL\",\"GWD\",\"YRI\",\"ASW\",\"GWD\",\"GWD\",\"GWD\",\"GWD\",\"YRI\",\"MSL\",\"GWD\",\"GWD\",\"GWD\",\"ESN\",\"GWD\",\"YRI\",\"ACB\",\"GWD\",\"GWD\",\"GWD\",\"YRI\",\"YRI\",\"GWD\",\"GWD\",\"YRI\",\"MSL\",\"GWD\",\"ESN\",\"PUR\",\"ESN\",\"ESN\",\"GWD\",\"ASW\",\"YRI\",\"GWD\",\"GWD\",\"YRI\",\"ACB\",\"YRI\",\"ASW\",\"ACB\",\"PUR\",\"MSL\",\"ESN\",\"GWD\",\"ESN\",\"GWD\",\"ASW\",\"GWD\",\"YRI\",\"GWD\",\"ESN\",\"ESN\",\"YRI\",\"ESN\",\"YRI\",\"ASW\",\"GWD\",\"ACB\",\"GWD\",\"YRI\",\"GWD\",\"ESN\",\"ASW\",\"ACB\",\"MSL\",\"ESN\",\"CLM\",\"GWD\",\"GWD\",\"GWD\",\"GWD\",\"ESN\",\"IBS\",\"MSL\",\"MXL\",\"ACB\",\"ACB\",\"GWD\",\"ACB\",\"MXL\",\"ACB\",\"GWD\",\"YRI\",\"MXL\",\"GWD\",\"GWD\",\"CLM\",\"CLM\",\"CLM\",\"GWD\",\"GWD\",\"ASW\",\"GWD\",\"PUR\",\"GWD\",\"PEL\",\"GWD\",\"ASW\",\"YRI\",\"CLM\",\"YRI\",\"YRI\",\"CLM\",\"GWD\",\"CLM\",\"GWD\",\"GWD\",\"CLM\",\"CLM\",\"PUR\",\"GWD\",\"PUR\",\"PUR\",\"ASW\",\"PUR\",\"GWD\",\"CLM\",\"ASW\",\"ASW\",\"GWD\",\"PUR\",\"PUR\",\"GWD\",\"GWD\",\"ACB\",\"PUR\",\"ASW\",\"YRI\",\"GWD\",\"PUR\",\"PUR\",\"PEL\",\"CLM\",\"PEL\",\"PUR\",\"CLM\",\"ASW\",\"ACB\",\"ASW\",\"IBS\",\"ACB\",\"MXL\",\"CLM\",\"PUR\",\"CLM\",\"PUR\",\"MXL\",\"GWD\",\"PUR\",\"ACB\",\"PUR\",\"CLM\",\"IBS\",\"STU\",\"ASW\",\"ACB\",\"IBS\",\"CEU\",\"ASW\",\"PJL\",\"MXL\",\"MXL\",\"PUR\",\"PEL\",\"BEB\",\"IBS\",\"GWD\",\"CEU\",\"CEU\",\"MXL\",\"CEU\",\"GWD\",\"PJL\",\"PJL\",\"ASW\",\"ASW\",\"CEU\",\"CLM\",\"PEL\",\"PUR\",\"STU\",\"CLM\",\"PJL\",\"PJL\",\"CEU\",\"CEU\",\"PJL\",\"PJL\",\"MXL\",\"PJL\",\"PJL\",\"PJL\",\"PJL\",\"PEL\",\"MXL\",\"BEB\",\"IBS\",\"PUR\",\"IBS\",\"MXL\",\"ACB\",\"BEB\",\"MXL\",\"BEB\",\"IBS\",\"PEL\",\"PJL\",\"PUR\",\"CLM\",\"CLM\",\"PJL\",\"PJL\",\"PJL\",\"PJL\",\"CEU\",\"IBS\",\"CEU\",\"CEU\",\"PUR\",\"PJL\",\"PUR\",\"PJL\",\"BEB\",\"CLM\",\"PJL\",\"CEU\",\"PJL\",\"PUR\",\"PJL\",\"BEB\",\"IBS\",\"CEU\",\"BEB\",\"BEB\",\"CEU\",\"CEU\",\"PJL\",\"IBS\",\"IBS\",\"IBS\",\"IBS\",\"CLM\",\"BEB\",\"ASW\",\"IBS\",\"PJL\",\"IBS\",\"PJL\",\"PJL\",\"CEU\",\"IBS\",\"PUR\",\"CLM\",\"PUR\",\"STU\",\"IBS\",\"PJL\",\"CLM\",\"PJL\",\"IBS\",\"IBS\",\"PJL\",\"CLM\",\"BEB\",\"STU\",\"PJL\",\"PUR\",\"IBS\",\"CEU\",\"CEU\",\"CEU\",\"IBS\",\"CEU\",\"IBS\",\"STU\",\"ITU\",\"IBS\",\"PJL\",\"PEL\",\"CEU\",\"BEB\",\"BEB\",\"PUR\",\"IBS\",\"CEU\",\"CEU\",\"CLM\",\"ITU\",\"BEB\",\"PJL\",\"PUR\",\"CEU\",\"PUR\",\"IBS\",\"IBS\",\"PJL\",\"KHV\",\"PUR\",\"IBS\",\"IBS\",\"IBS\",\"IBS\",\"MXL\",\"IBS\",\"PJL\",\"CEU\",\"CLM\",\"CEU\",\"CEU\",\"MXL\",\"PJL\",\"PJL\",\"CLM\",\"IBS\",\"PJL\",\"IBS\",\"BEB\",\"CEU\",\"IBS\",\"CLM\",\"CEU\",\"CEU\",\"PJL\",\"CEU\",\"CLM\",\"STU\",\"BEB\",\"CEU\",\"PJL\",\"PJL\",\"BEB\",\"BEB\",\"PUR\",\"PJL\",\"PJL\",\"PUR\",\"PUR\",\"KHV\",\"IBS\",\"CLM\",\"CLM\",\"PUR\",\"IBS\",\"PUR\",\"CHS\",\"IBS\",\"CEU\",\"CEU\",\"CLM\",\"IBS\",\"PJL\",\"CEU\",\"IBS\",\"BEB\",\"PUR\",\"IBS\",\"IBS\",\"IBS\",\"IBS\",\"CEU\",\"CEU\",\"MXL\",\"IBS\",\"PEL\",\"IBS\",\"PUR\",\"PJL\",\"PUR\",\"IBS\",\"ITU\",\"PJL\",\"PJL\",\"IBS\",\"CEU\",\"IBS\",\"BEB\",\"CEU\",\"CEU\",\"CLM\",\"PJL\",\"BEB\",\"PJL\",\"PJL\",\"CEU\",\"CLM\",\"BEB\",\"CEU\",\"PUR\",\"IBS\",\"CLM\",\"PUR\",\"PJL\",\"IBS\",\"PJL\",\"CEU\",\"CEU\",\"PJL\",\"BEB\",\"CEU\",\"PJL\",\"CEU\",\"PJL\",\"CEU\",\"PEL\",\"PUR\",\"PJL\",\"CEU\",\"PJL\",\"PJL\",\"CEU\",\"STU\",\"PJL\",\"PUR\",\"PUR\",\"CLM\",\"STU\",\"BEB\",\"BEB\",\"PJL\",\"CEU\",\"CLM\",\"BEB\",\"CHS\",\"BEB\",\"STU\",\"PUR\",\"PJL\",\"CEU\",\"IBS\",\"CEU\",\"CEU\",\"STU\",\"BEB\",\"CEU\",\"CEU\",\"PJL\",\"KHV\",\"CEU\",\"PJL\",\"PUR\",\"IBS\",\"IBS\",\"PJL\",\"STU\",\"PUR\",\"IBS\",\"PJL\",\"PJL\",\"CHS\",\"CHS\",\"PJL\",\"PUR\",\"CLM\",\"BEB\",\"CEU\",\"CLM\",\"BEB\",\"STU\",\"KHV\",\"STU\",\"BEB\",\"CEU\",\"CEU\",\"IBS\",\"IBS\",\"CEU\",\"CEU\",\"CEU\",\"ITU\",\"CEU\",\"PJL\",\"CLM\",\"CLM\",\"IBS\",\"CLM\",\"CLM\",\"IBS\",\"IBS\",\"PJL\",\"CLM\",\"BEB\",\"PEL\",\"PJL\",\"PJL\",\"CLM\",\"IBS\",\"CLM\",\"BEB\",\"IBS\",\"CLM\",\"CLM\",\"IBS\",\"CEU\",\"CEU\",\"CEU\",\"PJL\",\"MXL\",\"CEU\",\"ASW\",\"IBS\",\"STU\",\"IBS\",\"STU\",\"BEB\",\"CLM\",\"CEU\",\"CLM\",\"IBS\",\"IBS\",\"PUR\",\"CLM\",\"MXL\",\"BEB\",\"PUR\",\"CLM\",\"PJL\",\"IBS\",\"BEB\",\"CEU\",\"BEB\",\"CHS\",\"CEU\",\"PJL\",\"PUR\",\"MXL\",\"BEB\",\"BEB\",\"STU\",\"CEU\",\"CEU\",\"CEU\",\"BEB\",\"KHV\",\"PJL\",\"PJL\",\"BEB\",\"IBS\",\"IBS\",\"PUR\",\"IBS\",\"MXL\",\"CLM\",\"PUR\",\"IBS\",\"IBS\",\"ITU\",\"IBS\",\"CHS\",\"IBS\",\"CEU\",\"BEB\",\"CEU\",\"BEB\",\"PJL\",\"CEU\",\"PJL\",\"CLM\",\"IBS\",\"MXL\",\"CEU\",\"MXL\",\"CEU\",\"CLM\",\"PUR\",\"BEB\",\"CLM\",\"CEU\",\"IBS\",\"BEB\",\"KHV\",\"IBS\",\"IBS\",\"CHS\",\"IBS\",\"CEU\",\"PJL\",\"PJL\",\"CEU\",\"CEU\",\"PUR\",\"PUR\",\"CEU\",\"CEU\",\"IBS\",\"KHV\",\"KHV\",\"BEB\",\"CEU\",\"IBS\",\"PUR\",\"ASW\",\"PEL\",\"IBS\",\"IBS\",\"MXL\",\"BEB\",\"BEB\",\"IBS\",\"PUR\",\"CLM\",\"PJL\",\"ITU\",\"PJL\",\"IBS\",\"PJL\",\"PEL\",\"PJL\",\"PEL\",\"PUR\",\"PJL\",\"PJL\",\"PUR\",\"PUR\",\"CEU\",\"IBS\",\"IBS\",\"IBS\",\"STU\",\"CHS\",\"KHV\",\"KHV\",\"IBS\",\"PUR\",\"PJL\",\"PUR\",\"BEB\",\"IBS\",\"BEB\",\"MXL\",\"PJL\",\"PJL\",\"MXL\",\"ITU\",\"CHS\",\"PJL\",\"PJL\",\"IBS\",\"CLM\",\"MXL\",\"BEB\",\"CEU\",\"CLM\",\"PUR\",\"CLM\",\"CEU\",\"PJL\",\"CEU\",\"IBS\",\"IBS\",\"PEL\",\"PJL\",\"KHV\",\"BEB\",\"IBS\",\"CEU\",\"IBS\",\"PUR\",\"CEU\",\"CEU\",\"CEU\",\"BEB\",\"CLM\",\"CHS\",\"CLM\",\"IBS\",\"IBS\",\"CEU\",\"IBS\",\"PUR\",\"PJL\",\"IBS\",\"CLM\",\"CEU\",\"IBS\",\"CEU\",\"CEU\",\"CEU\",\"KHV\",\"PJL\",\"BEB\",\"BEB\",\"PJL\",\"IBS\",\"PEL\",\"PJL\",\"PUR\",\"CEU\",\"IBS\",\"CEU\",\"CEU\",\"BEB\",\"PUR\",\"MXL\",\"KHV\",\"PUR\",\"BEB\",\"MXL\",\"PUR\",\"CLM\",\"MXL\",\"CEU\",\"PUR\",\"CLM\",\"CEU\",\"CEU\",\"PJL\",\"BEB\",\"CHS\",\"PEL\",\"KHV\",\"MXL\",\"BEB\",\"PUR\",\"PEL\",\"PJL\",\"IBS\",\"PEL\",\"STU\",\"PJL\",\"PUR\",\"PJL\",\"STU\",\"IBS\",\"BEB\",\"CEU\",\"CHS\",\"PJL\",\"MXL\",\"CLM\",\"PEL\",\"PUR\",\"BEB\",\"PJL\",\"MXL\",\"CHS\",\"CHS\",\"MXL\",\"KHV\",\"CEU\",\"KHV\",\"CLM\",\"PEL\",\"PJL\",\"CLM\",\"CLM\",\"CEU\",\"IBS\",\"CEU\",\"IBS\",\"PEL\",\"IBS\",\"BEB\",\"PEL\",\"BEB\",\"CEU\",\"CEU\",\"CEU\",\"PUR\",\"CLM\",\"PEL\",\"PJL\",\"CHS\",\"BEB\",\"PEL\",\"BEB\",\"MXL\",\"CLM\",\"ITU\",\"PEL\",\"CLM\",\"CEU\",\"PJL\",\"CHS\",\"BEB\",\"KHV\",\"PUR\",\"CLM\",\"CEU\",\"PUR\",\"CLM\",\"IBS\",\"BEB\",\"PEL\",\"MXL\",\"PUR\",\"IBS\",\"MXL\",\"MXL\",\"IBS\",\"PUR\",\"CEU\",\"PJL\",\"IBS\",\"CHS\",\"CHS\",\"KHV\",\"KHV\",\"PEL\",\"CHS\",\"IBS\",\"IBS\",\"PEL\",\"CEU\",\"IBS\",\"PUR\",\"KHV\",\"PEL\",\"KHV\",\"IBS\",\"MXL\",\"PJL\",\"PEL\",\"CEU\",\"CHS\",\"PJL\",\"CEU\",\"IBS\",\"PUR\",\"BEB\",\"CEU\",\"CEU\",\"KHV\",\"KHV\",\"PJL\",\"CHS\",\"KHV\",\"CLM\",\"CLM\",\"MXL\",\"CLM\",\"IBS\",\"CEU\",\"BEB\",\"IBS\",\"STU\",\"KHV\",\"BEB\",\"PJL\",\"CHS\",\"CLM\",\"PEL\",\"PEL\",\"BEB\",\"CLM\",\"CEU\",\"CHS\",\"KHV\",\"CHS\",\"PEL\",\"MXL\",\"CEU\",\"CEU\",\"IBS\",\"IBS\",\"CLM\",\"IBS\",\"MXL\",\"CHS\",\"CHS\",\"STU\",\"CHS\",\"CEU\",\"CHS\",\"CEU\",\"PUR\",\"IBS\",\"CHS\",\"KHV\",\"MXL\",\"KHV\",\"PEL\",\"CEU\",\"CLM\",\"MXL\",\"PUR\",\"IBS\",\"PUR\",\"CEU\",\"PEL\",\"CEU\",\"PUR\",\"CEU\",\"CEU\",\"CEU\",\"PEL\",\"BEB\",\"PJL\",\"CLM\",\"MXL\",\"CEU\",\"STU\",\"MXL\",\"CHS\",\"CHS\",\"IBS\",\"CLM\",\"CEU\",\"CEU\",\"CHS\",\"PUR\",\"CHS\",\"PJL\",\"KHV\",\"KHV\",\"PEL\",\"CHS\",\"PJL\",\"IBS\",\"CEU\",\"CHS\",\"BEB\",\"PUR\",\"PUR\",\"CHS\",\"CHS\",\"BEB\",\"PEL\",\"PEL\",\"STU\",\"PEL\",\"PUR\",\"ASW\",\"PUR\",\"PUR\",\"CLM\",\"KHV\",\"PEL\",\"KHV\",\"CHS\",\"CHS\",\"CHS\",\"MXL\",\"CLM\",\"KHV\",\"BEB\",\"PUR\",\"CEU\",\"IBS\",\"ITU\",\"BEB\",\"CEU\",\"PUR\",\"KHV\",\"PEL\",\"PEL\",\"PEL\",\"MXL\",\"MXL\",\"PJL\",\"KHV\",\"PEL\",\"PEL\",\"CEU\",\"MXL\",\"CLM\",\"CHS\",\"MXL\",\"CLM\",\"PJL\",\"CEU\",\"CEU\",\"CEU\",\"BEB\",\"MXL\",\"CLM\",\"CEU\",\"CEU\",\"CEU\",\"STU\",\"PEL\",\"BEB\",\"CHS\",\"PJL\",\"BEB\",\"IBS\",\"KHV\",\"PEL\",\"BEB\",\"MXL\",\"MXL\",\"CEU\",\"BEB\",\"CEU\",\"CEU\",\"IBS\",\"CEU\",\"KHV\",\"CHS\",\"MXL\",\"IBS\",\"PEL\",\"MXL\",\"CEU\",\"MXL\",\"CEU\",\"CLM\",\"PEL\",\"CLM\",\"MXL\",\"CHS\",\"PEL\",\"MXL\",\"CHS\",\"IBS\",\"PEL\",\"MXL\",\"CEU\",\"IBS\",\"IBS\",\"PEL\",\"KHV\",\"MXL\",\"STU\",\"IBS\",\"PEL\",\"CEU\",\"MXL\",\"CLM\",\"PEL\",\"CLM\",\"CHS\",\"CHS\",\"PJL\",\"CHS\",\"CEU\",\"PEL\",\"CHS\",\"BEB\",\"KHV\",\"STU\",\"CHS\",\"CEU\",\"IBS\",\"CHS\",\"BEB\",\"KHV\",\"CHS\",\"CHS\",\"PUR\",\"PEL\",\"MXL\",\"PEL\",\"CHS\",\"BEB\",\"MXL\",\"IBS\",\"MXL\",\"MXL\",\"BEB\",\"CHS\",\"PEL\",\"KHV\",\"CHS\",\"CHS\",\"CHS\",\"PEL\",\"PEL\",\"PEL\",\"IBS\",\"CLM\",\"PEL\",\"KHV\",\"CHS\",\"MXL\",\"CEU\",\"CHS\",\"CHS\",\"MXL\",\"PUR\",\"PJL\",\"CHS\",\"IBS\",\"CEU\",\"CHS\",\"MXL\",\"IBS\",\"IBS\",\"PEL\",\"PEL\",\"CHS\",\"KHV\",\"PEL\",\"CLM\",\"IBS\",\"MXL\",\"PJL\",\"CHS\",\"PEL\",\"MXL\",\"BEB\",\"KHV\",\"CHS\",\"PEL\",\"KHV\",\"PJL\",\"CLM\",\"CEU\",\"PEL\",\"PEL\",\"CHS\",\"KHV\",\"KHV\",\"CHS\",\"KHV\",\"CEU\",\"IBS\",\"IBS\",\"CHS\",\"KHV\",\"MXL\",\"CEU\",\"CLM\",\"PJL\",\"IBS\",\"MXL\",\"PUR\",\"PEL\",\"PEL\",\"CHS\",\"CHS\",\"CHS\",\"CHS\",\"PUR\",\"PEL\",\"MXL\",\"CHS\",\"CHS\",\"PEL\",\"PEL\",\"MXL\",\"PEL\",\"MXL\",\"CEU\",\"CHS\",\"CLM\",\"BEB\",\"CEU\",\"KHV\",\"KHV\",\"PEL\",\"PEL\",\"PUR\",\"PEL\",\"CLM\",\"CHS\",\"CLM\",\"CEU\",\"CHS\",\"PEL\",\"KHV\",\"KHV\",\"PEL\",\"PEL\",\"PEL\",\"MXL\",\"CHS\",\"PUR\",\"PJL\",\"IBS\",\"PEL\",\"CHS\",\"CHS\",\"CHS\",\"CHS\",\"PEL\",\"MXL\",\"PEL\",\"PUR\",\"PEL\",\"PEL\",\"CHS\",\"PEL\",\"PJL\",\"CHS\",\"CHS\",\"CHS\",\"CEU\",\"PUR\",\"CHS\",\"CHS\",\"CHS\",\"KHV\",\"PEL\",\"CHS\",\"CLM\",\"PEL\",\"PJL\",\"MXL\",\"PEL\",\"CEU\",\"CHS\",\"CHS\",\"CHS\",\"CHS\",\"IBS\",\"CHS\",\"CHS\",\"PEL\",\"CHS\",\"PEL\",\"KHV\",\"MXL\",\"CHS\",\"CHS\",\"KHV\",\"CHS\",\"MXL\",\"CHS\",\"KHV\",\"CHS\",\"MXL\",\"CHS\",\"CHS\",\"MXL\",\"PUR\",\"CHS\",\"CHS\",\"CHS\",\"CHS\",\"CHS\",\"PJL\",\"PEL\",\"PEL\",\"KHV\",\"CHS\",\"MXL\",\"PUR\",\"CHS\",\"CEU\",\"CHS\",\"CHS\",\"KHV\",\"CHS\",\"PEL\",\"CHS\",\"CHS\",\"CHS\",\"PEL\",\"CHS\",\"PEL\",\"CEU\",\"CHS\",\"CHS\",\"PUR\",\"CHS\",\"CHS\",\"PEL\",\"CHS\",\"CHS\",\"KHV\",\"IBS\",\"CHS\",\"CHS\",\"PEL\",\"MXL\",\"CHS\",\"CHS\",\"CEU\",\"CHS\",\"CHS\",\"CHS\",\"CHS\",\"CHS\",\"CHS\",\"KHV\",\"CHS\",\"IBS\",\"CHS\",\"CHS\",\"PEL\",\"CHS\",\"CHS\",\"CHS\",\"CHS\",\"CHS\",\"CHS\"],\"x\":{\"__ndarray__\":\"gmoNrRNk2b8wReVbqijZvz5e9fcVE9i/S/pxGkTG17+voGnODn7XvyW9V964/da/rJVU6yzt1r/M6BbOpNXWv1qw3RyG2da/lDdH2EyT1r8VzwjGeYTWv///FRQzQNa/puzhyaAr1r/c9EEFlSXWv7Fk6mmw5NW/asghzF7B1b/XMmdf8oHVv+Wng6HfYtW/0DcpmN5N1b9wz8xwpE/Vv0tf/jg+LNW/lnhNvXQq1b/k1HvyLxnVvz7xa2KNENW/Ql6K630W1b+tXQE3GRLVv4/OUu2n9dS/45ydOMnh1L+Ag73FSvHUvwh7o/nO7dS/CaHl4x3N1L8upFvfv7fUv064wVr3j9S/UxRFoFuK1L8xnvQFE2rUv2qooDmON9S/9EBpqmEv1L9WkxNGuAnUvxkbxLlL29O/vPGVj0q8078hOY1D4o7Tv4gUxAWaftO/Ng3E7IJp07+3M0WhAk7Tvwb2ipIUJtO/9OdyalwA079M7iirVALTv6CDDgo38NK/5+COxq/o0r+1xxMDstnSv5yc82qJutK/vNd+XxGf0r/df+8xzInSv5A23RDseNK/hd6OMoVy0r/vLXHgWWzSv/5J2M/8adK/gx0/iwNZ0r9RvvwfwFvSv6uLPVmnS9K/B/3eEg5J0r+BboK/py/Sv9EXYovHOtK/eRNjFB8p0r98KcJe9jvSv/xUCZweBdK/a6Uxxor30b8Uh7RnyfLRv+uxztSy89G/84Jdf/bq0b/TE0caUsvRv/dRfFgD1NG/JbkXTR3O0b+lsNWaR8rRv8Xs1FkeutG/VWTCOnW80b95ng83tMTRv88YSGbyo9G/2pCwn8Ou0b/kdIMtppXRv8wKTlVim9G/aBgglWGM0b/R68pNP43Rv+t/S+4hc9G/EKzrmUl50b+t+ZN4ZV/Rv9p2EKGJZtG/HkOIQDRk0b8wLygsEE3Rv0EIGpBWRNG/kKrvCCRF0b/DAUqXHFPRv6I6nzS2LtG/ZrF3IvU20b8BC+njlyvRv6OH/bWLIdG/Ulcaqsse0b8MsxGPlA/RvwQcpeXODtG/tjSXHsj70L96/3e1KOzQv4SE1gQ19NC/QUGK1Xjz0L9/kLAEyN3QvxbcV/iM2dC/DIb+6tfO0L/TkMpS6crQv9msW85qx9C/6yMYSQO00L985/OK96XQv7c8wLBXnNC/AVoM6NGe0L9v9Nz1UIbQvx27KHb2jNC/dWwCme+J0L8JuvR2RHvQv9yyFpVae9C/F6McCCtv0L/BanvON2HQv0ttJl/WZNC/ZLZ9qnZM0L8IMYorCjXQv/eE8QH/NtC/7jqnLC090L9Sr4EhuDrQv/GQ+tC0LdC/jZ6/1a0t0L+12kKbQQrQv2JmiKW3+s+/sHolbg4I0L/aXIifTNDPv8HFGiZyqM+/GqkFKVq6z79AGXevT8fPv/dl48RurM+/Ywio+2OLz798rB+5t4DPv2xNPKUTkc+/k5DvOeWFz792jSAW8JDPvyyMC7ZBXs+/PdaA5sVcz7/KclzDjVzPv1LYeAqhWs+/RSHNh+NFz7/rTUqWHT/Pv5nWK0PpLM+/iJkz0tIgz79snykgYRbPv120IQ5WI8+/m+u6qcgqz7/x4vTN9yPPv7davqA8H8+/vyS5U88qz7+TZhaXuS7PvxTJrlSY9c6/4P/LPV7wzr/XEbs+6/fOvy62WNvB6M6/SWKXPF8Ez78xNYwcFP3Ov41d60CWAs+/iDLikQ7Szr/81pjl98fOv+NwLt7bz86/l3EI1ymdzr8C7l4x6qHOvzWkdgU8ls6/alK9ZeqTzr8vVPXWjnrOv3hnMvDvXs6/ZPIX0UBQzr8CnGQgsFXOv52j3cqvaM6/DgLGZT9Azr+XsIKCLEXOvwadUHfhMs6/d9huo+M0zr9YdiEEPBPOv64tXz638s2/fZAW0yTqzb/VeO0e4dnNv31iG4ex3c2/1gdfiYD8zb+G8V7L3vfNv8kuQFCbvc2/m/au0dDOzb+bwNsWAJnNvyf6alxEjc2/Z9IbftOxzb8FisE5w6jNv7x3/xM2Z82/auoQbwc/zb8v1R8RnF/Nv6tNRrWWHM2/SK2J7vsbzb/UddsxUj7NvzHcQdKGH82/hkirEUz5zL9OIeUeghXNv0mBOIOX/My/fR2C12IAzb9q4JL26gLNv9fS4IG5AM2/F3EFXrkQzb8txAzEvfbMv5X/aLDty8y/BRLEO4vZzL+6sT+pxfDMv+LAQE3E08y/F+NmVevKzL/24kft4MfMvxhjY/skucy//osAm1TBzL8Mc3JS65vMv4NXA8WMg8y/+5/oXc2jzL/Q8JUYSpbMv2HfQBKLgcy/04fbf2lgzL91hsTPiD/Mv62GQ6VAUMy/XkNuYKtUzL+SUYfDhlLMv0Jkp3EoL8y/cmPtm+IpzL/vcgz1iQ3Mv2J/x9Rp78u/z7Suf2vuy7/7x+rm7drLv7i3BNaZzcu/m5gfp+bLy7/iebtLNMHLv7xpR13n38u/fnUGXZC7y789ZI6lPq/Lv3SWwAKLssu/YyH28y61y79xTsSdyJHLvz4kBH+9icu/k2xtF9uAy79vSei9qHDLv31QAhUojsu/audn1OJQy7+EB+TUlFjLv6dJmZjpM8u/WOD/I2Ewy79MP9Y/azLLv1+VZTIMP8u/D7AjcngCy7+ijDPd3xrLv2yuMAkw48q/dvwxien2yr+rOSl08N3Kvx6g80M23sq/Nefqtlrpyr9adw+RGMjKv3OPwgestMq/H50SRLTRyr/3BOoNor7Kvx+gUDI70cq/D2u3aqi5yr/qf/+acaDKv1wWaFAOqsq/aBvF7eOgyr/9USWCFZfKvxaR7MCIl8q/BhEgUBqWyr+qDmHdo2nKv+AuYBOBd8q/2pqRG+diyr/ZRd52nnPKvyTbLqFre8q/Zh3DUdNgyr/JBTEUvV7Kv2sGOOgjScq/Z8A7rkQsyr8BytdPdjTKvz4JiksCLcq/OSfV4vYayr/1wwiTFvDJv/JEZ0vo9sm/puCI9kcAyr+wWmQIPdDJv6YnpgJAzMm/p30v5MLQyb8hg3nYsKPJv+dmh8UBqMm/2hyNSKaxyb9Koo5EDoLJv0TE88s4ZMm/segQBCZYyb8MlE1ci3nJv8pEHx5Cacm/p6dZ05pGyb8TbQn59C3Jv6P+6nTgKMm/IOm5aY8Vyb/5sfHGgwbJv/HmmaJ/88i/XaYS6Sb1yL8unQbnwe3Iv7+FgAX6+Mi/subzIVvNyL/d5G8IysXIvxX9U/cfw8i/+o538fTFyL8QjWyIIb7Iv8tapZeEvMi/txNMxDi3yL8q8HSun6LIv6Y0Oqexn8i/0IqHRl63yL+JwhVh75LIvyOWSwslesi/o9VGbG13yL9XKY7oxZDIv8dYdETje8i/dJfFOEFZyL9vkF8yWFHIv+EkhYt2Zsi/fVetDIwlyL/yXVHzRzrIv/ZQ6zoOLsi/aemVIFg8yL9rwCxpGELIv10yV3RiJsi/FS82fasWyL/wgsG2XxPIv+YhCKtEE8i/Q+3PdGHkx7+qndeeDOjHv1uPUk+Xwse/jVdZFKqtx7/tMb2Ap9HHv3mJDbzQise/KpJ4y5Opx78HNFzuS5rHv+fy16fvkse/4aMmORKax7/A1ZqSInvHvzmxGT2/Zse/oCZXZhKDx78GV/v4smrHvw9reHdfd8e/M/JXc9dwx7+UDS9TzFTHv0ZQXj1sUse/SDTaXJ1Rx7/bqdQlYl7HvyDGanPVRse/GRXF5/lYx79M2qBK1RnHv8QffoPbKce//PAyOyIWx7+Rme3nGi/Hvze3QydoDMe/3UApwP3txr/RDb+BEtfGv4wTm1/u18a/0nqyrWPFxr8VixoHdtvGv86IaaMyuca/kzzTrIapxr9b1EMUgqXGv26XWmstt8a/bN5ZxBCMxr9Xw+ge04bGv/xIMwbkfMa/MhVkzhV5xr+md/So63jGv+WRvBSVhsa/xa8k38Brxr9P1ZvdlGbGv/uPlQOKasa/ASTYrEYzxr+mS1O5JUzGv1Bqinb3Rsa/X6fEYHNLxr/wxUWN6T7Gv0SskcfiS8a/P/gaQ0Mmxr9FQjDJjwnGv37ea1xHFsa/6PfXe7Amxr+as5JVBCPGv50nDdA49MW/VszOe7P4xb+vzaz84/DFvxNHnOvuxsW/V1Hs5lXZxb8I/m6sVMLFvyPhR9ldtsW/sbm+uzKrxb+Vix/d/KLFv/YMrVByoMW/TxD+FxKExb/4IOX+q4XFv4tWcVxafcW/+13ihLp9xb92ONiNQlHFv/H1g/ClWsW/WaiXh/FExb9s6GC+3lXFv0/AXukiZcW/XZQHop4Ixb8PF003GgDFv/uwxRsuEsW/XMdjvNoOxb/s82R+Yg3Fv7JYe6RQA8W/8FoV/PMUxb/G+IR5z//Ev+Owr7IW6sS/CWBVU7ftxL87pN0A9uLEv9lTjXcQ9MS/hOqsYfrRxL9izudt0LPEvxwUvghfuMS/N4mj61jIxL/6S7UWuZ3Ev9WRLDfth8S/O7xb/Vw/xL9ytue9ulLEv7NTZQARXMS/mGQfZ34ixL+Vj3vThSrEv6X/mZeoCsS/gVVej9/1w7/pkipYnPXDv8/C+USN18O//oe90HPJw7/4SZD9+uTDv/32Ktib3cO/A3LF92ffw7+l3vieKMnDvyTHq+NvxcO/BCnugh3gw78AcXUPc87Dv/SHsAPJpMO/orTTzRqkw79nD0fy7J/Dv8nsNQbFkcO//aR3u/aWw7/dN7o/aHzDv2teDHlIfcO/SnhkNVpvw7+lq1DdOG3DvyYEiNl4c8O/ZQxan9w9w7+g1WYt2jLDv5KI+BuOTMO/EpOgpsfmwr+9+Eg/xOHCv287opX74sK/sKXmUIT2wr95NzhaQNzCv6D+Cjrw98K/JEn8AlTKwr8++Zy5Hs7Cv5jxVBQQy8K/R7LS3nbVwr8uLZ+NFNrCv1XNQcEZbcK//QP76Tp6wr+L6O6KRmnCvwxDOZdvgsK/PVxmCQ5fwr9nhECveGDCv7ZbUsfZPMK/d1ckF+I0wr+1vXmLAhLCv5a+bXp4CMK/FA0FmAb/wb+3ZMVOSAHCv1REXAidBsK/53NhxlDAwb8Jb0Gt4cLBv1TfqdvHycG/hJpB/hzIwb87l3IsC6bBv2My+g+Fl8G/mp3m+/OFwb+INwrMrZnBv+5WJGI5Z8G/MhggiEJ3wb/LpOruQ0bBv/IbZ0GxP8G/SSvnx4Mowb/pe/jJWizBvw6p1dPYLsG/SW4m4OHxwL8GkH9Og+7Av62lG6P/C8G/Kwpslnn7wL9bv7H3/eXAv19rLWoMxcC/WzWW38nOwL8RWBb3WOHAv2HlX9o4ysC/Jn+NF0TNwL+iM5YZwbDAv/Po6d2yocC/BtGub2KxwL9PDChnJYvAv8N7NeJPWcC/0l1XKGdZwL8/vLdimTvAv5O6NMCRP8C/HrsFRbchwL8kP4TH2RvAv97Bkvj+vL+/ZS+kTffzv797uthRUO6/v4G4mZJptb+/sOC42Lnyv7/bE8ToQJ+/v9eV8O/1ob+/HXvyQn/0vr+tIAoOIkq+vxHm9NFlRb6/3v6v/ipVvr/TVhyBo3C+v9zKoJkqYr6/iNgiVmsmvr/LMO08LPG9v16ireDAo72/s3PSkiRqvb8m80/q+li9v7q4E84CWb2/NFP5feAXvb8MIsln3v68v5sEy/Lx/Ly/oqplLBjKvL9vF3y3dHe8v9zi9VhQqby/GR0SjOAWvL/tV5CH7D68v7ykiG+dEby/M1DK4lvAu78A6Wn52jG7v8IgL/ryFLu/wRSLM/Eeu7/bQbKNq7O6v/Ws7R1xq7q/Vuu7SZwZur/ZOfxW+Ta6v7tNWNQV3Lm/binkHJHzub+HIB314bm5v0jiUtHowrm/M9ymyLxyub/BEgS7CCa5v9JyThvnCbm/OfzTfdKYuL9cGiWwaoq4v8o4NMKMsLi/hElqGBVauL+mD9LKpmi4vxKmdlSB3be/TYFTNzept7/LVKElpca3v0TN2bkgSre/3KKTYcgNt78TemFcA+O2vxAUjSpw87a/hkXdir/Otr8kLHaW+6K2v9IBmz+x4rW/WkKC7sErtb9G/JxkzQK1v/audOds3LS/fFBHdwcQtb9Eg0AVdra0v0aXH/hMpbS/NOSOtsBAtL8FtaKXUMyzv+SmWaLOZLO/H12Fw61Rs79ibJiVCDSzvxNeCpIE/7K/D9cwopRXsr9VO1hIVK+xvyNGzhGhbLG/U+n6gQKKsL/eTJTSSo+wv3NRgiN/H7C/0/cUkLscsL9eg7GBvEawv8pKB7vcBK+/4dUt1sflrr+MzaXvrGKvvzWOcp7DTq6//j6PoHvHrr/S887N+8qtvxGfqQcq1a2/vQgRHNFBrb+KOIS/ymKtv2+EMSvl1Ky/j6pm8Z/GrL9xsDDYsVGqv6ncDjAojKm/MxAh9wSdqL8bdvZjR7inv5U2KkrCJqa/XSzLr8LIpL9WEZVUYYOivycSuWagsKK/SSX3Nhcior/EXDox9Qmiv30Y3eusPJ+//GMed7cqn7/dsUSfoXidv8+vwaQya56/qy1o7QsdnL/eOgifUx+dv2C2sqwt15q/CuzO3Wfgmr/V2PfaJkiXv7mKBdqBkZW/Yfx7fyBalb8k1zWamaCUv1E2ThZZj5K/pyppkUxtkL97cKssxg2Pv1qpR5Dg/I6/2HyvM5enjb8TDtU+Ln6Lv2tzu3Vn2om/w2/oN96ciL9zW9cK1tF+v1eb+8vIfH2/7aj2nvp6d7+qg0EtMyt0v+0HvTQZBnS/WbiL+sErY79CUWG6MykzvwPpC1MdzFE/uP8ce2x8bz+PzelzrFJ7P2brHEydC3g/j9qlUEkIez8yA1eYQ/aBP6ynW7sj4oA/rNYzADBIhD/8ADdNDOiGPwvepiQqB4s/B0YWBz+MjT/fmp4vay+QP19QxftpQpA/dVpqU5Y0kD8UoX46gtiQPyaE/pTLNpE/c5ktxRjHkD8Uz5YPC3mRP0pOWlbb65E/8Qb1Zdpxkj/fDPl7w1iTPxiqi87ZkZU/ucKJyr6SlT+U+rzE//qVP1jS1BepOpY/GXoJ3/GHlz/VVswfAmCXPyvTcErqcJg/6iYap6wDmD9DEmCzV5mZP/N49nPu+Zg/8OgYAhHtmj+GjI958duaP0Ss/TITF5s/4gSVfbx+mz+cIXNUgY2bP4OqFnox+ps/FdvCCQSgnD+cQH5VzaudP6lLMv5IMJ4/fR5QWQeJnj+0DXzZ9XieP1gcxSpXKZ8/6aSrd48NoD+H/fIxfs+fP8/8KZEBUqE/u6JBysZdoT8KyV1omQeiP4w/fJECK6I/KscvNCB1oj/xyhNYOqOiP2ogU4y2xaI//GhqVj7Noz8sNZ+GSTGkP4RSjxHhwqM/cGAwKr/ipD+ukxHo2lylP/5oPf4wDKU/yiBWh4c6pT/Tvf19czmlP2jCaehhnqU/v0anBmlIpj+lWjnMNR6mP7VguZ3UKKY/OinXXEscpz8ltBs4Se2mP05LPbG62KY/1s8iNs/Xpj94qikrbManPxavvrYNx6c/Exz4rVpepz/CZ8AFitKnP8UHCrVRPKg/s6SktMFkqD+AauDaUw6oP2RKR44aHqg/CTYFLmOBqD9lcY6bXTmoP+LGijooXKg/nwdn8fcuqD+Vn1nk78WoP6NtDv6S46g/e4PPN3DHqD8Ea9NL3RipP+0rEs5p56g/zCUmRbw1qT+D/9AAiSSpP7IwB5I3qqk/Eky+P5qIqT+ni2eJzeypPyGgcHwBIKo/gxVFeaUiqj8G3lkAYj+qP0CKEsldAao/oRh0ujuYqj80xY4Id4CqP9gDAKQE66o/SHd6AiG7qj/sMcQFkASrP4CJ3nSC/qo/CWXIhjwiqz9RHo2xBMqrP0PQCnATGqw//JtCsXiNqz/FoQw1DRasP5c1f0OPtqw/LZYg5tM4rD+sCUGCOz2sP5/XT9t5Yqw/MAeYhb+urD+IZM+8VTOtPxa8f7FMLq0/kpdkW7ggrT9vE9+cz9msP35X8UO/v6w/40ZMkj2drT8MAEamr6+tP6EFmDp6eq0/+ph0OTmmrT+as1CqI2OtP/C4ydO2CK4/rUG3nEVnrj+tDWj32FquPyE4U6/YDK4/SG/KGT8Vrj8vLAAWQGKuPwkCSKPQMa4/dEdl+iQorj95zF75xBWvP6ImqzeBpK4/sulzOlwgrz+B8Bu9NL6uP6ljYk1Xza4/je+gNTIcrz9Q9Va9WUWvP8/gFlBMd68/sCh804R2rz8Tst5wx6uvPxjVJ2XHj68/MkqJEAitrz+yCJCyMLWvPy0ATGpAj68/MameiLLprz+BxbrIxPivP56cdRJk0q8/w97eZT1vsD9pOGxC+EOwP5qNqhlgRrA/+mBLJwxSsD+nNo3YBHmwP4OB66fqP7A/Tm+VZF1OsD+mIyZ6R3awP1BjsC2PcLA/mC8EJPOrsD+MPP3eQpiwP/SEDRdlh7A/SW8FHkiOsD/2AUTZD4OwPxU4I352kLA/tKqHAMHEsD9JXXbnrJKwPz+5WHh0yLA/YdoZa3sEsT8mdZ4lBeqwP0P20HzAELE/hdSrtLvrsD96N45xptqwP9ejnhOdzLA/hmEnDlbjsD8KMHNO7/KwP7Y4HEh/OrE/3e07PncusT9ZAWSGyhuxPz6xCzJVNLE/1HAzdJVKsT82cMcRGWGxPwEbLbQko7E/f2knoQOGsT9D8ej8EqCxP0ro2YOLhbE/kIwL47JisT8X8abJRqGxPwEJl7H1brE/FswvyqvTsT8kqM1phcyxP91QTC3twrE/Xx94+ebvsT8bSTYaZ7WxP/Z0Effyr7E/UdbY19a4sT8nCIpvO76xPyU0fP5547E/ZDHAmzrBsT+4w8JjrTWyPzvSRCsLKbI/oGAdGPIVsj9BuK4Ppz6yPwzQWaX//LE/BPe17iNrsj91bczB91qyP6Zo85K6jLI/ej4ZNJ5Rsj/z9e3QKIiyP8JHSfV2U7I/AxyHYvtPsj/ymmJ944+yP2SJl51BSrI/nBHGmxVgsj/9PAAcKJCyP0cVp1lUmbI/hvu4M6ujsj+z82D3t76yPycJS0RQyrI/eqYEGkXYsj9Vxn/GbKyyP3QiacPC0LI/jnZy+z/Nsj/R8kuBwLGyPwjm/VY6mLI/2NQfd4sDsz/CRm2AzOayP7sudvItKrM/IhFzYbTwsj8FOP9l7fuyPz7xMwTJKbM/G4GJDoAmsz/lz0KxePCyP2eQfLcG6rI/MkCqGk7rsj8+tZVhDwSzP1TxNHho5bI/VK01d1Bdsz9Z3Kmd8G2zP2sV/GkjcbM/4bi/xWdWsz/VtFJ0HoazP7cs3TfvsLM/70AwoxKUsz8n9GRuZYizP8ZGSmE7lrM/XAoqXXgGtD8l0GXk6c2zP37bDO8H+rM/FXvtkDwRtD/X15FWxfGzP/v6Six/B7Q/BIJq8y0MtD98nveh59izP/Hh8GSp1bM/QjtFsmENtD+yzT712PezPwu6ZThw/rM/w1jaLdPSsz9//wocztqzP7IT0WDE1LM/KTiY4ToStD9aBf1rkUW0Pw9YQrQIY7Q/wfy943Q3tD+2z3N+ZyC0P/UeHuM+WrQ/vr3Ak3+qtD/hUWp9qp+0P0IM07LwkrQ/0f/FuAuVtD9jhkoKk2S0P009+1ysa7Q/j2D5Vl16tD8G3Zh6Tmq0P1qD6a7leLQ/tP5gJ+yYtD8ydmkmF4W0PzdrqOy9q7Q/VH2nZM6AtD/tAO6NHfO0P9+gjDb5xLQ/s/haOrXAtD+NJ15u3cq0P/9sOdrRyrQ/8sSCy0TstD/EjtAFRbq0P+LG7BEh9bQ/aQSG9wXYtD+r6yqmB+W0PylqToh31LQ/DgxQZgH3tD/jfRdmNw+1P+j4KfolDLU/UBXgSmX+tD+rid6YjwO1P8p4vLpJNrU/5fOWHZZGtT/eTXdflTa1P5KqMOjwB7U/bAgeCKAYtT/ERNvJexq1P52jqFSfdrU/X5WL/VZntT9yOuwYC3m1P6vk1GgwfrU/gNtWysxftT+/FQxBrY61Pyoj4hQzcbU/AKl3nyaLtT+C0VeAh0y1Pwr0TLlDbbU/tAp6xB5StT9i8W7GaFa1PwGgefMjULU/Aeyx2sO5tT9uu+7JjNC1Px3xUB2807U/kKRFAzzCtT+QyMrJjb+1P35jNDI0wrU/vW+DOhHhtT9EFSyJr+K1P9YOUorG77U/np6Oj/sHtj9V66j8YSa2P9nyocPrMLY/upCVowAjtj9m0IHGKiC2P10gPIG95bU/vKgV25EHtj+CsmelF222Pw/JP6KQVrY/DBO9JA02tj88oH3Gv0G2PyNR1A/LXLY/NE37NxR2tj+b9UStvWi2Px1B+zMiUrY/kYB0eyE/tj8yEvvW/qC2P7zp0YWAjbY/fMQecUKItj/ZiigrRKa2P9/Um942x7Y/Zd92k5yetj9rQSRpwoK2P4QVpLrfv7Y/+KSR/T/Itj9poh+fawm3P6MaXk8H/rY/eZmfd4QNtz9/VRTnzQm3P01alT5JC7c/yXpn+Cnvtj+mg1U4Teq2P6+xzWb1Crc/In3079rdtj8sj+QoKwq3P9m1GElUN7c/KMRZ0SArtz/xzKuhqCi3P5hyNFXGMLc/5HSXNiYytz9TQwGful+3P5ZEu8KLdrc/vkZ3h0KKtz9Ch3/dwW+3P+mK/1c9aLc/Pj/O7XyBtz9BOdNHU5C3Px4ukcd8rbc/z4IN0xSPtz+SOaid+m63P7I7KrnXrrc/Q+DkFiWPtz9XdLt+AXq3P2fSgpUNu7c/joFx5SzKtz9MoUG3RdW3P+kUFdpK5rc/dEna5pHAtz/s5Tn/9fe3P6d0UYc49bc/0nMY+IT+tz9hDno6I9W3P81tl2js87c/NRzdDXjwtz9P5HOro7y3PztKngzjybc/W2m3qOwGuD8L5Y11q0i4Px030lSALbg/CX5bW+0zuD8n5zTUnzi4Pz3LDuTTPbg/C/5PXW0uuD9sVunzPQK4PyU1QwUCQLg//GkXAd8yuD8vUvRwv0a4P3jI5dy+frg/h6viCABluD9wTfNjPoK4Pynk5LngiLg//nSnIopguD8QcuSb62O4P4o7OsT3h7g/gzkNK6OQuD8zXGDEFHO4P6NaF+8HX7g/4a6Qd2VtuD8EZUg/7Yi4P1KwtYJp5bg/eQL8ovvBuD/w8j4v4c64P5LI6Nnivbg/RgWUiaLnuD/za/oqkaK4P39aYCja5rg/j8SrQy3SuD+5idX92eC4P8AvFPxN4rg/q+rkV3bGuD/L6LUdP+e4Py21IYSj17g/vTvY3sWtuD/lFeKAZKy4PzFCcuFGxbg/QQnRW0n7uD9a2iUJdfy4P+thyjZwELk/2WfMoUAouT9QH6TPivO4P4CBBsiHJ7k/oZFEOmD9uD9BW/C0eyu5P0QHAgcqBLk/IhUoY+/uuD/9Si4Ovv24P5krVm1hDbk/loZfl93quD+X0TQ0U+q4PyDGoq1/+bg/c+j967YpuT/BIDNG/Su5P1vUI2GLWrk/WR9SuM57uT+aGwc1ZoC5PwoSj2FOW7k/zJ+jHtl/uT+gG1yxm3S5P4INFVK3Xbk/MTwUM5NNuT9+Nx7zy325P8DndEFvTrk/lRnzYStOuT/BaVm3Umq5P5ACD8/Gcbk/VBqDhDJjuT8eV529ozi5P0v0uiL+Srk/zDvJOg6VuT9s+Sc4us65P7qs0tZClbk/hQZ1S1W/uT8gRDRtl765P39BnYAkjbk/iUOtsvK4uT/U64AP6Yu5P4ZY3Qzribk/QSi88zqXuT9tm/OVxYW5P4JsLof0sLk/Z4woEfzKuT/T70WpxKm5P1aGkEtX6rk/EqeFjEXtuT95HO+HZf65P0rLop342rk/lHjMO2cOuj+lJJ6KNdO5P43gWwIi27k/goKcnHMVuj9Mz3/iH+m5PxBT2C1z6rk/oOTeeoDjuT8KpV8XJOK5P6qqW3ZUCLo/uiOimgMQuj/7KNbRI+G5P2wXbPXA9Lk/bNpAp80Tuj/JAJ3ksli6P7Wp3CqmPro/oYRNVRI5uj8DHGGRHh+6P3eKwbS4Vbo/3FV1kmI1uj+lXszOElu6PzbhKeffUro/IxB1VjdGuj+0AFqCwWi6P0cAndELWbo/Oa4qso9auj9MzH3Jw0W6P1auYbBKi7o/ZCrSrquGuj/JxUMJl3C6P+v4DzgNpro/lp8RUuGmuj9v1YPQ87G6P3xL52fUnLo/UQ/NfC6Juj88KmOrLoy6P9ombGB9sro/vIpI7b2ouj9Sicm8U4m6P0DhfXrrg7o/JlZCP46Guj96k1foWYa6PwjcBmrLpbo/O6zwy5vLuj+b2leb19m6P03BmdTk47o/mzO8Wf7buj9UY5GChAG7P137VjRay7o/9ThuIhLjuj+EcyCLo7y6P3flv0vlybo/d/V4sXTpuj9jaD6du9O6P+gHxg6x7bo/pN+CWlL7uj9xGV5Wizu7P+sLv9/7Brs/82rRR4pEuz/Dbiv6J0a7P6N9OoT/Tbs/c5ah7wg2uz/5S82scUi7P5JwnUEqTbs/FjpLNfIPuz/xaFfvPTO7P4/+6Kv8M7s/wpodui4Suz9jviDknC67P8HEaHCdFrs/vLMpDV4luz/mjJfotBG7P7/muKtZj7s/oXCoyiNiuz97IFmfqWi7P+5F8uPJYbs/BUCaQEhduz96J2WnJFW7P6T1xxhIebs/yPWr7yCRuz9nwZtWGWO7P3n7khzvhbs/J4nUCHWzuz/8jQZEX7e7P1vkMeiozLs/Ci5D1dHduz9uezPMatq7P+mcGmJKrbs/eISVUPa7uz9ty20ErN27P1AhUbzours/q5efbDEtvD9wmSl4JCa8P5DnWgdeDbw/LQKF0MAMvD+YapQysyS8P9KsrInWF7w/SUQgDMoJvD8JoNnQ3xa8P/t78nJfIbw/9e3eM5pAvD/NhU1yW368P4z9uRzvfrw//6grQtlKvD/YN7b3EWq8P6ROL9NXWrw/KvzocBlJvD9+GGVzb2O8P02jbX0Gbbw/b2YDK1lKvD9Mrg/EV2q8PwKhwzP6Xbw/Qi/AWdVyvD9/0yPtamW8PxdjU6i0o7w/WO4J0y69vD/+B+mVeY28P4/OSDR3v7w/QQlgD/qVvD+CBYM6TK68P/CU7lbPpbw/toFl7oeevD9IQ7T2a7y8P88kkPfT7rw/TMWRqA/6vD+ac9yJ49m8P/FnzU2u1bw/V04IW13rvD9TMPh2WfK8P8nAkn5q+Lw/E1F562HZvD8MfOFcbgm9Py6F1Cre/rw/KFsK+i/nvD+AX4E/s9S8P2J6UH5F9rw/gdlcu1UevT/2H0LnIGq9PxWNNiBFIb0/7IofUFxUvT8RVOKroDK9PyWIwssFJb0/6aaEUB84vT87C6IF7Em9PyvIMDwcRr0/SKKN8t9NvT/QHsXgiV29PwVUI3KMK70/ggTUiqN/vT+i3m50CZ+9P3zLObh9n70/uB/AzSx9vT858arMaJC9P03Gd7zElb0/8wy0qxl0vT9vg/9Gppy9P9H9GYrDf70/Volkqmx6vT+KmX1ZHou9P5ZjsywFx70/eob2uXi5vT/W6ZEjxvS9PzQpIGry6r0/QhtfZ7HlvT/+rGa7Fvm9P/TjdCCvyr0/wdcjH3b3vT803LQ3FfC9P5qqLFXV5r0/EiUwNwz0vT8h1L/ZgyC+P2Qq0W6fP74/9Xl8/AVSvj/LQjIxhT6+PxVnxVeAO74/MsfqaPROvj8WyyelZDq+P+cwNJd0DL4/MsmtsTpNvj+3YKEilgy+PxU2dPDIB74/BOX+qXonvj/eYJeOzCW+P3SknEzALr4/Zd3bqukrvj8eyGr+Lyy+PwyI1CtCFL4/IaW52o5Xvj/sT2DacW6+P+4fdXrhcL4/bHRDWDp/vj/XcEQJeGu+P0gtnI2+jb4/eQFwHCB8vj9Avz3dfWy+P9KiLiMciL4/a0aS50Bqvj9/1nxsgXa+P8Zcb8F/W74/p+XTeCuAvj8U5JcAF56+P2vTKfsU274/hCc1zMHbvj9HGluyQMO+Pxs1q8p7ur4/6A/48B6yvj8kVI1hxeW+P+vlB91yxb4/2grL4MzWvj91+UArs6W+P3D+rHYH7L4/Q4Mt/IMcvz9viI5aky+/Pwr4p1EVAr8/nYCj5B0vvz9GxZW2ZSK/P/MB/FZ+9b4/GXhfrr0ivz9QNswABiy/P/ACKexr9b4/GMtr3jclvz8l4XLaE/u+P9+nlmAlQr8/MaIfx2J4vz+gfbCH+Xq/PxawTB2ThL8/tblUzgJhvz/EugMRuXm/P3tQEPtEdL8/TYFyS7dnvz+GFHoFkVK/P4N+oj5TX78/yDp6vGi5vz+MXjjFoa6/PwooAX/Zjr8/M/XIqki3vz9SMuyUP9S/P+N3KeDpkr8/H2EvUbuWvz++6AtGg6C/P5qGQsMEyb8/ykD5qdupvz/w+UHoW5O/P2eCSGq1sb8/ZUFZk0+Wvz/Ete8lI8G/P3DNPGh20L8/ZhliLROcvz9YcRuWRKy/P1+Fq6Xwmr8/dLiFWoL7vz8m59x31QjAP9kWXg0OBMA/d2W39XcFwD9K8mNHddi/P+L9YD5iC8A/1jR+xu/0vz8Z+2ekQe+/P2ixpY/54r8/sncoE8H4vz9fKFm6IPy/P4PoHbUJCcA/S5e3tIEMwD8d+sAxHgLAPziJkKedEcA/UgV1QW4rwD+f0r5NnzPAP5c6QOwZEsA/W7rn5vQwwD/f7qybkBXAP2NWw3BvFsA/h/Igp4MzwD9Qz1Ub2xPAP4S3aN1iM8A/wxI+WW0fwD8OZQRP+RbAP/DdoLJzKsA/1JX+fXAnwD+JWtZZXBXAP2XQ8xNyWsA/5gjvA0JbwD92wUwgGV3AP6zpNp1ZT8A/o5PCO7NWwD+9dSnifEjAPxU9ITzZUsA/Ka3iI6FUwD/aueWWa0fAP9yhANbCOcA/iPvKOA5YwD/l8CNzzEXAPwgHvGlUZ8A/LpfCP052wD/bL1yC92rAP2FRdlvucsA/+b1m/pd1wD/g/uvWg2nAP0xsSBwBa8A/Dk5kVCp8wD8CH7yCzmDAP8ctrFm/e8A/k7eaw8R2wD+dJV0hl3vAPxNKNGmoZsA/1d0WVd1/wD9DvpRq1GHAPxKbX3iYeMA/3KgJM0uAwD8U/18zA47AP32abMm8h8A/PGd+UV+bwD88a07ztI7AP+6ogroNqMA/TRIigXybwD/XuS/qmpjAP5/jAG8kpMA/n3lKp8mmwD8LYaXNlIrAPz7LEM7Wo8A/XEn4jB2hwD8f7KO3lqnAP/HmIObPhcA/bkvq5jOXwD8LL1cHoabAPyCKVbZrjMA/bTDti2CqwD9DBaIwEJvAP1W8HdAXjcA/xzGoPs6FwD+Gekvee6rAPySguibrksA/bNi+G7+YwD8twtCxEZPAPyiDFWGDh8A/o8Lr0bWHwD+Ov7ydhsLAP0gsqYJDtsA/oAlQQ2mvwD9jOi7Es8HAPwkS+zhL0cA/u9pXXSauwD+Ecuq4L9DAP8KTIgtBssA/1MM7XNTAwD9Wq//k+77AP9NxjxVtxcA/kUdzpZ+1wD/VCGdUcbbAP8WDRZLhq8A/ukci/3WvwD+w+2FNO83AP1tKkTsqxMA/q6mOgejwwD8KCjRULurAP/AEczYL0sA/BUzZEhjfwD9QeYXwUeDAPyAqjmtg9sA/8Fwj5pHXwD9BoFEQHerAPxUhv6hE6cA/rDLfV2rXwD89mTWM2hLBP/FAo8/dHME/J2Fc23cEwT8cq9hTtP/AP5+2cFpZBME/mZVhm0L5wD9XoBxZqRXBP/95qx3V+sA/ZejBt/oAwT+OOwlopwnBP5HMNZWQHcE/7miWiCIFwT/5O0fSyRPBP2jtguUtMME/3qIRwiEowT8CUCzWcEPBPwUHx7MMJsE/tQxHmGwhwT8W+eAdyDnBP9TOl8tnNME/n642ckY8wT9UXG/X0mrBP1lVKXqWZcE/378h89BSwT/KLmfueF7BP4rUAgDRTME/4hr3DGNKwT/fEaV+c1bBPxqcXasvY8E/+EtCX6NHwT9GBueroFjBPwl00vDmWcE/GZwXHoBOwT8VEZ5tQGbBP1IULc2SR8E/oXQLtsxQwT+fgjErcGvBP1X8XPzhS8E//yEnuSNZwT8/fJpo3n7BP2QwEwjibME/kH+nilB7wT97nbSSH3XBP44cYnfekME/B1R7LYxuwT/VZwMc9XTBPzwak6ZLe8E/mXZ8c294wT/EtL+Kmn7BPxOPtzxrjME/Vm1RgPF2wT+82IIYBXDBP/S3SmY0icE/xmEBY0OnwT8OXLrLYrXBP16EJ1gmn8E/71Q/5I2iwT9UThxLdq/BP55Tb8NttME/vTBLJdKewT+7byJn/pLBP9dBOoIbscE/f1150c+dwT/Lm8NHma3BPzSHedYjucE/SZccGsTDwT9MAvtJAt3BP4tM4Jhq1sE/aoTfkCXMwT9XZdNiterBPz9ls67W9cE/Na1UZDP9wT+W7wZtKgLCP11bvJVF6cE/k07gN9z1wT/COTWV/O3BP/UUVaZa68E/kndl3y32wT97Up296P3BP4BfaKe99ME/51aoa6ICwj/3W07WFxDCP6Vfthc+H8I/DfrHR8Enwj/B9ghrVCfCP4mnUCTIFsI/2v5RcJwgwj8l/kwHJhHCP3J1K+G9CMI/kJZ6IHcXwj+H9ps79wvCP/i4gtalLcI/n/7+a6Q1wj/od+efUzLCP+fsGIF6PMI/KvVSTHQ9wj8DnaaGLzPCP8I4IoNMSsI/SgIZCB0ywj/fbNwLf0nCP6yWRNLuMcI/mfnVDgxnwj8xLDQ9HWvCP52Q7XTfVcI/yBiwvlR2wj/DvQJIO3nCP6aBpJF/YMI/nJsPrdlnwj+gfHGJlF/CPyt9zeyocsI/fgKb3Z5cwj+COCSOZJPCPy7MWG1JhcI/fwHe3ViLwj+EekeeyZTCP7yOqIolmMI/6rbBbqGQwj/KAEfN44DCP8cxRg6klsI/IRUW2+yOwj+QVHN9+7zCP+okcvNCsMI/njgmUdjCwj9Cr+rlKaXCP3tHvL8gv8I/RcJbdsqywj/pNxbHRqTCPzofHy514MI/6Vcn38rRwj9zp79/r+XCP+ZYJpX56cI/4HXihN3Lwj+Immam4d3CP2n5M9c/0MI/egZm1DjHwj/s+S7Fd9LCPyyypbyv2MI/wT5w1aHqwj+alSuv49LCP6DqntsHycI/b0YVoj3owj9Bf0Ed6hHDPxb0E34B9sI/qJ2xI5j3wj8QX5UZTQPDP87Re+VfAMM/TgeTD0b0wj8DkXlo5ADDPz6VWBu/CMM/HyLN1YcPwz+KMTOu0AbDPz0ELcAiIcM/cLLNEDYXwz/PTfHmRCLDP2ILlvn9H8M/wV6LTPEuwz+DU+zFvCfDP8FLC9D+NcM/fSPhIM0zwz9BYf4/lxjDP4kRrwcJG8M/rctaCbogwz8dMwT1vS3DP33El/CvRMM/vq9WlqtLwz8gXmWxVE7DP46Wv7tXTcM/3yCQKZ9fwz91jJ11skHDP6qeaGFAXMM/STn8NyBewz8rY5084D7DP103Z7p7SMM/fVevbLtUwz++nxrggW3DP4VGW2xmhsM/7S5ikXhuwz8CemyXJYLDP3wmFNI8gMM/YTSyCg1uwz+H6nSDfmbDP++UKgssgcM/6IxepjOowz9qyXW586jDP6uphR1TjsM/c5Nr222dwz9133ezpbbDPzaJ37jht8M/1s1Bp0m8wz/rTW2j3snDPykNjiiLu8M/n2d6c6q0wz/hwt7odL/DPxsXiLFbwsM/0l/1WPvNwz9Z8bFpNr/DP7tY3UhDzsM/uXXy31C5wz8+rwnn39LDP0f2Z4WUwsM/+WbSQijWwz+D+IZWf+rDP2hvQO0j78M/8RcRKJ/mwz9hzJ8+runDP5Iy3U5R6cM/P9r06N3fwz9wrFmNCxzEP8lfclPUDsQ/1RgsEBERxD9E0E3Dsx7EPy9Ug25PO8Q/AYM323Y+xD+LbEO9OjLEP0cUg9NQSsQ//eOCmKBKxD+/RqM6GW3EP6wuZndYasQ/It0gEUtsxD8iazGskkrEP7RUllFBYsQ/iihA0I9UxD/ehrZT4nvEP+wMZzvyesQ/uFIwFMSFxD/eEMndPZrEPx9PIe2Ur8Q/tpITQnevxD+asMjypavEP8DwRwyOrMQ/bIM/vPmpxD9V539qhZ7EP68t20wBucQ/OqmZJ8TXxD+mvz9bMN3EPxGr4l9a28Q/e+9duF7YxD859cayzs7EP9PM8gXbv8Q/m2ZkAzPPxD8P9acnivjEP+h7AF6T78Q/tct82O75xD9ujXGKH+nEP2zeRFIc5sQ/2zitUW9KxT+8cv6p5U/FP+sOF7fPMcU/JpvE7FyBxT9ZMDKBtJDFP/J4bfaMk8U/7h+32HmsxT8noZWBKbjFPxKEsF96yMU/3aSLhX7gxT/GcxV4uOPFPzLdd5UpA8Y/GeGjqg81xj9H8BsYxTnGP62RHenZS8Y/YY1L5otexj/V0++JCT7GP/yrgJ/OccY/E9a25fyCxj87WdXoSGzGPy/5fW0+n8Y/YmdbQX6Mxj+LDRNJjOzGP+vLdiGA4sY/COu/1TgBxz+k1M1yehnHPxSlvmK/L8c/X3s+kuRExz9Mm3w/SnrHP2sVDH96iMc/X/qnoe7ixz/fGFjE3NvHP6jolyhJcMg/iUCule6WyD8tLH0HVPLIPw==\",\"dtype\":\"float64\",\"shape\":[1754]},\"y\":{\"__ndarray__\":\"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\",\"dtype\":\"float64\",\"shape\":[1754]}},\"selected\":{\"id\":\"4388\",\"type\":\"Selection\"},\"selection_policy\":{\"id\":\"4387\",\"type\":\"UnionRenderers\"}},\"id\":\"4105\",\"type\":\"ColumnDataSource\"},{\"attributes\":{\"column_name\":\"label\",\"group\":\"ACB\"},\"id\":\"4107\",\"type\":\"GroupFilter\"},{\"attributes\":{},\"id\":\"4093\",\"type\":\"SaveTool\"},{\"attributes\":{\"label\":{\"value\":\"MSL\"},\"renderers\":[{\"id\":\"4178\",\"type\":\"GlyphRenderer\"}]},\"id\":\"4226\",\"type\":\"LegendItem\"},{\"attributes\":{},\"id\":\"4095\",\"type\":\"HelpTool\"},{\"attributes\":{\"label\":{\"value\":\"YRI\"},\"renderers\":[{\"id\":\"4214\",\"type\":\"GlyphRenderer\"}]},\"id\":\"4232\",\"type\":\"LegendItem\"},{\"attributes\":{\"filters\":[{\"id\":\"4107\",\"type\":\"GroupFilter\"}],\"source\":{\"id\":\"4105\",\"type\":\"ColumnDataSource\"}},\"id\":\"4108\",\"type\":\"CDSView\"},{\"attributes\":{},\"id\":\"4381\",\"type\":\"BasicTickFormatter\"},{\"attributes\":{\"dimension\":1,\"ticker\":{\"id\":\"4086\",\"type\":\"BasicTicker\"}},\"id\":\"4089\",\"type\":\"Grid\"},{\"attributes\":{},\"id\":\"4091\",\"type\":\"WheelZoomTool\"},{\"attributes\":{\"fill_color\":{\"field\":\"label\",\"transform\":{\"id\":\"4106\",\"type\":\"CategoricalColorMapper\"}},\"line_color\":{\"field\":\"label\",\"transform\":{\"id\":\"4106\",\"type\":\"CategoricalColorMapper\"}},\"x\":{\"field\":\"x\"},\"y\":{\"field\":\"y\"}},\"id\":\"4152\",\"type\":\"Circle\"},{\"attributes\":{},\"id\":\"4078\",\"type\":\"LinearScale\"},{\"attributes\":{},\"id\":\"4090\",\"type\":\"PanTool\"},{\"attributes\":{\"ticker\":{\"id\":\"4081\",\"type\":\"BasicTicker\"}},\"id\":\"4084\",\"type\":\"Grid\"},{\"attributes\":{},\"id\":\"4383\",\"type\":\"BasicTickFormatter\"},{\"attributes\":{},\"id\":\"4086\",\"type\":\"BasicTicker\"},{\"attributes\":{\"label\":{\"value\":\"PJL\"},\"renderers\":[{\"id\":\"4196\",\"type\":\"GlyphRenderer\"}]},\"id\":\"4229\",\"type\":\"LegendItem\"},{\"attributes\":{\"filters\":[{\"id\":\"4113\",\"type\":\"GroupFilter\"}],\"source\":{\"id\":\"4105\",\"type\":\"ColumnDataSource\"}},\"id\":\"4114\",\"type\":\"CDSView\"},{\"attributes\":{\"label\":{\"value\":\"ITU\"},\"renderers\":[{\"id\":\"4166\",\"type\":\"GlyphRenderer\"}]},\"id\":\"4224\",\"type\":\"LegendItem\"},{\"attributes\":{\"label\":{\"value\":\"PUR\"},\"renderers\":[{\"id\":\"4202\",\"type\":\"GlyphRenderer\"}]},\"id\":\"4230\",\"type\":\"LegendItem\"},{\"attributes\":{\"fill_color\":{\"field\":\"label\",\"transform\":{\"id\":\"4106\",\"type\":\"CategoricalColorMapper\"}},\"line_color\":{\"field\":\"label\",\"transform\":{\"id\":\"4106\",\"type\":\"CategoricalColorMapper\"}},\"x\":{\"field\":\"x\"},\"y\":{\"field\":\"y\"}},\"id\":\"4110\",\"type\":\"Circle\"},{\"attributes\":{\"label\":{\"value\":\"GWD\"},\"renderers\":[{\"id\":\"4154\",\"type\":\"GlyphRenderer\"}]},\"id\":\"4222\",\"type\":\"LegendItem\"},{\"attributes\":{\"column_name\":\"label\",\"group\":\"ASW\"},\"id\":\"4113\",\"type\":\"GroupFilter\"},{\"attributes\":{\"factors\":[\"MXL\",\"CLM\",\"YRI\",\"BEB\",\"CEU\",\"ESN\",\"MSL\",\"GWD\",\"PJL\",\"PEL\",\"ITU\",\"KHV\",\"ASW\",\"ACB\",\"CHS\",\"STU\",\"IBS\",\"PUR\"],\"palette\":[\"#1f77b4\",\"#aec7e8\",\"#ff7f0e\",\"#ffbb78\",\"#2ca02c\",\"#98df8a\",\"#d62728\",\"#ff9896\",\"#9467bd\",\"#c5b0d5\",\"#8c564b\",\"#c49c94\",\"#e377c2\",\"#f7b6d2\",\"#7f7f7f\",\"#c7c7c7\",\"#bcbd22\",\"#dbdb8d\"]},\"id\":\"4106\",\"type\":\"CategoricalColorMapper\"},{\"attributes\":{\"data_source\":{\"id\":\"4105\",\"type\":\"ColumnDataSource\"},\"glyph\":{\"id\":\"4152\",\"type\":\"Circle\"},\"hover_glyph\":null,\"muted_glyph\":null,\"nonselection_glyph\":{\"id\":\"4153\",\"type\":\"Circle\"},\"selection_glyph\":null,\"view\":{\"id\":\"4150\",\"type\":\"CDSView\"}},\"id\":\"4154\",\"type\":\"GlyphRenderer\"},{\"attributes\":{\"data_source\":{\"id\":\"4105\",\"type\":\"ColumnDataSource\"},\"glyph\":{\"id\":\"4110\",\"type\":\"Circle\"},\"hover_glyph\":null,\"muted_glyph\":null,\"nonselection_glyph\":{\"id\":\"4111\",\"type\":\"Circle\"},\"selection_glyph\":null,\"view\":{\"id\":\"4108\",\"type\":\"CDSView\"}},\"id\":\"4112\",\"type\":\"GlyphRenderer\"},{\"attributes\":{},\"id\":\"4384\",\"type\":\"BasicTicker\"},{\"attributes\":{\"fill_alpha\":{\"value\":0.1},\"fill_color\":{\"value\":\"#1f77b4\"},\"line_alpha\":{\"value\":0.1},\"line_color\":{\"value\":\"#1f77b4\"},\"x\":{\"field\":\"x\"},\"y\":{\"field\":\"y\"}},\"id\":\"4153\",\"type\":\"Circle\"},{\"attributes\":{\"fill_alpha\":{\"value\":0.1},\"fill_color\":{\"value\":\"#1f77b4\"},\"line_alpha\":{\"value\":0.1},\"line_color\":{\"value\":\"#1f77b4\"},\"x\":{\"field\":\"x\"},\"y\":{\"field\":\"y\"}},\"id\":\"4111\",\"type\":\"Circle\"},{\"attributes\":{\"fill_color\":{\"field\":\"label\",\"transform\":{\"id\":\"4106\",\"type\":\"CategoricalColorMapper\"}},\"line_color\":{\"field\":\"label\",\"transform\":{\"id\":\"4106\",\"type\":\"CategoricalColorMapper\"}},\"x\":{\"field\":\"x\"},\"y\":{\"field\":\"y\"}},\"id\":\"4116\",\"type\":\"Circle\"},{\"attributes\":{\"label\":{\"value\":\"ESN\"},\"renderers\":[{\"id\":\"4148\",\"type\":\"GlyphRenderer\"}]},\"id\":\"4221\",\"type\":\"LegendItem\"},{\"attributes\":{\"label\":{\"value\":\"STU\"},\"renderers\":[{\"id\":\"4208\",\"type\":\"GlyphRenderer\"}]},\"id\":\"4231\",\"type\":\"LegendItem\"},{\"attributes\":{},\"id\":\"4385\",\"type\":\"BasicTickFormatter\"},{\"attributes\":{\"label\":{\"value\":\"KHV\"},\"renderers\":[{\"id\":\"4172\",\"type\":\"GlyphRenderer\"}]},\"id\":\"4225\",\"type\":\"LegendItem\"},{\"attributes\":{\"label\":{\"value\":\"PEL\"},\"renderers\":[{\"id\":\"4190\",\"type\":\"GlyphRenderer\"}]},\"id\":\"4228\",\"type\":\"LegendItem\"},{\"attributes\":{\"color_mapper\":null,\"formatter\":{\"id\":\"4385\",\"type\":\"BasicTickFormatter\"},\"ticker\":{\"id\":\"4384\",\"type\":\"BasicTicker\"},\"visible\":false},\"id\":\"4234\",\"type\":\"ColorBar\"},{\"attributes\":{\"label\":{\"value\":\"MXL\"},\"renderers\":[{\"id\":\"4184\",\"type\":\"GlyphRenderer\"}]},\"id\":\"4227\",\"type\":\"LegendItem\"},{\"attributes\":{\"text\":\"PCA\"},\"id\":\"4070\",\"type\":\"Title\"},{\"attributes\":{\"label\":{\"value\":\"IBS\"},\"renderers\":[{\"id\":\"4160\",\"type\":\"GlyphRenderer\"}]},\"id\":\"4223\",\"type\":\"LegendItem\"},{\"attributes\":{\"label\":{\"value\":\"CEU\"},\"renderers\":[{\"id\":\"4130\",\"type\":\"GlyphRenderer\"}]},\"id\":\"4218\",\"type\":\"LegendItem\"},{\"attributes\":{\"label\":{\"value\":\"BEB\"},\"renderers\":[{\"id\":\"4124\",\"type\":\"GlyphRenderer\"}]},\"id\":\"4217\",\"type\":\"LegendItem\"},{\"attributes\":{\"data_source\":{\"id\":\"4105\",\"type\":\"ColumnDataSource\"},\"glyph\":{\"id\":\"4182\",\"type\":\"Circle\"},\"hover_glyph\":null,\"muted_glyph\":null,\"nonselection_glyph\":{\"id\":\"4183\",\"type\":\"Circle\"},\"selection_glyph\":null,\"view\":{\"id\":\"4180\",\"type\":\"CDSView\"}},\"id\":\"4184\",\"type\":\"GlyphRenderer\"},{\"attributes\":{\"label\":{\"value\":\"CHS\"},\"renderers\":[{\"id\":\"4136\",\"type\":\"GlyphRenderer\"}]},\"id\":\"4219\",\"type\":\"LegendItem\"},{\"attributes\":{\"column_name\":\"label\",\"group\":\"PEL\"},\"id\":\"4185\",\"type\":\"GroupFilter\"},{\"attributes\":{\"fill_alpha\":{\"value\":0.1},\"fill_color\":{\"value\":\"#1f77b4\"},\"line_alpha\":{\"value\":0.1},\"line_color\":{\"value\":\"#1f77b4\"},\"x\":{\"field\":\"x\"},\"y\":{\"field\":\"y\"}},\"id\":\"4183\",\"type\":\"Circle\"},{\"attributes\":{\"data_source\":{\"id\":\"4105\",\"type\":\"ColumnDataSource\"},\"glyph\":{\"id\":\"4188\",\"type\":\"Circle\"},\"hover_glyph\":null,\"muted_glyph\":null,\"nonselection_glyph\":{\"id\":\"4189\",\"type\":\"Circle\"},\"selection_glyph\":null,\"view\":{\"id\":\"4186\",\"type\":\"CDSView\"}},\"id\":\"4190\",\"type\":\"GlyphRenderer\"},{\"attributes\":{\"label\":{\"value\":\"CLM\"},\"renderers\":[{\"id\":\"4142\",\"type\":\"GlyphRenderer\"}]},\"id\":\"4220\",\"type\":\"LegendItem\"},{\"attributes\":{\"fill_color\":{\"field\":\"label\",\"transform\":{\"id\":\"4106\",\"type\":\"CategoricalColorMapper\"}},\"line_color\":{\"field\":\"label\",\"transform\":{\"id\":\"4106\",\"type\":\"CategoricalColorMapper\"}},\"x\":{\"field\":\"x\"},\"y\":{\"field\":\"y\"}},\"id\":\"4188\",\"type\":\"Circle\"},{\"attributes\":{\"label\":{\"value\":\"ACB\"},\"renderers\":[{\"id\":\"4112\",\"type\":\"GlyphRenderer\"}]},\"id\":\"4215\",\"type\":\"LegendItem\"},{\"attributes\":{\"filters\":[{\"id\":\"4185\",\"type\":\"GroupFilter\"}],\"source\":{\"id\":\"4105\",\"type\":\"ColumnDataSource\"}},\"id\":\"4186\",\"type\":\"CDSView\"},{\"attributes\":{\"label\":{\"value\":\"ASW\"},\"renderers\":[{\"id\":\"4118\",\"type\":\"GlyphRenderer\"}]},\"id\":\"4216\",\"type\":\"LegendItem\"},{\"attributes\":{\"filters\":[{\"id\":\"4161\",\"type\":\"GroupFilter\"}],\"source\":{\"id\":\"4105\",\"type\":\"ColumnDataSource\"}},\"id\":\"4162\",\"type\":\"CDSView\"},{\"attributes\":{\"column_name\":\"label\",\"group\":\"PJL\"},\"id\":\"4191\",\"type\":\"GroupFilter\"},{\"attributes\":{\"data_source\":{\"id\":\"4105\",\"type\":\"ColumnDataSource\"},\"glyph\":{\"id\":\"4116\",\"type\":\"Circle\"},\"hover_glyph\":null,\"muted_glyph\":null,\"nonselection_glyph\":{\"id\":\"4117\",\"type\":\"Circle\"},\"selection_glyph\":null,\"view\":{\"id\":\"4114\",\"type\":\"CDSView\"}},\"id\":\"4118\",\"type\":\"GlyphRenderer\"},{\"attributes\":{\"fill_alpha\":{\"value\":0.1},\"fill_color\":{\"value\":\"#1f77b4\"},\"line_alpha\":{\"value\":0.1},\"line_color\":{\"value\":\"#1f77b4\"},\"x\":{\"field\":\"x\"},\"y\":{\"field\":\"y\"}},\"id\":\"4189\",\"type\":\"Circle\"},{\"attributes\":{\"data_source\":{\"id\":\"4105\",\"type\":\"ColumnDataSource\"},\"glyph\":{\"id\":\"4194\",\"type\":\"Circle\"},\"hover_glyph\":null,\"muted_glyph\":null,\"nonselection_glyph\":{\"id\":\"4195\",\"type\":\"Circle\"},\"selection_glyph\":null,\"view\":{\"id\":\"4192\",\"type\":\"CDSView\"}},\"id\":\"4196\",\"type\":\"GlyphRenderer\"},{\"attributes\":{\"column_name\":\"label\",\"group\":\"BEB\"},\"id\":\"4119\",\"type\":\"GroupFilter\"},{\"attributes\":{\"fill_alpha\":{\"value\":0.1},\"fill_color\":{\"value\":\"#1f77b4\"},\"line_alpha\":{\"value\":0.1},\"line_color\":{\"value\":\"#1f77b4\"},\"x\":{\"field\":\"x\"},\"y\":{\"field\":\"y\"}},\"id\":\"4117\",\"type\":\"Circle\"},{\"attributes\":{\"fill_color\":{\"field\":\"label\",\"transform\":{\"id\":\"4106\",\"type\":\"CategoricalColorMapper\"}},\"line_color\":{\"field\":\"label\",\"transform\":{\"id\":\"4106\",\"type\":\"CategoricalColorMapper\"}},\"x\":{\"field\":\"x\"},\"y\":{\"field\":\"y\"}},\"id\":\"4194\",\"type\":\"Circle\"},{\"attributes\":{\"data_source\":{\"id\":\"4105\",\"type\":\"ColumnDataSource\"},\"glyph\":{\"id\":\"4122\",\"type\":\"Circle\"},\"hover_glyph\":null,\"muted_glyph\":null,\"nonselection_glyph\":{\"id\":\"4123\",\"type\":\"Circle\"},\"selection_glyph\":null,\"view\":{\"id\":\"4120\",\"type\":\"CDSView\"}},\"id\":\"4124\",\"type\":\"GlyphRenderer\"},{\"attributes\":{\"fill_color\":{\"field\":\"label\",\"transform\":{\"id\":\"4106\",\"type\":\"CategoricalColorMapper\"}},\"line_color\":{\"field\":\"label\",\"transform\":{\"id\":\"4106\",\"type\":\"CategoricalColorMapper\"}},\"x\":{\"field\":\"x\"},\"y\":{\"field\":\"y\"}},\"id\":\"4122\",\"type\":\"Circle\"},{\"attributes\":{\"filters\":[{\"id\":\"4191\",\"type\":\"GroupFilter\"}],\"source\":{\"id\":\"4105\",\"type\":\"ColumnDataSource\"}},\"id\":\"4192\",\"type\":\"CDSView\"},{\"attributes\":{\"filters\":[{\"id\":\"4119\",\"type\":\"GroupFilter\"}],\"source\":{\"id\":\"4105\",\"type\":\"ColumnDataSource\"}},\"id\":\"4120\",\"type\":\"CDSView\"},{\"attributes\":{\"fill_color\":{\"field\":\"label\",\"transform\":{\"id\":\"4106\",\"type\":\"CategoricalColorMapper\"}},\"line_color\":{\"field\":\"label\",\"transform\":{\"id\":\"4106\",\"type\":\"CategoricalColorMapper\"}},\"x\":{\"field\":\"x\"},\"y\":{\"field\":\"y\"}},\"id\":\"4164\",\"type\":\"Circle\"},{\"attributes\":{\"column_name\":\"label\",\"group\":\"PUR\"},\"id\":\"4197\",\"type\":\"GroupFilter\"},{\"attributes\":{\"fill_alpha\":{\"value\":0.1},\"fill_color\":{\"value\":\"#1f77b4\"},\"line_alpha\":{\"value\":0.1},\"line_color\":{\"value\":\"#1f77b4\"},\"x\":{\"field\":\"x\"},\"y\":{\"field\":\"y\"}},\"id\":\"4195\",\"type\":\"Circle\"},{\"attributes\":{\"data_source\":{\"id\":\"4105\",\"type\":\"ColumnDataSource\"},\"glyph\":{\"id\":\"4200\",\"type\":\"Circle\"},\"hover_glyph\":null,\"muted_glyph\":null,\"nonselection_glyph\":{\"id\":\"4201\",\"type\":\"Circle\"},\"selection_glyph\":null,\"view\":{\"id\":\"4198\",\"type\":\"CDSView\"}},\"id\":\"4202\",\"type\":\"GlyphRenderer\"},{\"attributes\":{\"column_name\":\"label\",\"group\":\"CEU\"},\"id\":\"4125\",\"type\":\"GroupFilter\"},{\"attributes\":{\"fill_alpha\":{\"value\":0.1},\"fill_color\":{\"value\":\"#1f77b4\"},\"line_alpha\":{\"value\":0.1},\"line_color\":{\"value\":\"#1f77b4\"},\"x\":{\"field\":\"x\"},\"y\":{\"field\":\"y\"}},\"id\":\"4123\",\"type\":\"Circle\"},{\"attributes\":{\"fill_color\":{\"field\":\"label\",\"transform\":{\"id\":\"4106\",\"type\":\"CategoricalColorMapper\"}},\"line_color\":{\"field\":\"label\",\"transform\":{\"id\":\"4106\",\"type\":\"CategoricalColorMapper\"}},\"x\":{\"field\":\"x\"},\"y\":{\"field\":\"y\"}},\"id\":\"4200\",\"type\":\"Circle\"},{\"attributes\":{\"data_source\":{\"id\":\"4105\",\"type\":\"ColumnDataSource\"},\"glyph\":{\"id\":\"4128\",\"type\":\"Circle\"},\"hover_glyph\":null,\"muted_glyph\":null,\"nonselection_glyph\":{\"id\":\"4129\",\"type\":\"Circle\"},\"selection_glyph\":null,\"view\":{\"id\":\"4126\",\"type\":\"CDSView\"}},\"id\":\"4130\",\"type\":\"GlyphRenderer\"},{\"attributes\":{\"fill_color\":{\"field\":\"label\",\"transform\":{\"id\":\"4106\",\"type\":\"CategoricalColorMapper\"}},\"line_color\":{\"field\":\"label\",\"transform\":{\"id\":\"4106\",\"type\":\"CategoricalColorMapper\"}},\"x\":{\"field\":\"x\"},\"y\":{\"field\":\"y\"}},\"id\":\"4128\",\"type\":\"Circle\"},{\"attributes\":{\"filters\":[{\"id\":\"4197\",\"type\":\"GroupFilter\"}],\"source\":{\"id\":\"4105\",\"type\":\"ColumnDataSource\"}},\"id\":\"4198\",\"type\":\"CDSView\"},{\"attributes\":{\"filters\":[{\"id\":\"4125\",\"type\":\"GroupFilter\"}],\"source\":{\"id\":\"4105\",\"type\":\"ColumnDataSource\"}},\"id\":\"4126\",\"type\":\"CDSView\"},{\"attributes\":{\"fill_alpha\":{\"value\":0.1},\"fill_color\":{\"value\":\"#1f77b4\"},\"line_alpha\":{\"value\":0.1},\"line_color\":{\"value\":\"#1f77b4\"},\"x\":{\"field\":\"x\"},\"y\":{\"field\":\"y\"}},\"id\":\"4159\",\"type\":\"Circle\"},{\"attributes\":{\"column_name\":\"label\",\"group\":\"STU\"},\"id\":\"4203\",\"type\":\"GroupFilter\"},{\"attributes\":{\"data_source\":{\"id\":\"4105\",\"type\":\"ColumnDataSource\"},\"glyph\":{\"id\":\"4164\",\"type\":\"Circle\"},\"hover_glyph\":null,\"muted_glyph\":null,\"nonselection_glyph\":{\"id\":\"4165\",\"type\":\"Circle\"},\"selection_glyph\":null,\"view\":{\"id\":\"4162\",\"type\":\"CDSView\"}},\"id\":\"4166\",\"type\":\"GlyphRenderer\"},{\"attributes\":{\"fill_alpha\":{\"value\":0.1},\"fill_color\":{\"value\":\"#1f77b4\"},\"line_alpha\":{\"value\":0.1},\"line_color\":{\"value\":\"#1f77b4\"},\"x\":{\"field\":\"x\"},\"y\":{\"field\":\"y\"}},\"id\":\"4201\",\"type\":\"Circle\"},{\"attributes\":{\"data_source\":{\"id\":\"4105\",\"type\":\"ColumnDataSource\"},\"glyph\":{\"id\":\"4206\",\"type\":\"Circle\"},\"hover_glyph\":null,\"muted_glyph\":null,\"nonselection_glyph\":{\"id\":\"4207\",\"type\":\"Circle\"},\"selection_glyph\":null,\"view\":{\"id\":\"4204\",\"type\":\"CDSView\"}},\"id\":\"4208\",\"type\":\"GlyphRenderer\"},{\"attributes\":{\"column_name\":\"label\",\"group\":\"CHS\"},\"id\":\"4131\",\"type\":\"GroupFilter\"},{\"attributes\":{\"fill_alpha\":{\"value\":0.1},\"fill_color\":{\"value\":\"#1f77b4\"},\"line_alpha\":{\"value\":0.1},\"line_color\":{\"value\":\"#1f77b4\"},\"x\":{\"field\":\"x\"},\"y\":{\"field\":\"y\"}},\"id\":\"4129\",\"type\":\"Circle\"},{\"attributes\":{\"fill_color\":{\"field\":\"label\",\"transform\":{\"id\":\"4106\",\"type\":\"CategoricalColorMapper\"}},\"line_color\":{\"field\":\"label\",\"transform\":{\"id\":\"4106\",\"type\":\"CategoricalColorMapper\"}},\"x\":{\"field\":\"x\"},\"y\":{\"field\":\"y\"}},\"id\":\"4206\",\"type\":\"Circle\"},{\"attributes\":{\"data_source\":{\"id\":\"4105\",\"type\":\"ColumnDataSource\"},\"glyph\":{\"id\":\"4134\",\"type\":\"Circle\"},\"hover_glyph\":null,\"muted_glyph\":null,\"nonselection_glyph\":{\"id\":\"4135\",\"type\":\"Circle\"},\"selection_glyph\":null,\"view\":{\"id\":\"4132\",\"type\":\"CDSView\"}},\"id\":\"4136\",\"type\":\"GlyphRenderer\"},{\"attributes\":{\"fill_color\":{\"field\":\"label\",\"transform\":{\"id\":\"4106\",\"type\":\"CategoricalColorMapper\"}},\"line_color\":{\"field\":\"label\",\"transform\":{\"id\":\"4106\",\"type\":\"CategoricalColorMapper\"}},\"x\":{\"field\":\"x\"},\"y\":{\"field\":\"y\"}},\"id\":\"4134\",\"type\":\"Circle\"},{\"attributes\":{\"filters\":[{\"id\":\"4203\",\"type\":\"GroupFilter\"}],\"source\":{\"id\":\"4105\",\"type\":\"ColumnDataSource\"}},\"id\":\"4204\",\"type\":\"CDSView\"},{\"attributes\":{\"filters\":[{\"id\":\"4131\",\"type\":\"GroupFilter\"}],\"source\":{\"id\":\"4105\",\"type\":\"ColumnDataSource\"}},\"id\":\"4132\",\"type\":\"CDSView\"},{\"attributes\":{\"column_name\":\"label\",\"group\":\"YRI\"},\"id\":\"4209\",\"type\":\"GroupFilter\"},{\"attributes\":{\"fill_alpha\":{\"value\":0.1},\"fill_color\":{\"value\":\"#1f77b4\"},\"line_alpha\":{\"value\":0.1},\"line_color\":{\"value\":\"#1f77b4\"},\"x\":{\"field\":\"x\"},\"y\":{\"field\":\"y\"}},\"id\":\"4207\",\"type\":\"Circle\"},{\"attributes\":{\"column_name\":\"label\",\"group\":\"ITU\"},\"id\":\"4161\",\"type\":\"GroupFilter\"},{\"attributes\":{\"data_source\":{\"id\":\"4105\",\"type\":\"ColumnDataSource\"},\"glyph\":{\"id\":\"4212\",\"type\":\"Circle\"},\"hover_glyph\":null,\"muted_glyph\":null,\"nonselection_glyph\":{\"id\":\"4213\",\"type\":\"Circle\"},\"selection_glyph\":null,\"view\":{\"id\":\"4210\",\"type\":\"CDSView\"}},\"id\":\"4214\",\"type\":\"GlyphRenderer\"},{\"attributes\":{\"column_name\":\"label\",\"group\":\"CLM\"},\"id\":\"4137\",\"type\":\"GroupFilter\"},{\"attributes\":{\"fill_alpha\":{\"value\":0.1},\"fill_color\":{\"value\":\"#1f77b4\"},\"line_alpha\":{\"value\":0.1},\"line_color\":{\"value\":\"#1f77b4\"},\"x\":{\"field\":\"x\"},\"y\":{\"field\":\"y\"}},\"id\":\"4135\",\"type\":\"Circle\"},{\"attributes\":{\"fill_color\":{\"field\":\"label\",\"transform\":{\"id\":\"4106\",\"type\":\"CategoricalColorMapper\"}},\"line_color\":{\"field\":\"label\",\"transform\":{\"id\":\"4106\",\"type\":\"CategoricalColorMapper\"}},\"x\":{\"field\":\"x\"},\"y\":{\"field\":\"y\"}},\"id\":\"4212\",\"type\":\"Circle\"},{\"attributes\":{\"data_source\":{\"id\":\"4105\",\"type\":\"ColumnDataSource\"},\"glyph\":{\"id\":\"4140\",\"type\":\"Circle\"},\"hover_glyph\":null,\"muted_glyph\":null,\"nonselection_glyph\":{\"id\":\"4141\",\"type\":\"Circle\"},\"selection_glyph\":null,\"view\":{\"id\":\"4138\",\"type\":\"CDSView\"}},\"id\":\"4142\",\"type\":\"GlyphRenderer\"},{\"attributes\":{\"fill_color\":{\"field\":\"label\",\"transform\":{\"id\":\"4106\",\"type\":\"CategoricalColorMapper\"}},\"line_color\":{\"field\":\"label\",\"transform\":{\"id\":\"4106\",\"type\":\"CategoricalColorMapper\"}},\"x\":{\"field\":\"x\"},\"y\":{\"field\":\"y\"}},\"id\":\"4140\",\"type\":\"Circle\"},{\"attributes\":{\"filters\":[{\"id\":\"4209\",\"type\":\"GroupFilter\"}],\"source\":{\"id\":\"4105\",\"type\":\"ColumnDataSource\"}},\"id\":\"4210\",\"type\":\"CDSView\"},{\"attributes\":{\"filters\":[{\"id\":\"4137\",\"type\":\"GroupFilter\"}],\"source\":{\"id\":\"4105\",\"type\":\"ColumnDataSource\"}},\"id\":\"4138\",\"type\":\"CDSView\"},{\"attributes\":{\"filters\":[{\"id\":\"4155\",\"type\":\"GroupFilter\"}],\"source\":{\"id\":\"4105\",\"type\":\"ColumnDataSource\"}},\"id\":\"4156\",\"type\":\"CDSView\"},{\"attributes\":{\"fill_alpha\":{\"value\":0.1},\"fill_color\":{\"value\":\"#1f77b4\"},\"line_alpha\":{\"value\":0.1},\"line_color\":{\"value\":\"#1f77b4\"},\"x\":{\"field\":\"x\"},\"y\":{\"field\":\"y\"}},\"id\":\"4213\",\"type\":\"Circle\"},{\"attributes\":{\"fill_alpha\":{\"value\":0.1},\"fill_color\":{\"value\":\"#1f77b4\"},\"line_alpha\":{\"value\":0.1},\"line_color\":{\"value\":\"#1f77b4\"},\"x\":{\"field\":\"x\"},\"y\":{\"field\":\"y\"}},\"id\":\"4141\",\"type\":\"Circle\"},{\"attributes\":{\"fill_color\":{\"field\":\"label\",\"transform\":{\"id\":\"4106\",\"type\":\"CategoricalColorMapper\"}},\"line_color\":{\"field\":\"label\",\"transform\":{\"id\":\"4106\",\"type\":\"CategoricalColorMapper\"}},\"x\":{\"field\":\"x\"},\"y\":{\"field\":\"y\"}},\"id\":\"4146\",\"type\":\"Circle\"},{\"attributes\":{\"column_name\":\"label\",\"group\":\"ESN\"},\"id\":\"4143\",\"type\":\"GroupFilter\"},{\"attributes\":{\"click_policy\":\"hide\",\"items\":[{\"id\":\"4215\",\"type\":\"LegendItem\"},{\"id\":\"4216\",\"type\":\"LegendItem\"},{\"id\":\"4217\",\"type\":\"LegendItem\"},{\"id\":\"4218\",\"type\":\"LegendItem\"},{\"id\":\"4219\",\"type\":\"LegendItem\"},{\"id\":\"4220\",\"type\":\"LegendItem\"},{\"id\":\"4221\",\"type\":\"LegendItem\"},{\"id\":\"4222\",\"type\":\"LegendItem\"},{\"id\":\"4223\",\"type\":\"LegendItem\"},{\"id\":\"4224\",\"type\":\"LegendItem\"},{\"id\":\"4225\",\"type\":\"LegendItem\"},{\"id\":\"4226\",\"type\":\"LegendItem\"},{\"id\":\"4227\",\"type\":\"LegendItem\"},{\"id\":\"4228\",\"type\":\"LegendItem\"},{\"id\":\"4229\",\"type\":\"LegendItem\"},{\"id\":\"4230\",\"type\":\"LegendItem\"},{\"id\":\"4231\",\"type\":\"LegendItem\"},{\"id\":\"4232\",\"type\":\"LegendItem\"}]},\"id\":\"4233\",\"type\":\"Legend\"},{\"attributes\":{\"filters\":[{\"id\":\"4143\",\"type\":\"GroupFilter\"}],\"source\":{\"id\":\"4105\",\"type\":\"ColumnDataSource\"}},\"id\":\"4144\",\"type\":\"CDSView\"},{\"attributes\":{\"data_source\":{\"id\":\"4105\",\"type\":\"ColumnDataSource\"},\"glyph\":{\"id\":\"4146\",\"type\":\"Circle\"},\"hover_glyph\":null,\"muted_glyph\":null,\"nonselection_glyph\":{\"id\":\"4147\",\"type\":\"Circle\"},\"selection_glyph\":null,\"view\":{\"id\":\"4144\",\"type\":\"CDSView\"}},\"id\":\"4148\",\"type\":\"GlyphRenderer\"},{\"attributes\":{\"column_name\":\"label\",\"group\":\"IBS\"},\"id\":\"4155\",\"type\":\"GroupFilter\"},{\"attributes\":{\"fill_alpha\":{\"value\":0.1},\"fill_color\":{\"value\":\"#1f77b4\"},\"line_alpha\":{\"value\":0.1},\"line_color\":{\"value\":\"#1f77b4\"},\"x\":{\"field\":\"x\"},\"y\":{\"field\":\"y\"}},\"id\":\"4147\",\"type\":\"Circle\"},{\"attributes\":{\"fill_color\":{\"field\":\"label\",\"transform\":{\"id\":\"4106\",\"type\":\"CategoricalColorMapper\"}},\"line_color\":{\"field\":\"label\",\"transform\":{\"id\":\"4106\",\"type\":\"CategoricalColorMapper\"}},\"x\":{\"field\":\"x\"},\"y\":{\"field\":\"y\"}},\"id\":\"4158\",\"type\":\"Circle\"},{\"attributes\":{\"column_name\":\"label\",\"group\":\"GWD\"},\"id\":\"4149\",\"type\":\"GroupFilter\"},{\"attributes\":{\"filters\":[{\"id\":\"4149\",\"type\":\"GroupFilter\"}],\"source\":{\"id\":\"4105\",\"type\":\"ColumnDataSource\"}},\"id\":\"4150\",\"type\":\"CDSView\"},{\"attributes\":{},\"id\":\"4387\",\"type\":\"UnionRenderers\"},{\"attributes\":{\"data_source\":{\"id\":\"4105\",\"type\":\"ColumnDataSource\"},\"glyph\":{\"id\":\"4158\",\"type\":\"Circle\"},\"hover_glyph\":null,\"muted_glyph\":null,\"nonselection_glyph\":{\"id\":\"4159\",\"type\":\"Circle\"},\"selection_glyph\":null,\"view\":{\"id\":\"4156\",\"type\":\"CDSView\"}},\"id\":\"4160\",\"type\":\"GlyphRenderer\"},{\"attributes\":{},\"id\":\"4388\",\"type\":\"Selection\"},{\"attributes\":{\"column_name\":\"label\",\"group\":\"KHV\"},\"id\":\"4167\",\"type\":\"GroupFilter\"},{\"attributes\":{\"fill_alpha\":{\"value\":0.1},\"fill_color\":{\"value\":\"#1f77b4\"},\"line_alpha\":{\"value\":0.1},\"line_color\":{\"value\":\"#1f77b4\"},\"x\":{\"field\":\"x\"},\"y\":{\"field\":\"y\"}},\"id\":\"4165\",\"type\":\"Circle\"},{\"attributes\":{\"data_source\":{\"id\":\"4105\",\"type\":\"ColumnDataSource\"},\"glyph\":{\"id\":\"4170\",\"type\":\"Circle\"},\"hover_glyph\":null,\"muted_glyph\":null,\"nonselection_glyph\":{\"id\":\"4171\",\"type\":\"Circle\"},\"selection_glyph\":null,\"view\":{\"id\":\"4168\",\"type\":\"CDSView\"}},\"id\":\"4172\",\"type\":\"GlyphRenderer\"},{\"attributes\":{\"fill_color\":{\"field\":\"label\",\"transform\":{\"id\":\"4106\",\"type\":\"CategoricalColorMapper\"}},\"line_color\":{\"field\":\"label\",\"transform\":{\"id\":\"4106\",\"type\":\"CategoricalColorMapper\"}},\"x\":{\"field\":\"x\"},\"y\":{\"field\":\"y\"}},\"id\":\"4170\",\"type\":\"Circle\"},{\"attributes\":{\"filters\":[{\"id\":\"4167\",\"type\":\"GroupFilter\"}],\"source\":{\"id\":\"4105\",\"type\":\"ColumnDataSource\"}},\"id\":\"4168\",\"type\":\"CDSView\"},{\"attributes\":{\"column_name\":\"label\",\"group\":\"MSL\"},\"id\":\"4173\",\"type\":\"GroupFilter\"},{\"attributes\":{\"fill_alpha\":{\"value\":0.1},\"fill_color\":{\"value\":\"#1f77b4\"},\"line_alpha\":{\"value\":0.1},\"line_color\":{\"value\":\"#1f77b4\"},\"x\":{\"field\":\"x\"},\"y\":{\"field\":\"y\"}},\"id\":\"4171\",\"type\":\"Circle\"},{\"attributes\":{\"data_source\":{\"id\":\"4105\",\"type\":\"ColumnDataSource\"},\"glyph\":{\"id\":\"4176\",\"type\":\"Circle\"},\"hover_glyph\":null,\"muted_glyph\":null,\"nonselection_glyph\":{\"id\":\"4177\",\"type\":\"Circle\"},\"selection_glyph\":null,\"view\":{\"id\":\"4174\",\"type\":\"CDSView\"}},\"id\":\"4178\",\"type\":\"GlyphRenderer\"},{\"attributes\":{\"fill_color\":{\"field\":\"label\",\"transform\":{\"id\":\"4106\",\"type\":\"CategoricalColorMapper\"}},\"line_color\":{\"field\":\"label\",\"transform\":{\"id\":\"4106\",\"type\":\"CategoricalColorMapper\"}},\"x\":{\"field\":\"x\"},\"y\":{\"field\":\"y\"}},\"id\":\"4176\",\"type\":\"Circle\"},{\"attributes\":{\"filters\":[{\"id\":\"4173\",\"type\":\"GroupFilter\"}],\"source\":{\"id\":\"4105\",\"type\":\"ColumnDataSource\"}},\"id\":\"4174\",\"type\":\"CDSView\"},{\"attributes\":{\"filters\":[{\"id\":\"4179\",\"type\":\"GroupFilter\"}],\"source\":{\"id\":\"4105\",\"type\":\"ColumnDataSource\"}},\"id\":\"4180\",\"type\":\"CDSView\"},{\"attributes\":{\"bottom_units\":\"screen\",\"fill_alpha\":{\"value\":0.5},\"fill_color\":{\"value\":\"lightgrey\"},\"left_units\":\"screen\",\"level\":\"overlay\",\"line_alpha\":{\"value\":1.0},\"line_color\":{\"value\":\"black\"},\"line_dash\":[4,4],\"line_width\":{\"value\":2},\"render_mode\":\"css\",\"right_units\":\"screen\",\"top_units\":\"screen\"},\"id\":\"4386\",\"type\":\"BoxAnnotation\"},{\"attributes\":{\"column_name\":\"label\",\"group\":\"MXL\"},\"id\":\"4179\",\"type\":\"GroupFilter\"},{\"attributes\":{\"fill_alpha\":{\"value\":0.1},\"fill_color\":{\"value\":\"#1f77b4\"},\"line_alpha\":{\"value\":0.1},\"line_color\":{\"value\":\"#1f77b4\"},\"x\":{\"field\":\"x\"},\"y\":{\"field\":\"y\"}},\"id\":\"4177\",\"type\":\"Circle\"},{\"attributes\":{\"fill_color\":{\"field\":\"label\",\"transform\":{\"id\":\"4106\",\"type\":\"CategoricalColorMapper\"}},\"line_color\":{\"field\":\"label\",\"transform\":{\"id\":\"4106\",\"type\":\"CategoricalColorMapper\"}},\"x\":{\"field\":\"x\"},\"y\":{\"field\":\"y\"}},\"id\":\"4182\",\"type\":\"Circle\"}],\"root_ids\":[\"4069\"]},\"title\":\"Bokeh Application\",\"version\":\"1.4.0\"}};\n",
       "  var render_items = [{\"docid\":\"51e29032-4fed-4c63-b274-62a2f59b6037\",\"roots\":{\"4069\":\"9fe8d945-8017-4f1f-90be-58fc202e1778\"}}];\n",
       "  root.Bokeh.embed.embed_items_notebook(docs_json, render_items);\n",
       "\n",
       "  }\n",
       "  if (root.Bokeh !== undefined) {\n",
       "    embed_document(root);\n",
       "  } else {\n",
       "    var attempts = 0;\n",
       "    var timer = setInterval(function(root) {\n",
       "      if (root.Bokeh !== undefined) {\n",
       "        clearInterval(timer);\n",
       "        embed_document(root);\n",
       "      } else {\n",
       "        attempts++;\n",
       "        if (attempts > 100) {\n",
       "          clearInterval(timer);\n",
       "          console.log(\"Bokeh: ERROR: Unable to run BokehJS code because BokehJS library is missing\");\n",
       "        }\n",
       "      }\n",
       "    }, 10, root)\n",
       "  }\n",
       "})(window);"
      ],
      "application/vnd.bokehjs_exec.v0+json": ""
     },
     "metadata": {
      "application/vnd.bokehjs_exec.v0+json": {
       "id": "4069"
      }
     },
     "output_type": "display_data"
    }
   ],
   "source": [
    "p = hl.plot.scatter(mt.scores[0],\n",
    "                    mt.scores[1],\n",
    "                    label=mt.population,\n",
    "                    title='PCA', xlabel='PC1', ylabel='PC2')\n",
    "show(p)"
   ]
  },
  {
   "cell_type": "markdown",
   "id": "f07369e9-d44b-4e72-8bf5-1182dcf45f98",
   "metadata": {},
   "source": [
    "## Variant Annotation 와 Classification 하기\n",
    "\n",
    "VCF 데이터는 유전변이 정보를 담고 있지만, 각 유전변이가 어떠한 유전자/단백질을 변화시키는지, 기능적으로 의미가 있을지 등등에 대한 정보를 제공하지 않습니다. 그래서 유전변이의 위치와 서열에 따라 위 정보들을 추가하는 과정이 필요합니다. 우리는 이 과정을 variant annotation이라 부릅니다. 우리말로 굳이 번역을 하면 '주석화'라고 하는데, 의미가 직접적으로 전달되진 않습니다. \n",
    "\n",
    "Variant annotation은 유전변이 분석에서 매우 중요한 부분을 차지합니다. 변이의 기능성을 판별하는 과정이면서 동시에 annotation에 사용되는 다양한 방법과 참조 유전체 데이터 및 리소스에 따라 결과가 조금씩 다르게 나옵니다. 그래서 어떠한 방법으로 annotation을 했는지 기준을 세우고 정확히 명시할 필요가 있습니다. \n",
    "\n",
    "우리는 튜토리얼에서 Ensembl Variant Effect Predictor(VEP)를 이용한 variant annotation을 하려고 합니다. Hail에서는 matrix table에 직접 VEP를 할 수 있게 아래와 같이 `vep()`라는 함수를 제공합니다. \n",
    "\n",
    "```\n",
    "mt_vep = hl.vep(mt, \"path/to/vep-configuration.json\")\n",
    "```\n",
    "\n",
    "VEP가 설치된 path와 annotation 파라미터를 json 파일로 저장하고, `vep()` 함수에 넣어주면 됩니다. 하지만 이렇게 hail 내에서 VEP annotation을 하려면 상당히 많은 리소스가 필요하기 때문에, 튜토리얼에서 진행하긴 어렵기 때문에, 제가 커맨드라인으로 미리 VEP를 했고, 처음 불러들인 VCF에 VEP annotation이 포함되어 있습니다. \n",
    "\n",
    "```\n",
    "# 터미널에서 VEP 구동하기\n",
    "./vep -i $in.vcf -o $out.vcf --vcf \\\n",
    "  --per_gene --pick --pick_order canonical,appris,tsl,biotype,ccds,rank,length --cache\n",
    "```\n",
    "\n",
    "우리는 이번 튜토리얼에선 이 데이터를 사용하지만, 보통은 hail 내의 `vep()` 함수를 사용하길 추천합니다. \n",
    "\n",
    "\n",
    "> 한가지 꼭 기억을 해야할 것은 variant annotation 방식은 전장유전체를 포함한 유전체 연구별로 상당히 상이합니다. 향후 분석 (특히 대규모 분석)에서 연구 재현성을 확보하기 위해선, variant annotation 코드와 scheme을 정확히 명시할 필요가 있습니다. 아마 많은 연구자들이 VEP 말고 ANNOVAR, SNPEFF 등을 많이 사용할겁니다. 이런 툴들도 상당히 좋습니다만, 요즘 이뤄지는 대규모 연구들은 VEP를 기반으로 annotation을 합니다. 각 툴은 고유의 annotation scheme이 있기 때문에 (예를들어, coding variant에서 어떤 순서로 consequence를 주는가? 등등), ANNOVAR의 결과와 VEP의 결과가 정확히 일치하지 않을수 있습니다. 이후 downstream 분석들 (연관성 분석 등등)에서 다른 결과를 줄수 있죠. 그래서 가능한 널리 통용되는 툴을 사용할 필요가 있고, 개인적인 추천은 VEP 입니다.\n",
    "\n",
    "\n",
    "    \n",
    "### VEP와 variant annotation\n",
    "\n",
    "VEP를 이용한 variant annotation은 다음과 같은 기능을 제공합니다. \n",
    "\n",
    "- 유전변이의 결과값(consequence): stop codon, nonsynonymous, UTR, upstream (promoter), intron, intergenic\n",
    "- 유전변이의 기능적 수치(functional score): SIFT, PolyPhen2, CADD 등등\n",
    "- 유전변이의 기능적 정보들: epigenome, transcriptome 데이터 등등\n",
    "\n",
    "다양한 기능적 정보들을 plugin을 통해 제공하고 유저는 자유롭게 추가할 수 있습니다.\n",
    "\n",
    "\n",
    "우리는 input VCF에 VEP를 미리 해두었기 때문에, 이에 대한 정보가 VCF header에 기록되어 있습니다. VEP는 consequence 정보를 `CSQ`라는 tag으로 기록하고, 정보들을 `|`으로 구분하여 제공합니다. 이 정보는 각 variant (row)에 동일한 순서로 제공합니다. \n",
    "\n",
    "이제 `get_vcf_metadata()` 함수를 이용하여, CSQ에 어떤 정보가 기록되었는지 확인해봅시다. "
   ]
  },
  {
   "cell_type": "code",
   "execution_count": 58,
   "id": "57b78546-bc62-465f-bf02-9479559a9f04",
   "metadata": {
    "ExecuteTime": {
     "end_time": "2022-01-17T11:07:04.018166Z",
     "start_time": "2022-01-17T11:07:03.987638Z"
    }
   },
   "outputs": [
    {
     "data": {
      "text/plain": [
       "'Consequence annotations from Ensembl VEP. Format: Allele|Consequence|IMPACT|SYMBOL|Gene|Feature_type|Feature|BIOTYPE|EXON|INTRON|HGVSc|HGVSp|cDNA_position|CDS_position|Protein_position|Amino_acids|Codons|Existing_variation|DISTANCE|STRAND|FLAGS|SYMBOL_SOURCE|HGNC_ID'"
      ]
     },
     "execution_count": 58,
     "metadata": {},
     "output_type": "execute_result"
    }
   ],
   "source": [
    "h = hl.get_vcf_metadata('inputs/out.test.chr22.vcf.bgz')\n",
    "h['info']['CSQ']['Description']"
   ]
  },
  {
   "cell_type": "markdown",
   "id": "8f11892e",
   "metadata": {},
   "source": [
    "위에서 확인한 바와 같이 정보들은 array의 형태로 제공이 됩니다. 우리는 이 정보를 matrix table에 `CSQ` 필드에 저장하여 이후 분석에 사용합니다. "
   ]
  },
  {
   "cell_type": "code",
   "execution_count": 59,
   "id": "de6b295f",
   "metadata": {
    "ExecuteTime": {
     "end_time": "2022-01-17T11:07:04.052466Z",
     "start_time": "2022-01-17T11:07:04.020215Z"
    }
   },
   "outputs": [
    {
     "name": "stdout",
     "output_type": "stream",
     "text": [
      "----------------------------------------\n",
      "Global fields:\n",
      "    None\n",
      "----------------------------------------\n",
      "Column fields:\n",
      "    's': str\n",
      "    'fam': str\n",
      "    'pat_id': str\n",
      "    'mat_id': str\n",
      "    'isFemale': bool\n",
      "    'phenotype': bool\n",
      "    'ROLE': str\n",
      "    'population': str\n",
      "    'height': float64\n",
      "    'NVIQ': float64\n",
      "    'scores': array<float64>\n",
      "----------------------------------------\n",
      "Row fields:\n",
      "    'locus': locus<GRCh38>\n",
      "    'alleles': array<str>\n",
      "    'rsid': str\n",
      "    'qual': float64\n",
      "    'filters': set<str>\n",
      "    'info': struct {\n",
      "        AC: array<int32>, \n",
      "        AF: array<float64>, \n",
      "        AN: int32, \n",
      "        BaseQRankSum: float64, \n",
      "        ClippingRankSum: float64, \n",
      "        DP: int32, \n",
      "        DS: bool, \n",
      "        END: int32, \n",
      "        FS: float64, \n",
      "        HaplotypeScore: float64, \n",
      "        InbreedingCoeff: float64, \n",
      "        MLEAC: array<int32>, \n",
      "        MLEAF: array<float64>, \n",
      "        MQ: float64, \n",
      "        MQ0: int32, \n",
      "        MQRankSum: float64, \n",
      "        NEGATIVE_TRAIN_SITE: bool, \n",
      "        POSITIVE_TRAIN_SITE: bool, \n",
      "        QD: float64, \n",
      "        RAW_MQ: float64, \n",
      "        ReadPosRankSum: float64, \n",
      "        SOR: float64, \n",
      "        VQSLOD: float64, \n",
      "        VariantType: str, \n",
      "        culprit: str, \n",
      "        AN_EUR: int32, \n",
      "        AN_EAS: int32, \n",
      "        AN_AMR: int32, \n",
      "        AN_SAS: int32, \n",
      "        AN_AFR: int32, \n",
      "        AC_EUR: array<int32>, \n",
      "        AC_EAS: array<int32>, \n",
      "        AC_AMR: array<int32>, \n",
      "        AC_SAS: array<int32>, \n",
      "        AC_AFR: array<int32>, \n",
      "        AC_Hom_EUR: array<int32>, \n",
      "        AC_Hom_EAS: array<int32>, \n",
      "        AC_Hom_AMR: array<int32>, \n",
      "        AC_Hom_SAS: array<int32>, \n",
      "        AC_Hom_AFR: array<int32>, \n",
      "        AC_Hom: array<int32>, \n",
      "        AC_Het_EUR: array<int32>, \n",
      "        AC_Het_EAS: array<int32>, \n",
      "        AC_Het_AMR: array<int32>, \n",
      "        AC_Het_SAS: array<int32>, \n",
      "        AC_Het_AFR: array<int32>, \n",
      "        AC_Het: array<int32>, \n",
      "        AF_EUR: array<float64>, \n",
      "        AF_EAS: array<float64>, \n",
      "        AF_AMR: array<float64>, \n",
      "        AF_SAS: array<float64>, \n",
      "        AF_AFR: array<float64>, \n",
      "        HWE_EUR: array<float64>, \n",
      "        HWE_EAS: array<float64>, \n",
      "        HWE_AMR: array<float64>, \n",
      "        HWE_SAS: array<float64>, \n",
      "        HWE_AFR: array<float64>, \n",
      "        HWE: array<float64>, \n",
      "        ExcHet_EUR: array<float64>, \n",
      "        ExcHet_EAS: array<float64>, \n",
      "        ExcHet_AMR: array<float64>, \n",
      "        ExcHet_SAS: array<float64>, \n",
      "        ExcHet_AFR: array<float64>, \n",
      "        ExcHet: array<float64>, \n",
      "        ME: array<float64>, \n",
      "        AN_EUR_unrel: int32, \n",
      "        AN_EAS_unrel: int32, \n",
      "        AN_AMR_unrel: int32, \n",
      "        AN_SAS_unrel: int32, \n",
      "        AN_AFR_unrel: int32, \n",
      "        AC_EUR_unrel: array<int32>, \n",
      "        AC_EAS_unrel: array<int32>, \n",
      "        AC_AMR_unrel: array<int32>, \n",
      "        AC_SAS_unrel: array<int32>, \n",
      "        AC_AFR_unrel: array<int32>, \n",
      "        AC_Hom_EUR_unrel: array<int32>, \n",
      "        AC_Hom_EAS_unrel: array<int32>, \n",
      "        AC_Hom_AMR_unrel: array<int32>, \n",
      "        AC_Hom_SAS_unrel: array<int32>, \n",
      "        AC_Hom_AFR_unrel: array<int32>, \n",
      "        AC_Het_EUR_unrel: array<int32>, \n",
      "        AC_Het_EAS_unrel: array<int32>, \n",
      "        AC_Het_AMR_unrel: array<int32>, \n",
      "        AC_Het_SAS_unrel: array<int32>, \n",
      "        AC_Het_AFR_unrel: array<int32>, \n",
      "        AF_EUR_unrel: array<float64>, \n",
      "        AF_EAS_unrel: array<float64>, \n",
      "        AF_AMR_unrel: array<float64>, \n",
      "        AF_SAS_unrel: array<float64>, \n",
      "        AF_AFR_unrel: array<float64>, \n",
      "        HWE_EUR_unrel: array<float64>, \n",
      "        HWE_EAS_unrel: array<float64>, \n",
      "        HWE_AMR_unrel: array<float64>, \n",
      "        HWE_SAS_unrel: array<float64>, \n",
      "        HWE_AFR_unrel: array<float64>, \n",
      "        CSQ: array<str>\n",
      "    }\n",
      "    'a_index': int32\n",
      "    'was_split': bool\n",
      "    'old_locus': locus<GRCh38>\n",
      "    'old_alleles': array<str>\n",
      "    'variant_qc': struct {\n",
      "        dp_stats: struct {\n",
      "            mean: float64, \n",
      "            stdev: float64, \n",
      "            min: float64, \n",
      "            max: float64\n",
      "        }, \n",
      "        gq_stats: struct {\n",
      "            mean: float64, \n",
      "            stdev: float64, \n",
      "            min: float64, \n",
      "            max: float64\n",
      "        }, \n",
      "        AC: array<int32>, \n",
      "        AF: array<float64>, \n",
      "        AN: int32, \n",
      "        homozygote_count: array<int32>, \n",
      "        call_rate: float64, \n",
      "        n_called: int64, \n",
      "        n_not_called: int64, \n",
      "        n_filtered: int64, \n",
      "        n_het: int64, \n",
      "        n_non_ref: int64, \n",
      "        het_freq_hwe: float64, \n",
      "        p_value_hwe: float64, \n",
      "        p_value_excess_het: float64\n",
      "    }\n",
      "    'CSQ': struct {\n",
      "        Allele: str, \n",
      "        Consequence: str, \n",
      "        IMPACT: str, \n",
      "        SYMBOL: str, \n",
      "        Gene: str, \n",
      "        DISTANCE: int64\n",
      "    }\n",
      "----------------------------------------\n",
      "Entry fields:\n",
      "    'AB': float64\n",
      "    'AD': array<int32>\n",
      "    'DP': int32\n",
      "    'GQ': int32\n",
      "    'GT': call\n",
      "    'MIN_DP': int32\n",
      "    'MQ0': int32\n",
      "    'PGT': call\n",
      "    'PID': str\n",
      "    'PL': array<int32>\n",
      "    'RGQ': int32\n",
      "    'SB': array<int32>\n",
      "----------------------------------------\n",
      "Column key: ['s']\n",
      "Row key: ['locus', 'alleles']\n",
      "----------------------------------------\n"
     ]
    }
   ],
   "source": [
    "mt = mt.annotate_rows(CSQ = hl.struct(\n",
    "    Allele=mt.info.CSQ[0].split('\\|')[0],\n",
    "    Consequence=mt.info.CSQ[0].split('\\|')[1],\n",
    "    IMPACT=mt.info.CSQ[0].split('\\|')[2],\n",
    "    SYMBOL=mt.info.CSQ[0].split('\\|')[3],\n",
    "    Gene=mt.info.CSQ[0].split('\\|')[4],\n",
    "    DISTANCE=hl.int64(mt.info.CSQ[0].split('\\|')[18]))\n",
    ")\n",
    "mt.describe()"
   ]
  },
  {
   "cell_type": "markdown",
   "id": "e9dcf233",
   "metadata": {},
   "source": [
    "이제 총 몇개의 consequence가 발생했는지 확인해봅시다. `counter()` 함수를 사용하여 계수를 합니다."
   ]
  },
  {
   "cell_type": "code",
   "execution_count": 60,
   "id": "61e82234",
   "metadata": {
    "ExecuteTime": {
     "end_time": "2022-01-17T11:07:29.815539Z",
     "start_time": "2022-01-17T11:07:04.055319Z"
    }
   },
   "outputs": [
    {
     "name": "stderr",
     "output_type": "stream",
     "text": [
      "2022-01-23 19:26:59 Hail: INFO: Coerced sorted dataset              (1 + 3) / 4]\n",
      "2022-01-23 19:27:02 Hail: INFO: Coerced sorted dataset              (0 + 4) / 4]\n",
      "2022-01-23 19:27:14 Hail: INFO: Coerced sorted dataset              (0 + 1) / 1]\n",
      "[Stage 328:==========================================>              (3 + 1) / 4]\r"
     ]
    },
    {
     "data": {
      "text/html": [
       "<div>\n",
       "<style scoped>\n",
       "    .dataframe tbody tr th:only-of-type {\n",
       "        vertical-align: middle;\n",
       "    }\n",
       "\n",
       "    .dataframe tbody tr th {\n",
       "        vertical-align: top;\n",
       "    }\n",
       "\n",
       "    .dataframe thead th {\n",
       "        text-align: right;\n",
       "    }\n",
       "</style>\n",
       "<table border=\"1\" class=\"dataframe\">\n",
       "  <thead>\n",
       "    <tr style=\"text-align: right;\">\n",
       "      <th></th>\n",
       "      <th>0</th>\n",
       "    </tr>\n",
       "  </thead>\n",
       "  <tbody>\n",
       "    <tr>\n",
       "      <th>3_prime_UTR_variant</th>\n",
       "      <td>1122</td>\n",
       "    </tr>\n",
       "    <tr>\n",
       "      <th>5_prime_UTR_variant</th>\n",
       "      <td>206</td>\n",
       "    </tr>\n",
       "    <tr>\n",
       "      <th>downstream_gene_variant</th>\n",
       "      <td>3650</td>\n",
       "    </tr>\n",
       "    <tr>\n",
       "      <th>frameshift_variant</th>\n",
       "      <td>22</td>\n",
       "    </tr>\n",
       "    <tr>\n",
       "      <th>frameshift_variant&amp;splice_region_variant</th>\n",
       "      <td>1</td>\n",
       "    </tr>\n",
       "    <tr>\n",
       "      <th>inframe_deletion</th>\n",
       "      <td>6</td>\n",
       "    </tr>\n",
       "    <tr>\n",
       "      <th>inframe_deletion&amp;splice_region_variant</th>\n",
       "      <td>1</td>\n",
       "    </tr>\n",
       "    <tr>\n",
       "      <th>inframe_insertion</th>\n",
       "      <td>3</td>\n",
       "    </tr>\n",
       "    <tr>\n",
       "      <th>intergenic_variant</th>\n",
       "      <td>2076</td>\n",
       "    </tr>\n",
       "    <tr>\n",
       "      <th>intron_variant</th>\n",
       "      <td>14794</td>\n",
       "    </tr>\n",
       "    <tr>\n",
       "      <th>intron_variant&amp;non_coding_transcript_variant</th>\n",
       "      <td>593</td>\n",
       "    </tr>\n",
       "    <tr>\n",
       "      <th>missense_variant</th>\n",
       "      <td>1093</td>\n",
       "    </tr>\n",
       "    <tr>\n",
       "      <th>missense_variant&amp;splice_region_variant</th>\n",
       "      <td>30</td>\n",
       "    </tr>\n",
       "    <tr>\n",
       "      <th>non_coding_transcript_exon_variant</th>\n",
       "      <td>179</td>\n",
       "    </tr>\n",
       "    <tr>\n",
       "      <th>splice_acceptor_variant</th>\n",
       "      <td>5</td>\n",
       "    </tr>\n",
       "    <tr>\n",
       "      <th>splice_acceptor_variant&amp;coding_sequence_variant&amp;intron_variant</th>\n",
       "      <td>1</td>\n",
       "    </tr>\n",
       "    <tr>\n",
       "      <th>splice_donor_variant</th>\n",
       "      <td>4</td>\n",
       "    </tr>\n",
       "    <tr>\n",
       "      <th>splice_region_variant&amp;5_prime_UTR_variant</th>\n",
       "      <td>1</td>\n",
       "    </tr>\n",
       "    <tr>\n",
       "      <th>splice_region_variant&amp;intron_variant</th>\n",
       "      <td>184</td>\n",
       "    </tr>\n",
       "    <tr>\n",
       "      <th>splice_region_variant&amp;synonymous_variant</th>\n",
       "      <td>23</td>\n",
       "    </tr>\n",
       "    <tr>\n",
       "      <th>start_lost</th>\n",
       "      <td>4</td>\n",
       "    </tr>\n",
       "    <tr>\n",
       "      <th>stop_gained</th>\n",
       "      <td>7</td>\n",
       "    </tr>\n",
       "    <tr>\n",
       "      <th>stop_gained&amp;frameshift_variant</th>\n",
       "      <td>1</td>\n",
       "    </tr>\n",
       "    <tr>\n",
       "      <th>synonymous_variant</th>\n",
       "      <td>915</td>\n",
       "    </tr>\n",
       "    <tr>\n",
       "      <th>upstream_gene_variant</th>\n",
       "      <td>4903</td>\n",
       "    </tr>\n",
       "  </tbody>\n",
       "</table>\n",
       "</div>"
      ],
      "text/plain": [
       "                                                        0\n",
       "3_prime_UTR_variant                                  1122\n",
       "5_prime_UTR_variant                                   206\n",
       "downstream_gene_variant                              3650\n",
       "frameshift_variant                                     22\n",
       "frameshift_variant&splice_region_variant                1\n",
       "inframe_deletion                                        6\n",
       "inframe_deletion&splice_region_variant                  1\n",
       "inframe_insertion                                       3\n",
       "intergenic_variant                                   2076\n",
       "intron_variant                                      14794\n",
       "intron_variant&non_coding_transcript_variant          593\n",
       "missense_variant                                     1093\n",
       "missense_variant&splice_region_variant                 30\n",
       "non_coding_transcript_exon_variant                    179\n",
       "splice_acceptor_variant                                 5\n",
       "splice_acceptor_variant&coding_sequence_variant...      1\n",
       "splice_donor_variant                                    4\n",
       "splice_region_variant&5_prime_UTR_variant               1\n",
       "splice_region_variant&intron_variant                  184\n",
       "splice_region_variant&synonymous_variant               23\n",
       "start_lost                                              4\n",
       "stop_gained                                             7\n",
       "stop_gained&frameshift_variant                          1\n",
       "synonymous_variant                                    915\n",
       "upstream_gene_variant                                4903"
      ]
     },
     "execution_count": 60,
     "metadata": {},
     "output_type": "execute_result"
    }
   ],
   "source": [
    "d = mt.aggregate_rows(hl.agg.counter(mt.CSQ.Consequence))\n",
    "pd.DataFrame.from_dict(d, orient='index')"
   ]
  },
  {
   "cell_type": "markdown",
   "id": "adcc7bf4",
   "metadata": {},
   "source": [
    "예상했던대로 noncoding genome에 변이들(intronic, integenic, upstream/downstream)에 많이 발생하는 것을 볼수 있습니다. \n",
    "\n",
    "이번에는 유전변이가 발생하는 위치에 따라 변이의 빈도수가 어떻게 달라지는지 한번 확인해봅시다. "
   ]
  },
  {
   "cell_type": "code",
   "execution_count": 61,
   "id": "ba3556c0",
   "metadata": {
    "ExecuteTime": {
     "end_time": "2022-01-17T11:08:20.332066Z",
     "start_time": "2022-01-17T11:07:29.816410Z"
    }
   },
   "outputs": [
    {
     "name": "stderr",
     "output_type": "stream",
     "text": [
      "2022-01-23 19:27:28 Hail: INFO: Coerced sorted dataset              (0 + 4) / 4]\n",
      "2022-01-23 19:27:30 Hail: INFO: Coerced sorted dataset              (0 + 4) / 4]\n",
      "2022-01-23 19:27:42 Hail: INFO: Coerced sorted dataset              (0 + 1) / 1]\n",
      "2022-01-23 19:27:56 Hail: INFO: Coerced sorted dataset              (0 + 4) / 4]\n",
      "2022-01-23 19:27:58 Hail: INFO: Coerced sorted dataset              (0 + 4) / 4]\n",
      "2022-01-23 19:28:10 Hail: INFO: Coerced sorted dataset              (0 + 1) / 1]\n",
      "[Stage 340:==========================================>              (3 + 1) / 4]\r"
     ]
    },
    {
     "data": {
      "text/html": [
       "\n",
       "\n",
       "\n",
       "\n",
       "\n",
       "\n",
       "  <div class=\"bk-root\" id=\"1ec81327-d9a2-4819-a094-b798acfabeba\" data-root-id=\"4449\"></div>\n"
      ]
     },
     "metadata": {},
     "output_type": "display_data"
    },
    {
     "data": {
      "application/javascript": [
       "(function(root) {\n",
       "  function embed_document(root) {\n",
       "    \n",
       "  var docs_json = {\"45c2122a-52e3-4931-b6ac-5c3be6715661\":{\"roots\":{\"references\":[{\"attributes\":{\"background_fill_color\":{\"value\":\"#EEEEEE\"},\"below\":[{\"id\":\"4460\",\"type\":\"LinearAxis\"}],\"center\":[{\"id\":\"4464\",\"type\":\"Grid\"},{\"id\":\"4469\",\"type\":\"Grid\"},{\"id\":\"4494\",\"type\":\"Legend\"}],\"left\":[{\"id\":\"4465\",\"type\":\"LinearAxis\"}],\"renderers\":[{\"id\":\"4486\",\"type\":\"GlyphRenderer\"}],\"title\":{\"id\":\"4450\",\"type\":\"Title\"},\"toolbar\":{\"id\":\"4476\",\"type\":\"Toolbar\"},\"x_range\":{\"id\":\"4452\",\"type\":\"Range1d\"},\"x_scale\":{\"id\":\"4456\",\"type\":\"LinearScale\"},\"y_range\":{\"id\":\"4454\",\"type\":\"DataRange1d\"},\"y_scale\":{\"id\":\"4458\",\"type\":\"LinearScale\"}},\"id\":\"4449\",\"subtype\":\"Figure\",\"type\":\"Plot\"},{\"attributes\":{},\"id\":\"4475\",\"type\":\"HelpTool\"},{\"attributes\":{\"callback\":null,\"data\":{\"left\":[1.0,128.98000000000002,256.96000000000004,384.94,512.9200000000001,640.9,768.88,896.86,1024.8400000000001,1152.82,1280.8,1408.78,1536.76,1664.74,1792.72,1920.7,2048.6800000000003,2176.66,2304.64,2432.62,2560.6,2688.58,2816.56,2944.54,3072.52,3200.5,3328.48,3456.46,3584.44,3712.42,3840.4,3968.38,4096.360000000001,4224.34,4352.32,4480.3,4608.28,4736.26,4864.24,4992.22,5120.2,5248.18,5376.16,5504.14,5632.12,5760.1,5888.08,6016.06,6144.04,6272.02],\"right\":[128.98000000000002,256.96000000000004,384.94,512.9200000000001,640.9,768.88,896.86,1024.8400000000001,1152.82,1280.8,1408.78,1536.76,1664.74,1792.72,1920.7,2048.6800000000003,2176.66,2304.64,2432.62,2560.6,2688.58,2816.56,2944.54,3072.52,3200.5,3328.48,3456.46,3584.44,3712.42,3840.4,3968.38,4096.360000000001,4224.34,4352.32,4480.3,4608.28,4736.26,4864.24,4992.22,5120.2,5248.18,5376.16,5504.14,5632.12,5760.1,5888.08,6016.06,6144.04,6272.02,6400.0],\"top\":[1809,93,20,17,5,7,3,2,2,9,6,5,12,8,5,6,6,2,8,2,0,2,1,0,7,8,3,3,4,3,4,0,0,1,0,0,0,0,0,0,4,0,3,0,0,3,0,1,0,2]},\"selected\":{\"id\":\"4657\",\"type\":\"Selection\"},\"selection_policy\":{\"id\":\"4656\",\"type\":\"UnionRenderers\"}},\"id\":\"4483\",\"type\":\"ColumnDataSource\"},{\"attributes\":{},\"id\":\"4461\",\"type\":\"BasicTicker\"},{\"attributes\":{\"ticker\":{\"id\":\"4461\",\"type\":\"BasicTicker\"}},\"id\":\"4464\",\"type\":\"Grid\"},{\"attributes\":{\"bottom_units\":\"screen\",\"fill_alpha\":{\"value\":0.5},\"fill_color\":{\"value\":\"lightgrey\"},\"left_units\":\"screen\",\"level\":\"overlay\",\"line_alpha\":{\"value\":1.0},\"line_color\":{\"value\":\"black\"},\"line_dash\":[4,4],\"line_width\":{\"value\":2},\"render_mode\":\"css\",\"right_units\":\"screen\",\"top_units\":\"screen\"},\"id\":\"4493\",\"type\":\"BoxAnnotation\"},{\"attributes\":{},\"id\":\"4470\",\"type\":\"PanTool\"},{\"attributes\":{},\"id\":\"4490\",\"type\":\"BasicTickFormatter\"},{\"attributes\":{},\"id\":\"4656\",\"type\":\"UnionRenderers\"},{\"attributes\":{},\"id\":\"4466\",\"type\":\"BasicTicker\"},{\"attributes\":{\"bottom\":{\"value\":0},\"fill_alpha\":{\"value\":0.1},\"fill_color\":{\"value\":\"#1f77b4\"},\"left\":{\"field\":\"left\"},\"line_alpha\":{\"value\":0.1},\"line_color\":{\"value\":\"#1f77b4\"},\"right\":{\"field\":\"right\"},\"top\":{\"field\":\"top\"}},\"id\":\"4485\",\"type\":\"Quad\"},{\"attributes\":{\"active_drag\":\"auto\",\"active_inspect\":\"auto\",\"active_multi\":null,\"active_scroll\":\"auto\",\"active_tap\":\"auto\",\"tools\":[{\"id\":\"4470\",\"type\":\"PanTool\"},{\"id\":\"4471\",\"type\":\"WheelZoomTool\"},{\"id\":\"4472\",\"type\":\"BoxZoomTool\"},{\"id\":\"4473\",\"type\":\"SaveTool\"},{\"id\":\"4474\",\"type\":\"ResetTool\"},{\"id\":\"4475\",\"type\":\"HelpTool\"}]},\"id\":\"4476\",\"type\":\"Toolbar\"},{\"attributes\":{\"dimension\":1,\"ticker\":{\"id\":\"4466\",\"type\":\"BasicTicker\"}},\"id\":\"4469\",\"type\":\"Grid\"},{\"attributes\":{},\"id\":\"4492\",\"type\":\"BasicTickFormatter\"},{\"attributes\":{\"callback\":null,\"end\":6719.95,\"start\":-318.95000000000005},\"id\":\"4452\",\"type\":\"Range1d\"},{\"attributes\":{},\"id\":\"4458\",\"type\":\"LinearScale\"},{\"attributes\":{\"callback\":null},\"id\":\"4454\",\"type\":\"DataRange1d\"},{\"attributes\":{},\"id\":\"4456\",\"type\":\"LinearScale\"},{\"attributes\":{\"axis_label\":\"Frequency\",\"formatter\":{\"id\":\"4492\",\"type\":\"BasicTickFormatter\"},\"ticker\":{\"id\":\"4466\",\"type\":\"BasicTicker\"}},\"id\":\"4465\",\"type\":\"LinearAxis\"},{\"attributes\":{},\"id\":\"4657\",\"type\":\"Selection\"},{\"attributes\":{\"formatter\":{\"id\":\"4490\",\"type\":\"BasicTickFormatter\"},\"ticker\":{\"id\":\"4461\",\"type\":\"BasicTicker\"}},\"id\":\"4460\",\"type\":\"LinearAxis\"},{\"attributes\":{\"text\":\"Allele counts of intergenic variants\"},\"id\":\"4450\",\"type\":\"Title\"},{\"attributes\":{\"label\":{\"value\":\"\"},\"renderers\":[{\"id\":\"4486\",\"type\":\"GlyphRenderer\"}]},\"id\":\"4495\",\"type\":\"LegendItem\"},{\"attributes\":{\"items\":[{\"id\":\"4495\",\"type\":\"LegendItem\"}]},\"id\":\"4494\",\"type\":\"Legend\"},{\"attributes\":{\"bottom\":{\"value\":0},\"fill_color\":{\"value\":\"#1f77b4\"},\"left\":{\"field\":\"left\"},\"right\":{\"field\":\"right\"},\"top\":{\"field\":\"top\"}},\"id\":\"4484\",\"type\":\"Quad\"},{\"attributes\":{},\"id\":\"4473\",\"type\":\"SaveTool\"},{\"attributes\":{},\"id\":\"4474\",\"type\":\"ResetTool\"},{\"attributes\":{\"source\":{\"id\":\"4483\",\"type\":\"ColumnDataSource\"}},\"id\":\"4487\",\"type\":\"CDSView\"},{\"attributes\":{\"overlay\":{\"id\":\"4493\",\"type\":\"BoxAnnotation\"}},\"id\":\"4472\",\"type\":\"BoxZoomTool\"},{\"attributes\":{\"data_source\":{\"id\":\"4483\",\"type\":\"ColumnDataSource\"},\"glyph\":{\"id\":\"4484\",\"type\":\"Quad\"},\"hover_glyph\":null,\"muted_glyph\":null,\"nonselection_glyph\":{\"id\":\"4485\",\"type\":\"Quad\"},\"selection_glyph\":null,\"view\":{\"id\":\"4487\",\"type\":\"CDSView\"}},\"id\":\"4486\",\"type\":\"GlyphRenderer\"},{\"attributes\":{},\"id\":\"4471\",\"type\":\"WheelZoomTool\"}],\"root_ids\":[\"4449\"]},\"title\":\"Bokeh Application\",\"version\":\"1.4.0\"}};\n",
       "  var render_items = [{\"docid\":\"45c2122a-52e3-4931-b6ac-5c3be6715661\",\"roots\":{\"4449\":\"1ec81327-d9a2-4819-a094-b798acfabeba\"}}];\n",
       "  root.Bokeh.embed.embed_items_notebook(docs_json, render_items);\n",
       "\n",
       "  }\n",
       "  if (root.Bokeh !== undefined) {\n",
       "    embed_document(root);\n",
       "  } else {\n",
       "    var attempts = 0;\n",
       "    var timer = setInterval(function(root) {\n",
       "      if (root.Bokeh !== undefined) {\n",
       "        clearInterval(timer);\n",
       "        embed_document(root);\n",
       "      } else {\n",
       "        attempts++;\n",
       "        if (attempts > 100) {\n",
       "          clearInterval(timer);\n",
       "          console.log(\"Bokeh: ERROR: Unable to run BokehJS code because BokehJS library is missing\");\n",
       "        }\n",
       "      }\n",
       "    }, 10, root)\n",
       "  }\n",
       "})(window);"
      ],
      "application/vnd.bokehjs_exec.v0+json": ""
     },
     "metadata": {
      "application/vnd.bokehjs_exec.v0+json": {
       "id": "4449"
      }
     },
     "output_type": "display_data"
    }
   ],
   "source": [
    "p = hl.plot.histogram(mt.filter_rows(mt.CSQ.Consequence=='intergenic_variant').info.AC[0], \n",
    "                      title = 'Allele counts of intergenic variants')\n",
    "show(p)"
   ]
  },
  {
   "cell_type": "code",
   "execution_count": 62,
   "id": "59c1f111",
   "metadata": {
    "ExecuteTime": {
     "end_time": "2022-01-17T11:09:10.696197Z",
     "start_time": "2022-01-17T11:08:20.333034Z"
    }
   },
   "outputs": [
    {
     "name": "stderr",
     "output_type": "stream",
     "text": [
      "2022-01-23 19:28:24 Hail: INFO: Coerced sorted dataset              (3 + 1) / 4]\n",
      "2022-01-23 19:28:26 Hail: INFO: Coerced sorted dataset              (3 + 1) / 4]\n",
      "2022-01-23 19:28:38 Hail: INFO: Coerced sorted dataset              (0 + 1) / 1]\n",
      "2022-01-23 19:28:51 Hail: INFO: Coerced sorted dataset              (0 + 4) / 4]\n",
      "2022-01-23 19:28:54 Hail: INFO: Coerced sorted dataset              (0 + 4) / 4]\n",
      "2022-01-23 19:29:05 Hail: INFO: Coerced sorted dataset              (0 + 1) / 1]\n",
      "[Stage 352:==========================================>              (3 + 1) / 4]\r"
     ]
    },
    {
     "data": {
      "text/html": [
       "\n",
       "\n",
       "\n",
       "\n",
       "\n",
       "\n",
       "  <div class=\"bk-root\" id=\"8fe39103-56cc-4533-8702-77f466c3a52d\" data-root-id=\"4706\"></div>\n"
      ]
     },
     "metadata": {},
     "output_type": "display_data"
    },
    {
     "data": {
      "application/javascript": [
       "(function(root) {\n",
       "  function embed_document(root) {\n",
       "    \n",
       "  var docs_json = {\"2f532360-10d6-4438-b431-dc862802a421\":{\"roots\":{\"references\":[{\"attributes\":{\"background_fill_color\":{\"value\":\"#EEEEEE\"},\"below\":[{\"id\":\"4717\",\"type\":\"LinearAxis\"}],\"center\":[{\"id\":\"4721\",\"type\":\"Grid\"},{\"id\":\"4726\",\"type\":\"Grid\"},{\"id\":\"4751\",\"type\":\"Legend\"}],\"left\":[{\"id\":\"4722\",\"type\":\"LinearAxis\"}],\"renderers\":[{\"id\":\"4743\",\"type\":\"GlyphRenderer\"}],\"title\":{\"id\":\"4707\",\"type\":\"Title\"},\"toolbar\":{\"id\":\"4733\",\"type\":\"Toolbar\"},\"x_range\":{\"id\":\"4709\",\"type\":\"Range1d\"},\"x_scale\":{\"id\":\"4713\",\"type\":\"LinearScale\"},\"y_range\":{\"id\":\"4711\",\"type\":\"DataRange1d\"},\"y_scale\":{\"id\":\"4715\",\"type\":\"LinearScale\"}},\"id\":\"4706\",\"subtype\":\"Figure\",\"type\":\"Plot\"},{\"attributes\":{\"axis_label\":\"Frequency\",\"formatter\":{\"id\":\"4749\",\"type\":\"BasicTickFormatter\"},\"ticker\":{\"id\":\"4723\",\"type\":\"BasicTicker\"}},\"id\":\"4722\",\"type\":\"LinearAxis\"},{\"attributes\":{\"formatter\":{\"id\":\"4747\",\"type\":\"BasicTickFormatter\"},\"ticker\":{\"id\":\"4718\",\"type\":\"BasicTicker\"}},\"id\":\"4717\",\"type\":\"LinearAxis\"},{\"attributes\":{},\"id\":\"4723\",\"type\":\"BasicTicker\"},{\"attributes\":{\"callback\":null,\"end\":6712.6,\"start\":-318.6},\"id\":\"4709\",\"type\":\"Range1d\"},{\"attributes\":{},\"id\":\"4715\",\"type\":\"LinearScale\"},{\"attributes\":{},\"id\":\"4921\",\"type\":\"UnionRenderers\"},{\"attributes\":{},\"id\":\"4730\",\"type\":\"SaveTool\"},{\"attributes\":{},\"id\":\"4728\",\"type\":\"WheelZoomTool\"},{\"attributes\":{\"callback\":null},\"id\":\"4711\",\"type\":\"DataRange1d\"},{\"attributes\":{},\"id\":\"4922\",\"type\":\"Selection\"},{\"attributes\":{\"data_source\":{\"id\":\"4740\",\"type\":\"ColumnDataSource\"},\"glyph\":{\"id\":\"4741\",\"type\":\"Quad\"},\"hover_glyph\":null,\"muted_glyph\":null,\"nonselection_glyph\":{\"id\":\"4742\",\"type\":\"Quad\"},\"selection_glyph\":null,\"view\":{\"id\":\"4744\",\"type\":\"CDSView\"}},\"id\":\"4743\",\"type\":\"GlyphRenderer\"},{\"attributes\":{\"text\":\"Allele counts of missense variants\"},\"id\":\"4707\",\"type\":\"Title\"},{\"attributes\":{\"bottom_units\":\"screen\",\"fill_alpha\":{\"value\":0.5},\"fill_color\":{\"value\":\"lightgrey\"},\"left_units\":\"screen\",\"level\":\"overlay\",\"line_alpha\":{\"value\":1.0},\"line_color\":{\"value\":\"black\"},\"line_dash\":[4,4],\"line_width\":{\"value\":2},\"render_mode\":\"css\",\"right_units\":\"screen\",\"top_units\":\"screen\"},\"id\":\"4750\",\"type\":\"BoxAnnotation\"},{\"attributes\":{},\"id\":\"4718\",\"type\":\"BasicTicker\"},{\"attributes\":{},\"id\":\"4747\",\"type\":\"BasicTickFormatter\"},{\"attributes\":{},\"id\":\"4727\",\"type\":\"PanTool\"},{\"attributes\":{},\"id\":\"4713\",\"type\":\"LinearScale\"},{\"attributes\":{\"items\":[{\"id\":\"4752\",\"type\":\"LegendItem\"}]},\"id\":\"4751\",\"type\":\"Legend\"},{\"attributes\":{\"overlay\":{\"id\":\"4750\",\"type\":\"BoxAnnotation\"}},\"id\":\"4729\",\"type\":\"BoxZoomTool\"},{\"attributes\":{\"dimension\":1,\"ticker\":{\"id\":\"4723\",\"type\":\"BasicTicker\"}},\"id\":\"4726\",\"type\":\"Grid\"},{\"attributes\":{},\"id\":\"4732\",\"type\":\"HelpTool\"},{\"attributes\":{\"callback\":null,\"data\":{\"left\":[1.0,128.84,256.68,384.52,512.36,640.2,768.04,895.88,1023.72,1151.56,1279.4,1407.24,1535.08,1662.92,1790.76,1918.6000000000001,2046.44,2174.28,2302.12,2429.96,2557.8,2685.64,2813.48,2941.32,3069.16,3197.0,3324.84,3452.6800000000003,3580.52,3708.36,3836.2000000000003,3964.04,4091.88,4219.72,4347.56,4475.400000000001,4603.24,4731.08,4858.92,4986.76,5114.6,5242.4400000000005,5370.28,5498.12,5625.96,5753.8,5881.64,6009.4800000000005,6137.32,6265.16],\"right\":[128.84,256.68,384.52,512.36,640.2,768.04,895.88,1023.72,1151.56,1279.4,1407.24,1535.08,1662.92,1790.76,1918.6000000000001,2046.44,2174.28,2302.12,2429.96,2557.8,2685.64,2813.48,2941.32,3069.16,3197.0,3324.84,3452.6800000000003,3580.52,3708.36,3836.2000000000003,3964.04,4091.88,4219.72,4347.56,4475.400000000001,4603.24,4731.08,4858.92,4986.76,5114.6,5242.4400000000005,5370.28,5498.12,5625.96,5753.8,5881.64,6009.4800000000005,6137.32,6265.16,6393.0],\"top\":[1054,6,9,3,1,1,1,0,2,1,0,1,0,0,1,0,1,1,0,0,1,2,1,0,0,0,0,0,0,0,1,0,3,0,0,1,0,0,0,0,0,0,1,0,0,0,0,0,0,1]},\"selected\":{\"id\":\"4922\",\"type\":\"Selection\"},\"selection_policy\":{\"id\":\"4921\",\"type\":\"UnionRenderers\"}},\"id\":\"4740\",\"type\":\"ColumnDataSource\"},{\"attributes\":{\"bottom\":{\"value\":0},\"fill_alpha\":{\"value\":0.1},\"fill_color\":{\"value\":\"#1f77b4\"},\"left\":{\"field\":\"left\"},\"line_alpha\":{\"value\":0.1},\"line_color\":{\"value\":\"#1f77b4\"},\"right\":{\"field\":\"right\"},\"top\":{\"field\":\"top\"}},\"id\":\"4742\",\"type\":\"Quad\"},{\"attributes\":{\"label\":{\"value\":\"\"},\"renderers\":[{\"id\":\"4743\",\"type\":\"GlyphRenderer\"}]},\"id\":\"4752\",\"type\":\"LegendItem\"},{\"attributes\":{},\"id\":\"4749\",\"type\":\"BasicTickFormatter\"},{\"attributes\":{},\"id\":\"4731\",\"type\":\"ResetTool\"},{\"attributes\":{\"bottom\":{\"value\":0},\"fill_color\":{\"value\":\"#1f77b4\"},\"left\":{\"field\":\"left\"},\"right\":{\"field\":\"right\"},\"top\":{\"field\":\"top\"}},\"id\":\"4741\",\"type\":\"Quad\"},{\"attributes\":{\"active_drag\":\"auto\",\"active_inspect\":\"auto\",\"active_multi\":null,\"active_scroll\":\"auto\",\"active_tap\":\"auto\",\"tools\":[{\"id\":\"4727\",\"type\":\"PanTool\"},{\"id\":\"4728\",\"type\":\"WheelZoomTool\"},{\"id\":\"4729\",\"type\":\"BoxZoomTool\"},{\"id\":\"4730\",\"type\":\"SaveTool\"},{\"id\":\"4731\",\"type\":\"ResetTool\"},{\"id\":\"4732\",\"type\":\"HelpTool\"}]},\"id\":\"4733\",\"type\":\"Toolbar\"},{\"attributes\":{\"source\":{\"id\":\"4740\",\"type\":\"ColumnDataSource\"}},\"id\":\"4744\",\"type\":\"CDSView\"},{\"attributes\":{\"ticker\":{\"id\":\"4718\",\"type\":\"BasicTicker\"}},\"id\":\"4721\",\"type\":\"Grid\"}],\"root_ids\":[\"4706\"]},\"title\":\"Bokeh Application\",\"version\":\"1.4.0\"}};\n",
       "  var render_items = [{\"docid\":\"2f532360-10d6-4438-b431-dc862802a421\",\"roots\":{\"4706\":\"8fe39103-56cc-4533-8702-77f466c3a52d\"}}];\n",
       "  root.Bokeh.embed.embed_items_notebook(docs_json, render_items);\n",
       "\n",
       "  }\n",
       "  if (root.Bokeh !== undefined) {\n",
       "    embed_document(root);\n",
       "  } else {\n",
       "    var attempts = 0;\n",
       "    var timer = setInterval(function(root) {\n",
       "      if (root.Bokeh !== undefined) {\n",
       "        clearInterval(timer);\n",
       "        embed_document(root);\n",
       "      } else {\n",
       "        attempts++;\n",
       "        if (attempts > 100) {\n",
       "          clearInterval(timer);\n",
       "          console.log(\"Bokeh: ERROR: Unable to run BokehJS code because BokehJS library is missing\");\n",
       "        }\n",
       "      }\n",
       "    }, 10, root)\n",
       "  }\n",
       "})(window);"
      ],
      "application/vnd.bokehjs_exec.v0+json": ""
     },
     "metadata": {
      "application/vnd.bokehjs_exec.v0+json": {
       "id": "4706"
      }
     },
     "output_type": "display_data"
    }
   ],
   "source": [
    "p = hl.plot.histogram(mt.filter_rows(mt.CSQ.Consequence=='missense_variant').info.AC[0], \n",
    "                      title = 'Allele counts of missense variants')\n",
    "show(p)"
   ]
  },
  {
   "cell_type": "markdown",
   "id": "0ca62af5",
   "metadata": {
    "ExecuteTime": {
     "end_time": "2022-01-16T04:16:35.925862Z",
     "start_time": "2022-01-16T04:16:28.897629Z"
    }
   },
   "source": [
    "Intergenic variant가 missense variant보다 high AC variant가 많은 것을 볼 수 있습니다. "
   ]
  },
  {
   "cell_type": "markdown",
   "id": "3ae70d16-559e-46ff-a001-880e6522ad6d",
   "metadata": {},
   "source": [
    "### 커스텀 데이터 사용\n",
    "\n",
    "Variant annotation은 실험에 따라 다양한 외부 데이터를 추가할 수 있습니다. 이번에는 hail table로 저장된 annotation 데이터를 추가해보겠습니다. 아래는 missense variant의 위험도를 측정하기 위해 [MPC (missense badness, PolyPhen-2, and constraint) score](https://www.biorxiv.org/content/10.1101/148353v1)를 사용해보겠습니다."
   ]
  },
  {
   "cell_type": "code",
   "execution_count": 63,
   "id": "1a8ac29c",
   "metadata": {
    "ExecuteTime": {
     "end_time": "2022-01-17T11:09:11.084147Z",
     "start_time": "2022-01-17T11:09:10.697036Z"
    }
   },
   "outputs": [
    {
     "data": {
      "text/html": [
       "<table><thead><tr><td style=\"white-space: nowrap; max-width: 500px; overflow: hidden; text-overflow: ellipsis; \" colspan=\"1\"><div style=\"text-align: left;\"></div></td><td style=\"white-space: nowrap; max-width: 500px; overflow: hidden; text-overflow: ellipsis; \" colspan=\"1\"><div style=\"text-align: left;\"></div></td><td style=\"white-space: nowrap; max-width: 500px; overflow: hidden; text-overflow: ellipsis; \" colspan=\"1\"><div style=\"text-align: left;\"></div></td><td style=\"white-space: nowrap; max-width: 500px; overflow: hidden; text-overflow: ellipsis; \" colspan=\"1\"><div style=\"text-align: left;\"></div></td><td style=\"white-space: nowrap; max-width: 500px; overflow: hidden; text-overflow: ellipsis; \" colspan=\"1\"><div style=\"text-align: left;\"></div></td><td style=\"white-space: nowrap; max-width: 500px; overflow: hidden; text-overflow: ellipsis; \" colspan=\"1\"><div style=\"text-align: left;\"></div></td><td style=\"white-space: nowrap; max-width: 500px; overflow: hidden; text-overflow: ellipsis; \" colspan=\"1\"><div style=\"text-align: left;\"></div></td><td style=\"white-space: nowrap; max-width: 500px; overflow: hidden; text-overflow: ellipsis; \" colspan=\"1\"><div style=\"text-align: left;\"></div></td><td style=\"white-space: nowrap; max-width: 500px; overflow: hidden; text-overflow: ellipsis; \" colspan=\"1\"><div style=\"text-align: left;\"></div></td><td style=\"white-space: nowrap; max-width: 500px; overflow: hidden; text-overflow: ellipsis; \" colspan=\"1\"><div style=\"text-align: left;\"></div></td><td style=\"white-space: nowrap; max-width: 500px; overflow: hidden; text-overflow: ellipsis; \" colspan=\"1\"><div style=\"text-align: left;\"></div></td><td style=\"white-space: nowrap; max-width: 500px; overflow: hidden; text-overflow: ellipsis; \" colspan=\"1\"><div style=\"text-align: left;\"></div></td><td style=\"white-space: nowrap; max-width: 500px; overflow: hidden; text-overflow: ellipsis; \" colspan=\"1\"><div style=\"text-align: left;\"></div></td><td style=\"white-space: nowrap; max-width: 500px; overflow: hidden; text-overflow: ellipsis; \" colspan=\"1\"><div style=\"text-align: left;\"></div></td><td style=\"white-space: nowrap; max-width: 500px; overflow: hidden; text-overflow: ellipsis; \" colspan=\"1\"><div style=\"text-align: left;\"></div></td><td style=\"white-space: nowrap; max-width: 500px; overflow: hidden; text-overflow: ellipsis; \" colspan=\"1\"><div style=\"text-align: left;\"></div></td><td style=\"white-space: nowrap; max-width: 500px; overflow: hidden; text-overflow: ellipsis; \" colspan=\"1\"><div style=\"text-align: left;\"></div></td><td style=\"white-space: nowrap; max-width: 500px; overflow: hidden; text-overflow: ellipsis; \" colspan=\"1\"><div style=\"text-align: left;\"></div></td></tr><tr><td style=\"white-space: nowrap; max-width: 500px; overflow: hidden; text-overflow: ellipsis; \" colspan=\"1\"><div style=\"text-align: left;border-bottom: solid 2px #000; padding-bottom: 5px\">gene_name</div></td><td style=\"white-space: nowrap; max-width: 500px; overflow: hidden; text-overflow: ellipsis; \" colspan=\"1\"><div style=\"text-align: left;border-bottom: solid 2px #000; padding-bottom: 5px\">ENST</div></td><td style=\"white-space: nowrap; max-width: 500px; overflow: hidden; text-overflow: ellipsis; \" colspan=\"1\"><div style=\"text-align: left;border-bottom: solid 2px #000; padding-bottom: 5px\">ENSG</div></td><td style=\"white-space: nowrap; max-width: 500px; overflow: hidden; text-overflow: ellipsis; \" colspan=\"1\"><div style=\"text-align: left;border-bottom: solid 2px #000; padding-bottom: 5px\">CCDS</div></td><td style=\"white-space: nowrap; max-width: 500px; overflow: hidden; text-overflow: ellipsis; \" colspan=\"1\"><div style=\"text-align: left;border-bottom: solid 2px #000; padding-bottom: 5px\">Consequence</div></td><td style=\"white-space: nowrap; max-width: 500px; overflow: hidden; text-overflow: ellipsis; \" colspan=\"1\"><div style=\"text-align: left;border-bottom: solid 2px #000; padding-bottom: 5px\">HGVSc</div></td><td style=\"white-space: nowrap; max-width: 500px; overflow: hidden; text-overflow: ellipsis; \" colspan=\"1\"><div style=\"text-align: left;border-bottom: solid 2px #000; padding-bottom: 5px\">HGVSp</div></td><td style=\"white-space: nowrap; max-width: 500px; overflow: hidden; text-overflow: ellipsis; \" colspan=\"1\"><div style=\"text-align: left;border-bottom: solid 2px #000; padding-bottom: 5px\">Amino_acids</div></td><td style=\"white-space: nowrap; max-width: 500px; overflow: hidden; text-overflow: ellipsis; \" colspan=\"1\"><div style=\"text-align: left;border-bottom: solid 2px #000; padding-bottom: 5px\">context</div></td><td style=\"white-space: nowrap; max-width: 500px; overflow: hidden; text-overflow: ellipsis; \" colspan=\"1\"><div style=\"text-align: left;border-bottom: solid 2px #000; padding-bottom: 5px\">SIFT</div></td><td style=\"white-space: nowrap; max-width: 500px; overflow: hidden; text-overflow: ellipsis; \" colspan=\"1\"><div style=\"text-align: left;border-bottom: solid 2px #000; padding-bottom: 5px\">PolyPhen</div></td><td style=\"white-space: nowrap; max-width: 500px; overflow: hidden; text-overflow: ellipsis; \" colspan=\"1\"><div style=\"text-align: left;border-bottom: solid 2px #000; padding-bottom: 5px\">obs_exp</div></td><td style=\"white-space: nowrap; max-width: 500px; overflow: hidden; text-overflow: ellipsis; \" colspan=\"1\"><div style=\"text-align: left;border-bottom: solid 2px #000; padding-bottom: 5px\">mis_badness</div></td><td style=\"white-space: nowrap; max-width: 500px; overflow: hidden; text-overflow: ellipsis; \" colspan=\"1\"><div style=\"text-align: left;border-bottom: solid 2px #000; padding-bottom: 5px\">fitted_score</div></td><td style=\"white-space: nowrap; max-width: 500px; overflow: hidden; text-overflow: ellipsis; \" colspan=\"1\"><div style=\"text-align: left;border-bottom: solid 2px #000; padding-bottom: 5px\">MPC</div></td><td style=\"white-space: nowrap; max-width: 500px; overflow: hidden; text-overflow: ellipsis; \" colspan=\"1\"><div style=\"text-align: left;border-bottom: solid 2px #000; padding-bottom: 5px\">variant</div></td><td style=\"white-space: nowrap; max-width: 500px; overflow: hidden; text-overflow: ellipsis; \" colspan=\"1\"><div style=\"text-align: left;border-bottom: solid 2px #000; padding-bottom: 5px\">locus</div></td><td style=\"white-space: nowrap; max-width: 500px; overflow: hidden; text-overflow: ellipsis; \" colspan=\"1\"><div style=\"text-align: left;border-bottom: solid 2px #000; padding-bottom: 5px\">alleles</div></td></tr><tr><td style=\"white-space: nowrap; max-width: 500px; overflow: hidden; text-overflow: ellipsis; text-align: left;\">str</td><td style=\"white-space: nowrap; max-width: 500px; overflow: hidden; text-overflow: ellipsis; text-align: left;\">str</td><td style=\"white-space: nowrap; max-width: 500px; overflow: hidden; text-overflow: ellipsis; text-align: left;\">str</td><td style=\"white-space: nowrap; max-width: 500px; overflow: hidden; text-overflow: ellipsis; text-align: left;\">str</td><td style=\"white-space: nowrap; max-width: 500px; overflow: hidden; text-overflow: ellipsis; text-align: left;\">str</td><td style=\"white-space: nowrap; max-width: 500px; overflow: hidden; text-overflow: ellipsis; text-align: left;\">str</td><td style=\"white-space: nowrap; max-width: 500px; overflow: hidden; text-overflow: ellipsis; text-align: left;\">str</td><td style=\"white-space: nowrap; max-width: 500px; overflow: hidden; text-overflow: ellipsis; text-align: left;\">str</td><td style=\"white-space: nowrap; max-width: 500px; overflow: hidden; text-overflow: ellipsis; text-align: left;\">str</td><td style=\"white-space: nowrap; max-width: 500px; overflow: hidden; text-overflow: ellipsis; text-align: left;\">str</td><td style=\"white-space: nowrap; max-width: 500px; overflow: hidden; text-overflow: ellipsis; text-align: left;\">str</td><td style=\"white-space: nowrap; max-width: 500px; overflow: hidden; text-overflow: ellipsis; text-align: left;\">float64</td><td style=\"white-space: nowrap; max-width: 500px; overflow: hidden; text-overflow: ellipsis; text-align: left;\">float64</td><td style=\"white-space: nowrap; max-width: 500px; overflow: hidden; text-overflow: ellipsis; text-align: left;\">float64</td><td style=\"white-space: nowrap; max-width: 500px; overflow: hidden; text-overflow: ellipsis; text-align: left;\">float64</td><td style=\"white-space: nowrap; max-width: 500px; overflow: hidden; text-overflow: ellipsis; text-align: left;\">str</td><td style=\"white-space: nowrap; max-width: 500px; overflow: hidden; text-overflow: ellipsis; text-align: left;\">locus&lt;GRCh38&gt;</td><td style=\"white-space: nowrap; max-width: 500px; overflow: hidden; text-overflow: ellipsis; text-align: left;\">array&lt;str&gt;</td></tr>\n",
       "</thead><tbody><tr><td style=\"white-space: nowrap; max-width: 500px; overflow: hidden; text-overflow: ellipsis; \">&quot;TRABD&quot;</td><td style=\"white-space: nowrap; max-width: 500px; overflow: hidden; text-overflow: ellipsis; \">&quot;ENST00000303434&quot;</td><td style=\"white-space: nowrap; max-width: 500px; overflow: hidden; text-overflow: ellipsis; \">&quot;ENSG00000170638&quot;</td><td style=\"white-space: nowrap; max-width: 500px; overflow: hidden; text-overflow: ellipsis; \">&quot;CCDS14086.1&quot;</td><td style=\"white-space: nowrap; max-width: 500px; overflow: hidden; text-overflow: ellipsis; \">&quot;missense_variant&amp;splice_region_variant&quot;</td><td style=\"white-space: nowrap; max-width: 500px; overflow: hidden; text-overflow: ellipsis; \">&quot;ENST00000303434.4:c.421A&gt;C&quot;</td><td style=\"white-space: nowrap; max-width: 500px; overflow: hidden; text-overflow: ellipsis; \">&quot;ENSP00000305664.4:p.Asn141His&quot;</td><td style=\"white-space: nowrap; max-width: 500px; overflow: hidden; text-overflow: ellipsis; \">&quot;N/H&quot;</td><td style=\"white-space: nowrap; max-width: 500px; overflow: hidden; text-overflow: ellipsis; \">&quot;GAA&quot;</td><td style=\"white-space: nowrap; max-width: 500px; overflow: hidden; text-overflow: ellipsis; \">&quot;tolerated(0.1)&quot;</td><td style=\"white-space: nowrap; max-width: 500px; overflow: hidden; text-overflow: ellipsis; \">&quot;possibly_damaging(0.566)&quot;</td><td style=\"white-space: nowrap; max-width: 500px; overflow: hidden; text-overflow: ellipsis; \">8.46e-01</td><td style=\"white-space: nowrap; max-width: 500px; overflow: hidden; text-overflow: ellipsis; \">3.89e-01</td><td style=\"white-space: nowrap; max-width: 500px; overflow: hidden; text-overflow: ellipsis; \">9.98e-01</td><td style=\"white-space: nowrap; max-width: 500px; overflow: hidden; text-overflow: ellipsis; \">6.99e-01</td><td style=\"white-space: nowrap; max-width: 500px; overflow: hidden; text-overflow: ellipsis; \">&quot;22:50197241:A:C&quot;</td><td style=\"white-space: nowrap; max-width: 500px; overflow: hidden; text-overflow: ellipsis; \">chr22:50197241</td><td style=\"white-space: nowrap; max-width: 500px; overflow: hidden; text-overflow: ellipsis; \">[&quot;A&quot;,&quot;C&quot;]</td></tr>\n",
       "<tr><td style=\"white-space: nowrap; max-width: 500px; overflow: hidden; text-overflow: ellipsis; \">&quot;TRABD&quot;</td><td style=\"white-space: nowrap; max-width: 500px; overflow: hidden; text-overflow: ellipsis; \">&quot;ENST00000303434&quot;</td><td style=\"white-space: nowrap; max-width: 500px; overflow: hidden; text-overflow: ellipsis; \">&quot;ENSG00000170638&quot;</td><td style=\"white-space: nowrap; max-width: 500px; overflow: hidden; text-overflow: ellipsis; \">&quot;CCDS14086.1&quot;</td><td style=\"white-space: nowrap; max-width: 500px; overflow: hidden; text-overflow: ellipsis; \">&quot;missense_variant&amp;splice_region_variant&quot;</td><td style=\"white-space: nowrap; max-width: 500px; overflow: hidden; text-overflow: ellipsis; \">&quot;ENST00000303434.4:c.421A&gt;G&quot;</td><td style=\"white-space: nowrap; max-width: 500px; overflow: hidden; text-overflow: ellipsis; \">&quot;ENSP00000305664.4:p.Asn141Asp&quot;</td><td style=\"white-space: nowrap; max-width: 500px; overflow: hidden; text-overflow: ellipsis; \">&quot;N/D&quot;</td><td style=\"white-space: nowrap; max-width: 500px; overflow: hidden; text-overflow: ellipsis; \">&quot;GAA&quot;</td><td style=\"white-space: nowrap; max-width: 500px; overflow: hidden; text-overflow: ellipsis; \">&quot;deleterious(0.04)&quot;</td><td style=\"white-space: nowrap; max-width: 500px; overflow: hidden; text-overflow: ellipsis; \">&quot;possibly_damaging(0.869)&quot;</td><td style=\"white-space: nowrap; max-width: 500px; overflow: hidden; text-overflow: ellipsis; \">8.46e-01</td><td style=\"white-space: nowrap; max-width: 500px; overflow: hidden; text-overflow: ellipsis; \">4.86e-01</td><td style=\"white-space: nowrap; max-width: 500px; overflow: hidden; text-overflow: ellipsis; \">9.95e-01</td><td style=\"white-space: nowrap; max-width: 500px; overflow: hidden; text-overflow: ellipsis; \">1.01e+00</td><td style=\"white-space: nowrap; max-width: 500px; overflow: hidden; text-overflow: ellipsis; \">&quot;22:50197241:A:G&quot;</td><td style=\"white-space: nowrap; max-width: 500px; overflow: hidden; text-overflow: ellipsis; \">chr22:50197241</td><td style=\"white-space: nowrap; max-width: 500px; overflow: hidden; text-overflow: ellipsis; \">[&quot;A&quot;,&quot;G&quot;]</td></tr>\n",
       "<tr><td style=\"white-space: nowrap; max-width: 500px; overflow: hidden; text-overflow: ellipsis; \">&quot;TRABD&quot;</td><td style=\"white-space: nowrap; max-width: 500px; overflow: hidden; text-overflow: ellipsis; \">&quot;ENST00000303434&quot;</td><td style=\"white-space: nowrap; max-width: 500px; overflow: hidden; text-overflow: ellipsis; \">&quot;ENSG00000170638&quot;</td><td style=\"white-space: nowrap; max-width: 500px; overflow: hidden; text-overflow: ellipsis; \">&quot;CCDS14086.1&quot;</td><td style=\"white-space: nowrap; max-width: 500px; overflow: hidden; text-overflow: ellipsis; \">&quot;missense_variant&amp;splice_region_variant&quot;</td><td style=\"white-space: nowrap; max-width: 500px; overflow: hidden; text-overflow: ellipsis; \">&quot;ENST00000303434.4:c.421A&gt;T&quot;</td><td style=\"white-space: nowrap; max-width: 500px; overflow: hidden; text-overflow: ellipsis; \">&quot;ENSP00000305664.4:p.Asn141Tyr&quot;</td><td style=\"white-space: nowrap; max-width: 500px; overflow: hidden; text-overflow: ellipsis; \">&quot;N/Y&quot;</td><td style=\"white-space: nowrap; max-width: 500px; overflow: hidden; text-overflow: ellipsis; \">&quot;GAA&quot;</td><td style=\"white-space: nowrap; max-width: 500px; overflow: hidden; text-overflow: ellipsis; \">&quot;deleterious(0.01)&quot;</td><td style=\"white-space: nowrap; max-width: 500px; overflow: hidden; text-overflow: ellipsis; \">&quot;benign(0.444)&quot;</td><td style=\"white-space: nowrap; max-width: 500px; overflow: hidden; text-overflow: ellipsis; \">8.46e-01</td><td style=\"white-space: nowrap; max-width: 500px; overflow: hidden; text-overflow: ellipsis; \">5.61e-01</td><td style=\"white-space: nowrap; max-width: 500px; overflow: hidden; text-overflow: ellipsis; \">9.98e-01</td><td style=\"white-space: nowrap; max-width: 500px; overflow: hidden; text-overflow: ellipsis; \">6.86e-01</td><td style=\"white-space: nowrap; max-width: 500px; overflow: hidden; text-overflow: ellipsis; \">&quot;22:50197241:A:T&quot;</td><td style=\"white-space: nowrap; max-width: 500px; overflow: hidden; text-overflow: ellipsis; \">chr22:50197241</td><td style=\"white-space: nowrap; max-width: 500px; overflow: hidden; text-overflow: ellipsis; \">[&quot;A&quot;,&quot;T&quot;]</td></tr>\n",
       "<tr><td style=\"white-space: nowrap; max-width: 500px; overflow: hidden; text-overflow: ellipsis; \">&quot;TRABD&quot;</td><td style=\"white-space: nowrap; max-width: 500px; overflow: hidden; text-overflow: ellipsis; \">&quot;ENST00000303434&quot;</td><td style=\"white-space: nowrap; max-width: 500px; overflow: hidden; text-overflow: ellipsis; \">&quot;ENSG00000170638&quot;</td><td style=\"white-space: nowrap; max-width: 500px; overflow: hidden; text-overflow: ellipsis; \">&quot;CCDS14086.1&quot;</td><td style=\"white-space: nowrap; max-width: 500px; overflow: hidden; text-overflow: ellipsis; \">&quot;missense_variant&amp;splice_region_variant&quot;</td><td style=\"white-space: nowrap; max-width: 500px; overflow: hidden; text-overflow: ellipsis; \">&quot;ENST00000303434.4:c.422A&gt;C&quot;</td><td style=\"white-space: nowrap; max-width: 500px; overflow: hidden; text-overflow: ellipsis; \">&quot;ENSP00000305664.4:p.Asn141Thr&quot;</td><td style=\"white-space: nowrap; max-width: 500px; overflow: hidden; text-overflow: ellipsis; \">&quot;N/T&quot;</td><td style=\"white-space: nowrap; max-width: 500px; overflow: hidden; text-overflow: ellipsis; \">&quot;AAC&quot;</td><td style=\"white-space: nowrap; max-width: 500px; overflow: hidden; text-overflow: ellipsis; \">&quot;deleterious(0.01)&quot;</td><td style=\"white-space: nowrap; max-width: 500px; overflow: hidden; text-overflow: ellipsis; \">&quot;possibly_damaging(0.869)&quot;</td><td style=\"white-space: nowrap; max-width: 500px; overflow: hidden; text-overflow: ellipsis; \">8.46e-01</td><td style=\"white-space: nowrap; max-width: 500px; overflow: hidden; text-overflow: ellipsis; \">3.74e-01</td><td style=\"white-space: nowrap; max-width: 500px; overflow: hidden; text-overflow: ellipsis; \">9.95e-01</td><td style=\"white-space: nowrap; max-width: 500px; overflow: hidden; text-overflow: ellipsis; \">9.45e-01</td><td style=\"white-space: nowrap; max-width: 500px; overflow: hidden; text-overflow: ellipsis; \">&quot;22:50197242:A:C&quot;</td><td style=\"white-space: nowrap; max-width: 500px; overflow: hidden; text-overflow: ellipsis; \">chr22:50197242</td><td style=\"white-space: nowrap; max-width: 500px; overflow: hidden; text-overflow: ellipsis; \">[&quot;A&quot;,&quot;C&quot;]</td></tr>\n",
       "<tr><td style=\"white-space: nowrap; max-width: 500px; overflow: hidden; text-overflow: ellipsis; \">&quot;TRABD&quot;</td><td style=\"white-space: nowrap; max-width: 500px; overflow: hidden; text-overflow: ellipsis; \">&quot;ENST00000303434&quot;</td><td style=\"white-space: nowrap; max-width: 500px; overflow: hidden; text-overflow: ellipsis; \">&quot;ENSG00000170638&quot;</td><td style=\"white-space: nowrap; max-width: 500px; overflow: hidden; text-overflow: ellipsis; \">&quot;CCDS14086.1&quot;</td><td style=\"white-space: nowrap; max-width: 500px; overflow: hidden; text-overflow: ellipsis; \">&quot;missense_variant&amp;splice_region_variant&quot;</td><td style=\"white-space: nowrap; max-width: 500px; overflow: hidden; text-overflow: ellipsis; \">&quot;ENST00000303434.4:c.422A&gt;G&quot;</td><td style=\"white-space: nowrap; max-width: 500px; overflow: hidden; text-overflow: ellipsis; \">&quot;ENSP00000305664.4:p.Asn141Ser&quot;</td><td style=\"white-space: nowrap; max-width: 500px; overflow: hidden; text-overflow: ellipsis; \">&quot;N/S&quot;</td><td style=\"white-space: nowrap; max-width: 500px; overflow: hidden; text-overflow: ellipsis; \">&quot;AAC&quot;</td><td style=\"white-space: nowrap; max-width: 500px; overflow: hidden; text-overflow: ellipsis; \">&quot;tolerated(0.23)&quot;</td><td style=\"white-space: nowrap; max-width: 500px; overflow: hidden; text-overflow: ellipsis; \">&quot;benign(0.241)&quot;</td><td style=\"white-space: nowrap; max-width: 500px; overflow: hidden; text-overflow: ellipsis; \">8.46e-01</td><td style=\"white-space: nowrap; max-width: 500px; overflow: hidden; text-overflow: ellipsis; \">1.43e-01</td><td style=\"white-space: nowrap; max-width: 500px; overflow: hidden; text-overflow: ellipsis; \">9.99e-01</td><td style=\"white-space: nowrap; max-width: 500px; overflow: hidden; text-overflow: ellipsis; \">3.72e-01</td><td style=\"white-space: nowrap; max-width: 500px; overflow: hidden; text-overflow: ellipsis; \">&quot;22:50197242:A:G&quot;</td><td style=\"white-space: nowrap; max-width: 500px; overflow: hidden; text-overflow: ellipsis; \">chr22:50197242</td><td style=\"white-space: nowrap; max-width: 500px; overflow: hidden; text-overflow: ellipsis; \">[&quot;A&quot;,&quot;G&quot;]</td></tr>\n",
       "<tr><td style=\"white-space: nowrap; max-width: 500px; overflow: hidden; text-overflow: ellipsis; \">&quot;TRABD&quot;</td><td style=\"white-space: nowrap; max-width: 500px; overflow: hidden; text-overflow: ellipsis; \">&quot;ENST00000303434&quot;</td><td style=\"white-space: nowrap; max-width: 500px; overflow: hidden; text-overflow: ellipsis; \">&quot;ENSG00000170638&quot;</td><td style=\"white-space: nowrap; max-width: 500px; overflow: hidden; text-overflow: ellipsis; \">&quot;CCDS14086.1&quot;</td><td style=\"white-space: nowrap; max-width: 500px; overflow: hidden; text-overflow: ellipsis; \">&quot;missense_variant&amp;splice_region_variant&quot;</td><td style=\"white-space: nowrap; max-width: 500px; overflow: hidden; text-overflow: ellipsis; \">&quot;ENST00000303434.4:c.422A&gt;T&quot;</td><td style=\"white-space: nowrap; max-width: 500px; overflow: hidden; text-overflow: ellipsis; \">&quot;ENSP00000305664.4:p.Asn141Ile&quot;</td><td style=\"white-space: nowrap; max-width: 500px; overflow: hidden; text-overflow: ellipsis; \">&quot;N/I&quot;</td><td style=\"white-space: nowrap; max-width: 500px; overflow: hidden; text-overflow: ellipsis; \">&quot;AAC&quot;</td><td style=\"white-space: nowrap; max-width: 500px; overflow: hidden; text-overflow: ellipsis; \">&quot;deleterious(0)&quot;</td><td style=\"white-space: nowrap; max-width: 500px; overflow: hidden; text-overflow: ellipsis; \">&quot;probably_damaging(0.921)&quot;</td><td style=\"white-space: nowrap; max-width: 500px; overflow: hidden; text-overflow: ellipsis; \">8.46e-01</td><td style=\"white-space: nowrap; max-width: 500px; overflow: hidden; text-overflow: ellipsis; \">5.84e-01</td><td style=\"white-space: nowrap; max-width: 500px; overflow: hidden; text-overflow: ellipsis; \">9.93e-01</td><td style=\"white-space: nowrap; max-width: 500px; overflow: hidden; text-overflow: ellipsis; \">1.11e+00</td><td style=\"white-space: nowrap; max-width: 500px; overflow: hidden; text-overflow: ellipsis; \">&quot;22:50197242:A:T&quot;</td><td style=\"white-space: nowrap; max-width: 500px; overflow: hidden; text-overflow: ellipsis; \">chr22:50197242</td><td style=\"white-space: nowrap; max-width: 500px; overflow: hidden; text-overflow: ellipsis; \">[&quot;A&quot;,&quot;T&quot;]</td></tr>\n",
       "<tr><td style=\"white-space: nowrap; max-width: 500px; overflow: hidden; text-overflow: ellipsis; \">&quot;TRABD&quot;</td><td style=\"white-space: nowrap; max-width: 500px; overflow: hidden; text-overflow: ellipsis; \">&quot;ENST00000303434&quot;</td><td style=\"white-space: nowrap; max-width: 500px; overflow: hidden; text-overflow: ellipsis; \">&quot;ENSG00000170638&quot;</td><td style=\"white-space: nowrap; max-width: 500px; overflow: hidden; text-overflow: ellipsis; \">&quot;CCDS14086.1&quot;</td><td style=\"white-space: nowrap; max-width: 500px; overflow: hidden; text-overflow: ellipsis; \">&quot;missense_variant&amp;splice_region_variant&quot;</td><td style=\"white-space: nowrap; max-width: 500px; overflow: hidden; text-overflow: ellipsis; \">&quot;ENST00000303434.4:c.423C&gt;A&quot;</td><td style=\"white-space: nowrap; max-width: 500px; overflow: hidden; text-overflow: ellipsis; \">&quot;ENSP00000305664.4:p.Asn141Lys&quot;</td><td style=\"white-space: nowrap; max-width: 500px; overflow: hidden; text-overflow: ellipsis; \">&quot;N/K&quot;</td><td style=\"white-space: nowrap; max-width: 500px; overflow: hidden; text-overflow: ellipsis; \">&quot;ACG&quot;</td><td style=\"white-space: nowrap; max-width: 500px; overflow: hidden; text-overflow: ellipsis; \">&quot;deleterious(0.01)&quot;</td><td style=\"white-space: nowrap; max-width: 500px; overflow: hidden; text-overflow: ellipsis; \">&quot;possibly_damaging(0.597)&quot;</td><td style=\"white-space: nowrap; max-width: 500px; overflow: hidden; text-overflow: ellipsis; \">8.46e-01</td><td style=\"white-space: nowrap; max-width: 500px; overflow: hidden; text-overflow: ellipsis; \">4.99e-01</td><td style=\"white-space: nowrap; max-width: 500px; overflow: hidden; text-overflow: ellipsis; \">9.97e-01</td><td style=\"white-space: nowrap; max-width: 500px; overflow: hidden; text-overflow: ellipsis; \">7.79e-01</td><td style=\"white-space: nowrap; max-width: 500px; overflow: hidden; text-overflow: ellipsis; \">&quot;22:50197243:C:A&quot;</td><td style=\"white-space: nowrap; max-width: 500px; overflow: hidden; text-overflow: ellipsis; \">chr22:50197243</td><td style=\"white-space: nowrap; max-width: 500px; overflow: hidden; text-overflow: ellipsis; \">[&quot;C&quot;,&quot;A&quot;]</td></tr>\n",
       "<tr><td style=\"white-space: nowrap; max-width: 500px; overflow: hidden; text-overflow: ellipsis; \">&quot;TRABD&quot;</td><td style=\"white-space: nowrap; max-width: 500px; overflow: hidden; text-overflow: ellipsis; \">&quot;ENST00000303434&quot;</td><td style=\"white-space: nowrap; max-width: 500px; overflow: hidden; text-overflow: ellipsis; \">&quot;ENSG00000170638&quot;</td><td style=\"white-space: nowrap; max-width: 500px; overflow: hidden; text-overflow: ellipsis; \">&quot;CCDS14086.1&quot;</td><td style=\"white-space: nowrap; max-width: 500px; overflow: hidden; text-overflow: ellipsis; \">&quot;missense_variant&amp;splice_region_variant&quot;</td><td style=\"white-space: nowrap; max-width: 500px; overflow: hidden; text-overflow: ellipsis; \">&quot;ENST00000303434.4:c.423C&gt;G&quot;</td><td style=\"white-space: nowrap; max-width: 500px; overflow: hidden; text-overflow: ellipsis; \">&quot;ENSP00000305664.4:p.Asn141Lys&quot;</td><td style=\"white-space: nowrap; max-width: 500px; overflow: hidden; text-overflow: ellipsis; \">&quot;N/K&quot;</td><td style=\"white-space: nowrap; max-width: 500px; overflow: hidden; text-overflow: ellipsis; \">&quot;ACG&quot;</td><td style=\"white-space: nowrap; max-width: 500px; overflow: hidden; text-overflow: ellipsis; \">&quot;deleterious(0.01)&quot;</td><td style=\"white-space: nowrap; max-width: 500px; overflow: hidden; text-overflow: ellipsis; \">&quot;possibly_damaging(0.597)&quot;</td><td style=\"white-space: nowrap; max-width: 500px; overflow: hidden; text-overflow: ellipsis; \">8.46e-01</td><td style=\"white-space: nowrap; max-width: 500px; overflow: hidden; text-overflow: ellipsis; \">4.99e-01</td><td style=\"white-space: nowrap; max-width: 500px; overflow: hidden; text-overflow: ellipsis; \">9.97e-01</td><td style=\"white-space: nowrap; max-width: 500px; overflow: hidden; text-overflow: ellipsis; \">7.79e-01</td><td style=\"white-space: nowrap; max-width: 500px; overflow: hidden; text-overflow: ellipsis; \">&quot;22:50197243:C:G&quot;</td><td style=\"white-space: nowrap; max-width: 500px; overflow: hidden; text-overflow: ellipsis; \">chr22:50197243</td><td style=\"white-space: nowrap; max-width: 500px; overflow: hidden; text-overflow: ellipsis; \">[&quot;C&quot;,&quot;G&quot;]</td></tr>\n",
       "<tr><td style=\"white-space: nowrap; max-width: 500px; overflow: hidden; text-overflow: ellipsis; \">&quot;TRABD&quot;</td><td style=\"white-space: nowrap; max-width: 500px; overflow: hidden; text-overflow: ellipsis; \">&quot;ENST00000303434&quot;</td><td style=\"white-space: nowrap; max-width: 500px; overflow: hidden; text-overflow: ellipsis; \">&quot;ENSG00000170638&quot;</td><td style=\"white-space: nowrap; max-width: 500px; overflow: hidden; text-overflow: ellipsis; \">&quot;CCDS14086.1&quot;</td><td style=\"white-space: nowrap; max-width: 500px; overflow: hidden; text-overflow: ellipsis; \">&quot;missense_variant&quot;</td><td style=\"white-space: nowrap; max-width: 500px; overflow: hidden; text-overflow: ellipsis; \">&quot;ENST00000303434.4:c.424G&gt;A&quot;</td><td style=\"white-space: nowrap; max-width: 500px; overflow: hidden; text-overflow: ellipsis; \">&quot;ENSP00000305664.4:p.Gly142Arg&quot;</td><td style=\"white-space: nowrap; max-width: 500px; overflow: hidden; text-overflow: ellipsis; \">&quot;G/R&quot;</td><td style=\"white-space: nowrap; max-width: 500px; overflow: hidden; text-overflow: ellipsis; \">&quot;CGG&quot;</td><td style=\"white-space: nowrap; max-width: 500px; overflow: hidden; text-overflow: ellipsis; \">&quot;deleterious(0.01)&quot;</td><td style=\"white-space: nowrap; max-width: 500px; overflow: hidden; text-overflow: ellipsis; \">&quot;probably_damaging(1)&quot;</td><td style=\"white-space: nowrap; max-width: 500px; overflow: hidden; text-overflow: ellipsis; \">8.46e-01</td><td style=\"white-space: nowrap; max-width: 500px; overflow: hidden; text-overflow: ellipsis; \">5.38e-01</td><td style=\"white-space: nowrap; max-width: 500px; overflow: hidden; text-overflow: ellipsis; \">9.92e-01</td><td style=\"white-space: nowrap; max-width: 500px; overflow: hidden; text-overflow: ellipsis; \">1.15e+00</td><td style=\"white-space: nowrap; max-width: 500px; overflow: hidden; text-overflow: ellipsis; \">&quot;22:50197244:G:A&quot;</td><td style=\"white-space: nowrap; max-width: 500px; overflow: hidden; text-overflow: ellipsis; \">chr22:50197244</td><td style=\"white-space: nowrap; max-width: 500px; overflow: hidden; text-overflow: ellipsis; \">[&quot;G&quot;,&quot;A&quot;]</td></tr>\n",
       "<tr><td style=\"white-space: nowrap; max-width: 500px; overflow: hidden; text-overflow: ellipsis; \">&quot;TRABD&quot;</td><td style=\"white-space: nowrap; max-width: 500px; overflow: hidden; text-overflow: ellipsis; \">&quot;ENST00000303434&quot;</td><td style=\"white-space: nowrap; max-width: 500px; overflow: hidden; text-overflow: ellipsis; \">&quot;ENSG00000170638&quot;</td><td style=\"white-space: nowrap; max-width: 500px; overflow: hidden; text-overflow: ellipsis; \">&quot;CCDS14086.1&quot;</td><td style=\"white-space: nowrap; max-width: 500px; overflow: hidden; text-overflow: ellipsis; \">&quot;missense_variant&quot;</td><td style=\"white-space: nowrap; max-width: 500px; overflow: hidden; text-overflow: ellipsis; \">&quot;ENST00000303434.4:c.424G&gt;C&quot;</td><td style=\"white-space: nowrap; max-width: 500px; overflow: hidden; text-overflow: ellipsis; \">&quot;ENSP00000305664.4:p.Gly142Arg&quot;</td><td style=\"white-space: nowrap; max-width: 500px; overflow: hidden; text-overflow: ellipsis; \">&quot;G/R&quot;</td><td style=\"white-space: nowrap; max-width: 500px; overflow: hidden; text-overflow: ellipsis; \">&quot;CGG&quot;</td><td style=\"white-space: nowrap; max-width: 500px; overflow: hidden; text-overflow: ellipsis; \">&quot;deleterious(0.01)&quot;</td><td style=\"white-space: nowrap; max-width: 500px; overflow: hidden; text-overflow: ellipsis; \">&quot;probably_damaging(1)&quot;</td><td style=\"white-space: nowrap; max-width: 500px; overflow: hidden; text-overflow: ellipsis; \">8.46e-01</td><td style=\"white-space: nowrap; max-width: 500px; overflow: hidden; text-overflow: ellipsis; \">5.38e-01</td><td style=\"white-space: nowrap; max-width: 500px; overflow: hidden; text-overflow: ellipsis; \">9.92e-01</td><td style=\"white-space: nowrap; max-width: 500px; overflow: hidden; text-overflow: ellipsis; \">1.15e+00</td><td style=\"white-space: nowrap; max-width: 500px; overflow: hidden; text-overflow: ellipsis; \">&quot;22:50197244:G:C&quot;</td><td style=\"white-space: nowrap; max-width: 500px; overflow: hidden; text-overflow: ellipsis; \">chr22:50197244</td><td style=\"white-space: nowrap; max-width: 500px; overflow: hidden; text-overflow: ellipsis; \">[&quot;G&quot;,&quot;C&quot;]</td></tr>\n",
       "</tbody></table><p style=\"background: #fdd; padding: 0.4em;\">showing top 10 rows</p>\n"
      ],
      "text/plain": [
       "+-----------+-------------------+-------------------+---------------+\n",
       "| gene_name | ENST              | ENSG              | CCDS          |\n",
       "+-----------+-------------------+-------------------+---------------+\n",
       "| str       | str               | str               | str           |\n",
       "+-----------+-------------------+-------------------+---------------+\n",
       "| \"TRABD\"   | \"ENST00000303434\" | \"ENSG00000170638\" | \"CCDS14086.1\" |\n",
       "| \"TRABD\"   | \"ENST00000303434\" | \"ENSG00000170638\" | \"CCDS14086.1\" |\n",
       "| \"TRABD\"   | \"ENST00000303434\" | \"ENSG00000170638\" | \"CCDS14086.1\" |\n",
       "| \"TRABD\"   | \"ENST00000303434\" | \"ENSG00000170638\" | \"CCDS14086.1\" |\n",
       "| \"TRABD\"   | \"ENST00000303434\" | \"ENSG00000170638\" | \"CCDS14086.1\" |\n",
       "| \"TRABD\"   | \"ENST00000303434\" | \"ENSG00000170638\" | \"CCDS14086.1\" |\n",
       "| \"TRABD\"   | \"ENST00000303434\" | \"ENSG00000170638\" | \"CCDS14086.1\" |\n",
       "| \"TRABD\"   | \"ENST00000303434\" | \"ENSG00000170638\" | \"CCDS14086.1\" |\n",
       "| \"TRABD\"   | \"ENST00000303434\" | \"ENSG00000170638\" | \"CCDS14086.1\" |\n",
       "| \"TRABD\"   | \"ENST00000303434\" | \"ENSG00000170638\" | \"CCDS14086.1\" |\n",
       "+-----------+-------------------+-------------------+---------------+\n",
       "\n",
       "+------------------------------------------+------------------------------+\n",
       "| Consequence                              | HGVSc                        |\n",
       "+------------------------------------------+------------------------------+\n",
       "| str                                      | str                          |\n",
       "+------------------------------------------+------------------------------+\n",
       "| \"missense_variant&splice_region_variant\" | \"ENST00000303434.4:c.421A>C\" |\n",
       "| \"missense_variant&splice_region_variant\" | \"ENST00000303434.4:c.421A>G\" |\n",
       "| \"missense_variant&splice_region_variant\" | \"ENST00000303434.4:c.421A>T\" |\n",
       "| \"missense_variant&splice_region_variant\" | \"ENST00000303434.4:c.422A>C\" |\n",
       "| \"missense_variant&splice_region_variant\" | \"ENST00000303434.4:c.422A>G\" |\n",
       "| \"missense_variant&splice_region_variant\" | \"ENST00000303434.4:c.422A>T\" |\n",
       "| \"missense_variant&splice_region_variant\" | \"ENST00000303434.4:c.423C>A\" |\n",
       "| \"missense_variant&splice_region_variant\" | \"ENST00000303434.4:c.423C>G\" |\n",
       "| \"missense_variant\"                       | \"ENST00000303434.4:c.424G>A\" |\n",
       "| \"missense_variant\"                       | \"ENST00000303434.4:c.424G>C\" |\n",
       "+------------------------------------------+------------------------------+\n",
       "\n",
       "+---------------------------------+-------------+---------+\n",
       "| HGVSp                           | Amino_acids | context |\n",
       "+---------------------------------+-------------+---------+\n",
       "| str                             | str         | str     |\n",
       "+---------------------------------+-------------+---------+\n",
       "| \"ENSP00000305664.4:p.Asn141His\" | \"N/H\"       | \"GAA\"   |\n",
       "| \"ENSP00000305664.4:p.Asn141Asp\" | \"N/D\"       | \"GAA\"   |\n",
       "| \"ENSP00000305664.4:p.Asn141Tyr\" | \"N/Y\"       | \"GAA\"   |\n",
       "| \"ENSP00000305664.4:p.Asn141Thr\" | \"N/T\"       | \"AAC\"   |\n",
       "| \"ENSP00000305664.4:p.Asn141Ser\" | \"N/S\"       | \"AAC\"   |\n",
       "| \"ENSP00000305664.4:p.Asn141Ile\" | \"N/I\"       | \"AAC\"   |\n",
       "| \"ENSP00000305664.4:p.Asn141Lys\" | \"N/K\"       | \"ACG\"   |\n",
       "| \"ENSP00000305664.4:p.Asn141Lys\" | \"N/K\"       | \"ACG\"   |\n",
       "| \"ENSP00000305664.4:p.Gly142Arg\" | \"G/R\"       | \"CGG\"   |\n",
       "| \"ENSP00000305664.4:p.Gly142Arg\" | \"G/R\"       | \"CGG\"   |\n",
       "+---------------------------------+-------------+---------+\n",
       "\n",
       "+---------------------+----------------------------+----------+-------------+\n",
       "| SIFT                | PolyPhen                   |  obs_exp | mis_badness |\n",
       "+---------------------+----------------------------+----------+-------------+\n",
       "| str                 | str                        |  float64 |     float64 |\n",
       "+---------------------+----------------------------+----------+-------------+\n",
       "| \"tolerated(0.1)\"    | \"possibly_damaging(0.566)\" | 8.46e-01 |    3.89e-01 |\n",
       "| \"deleterious(0.04)\" | \"possibly_damaging(0.869)\" | 8.46e-01 |    4.86e-01 |\n",
       "| \"deleterious(0.01)\" | \"benign(0.444)\"            | 8.46e-01 |    5.61e-01 |\n",
       "| \"deleterious(0.01)\" | \"possibly_damaging(0.869)\" | 8.46e-01 |    3.74e-01 |\n",
       "| \"tolerated(0.23)\"   | \"benign(0.241)\"            | 8.46e-01 |    1.43e-01 |\n",
       "| \"deleterious(0)\"    | \"probably_damaging(0.921)\" | 8.46e-01 |    5.84e-01 |\n",
       "| \"deleterious(0.01)\" | \"possibly_damaging(0.597)\" | 8.46e-01 |    4.99e-01 |\n",
       "| \"deleterious(0.01)\" | \"possibly_damaging(0.597)\" | 8.46e-01 |    4.99e-01 |\n",
       "| \"deleterious(0.01)\" | \"probably_damaging(1)\"     | 8.46e-01 |    5.38e-01 |\n",
       "| \"deleterious(0.01)\" | \"probably_damaging(1)\"     | 8.46e-01 |    5.38e-01 |\n",
       "+---------------------+----------------------------+----------+-------------+\n",
       "\n",
       "+--------------+----------+-------------------+----------------+------------+\n",
       "| fitted_score |      MPC | variant           | locus          | alleles    |\n",
       "+--------------+----------+-------------------+----------------+------------+\n",
       "|      float64 |  float64 | str               | locus<GRCh38>  | array<str> |\n",
       "+--------------+----------+-------------------+----------------+------------+\n",
       "|     9.98e-01 | 6.99e-01 | \"22:50197241:A:C\" | chr22:50197241 | [\"A\",\"C\"]  |\n",
       "|     9.95e-01 | 1.01e+00 | \"22:50197241:A:G\" | chr22:50197241 | [\"A\",\"G\"]  |\n",
       "|     9.98e-01 | 6.86e-01 | \"22:50197241:A:T\" | chr22:50197241 | [\"A\",\"T\"]  |\n",
       "|     9.95e-01 | 9.45e-01 | \"22:50197242:A:C\" | chr22:50197242 | [\"A\",\"C\"]  |\n",
       "|     9.99e-01 | 3.72e-01 | \"22:50197242:A:G\" | chr22:50197242 | [\"A\",\"G\"]  |\n",
       "|     9.93e-01 | 1.11e+00 | \"22:50197242:A:T\" | chr22:50197242 | [\"A\",\"T\"]  |\n",
       "|     9.97e-01 | 7.79e-01 | \"22:50197243:C:A\" | chr22:50197243 | [\"C\",\"A\"]  |\n",
       "|     9.97e-01 | 7.79e-01 | \"22:50197243:C:G\" | chr22:50197243 | [\"C\",\"G\"]  |\n",
       "|     9.92e-01 | 1.15e+00 | \"22:50197244:G:A\" | chr22:50197244 | [\"G\",\"A\"]  |\n",
       "|     9.92e-01 | 1.15e+00 | \"22:50197244:G:C\" | chr22:50197244 | [\"G\",\"C\"]  |\n",
       "+--------------+----------+-------------------+----------------+------------+\n",
       "showing top 10 rows"
      ]
     },
     "metadata": {},
     "output_type": "display_data"
    }
   ],
   "source": [
    "MPC = hl.read_table(\"resources/MPC_chr22.ht\")\n",
    "MPC.show()"
   ]
  },
  {
   "cell_type": "code",
   "execution_count": 64,
   "id": "f25728ce",
   "metadata": {
    "ExecuteTime": {
     "end_time": "2022-01-17T11:09:43.146251Z",
     "start_time": "2022-01-17T11:09:11.085062Z"
    }
   },
   "outputs": [
    {
     "name": "stderr",
     "output_type": "stream",
     "text": [
      "2022-01-23 19:29:19 Hail: INFO: Coerced sorted dataset              (0 + 4) / 4]\n",
      "2022-01-23 19:29:22 Hail: INFO: Coerced sorted dataset              (0 + 4) / 4]\n",
      "2022-01-23 19:29:33 Hail: INFO: Coerced sorted dataset              (0 + 1) / 1]\n",
      "2022-01-23 19:29:43 Hail: INFO: Coerced sorted dataset              (2 + 2) / 4]\n",
      "[Stage 363:============================>                            (2 + 2) / 4]\r"
     ]
    },
    {
     "name": "stdout",
     "output_type": "stream",
     "text": [
      "--> The number of variants with MPC > 2 is : 8\n"
     ]
    },
    {
     "name": "stderr",
     "output_type": "stream",
     "text": [
      "[Stage 363:==========================================>              (3 + 1) / 4]\r"
     ]
    }
   ],
   "source": [
    "MPC = MPC.key_by(\"locus\", \"alleles\")\n",
    "mt = mt.key_rows_by(mt.locus, mt.alleles)\n",
    "mt = mt.annotate_rows(MPC = MPC[mt.locus, mt.alleles].MPC) # locus와 allele을 기준으로 두 matrix table을 연결합니다\n",
    "print(\"--> The number of variants with MPC > 2 is :\", mt.filter_rows(mt.MPC >= 2).rows().count())"
   ]
  },
  {
   "cell_type": "markdown",
   "id": "11c8dd74",
   "metadata": {
    "ExecuteTime": {
     "end_time": "2022-01-16T05:11:52.210427Z",
     "start_time": "2022-01-16T05:11:41.354819Z"
    }
   },
   "source": [
    "MPC score가 잘 annotate 된 것으로 확인됩니다. MPC가 2이상인 변이를 선별해보니 총 8개가 존재합니다. \n",
    "\n",
    "이번에는 allele frequency (AF)에 대한 public database를 사용하여, annotation을 해봅시다. 현재 VCF에는 1000 Genome Project 팀에서 미리 만들어둔 AF 정보가 존재하지만, 튜토리얼을 위해 없다고 가정하고 진행해보겠습니다. 가장 널리 사용되는 AF 데이터는 [gnomAD](https://gnomad.broadinstitute.org/)입니다. 우리는 튜토리얼을 위해, [한국인 전장유전체](https://www.science.org/doi/10.1126/sciadv.aaz7835)과 [일본인 전장유전체](https://togovar.biosciencedbc.jp) 연구에서 얻은 AF를 포함한 AF를 `AF` 컬럼에 저장했고, 이 정보를 사용하도록 하겠습니다.  "
   ]
  },
  {
   "cell_type": "code",
   "execution_count": 65,
   "id": "a6762c4f-0a14-465d-bb43-3119e02208ca",
   "metadata": {
    "ExecuteTime": {
     "end_time": "2022-01-17T11:09:43.159663Z",
     "start_time": "2022-01-17T11:09:43.147234Z"
    },
    "scrolled": true
   },
   "outputs": [
    {
     "name": "stdout",
     "output_type": "stream",
     "text": [
      "----------------------------------------\n",
      "Global fields:\n",
      "    None\n",
      "----------------------------------------\n",
      "Row fields:\n",
      "    'locus': locus<GRCh38> \n",
      "    'alleles': array<str> \n",
      "    'AC': int32 \n",
      "    'AN': int32 \n",
      "    'AF': float64 \n",
      "    'homozygote_count': int32 \n",
      "----------------------------------------\n",
      "Key: ['locus', 'alleles']\n",
      "----------------------------------------\n"
     ]
    }
   ],
   "source": [
    "AF_table = hl.read_table('resources/gnomadv3_1_non_neuro_adj_chr22.ht')\n",
    "AF_table.describe()"
   ]
  },
  {
   "cell_type": "markdown",
   "id": "2cb98883",
   "metadata": {},
   "source": [
    "위와 마찬가지로 locus와 allele을 사용하여 AF 정보를 추가하고자 합니다. "
   ]
  },
  {
   "cell_type": "code",
   "execution_count": 66,
   "id": "6e33dba8",
   "metadata": {
    "ExecuteTime": {
     "end_time": "2022-01-17T11:09:43.186892Z",
     "start_time": "2022-01-17T11:09:43.160814Z"
    }
   },
   "outputs": [
    {
     "name": "stdout",
     "output_type": "stream",
     "text": [
      "----------------------------------------\n",
      "Global fields:\n",
      "    None\n",
      "----------------------------------------\n",
      "Column fields:\n",
      "    's': str\n",
      "    'fam': str\n",
      "    'pat_id': str\n",
      "    'mat_id': str\n",
      "    'isFemale': bool\n",
      "    'phenotype': bool\n",
      "    'ROLE': str\n",
      "    'population': str\n",
      "    'height': float64\n",
      "    'NVIQ': float64\n",
      "    'scores': array<float64>\n",
      "----------------------------------------\n",
      "Row fields:\n",
      "    'locus': locus<GRCh38>\n",
      "    'alleles': array<str>\n",
      "    'rsid': str\n",
      "    'qual': float64\n",
      "    'filters': set<str>\n",
      "    'info': struct {\n",
      "        AC: array<int32>, \n",
      "        AF: array<float64>, \n",
      "        AN: int32, \n",
      "        BaseQRankSum: float64, \n",
      "        ClippingRankSum: float64, \n",
      "        DP: int32, \n",
      "        DS: bool, \n",
      "        END: int32, \n",
      "        FS: float64, \n",
      "        HaplotypeScore: float64, \n",
      "        InbreedingCoeff: float64, \n",
      "        MLEAC: array<int32>, \n",
      "        MLEAF: array<float64>, \n",
      "        MQ: float64, \n",
      "        MQ0: int32, \n",
      "        MQRankSum: float64, \n",
      "        NEGATIVE_TRAIN_SITE: bool, \n",
      "        POSITIVE_TRAIN_SITE: bool, \n",
      "        QD: float64, \n",
      "        RAW_MQ: float64, \n",
      "        ReadPosRankSum: float64, \n",
      "        SOR: float64, \n",
      "        VQSLOD: float64, \n",
      "        VariantType: str, \n",
      "        culprit: str, \n",
      "        AN_EUR: int32, \n",
      "        AN_EAS: int32, \n",
      "        AN_AMR: int32, \n",
      "        AN_SAS: int32, \n",
      "        AN_AFR: int32, \n",
      "        AC_EUR: array<int32>, \n",
      "        AC_EAS: array<int32>, \n",
      "        AC_AMR: array<int32>, \n",
      "        AC_SAS: array<int32>, \n",
      "        AC_AFR: array<int32>, \n",
      "        AC_Hom_EUR: array<int32>, \n",
      "        AC_Hom_EAS: array<int32>, \n",
      "        AC_Hom_AMR: array<int32>, \n",
      "        AC_Hom_SAS: array<int32>, \n",
      "        AC_Hom_AFR: array<int32>, \n",
      "        AC_Hom: array<int32>, \n",
      "        AC_Het_EUR: array<int32>, \n",
      "        AC_Het_EAS: array<int32>, \n",
      "        AC_Het_AMR: array<int32>, \n",
      "        AC_Het_SAS: array<int32>, \n",
      "        AC_Het_AFR: array<int32>, \n",
      "        AC_Het: array<int32>, \n",
      "        AF_EUR: array<float64>, \n",
      "        AF_EAS: array<float64>, \n",
      "        AF_AMR: array<float64>, \n",
      "        AF_SAS: array<float64>, \n",
      "        AF_AFR: array<float64>, \n",
      "        HWE_EUR: array<float64>, \n",
      "        HWE_EAS: array<float64>, \n",
      "        HWE_AMR: array<float64>, \n",
      "        HWE_SAS: array<float64>, \n",
      "        HWE_AFR: array<float64>, \n",
      "        HWE: array<float64>, \n",
      "        ExcHet_EUR: array<float64>, \n",
      "        ExcHet_EAS: array<float64>, \n",
      "        ExcHet_AMR: array<float64>, \n",
      "        ExcHet_SAS: array<float64>, \n",
      "        ExcHet_AFR: array<float64>, \n",
      "        ExcHet: array<float64>, \n",
      "        ME: array<float64>, \n",
      "        AN_EUR_unrel: int32, \n",
      "        AN_EAS_unrel: int32, \n",
      "        AN_AMR_unrel: int32, \n",
      "        AN_SAS_unrel: int32, \n",
      "        AN_AFR_unrel: int32, \n",
      "        AC_EUR_unrel: array<int32>, \n",
      "        AC_EAS_unrel: array<int32>, \n",
      "        AC_AMR_unrel: array<int32>, \n",
      "        AC_SAS_unrel: array<int32>, \n",
      "        AC_AFR_unrel: array<int32>, \n",
      "        AC_Hom_EUR_unrel: array<int32>, \n",
      "        AC_Hom_EAS_unrel: array<int32>, \n",
      "        AC_Hom_AMR_unrel: array<int32>, \n",
      "        AC_Hom_SAS_unrel: array<int32>, \n",
      "        AC_Hom_AFR_unrel: array<int32>, \n",
      "        AC_Het_EUR_unrel: array<int32>, \n",
      "        AC_Het_EAS_unrel: array<int32>, \n",
      "        AC_Het_AMR_unrel: array<int32>, \n",
      "        AC_Het_SAS_unrel: array<int32>, \n",
      "        AC_Het_AFR_unrel: array<int32>, \n",
      "        AF_EUR_unrel: array<float64>, \n",
      "        AF_EAS_unrel: array<float64>, \n",
      "        AF_AMR_unrel: array<float64>, \n",
      "        AF_SAS_unrel: array<float64>, \n",
      "        AF_AFR_unrel: array<float64>, \n",
      "        HWE_EUR_unrel: array<float64>, \n",
      "        HWE_EAS_unrel: array<float64>, \n",
      "        HWE_AMR_unrel: array<float64>, \n",
      "        HWE_SAS_unrel: array<float64>, \n",
      "        HWE_AFR_unrel: array<float64>, \n",
      "        CSQ: array<str>\n",
      "    }\n",
      "    'a_index': int32\n",
      "    'was_split': bool\n",
      "    'old_locus': locus<GRCh38>\n",
      "    'old_alleles': array<str>\n",
      "    'variant_qc': struct {\n",
      "        dp_stats: struct {\n",
      "            mean: float64, \n",
      "            stdev: float64, \n",
      "            min: float64, \n",
      "            max: float64\n",
      "        }, \n",
      "        gq_stats: struct {\n",
      "            mean: float64, \n",
      "            stdev: float64, \n",
      "            min: float64, \n",
      "            max: float64\n",
      "        }, \n",
      "        AC: array<int32>, \n",
      "        AF: array<float64>, \n",
      "        AN: int32, \n",
      "        homozygote_count: array<int32>, \n",
      "        call_rate: float64, \n",
      "        n_called: int64, \n",
      "        n_not_called: int64, \n",
      "        n_filtered: int64, \n",
      "        n_het: int64, \n",
      "        n_non_ref: int64, \n",
      "        het_freq_hwe: float64, \n",
      "        p_value_hwe: float64, \n",
      "        p_value_excess_het: float64\n",
      "    }\n",
      "    'CSQ': struct {\n",
      "        Allele: str, \n",
      "        Consequence: str, \n",
      "        IMPACT: str, \n",
      "        SYMBOL: str, \n",
      "        Gene: str, \n",
      "        DISTANCE: int64\n",
      "    }\n",
      "    'MPC': float64\n",
      "    'public_AF': struct {\n",
      "        AC: int32, \n",
      "        AN: int32, \n",
      "        AF: float64, \n",
      "        homozygote_count: int32\n",
      "    }\n",
      "----------------------------------------\n",
      "Entry fields:\n",
      "    'AB': float64\n",
      "    'AD': array<int32>\n",
      "    'DP': int32\n",
      "    'GQ': int32\n",
      "    'GT': call\n",
      "    'MIN_DP': int32\n",
      "    'MQ0': int32\n",
      "    'PGT': call\n",
      "    'PID': str\n",
      "    'PL': array<int32>\n",
      "    'RGQ': int32\n",
      "    'SB': array<int32>\n",
      "----------------------------------------\n",
      "Column key: ['s']\n",
      "Row key: ['locus', 'alleles']\n",
      "----------------------------------------\n"
     ]
    }
   ],
   "source": [
    "AF_table = AF_table.key_by(\"locus\", \"alleles\")\n",
    "mt = mt.annotate_rows(public_AF = AF_table[mt.locus, mt.alleles])\n",
    "# mt = mt.key_rows_by(mt.locus, mt.alleles)  \n",
    "mt.describe()"
   ]
  },
  {
   "cell_type": "code",
   "execution_count": 67,
   "id": "b661a051",
   "metadata": {
    "ExecuteTime": {
     "end_time": "2022-01-17T11:10:09.717998Z",
     "start_time": "2022-01-17T11:09:43.187790Z"
    }
   },
   "outputs": [
    {
     "name": "stderr",
     "output_type": "stream",
     "text": [
      "2022-01-23 19:29:53 Hail: INFO: Coerced sorted dataset              (0 + 4) / 4]\n",
      "2022-01-23 19:29:55 Hail: INFO: Coerced sorted dataset              (0 + 4) / 4]\n",
      "2022-01-23 19:30:07 Hail: INFO: Coerced sorted dataset              (0 + 1) / 1]\n",
      "2022-01-23 19:30:16 Hail: INFO: Coerced sorted dataset              (3 + 1) / 4]\n"
     ]
    },
    {
     "data": {
      "text/html": [
       "<table><thead><tr><td style=\"white-space: nowrap; max-width: 500px; overflow: hidden; text-overflow: ellipsis; \" colspan=\"1\"><div style=\"text-align: left;\"></div></td><td style=\"white-space: nowrap; max-width: 500px; overflow: hidden; text-overflow: ellipsis; \" colspan=\"1\"><div style=\"text-align: left;\"></div></td><td style=\"white-space: nowrap; max-width: 500px; overflow: hidden; text-overflow: ellipsis; \" colspan=\"4\"><div style=\"text-align: left;\"></div></td></tr><tr><td style=\"white-space: nowrap; max-width: 500px; overflow: hidden; text-overflow: ellipsis; \" colspan=\"1\"><div style=\"text-align: left;\"></div></td><td style=\"white-space: nowrap; max-width: 500px; overflow: hidden; text-overflow: ellipsis; \" colspan=\"1\"><div style=\"text-align: left;\"></div></td><td style=\"white-space: nowrap; max-width: 500px; overflow: hidden; text-overflow: ellipsis; \" colspan=\"4\"><div style=\"text-align: left;border-bottom: solid 2px #000; padding-bottom: 5px\">public_AF</div></td></tr><tr><td style=\"white-space: nowrap; max-width: 500px; overflow: hidden; text-overflow: ellipsis; \" colspan=\"1\"><div style=\"text-align: left;border-bottom: solid 2px #000; padding-bottom: 5px\">locus</div></td><td style=\"white-space: nowrap; max-width: 500px; overflow: hidden; text-overflow: ellipsis; \" colspan=\"1\"><div style=\"text-align: left;border-bottom: solid 2px #000; padding-bottom: 5px\">alleles</div></td><td style=\"white-space: nowrap; max-width: 500px; overflow: hidden; text-overflow: ellipsis; \" colspan=\"1\"><div style=\"text-align: left;border-bottom: solid 2px #000; padding-bottom: 5px\">AC</div></td><td style=\"white-space: nowrap; max-width: 500px; overflow: hidden; text-overflow: ellipsis; \" colspan=\"1\"><div style=\"text-align: left;border-bottom: solid 2px #000; padding-bottom: 5px\">AN</div></td><td style=\"white-space: nowrap; max-width: 500px; overflow: hidden; text-overflow: ellipsis; \" colspan=\"1\"><div style=\"text-align: left;border-bottom: solid 2px #000; padding-bottom: 5px\">AF</div></td><td style=\"white-space: nowrap; max-width: 500px; overflow: hidden; text-overflow: ellipsis; \" colspan=\"1\"><div style=\"text-align: left;border-bottom: solid 2px #000; padding-bottom: 5px\">homozygote_count</div></td></tr><tr><td style=\"white-space: nowrap; max-width: 500px; overflow: hidden; text-overflow: ellipsis; text-align: left;\">locus&lt;GRCh38&gt;</td><td style=\"white-space: nowrap; max-width: 500px; overflow: hidden; text-overflow: ellipsis; text-align: left;\">array&lt;str&gt;</td><td style=\"white-space: nowrap; max-width: 500px; overflow: hidden; text-overflow: ellipsis; text-align: left;\">int32</td><td style=\"white-space: nowrap; max-width: 500px; overflow: hidden; text-overflow: ellipsis; text-align: left;\">int32</td><td style=\"white-space: nowrap; max-width: 500px; overflow: hidden; text-overflow: ellipsis; text-align: left;\">float64</td><td style=\"white-space: nowrap; max-width: 500px; overflow: hidden; text-overflow: ellipsis; text-align: left;\">int32</td></tr>\n",
       "</thead><tbody><tr><td style=\"white-space: nowrap; max-width: 500px; overflow: hidden; text-overflow: ellipsis; \">chr22:50197100</td><td style=\"white-space: nowrap; max-width: 500px; overflow: hidden; text-overflow: ellipsis; \">[&quot;T&quot;,&quot;C&quot;]</td><td style=\"white-space: nowrap; max-width: 500px; overflow: hidden; text-overflow: ellipsis; \">382</td><td style=\"white-space: nowrap; max-width: 500px; overflow: hidden; text-overflow: ellipsis; \">134796</td><td style=\"white-space: nowrap; max-width: 500px; overflow: hidden; text-overflow: ellipsis; \">2.83e-03</td><td style=\"white-space: nowrap; max-width: 500px; overflow: hidden; text-overflow: ellipsis; \">3</td></tr>\n",
       "<tr><td style=\"white-space: nowrap; max-width: 500px; overflow: hidden; text-overflow: ellipsis; \">chr22:50197103</td><td style=\"white-space: nowrap; max-width: 500px; overflow: hidden; text-overflow: ellipsis; \">[&quot;C&quot;,&quot;T&quot;]</td><td style=\"white-space: nowrap; max-width: 500px; overflow: hidden; text-overflow: ellipsis; \">9</td><td style=\"white-space: nowrap; max-width: 500px; overflow: hidden; text-overflow: ellipsis; \">134814</td><td style=\"white-space: nowrap; max-width: 500px; overflow: hidden; text-overflow: ellipsis; \">6.68e-05</td><td style=\"white-space: nowrap; max-width: 500px; overflow: hidden; text-overflow: ellipsis; \">0</td></tr>\n",
       "<tr><td style=\"white-space: nowrap; max-width: 500px; overflow: hidden; text-overflow: ellipsis; \">chr22:50197198</td><td style=\"white-space: nowrap; max-width: 500px; overflow: hidden; text-overflow: ellipsis; \">[&quot;C&quot;,&quot;T&quot;]</td><td style=\"white-space: nowrap; max-width: 500px; overflow: hidden; text-overflow: ellipsis; \">51372</td><td style=\"white-space: nowrap; max-width: 500px; overflow: hidden; text-overflow: ellipsis; \">134586</td><td style=\"white-space: nowrap; max-width: 500px; overflow: hidden; text-overflow: ellipsis; \">3.82e-01</td><td style=\"white-space: nowrap; max-width: 500px; overflow: hidden; text-overflow: ellipsis; \">9834</td></tr>\n",
       "<tr><td style=\"white-space: nowrap; max-width: 500px; overflow: hidden; text-overflow: ellipsis; \">chr22:50197199</td><td style=\"white-space: nowrap; max-width: 500px; overflow: hidden; text-overflow: ellipsis; \">[&quot;G&quot;,&quot;A&quot;]</td><td style=\"white-space: nowrap; max-width: 500px; overflow: hidden; text-overflow: ellipsis; \">13</td><td style=\"white-space: nowrap; max-width: 500px; overflow: hidden; text-overflow: ellipsis; \">134682</td><td style=\"white-space: nowrap; max-width: 500px; overflow: hidden; text-overflow: ellipsis; \">9.65e-05</td><td style=\"white-space: nowrap; max-width: 500px; overflow: hidden; text-overflow: ellipsis; \">0</td></tr>\n",
       "<tr><td style=\"white-space: nowrap; max-width: 500px; overflow: hidden; text-overflow: ellipsis; \">chr22:50197199</td><td style=\"white-space: nowrap; max-width: 500px; overflow: hidden; text-overflow: ellipsis; \">[&quot;G&quot;,&quot;C&quot;]</td><td style=\"white-space: nowrap; max-width: 500px; overflow: hidden; text-overflow: ellipsis; \">7859</td><td style=\"white-space: nowrap; max-width: 500px; overflow: hidden; text-overflow: ellipsis; \">134506</td><td style=\"white-space: nowrap; max-width: 500px; overflow: hidden; text-overflow: ellipsis; \">5.84e-02</td><td style=\"white-space: nowrap; max-width: 500px; overflow: hidden; text-overflow: ellipsis; \">868</td></tr>\n",
       "<tr><td style=\"white-space: nowrap; max-width: 500px; overflow: hidden; text-overflow: ellipsis; \">chr22:50197200</td><td style=\"white-space: nowrap; max-width: 500px; overflow: hidden; text-overflow: ellipsis; \">[&quot;C&quot;,&quot;G&quot;]</td><td style=\"white-space: nowrap; max-width: 500px; overflow: hidden; text-overflow: ellipsis; \">4313</td><td style=\"white-space: nowrap; max-width: 500px; overflow: hidden; text-overflow: ellipsis; \">134758</td><td style=\"white-space: nowrap; max-width: 500px; overflow: hidden; text-overflow: ellipsis; \">3.20e-02</td><td style=\"white-space: nowrap; max-width: 500px; overflow: hidden; text-overflow: ellipsis; \">268</td></tr>\n",
       "<tr><td style=\"white-space: nowrap; max-width: 500px; overflow: hidden; text-overflow: ellipsis; \">chr22:50197205</td><td style=\"white-space: nowrap; max-width: 500px; overflow: hidden; text-overflow: ellipsis; \">[&quot;G&quot;,&quot;A&quot;]</td><td style=\"white-space: nowrap; max-width: 500px; overflow: hidden; text-overflow: ellipsis; \">476</td><td style=\"white-space: nowrap; max-width: 500px; overflow: hidden; text-overflow: ellipsis; \">130900</td><td style=\"white-space: nowrap; max-width: 500px; overflow: hidden; text-overflow: ellipsis; \">3.64e-03</td><td style=\"white-space: nowrap; max-width: 500px; overflow: hidden; text-overflow: ellipsis; \">4</td></tr>\n",
       "<tr><td style=\"white-space: nowrap; max-width: 500px; overflow: hidden; text-overflow: ellipsis; \">chr22:50197285</td><td style=\"white-space: nowrap; max-width: 500px; overflow: hidden; text-overflow: ellipsis; \">[&quot;G&quot;,&quot;C&quot;]</td><td style=\"white-space: nowrap; max-width: 500px; overflow: hidden; text-overflow: ellipsis; \">1</td><td style=\"white-space: nowrap; max-width: 500px; overflow: hidden; text-overflow: ellipsis; \">134834</td><td style=\"white-space: nowrap; max-width: 500px; overflow: hidden; text-overflow: ellipsis; \">7.42e-06</td><td style=\"white-space: nowrap; max-width: 500px; overflow: hidden; text-overflow: ellipsis; \">0</td></tr>\n",
       "<tr><td style=\"white-space: nowrap; max-width: 500px; overflow: hidden; text-overflow: ellipsis; \">chr22:50197300</td><td style=\"white-space: nowrap; max-width: 500px; overflow: hidden; text-overflow: ellipsis; \">[&quot;C&quot;,&quot;T&quot;]</td><td style=\"white-space: nowrap; max-width: 500px; overflow: hidden; text-overflow: ellipsis; \">137</td><td style=\"white-space: nowrap; max-width: 500px; overflow: hidden; text-overflow: ellipsis; \">134830</td><td style=\"white-space: nowrap; max-width: 500px; overflow: hidden; text-overflow: ellipsis; \">1.02e-03</td><td style=\"white-space: nowrap; max-width: 500px; overflow: hidden; text-overflow: ellipsis; \">0</td></tr>\n",
       "<tr><td style=\"white-space: nowrap; max-width: 500px; overflow: hidden; text-overflow: ellipsis; \">chr22:50197309</td><td style=\"white-space: nowrap; max-width: 500px; overflow: hidden; text-overflow: ellipsis; \">[&quot;G&quot;,&quot;C&quot;]</td><td style=\"white-space: nowrap; max-width: 500px; overflow: hidden; text-overflow: ellipsis; \">2</td><td style=\"white-space: nowrap; max-width: 500px; overflow: hidden; text-overflow: ellipsis; \">134816</td><td style=\"white-space: nowrap; max-width: 500px; overflow: hidden; text-overflow: ellipsis; \">1.48e-05</td><td style=\"white-space: nowrap; max-width: 500px; overflow: hidden; text-overflow: ellipsis; \">0</td></tr>\n",
       "</tbody></table><p style=\"background: #fdd; padding: 0.4em;\">showing top 10 rows</p>\n"
      ],
      "text/plain": [
       "+----------------+------------+--------------+--------------+--------------+\n",
       "| locus          | alleles    | public_AF.AC | public_AF.AN | public_AF.AF |\n",
       "+----------------+------------+--------------+--------------+--------------+\n",
       "| locus<GRCh38>  | array<str> |        int32 |        int32 |      float64 |\n",
       "+----------------+------------+--------------+--------------+--------------+\n",
       "| chr22:50197100 | [\"T\",\"C\"]  |          382 |       134796 |     2.83e-03 |\n",
       "| chr22:50197103 | [\"C\",\"T\"]  |            9 |       134814 |     6.68e-05 |\n",
       "| chr22:50197198 | [\"C\",\"T\"]  |        51372 |       134586 |     3.82e-01 |\n",
       "| chr22:50197199 | [\"G\",\"A\"]  |           13 |       134682 |     9.65e-05 |\n",
       "| chr22:50197199 | [\"G\",\"C\"]  |         7859 |       134506 |     5.84e-02 |\n",
       "| chr22:50197200 | [\"C\",\"G\"]  |         4313 |       134758 |     3.20e-02 |\n",
       "| chr22:50197205 | [\"G\",\"A\"]  |          476 |       130900 |     3.64e-03 |\n",
       "| chr22:50197285 | [\"G\",\"C\"]  |            1 |       134834 |     7.42e-06 |\n",
       "| chr22:50197300 | [\"C\",\"T\"]  |          137 |       134830 |     1.02e-03 |\n",
       "| chr22:50197309 | [\"G\",\"C\"]  |            2 |       134816 |     1.48e-05 |\n",
       "+----------------+------------+--------------+--------------+--------------+\n",
       "\n",
       "+----------------------------+\n",
       "| public_AF.homozygote_count |\n",
       "+----------------------------+\n",
       "|                      int32 |\n",
       "+----------------------------+\n",
       "|                          3 |\n",
       "|                          0 |\n",
       "|                       9834 |\n",
       "|                          0 |\n",
       "|                        868 |\n",
       "|                        268 |\n",
       "|                          4 |\n",
       "|                          0 |\n",
       "|                          0 |\n",
       "|                          0 |\n",
       "+----------------------------+\n",
       "showing top 10 rows"
      ]
     },
     "metadata": {},
     "output_type": "display_data"
    }
   ],
   "source": [
    "mt.public_AF.show()"
   ]
  },
  {
   "cell_type": "markdown",
   "id": "65fbbf89-0066-499f-aeef-70370c8b4f24",
   "metadata": {},
   "source": [
    "## Qualifying variant 추출하기\n",
    "\n",
    "우리가 유전변이 연관성 분석을 할때, input으로 들어가는 변이를 qualifying variant (QV)라고 부릅니다. 각 연구에서 검정하고자 하는 가설에 따라 원하는 유전변이가 다릅니다. Common variant를 분석하려면, AF를 선정하거나 LD를 고려하여 변이를 선별해야합니다. Rare recessive variant를 분석하고자 한다면, genotype에서 homozygous variant를 선별하고, 특정 인구집단에서 AF가 몇 퍼센트 이하인 기준을 세워서 필터링을 합니다. 이렇게 각 목적마다 주어지는 input이 다르고, 이를 정의하여 추출한 변이를 QV라고 부릅니다. 또한 위에서 본 것과 같이 많은 false positive를 적절하게 제어하기 위해서도 필터링 단계는 매우 중요합니다.\n",
    "\n",
    "이번 섹션에서는 위에서 연습한 내용을 종합하여, 목적에 맞는 QV를 선별해봅시다. \n",
    "\n",
    "\n",
    "\n",
    "### 신규변이 (de novo variant)\n",
    "\n",
    "De novo variant (DNV)는 발달성 질환에 가장 주된 원인으로 지난 10년간 NGS연구에서 암의 somatic mutation과 함께 가장 널리 연구된 주제입니다. DNV를 추출하는 여러가지 알고리즘이 있지만, VCF를 외부 프로그램 사용을 위해 변환하고 다시 수집하는 과정은 코드의 재현성이나 tidy함을 확보하기 굉장히 어렵습니다. 그래서 Hail은 DNV 탐색 알고리즘을 제공하고 있습니다. 우리는 대규모 자폐증 전장유전체 연구([An et al. 2018, Science](https://www.science.org/doi/10.1126/science.aat6576))의 필터링 기준을 따라 DNV를 추출해보고자 합니다. \n",
    "\n",
    "* 선별 기준\n",
    "     - AF ≤ 0.001 (0.1%)\n",
    "     - Filtering high quality de novo variants using quality metrics(AB, DP, GQ)\n",
    "     - DNV test high/medium confidence\n",
    "     \n"
   ]
  },
  {
   "cell_type": "code",
   "execution_count": 69,
   "id": "7c772f15-ff04-4996-9c6d-9faddeafa19e",
   "metadata": {
    "ExecuteTime": {
     "end_time": "2022-01-17T11:10:40.882635Z",
     "start_time": "2022-01-17T11:10:09.719219Z"
    }
   },
   "outputs": [
    {
     "name": "stderr",
     "output_type": "stream",
     "text": [
      "2022-01-23 19:30:43 Hail: INFO: Coerced sorted dataset              (0 + 4) / 4]\n",
      "2022-01-23 19:30:45 Hail: INFO: Coerced sorted dataset              (3 + 1) / 4]\n",
      "2022-01-23 19:30:57 Hail: INFO: Coerced sorted dataset              (0 + 1) / 1]\n",
      "2022-01-23 19:31:06 Hail: INFO: Coerced sorted dataset              (3 + 1) / 4]\n",
      "[Stage 381:==========================================>              (3 + 1) / 4]\r"
     ]
    },
    {
     "data": {
      "text/plain": [
       "(22016, 1784)"
      ]
     },
     "execution_count": 69,
     "metadata": {},
     "output_type": "execute_result"
    }
   ],
   "source": [
    "DNV = mt.filter_rows(mt.public_AF.AF <= 0.001)\n",
    "DNV.count()"
   ]
  },
  {
   "cell_type": "code",
   "execution_count": 70,
   "id": "57b01b70-1410-45b6-997a-acdf4e47053e",
   "metadata": {
    "ExecuteTime": {
     "end_time": "2022-01-17T11:11:39.795159Z",
     "start_time": "2022-01-17T11:10:40.889761Z"
    }
   },
   "outputs": [
    {
     "name": "stderr",
     "output_type": "stream",
     "text": [
      "2022-01-23 19:31:23 Hail: INFO: Coerced sorted dataset              (0 + 4) / 4]\n",
      "2022-01-23 19:31:29 Hail: INFO: Coerced sorted dataset              (0 + 4) / 4]\n",
      "2022-01-23 19:31:32 Hail: INFO: Coerced sorted dataset              (0 + 4) / 4]\n",
      "2022-01-23 19:31:51 Hail: INFO: Coerced sorted dataset              (0 + 1) / 1]\n",
      "2022-01-23 19:32:09 Hail: INFO: Coerced sorted dataset              (3 + 1) / 4]\n",
      "[Stage 398:==========================================>              (3 + 1) / 4]\r"
     ]
    },
    {
     "name": "stdout",
     "output_type": "stream",
     "text": [
      "--> De novo variants from complete trio(n_proband+control = 596) :  frozendict({'HIGH': 21, 'LOW': 112, 'MEDIUM': 7})\n"
     ]
    }
   ],
   "source": [
    "trio_fam = hl.Pedigree.read('inputs/1kg_v3_20200731_complete_fam_633.ped')\n",
    "dnv_test = hl.de_novo(mt=DNV, \n",
    "                        pedigree=trio_fam,\n",
    "                        pop_frequency_prior=DNV.public_AF.AF,  \n",
    "                        max_parent_ab=0.05,\n",
    "                        min_child_ab = 0.3,\n",
    "                        min_dp_ratio = 0.3,\n",
    "                        min_gq=90)   \n",
    "print(\"--> De novo variants from complete trio(n_proband+control = 596) : \", dnv_test.aggregate(hl.agg.counter(dnv_test.confidence)))"
   ]
  },
  {
   "cell_type": "code",
   "execution_count": 71,
   "id": "b7f6544b-67e4-47e9-9a63-4cde0a72874d",
   "metadata": {
    "ExecuteTime": {
     "end_time": "2022-01-17T11:12:31.707627Z",
     "start_time": "2022-01-17T11:11:39.796612Z"
    }
   },
   "outputs": [
    {
     "name": "stderr",
     "output_type": "stream",
     "text": [
      "2022-01-23 19:32:46 Hail: INFO: Coerced sorted dataset              (0 + 4) / 4]\n",
      "2022-01-23 19:32:49 Hail: INFO: Coerced sorted dataset              (3 + 1) / 4]\n",
      "2022-01-23 19:33:08 Hail: INFO: Coerced sorted dataset              (0 + 1) / 1]\n",
      "2022-01-23 19:33:24 Hail: INFO: Coerced sorted dataset              (3 + 1) / 4]\n",
      "[Stage 414:==========================================>              (3 + 1) / 4]\r"
     ]
    },
    {
     "data": {
      "text/plain": [
       "28"
      ]
     },
     "execution_count": 71,
     "metadata": {},
     "output_type": "execute_result"
    }
   ],
   "source": [
    "DNV = dnv_test.filter((dnv_test.confidence==\"HIGH\") | (dnv_test.confidence==\"MEDIUM\"))\n",
    "DNV.count()"
   ]
  },
  {
   "cell_type": "markdown",
   "id": "27018585-b39b-4608-babe-b466ed3de62b",
   "metadata": {
    "tags": []
   },
   "source": [
    "### 희귀변이 (Rare Variants)\n",
    "\n",
    "희귀변이는 집단에 AF가 낮게 존재하는 변이를 말합니다. 전장유전체 코호트가 커질수록 질환이나 형질에 영향을 보다 큰 영향을 미칠 것이라 생각하는 희귀변이 연구들이 많이 진행되고 있습니다. 희귀변이는 공통변이(common variant)와 다르게 품질지표나 AF 데이터베이스에 따른 분포가 상이하기 때문에 QV를 추출할때 보다 정확하게 진행을 해야합니다. 우리는 대규모 유전체 연구([Satterstrom et al. 2020 Cell](https://www.cell.com/cell/fulltext/S0092-8674(19)31398-4), [Werling et al. 2018 Nature Genetics](https://www.nature.com/articles/s41588-018-0107-y))에서 시행된 추출 방법에 따라 heterozygous와 homozygous variant를 추출해보고자 합니다. \n",
    "\n",
    "#### Rare heterozygous variant\n",
    "\n",
    "\n",
    "* 선별 기준\n",
    "     - AF ≤ 0.001, AC ≤ 5\n",
    "     - Filtering high quality heterozygous variants using quality metrics(GQ, AB, VQSLOD)\n"
   ]
  },
  {
   "cell_type": "code",
   "execution_count": 72,
   "id": "3f86e1a7-c69a-4739-93ea-01f352efa81e",
   "metadata": {
    "ExecuteTime": {
     "end_time": "2022-01-17T11:13:01.782634Z",
     "start_time": "2022-01-17T11:12:31.708596Z"
    }
   },
   "outputs": [
    {
     "name": "stderr",
     "output_type": "stream",
     "text": [
      "2022-01-23 19:34:00 Hail: INFO: Coerced sorted dataset              (0 + 4) / 4]\n",
      "2022-01-23 19:34:02 Hail: INFO: Coerced sorted dataset              (0 + 4) / 4]\n",
      "2022-01-23 19:34:17 Hail: INFO: Coerced sorted dataset              (0 + 1) / 1]\n",
      "[Stage 420:==============>                                          (1 + 3) / 4]\r"
     ]
    },
    {
     "name": "stdout",
     "output_type": "stream",
     "text": [
      "--> After remove variants with low quality(based on GQ, AB), the number of het entries is : 1352558\n"
     ]
    },
    {
     "name": "stderr",
     "output_type": "stream",
     "text": [
      "[Stage 420:============================>                            (2 + 2) / 4]\r"
     ]
    }
   ],
   "source": [
    "filter_condition_entry = ((mt.GT.is_het()) & (mt.GQ >= 25) & (mt.AB >= 0.3))\n",
    "RareHet = mt.filter_entries(filter_condition_entry)\n",
    "print(\"--> After remove variants with low quality(based on GQ, AB), the number of het entries is :\", RareHet.entries().count())"
   ]
  },
  {
   "cell_type": "code",
   "execution_count": 73,
   "id": "afe5405d-25b9-4901-ad7d-e147e3b47110",
   "metadata": {
    "ExecuteTime": {
     "end_time": "2022-01-17T11:13:27.120554Z",
     "start_time": "2022-01-17T11:13:01.783553Z"
    }
   },
   "outputs": [
    {
     "name": "stderr",
     "output_type": "stream",
     "text": [
      "2022-01-23 19:34:33 Hail: INFO: Coerced sorted dataset              (3 + 1) / 4]\n",
      "2022-01-23 19:34:36 Hail: INFO: Coerced sorted dataset              (0 + 4) / 4]\n",
      "2022-01-23 19:34:48 Hail: INFO: Coerced sorted dataset              (0 + 1) / 1]\n",
      "[Stage 426:==========================================>              (3 + 1) / 4]\r"
     ]
    },
    {
     "name": "stdout",
     "output_type": "stream",
     "text": [
      "--> After remove SNVs with VQSLOD<-2.085, the number of variants is reduced to : 25988\n"
     ]
    }
   ],
   "source": [
    "filter_condition_variant = (((hl.is_snp(RareHet.alleles[0], RareHet.alleles[1])) & (RareHet.info.VQSLOD >= -2.085))|\n",
    "                            (~hl.is_snp(RareHet.alleles[0], RareHet.alleles[1])))    \n",
    "RareHet = RareHet.filter_rows(filter_condition_variant)\n",
    "print(\"--> After remove SNVs with VQSLOD<-2.085, the number of variants is reduced to :\", RareHet.rows().count())"
   ]
  },
  {
   "cell_type": "code",
   "execution_count": 75,
   "id": "d109cdd7-2637-4711-8a8b-4e2ed4a3a5c0",
   "metadata": {
    "ExecuteTime": {
     "end_time": "2022-01-17T11:14:06.187262Z",
     "start_time": "2022-01-17T11:13:27.121471Z"
    }
   },
   "outputs": [
    {
     "name": "stderr",
     "output_type": "stream",
     "text": [
      "2022-01-23 19:35:36 Hail: INFO: Coerced sorted dataset              (0 + 4) / 4]\n",
      "2022-01-23 19:35:39 Hail: INFO: Coerced sorted dataset              (0 + 4) / 4]\n",
      "2022-01-23 19:35:53 Hail: INFO: Coerced sorted dataset              (0 + 1) / 1]\n",
      "2022-01-23 19:36:05 Hail: INFO: Coerced sorted dataset              (3 + 1) / 4]\n",
      "[Stage 434:==========================================>              (3 + 1) / 4]\r"
     ]
    },
    {
     "data": {
      "text/plain": [
       "(16495, 1784)"
      ]
     },
     "execution_count": 75,
     "metadata": {},
     "output_type": "execute_result"
    }
   ],
   "source": [
    "RareHet = RareHet.filter_rows((RareHet.public_AF.AF<=0.001) & (RareHet.info.AC[0]<=5))\n",
    "RareHet.count()"
   ]
  },
  {
   "cell_type": "code",
   "execution_count": 76,
   "id": "ca15d0ed-27b2-460a-a035-81c769fb05bb",
   "metadata": {
    "ExecuteTime": {
     "end_time": "2022-01-17T11:14:46.079912Z",
     "start_time": "2022-01-17T11:14:06.188208Z"
    }
   },
   "outputs": [
    {
     "name": "stderr",
     "output_type": "stream",
     "text": [
      "2022-01-23 19:36:18 Hail: INFO: Coerced sorted dataset              (3 + 1) / 4]\n",
      "2022-01-23 19:36:21 Hail: INFO: Coerced sorted dataset              (3 + 1) / 4]\n",
      "2022-01-23 19:36:35 Hail: INFO: Coerced sorted dataset              (0 + 1) / 1]\n",
      "2022-01-23 19:36:47 Hail: INFO: Coerced sorted dataset              (1 + 3) / 4]\n",
      "[Stage 444:==========================================>              (3 + 1) / 4]\r"
     ]
    },
    {
     "name": "stdout",
     "output_type": "stream",
     "text": [
      "--> In 596 children, there are  4731  high quality rare het mutations.\n"
     ]
    }
   ],
   "source": [
    "RareHet = RareHet.filter_cols(hl.is_defined(RareHet.ROLE)) # 자녀에게 있는 heterozygous만 선별\n",
    "RareHet = RareHet.entries()\n",
    "print(\"--> In 596 children, there are \", RareHet.count(), \" high quality rare het mutations.\")"
   ]
  },
  {
   "cell_type": "markdown",
   "id": "527c1c43-c2c9-4bcf-ab07-133fcbfa9737",
   "metadata": {},
   "source": [
    "#### Rare Homozygous variant\n",
    "\n",
    "Homozygous variant는 genotype을 갖고 필터링을 합니다. 더 복잡한 상황을 가정해보죠. 부모에게는 heterozygous variant이고, 자녀에게는 homozygous variant로 나오는 경우들을 추출해봅시다. \n",
    "\n",
    "* 선별기준\n",
    "     - Filtering homozygous variants where genotype of both parents are heterozygous\n",
    "     - Filtering high quality homozygous variants using quality metrics(GQ, AB, DP, AN, QD)"
   ]
  },
  {
   "cell_type": "code",
   "execution_count": 78,
   "id": "006d5d3b-d3d2-4d63-8030-4bcd79c8046d",
   "metadata": {
    "ExecuteTime": {
     "end_time": "2022-01-17T11:14:46.101613Z",
     "start_time": "2022-01-17T11:14:46.080793Z"
    }
   },
   "outputs": [],
   "source": [
    "RareHom = mt.filter_entries(mt.GT.is_non_ref())\n",
    "RareHom = RareHom.filter_rows(RareHom.public_AF.AF <= 0.05)"
   ]
  },
  {
   "cell_type": "code",
   "execution_count": 79,
   "id": "2aadc934-cf55-471c-97b3-9242f63c75a9",
   "metadata": {
    "ExecuteTime": {
     "end_time": "2022-01-17T11:16:00.533175Z",
     "start_time": "2022-01-17T11:14:46.102546Z"
    },
    "scrolled": true
   },
   "outputs": [
    {
     "name": "stderr",
     "output_type": "stream",
     "text": [
      "2022-01-23 19:37:27 Hail: INFO: Coerced sorted dataset              (0 + 4) / 4]\n",
      "2022-01-23 19:37:30 Hail: INFO: Coerced sorted dataset              (0 + 4) / 4]\n",
      "2022-01-23 19:37:42 Hail: INFO: Coerced sorted dataset              (0 + 1) / 1]\n",
      "2022-01-23 19:37:51 Hail: INFO: Coerced sorted dataset              (3 + 1) / 4]\n",
      "2022-01-23 19:37:58 Hail: INFO: Ordering unsorted dataset with network shuffle4]\n",
      "2022-01-23 19:38:00 Hail: INFO: Coerced sorted dataset              (0 + 4) / 4]\n",
      "2022-01-23 19:38:03 Hail: INFO: Coerced sorted dataset              (0 + 4) / 4]\n",
      "2022-01-23 19:38:15 Hail: INFO: Coerced sorted dataset              (0 + 1) / 1]\n",
      "2022-01-23 19:38:24 Hail: INFO: Coerced sorted dataset              (3 + 1) / 4]\n",
      "2022-01-23 19:38:34 Hail: INFO: Ordering unsorted dataset with network shuffle4]\n",
      "[Stage 469:==============>                                          (1 + 3) / 4]\r"
     ]
    },
    {
     "name": "stdout",
     "output_type": "stream",
     "text": [
      "--> After variant filtering families with het parents, the number of variants is : 118482\n"
     ]
    },
    {
     "name": "stderr",
     "output_type": "stream",
     "text": [
      "[Stage 469:==========================================>              (3 + 1) / 4]\r"
     ]
    }
   ],
   "source": [
    "tb = RareHom.key_cols_by().entries()\n",
    "RareHom = RareHom.unpersist()\n",
    "rare_hom = tb.filter((hl.is_missing(tb.ROLE)) & (tb.GT.is_het_ref()))\n",
    "rare_hom_tag = rare_hom.group_by(rare_hom.locus, rare_hom.alleles, rare_hom.fam).aggregate(nHet = hl.agg.collect(rare_hom.ROLE))\n",
    "rare_hom_tag = rare_hom_tag.annotate(nHet = hl.len(rare_hom_tag.nHet))\n",
    "rare_hom_tag = rare_hom_tag.filter(rare_hom_tag.nHet == 2)\n",
    "tb = tb.key_by('locus', 'alleles', 'fam').semi_join(rare_hom_tag)\n",
    "print(\"--> After variant filtering families with het parents, the number of variants is :\", tb.count())"
   ]
  },
  {
   "cell_type": "code",
   "execution_count": 80,
   "id": "6d2a70f6-f031-4660-8d41-621ecefe690e",
   "metadata": {
    "ExecuteTime": {
     "end_time": "2022-01-17T11:17:25.019039Z",
     "start_time": "2022-01-17T11:16:00.534089Z"
    }
   },
   "outputs": [
    {
     "name": "stderr",
     "output_type": "stream",
     "text": [
      "2022-01-23 19:38:50 Hail: INFO: Coerced sorted dataset              (0 + 4) / 4]\n",
      "2022-01-23 19:38:53 Hail: INFO: Coerced sorted dataset              (0 + 4) / 4]\n",
      "2022-01-23 19:39:08 Hail: INFO: Coerced sorted dataset              (0 + 1) / 1]\n",
      "2022-01-23 19:39:21 Hail: INFO: Coerced sorted dataset              (3 + 1) / 4]\n",
      "2022-01-23 19:39:31 Hail: INFO: Ordering unsorted dataset with network shuffle4]\n",
      "2022-01-23 19:39:34 Hail: INFO: Coerced sorted dataset              (0 + 4) / 4]\n",
      "2022-01-23 19:39:37 Hail: INFO: Coerced sorted dataset              (0 + 4) / 4]\n",
      "2022-01-23 19:39:48 Hail: INFO: Coerced sorted dataset              (0 + 1) / 1]\n",
      "2022-01-23 19:39:58 Hail: INFO: Coerced sorted dataset              (3 + 1) / 4]\n",
      "2022-01-23 19:40:08 Hail: INFO: Ordering unsorted dataset with network shuffle4]\n",
      "[Stage 494:==========================================>              (3 + 1) / 4]\r"
     ]
    },
    {
     "name": "stdout",
     "output_type": "stream",
     "text": [
      "--> After remove variants with low quality(based on GQ, AB, DP), the number of hom entries is : 5775\n"
     ]
    }
   ],
   "source": [
    "filter_condition = ((tb.GT.is_hom_var()) & (tb.GQ >= 30) & (tb.AB >= 0.95) & (tb.DP >= 18)) \n",
    "tb = tb.filter(filter_condition)\n",
    "print(\"--> After remove variants with low quality(based on GQ, AB, DP), the number of hom entries is :\", tb.count())"
   ]
  },
  {
   "cell_type": "code",
   "execution_count": 81,
   "id": "7bd3e1a5-b2c2-4f05-9ba8-95feb392d7dc",
   "metadata": {
    "ExecuteTime": {
     "end_time": "2022-01-17T11:18:48.963053Z",
     "start_time": "2022-01-17T11:17:25.020066Z"
    }
   },
   "outputs": [
    {
     "name": "stderr",
     "output_type": "stream",
     "text": [
      "2022-01-23 19:40:25 Hail: INFO: Coerced sorted dataset              (0 + 4) / 4]\n",
      "2022-01-23 19:40:28 Hail: INFO: Coerced sorted dataset              (0 + 4) / 4]\n",
      "2022-01-23 19:40:42 Hail: INFO: Coerced sorted dataset              (0 + 1) / 1]\n",
      "2022-01-23 19:40:55 Hail: INFO: Coerced sorted dataset              (3 + 1) / 4]\n",
      "2022-01-23 19:41:05 Hail: INFO: Ordering unsorted dataset with network shuffle4]\n",
      "2022-01-23 19:41:08 Hail: INFO: Coerced sorted dataset              (0 + 4) / 4]\n",
      "2022-01-23 19:41:11 Hail: INFO: Coerced sorted dataset              (2 + 2) / 4]\n",
      "2022-01-23 19:41:23 Hail: INFO: Coerced sorted dataset              (0 + 1) / 1]\n",
      "2022-01-23 19:41:32 Hail: INFO: Coerced sorted dataset              (3 + 1) / 4]\n",
      "2022-01-23 19:41:42 Hail: INFO: Ordering unsorted dataset with network shuffle4]\n",
      "[Stage 521:==============>                                          (1 + 3) / 4]\r"
     ]
    },
    {
     "name": "stdout",
     "output_type": "stream",
     "text": [
      "--> In 596 children, there are  5775  high quality rare hom mutations.\n"
     ]
    },
    {
     "name": "stderr",
     "output_type": "stream",
     "text": [
      "[Stage 521:==========================================>              (3 + 1) / 4]\r"
     ]
    }
   ],
   "source": [
    "# 자녀에게 나오는 변이만 추출\n",
    "tb = tb.filter(hl.is_defined(tb.ROLE))\n",
    "RareHom = tb.key_by('locus', 'alleles', 's')\n",
    "print(\"--> In 596 children, there are \", tb.count(), \" high quality rare hom mutations.\")"
   ]
  },
  {
   "cell_type": "markdown",
   "id": "36a0e3dd",
   "metadata": {},
   "source": [
    "## Association testing\n",
    "\n",
    "Hail을 이용하여서 [GWAS](https://hail.is/docs/0.2/tutorials/01-genome-wide-association-study.html#GWAS-Tutorial), [SKAT](https://hail.is/docs/0.2/methods/genetics.html#hail.methods.skat) 등의 다양한 연관성 방법을 사용할 수 있습니다. 추가 튜토리얼은 위 링크를 참고하길 바랍니다. \n",
    "\n",
    "### Linear regression\n",
    "\n",
    "Hail을 이용하여 간단한 regression 검정을 해봅시다. Sample 정보에 있는 임의의 정보를 사용합니다. \n"
   ]
  },
  {
   "cell_type": "code",
   "execution_count": 82,
   "id": "38678e4e",
   "metadata": {
    "ExecuteTime": {
     "end_time": "2022-01-17T11:19:15.794993Z",
     "start_time": "2022-01-17T11:18:48.964042Z"
    }
   },
   "outputs": [
    {
     "name": "stderr",
     "output_type": "stream",
     "text": [
      "2022-01-23 19:42:07 Hail: INFO: Coerced sorted dataset              (0 + 4) / 4]\n",
      "2022-01-23 19:42:10 Hail: INFO: Coerced sorted dataset              (0 + 4) / 4]\n",
      "2022-01-23 19:42:22 Hail: INFO: Coerced sorted dataset              (0 + 1) / 1]\n",
      "2022-01-23 19:42:32 Hail: INFO: Coerced sorted dataset              (3 + 1) / 4]\n",
      "2022-01-23 19:42:32 Hail: INFO: linear_regression_rows: running on 1784 samples for 1 response variable y,\n",
      "    with input variable x, and 4 additional covariates...\n"
     ]
    }
   ],
   "source": [
    "result_ht = hl.linear_regression_rows(y=mt.height,\n",
    "                                x=mt.GT.n_alt_alleles(),\n",
    "                                covariates=[1, mt.isFemale, mt.scores[0], mt.scores[1]])"
   ]
  },
  {
   "cell_type": "code",
   "execution_count": 83,
   "id": "f0eb6bfa",
   "metadata": {
    "ExecuteTime": {
     "end_time": "2022-01-17T11:19:21.532911Z",
     "start_time": "2022-01-17T11:19:15.796023Z"
    }
   },
   "outputs": [
    {
     "name": "stderr",
     "output_type": "stream",
     "text": [
      "[Stage 531:==========================================>              (3 + 1) / 4]\r"
     ]
    },
    {
     "data": {
      "text/html": [
       "<table><thead><tr><td style=\"white-space: nowrap; max-width: 500px; overflow: hidden; text-overflow: ellipsis; \" colspan=\"1\"><div style=\"text-align: left;\"></div></td><td style=\"white-space: nowrap; max-width: 500px; overflow: hidden; text-overflow: ellipsis; \" colspan=\"1\"><div style=\"text-align: left;\"></div></td><td style=\"white-space: nowrap; max-width: 500px; overflow: hidden; text-overflow: ellipsis; \" colspan=\"1\"><div style=\"text-align: left;\"></div></td><td style=\"white-space: nowrap; max-width: 500px; overflow: hidden; text-overflow: ellipsis; \" colspan=\"1\"><div style=\"text-align: left;\"></div></td><td style=\"white-space: nowrap; max-width: 500px; overflow: hidden; text-overflow: ellipsis; \" colspan=\"1\"><div style=\"text-align: left;\"></div></td><td style=\"white-space: nowrap; max-width: 500px; overflow: hidden; text-overflow: ellipsis; \" colspan=\"1\"><div style=\"text-align: left;\"></div></td><td style=\"white-space: nowrap; max-width: 500px; overflow: hidden; text-overflow: ellipsis; \" colspan=\"1\"><div style=\"text-align: left;\"></div></td><td style=\"white-space: nowrap; max-width: 500px; overflow: hidden; text-overflow: ellipsis; \" colspan=\"1\"><div style=\"text-align: left;\"></div></td><td style=\"white-space: nowrap; max-width: 500px; overflow: hidden; text-overflow: ellipsis; \" colspan=\"1\"><div style=\"text-align: left;\"></div></td></tr><tr><td style=\"white-space: nowrap; max-width: 500px; overflow: hidden; text-overflow: ellipsis; \" colspan=\"1\"><div style=\"text-align: left;border-bottom: solid 2px #000; padding-bottom: 5px\">locus</div></td><td style=\"white-space: nowrap; max-width: 500px; overflow: hidden; text-overflow: ellipsis; \" colspan=\"1\"><div style=\"text-align: left;border-bottom: solid 2px #000; padding-bottom: 5px\">alleles</div></td><td style=\"white-space: nowrap; max-width: 500px; overflow: hidden; text-overflow: ellipsis; \" colspan=\"1\"><div style=\"text-align: left;border-bottom: solid 2px #000; padding-bottom: 5px\">n</div></td><td style=\"white-space: nowrap; max-width: 500px; overflow: hidden; text-overflow: ellipsis; \" colspan=\"1\"><div style=\"text-align: left;border-bottom: solid 2px #000; padding-bottom: 5px\">sum_x</div></td><td style=\"white-space: nowrap; max-width: 500px; overflow: hidden; text-overflow: ellipsis; \" colspan=\"1\"><div style=\"text-align: left;border-bottom: solid 2px #000; padding-bottom: 5px\">y_transpose_x</div></td><td style=\"white-space: nowrap; max-width: 500px; overflow: hidden; text-overflow: ellipsis; \" colspan=\"1\"><div style=\"text-align: left;border-bottom: solid 2px #000; padding-bottom: 5px\">beta</div></td><td style=\"white-space: nowrap; max-width: 500px; overflow: hidden; text-overflow: ellipsis; \" colspan=\"1\"><div style=\"text-align: left;border-bottom: solid 2px #000; padding-bottom: 5px\">standard_error</div></td><td style=\"white-space: nowrap; max-width: 500px; overflow: hidden; text-overflow: ellipsis; \" colspan=\"1\"><div style=\"text-align: left;border-bottom: solid 2px #000; padding-bottom: 5px\">t_stat</div></td><td style=\"white-space: nowrap; max-width: 500px; overflow: hidden; text-overflow: ellipsis; \" colspan=\"1\"><div style=\"text-align: left;border-bottom: solid 2px #000; padding-bottom: 5px\">p_value</div></td></tr><tr><td style=\"white-space: nowrap; max-width: 500px; overflow: hidden; text-overflow: ellipsis; text-align: left;\">locus&lt;GRCh38&gt;</td><td style=\"white-space: nowrap; max-width: 500px; overflow: hidden; text-overflow: ellipsis; text-align: left;\">array&lt;str&gt;</td><td style=\"white-space: nowrap; max-width: 500px; overflow: hidden; text-overflow: ellipsis; text-align: left;\">int32</td><td style=\"white-space: nowrap; max-width: 500px; overflow: hidden; text-overflow: ellipsis; text-align: left;\">float64</td><td style=\"white-space: nowrap; max-width: 500px; overflow: hidden; text-overflow: ellipsis; text-align: left;\">float64</td><td style=\"white-space: nowrap; max-width: 500px; overflow: hidden; text-overflow: ellipsis; text-align: left;\">float64</td><td style=\"white-space: nowrap; max-width: 500px; overflow: hidden; text-overflow: ellipsis; text-align: left;\">float64</td><td style=\"white-space: nowrap; max-width: 500px; overflow: hidden; text-overflow: ellipsis; text-align: left;\">float64</td><td style=\"white-space: nowrap; max-width: 500px; overflow: hidden; text-overflow: ellipsis; text-align: left;\">float64</td></tr>\n",
       "</thead><tbody><tr><td style=\"white-space: nowrap; max-width: 500px; overflow: hidden; text-overflow: ellipsis; \">chr22:50197100</td><td style=\"white-space: nowrap; max-width: 500px; overflow: hidden; text-overflow: ellipsis; \">[&quot;T&quot;,&quot;C&quot;]</td><td style=\"white-space: nowrap; max-width: 500px; overflow: hidden; text-overflow: ellipsis; \">1784</td><td style=\"white-space: nowrap; max-width: 500px; overflow: hidden; text-overflow: ellipsis; \">1.60e+01</td><td style=\"white-space: nowrap; max-width: 500px; overflow: hidden; text-overflow: ellipsis; \">2.69e+03</td><td style=\"white-space: nowrap; max-width: 500px; overflow: hidden; text-overflow: ellipsis; \">-7.92e-01</td><td style=\"white-space: nowrap; max-width: 500px; overflow: hidden; text-overflow: ellipsis; \">7.61e-01</td><td style=\"white-space: nowrap; max-width: 500px; overflow: hidden; text-overflow: ellipsis; \">-1.04e+00</td><td style=\"white-space: nowrap; max-width: 500px; overflow: hidden; text-overflow: ellipsis; \">2.98e-01</td></tr>\n",
       "<tr><td style=\"white-space: nowrap; max-width: 500px; overflow: hidden; text-overflow: ellipsis; \">chr22:50197103</td><td style=\"white-space: nowrap; max-width: 500px; overflow: hidden; text-overflow: ellipsis; \">[&quot;C&quot;,&quot;T&quot;]</td><td style=\"white-space: nowrap; max-width: 500px; overflow: hidden; text-overflow: ellipsis; \">1784</td><td style=\"white-space: nowrap; max-width: 500px; overflow: hidden; text-overflow: ellipsis; \">1.00e+00</td><td style=\"white-space: nowrap; max-width: 500px; overflow: hidden; text-overflow: ellipsis; \">1.70e+02</td><td style=\"white-space: nowrap; max-width: 500px; overflow: hidden; text-overflow: ellipsis; \">-2.82e+00</td><td style=\"white-space: nowrap; max-width: 500px; overflow: hidden; text-overflow: ellipsis; \">3.02e+00</td><td style=\"white-space: nowrap; max-width: 500px; overflow: hidden; text-overflow: ellipsis; \">-9.34e-01</td><td style=\"white-space: nowrap; max-width: 500px; overflow: hidden; text-overflow: ellipsis; \">3.50e-01</td></tr>\n",
       "<tr><td style=\"white-space: nowrap; max-width: 500px; overflow: hidden; text-overflow: ellipsis; \">chr22:50197198</td><td style=\"white-space: nowrap; max-width: 500px; overflow: hidden; text-overflow: ellipsis; \">[&quot;C&quot;,&quot;T&quot;]</td><td style=\"white-space: nowrap; max-width: 500px; overflow: hidden; text-overflow: ellipsis; \">1784</td><td style=\"white-space: nowrap; max-width: 500px; overflow: hidden; text-overflow: ellipsis; \">1.36e+03</td><td style=\"white-space: nowrap; max-width: 500px; overflow: hidden; text-overflow: ellipsis; \">2.28e+05</td><td style=\"white-space: nowrap; max-width: 500px; overflow: hidden; text-overflow: ellipsis; \">-7.60e-02</td><td style=\"white-space: nowrap; max-width: 500px; overflow: hidden; text-overflow: ellipsis; \">1.03e-01</td><td style=\"white-space: nowrap; max-width: 500px; overflow: hidden; text-overflow: ellipsis; \">-7.38e-01</td><td style=\"white-space: nowrap; max-width: 500px; overflow: hidden; text-overflow: ellipsis; \">4.60e-01</td></tr>\n",
       "<tr><td style=\"white-space: nowrap; max-width: 500px; overflow: hidden; text-overflow: ellipsis; \">chr22:50197199</td><td style=\"white-space: nowrap; max-width: 500px; overflow: hidden; text-overflow: ellipsis; \">[&quot;G&quot;,&quot;A&quot;]</td><td style=\"white-space: nowrap; max-width: 500px; overflow: hidden; text-overflow: ellipsis; \">1784</td><td style=\"white-space: nowrap; max-width: 500px; overflow: hidden; text-overflow: ellipsis; \">3.71e+02</td><td style=\"white-space: nowrap; max-width: 500px; overflow: hidden; text-overflow: ellipsis; \">6.22e+04</td><td style=\"white-space: nowrap; max-width: 500px; overflow: hidden; text-overflow: ellipsis; \">2.72e-01</td><td style=\"white-space: nowrap; max-width: 500px; overflow: hidden; text-overflow: ellipsis; \">1.95e-01</td><td style=\"white-space: nowrap; max-width: 500px; overflow: hidden; text-overflow: ellipsis; \">1.40e+00</td><td style=\"white-space: nowrap; max-width: 500px; overflow: hidden; text-overflow: ellipsis; \">1.63e-01</td></tr>\n",
       "<tr><td style=\"white-space: nowrap; max-width: 500px; overflow: hidden; text-overflow: ellipsis; \">chr22:50197199</td><td style=\"white-space: nowrap; max-width: 500px; overflow: hidden; text-overflow: ellipsis; \">[&quot;G&quot;,&quot;C&quot;]</td><td style=\"white-space: nowrap; max-width: 500px; overflow: hidden; text-overflow: ellipsis; \">1784</td><td style=\"white-space: nowrap; max-width: 500px; overflow: hidden; text-overflow: ellipsis; \">3.71e+02</td><td style=\"white-space: nowrap; max-width: 500px; overflow: hidden; text-overflow: ellipsis; \">6.22e+04</td><td style=\"white-space: nowrap; max-width: 500px; overflow: hidden; text-overflow: ellipsis; \">2.72e-01</td><td style=\"white-space: nowrap; max-width: 500px; overflow: hidden; text-overflow: ellipsis; \">1.95e-01</td><td style=\"white-space: nowrap; max-width: 500px; overflow: hidden; text-overflow: ellipsis; \">1.40e+00</td><td style=\"white-space: nowrap; max-width: 500px; overflow: hidden; text-overflow: ellipsis; \">1.63e-01</td></tr>\n",
       "<tr><td style=\"white-space: nowrap; max-width: 500px; overflow: hidden; text-overflow: ellipsis; \">chr22:50197200</td><td style=\"white-space: nowrap; max-width: 500px; overflow: hidden; text-overflow: ellipsis; \">[&quot;C&quot;,&quot;G&quot;]</td><td style=\"white-space: nowrap; max-width: 500px; overflow: hidden; text-overflow: ellipsis; \">1784</td><td style=\"white-space: nowrap; max-width: 500px; overflow: hidden; text-overflow: ellipsis; \">1.82e+02</td><td style=\"white-space: nowrap; max-width: 500px; overflow: hidden; text-overflow: ellipsis; \">3.05e+04</td><td style=\"white-space: nowrap; max-width: 500px; overflow: hidden; text-overflow: ellipsis; \">1.96e-01</td><td style=\"white-space: nowrap; max-width: 500px; overflow: hidden; text-overflow: ellipsis; \">2.36e-01</td><td style=\"white-space: nowrap; max-width: 500px; overflow: hidden; text-overflow: ellipsis; \">8.31e-01</td><td style=\"white-space: nowrap; max-width: 500px; overflow: hidden; text-overflow: ellipsis; \">4.06e-01</td></tr>\n",
       "<tr><td style=\"white-space: nowrap; max-width: 500px; overflow: hidden; text-overflow: ellipsis; \">chr22:50197205</td><td style=\"white-space: nowrap; max-width: 500px; overflow: hidden; text-overflow: ellipsis; \">[&quot;G&quot;,&quot;A&quot;]</td><td style=\"white-space: nowrap; max-width: 500px; overflow: hidden; text-overflow: ellipsis; \">1784</td><td style=\"white-space: nowrap; max-width: 500px; overflow: hidden; text-overflow: ellipsis; \">3.40e+01</td><td style=\"white-space: nowrap; max-width: 500px; overflow: hidden; text-overflow: ellipsis; \">5.72e+03</td><td style=\"white-space: nowrap; max-width: 500px; overflow: hidden; text-overflow: ellipsis; \">-1.49e-01</td><td style=\"white-space: nowrap; max-width: 500px; overflow: hidden; text-overflow: ellipsis; \">5.34e-01</td><td style=\"white-space: nowrap; max-width: 500px; overflow: hidden; text-overflow: ellipsis; \">-2.79e-01</td><td style=\"white-space: nowrap; max-width: 500px; overflow: hidden; text-overflow: ellipsis; \">7.80e-01</td></tr>\n",
       "<tr><td style=\"white-space: nowrap; max-width: 500px; overflow: hidden; text-overflow: ellipsis; \">chr22:50197285</td><td style=\"white-space: nowrap; max-width: 500px; overflow: hidden; text-overflow: ellipsis; \">[&quot;G&quot;,&quot;C&quot;]</td><td style=\"white-space: nowrap; max-width: 500px; overflow: hidden; text-overflow: ellipsis; \">1784</td><td style=\"white-space: nowrap; max-width: 500px; overflow: hidden; text-overflow: ellipsis; \">2.00e+00</td><td style=\"white-space: nowrap; max-width: 500px; overflow: hidden; text-overflow: ellipsis; \">3.17e+02</td><td style=\"white-space: nowrap; max-width: 500px; overflow: hidden; text-overflow: ellipsis; \">-3.06e+00</td><td style=\"white-space: nowrap; max-width: 500px; overflow: hidden; text-overflow: ellipsis; \">2.14e+00</td><td style=\"white-space: nowrap; max-width: 500px; overflow: hidden; text-overflow: ellipsis; \">-1.43e+00</td><td style=\"white-space: nowrap; max-width: 500px; overflow: hidden; text-overflow: ellipsis; \">1.52e-01</td></tr>\n",
       "<tr><td style=\"white-space: nowrap; max-width: 500px; overflow: hidden; text-overflow: ellipsis; \">chr22:50197300</td><td style=\"white-space: nowrap; max-width: 500px; overflow: hidden; text-overflow: ellipsis; \">[&quot;C&quot;,&quot;T&quot;]</td><td style=\"white-space: nowrap; max-width: 500px; overflow: hidden; text-overflow: ellipsis; \">1784</td><td style=\"white-space: nowrap; max-width: 500px; overflow: hidden; text-overflow: ellipsis; \">9.00e+00</td><td style=\"white-space: nowrap; max-width: 500px; overflow: hidden; text-overflow: ellipsis; \">1.51e+03</td><td style=\"white-space: nowrap; max-width: 500px; overflow: hidden; text-overflow: ellipsis; \">1.21e+00</td><td style=\"white-space: nowrap; max-width: 500px; overflow: hidden; text-overflow: ellipsis; \">1.01e+00</td><td style=\"white-space: nowrap; max-width: 500px; overflow: hidden; text-overflow: ellipsis; \">1.20e+00</td><td style=\"white-space: nowrap; max-width: 500px; overflow: hidden; text-overflow: ellipsis; \">2.31e-01</td></tr>\n",
       "<tr><td style=\"white-space: nowrap; max-width: 500px; overflow: hidden; text-overflow: ellipsis; \">chr22:50197309</td><td style=\"white-space: nowrap; max-width: 500px; overflow: hidden; text-overflow: ellipsis; \">[&quot;G&quot;,&quot;C&quot;]</td><td style=\"white-space: nowrap; max-width: 500px; overflow: hidden; text-overflow: ellipsis; \">1784</td><td style=\"white-space: nowrap; max-width: 500px; overflow: hidden; text-overflow: ellipsis; \">2.00e+00</td><td style=\"white-space: nowrap; max-width: 500px; overflow: hidden; text-overflow: ellipsis; \">3.48e+02</td><td style=\"white-space: nowrap; max-width: 500px; overflow: hidden; text-overflow: ellipsis; \">7.52e-01</td><td style=\"white-space: nowrap; max-width: 500px; overflow: hidden; text-overflow: ellipsis; \">2.14e+00</td><td style=\"white-space: nowrap; max-width: 500px; overflow: hidden; text-overflow: ellipsis; \">3.52e-01</td><td style=\"white-space: nowrap; max-width: 500px; overflow: hidden; text-overflow: ellipsis; \">7.25e-01</td></tr>\n",
       "</tbody></table><p style=\"background: #fdd; padding: 0.4em;\">showing top 10 rows</p>\n"
      ],
      "text/plain": [
       "+----------------+------------+-------+----------+---------------+-----------+\n",
       "| locus          | alleles    |     n |    sum_x | y_transpose_x |      beta |\n",
       "+----------------+------------+-------+----------+---------------+-----------+\n",
       "| locus<GRCh38>  | array<str> | int32 |  float64 |       float64 |   float64 |\n",
       "+----------------+------------+-------+----------+---------------+-----------+\n",
       "| chr22:50197100 | [\"T\",\"C\"]  |  1784 | 1.60e+01 |      2.69e+03 | -7.92e-01 |\n",
       "| chr22:50197103 | [\"C\",\"T\"]  |  1784 | 1.00e+00 |      1.70e+02 | -2.82e+00 |\n",
       "| chr22:50197198 | [\"C\",\"T\"]  |  1784 | 1.36e+03 |      2.28e+05 | -7.60e-02 |\n",
       "| chr22:50197199 | [\"G\",\"A\"]  |  1784 | 3.71e+02 |      6.22e+04 |  2.72e-01 |\n",
       "| chr22:50197199 | [\"G\",\"C\"]  |  1784 | 3.71e+02 |      6.22e+04 |  2.72e-01 |\n",
       "| chr22:50197200 | [\"C\",\"G\"]  |  1784 | 1.82e+02 |      3.05e+04 |  1.96e-01 |\n",
       "| chr22:50197205 | [\"G\",\"A\"]  |  1784 | 3.40e+01 |      5.72e+03 | -1.49e-01 |\n",
       "| chr22:50197285 | [\"G\",\"C\"]  |  1784 | 2.00e+00 |      3.17e+02 | -3.06e+00 |\n",
       "| chr22:50197300 | [\"C\",\"T\"]  |  1784 | 9.00e+00 |      1.51e+03 |  1.21e+00 |\n",
       "| chr22:50197309 | [\"G\",\"C\"]  |  1784 | 2.00e+00 |      3.48e+02 |  7.52e-01 |\n",
       "+----------------+------------+-------+----------+---------------+-----------+\n",
       "\n",
       "+----------------+-----------+----------+\n",
       "| standard_error |    t_stat |  p_value |\n",
       "+----------------+-----------+----------+\n",
       "|        float64 |   float64 |  float64 |\n",
       "+----------------+-----------+----------+\n",
       "|       7.61e-01 | -1.04e+00 | 2.98e-01 |\n",
       "|       3.02e+00 | -9.34e-01 | 3.50e-01 |\n",
       "|       1.03e-01 | -7.38e-01 | 4.60e-01 |\n",
       "|       1.95e-01 |  1.40e+00 | 1.63e-01 |\n",
       "|       1.95e-01 |  1.40e+00 | 1.63e-01 |\n",
       "|       2.36e-01 |  8.31e-01 | 4.06e-01 |\n",
       "|       5.34e-01 | -2.79e-01 | 7.80e-01 |\n",
       "|       2.14e+00 | -1.43e+00 | 1.52e-01 |\n",
       "|       1.01e+00 |  1.20e+00 | 2.31e-01 |\n",
       "|       2.14e+00 |  3.52e-01 | 7.25e-01 |\n",
       "+----------------+-----------+----------+\n",
       "showing top 10 rows"
      ]
     },
     "metadata": {},
     "output_type": "display_data"
    }
   ],
   "source": [
    "result_ht.show()"
   ]
  },
  {
   "cell_type": "markdown",
   "id": "d89f7c89",
   "metadata": {},
   "source": [
    "## Appendix\n",
    "\n",
    "- 튜토리얼 자료 다운로드 [jupyter notebook 코드](https://www.dropbox.com/s/i6empvjuv33f31f/tutorial_hail_2022.ipynb?dl=0), [데이터](https://www.dropbox.com/s/ns3lc9ffq9yib26/Archive.zip?dl=0)를 참고해주세요.\n",
    "- 튜토리얼은 자유롭게 재배포 가능합니다. 다만 자료는 제가 공개된 데이터를 임의로 변경하였기 때문에, 꼭 출처를 명시할 필요가 있습니다. 해당 튜토리얼에 대한 피드백은 joonan30@korea.ac.kr 에게 메일을 주세요. 질문은 워크샵 수업시간 외에 따로 받지 않습니다.\n",
    "\n"
   ]
  }
 ],
 "metadata": {
  "interpreter": {
   "hash": "e7d771657c62b89fcf2b2a881eaf56b2a008e6ad5b446c6572607acd00c7aea1"
  },
  "kernelspec": {
   "display_name": "Python 3 (ipykernel)",
   "language": "python",
   "name": "python3"
  },
  "language_info": {
   "codemirror_mode": {
    "name": "ipython",
    "version": 3
   },
   "file_extension": ".py",
   "mimetype": "text/x-python",
   "name": "python",
   "nbconvert_exporter": "python",
   "pygments_lexer": "ipython3",
   "version": "3.9.6"
  },
  "toc": {
   "base_numbering": 1,
   "nav_menu": {},
   "number_sections": true,
   "sideBar": true,
   "skip_h1_title": true,
   "title_cell": "Table of Contents",
   "title_sidebar": "Contents",
   "toc_cell": true,
   "toc_position": {
    "height": "695px",
    "left": "49px",
    "top": "111.125px",
    "width": "369.188px"
   },
   "toc_section_display": true,
   "toc_window_display": true
  }
 },
 "nbformat": 4,
 "nbformat_minor": 5
}
